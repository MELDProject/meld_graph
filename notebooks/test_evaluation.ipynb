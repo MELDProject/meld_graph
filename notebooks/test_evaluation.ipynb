{
 "cells": [
  {
   "cell_type": "code",
   "execution_count": 25,
   "id": "4ad09881",
   "metadata": {},
   "outputs": [],
   "source": [
    "import meld_graph\n",
    "import meld_graph.models\n",
    "import meld_graph.experiment\n",
    "import meld_graph.dataset\n",
    "import meld_graph.data_preprocessing\n",
    "import meld_graph.evaluation\n",
    "\n",
    "\n",
    "import importlib\n",
    "importlib.reload(meld_graph)\n",
    "importlib.reload(meld_graph.models)\n",
    "importlib.reload(meld_graph.dataset)\n",
    "importlib.reload(meld_graph.experiment)\n",
    "importlib.reload(meld_graph.data_preprocessing)\n",
    "importlib.reload(meld_graph.evaluation)\n",
    "\n",
    "import logging\n",
    "import os\n",
    "import json\n",
    "\n",
    "from meld_graph.dataset import GraphDataset, Oversampler\n",
    "from meld_classifier.meld_cohort import MeldCohort, MeldSubject\n",
    "from meld_graph.training import Metrics\n",
    "import numpy as np\n",
    "from meld_graph.paths import EXPERIMENT_PATH\n",
    "\n",
    "from meld_graph.evaluation import Evaluator\n",
    "\n"
   ]
  },
  {
   "cell_type": "markdown",
   "id": "fe5cad0d",
   "metadata": {},
   "source": [
    "### testing the class"
   ]
  },
  {
   "cell_type": "code",
   "execution_count": 26,
   "id": "fe84c93a",
   "metadata": {},
   "outputs": [
    {
     "name": "stderr",
     "output_type": "stream",
     "text": [
      "Initialised Experiment 22-08-01_synth_eva\n",
      "Evalution test, 0.5\n",
      "getting train val test split\n",
      "total number of subjects: 45\n",
      "total number of subjects after restricting to subjects from MELD_dataset_V6_test.csv: 9\n",
      "total number of subjects: 950\n",
      "total number of subjects after restricting to subjects from MELD_dataset_V6_test.csv: 9\n",
      "total number after filtering by scanner ['3T', '15T'], features, lesional_only True: 9\n",
      "full_feature_list: ['.combat.on_lh.curv.sm5.mgh', '.combat.on_lh.pial.K_filtered.sm20.mgh', '.combat.on_lh.sulc.sm5.mgh', '.combat.on_lh.thickness.sm10.mgh', '.combat.on_lh.w-g.pct.sm10.mgh', '.inter_z.asym.intra_z.combat.on_lh.curv.sm5.mgh', '.inter_z.asym.intra_z.combat.on_lh.pial.K_filtered.sm20.mgh', '.inter_z.asym.intra_z.combat.on_lh.sulc.sm5.mgh', '.inter_z.asym.intra_z.combat.on_lh.thickness.sm10.mgh', '.inter_z.asym.intra_z.combat.on_lh.w-g.pct.sm10.mgh', '.inter_z.intra_z.combat.on_lh.curv.sm5.mgh', '.inter_z.intra_z.combat.on_lh.pial.K_filtered.sm20.mgh', '.inter_z.intra_z.combat.on_lh.sulc.sm5.mgh', '.inter_z.intra_z.combat.on_lh.thickness.sm10.mgh', '.inter_z.intra_z.combat.on_lh.w-g.pct.sm10.mgh']\n",
      "total number after filtering by scanner ['15T', '3T'], features, lesional_only True: 9\n",
      "saving parameter files to /rds/project/kw350/rds-kw350-meld/experiments_graph/co-ripa1/22-08-01_synth_eva/fold_00\n",
      "Using coord type exact\n",
      "Loading model weights from checkpoint /rds/project/kw350/rds-kw350-meld/experiments_graph/co-ripa1/22-07-29_synth_3layer/finetune_radius0.2/fold_00/best_model.pt\n"
     ]
    },
    {
     "name": "stdout",
     "output_type": "stream",
     "text": [
      "conv 2 16\n",
      "conv 16 16\n",
      "conv 16 16\n"
     ]
    }
   ],
   "source": [
    "EXPERIMENT_PATH='/rds/project/kw350/rds-kw350-meld/experiments_graph/co-ripa1'\n",
    "checkpoint_path=os.path.join(EXPERIMENT_PATH, '22-07-29_synth_3layer/finetune_radius0.2/fold_00')\n",
    "# checkpoint_path=os.path.join(EXPERIMENT_PATH, '22-08-19_synth_unet_gamma_2_synthetic_data__bias/synthetic_data__bias_1/fold_00')\n",
    "exp = meld_graph.experiment.Experiment.from_folder(checkpoint_path)\n",
    "eva = Evaluator(experiment = exp,\n",
    "                checkpoint_path = checkpoint_path,\n",
    "                test_parameters = \"../scripts/config_files/experiment_config_mr.py\",\n",
    "                save_dir = '/rds/project/kw350/rds-kw350-meld/experiments_graph/co-ripa1/22-08-18_synth_eva',\n",
    "                make_images = True,\n",
    "                #subject_ids=['MELD_H10_3T_FCD_0001', 'MELD_H10_3T_FCD_0002', 'MELD_H10_3T_FCD_0003', 'MELD_H10_3T_FCD_0004']\n",
    "               )\n"
   ]
  },
  {
   "cell_type": "code",
   "execution_count": 27,
   "id": "7aab36fb",
   "metadata": {},
   "outputs": [
    {
     "name": "stderr",
     "output_type": "stream",
     "text": [
      "loading data and predicting model\n",
      "Loading and preprocessing data\n",
      "Combine hemis None\n",
      "Using coord type pseudo\n"
     ]
    },
    {
     "ename": "FileNotFoundError",
     "evalue": "[Errno 2] No such file or directory: '/rds/project/kw350/rds-kw350-meld/experiments_graph/co-ripa1/22-08-18_subj_eval/results/images/MELD_H10_3T_FCD_0001.jpg'",
     "output_type": "error",
     "traceback": [
      "\u001b[0;31m---------------------------------------------------------------------------\u001b[0m",
      "\u001b[0;31mFileNotFoundError\u001b[0m                         Traceback (most recent call last)",
      "\u001b[1;32m/home/co-ripa1/rds/hpc-work/scripts/meld_classifier_GDL/notebooks/test_evaluation.ipynb Cell 4\u001b[0m in \u001b[0;36m<module>\u001b[0;34m\u001b[0m\n\u001b[0;32m----> <a href='vscode-notebook-cell://ssh-remote%2Blogin-e-16.hpc.cam.ac.uk/home/co-ripa1/rds/hpc-work/scripts/meld_classifier_GDL/notebooks/test_evaluation.ipynb#W4sdnNjb2RlLXJlbW90ZQ%3D%3D?line=0'>1</a>\u001b[0m eva\u001b[39m.\u001b[39;49mevaluate()\n",
      "File \u001b[0;32m/rds/user/co-ripa1/hpc-work/scripts/meld_classifier_GDL/meld_graph/evaluation.py:120\u001b[0m, in \u001b[0;36mEvaluator.evaluate\u001b[0;34m(self)\u001b[0m\n\u001b[1;32m    118\u001b[0m \u001b[39m# make images if asked for\u001b[39;00m\n\u001b[1;32m    119\u001b[0m \u001b[39mif\u001b[39;00m \u001b[39mself\u001b[39m\u001b[39m.\u001b[39mmake_images:\n\u001b[0;32m--> 120\u001b[0m     \u001b[39mself\u001b[39;49m\u001b[39m.\u001b[39;49mplot_subjects_prediction()\n",
      "File \u001b[0;32m/rds/user/co-ripa1/hpc-work/scripts/meld_classifier_GDL/meld_graph/evaluation.py:283\u001b[0m, in \u001b[0;36mEvaluator.plot_subjects_prediction\u001b[0;34m(self, rootfile, flat_map)\u001b[0m\n\u001b[1;32m    276\u001b[0m     flat \u001b[39m=\u001b[39m nb\u001b[39m.\u001b[39mload(\n\u001b[1;32m    277\u001b[0m         os\u001b[39m.\u001b[39mpath\u001b[39m.\u001b[39mjoin(\n\u001b[1;32m    278\u001b[0m             BASE_PATH, \u001b[39m\"\u001b[39m\u001b[39mfsaverage_sym\u001b[39m\u001b[39m\"\u001b[39m, \u001b[39m\"\u001b[39m\u001b[39msurf\u001b[39m\u001b[39m\"\u001b[39m, \u001b[39m\"\u001b[39m\u001b[39mlh.full.patch.flat.gii\u001b[39m\u001b[39m\"\u001b[39m\n\u001b[1;32m    279\u001b[0m         )\n\u001b[1;32m    280\u001b[0m     )\n\u001b[1;32m    281\u001b[0m     coords, faces \u001b[39m=\u001b[39m flat\u001b[39m.\u001b[39mdarrays[\u001b[39m0\u001b[39m]\u001b[39m.\u001b[39mdata, flat\u001b[39m.\u001b[39mdarrays[\u001b[39m1\u001b[39m]\u001b[39m.\u001b[39mdata\n\u001b[0;32m--> 283\u001b[0m msp\u001b[39m.\u001b[39;49mplot_surf(\n\u001b[1;32m    284\u001b[0m     coords,\n\u001b[1;32m    285\u001b[0m     faces,\n\u001b[1;32m    286\u001b[0m     [\n\u001b[1;32m    287\u001b[0m         result_hemis[\u001b[39m\"\u001b[39;49m\u001b[39mleft\u001b[39;49m\u001b[39m\"\u001b[39;49m],\n\u001b[1;32m    288\u001b[0m         \u001b[39m# thresholded[\"left\"],\u001b[39;49;00m\n\u001b[1;32m    289\u001b[0m         label_hemis[\u001b[39m\"\u001b[39;49m\u001b[39mleft\u001b[39;49m\u001b[39m\"\u001b[39;49m],\n\u001b[1;32m    290\u001b[0m         result_hemis[\u001b[39m\"\u001b[39;49m\u001b[39mright\u001b[39;49m\u001b[39m\"\u001b[39;49m],\n\u001b[1;32m    291\u001b[0m         \u001b[39m# thresholded[\"right\"],\u001b[39;49;00m\n\u001b[1;32m    292\u001b[0m         label_hemis[\u001b[39m\"\u001b[39;49m\u001b[39mright\u001b[39;49m\u001b[39m\"\u001b[39;49m],\n\u001b[1;32m    293\u001b[0m     ],\n\u001b[1;32m    294\u001b[0m     flat_map\u001b[39m=\u001b[39;49mflat_map,\n\u001b[1;32m    295\u001b[0m     rotate\u001b[39m=\u001b[39;49m[\u001b[39m90\u001b[39;49m, \u001b[39m270\u001b[39;49m],\n\u001b[1;32m    296\u001b[0m     filename\u001b[39m=\u001b[39;49mfilename,\n\u001b[1;32m    297\u001b[0m     vmin\u001b[39m=\u001b[39;49m\u001b[39m0.4\u001b[39;49m,\n\u001b[1;32m    298\u001b[0m     vmax\u001b[39m=\u001b[39;49m\u001b[39m0.6\u001b[39;49m,\n\u001b[1;32m    299\u001b[0m )\n\u001b[1;32m    300\u001b[0m plt\u001b[39m.\u001b[39mclose(\u001b[39m\"\u001b[39m\u001b[39mall\u001b[39m\u001b[39m\"\u001b[39m)\n",
      "File \u001b[0;32m~/.conda/envs/meld_graph/lib/python3.9/site-packages/matplotlib_surface_plotting/matplotlib_surface_plotting.py:425\u001b[0m, in \u001b[0;36mplot_surf\u001b[0;34m(vertices, faces, overlay, rotate, cmap, filename, label, vmax, vmin, x_rotate, pvals, colorbar, cmap_label, title, mask, base_size, arrows, arrow_subset, arrow_size, arrow_colours, arrow_head, arrow_width, mask_colour, transparency, show_back, alpha_colour, flat_map, z_rotate, parcel, parcel_cmap, filled_parcels, return_ax)\u001b[0m\n\u001b[1;32m    423\u001b[0m     cbar\u001b[39m.\u001b[39max\u001b[39m.\u001b[39mset_title(cmap_label, fontsize\u001b[39m=\u001b[39m\u001b[39m25\u001b[39m, pad \u001b[39m=\u001b[39m \u001b[39m30\u001b[39m)\n\u001b[1;32m    424\u001b[0m \u001b[39mif\u001b[39;00m filename \u001b[39mis\u001b[39;00m \u001b[39mnot\u001b[39;00m \u001b[39mNone\u001b[39;00m:\n\u001b[0;32m--> 425\u001b[0m     fig\u001b[39m.\u001b[39;49msavefig(filename,bbox_inches \u001b[39m=\u001b[39;49m \u001b[39m'\u001b[39;49m\u001b[39mtight\u001b[39;49m\u001b[39m'\u001b[39;49m,pad_inches\u001b[39m=\u001b[39;49m\u001b[39m0\u001b[39;49m,transparent\u001b[39m=\u001b[39;49m\u001b[39mTrue\u001b[39;49;00m)\n\u001b[1;32m    426\u001b[0m \u001b[39mif\u001b[39;00m return_ax:\n\u001b[1;32m    427\u001b[0m     \u001b[39mreturn\u001b[39;00m fig,ax,MVP\n",
      "File \u001b[0;32m~/.conda/envs/meld_graph/lib/python3.9/site-packages/matplotlib/figure.py:3019\u001b[0m, in \u001b[0;36mFigure.savefig\u001b[0;34m(self, fname, transparent, **kwargs)\u001b[0m\n\u001b[1;32m   3015\u001b[0m     \u001b[39mfor\u001b[39;00m ax \u001b[39min\u001b[39;00m \u001b[39mself\u001b[39m\u001b[39m.\u001b[39maxes:\n\u001b[1;32m   3016\u001b[0m         stack\u001b[39m.\u001b[39menter_context(\n\u001b[1;32m   3017\u001b[0m             ax\u001b[39m.\u001b[39mpatch\u001b[39m.\u001b[39m_cm_set(facecolor\u001b[39m=\u001b[39m\u001b[39m'\u001b[39m\u001b[39mnone\u001b[39m\u001b[39m'\u001b[39m, edgecolor\u001b[39m=\u001b[39m\u001b[39m'\u001b[39m\u001b[39mnone\u001b[39m\u001b[39m'\u001b[39m))\n\u001b[0;32m-> 3019\u001b[0m \u001b[39mself\u001b[39;49m\u001b[39m.\u001b[39;49mcanvas\u001b[39m.\u001b[39;49mprint_figure(fname, \u001b[39m*\u001b[39;49m\u001b[39m*\u001b[39;49mkwargs)\n",
      "File \u001b[0;32m~/.conda/envs/meld_graph/lib/python3.9/site-packages/matplotlib/backend_bases.py:2319\u001b[0m, in \u001b[0;36mFigureCanvasBase.print_figure\u001b[0;34m(self, filename, dpi, facecolor, edgecolor, orientation, format, bbox_inches, pad_inches, bbox_extra_artists, backend, **kwargs)\u001b[0m\n\u001b[1;32m   2315\u001b[0m \u001b[39mtry\u001b[39;00m:\n\u001b[1;32m   2316\u001b[0m     \u001b[39m# _get_renderer may change the figure dpi (as vector formats\u001b[39;00m\n\u001b[1;32m   2317\u001b[0m     \u001b[39m# force the figure dpi to 72), so we need to set it again here.\u001b[39;00m\n\u001b[1;32m   2318\u001b[0m     \u001b[39mwith\u001b[39;00m cbook\u001b[39m.\u001b[39m_setattr_cm(\u001b[39mself\u001b[39m\u001b[39m.\u001b[39mfigure, dpi\u001b[39m=\u001b[39mdpi):\n\u001b[0;32m-> 2319\u001b[0m         result \u001b[39m=\u001b[39m print_method(\n\u001b[1;32m   2320\u001b[0m             filename,\n\u001b[1;32m   2321\u001b[0m             facecolor\u001b[39m=\u001b[39;49mfacecolor,\n\u001b[1;32m   2322\u001b[0m             edgecolor\u001b[39m=\u001b[39;49medgecolor,\n\u001b[1;32m   2323\u001b[0m             orientation\u001b[39m=\u001b[39;49morientation,\n\u001b[1;32m   2324\u001b[0m             bbox_inches_restore\u001b[39m=\u001b[39;49m_bbox_inches_restore,\n\u001b[1;32m   2325\u001b[0m             \u001b[39m*\u001b[39;49m\u001b[39m*\u001b[39;49mkwargs)\n\u001b[1;32m   2326\u001b[0m \u001b[39mfinally\u001b[39;00m:\n\u001b[1;32m   2327\u001b[0m     \u001b[39mif\u001b[39;00m bbox_inches \u001b[39mand\u001b[39;00m restore_bbox:\n",
      "File \u001b[0;32m~/.conda/envs/meld_graph/lib/python3.9/site-packages/matplotlib/backend_bases.py:1648\u001b[0m, in \u001b[0;36m_check_savefig_extra_args.<locals>.wrapper\u001b[0;34m(*args, **kwargs)\u001b[0m\n\u001b[1;32m   1640\u001b[0m     _api\u001b[39m.\u001b[39mwarn_deprecated(\n\u001b[1;32m   1641\u001b[0m         \u001b[39m'\u001b[39m\u001b[39m3.3\u001b[39m\u001b[39m'\u001b[39m, name\u001b[39m=\u001b[39mname, removal\u001b[39m=\u001b[39m\u001b[39m'\u001b[39m\u001b[39m3.6\u001b[39m\u001b[39m'\u001b[39m,\n\u001b[1;32m   1642\u001b[0m         message\u001b[39m=\u001b[39m\u001b[39m'\u001b[39m\u001b[39m%(name)s\u001b[39;00m\u001b[39m() got unexpected keyword argument \u001b[39m\u001b[39m\"\u001b[39m\u001b[39m'\u001b[39m\n\u001b[1;32m   1643\u001b[0m                 \u001b[39m+\u001b[39m arg \u001b[39m+\u001b[39m \u001b[39m'\u001b[39m\u001b[39m\"\u001b[39m\u001b[39m which is no longer supported as of \u001b[39m\u001b[39m'\u001b[39m\n\u001b[1;32m   1644\u001b[0m                 \u001b[39m'\u001b[39m\u001b[39m%(since)s\u001b[39;00m\u001b[39m and will become an error \u001b[39m\u001b[39m'\u001b[39m\n\u001b[1;32m   1645\u001b[0m                 \u001b[39m'\u001b[39m\u001b[39m%(removal)s\u001b[39;00m\u001b[39m'\u001b[39m)\n\u001b[1;32m   1646\u001b[0m     kwargs\u001b[39m.\u001b[39mpop(arg)\n\u001b[0;32m-> 1648\u001b[0m \u001b[39mreturn\u001b[39;00m func(\u001b[39m*\u001b[39;49margs, \u001b[39m*\u001b[39;49m\u001b[39m*\u001b[39;49mkwargs)\n",
      "File \u001b[0;32m~/.conda/envs/meld_graph/lib/python3.9/site-packages/matplotlib/_api/deprecation.py:412\u001b[0m, in \u001b[0;36mdelete_parameter.<locals>.wrapper\u001b[0;34m(*inner_args, **inner_kwargs)\u001b[0m\n\u001b[1;32m    402\u001b[0m     deprecation_addendum \u001b[39m=\u001b[39m (\n\u001b[1;32m    403\u001b[0m         \u001b[39mf\u001b[39m\u001b[39m\"\u001b[39m\u001b[39mIf any parameter follows \u001b[39m\u001b[39m{\u001b[39;00mname\u001b[39m!r}\u001b[39;00m\u001b[39m, they should be passed as \u001b[39m\u001b[39m\"\u001b[39m\n\u001b[1;32m    404\u001b[0m         \u001b[39mf\u001b[39m\u001b[39m\"\u001b[39m\u001b[39mkeyword, not positionally.\u001b[39m\u001b[39m\"\u001b[39m)\n\u001b[1;32m    405\u001b[0m     warn_deprecated(\n\u001b[1;32m    406\u001b[0m         since,\n\u001b[1;32m    407\u001b[0m         name\u001b[39m=\u001b[39m\u001b[39mrepr\u001b[39m(name),\n\u001b[0;32m   (...)\u001b[0m\n\u001b[1;32m    410\u001b[0m                  \u001b[39melse\u001b[39;00m deprecation_addendum,\n\u001b[1;32m    411\u001b[0m         \u001b[39m*\u001b[39m\u001b[39m*\u001b[39mkwargs)\n\u001b[0;32m--> 412\u001b[0m \u001b[39mreturn\u001b[39;00m func(\u001b[39m*\u001b[39;49minner_args, \u001b[39m*\u001b[39;49m\u001b[39m*\u001b[39;49minner_kwargs)\n",
      "File \u001b[0;32m~/.conda/envs/meld_graph/lib/python3.9/site-packages/matplotlib/backends/backend_agg.py:583\u001b[0m, in \u001b[0;36mFigureCanvasAgg.print_jpg\u001b[0;34m(self, filename_or_obj, pil_kwargs, *args, **kwargs)\u001b[0m\n\u001b[1;32m    581\u001b[0m pil_kwargs\u001b[39m.\u001b[39msetdefault(\u001b[39m\"\u001b[39m\u001b[39mdpi\u001b[39m\u001b[39m\"\u001b[39m, (\u001b[39mself\u001b[39m\u001b[39m.\u001b[39mfigure\u001b[39m.\u001b[39mdpi, \u001b[39mself\u001b[39m\u001b[39m.\u001b[39mfigure\u001b[39m.\u001b[39mdpi))\n\u001b[1;32m    582\u001b[0m \u001b[39m# Drop alpha channel now.\u001b[39;00m\n\u001b[0;32m--> 583\u001b[0m \u001b[39mreturn\u001b[39;00m (Image\u001b[39m.\u001b[39;49mfromarray(np\u001b[39m.\u001b[39;49masarray(\u001b[39mself\u001b[39;49m\u001b[39m.\u001b[39;49mbuffer_rgba())[\u001b[39m.\u001b[39;49m\u001b[39m.\u001b[39;49m\u001b[39m.\u001b[39;49m, :\u001b[39m3\u001b[39;49m])\n\u001b[1;32m    584\u001b[0m         \u001b[39m.\u001b[39;49msave(filename_or_obj, \u001b[39mformat\u001b[39;49m\u001b[39m=\u001b[39;49m\u001b[39m'\u001b[39;49m\u001b[39mjpeg\u001b[39;49m\u001b[39m'\u001b[39;49m, \u001b[39m*\u001b[39;49m\u001b[39m*\u001b[39;49mpil_kwargs))\n",
      "File \u001b[0;32m~/.conda/envs/meld_graph/lib/python3.9/site-packages/PIL/Image.py:2209\u001b[0m, in \u001b[0;36mImage.save\u001b[0;34m(self, fp, format, **params)\u001b[0m\n\u001b[1;32m   2207\u001b[0m         fp \u001b[39m=\u001b[39m builtins\u001b[39m.\u001b[39mopen(filename, \u001b[39m\"\u001b[39m\u001b[39mr+b\u001b[39m\u001b[39m\"\u001b[39m)\n\u001b[1;32m   2208\u001b[0m     \u001b[39melse\u001b[39;00m:\n\u001b[0;32m-> 2209\u001b[0m         fp \u001b[39m=\u001b[39m builtins\u001b[39m.\u001b[39;49mopen(filename, \u001b[39m\"\u001b[39;49m\u001b[39mw+b\u001b[39;49m\u001b[39m\"\u001b[39;49m)\n\u001b[1;32m   2211\u001b[0m \u001b[39mtry\u001b[39;00m:\n\u001b[1;32m   2212\u001b[0m     save_handler(\u001b[39mself\u001b[39m, fp, filename)\n",
      "\u001b[0;31mFileNotFoundError\u001b[0m: [Errno 2] No such file or directory: '/rds/project/kw350/rds-kw350-meld/experiments_graph/co-ripa1/22-08-18_subj_eval/results/images/MELD_H10_3T_FCD_0001.jpg'"
     ]
    },
    {
     "data": {
      "image/png": "[encoded data removed]",
      "text/plain": [
       "<Figure size 720x1440 with 6 Axes>"
      ]
     },
     "metadata": {
      "needs_background": "light"
     },
     "output_type": "display_data"
    }
   ],
   "source": [
    "eva.evaluate()"
   ]
  },
  {
   "cell_type": "code",
   "execution_count": null,
   "id": "70714388",
   "metadata": {},
   "outputs": [],
   "source": [
    "data_loader = eva.load_predict_data()"
   ]
  },
  {
   "cell_type": "markdown",
   "id": "d48ca6cc",
   "metadata": {},
   "source": [
    "## Evaluation using baseline model"
   ]
  },
  {
   "cell_type": "code",
   "execution_count": null,
   "id": "8a450362",
   "metadata": {},
   "outputs": [],
   "source": [
    "config = load_config(\"../scripts/config_files/experiment_config_mr.py\")\n",
    "print(config.data_parameters)\n",
    "print(config.network_parameters)"
   ]
  },
  {
   "cell_type": "code",
   "execution_count": null,
   "id": "1f969529",
   "metadata": {},
   "outputs": [],
   "source": [
    "config.network_parameters['name'] += '/test_eval'\n",
    "config.network_parameters['training_parameters']['init_weights'] = 'finetune_radius0.2/fold_00/best_model.pt'\n",
    "print(config.network_parameters['name'])"
   ]
  },
  {
   "cell_type": "code",
   "execution_count": null,
   "id": "1da85902",
   "metadata": {},
   "outputs": [],
   "source": [
    "exp = meld_graph.experiment.Experiment(config.network_parameters, config.data_parameters, verbose=logging.INFO)"
   ]
  },
  {
   "cell_type": "code",
   "execution_count": null,
   "id": "e50aeeda",
   "metadata": {
    "scrolled": true
   },
   "outputs": [],
   "source": [
    "# \n",
    "import torch\n",
    "exp.load_model(checkpoint_path='/rds/project/kw350/rds-kw350-meld/experiments_graph/co-spit1/22-07-29_synth_3layer/finetune_radius0.2/fold_00/best_model.pt', \n",
    "               force=True )"
   ]
  },
  {
   "cell_type": "code",
   "execution_count": null,
   "id": "cd6e7e74",
   "metadata": {},
   "outputs": [],
   "source": [
    "# create dataset for evaluation\n",
    "from meld_graph.dataset import GraphDataset\n",
    "from meld_classifier.meld_cohort import MeldCohort\n",
    "\n",
    "# initiate params\n",
    "subjects = []\n",
    "features = ['.combat.on_lh.thickness.sm10.mgh',\n",
    "        '.combat.on_lh.pial.K_filtered.sm20.mgh',]\n",
    "\n",
    "params = {                \n",
    "          'combine_hemis': None,\n",
    "          'lobes': False,\n",
    "          'features':features,\n",
    "          \"preprocessing_parameters\": {\n",
    "                    \"scaling\": None,\n",
    "                    },\n",
    "          \"augment_data\": {},\n",
    "          \"lesion_bias\": 10,\n",
    "          'synthetic_data': {\n",
    "            'n_subs': 100,\n",
    "            #amount of bias\n",
    "            'bias': 0.5,\n",
    "            #mean radii of lesions\n",
    "            'radius':0.5,\n",
    "            'n_subtypes':5,\n",
    "                },\n",
    "     'metrics': ['dice_lesion', 'dice_nonlesion', 'precision', 'recall', 'tp', 'fp', 'fn', 'tn', 'sensitivity'],\n",
    "         }\n",
    "\n",
    "\n",
    "cohort = MeldCohort(hdf5_file_root='{site_code}_{group}_featurematrix.hdf5')\n",
    "dataset = GraphDataset(subjects, cohort, params )"
   ]
  },
  {
   "cell_type": "code",
   "execution_count": null,
   "id": "7bb5455b",
   "metadata": {},
   "outputs": [],
   "source": [
    "data_loader = torch_geometric.loader.DataLoader(dataset,\n",
    "            shuffle=False, )"
   ]
  },
  {
   "cell_type": "code",
   "execution_count": null,
   "id": "8612d2b3",
   "metadata": {
    "scrolled": true
   },
   "outputs": [],
   "source": [
    "#predict \n",
    "import torch_geometric.data\n",
    "from meld_graph.training import Metrics\n",
    "\n",
    "device = torch.device('cuda:0' if torch.cuda.is_available() else 'cpu')\n",
    "data_loader = torch_geometric.loader.DataLoader(dataset,\n",
    "            shuffle=False, batch_size=2)\n",
    "metrics = Metrics(params['metrics'])  # for keeping track of running metrics\n",
    "for data in data_loader:\n",
    "    print('loader')\n",
    "    data = data.to(device)\n",
    "    estimates = exp.model(data.x)\n",
    "    labels = data.y.squeeze()   \n",
    "    # metrics\n",
    "    pred = torch.argmax(estimates[0], axis=1)\n",
    "    # update running metrics\n",
    "    metrics.update(pred, labels)\n",
    "\n",
    "metrics.get_aggregated_metrics()"
   ]
  },
  {
   "cell_type": "code",
   "execution_count": null,
   "id": "3febb50e",
   "metadata": {},
   "outputs": [],
   "source": [
    "#plot lesion\n",
    "import matplotlib_surface_plotting as msp\n",
    "from meld_graph.icospheres import IcoSpheres\n",
    "\n",
    "#initialise the icosphere\n",
    "icos=IcoSpheres(conv_type='SpiralConv')\n",
    "ico_index=7\n",
    "ico_ini = icos.icospheres[ico_index]\n",
    "\n",
    "#plot example of feature on icosphere for 1 subject\n",
    "msp.plot_surf(ico_ini['coords'],\n",
    "              ico_ini['faces'],\n",
    "              pred.numpy()[0:163842], \n",
    "              parcel=labels.numpy()[0:163842], \n",
    "              parcel_cmap={1:[1,0,0,0]},\n",
    "              colorbar=False, rotate=[50,250], \n",
    "                 )\n"
   ]
  },
  {
   "cell_type": "code",
   "execution_count": null,
   "id": "afbb7b0f",
   "metadata": {},
   "outputs": [],
   "source": []
  },
  {
   "cell_type": "code",
   "execution_count": null,
   "id": "bfc4bcc1",
   "metadata": {},
   "outputs": [],
   "source": [
    "#plot lesion\n",
    "import matplotlib_surface_plotting as msp\n",
    "from meld_graph.icospheres import IcoSpheres\n",
    "\n",
    "#initialise the icosphere\n",
    "icos=IcoSpheres(conv_type='SpiralConv')\n",
    "ico_index=7\n",
    "ico_ini = icos.icospheres[ico_index]\n",
    "\n",
    "#plot example of feature on icosphere for 1 subject\n",
    "index = 3\n",
    "feat=1\n",
    "features_subj, labels_subj = dataset.data_list[index]\n",
    "msp.plot_surf(ico_ini['coords'],\n",
    "              ico_ini['faces'],\n",
    "              features_subj[:,feat], \n",
    "              parcel=labels_subj, \n",
    "              parcel_cmap={1:[1,0,0,0]},\n",
    "              colorbar=False, rotate=[150,250], \n",
    "                 )\n"
   ]
  },
  {
   "cell_type": "code",
   "execution_count": null,
   "id": "2bcb9ec4",
   "metadata": {},
   "outputs": [],
   "source": [
    "len(dataset.data_list)"
   ]
  },
  {
   "cell_type": "code",
   "execution_count": null,
   "id": "aadf5468",
   "metadata": {},
   "outputs": [],
   "source": [
    "lesions=[]\n",
    "for i in range(0, len(dataset.data_list)):\n",
    "    data_sub=dataset.data_list[i]\n",
    "    lesions.append(data_sub[1])"
   ]
  },
  {
   "cell_type": "code",
   "execution_count": null,
   "id": "06160397",
   "metadata": {},
   "outputs": [],
   "source": [
    "np.unique(lesions, axis=0)"
   ]
  },
  {
   "cell_type": "code",
   "execution_count": null,
   "id": "97fb0fa5",
   "metadata": {},
   "outputs": [],
   "source": [
    "features_subj0, labels_subj0 = dataset.data_list[0]\n",
    "features_subj1, labels_subj1 = dataset.data_list[1]"
   ]
  },
  {
   "cell_type": "code",
   "execution_count": null,
   "id": "8cb1ad8b",
   "metadata": {},
   "outputs": [],
   "source": [
    "(features_subj0==features_subj1).all()"
   ]
  }
 ],
 "metadata": {
  "kernelspec": {
   "display_name": "Python 3.9.10 ('meld_graph')",
   "language": "python",
   "name": "python3"
  },
  "language_info": {
   "codemirror_mode": {
    "name": "ipython",
    "version": 3
   },
   "file_extension": ".py",
   "mimetype": "text/x-python",
   "name": "python",
   "nbconvert_exporter": "python",
   "pygments_lexer": "ipython3",
   "version": "3.9.10"
  },
  "vscode": {
   "interpreter": {
    "hash": "c0176ae289e59992559f0c449061dac3c0e6a1074598f8b14680b865216cf195"
   }
  }
 },
 "nbformat": 4,
 "nbformat_minor": 5
}
