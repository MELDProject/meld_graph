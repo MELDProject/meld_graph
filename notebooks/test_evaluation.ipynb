{
 "cells": [
  {
   "cell_type": "code",
   "execution_count": 1,
   "id": "4ad09881",
   "metadata": {},
   "outputs": [
    {
     "name": "stdout",
     "output_type": "stream",
     "text": [
      "Setting MELD_DATA_PATH to /rds/project/kw350/rds-kw350-meld/meld_data/Data\n",
      "Setting BASE_PATH to /rds/project/kw350/rds-kw350-meld/meld_data/Data\n",
      "Setting EXPERIMENT_PATH to /rds/project/kw350/rds-kw350-meld/experiments/co-ripa1/\n",
      "Setting FS_SUBJECTS_PATH to \n",
      "Setting EXPERIMENT_PATH to /rds/project/kw350/rds-kw350-meld/experiments_graph/co-ripa1\n"
     ]
    }
   ],
   "source": [
    "import meld_graph\n",
    "import meld_graph.models\n",
    "import meld_graph.experiment\n",
    "import meld_graph.dataset\n",
    "import meld_graph.data_preprocessing\n",
    "import meld_graph.evaluation\n",
    "\n",
    "\n",
    "import importlib\n",
    "importlib.reload(meld_graph)\n",
    "importlib.reload(meld_graph.models)\n",
    "importlib.reload(meld_graph.dataset)\n",
    "importlib.reload(meld_graph.experiment)\n",
    "importlib.reload(meld_graph.data_preprocessing)\n",
    "importlib.reload(meld_graph.evaluation)\n",
    "\n",
    "import logging\n",
    "import os\n",
    "import json\n",
    "\n",
    "from meld_graph.dataset import GraphDataset, Oversampler\n",
    "from meld_classifier.meld_cohort import MeldCohort, MeldSubject\n",
    "from meld_graph.training import Metrics\n",
    "import numpy as np\n",
    "from meld_graph.paths import EXPERIMENT_PATH\n",
    "\n",
    "from meld_graph.evaluation import Evaluator\n",
    "\n"
   ]
  },
  {
   "cell_type": "markdown",
   "id": "fe5cad0d",
   "metadata": {},
   "source": [
    "### testing the class"
   ]
  },
  {
   "cell_type": "code",
   "execution_count": 2,
   "id": "5c30e21f",
   "metadata": {},
   "outputs": [
    {
     "name": "stdout",
     "output_type": "stream",
     "text": [
      "dataset using distance_maps\n"
     ]
    }
   ],
   "source": [
    "#initialise dataset\n",
    "\n",
    "cohort= MeldCohort(hdf5_file_root='{site_code}_{group}_featurematrix_combat_6.hdf5', dataset='MELD_dataset_V6.csv')\n",
    "\n",
    "# initialise subjects manually in list or get from a csv dataset\n",
    "subject_ids, trainval_ids, test_ids  = cohort.read_subject_ids_from_dataset()\n",
    "\n",
    "subjects = ['MELD_H4_3T_FCD_0002',\n",
    "# 'MELD_H4_15T_FCD_0002','MELD_H4_15T_C_0004','MELD_H4_15T_C_0005'\n",
    "]\n",
    "\n",
    "features= [\n",
    "          '.combat.on_lh.pial.K_filtered.sm20.mgh',\n",
    "          '.combat.on_lh.thickness.sm10.mgh',\n",
    "          '.combat.on_lh.w-g.pct.sm10.mgh',\n",
    "          '.combat.on_lh.sulc.sm5.mgh',\n",
    "          '.combat.on_lh.curv.sm5.mgh',\n",
    "          '.combat.on_lh.gm_FLAIR_0.75.sm10.mgh',\n",
    "          '.combat.on_lh.gm_FLAIR_0.5.sm10.mgh',\n",
    "          '.combat.on_lh.gm_FLAIR_0.25.sm10.mgh',\n",
    "          '.combat.on_lh.gm_FLAIR_0.sm10.mgh',\n",
    "          '.combat.on_lh.wm_FLAIR_0.5.sm10.mgh',\n",
    "          '.combat.on_lh.wm_FLAIR_1.sm10.mgh',\n",
    "          '.inter_z.intra_z.combat.on_lh.pial.K_filtered.sm20.mgh',\n",
    "          '.inter_z.intra_z.combat.on_lh.thickness.sm10.mgh',\n",
    "          '.inter_z.intra_z.combat.on_lh.w-g.pct.sm10.mgh',\n",
    "          '.inter_z.intra_z.combat.on_lh.sulc.sm5.mgh',\n",
    "          '.inter_z.intra_z.combat.on_lh.curv.sm5.mgh',\n",
    "          '.inter_z.intra_z.combat.on_lh.gm_FLAIR_0.75.sm10.mgh',\n",
    "          '.inter_z.intra_z.combat.on_lh.gm_FLAIR_0.5.sm10.mgh',\n",
    "          '.inter_z.intra_z.combat.on_lh.gm_FLAIR_0.25.sm10.mgh',\n",
    "          '.inter_z.intra_z.combat.on_lh.gm_FLAIR_0.sm10.mgh',\n",
    "          '.inter_z.intra_z.combat.on_lh.wm_FLAIR_0.5.sm10.mgh',\n",
    "          '.inter_z.intra_z.combat.on_lh.wm_FLAIR_1.sm10.mgh',\n",
    "          '.inter_z.asym.intra_z.combat.on_lh.pial.K_filtered.sm20.mgh',\n",
    "          '.inter_z.asym.intra_z.combat.on_lh.thickness.sm10.mgh',\n",
    "          '.inter_z.asym.intra_z.combat.on_lh.w-g.pct.sm10.mgh',\n",
    "          '.inter_z.asym.intra_z.combat.on_lh.sulc.sm5.mgh',\n",
    "          '.inter_z.asym.intra_z.combat.on_lh.curv.sm5.mgh',\n",
    "          '.inter_z.asym.intra_z.combat.on_lh.gm_FLAIR_0.75.sm10.mgh',\n",
    "          '.inter_z.asym.intra_z.combat.on_lh.gm_FLAIR_0.5.sm10.mgh',\n",
    "          '.inter_z.asym.intra_z.combat.on_lh.gm_FLAIR_0.25.sm10.mgh',\n",
    "          '.inter_z.asym.intra_z.combat.on_lh.gm_FLAIR_0.sm10.mgh',\n",
    "          '.inter_z.asym.intra_z.combat.on_lh.wm_FLAIR_0.5.sm10.mgh',\n",
    "          '.inter_z.asym.intra_z.combat.on_lh.wm_FLAIR_1.sm10.mgh',]\n",
    "\n",
    "# initiate params\n",
    "params = {                \n",
    "          \"features\":features,\n",
    "          \"augment_data\": {}, \n",
    "          \"lesion_bias\":0,\n",
    "          \"lobes\": False,\n",
    "          \"synthetic_data\": {\n",
    "              'run_synthetic': False,\n",
    "              # 'n_subs': 200,\n",
    "              # 'use_controls': True,\n",
    "              # 'radius': 0.5,\n",
    "              # 'n_subtypes': 25,\n",
    "              # 'jitter_factor': 2,\n",
    "              # 'bias': 1,\n",
    "              # 'proportion_features_abnormal': 0.2,\n",
    "              # 'proportion_hemispheres_lesional': 0.9,\n",
    "            },\n",
    "          \"number_of_folds\": 10,\n",
    "          \"preprocessing_parameters\": {\n",
    "              \"scaling\": None, \n",
    "              \"zscore\": '../data/feature_means.json',\n",
    "            },\n",
    "          \"combine_hemis\": None,\n",
    "          }\n",
    "\n",
    "#load dataset\n",
    "dataset = GraphDataset(subjects, cohort, params, mode='test')\n"
   ]
  },
  {
   "cell_type": "markdown",
   "id": "f6035c4a",
   "metadata": {},
   "source": [
    "### Load model and predict"
   ]
  },
  {
   "cell_type": "code",
   "execution_count": 23,
   "id": "7b23b9f0",
   "metadata": {},
   "outputs": [],
   "source": [
    "importlib.reload(meld_graph.evaluation)\n",
    "from meld_graph.evaluation import Evaluator"
   ]
  },
  {
   "cell_type": "code",
   "execution_count": 9,
   "id": "fe84c93a",
   "metadata": {},
   "outputs": [],
   "source": [
    "# initialise models you want to run\n",
    "EXPERIMENT_PATH='/rds/project/kw350/rds-kw350-meld/experiments_graph/co-ripa1'\n",
    "\n",
    "model_name = 'random1'\n",
    "model_path =  '/rds/project/kw350/rds-kw350-meld/experiments_graph/kw350/22-10-24_synth/3layers/finetune_real/fold_00/'"
   ]
  },
  {
   "cell_type": "code",
   "execution_count": 24,
   "id": "40e72565",
   "metadata": {},
   "outputs": [],
   "source": [
    "# initialise models you want to run\n",
    "EXPERIMENT_PATH='/rds/project/kw350/rds-kw350-meld/experiments_graph/co-ripa1'\n",
    "\n",
    "model_name = 'random2'\n",
    "model_path =  '/rds/project/kw350/rds-kw350-meld/experiments_graph/kw350/22-12-11_losses/loss_distance_ce_real/fold_00/'"
   ]
  },
  {
   "cell_type": "code",
   "execution_count": 25,
   "id": "4a1db6ef",
   "metadata": {},
   "outputs": [
    {
     "name": "stderr",
     "output_type": "stream",
     "text": [
      "Initialised Experiment 22-12-11_losses/loss_distance_ce_real\n",
      "Creating model\n",
      "Loading model weights from checkpoint /rds/project/kw350/rds-kw350-meld/experiments_graph/kw350/22-12-11_losses/loss_distance_ce_real/fold_00/best_model.pt\n",
      "loading data and predicting model\n",
      "saving prediction for MELD_H4_3T_FCD_0002\n",
      "saving distance_map for MELD_H4_3T_FCD_0002\n",
      "/rds/user/co-ripa1/hpc-work/scripts/meld_classifier_GDL/meld_graph/evaluation.py:337: UserWarning: There are no gridspecs with layoutgrids. Possibly did not call parent GridSpec with the \"figure\" keyword\n",
      "  fig.savefig(filename, bbox_inches='tight')\n"
     ]
    }
   ],
   "source": [
    "from pyexpat import model\n",
    "\n",
    "    \n",
    "#load experiment already trained using checkpoint path\n",
    "model_base_path=model_path\n",
    "checkpoint_path=os.path.join(EXPERIMENT_PATH, model_base_path)\n",
    "exp = meld_graph.experiment.Experiment.from_folder(checkpoint_path)\n",
    "\n",
    "# Run the evaluation on the test data and save into directory provided\n",
    "save_dir=os.path.join(EXPERIMENT_PATH,f'22-12-12_real_evaluation_test_distance/{model_name}')\n",
    "\n",
    "eva = Evaluator(experiment = exp,\n",
    "                checkpoint_path = checkpoint_path,\n",
    "                save_dir = save_dir ,\n",
    "                make_images = True,\n",
    "                dataset=dataset,\n",
    "                cohort=cohort,\n",
    "            )\n",
    "\n",
    "# evaluate (predict , stats and plot) or just run individually each step\n",
    "# eva.evaluate()\n",
    "\n",
    "# # load data and predict\n",
    "eva.load_predict_data()\n",
    "# # calculate stats \n",
    "eva.stat_subjects()\n",
    "#  # make images \n",
    "eva.plot_subjects_prediction()\n",
    "\n",
    "    "
   ]
  },
  {
   "cell_type": "markdown",
   "id": "ff9fd3bd",
   "metadata": {},
   "source": [
    "### Look at results"
   ]
  },
  {
   "cell_type": "code",
   "execution_count": null,
   "id": "ee0bca7f",
   "metadata": {},
   "outputs": [],
   "source": [
    "# load results \n",
    "import pandas as pd\n",
    "\n",
    "df={}\n",
    "predicted={}\n",
    "\n",
    "    \n",
    "results_file = os.path.join(EXPERIMENT_PATH,f'22-12-07_real_evaluation_test/{model_name}', 'results', 'test_results.csv')\n",
    "df = pd.read_csv(results_file) \n",
    "    \n",
    "    "
   ]
  },
  {
   "cell_type": "code",
   "execution_count": 20,
   "id": "bd44b888",
   "metadata": {},
   "outputs": [
    {
     "data": {
      "text/plain": [
       "dict_keys(['focal_loss'])"
      ]
     },
     "execution_count": 20,
     "metadata": {},
     "output_type": "execute_result"
    }
   ],
   "source": [
    "exp.network_parameters['training_parameters']['loss_dictionary'].keys()\n",
    "\n"
   ]
  },
  {
   "cell_type": "markdown",
   "id": "d48ca6cc",
   "metadata": {},
   "source": [
    "## Evaluation using baseline model"
   ]
  },
  {
   "cell_type": "code",
   "execution_count": null,
   "id": "e50aeeda",
   "metadata": {
    "scrolled": true
   },
   "outputs": [],
   "source": [
    "# \n",
    "import torch\n",
    "exp.load_model(checkpoint_path='/rds/project/kw350/rds-kw350-meld/experiments_graph/co-spit1/22-07-29_synth_3layer/finetune_radius0.2/fold_00/best_model.pt', \n",
    "               force=True )"
   ]
  },
  {
   "cell_type": "code",
   "execution_count": null,
   "id": "7bb5455b",
   "metadata": {},
   "outputs": [],
   "source": [
    "data_loader = torch_geometric.loader.DataLoader(dataset,\n",
    "            shuffle=False, )"
   ]
  },
  {
   "cell_type": "code",
   "execution_count": null,
   "id": "8612d2b3",
   "metadata": {
    "scrolled": true
   },
   "outputs": [],
   "source": [
    "#predict \n",
    "import torch_geometric.data\n",
    "from meld_graph.training import Metrics\n",
    "\n",
    "device = torch.device('cuda:0' if torch.cuda.is_available() else 'cpu')\n",
    "data_loader = torch_geometric.loader.DataLoader(dataset,\n",
    "            shuffle=False, batch_size=2)\n",
    "metrics = Metrics(params['metrics'])  # for keeping track of running metrics\n",
    "for data in data_loader:\n",
    "    print('loader')\n",
    "    data = data.to(device)\n",
    "    estimates = exp.model(data.x)\n",
    "    labels = data.y.squeeze()   \n",
    "    # metrics\n",
    "    pred = torch.argmax(estimates[0], axis=1)\n",
    "    # update running metrics\n",
    "    metrics.update(pred, labels)\n",
    "\n",
    "metrics.get_aggregated_metrics()"
   ]
  },
  {
   "cell_type": "code",
   "execution_count": null,
   "id": "3febb50e",
   "metadata": {},
   "outputs": [],
   "source": [
    "#plot lesion\n",
    "import matplotlib_surface_plotting as msp\n",
    "from meld_graph.icospheres import IcoSpheres\n",
    "\n",
    "#initialise the icosphere\n",
    "icos=IcoSpheres(conv_type='SpiralConv')\n",
    "ico_index=7\n",
    "ico_ini = icos.icospheres[ico_index]\n",
    "\n",
    "#plot example of feature on icosphere for 1 subject\n",
    "msp.plot_surf(ico_ini['coords'],\n",
    "              ico_ini['faces'],\n",
    "              pred.numpy()[0:163842], \n",
    "              parcel=labels.numpy()[0:163842], \n",
    "              parcel_cmap={1:[1,0,0,0]},\n",
    "              colorbar=False, rotate=[50,250], \n",
    "                 )\n"
   ]
  },
  {
   "cell_type": "code",
   "execution_count": null,
   "id": "bfc4bcc1",
   "metadata": {},
   "outputs": [],
   "source": [
    "#plot lesion\n",
    "import matplotlib_surface_plotting as msp\n",
    "from meld_graph.icospheres import IcoSpheres\n",
    "\n",
    "#initialise the icosphere\n",
    "icos=IcoSpheres(conv_type='SpiralConv')\n",
    "ico_index=7\n",
    "ico_ini = icos.icospheres[ico_index]\n",
    "\n",
    "#plot example of feature on icosphere for 1 subject\n",
    "index = 3\n",
    "feat=1\n",
    "features_subj, labels_subj = dataset.data_list[index]\n",
    "msp.plot_surf(ico_ini['coords'],\n",
    "              ico_ini['faces'],\n",
    "              features_subj[:,feat], \n",
    "              parcel=labels_subj, \n",
    "              parcel_cmap={1:[1,0,0,0]},\n",
    "              colorbar=False, rotate=[150,250], \n",
    "                 )\n"
   ]
  }
 ],
 "metadata": {
  "kernelspec": {
   "display_name": "Python 3.9.10 ('meld_graph')",
   "language": "python",
   "name": "python3"
  },
  "language_info": {
   "codemirror_mode": {
    "name": "ipython",
    "version": 3
   },
   "file_extension": ".py",
   "mimetype": "text/x-python",
   "name": "python",
   "nbconvert_exporter": "python",
   "pygments_lexer": "ipython3",
   "version": "3.9.10"
  },
  "vscode": {
   "interpreter": {
    "hash": "c0176ae289e59992559f0c449061dac3c0e6a1074598f8b14680b865216cf195"
   }
  }
 },
 "nbformat": 4,
 "nbformat_minor": 5
}
