{
 "cells": [
  {
   "cell_type": "code",
   "execution_count": 20,
   "id": "4ad09881",
   "metadata": {},
   "outputs": [],
   "source": [
    "import meld_graph\n",
    "import meld_graph.models\n",
    "import meld_graph.experiment\n",
    "import meld_graph.dataset\n",
    "import meld_graph.data_preprocessing\n",
    "import meld_graph.evaluation\n",
    "\n",
    "\n",
    "import importlib\n",
    "importlib.reload(meld_graph)\n",
    "importlib.reload(meld_graph.models)\n",
    "importlib.reload(meld_graph.dataset)\n",
    "importlib.reload(meld_graph.experiment)\n",
    "importlib.reload(meld_graph.data_preprocessing)\n",
    "importlib.reload(meld_graph.evaluation)\n",
    "\n",
    "import logging\n",
    "import os\n",
    "import json\n",
    "\n",
    "from meld_graph.dataset import GraphDataset, Oversampler\n",
    "from meld_classifier.meld_cohort import MeldCohort, MeldSubject\n",
    "from meld_graph.training import Metrics\n",
    "import numpy as np\n",
    "from meld_graph.paths import EXPERIMENT_PATH\n",
    "\n",
    "from meld_graph.evaluation import Evaluator\n",
    "\n"
   ]
  },
  {
   "cell_type": "markdown",
   "id": "fe5cad0d",
   "metadata": {},
   "source": [
    "### testing the class"
   ]
  },
  {
   "cell_type": "code",
   "execution_count": 21,
   "id": "fe84c93a",
   "metadata": {},
   "outputs": [
    {
     "name": "stderr",
     "output_type": "stream",
     "text": [
      "Initialised Experiment 22-08-22_synth_unet_gamma_2_synthetic_data__bias/synthetic_data__bias_1\n"
     ]
    }
   ],
   "source": [
    "#load experiment already trained using checkpoint path\n",
    "\n",
    "EXPERIMENT_PATH='/rds/project/kw350/rds-kw350-meld/experiments_graph/co-ripa1'\n",
    "checkpoint_path=os.path.join(EXPERIMENT_PATH, '22-08-22_synth_unet_gamma_2_synthetic_data__bias/synthetic_data__bias_1/fold_00')\n",
    "\n",
    "exp = meld_graph.experiment.Experiment.from_folder(checkpoint_path)\n"
   ]
  },
  {
   "cell_type": "code",
   "execution_count": 22,
   "id": "4a1db6ef",
   "metadata": {},
   "outputs": [],
   "source": [
    "# update experiment with the test data parameters you want to run on\n",
    "\n",
    "exp.data_parameters['synthetic_data']['n_subs'] = 8"
   ]
  },
  {
   "cell_type": "code",
   "execution_count": 23,
   "id": "6ce89bf5",
   "metadata": {},
   "outputs": [
    {
     "name": "stderr",
     "output_type": "stream",
     "text": [
      "Using coord type exact\n",
      "Loading model weights from checkpoint /rds/project/kw350/rds-kw350-meld/experiments_graph/co-ripa1/22-08-22_synth_unet_gamma_2_synthetic_data__bias/synthetic_data__bias_1/fold_00/best_model.pt\n"
     ]
    },
    {
     "name": "stdout",
     "output_type": "stream",
     "text": [
      "conv 33 16\n",
      "conv 16 16\n",
      "conv 16 16\n"
     ]
    }
   ],
   "source": [
    "# Run the evaluation on the test data and save into directory provided\n",
    "\n",
    "save_dir=os.path.join(EXPERIMENT_PATH,'22-08-22_synth_eval_bis')\n",
    "\n",
    "eva = Evaluator(experiment = exp,\n",
    "                checkpoint_path = checkpoint_path,\n",
    "                save_dir = save_dir ,\n",
    "                make_images = True,\n",
    "               )\n"
   ]
  },
  {
   "cell_type": "code",
   "execution_count": 24,
   "id": "7aab36fb",
   "metadata": {},
   "outputs": [
    {
     "name": "stderr",
     "output_type": "stream",
     "text": [
      "loading data and predicting model\n",
      "Loading and preprocessing data\n",
      "Combine hemis None\n",
      "Using coord type pseudo\n"
     ]
    }
   ],
   "source": [
    "eva.evaluate()"
   ]
  },
  {
   "cell_type": "markdown",
   "id": "d48ca6cc",
   "metadata": {},
   "source": [
    "## Evaluation using baseline model"
   ]
  },
  {
   "cell_type": "code",
   "execution_count": null,
   "id": "e50aeeda",
   "metadata": {
    "scrolled": true
   },
   "outputs": [],
   "source": [
    "# \n",
    "import torch\n",
    "exp.load_model(checkpoint_path='/rds/project/kw350/rds-kw350-meld/experiments_graph/co-spit1/22-07-29_synth_3layer/finetune_radius0.2/fold_00/best_model.pt', \n",
    "               force=True )"
   ]
  },
  {
   "cell_type": "code",
   "execution_count": null,
   "id": "7bb5455b",
   "metadata": {},
   "outputs": [],
   "source": [
    "data_loader = torch_geometric.loader.DataLoader(dataset,\n",
    "            shuffle=False, )"
   ]
  },
  {
   "cell_type": "code",
   "execution_count": null,
   "id": "8612d2b3",
   "metadata": {
    "scrolled": true
   },
   "outputs": [],
   "source": [
    "#predict \n",
    "import torch_geometric.data\n",
    "from meld_graph.training import Metrics\n",
    "\n",
    "device = torch.device('cuda:0' if torch.cuda.is_available() else 'cpu')\n",
    "data_loader = torch_geometric.loader.DataLoader(dataset,\n",
    "            shuffle=False, batch_size=2)\n",
    "metrics = Metrics(params['metrics'])  # for keeping track of running metrics\n",
    "for data in data_loader:\n",
    "    print('loader')\n",
    "    data = data.to(device)\n",
    "    estimates = exp.model(data.x)\n",
    "    labels = data.y.squeeze()   \n",
    "    # metrics\n",
    "    pred = torch.argmax(estimates[0], axis=1)\n",
    "    # update running metrics\n",
    "    metrics.update(pred, labels)\n",
    "\n",
    "metrics.get_aggregated_metrics()"
   ]
  },
  {
   "cell_type": "code",
   "execution_count": null,
   "id": "3febb50e",
   "metadata": {},
   "outputs": [],
   "source": [
    "#plot lesion\n",
    "import matplotlib_surface_plotting as msp\n",
    "from meld_graph.icospheres import IcoSpheres\n",
    "\n",
    "#initialise the icosphere\n",
    "icos=IcoSpheres(conv_type='SpiralConv')\n",
    "ico_index=7\n",
    "ico_ini = icos.icospheres[ico_index]\n",
    "\n",
    "#plot example of feature on icosphere for 1 subject\n",
    "msp.plot_surf(ico_ini['coords'],\n",
    "              ico_ini['faces'],\n",
    "              pred.numpy()[0:163842], \n",
    "              parcel=labels.numpy()[0:163842], \n",
    "              parcel_cmap={1:[1,0,0,0]},\n",
    "              colorbar=False, rotate=[50,250], \n",
    "                 )\n"
   ]
  },
  {
   "cell_type": "code",
   "execution_count": null,
   "id": "bfc4bcc1",
   "metadata": {},
   "outputs": [],
   "source": [
    "#plot lesion\n",
    "import matplotlib_surface_plotting as msp\n",
    "from meld_graph.icospheres import IcoSpheres\n",
    "\n",
    "#initialise the icosphere\n",
    "icos=IcoSpheres(conv_type='SpiralConv')\n",
    "ico_index=7\n",
    "ico_ini = icos.icospheres[ico_index]\n",
    "\n",
    "#plot example of feature on icosphere for 1 subject\n",
    "index = 3\n",
    "feat=1\n",
    "features_subj, labels_subj = dataset.data_list[index]\n",
    "msp.plot_surf(ico_ini['coords'],\n",
    "              ico_ini['faces'],\n",
    "              features_subj[:,feat], \n",
    "              parcel=labels_subj, \n",
    "              parcel_cmap={1:[1,0,0,0]},\n",
    "              colorbar=False, rotate=[150,250], \n",
    "                 )\n"
   ]
  }
 ],
 "metadata": {
  "kernelspec": {
   "display_name": "Python 3.9.10 ('meld_graph')",
   "language": "python",
   "name": "python3"
  },
  "language_info": {
   "codemirror_mode": {
    "name": "ipython",
    "version": 3
   },
   "file_extension": ".py",
   "mimetype": "text/x-python",
   "name": "python",
   "nbconvert_exporter": "python",
   "pygments_lexer": "ipython3",
   "version": "3.9.10"
  },
  "vscode": {
   "interpreter": {
    "hash": "c0176ae289e59992559f0c449061dac3c0e6a1074598f8b14680b865216cf195"
   }
  }
 },
 "nbformat": 4,
 "nbformat_minor": 5
}
