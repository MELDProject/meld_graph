{
 "cells": [
  {
   "cell_type": "code",
   "execution_count": 1,
   "id": "2203cf05",
   "metadata": {},
   "outputs": [
    {
     "name": "stdout",
     "output_type": "stream",
     "text": [
      "Setting MELD_DATA_PATH to /rds/project/kw350/rds-kw350-meld/meld_data/Data\n",
      "Setting BASE_PATH to /rds/project/kw350/rds-kw350-meld/meld_data/Data\n",
      "Setting EXPERIMENT_PATH to /rds/project/kw350/rds-kw350-meld/experiments_graph/co-ripa1\n",
      "Setting FS_SUBJECTS_PATH to \n",
      "Setting EXPERIMENT_PATH to /rds/project/kw350/rds-kw350-meld/experiments_graph/co-ripa1\n"
     ]
    }
   ],
   "source": [
    "import torch\n",
    "import torch.nn as nn\n",
    "import torch.optim as optim\n",
    "import torch.nn.functional as F\n",
    "from torch.autograd import Variable\n",
    "\n",
    "import os,sys,random,time\n",
    "import argparse\n",
    "import numpy as np\n",
    "\n",
    "from meld_graph.training import calculate_loss"
   ]
  },
  {
   "cell_type": "code",
   "execution_count": 2,
   "id": "8ffd237b",
   "metadata": {},
   "outputs": [],
   "source": [
    "# # create dummy estimates\n",
    "# x = np.array([[0, 1, 0, 0, 1, 0, 1, 0, 1, 0, 1, 1, 1], [1, 0, 1, 1, 0, 1, 0, 1, 0, 1, 0, 0, 0]]).T\n",
    "# x= torch.from_numpy(x)\n",
    "# print(x.shape)\n",
    "# print(x)"
   ]
  },
  {
   "cell_type": "code",
   "execution_count": 3,
   "id": "f190246d",
   "metadata": {},
   "outputs": [
    {
     "name": "stdout",
     "output_type": "stream",
     "text": [
      "torch.Size([13, 2])\n",
      "tensor([[0.1000, 0.9000],\n",
      "        [0.9000, 0.1000],\n",
      "        [0.1000, 0.9000],\n",
      "        [0.1000, 0.9000],\n",
      "        [0.9000, 0.1000],\n",
      "        [0.1000, 0.9000],\n",
      "        [0.9000, 0.1000],\n",
      "        [0.1000, 0.9000],\n",
      "        [0.9000, 0.1000],\n",
      "        [0.1000, 0.9000],\n",
      "        [0.9000, 0.1000],\n",
      "        [0.9000, 0.1000],\n",
      "        [0.9000, 0.1000]], dtype=torch.float64)\n"
     ]
    }
   ],
   "source": [
    "# create dummy estimates\n",
    "x = np.array([[0.1, 0.9, 0.1, 0.1, 0.9, 0.1, 0.9, 0.1, 0.9, 0.1, 0.9, 0.9, 0.9], \n",
    "              [0.9, 0.1, 0.9, 0.9, 0.1, 0.9, 0.1, 0.9, 0.1, 0.9, 0.1, 0.1, 0.1]]).T\n",
    "x= torch.from_numpy(x)\n",
    "print(x.shape)\n",
    "print(x)"
   ]
  },
  {
   "cell_type": "code",
   "execution_count": 4,
   "id": "71c12de8",
   "metadata": {},
   "outputs": [
    {
     "name": "stdout",
     "output_type": "stream",
     "text": [
      "torch.Size([13])\n",
      "tensor([0, 1, 0, 0, 1, 0, 1, 0, 1, 0, 1, 1, 1])\n"
     ]
    }
   ],
   "source": [
    "# create dummy ground truth class\n",
    "l_perfect = np.array([0, 1, 0, 0, 1, 0, 1, 0, 1, 0, 1, 1, 1])\n",
    "l_perfect = torch.from_numpy(l_perfect)\n",
    "print(l_perfect.shape)\n",
    "print(l_perfect)"
   ]
  },
  {
   "cell_type": "code",
   "execution_count": 5,
   "id": "f50535e5",
   "metadata": {},
   "outputs": [
    {
     "name": "stdout",
     "output_type": "stream",
     "text": [
      "torch.Size([13])\n",
      "tensor([1, 0, 1, 1, 0, 1, 0, 1, 0, 1, 0, 0, 0])\n"
     ]
    }
   ],
   "source": [
    "# create dummy ground truth class\n",
    "l_reverse = np.array([1, 0, 1, 1, 0, 1, 0, 1, 0, 1, 0, 0, 0])\n",
    "l_reverse = torch.from_numpy(l_reverse)\n",
    "print(l_reverse.shape)\n",
    "print(l_reverse)"
   ]
  },
  {
   "cell_type": "code",
   "execution_count": 6,
   "id": "4d36389a",
   "metadata": {},
   "outputs": [],
   "source": [
    "params={'loss_dictionary': { \n",
    "                            'focal_loss':{'weight':1, 'gamma':0, 'alpha': 0.5},\n",
    "              },\n",
    "       }"
   ]
  },
  {
   "cell_type": "code",
   "execution_count": 7,
   "id": "60218105",
   "metadata": {},
   "outputs": [
    {
     "data": {
      "text/plain": [
       "dict_keys(['focal_loss'])"
      ]
     },
     "execution_count": 7,
     "metadata": {},
     "output_type": "execute_result"
    }
   ],
   "source": [
    "params['loss_dictionary'].keys()"
   ]
  },
  {
   "cell_type": "code",
   "execution_count": 8,
   "id": "bb186dbc",
   "metadata": {},
   "outputs": [
    {
     "name": "stderr",
     "output_type": "stream",
     "text": [
      "/rds/user/co-ripa1/hpc-work/scripts/meld_classifier_GDL/meld_graph/training.py:66: UserWarning: Implicit dimension choice for log_softmax has been deprecated. Change the call to include dim=X as an argument.\n",
      "  logpt = torch.nn.functional.log_softmax(inputs)\n"
     ]
    }
   ],
   "source": [
    "loss_weight_dictionary = params['loss_dictionary']\n",
    "estimates=x\n",
    "labels = l_reverse\n",
    "\n",
    "output0 = calculate_loss(loss_weight_dictionary,estimates,labels, device=None)\n",
    "output1 = nn.CrossEntropyLoss()(estimates,labels)"
   ]
  },
  {
   "cell_type": "code",
   "execution_count": 25,
   "id": "c8097d9b",
   "metadata": {},
   "outputs": [],
   "source": [
    "# x = Variable(x.cuda())\n",
    "# print(x.shape)\n",
    "# print(x)"
   ]
  },
  {
   "cell_type": "code",
   "execution_count": 9,
   "id": "2d8a9159",
   "metadata": {},
   "outputs": [
    {
     "data": {
      "text/plain": [
       "tensor(0.1998, dtype=torch.float64)"
      ]
     },
     "execution_count": 9,
     "metadata": {},
     "output_type": "execute_result"
    }
   ],
   "source": [
    "output0"
   ]
  },
  {
   "cell_type": "code",
   "execution_count": 10,
   "id": "4a3a3db1",
   "metadata": {},
   "outputs": [
    {
     "data": {
      "text/plain": [
       "tensor(0.3711, dtype=torch.float64)"
      ]
     },
     "execution_count": 10,
     "metadata": {},
     "output_type": "execute_result"
    }
   ],
   "source": [
    "output1"
   ]
  },
  {
   "cell_type": "markdown",
   "id": "0a8343c4",
   "metadata": {},
   "source": [
    "### find proportion lesion/non-lesional vertices"
   ]
  },
  {
   "cell_type": "code",
   "execution_count": 1,
   "id": "0cf56ffc",
   "metadata": {},
   "outputs": [
    {
     "name": "stdout",
     "output_type": "stream",
     "text": [
      "Setting MELD_DATA_PATH to /rds/project/kw350/rds-kw350-meld/meld_data/Data\n",
      "Setting BASE_PATH to /rds/project/kw350/rds-kw350-meld/meld_data/Data\n",
      "Setting EXPERIMENT_PATH to /rds/project/kw350/rds-kw350-meld/experiments_graph/co-ripa1\n",
      "Setting FS_SUBJECTS_PATH to \n"
     ]
    }
   ],
   "source": [
    "from meld_classifier.paths import BASE_PATH, EXPERIMENT_PATH\n",
    "from meld_classifier.meld_cohort import MeldCohort, MeldSubject\n",
    "import os\n",
    "import numpy as np"
   ]
  },
  {
   "cell_type": "code",
   "execution_count": 2,
   "id": "063e32a4",
   "metadata": {},
   "outputs": [],
   "source": [
    "#load cohort\n",
    "site_codes=['H2', 'H3','H4','H5','H6','H7','H9','H10','H11','H12','H14','H15','H16','H17','H18','H19',\n",
    "                  'H21','H23','H24','H26']\n",
    "c= MeldCohort(hdf5_file_root='{site_code}_{group}_featurematrix_combat_6.hdf5', dataset=None)\n",
    "listids = c.get_subject_ids(site_codes=site_codes, group='patient', lesional_only=True)"
   ]
  },
  {
   "cell_type": "code",
   "execution_count": 3,
   "id": "45c60241",
   "metadata": {},
   "outputs": [],
   "source": [
    "lesions=[]\n",
    "for k,subject in enumerate(listids):\n",
    "    subj = MeldSubject(subject, cohort=c)\n",
    "    hemi = subj.get_lesion_hemisphere()\n",
    "    if hemi:\n",
    "        lesion = np.round(subj.load_feature_values(hemi=hemi, feature=\".on_lh.lesion.mgh\")[:])\n",
    "        lesions.append(lesion)\n",
    "lesions=np.array(lesions)"
   ]
  },
  {
   "cell_type": "code",
   "execution_count": 11,
   "id": "75d5dd0c",
   "metadata": {},
   "outputs": [
    {
     "name": "stdout",
     "output_type": "stream",
     "text": [
      "1876315.0\n",
      "87417575.0\n",
      "0.02146381891742021\n"
     ]
    }
   ],
   "source": [
    "lesions= lesions.flatten()\n",
    "lesional_v =lesions.sum()\n",
    "print(lesional_v)\n",
    "non_lesional_v = len(lesions)-lesional_v\n",
    "print(non_lesional_v)\n",
    "ratio = lesional_v/non_lesional_v\n",
    "print(ratio)"
   ]
  },
  {
   "cell_type": "code",
   "execution_count": 7,
   "id": "74e14cce",
   "metadata": {},
   "outputs": [
    {
     "data": {
      "text/plain": [
       "(163842,)"
      ]
     },
     "execution_count": 7,
     "metadata": {},
     "output_type": "execute_result"
    }
   ],
   "source": []
  },
  {
   "cell_type": "code",
   "execution_count": null,
   "id": "2774d0b3",
   "metadata": {},
   "outputs": [],
   "source": []
  }
 ],
 "metadata": {
  "kernelspec": {
   "display_name": "Python 3 (ipykernel)",
   "language": "python",
   "name": "python3"
  },
  "language_info": {
   "codemirror_mode": {
    "name": "ipython",
    "version": 3
   },
   "file_extension": ".py",
   "mimetype": "text/x-python",
   "name": "python",
   "nbconvert_exporter": "python",
   "pygments_lexer": "ipython3",
   "version": "3.7.11"
  }
 },
 "nbformat": 4,
 "nbformat_minor": 5
}
