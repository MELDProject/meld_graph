{
 "cells": [
  {
   "attachments": {},
   "cell_type": "markdown",
   "metadata": {},
   "source": [
    "## Notebook to characterise saliencies in the test cohort"
   ]
  },
  {
   "cell_type": "code",
   "execution_count": 1,
   "metadata": {},
   "outputs": [
    {
     "name": "stdout",
     "output_type": "stream",
     "text": [
      "Setting EXPERIMENT_PATH to /rds/project/kw350/rds-kw350-meld/experiments_graph/kw350\n",
      "Setting MELD_DATA_PATH to /rds/project/kw350/rds-kw350-meld/meld_data/Data\n",
      "Setting BASE_PATH to /rds/project/kw350/rds-kw350-meld/meld_data/Data\n",
      "Setting EXPERIMENT_PATH to /rds/project/kw350/rds-kw350-meld/experiments/co-ripa1/\n",
      "Setting FS_SUBJECTS_PATH to /rds/project/kw350/rds-kw350-meld/meld_data/Data\n",
      "Setting BASE_PATH to /rds/project/kw350/rds-kw350-meld/meld_data/Data\n"
     ]
    }
   ],
   "source": [
    "import os\n",
    "import sys\n",
    "import numpy as np\n",
    "sys.path.append('/home/co-ripa1/rds/hpc-work/scripts/meld_classifier')\n",
    "import h5py\n",
    "import matplotlib_surface_plotting as msp\n",
    "import matplotlib.pyplot as plt\n",
    "from matplotlib.gridspec import GridSpec\n",
    "import nibabel as nb\n",
    "import meld_graph.experiment\n",
    "from meld_classifier.paths import BASE_PATH\n",
    "from meld_classifier.meld_cohort import MeldCohort,MeldSubject\n",
    "import ptitprince as pt\n",
    "import seaborn as sns\n"
   ]
  },
  {
   "cell_type": "code",
   "execution_count": 2,
   "metadata": {},
   "outputs": [],
   "source": [
    "def load_prediction(subject,hdf5,dset='prediction'):\n",
    "    results={}\n",
    "    with h5py.File(hdf5, \"r\") as f:\n",
    "        for hemi in ['lh','rh']:\n",
    "            results[hemi] = f[subject][hemi][dset][:]\n",
    "    return results\n"
   ]
  },
  {
   "cell_type": "markdown",
   "metadata": {},
   "source": [
    "### Compute mean saliencies "
   ]
  },
  {
   "cell_type": "code",
   "execution_count": 3,
   "metadata": {},
   "outputs": [],
   "source": [
    "from meld_graph.dataset import GraphDataset\n",
    "from meld_graph.evaluation import Evaluator\n",
    "import matplotlib as mpl\n",
    "import matplotlib.cm as cm\n",
    "from meld_graph.data_preprocessing import Preprocess\n",
    "from meld_graph.confidence import get_confidence\n",
    "import matplotlib_surface_plotting as msp\n",
    "from meld_classifier.meld_plotting import trim\n",
    "from PIL import Image\n"
   ]
  },
  {
   "cell_type": "code",
   "execution_count": 4,
   "metadata": {},
   "outputs": [],
   "source": [
    "dataset = 'test'  # \"test\" or \"H101\""
   ]
  },
  {
   "cell_type": "code",
   "execution_count": 5,
   "metadata": {},
   "outputs": [
    {
     "name": "stderr",
     "output_type": "stream",
     "text": [
      "Initialised Experiment 23-10-30_LVHZ_dcp/s_0\n"
     ]
    },
    {
     "name": "stdout",
     "output_type": "stream",
     "text": [
      "/rds/project/kw350/rds-kw350-meld/experiments_graph/kw350/23-10-30_LVHZ_dcp/s_0/fold_all\n"
     ]
    },
    {
     "name": "stderr",
     "output_type": "stream",
     "text": [
      "Loading and preprocessing test data\n"
     ]
    },
    {
     "name": "stdout",
     "output_type": "stream",
     "text": [
      "MELD2_H7_3T_FCD_001\n"
     ]
    },
    {
     "name": "stderr",
     "output_type": "stream",
     "text": [
      "Z-scoring data for MELD2_H7_3T_FCD_001\n"
     ]
    },
    {
     "name": "stdout",
     "output_type": "stream",
     "text": [
      "MELD2_H7_3T_FCD_004\n"
     ]
    },
    {
     "name": "stderr",
     "output_type": "stream",
     "text": [
      "Z-scoring data for MELD2_H7_3T_FCD_004\n"
     ]
    },
    {
     "name": "stdout",
     "output_type": "stream",
     "text": [
      "MELD2_H7_3T_FCD_005\n"
     ]
    },
    {
     "name": "stderr",
     "output_type": "stream",
     "text": [
      "Z-scoring data for MELD2_H7_3T_FCD_005\n"
     ]
    },
    {
     "name": "stdout",
     "output_type": "stream",
     "text": [
      "MELD2_H7_3T_FCD_009\n"
     ]
    },
    {
     "name": "stderr",
     "output_type": "stream",
     "text": [
      "Z-scoring data for MELD2_H7_3T_FCD_009\n"
     ]
    },
    {
     "name": "stdout",
     "output_type": "stream",
     "text": [
      "MELD_H10_3T_FCD_0002\n"
     ]
    },
    {
     "name": "stderr",
     "output_type": "stream",
     "text": [
      "Z-scoring data for MELD_H10_3T_FCD_0002\n"
     ]
    },
    {
     "name": "stdout",
     "output_type": "stream",
     "text": [
      "MELD_H10_3T_FCD_0009\n"
     ]
    },
    {
     "name": "stderr",
     "output_type": "stream",
     "text": [
      "Z-scoring data for MELD_H10_3T_FCD_0009\n"
     ]
    },
    {
     "name": "stdout",
     "output_type": "stream",
     "text": [
      "MELD_H10_3T_FCD_0013\n"
     ]
    },
    {
     "name": "stderr",
     "output_type": "stream",
     "text": [
      "Z-scoring data for MELD_H10_3T_FCD_0013\n"
     ]
    },
    {
     "name": "stdout",
     "output_type": "stream",
     "text": [
      "MELD_H10_3T_FCD_0014\n"
     ]
    },
    {
     "name": "stderr",
     "output_type": "stream",
     "text": [
      "Z-scoring data for MELD_H10_3T_FCD_0014\n"
     ]
    },
    {
     "name": "stdout",
     "output_type": "stream",
     "text": [
      "MELD_H10_3T_FCD_0016\n"
     ]
    },
    {
     "name": "stderr",
     "output_type": "stream",
     "text": [
      "Z-scoring data for MELD_H10_3T_FCD_0016\n"
     ]
    },
    {
     "name": "stdout",
     "output_type": "stream",
     "text": [
      "MELD_H11_3T_FCD_0002\n"
     ]
    },
    {
     "name": "stderr",
     "output_type": "stream",
     "text": [
      "Z-scoring data for MELD_H11_3T_FCD_0002\n"
     ]
    },
    {
     "name": "stdout",
     "output_type": "stream",
     "text": [
      "MELD_H11_3T_FCD_0006\n"
     ]
    },
    {
     "name": "stderr",
     "output_type": "stream",
     "text": [
      "Z-scoring data for MELD_H11_3T_FCD_0006\n"
     ]
    },
    {
     "name": "stdout",
     "output_type": "stream",
     "text": [
      "MELD_H11_3T_FCD_0007\n"
     ]
    },
    {
     "name": "stderr",
     "output_type": "stream",
     "text": [
      "Z-scoring data for MELD_H11_3T_FCD_0007\n"
     ]
    },
    {
     "name": "stdout",
     "output_type": "stream",
     "text": [
      "MELD_H11_3T_FCD_0009\n"
     ]
    },
    {
     "name": "stderr",
     "output_type": "stream",
     "text": [
      "Z-scoring data for MELD_H11_3T_FCD_0009\n"
     ]
    },
    {
     "name": "stdout",
     "output_type": "stream",
     "text": [
      "MELD_H11_3T_FCD_0010\n"
     ]
    },
    {
     "name": "stderr",
     "output_type": "stream",
     "text": [
      "Z-scoring data for MELD_H11_3T_FCD_0010\n"
     ]
    },
    {
     "name": "stdout",
     "output_type": "stream",
     "text": [
      "MELD_H11_3T_FCD_0011\n"
     ]
    },
    {
     "name": "stderr",
     "output_type": "stream",
     "text": [
      "Z-scoring data for MELD_H11_3T_FCD_0011\n"
     ]
    },
    {
     "name": "stdout",
     "output_type": "stream",
     "text": [
      "MELD_H11_3T_FCD_0015\n"
     ]
    },
    {
     "name": "stderr",
     "output_type": "stream",
     "text": [
      "Z-scoring data for MELD_H11_3T_FCD_0015\n"
     ]
    },
    {
     "name": "stdout",
     "output_type": "stream",
     "text": [
      "MELD_H11_3T_FCD_0019\n"
     ]
    },
    {
     "name": "stderr",
     "output_type": "stream",
     "text": [
      "Z-scoring data for MELD_H11_3T_FCD_0019\n"
     ]
    },
    {
     "name": "stdout",
     "output_type": "stream",
     "text": [
      "MELD_H11_3T_FCD_0020\n"
     ]
    },
    {
     "name": "stderr",
     "output_type": "stream",
     "text": [
      "Z-scoring data for MELD_H11_3T_FCD_0020\n"
     ]
    },
    {
     "name": "stdout",
     "output_type": "stream",
     "text": [
      "MELD_H11_3T_FCD_0025\n"
     ]
    },
    {
     "name": "stderr",
     "output_type": "stream",
     "text": [
      "Z-scoring data for MELD_H11_3T_FCD_0025\n"
     ]
    },
    {
     "name": "stdout",
     "output_type": "stream",
     "text": [
      "MELD_H11_3T_FCD_0027\n"
     ]
    },
    {
     "name": "stderr",
     "output_type": "stream",
     "text": [
      "Z-scoring data for MELD_H11_3T_FCD_0027\n"
     ]
    },
    {
     "name": "stdout",
     "output_type": "stream",
     "text": [
      "MELD_H11_3T_FCD_0028\n"
     ]
    },
    {
     "name": "stderr",
     "output_type": "stream",
     "text": [
      "Z-scoring data for MELD_H11_3T_FCD_0028\n"
     ]
    },
    {
     "name": "stdout",
     "output_type": "stream",
     "text": [
      "MELD_H11_3T_FCD_0030\n"
     ]
    },
    {
     "name": "stderr",
     "output_type": "stream",
     "text": [
      "Z-scoring data for MELD_H11_3T_FCD_0030\n"
     ]
    },
    {
     "name": "stdout",
     "output_type": "stream",
     "text": [
      "MELD_H11_3T_FCD_0031\n"
     ]
    },
    {
     "name": "stderr",
     "output_type": "stream",
     "text": [
      "Z-scoring data for MELD_H11_3T_FCD_0031\n"
     ]
    },
    {
     "name": "stdout",
     "output_type": "stream",
     "text": [
      "MELD_H11_3T_FCD_0040\n"
     ]
    },
    {
     "name": "stderr",
     "output_type": "stream",
     "text": [
      "Z-scoring data for MELD_H11_3T_FCD_0040\n"
     ]
    },
    {
     "name": "stdout",
     "output_type": "stream",
     "text": [
      "MELD_H11_3T_FCD_0041\n"
     ]
    },
    {
     "name": "stderr",
     "output_type": "stream",
     "text": [
      "Z-scoring data for MELD_H11_3T_FCD_0041\n"
     ]
    },
    {
     "name": "stdout",
     "output_type": "stream",
     "text": [
      "MELD_H11_3T_FCD_0042\n"
     ]
    },
    {
     "name": "stderr",
     "output_type": "stream",
     "text": [
      "Z-scoring data for MELD_H11_3T_FCD_0042\n"
     ]
    },
    {
     "name": "stdout",
     "output_type": "stream",
     "text": [
      "MELD_H11_3T_FCD_0044\n"
     ]
    },
    {
     "name": "stderr",
     "output_type": "stream",
     "text": [
      "Z-scoring data for MELD_H11_3T_FCD_0044\n"
     ]
    },
    {
     "name": "stdout",
     "output_type": "stream",
     "text": [
      "MELD_H11_3T_FCD_0045\n"
     ]
    },
    {
     "name": "stderr",
     "output_type": "stream",
     "text": [
      "Z-scoring data for MELD_H11_3T_FCD_0045\n"
     ]
    },
    {
     "name": "stdout",
     "output_type": "stream",
     "text": [
      "MELD_H12_3T_FCD_0003\n"
     ]
    },
    {
     "name": "stderr",
     "output_type": "stream",
     "text": [
      "Z-scoring data for MELD_H12_3T_FCD_0003\n"
     ]
    },
    {
     "name": "stdout",
     "output_type": "stream",
     "text": [
      "MELD_H12_3T_FCD_0006\n"
     ]
    },
    {
     "name": "stderr",
     "output_type": "stream",
     "text": [
      "Z-scoring data for MELD_H12_3T_FCD_0006\n"
     ]
    },
    {
     "name": "stdout",
     "output_type": "stream",
     "text": [
      "MELD_H12_3T_FCD_0007\n"
     ]
    },
    {
     "name": "stderr",
     "output_type": "stream",
     "text": [
      "Z-scoring data for MELD_H12_3T_FCD_0007\n"
     ]
    },
    {
     "name": "stdout",
     "output_type": "stream",
     "text": [
      "MELD_H12_3T_FCD_0009\n"
     ]
    },
    {
     "name": "stderr",
     "output_type": "stream",
     "text": [
      "Z-scoring data for MELD_H12_3T_FCD_0009\n"
     ]
    },
    {
     "name": "stdout",
     "output_type": "stream",
     "text": [
      "MELD_H12_3T_FCD_0011\n"
     ]
    },
    {
     "name": "stderr",
     "output_type": "stream",
     "text": [
      "Z-scoring data for MELD_H12_3T_FCD_0011\n"
     ]
    },
    {
     "name": "stdout",
     "output_type": "stream",
     "text": [
      "MELD_H12_3T_FCD_0014\n"
     ]
    },
    {
     "name": "stderr",
     "output_type": "stream",
     "text": [
      "Z-scoring data for MELD_H12_3T_FCD_0014\n"
     ]
    },
    {
     "name": "stdout",
     "output_type": "stream",
     "text": [
      "MELD_H12_3T_FCD_0016\n"
     ]
    },
    {
     "name": "stderr",
     "output_type": "stream",
     "text": [
      "Z-scoring data for MELD_H12_3T_FCD_0016\n"
     ]
    },
    {
     "name": "stdout",
     "output_type": "stream",
     "text": [
      "MELD_H12_3T_FCD_0018\n"
     ]
    },
    {
     "name": "stderr",
     "output_type": "stream",
     "text": [
      "Z-scoring data for MELD_H12_3T_FCD_0018\n"
     ]
    },
    {
     "name": "stdout",
     "output_type": "stream",
     "text": [
      "MELD_H12_3T_FCD_0030\n"
     ]
    },
    {
     "name": "stderr",
     "output_type": "stream",
     "text": [
      "Z-scoring data for MELD_H12_3T_FCD_0030\n"
     ]
    },
    {
     "name": "stdout",
     "output_type": "stream",
     "text": [
      "MELD_H14_3T_FCD_0009\n"
     ]
    },
    {
     "name": "stderr",
     "output_type": "stream",
     "text": [
      "Z-scoring data for MELD_H14_3T_FCD_0009\n"
     ]
    },
    {
     "name": "stdout",
     "output_type": "stream",
     "text": [
      "MELD_H14_3T_FCD_0011\n"
     ]
    },
    {
     "name": "stderr",
     "output_type": "stream",
     "text": [
      "Z-scoring data for MELD_H14_3T_FCD_0011\n"
     ]
    },
    {
     "name": "stdout",
     "output_type": "stream",
     "text": [
      "MELD_H14_3T_FCD_0013\n"
     ]
    },
    {
     "name": "stderr",
     "output_type": "stream",
     "text": [
      "Z-scoring data for MELD_H14_3T_FCD_0013\n"
     ]
    },
    {
     "name": "stdout",
     "output_type": "stream",
     "text": [
      "MELD_H14_3T_FCD_0016\n"
     ]
    },
    {
     "name": "stderr",
     "output_type": "stream",
     "text": [
      "Z-scoring data for MELD_H14_3T_FCD_0016\n"
     ]
    },
    {
     "name": "stdout",
     "output_type": "stream",
     "text": [
      "MELD_H14_3T_FCD_0017\n"
     ]
    },
    {
     "name": "stderr",
     "output_type": "stream",
     "text": [
      "Z-scoring data for MELD_H14_3T_FCD_0017\n"
     ]
    },
    {
     "name": "stdout",
     "output_type": "stream",
     "text": [
      "MELD_H14_3T_FCD_0021\n"
     ]
    },
    {
     "name": "stderr",
     "output_type": "stream",
     "text": [
      "Z-scoring data for MELD_H14_3T_FCD_0021\n"
     ]
    },
    {
     "name": "stdout",
     "output_type": "stream",
     "text": [
      "MELD_H14_3T_FCD_0022\n"
     ]
    },
    {
     "name": "stderr",
     "output_type": "stream",
     "text": [
      "Z-scoring data for MELD_H14_3T_FCD_0022\n"
     ]
    },
    {
     "name": "stdout",
     "output_type": "stream",
     "text": [
      "MELD_H14_3T_FCD_0023\n"
     ]
    },
    {
     "name": "stderr",
     "output_type": "stream",
     "text": [
      "Z-scoring data for MELD_H14_3T_FCD_0023\n"
     ]
    },
    {
     "name": "stdout",
     "output_type": "stream",
     "text": [
      "MELD_H14_3T_FCD_0024\n"
     ]
    },
    {
     "name": "stderr",
     "output_type": "stream",
     "text": [
      "Z-scoring data for MELD_H14_3T_FCD_0024\n"
     ]
    },
    {
     "name": "stdout",
     "output_type": "stream",
     "text": [
      "MELD_H14_3T_FCD_0025\n"
     ]
    },
    {
     "name": "stderr",
     "output_type": "stream",
     "text": [
      "Z-scoring data for MELD_H14_3T_FCD_0025\n"
     ]
    },
    {
     "name": "stdout",
     "output_type": "stream",
     "text": [
      "MELD_H14_3T_FCD_0026\n"
     ]
    },
    {
     "name": "stderr",
     "output_type": "stream",
     "text": [
      "Z-scoring data for MELD_H14_3T_FCD_0026\n"
     ]
    },
    {
     "name": "stdout",
     "output_type": "stream",
     "text": [
      "MELD_H14_3T_FCD_0029\n"
     ]
    },
    {
     "name": "stderr",
     "output_type": "stream",
     "text": [
      "Z-scoring data for MELD_H14_3T_FCD_0029\n"
     ]
    },
    {
     "name": "stdout",
     "output_type": "stream",
     "text": [
      "MELD_H14_3T_FCD_0030\n"
     ]
    },
    {
     "name": "stderr",
     "output_type": "stream",
     "text": [
      "Z-scoring data for MELD_H14_3T_FCD_0030\n"
     ]
    },
    {
     "name": "stdout",
     "output_type": "stream",
     "text": [
      "MELD_H14_3T_FCD_0031\n"
     ]
    },
    {
     "name": "stderr",
     "output_type": "stream",
     "text": [
      "Z-scoring data for MELD_H14_3T_FCD_0031\n"
     ]
    },
    {
     "name": "stdout",
     "output_type": "stream",
     "text": [
      "MELD_H14_3T_FCD_0034\n"
     ]
    },
    {
     "name": "stderr",
     "output_type": "stream",
     "text": [
      "Z-scoring data for MELD_H14_3T_FCD_0034\n"
     ]
    },
    {
     "name": "stdout",
     "output_type": "stream",
     "text": [
      "MELD_H14_3T_FCD_0035\n"
     ]
    },
    {
     "name": "stderr",
     "output_type": "stream",
     "text": [
      "Z-scoring data for MELD_H14_3T_FCD_0035\n"
     ]
    },
    {
     "name": "stdout",
     "output_type": "stream",
     "text": [
      "MELD_H14_3T_FCD_0037\n"
     ]
    },
    {
     "name": "stderr",
     "output_type": "stream",
     "text": [
      "Z-scoring data for MELD_H14_3T_FCD_0037\n"
     ]
    },
    {
     "name": "stdout",
     "output_type": "stream",
     "text": [
      "MELD_H14_3T_FCD_0039\n"
     ]
    },
    {
     "name": "stderr",
     "output_type": "stream",
     "text": [
      "Z-scoring data for MELD_H14_3T_FCD_0039\n"
     ]
    },
    {
     "name": "stdout",
     "output_type": "stream",
     "text": [
      "MELD_H14_3T_FCD_0040\n"
     ]
    },
    {
     "name": "stderr",
     "output_type": "stream",
     "text": [
      "Z-scoring data for MELD_H14_3T_FCD_0040\n"
     ]
    },
    {
     "name": "stdout",
     "output_type": "stream",
     "text": [
      "MELD_H14_3T_FCD_0042\n"
     ]
    },
    {
     "name": "stderr",
     "output_type": "stream",
     "text": [
      "Z-scoring data for MELD_H14_3T_FCD_0042\n"
     ]
    },
    {
     "name": "stdout",
     "output_type": "stream",
     "text": [
      "MELD_H15_3T_FCD_0003\n"
     ]
    },
    {
     "name": "stderr",
     "output_type": "stream",
     "text": [
      "Z-scoring data for MELD_H15_3T_FCD_0003\n"
     ]
    },
    {
     "name": "stdout",
     "output_type": "stream",
     "text": [
      "MELD_H15_3T_FCD_0004\n"
     ]
    },
    {
     "name": "stderr",
     "output_type": "stream",
     "text": [
      "Z-scoring data for MELD_H15_3T_FCD_0004\n"
     ]
    },
    {
     "name": "stdout",
     "output_type": "stream",
     "text": [
      "MELD_H15_3T_FCD_0007\n"
     ]
    },
    {
     "name": "stderr",
     "output_type": "stream",
     "text": [
      "Z-scoring data for MELD_H15_3T_FCD_0007\n"
     ]
    },
    {
     "name": "stdout",
     "output_type": "stream",
     "text": [
      "MELD_H15_3T_FCD_0008\n"
     ]
    },
    {
     "name": "stderr",
     "output_type": "stream",
     "text": [
      "Z-scoring data for MELD_H15_3T_FCD_0008\n"
     ]
    },
    {
     "name": "stdout",
     "output_type": "stream",
     "text": [
      "MELD_H15_3T_FCD_0010\n"
     ]
    },
    {
     "name": "stderr",
     "output_type": "stream",
     "text": [
      "Z-scoring data for MELD_H15_3T_FCD_0010\n"
     ]
    },
    {
     "name": "stdout",
     "output_type": "stream",
     "text": [
      "MELD_H16_3T_FCD_001\n"
     ]
    },
    {
     "name": "stderr",
     "output_type": "stream",
     "text": [
      "Z-scoring data for MELD_H16_3T_FCD_001\n"
     ]
    },
    {
     "name": "stdout",
     "output_type": "stream",
     "text": [
      "MELD_H16_3T_FCD_003\n"
     ]
    },
    {
     "name": "stderr",
     "output_type": "stream",
     "text": [
      "Z-scoring data for MELD_H16_3T_FCD_003\n"
     ]
    },
    {
     "name": "stdout",
     "output_type": "stream",
     "text": [
      "MELD_H16_3T_FCD_004\n"
     ]
    },
    {
     "name": "stderr",
     "output_type": "stream",
     "text": [
      "Z-scoring data for MELD_H16_3T_FCD_004\n"
     ]
    },
    {
     "name": "stdout",
     "output_type": "stream",
     "text": [
      "MELD_H16_3T_FCD_005\n"
     ]
    },
    {
     "name": "stderr",
     "output_type": "stream",
     "text": [
      "Z-scoring data for MELD_H16_3T_FCD_005\n"
     ]
    },
    {
     "name": "stdout",
     "output_type": "stream",
     "text": [
      "MELD_H16_3T_FCD_008\n"
     ]
    },
    {
     "name": "stderr",
     "output_type": "stream",
     "text": [
      "Z-scoring data for MELD_H16_3T_FCD_008\n"
     ]
    },
    {
     "name": "stdout",
     "output_type": "stream",
     "text": [
      "MELD_H16_3T_FCD_010\n"
     ]
    },
    {
     "name": "stderr",
     "output_type": "stream",
     "text": [
      "Z-scoring data for MELD_H16_3T_FCD_010\n"
     ]
    },
    {
     "name": "stdout",
     "output_type": "stream",
     "text": [
      "MELD_H16_3T_FCD_013\n"
     ]
    },
    {
     "name": "stderr",
     "output_type": "stream",
     "text": [
      "Z-scoring data for MELD_H16_3T_FCD_013\n"
     ]
    },
    {
     "name": "stdout",
     "output_type": "stream",
     "text": [
      "MELD_H16_3T_FCD_015\n"
     ]
    },
    {
     "name": "stderr",
     "output_type": "stream",
     "text": [
      "Z-scoring data for MELD_H16_3T_FCD_015\n"
     ]
    },
    {
     "name": "stdout",
     "output_type": "stream",
     "text": [
      "MELD_H16_3T_FCD_016\n"
     ]
    },
    {
     "name": "stderr",
     "output_type": "stream",
     "text": [
      "Z-scoring data for MELD_H16_3T_FCD_016\n"
     ]
    },
    {
     "name": "stdout",
     "output_type": "stream",
     "text": [
      "MELD_H16_3T_FCD_017\n"
     ]
    },
    {
     "name": "stderr",
     "output_type": "stream",
     "text": [
      "Z-scoring data for MELD_H16_3T_FCD_017\n"
     ]
    },
    {
     "name": "stdout",
     "output_type": "stream",
     "text": [
      "MELD_H16_3T_FCD_022\n"
     ]
    },
    {
     "name": "stderr",
     "output_type": "stream",
     "text": [
      "Z-scoring data for MELD_H16_3T_FCD_022\n"
     ]
    },
    {
     "name": "stdout",
     "output_type": "stream",
     "text": [
      "MELD_H16_3T_FCD_023\n"
     ]
    },
    {
     "name": "stderr",
     "output_type": "stream",
     "text": [
      "Z-scoring data for MELD_H16_3T_FCD_023\n"
     ]
    },
    {
     "name": "stdout",
     "output_type": "stream",
     "text": [
      "MELD_H16_3T_FCD_026\n"
     ]
    },
    {
     "name": "stderr",
     "output_type": "stream",
     "text": [
      "Z-scoring data for MELD_H16_3T_FCD_026\n"
     ]
    },
    {
     "name": "stdout",
     "output_type": "stream",
     "text": [
      "MELD_H16_3T_FCD_045\n"
     ]
    },
    {
     "name": "stderr",
     "output_type": "stream",
     "text": [
      "Z-scoring data for MELD_H16_3T_FCD_045\n"
     ]
    },
    {
     "name": "stdout",
     "output_type": "stream",
     "text": [
      "MELD_H16_3T_FCD_048\n"
     ]
    },
    {
     "name": "stderr",
     "output_type": "stream",
     "text": [
      "Z-scoring data for MELD_H16_3T_FCD_048\n"
     ]
    },
    {
     "name": "stdout",
     "output_type": "stream",
     "text": [
      "MELD_H17_15T_FCD_0011\n"
     ]
    },
    {
     "name": "stderr",
     "output_type": "stream",
     "text": [
      "Z-scoring data for MELD_H17_15T_FCD_0011\n"
     ]
    },
    {
     "name": "stdout",
     "output_type": "stream",
     "text": [
      "MELD_H17_15T_FCD_0017\n"
     ]
    },
    {
     "name": "stderr",
     "output_type": "stream",
     "text": [
      "Z-scoring data for MELD_H17_15T_FCD_0017\n"
     ]
    },
    {
     "name": "stdout",
     "output_type": "stream",
     "text": [
      "MELD_H17_15T_FCD_0102\n"
     ]
    },
    {
     "name": "stderr",
     "output_type": "stream",
     "text": [
      "Z-scoring data for MELD_H17_15T_FCD_0102\n"
     ]
    },
    {
     "name": "stdout",
     "output_type": "stream",
     "text": [
      "MELD_H17_15T_FCD_0104\n"
     ]
    },
    {
     "name": "stderr",
     "output_type": "stream",
     "text": [
      "Z-scoring data for MELD_H17_15T_FCD_0104\n"
     ]
    },
    {
     "name": "stdout",
     "output_type": "stream",
     "text": [
      "MELD_H17_15T_FCD_0139\n"
     ]
    },
    {
     "name": "stderr",
     "output_type": "stream",
     "text": [
      "Z-scoring data for MELD_H17_15T_FCD_0139\n"
     ]
    },
    {
     "name": "stdout",
     "output_type": "stream",
     "text": [
      "MELD_H17_3T_FCD_0001\n"
     ]
    },
    {
     "name": "stderr",
     "output_type": "stream",
     "text": [
      "Z-scoring data for MELD_H17_3T_FCD_0001\n"
     ]
    },
    {
     "name": "stdout",
     "output_type": "stream",
     "text": [
      "MELD_H17_3T_FCD_0014\n"
     ]
    },
    {
     "name": "stderr",
     "output_type": "stream",
     "text": [
      "Z-scoring data for MELD_H17_3T_FCD_0014\n"
     ]
    },
    {
     "name": "stdout",
     "output_type": "stream",
     "text": [
      "MELD_H17_3T_FCD_0018\n"
     ]
    },
    {
     "name": "stderr",
     "output_type": "stream",
     "text": [
      "Z-scoring data for MELD_H17_3T_FCD_0018\n"
     ]
    },
    {
     "name": "stdout",
     "output_type": "stream",
     "text": [
      "MELD_H17_3T_FCD_0022\n"
     ]
    },
    {
     "name": "stderr",
     "output_type": "stream",
     "text": [
      "Z-scoring data for MELD_H17_3T_FCD_0022\n"
     ]
    },
    {
     "name": "stdout",
     "output_type": "stream",
     "text": [
      "MELD_H17_3T_FCD_0039\n"
     ]
    },
    {
     "name": "stderr",
     "output_type": "stream",
     "text": [
      "Z-scoring data for MELD_H17_3T_FCD_0039\n"
     ]
    },
    {
     "name": "stdout",
     "output_type": "stream",
     "text": [
      "MELD_H17_3T_FCD_0043\n"
     ]
    },
    {
     "name": "stderr",
     "output_type": "stream",
     "text": [
      "Z-scoring data for MELD_H17_3T_FCD_0043\n"
     ]
    },
    {
     "name": "stdout",
     "output_type": "stream",
     "text": [
      "MELD_H17_3T_FCD_0044\n"
     ]
    },
    {
     "name": "stderr",
     "output_type": "stream",
     "text": [
      "Z-scoring data for MELD_H17_3T_FCD_0044\n"
     ]
    },
    {
     "name": "stdout",
     "output_type": "stream",
     "text": [
      "MELD_H17_3T_FCD_0053\n"
     ]
    },
    {
     "name": "stderr",
     "output_type": "stream",
     "text": [
      "Z-scoring data for MELD_H17_3T_FCD_0053\n"
     ]
    },
    {
     "name": "stdout",
     "output_type": "stream",
     "text": [
      "MELD_H17_3T_FCD_0054\n"
     ]
    },
    {
     "name": "stderr",
     "output_type": "stream",
     "text": [
      "Z-scoring data for MELD_H17_3T_FCD_0054\n"
     ]
    },
    {
     "name": "stdout",
     "output_type": "stream",
     "text": [
      "MELD_H17_3T_FCD_0057\n"
     ]
    },
    {
     "name": "stderr",
     "output_type": "stream",
     "text": [
      "Z-scoring data for MELD_H17_3T_FCD_0057\n"
     ]
    },
    {
     "name": "stdout",
     "output_type": "stream",
     "text": [
      "MELD_H17_3T_FCD_0061\n"
     ]
    },
    {
     "name": "stderr",
     "output_type": "stream",
     "text": [
      "Z-scoring data for MELD_H17_3T_FCD_0061\n"
     ]
    },
    {
     "name": "stdout",
     "output_type": "stream",
     "text": [
      "MELD_H17_3T_FCD_0067\n"
     ]
    },
    {
     "name": "stderr",
     "output_type": "stream",
     "text": [
      "Z-scoring data for MELD_H17_3T_FCD_0067\n"
     ]
    },
    {
     "name": "stdout",
     "output_type": "stream",
     "text": [
      "MELD_H17_3T_FCD_0070\n"
     ]
    },
    {
     "name": "stderr",
     "output_type": "stream",
     "text": [
      "Z-scoring data for MELD_H17_3T_FCD_0070\n"
     ]
    },
    {
     "name": "stdout",
     "output_type": "stream",
     "text": [
      "MELD_H17_3T_FCD_0076\n"
     ]
    },
    {
     "name": "stderr",
     "output_type": "stream",
     "text": [
      "Z-scoring data for MELD_H17_3T_FCD_0076\n"
     ]
    },
    {
     "name": "stdout",
     "output_type": "stream",
     "text": [
      "MELD_H17_3T_FCD_0079\n"
     ]
    },
    {
     "name": "stderr",
     "output_type": "stream",
     "text": [
      "Z-scoring data for MELD_H17_3T_FCD_0079\n"
     ]
    },
    {
     "name": "stdout",
     "output_type": "stream",
     "text": [
      "MELD_H17_3T_FCD_0084\n"
     ]
    },
    {
     "name": "stderr",
     "output_type": "stream",
     "text": [
      "Z-scoring data for MELD_H17_3T_FCD_0084\n"
     ]
    },
    {
     "name": "stdout",
     "output_type": "stream",
     "text": [
      "MELD_H17_3T_FCD_0086\n"
     ]
    },
    {
     "name": "stderr",
     "output_type": "stream",
     "text": [
      "Z-scoring data for MELD_H17_3T_FCD_0086\n"
     ]
    },
    {
     "name": "stdout",
     "output_type": "stream",
     "text": [
      "MELD_H17_3T_FCD_0090\n"
     ]
    },
    {
     "name": "stderr",
     "output_type": "stream",
     "text": [
      "Z-scoring data for MELD_H17_3T_FCD_0090\n"
     ]
    },
    {
     "name": "stdout",
     "output_type": "stream",
     "text": [
      "MELD_H17_3T_FCD_0091\n"
     ]
    },
    {
     "name": "stderr",
     "output_type": "stream",
     "text": [
      "Z-scoring data for MELD_H17_3T_FCD_0091\n"
     ]
    },
    {
     "name": "stdout",
     "output_type": "stream",
     "text": [
      "MELD_H17_3T_FCD_0094\n"
     ]
    },
    {
     "name": "stderr",
     "output_type": "stream",
     "text": [
      "Z-scoring data for MELD_H17_3T_FCD_0094\n"
     ]
    },
    {
     "name": "stdout",
     "output_type": "stream",
     "text": [
      "MELD_H17_3T_FCD_0098\n"
     ]
    },
    {
     "name": "stderr",
     "output_type": "stream",
     "text": [
      "Z-scoring data for MELD_H17_3T_FCD_0098\n"
     ]
    },
    {
     "name": "stdout",
     "output_type": "stream",
     "text": [
      "MELD_H17_3T_FCD_0112\n"
     ]
    },
    {
     "name": "stderr",
     "output_type": "stream",
     "text": [
      "Z-scoring data for MELD_H17_3T_FCD_0112\n"
     ]
    },
    {
     "name": "stdout",
     "output_type": "stream",
     "text": [
      "MELD_H17_3T_FCD_0116\n"
     ]
    },
    {
     "name": "stderr",
     "output_type": "stream",
     "text": [
      "Z-scoring data for MELD_H17_3T_FCD_0116\n"
     ]
    },
    {
     "name": "stdout",
     "output_type": "stream",
     "text": [
      "MELD_H17_3T_FCD_0120\n"
     ]
    },
    {
     "name": "stderr",
     "output_type": "stream",
     "text": [
      "Z-scoring data for MELD_H17_3T_FCD_0120\n"
     ]
    },
    {
     "name": "stdout",
     "output_type": "stream",
     "text": [
      "MELD_H17_3T_FCD_0127\n"
     ]
    },
    {
     "name": "stderr",
     "output_type": "stream",
     "text": [
      "Z-scoring data for MELD_H17_3T_FCD_0127\n"
     ]
    },
    {
     "name": "stdout",
     "output_type": "stream",
     "text": [
      "MELD_H17_3T_FCD_0135\n"
     ]
    },
    {
     "name": "stderr",
     "output_type": "stream",
     "text": [
      "Z-scoring data for MELD_H17_3T_FCD_0135\n"
     ]
    },
    {
     "name": "stdout",
     "output_type": "stream",
     "text": [
      "MELD_H17_3T_FCD_0143\n"
     ]
    },
    {
     "name": "stderr",
     "output_type": "stream",
     "text": [
      "Z-scoring data for MELD_H17_3T_FCD_0143\n"
     ]
    },
    {
     "name": "stdout",
     "output_type": "stream",
     "text": [
      "MELD_H18_3T_FCD_0001\n"
     ]
    },
    {
     "name": "stderr",
     "output_type": "stream",
     "text": [
      "Z-scoring data for MELD_H18_3T_FCD_0001\n"
     ]
    },
    {
     "name": "stdout",
     "output_type": "stream",
     "text": [
      "MELD_H18_3T_FCD_0006\n"
     ]
    },
    {
     "name": "stderr",
     "output_type": "stream",
     "text": [
      "Z-scoring data for MELD_H18_3T_FCD_0006\n"
     ]
    },
    {
     "name": "stdout",
     "output_type": "stream",
     "text": [
      "MELD_H18_3T_FCD_0008\n"
     ]
    },
    {
     "name": "stderr",
     "output_type": "stream",
     "text": [
      "Z-scoring data for MELD_H18_3T_FCD_0008\n"
     ]
    },
    {
     "name": "stdout",
     "output_type": "stream",
     "text": [
      "MELD_H18_3T_FCD_0009\n"
     ]
    },
    {
     "name": "stderr",
     "output_type": "stream",
     "text": [
      "Z-scoring data for MELD_H18_3T_FCD_0009\n"
     ]
    },
    {
     "name": "stdout",
     "output_type": "stream",
     "text": [
      "MELD_H18_3T_FCD_0101\n"
     ]
    },
    {
     "name": "stderr",
     "output_type": "stream",
     "text": [
      "Z-scoring data for MELD_H18_3T_FCD_0101\n"
     ]
    },
    {
     "name": "stdout",
     "output_type": "stream",
     "text": [
      "MELD_H18_3T_FCD_0109\n"
     ]
    },
    {
     "name": "stderr",
     "output_type": "stream",
     "text": [
      "Z-scoring data for MELD_H18_3T_FCD_0109\n"
     ]
    },
    {
     "name": "stdout",
     "output_type": "stream",
     "text": [
      "MELD_H18_3T_FCD_0115\n"
     ]
    },
    {
     "name": "stderr",
     "output_type": "stream",
     "text": [
      "Z-scoring data for MELD_H18_3T_FCD_0115\n"
     ]
    },
    {
     "name": "stdout",
     "output_type": "stream",
     "text": [
      "MELD_H18_3T_FCD_0124\n"
     ]
    },
    {
     "name": "stderr",
     "output_type": "stream",
     "text": [
      "Z-scoring data for MELD_H18_3T_FCD_0124\n"
     ]
    },
    {
     "name": "stdout",
     "output_type": "stream",
     "text": [
      "MELD_H21_15T_FCD_0036\n"
     ]
    },
    {
     "name": "stderr",
     "output_type": "stream",
     "text": [
      "Z-scoring data for MELD_H21_15T_FCD_0036\n"
     ]
    },
    {
     "name": "stdout",
     "output_type": "stream",
     "text": [
      "MELD_H21_15T_FCD_0038\n"
     ]
    },
    {
     "name": "stderr",
     "output_type": "stream",
     "text": [
      "Z-scoring data for MELD_H21_15T_FCD_0038\n"
     ]
    },
    {
     "name": "stdout",
     "output_type": "stream",
     "text": [
      "MELD_H21_15T_FCD_0040\n"
     ]
    },
    {
     "name": "stderr",
     "output_type": "stream",
     "text": [
      "Z-scoring data for MELD_H21_15T_FCD_0040\n"
     ]
    },
    {
     "name": "stdout",
     "output_type": "stream",
     "text": [
      "MELD_H21_15T_FCD_0043\n"
     ]
    },
    {
     "name": "stderr",
     "output_type": "stream",
     "text": [
      "Z-scoring data for MELD_H21_15T_FCD_0043\n"
     ]
    },
    {
     "name": "stdout",
     "output_type": "stream",
     "text": [
      "MELD_H21_15T_FCD_0047\n"
     ]
    },
    {
     "name": "stderr",
     "output_type": "stream",
     "text": [
      "Z-scoring data for MELD_H21_15T_FCD_0047\n"
     ]
    },
    {
     "name": "stdout",
     "output_type": "stream",
     "text": [
      "MELD_H21_15T_FCD_0049\n"
     ]
    },
    {
     "name": "stderr",
     "output_type": "stream",
     "text": [
      "Z-scoring data for MELD_H21_15T_FCD_0049\n"
     ]
    },
    {
     "name": "stdout",
     "output_type": "stream",
     "text": [
      "MELD_H21_15T_FCD_0050\n"
     ]
    },
    {
     "name": "stderr",
     "output_type": "stream",
     "text": [
      "Z-scoring data for MELD_H21_15T_FCD_0050\n"
     ]
    },
    {
     "name": "stdout",
     "output_type": "stream",
     "text": [
      "MELD_H21_15T_FCD_0051\n"
     ]
    },
    {
     "name": "stderr",
     "output_type": "stream",
     "text": [
      "Z-scoring data for MELD_H21_15T_FCD_0051\n"
     ]
    },
    {
     "name": "stdout",
     "output_type": "stream",
     "text": [
      "MELD_H21_15T_FCD_0052\n"
     ]
    },
    {
     "name": "stderr",
     "output_type": "stream",
     "text": [
      "Z-scoring data for MELD_H21_15T_FCD_0052\n"
     ]
    },
    {
     "name": "stdout",
     "output_type": "stream",
     "text": [
      "MELD_H21_3T_FCD_0007\n"
     ]
    },
    {
     "name": "stderr",
     "output_type": "stream",
     "text": [
      "Z-scoring data for MELD_H21_3T_FCD_0007\n"
     ]
    },
    {
     "name": "stdout",
     "output_type": "stream",
     "text": [
      "MELD_H21_3T_FCD_0008\n"
     ]
    },
    {
     "name": "stderr",
     "output_type": "stream",
     "text": [
      "Z-scoring data for MELD_H21_3T_FCD_0008\n"
     ]
    },
    {
     "name": "stdout",
     "output_type": "stream",
     "text": [
      "MELD_H21_3T_FCD_0009\n"
     ]
    },
    {
     "name": "stderr",
     "output_type": "stream",
     "text": [
      "Z-scoring data for MELD_H21_3T_FCD_0009\n"
     ]
    },
    {
     "name": "stdout",
     "output_type": "stream",
     "text": [
      "MELD_H21_3T_FCD_0013\n"
     ]
    },
    {
     "name": "stderr",
     "output_type": "stream",
     "text": [
      "Z-scoring data for MELD_H21_3T_FCD_0013\n"
     ]
    },
    {
     "name": "stdout",
     "output_type": "stream",
     "text": [
      "MELD_H21_3T_FCD_0016\n"
     ]
    },
    {
     "name": "stderr",
     "output_type": "stream",
     "text": [
      "Z-scoring data for MELD_H21_3T_FCD_0016\n"
     ]
    },
    {
     "name": "stdout",
     "output_type": "stream",
     "text": [
      "MELD_H21_3T_FCD_0017\n"
     ]
    },
    {
     "name": "stderr",
     "output_type": "stream",
     "text": [
      "Z-scoring data for MELD_H21_3T_FCD_0017\n"
     ]
    },
    {
     "name": "stdout",
     "output_type": "stream",
     "text": [
      "MELD_H21_3T_FCD_0018\n"
     ]
    },
    {
     "name": "stderr",
     "output_type": "stream",
     "text": [
      "Z-scoring data for MELD_H21_3T_FCD_0018\n"
     ]
    },
    {
     "name": "stdout",
     "output_type": "stream",
     "text": [
      "MELD_H21_3T_FCD_0030\n"
     ]
    },
    {
     "name": "stderr",
     "output_type": "stream",
     "text": [
      "Z-scoring data for MELD_H21_3T_FCD_0030\n"
     ]
    },
    {
     "name": "stdout",
     "output_type": "stream",
     "text": [
      "MELD_H21_3T_FCD_0033\n"
     ]
    },
    {
     "name": "stderr",
     "output_type": "stream",
     "text": [
      "Z-scoring data for MELD_H21_3T_FCD_0033\n"
     ]
    },
    {
     "name": "stdout",
     "output_type": "stream",
     "text": [
      "MELD_H21_3T_FCD_0034\n"
     ]
    },
    {
     "name": "stderr",
     "output_type": "stream",
     "text": [
      "Z-scoring data for MELD_H21_3T_FCD_0034\n"
     ]
    },
    {
     "name": "stdout",
     "output_type": "stream",
     "text": [
      "MELD_H21_3T_FCD_0035\n"
     ]
    },
    {
     "name": "stderr",
     "output_type": "stream",
     "text": [
      "Z-scoring data for MELD_H21_3T_FCD_0035\n"
     ]
    },
    {
     "name": "stdout",
     "output_type": "stream",
     "text": [
      "MELD_H21_3T_FCD_0046\n"
     ]
    },
    {
     "name": "stderr",
     "output_type": "stream",
     "text": [
      "Z-scoring data for MELD_H21_3T_FCD_0046\n"
     ]
    },
    {
     "name": "stdout",
     "output_type": "stream",
     "text": [
      "MELD_H21_3T_FCD_0048\n"
     ]
    },
    {
     "name": "stderr",
     "output_type": "stream",
     "text": [
      "Z-scoring data for MELD_H21_3T_FCD_0048\n"
     ]
    },
    {
     "name": "stdout",
     "output_type": "stream",
     "text": [
      "MELD_H23_15T_FCD_0003\n"
     ]
    },
    {
     "name": "stderr",
     "output_type": "stream",
     "text": [
      "Z-scoring data for MELD_H23_15T_FCD_0003\n"
     ]
    },
    {
     "name": "stdout",
     "output_type": "stream",
     "text": [
      "MELD_H23_15T_FCD_0004\n"
     ]
    },
    {
     "name": "stderr",
     "output_type": "stream",
     "text": [
      "Z-scoring data for MELD_H23_15T_FCD_0004\n"
     ]
    },
    {
     "name": "stdout",
     "output_type": "stream",
     "text": [
      "MELD_H23_15T_FCD_0005\n"
     ]
    },
    {
     "name": "stderr",
     "output_type": "stream",
     "text": [
      "Z-scoring data for MELD_H23_15T_FCD_0005\n"
     ]
    },
    {
     "name": "stdout",
     "output_type": "stream",
     "text": [
      "MELD_H23_15T_FCD_0011\n"
     ]
    },
    {
     "name": "stderr",
     "output_type": "stream",
     "text": [
      "Z-scoring data for MELD_H23_15T_FCD_0011\n"
     ]
    },
    {
     "name": "stdout",
     "output_type": "stream",
     "text": [
      "MELD_H23_15T_FCD_0013\n"
     ]
    },
    {
     "name": "stderr",
     "output_type": "stream",
     "text": [
      "Z-scoring data for MELD_H23_15T_FCD_0013\n"
     ]
    },
    {
     "name": "stdout",
     "output_type": "stream",
     "text": [
      "MELD_H23_15T_FCD_0015\n"
     ]
    },
    {
     "name": "stderr",
     "output_type": "stream",
     "text": [
      "Z-scoring data for MELD_H23_15T_FCD_0015\n"
     ]
    },
    {
     "name": "stdout",
     "output_type": "stream",
     "text": [
      "MELD_H23_15T_FCD_0020\n"
     ]
    },
    {
     "name": "stderr",
     "output_type": "stream",
     "text": [
      "Z-scoring data for MELD_H23_15T_FCD_0020\n"
     ]
    },
    {
     "name": "stdout",
     "output_type": "stream",
     "text": [
      "MELD_H23_15T_FCD_0021\n"
     ]
    },
    {
     "name": "stderr",
     "output_type": "stream",
     "text": [
      "Z-scoring data for MELD_H23_15T_FCD_0021\n"
     ]
    },
    {
     "name": "stdout",
     "output_type": "stream",
     "text": [
      "MELD_H23_15T_FCD_0022\n"
     ]
    },
    {
     "name": "stderr",
     "output_type": "stream",
     "text": [
      "Z-scoring data for MELD_H23_15T_FCD_0022\n"
     ]
    },
    {
     "name": "stdout",
     "output_type": "stream",
     "text": [
      "MELD_H23_15T_FCD_0023\n"
     ]
    },
    {
     "name": "stderr",
     "output_type": "stream",
     "text": [
      "Z-scoring data for MELD_H23_15T_FCD_0023\n"
     ]
    },
    {
     "name": "stdout",
     "output_type": "stream",
     "text": [
      "MELD_H23_15T_FCD_0025\n"
     ]
    },
    {
     "name": "stderr",
     "output_type": "stream",
     "text": [
      "Z-scoring data for MELD_H23_15T_FCD_0025\n"
     ]
    },
    {
     "name": "stdout",
     "output_type": "stream",
     "text": [
      "MELD_H23_15T_FCD_0027\n"
     ]
    },
    {
     "name": "stderr",
     "output_type": "stream",
     "text": [
      "Z-scoring data for MELD_H23_15T_FCD_0027\n"
     ]
    },
    {
     "name": "stdout",
     "output_type": "stream",
     "text": [
      "MELD_H23_15T_FCD_0030\n"
     ]
    },
    {
     "name": "stderr",
     "output_type": "stream",
     "text": [
      "Z-scoring data for MELD_H23_15T_FCD_0030\n"
     ]
    },
    {
     "name": "stdout",
     "output_type": "stream",
     "text": [
      "MELD_H23_15T_FCD_0031\n"
     ]
    },
    {
     "name": "stderr",
     "output_type": "stream",
     "text": [
      "Z-scoring data for MELD_H23_15T_FCD_0031\n"
     ]
    },
    {
     "name": "stdout",
     "output_type": "stream",
     "text": [
      "MELD_H23_15T_FCD_0032\n"
     ]
    },
    {
     "name": "stderr",
     "output_type": "stream",
     "text": [
      "Z-scoring data for MELD_H23_15T_FCD_0032\n"
     ]
    },
    {
     "name": "stdout",
     "output_type": "stream",
     "text": [
      "MELD_H24_3T_FCD_0003\n"
     ]
    },
    {
     "name": "stderr",
     "output_type": "stream",
     "text": [
      "Z-scoring data for MELD_H24_3T_FCD_0003\n"
     ]
    },
    {
     "name": "stdout",
     "output_type": "stream",
     "text": [
      "MELD_H24_3T_FCD_0005\n"
     ]
    },
    {
     "name": "stderr",
     "output_type": "stream",
     "text": [
      "Z-scoring data for MELD_H24_3T_FCD_0005\n"
     ]
    },
    {
     "name": "stdout",
     "output_type": "stream",
     "text": [
      "MELD_H24_3T_FCD_0006\n"
     ]
    },
    {
     "name": "stderr",
     "output_type": "stream",
     "text": [
      "Z-scoring data for MELD_H24_3T_FCD_0006\n"
     ]
    },
    {
     "name": "stdout",
     "output_type": "stream",
     "text": [
      "MELD_H24_3T_FCD_0007\n"
     ]
    },
    {
     "name": "stderr",
     "output_type": "stream",
     "text": [
      "Z-scoring data for MELD_H24_3T_FCD_0007\n"
     ]
    },
    {
     "name": "stdout",
     "output_type": "stream",
     "text": [
      "MELD_H24_3T_FCD_0011\n"
     ]
    },
    {
     "name": "stderr",
     "output_type": "stream",
     "text": [
      "Z-scoring data for MELD_H24_3T_FCD_0011\n"
     ]
    },
    {
     "name": "stdout",
     "output_type": "stream",
     "text": [
      "MELD_H24_3T_FCD_0012\n"
     ]
    },
    {
     "name": "stderr",
     "output_type": "stream",
     "text": [
      "Z-scoring data for MELD_H24_3T_FCD_0012\n"
     ]
    },
    {
     "name": "stdout",
     "output_type": "stream",
     "text": [
      "MELD_H24_3T_FCD_0013\n"
     ]
    },
    {
     "name": "stderr",
     "output_type": "stream",
     "text": [
      "Z-scoring data for MELD_H24_3T_FCD_0013\n"
     ]
    },
    {
     "name": "stdout",
     "output_type": "stream",
     "text": [
      "MELD_H24_3T_FCD_0015\n"
     ]
    },
    {
     "name": "stderr",
     "output_type": "stream",
     "text": [
      "Z-scoring data for MELD_H24_3T_FCD_0015\n"
     ]
    },
    {
     "name": "stdout",
     "output_type": "stream",
     "text": [
      "MELD_H24_3T_FCD_0025\n"
     ]
    },
    {
     "name": "stderr",
     "output_type": "stream",
     "text": [
      "Z-scoring data for MELD_H24_3T_FCD_0025\n"
     ]
    },
    {
     "name": "stdout",
     "output_type": "stream",
     "text": [
      "MELD_H24_3T_FCD_0026\n"
     ]
    },
    {
     "name": "stderr",
     "output_type": "stream",
     "text": [
      "Z-scoring data for MELD_H24_3T_FCD_0026\n"
     ]
    },
    {
     "name": "stdout",
     "output_type": "stream",
     "text": [
      "MELD_H24_3T_FCD_0029\n"
     ]
    },
    {
     "name": "stderr",
     "output_type": "stream",
     "text": [
      "Z-scoring data for MELD_H24_3T_FCD_0029\n"
     ]
    },
    {
     "name": "stdout",
     "output_type": "stream",
     "text": [
      "MELD_H24_3T_FCD_0030\n"
     ]
    },
    {
     "name": "stderr",
     "output_type": "stream",
     "text": [
      "Z-scoring data for MELD_H24_3T_FCD_0030\n"
     ]
    },
    {
     "name": "stdout",
     "output_type": "stream",
     "text": [
      "MELD_H24_3T_FCD_0036\n"
     ]
    },
    {
     "name": "stderr",
     "output_type": "stream",
     "text": [
      "Z-scoring data for MELD_H24_3T_FCD_0036\n"
     ]
    },
    {
     "name": "stdout",
     "output_type": "stream",
     "text": [
      "MELD_H24_3T_FCD_0037\n"
     ]
    },
    {
     "name": "stderr",
     "output_type": "stream",
     "text": [
      "Z-scoring data for MELD_H24_3T_FCD_0037\n"
     ]
    },
    {
     "name": "stdout",
     "output_type": "stream",
     "text": [
      "MELD_H24_3T_FCD_0040\n"
     ]
    },
    {
     "name": "stderr",
     "output_type": "stream",
     "text": [
      "Z-scoring data for MELD_H24_3T_FCD_0040\n"
     ]
    },
    {
     "name": "stdout",
     "output_type": "stream",
     "text": [
      "MELD_H24_3T_FCD_0041\n"
     ]
    },
    {
     "name": "stderr",
     "output_type": "stream",
     "text": [
      "Z-scoring data for MELD_H24_3T_FCD_0041\n"
     ]
    },
    {
     "name": "stdout",
     "output_type": "stream",
     "text": [
      "MELD_H26_15T_FCD_0001\n"
     ]
    },
    {
     "name": "stderr",
     "output_type": "stream",
     "text": [
      "Z-scoring data for MELD_H26_15T_FCD_0001\n"
     ]
    },
    {
     "name": "stdout",
     "output_type": "stream",
     "text": [
      "MELD_H26_15T_FCD_0005\n"
     ]
    },
    {
     "name": "stderr",
     "output_type": "stream",
     "text": [
      "Z-scoring data for MELD_H26_15T_FCD_0005\n"
     ]
    },
    {
     "name": "stdout",
     "output_type": "stream",
     "text": [
      "MELD_H26_15T_FCD_0009\n"
     ]
    },
    {
     "name": "stderr",
     "output_type": "stream",
     "text": [
      "Z-scoring data for MELD_H26_15T_FCD_0009\n"
     ]
    },
    {
     "name": "stdout",
     "output_type": "stream",
     "text": [
      "MELD_H26_15T_FCD_0010\n"
     ]
    },
    {
     "name": "stderr",
     "output_type": "stream",
     "text": [
      "Z-scoring data for MELD_H26_15T_FCD_0010\n"
     ]
    },
    {
     "name": "stdout",
     "output_type": "stream",
     "text": [
      "MELD_H26_3T_FCD_0002\n"
     ]
    },
    {
     "name": "stderr",
     "output_type": "stream",
     "text": [
      "Z-scoring data for MELD_H26_3T_FCD_0002\n"
     ]
    },
    {
     "name": "stdout",
     "output_type": "stream",
     "text": [
      "MELD_H26_3T_FCD_0004\n"
     ]
    },
    {
     "name": "stderr",
     "output_type": "stream",
     "text": [
      "Z-scoring data for MELD_H26_3T_FCD_0004\n"
     ]
    },
    {
     "name": "stdout",
     "output_type": "stream",
     "text": [
      "MELD_H26_3T_FCD_0007\n"
     ]
    },
    {
     "name": "stderr",
     "output_type": "stream",
     "text": [
      "Z-scoring data for MELD_H26_3T_FCD_0007\n"
     ]
    },
    {
     "name": "stdout",
     "output_type": "stream",
     "text": [
      "MELD_H2_15T_FCD_0001\n"
     ]
    },
    {
     "name": "stderr",
     "output_type": "stream",
     "text": [
      "Z-scoring data for MELD_H2_15T_FCD_0001\n"
     ]
    },
    {
     "name": "stdout",
     "output_type": "stream",
     "text": [
      "MELD_H2_15T_FCD_0003\n"
     ]
    },
    {
     "name": "stderr",
     "output_type": "stream",
     "text": [
      "Z-scoring data for MELD_H2_15T_FCD_0003\n"
     ]
    },
    {
     "name": "stdout",
     "output_type": "stream",
     "text": [
      "MELD_H2_15T_FCD_0005\n"
     ]
    },
    {
     "name": "stderr",
     "output_type": "stream",
     "text": [
      "Z-scoring data for MELD_H2_15T_FCD_0005\n"
     ]
    },
    {
     "name": "stdout",
     "output_type": "stream",
     "text": [
      "MELD_H2_15T_FCD_0007\n"
     ]
    },
    {
     "name": "stderr",
     "output_type": "stream",
     "text": [
      "Z-scoring data for MELD_H2_15T_FCD_0007\n"
     ]
    },
    {
     "name": "stdout",
     "output_type": "stream",
     "text": [
      "MELD_H2_15T_FCD_0008\n"
     ]
    },
    {
     "name": "stderr",
     "output_type": "stream",
     "text": [
      "Z-scoring data for MELD_H2_15T_FCD_0008\n"
     ]
    },
    {
     "name": "stdout",
     "output_type": "stream",
     "text": [
      "MELD_H2_15T_FCD_0009\n"
     ]
    },
    {
     "name": "stderr",
     "output_type": "stream",
     "text": [
      "Z-scoring data for MELD_H2_15T_FCD_0009\n"
     ]
    },
    {
     "name": "stdout",
     "output_type": "stream",
     "text": [
      "MELD_H2_15T_FCD_0014\n"
     ]
    },
    {
     "name": "stderr",
     "output_type": "stream",
     "text": [
      "Z-scoring data for MELD_H2_15T_FCD_0014\n"
     ]
    },
    {
     "name": "stdout",
     "output_type": "stream",
     "text": [
      "MELD_H2_15T_FCD_0015\n"
     ]
    },
    {
     "name": "stderr",
     "output_type": "stream",
     "text": [
      "Z-scoring data for MELD_H2_15T_FCD_0015\n"
     ]
    },
    {
     "name": "stdout",
     "output_type": "stream",
     "text": [
      "MELD_H2_15T_FCD_0016\n"
     ]
    },
    {
     "name": "stderr",
     "output_type": "stream",
     "text": [
      "Z-scoring data for MELD_H2_15T_FCD_0016\n"
     ]
    },
    {
     "name": "stdout",
     "output_type": "stream",
     "text": [
      "MELD_H2_15T_FCD_0020\n"
     ]
    },
    {
     "name": "stderr",
     "output_type": "stream",
     "text": [
      "Z-scoring data for MELD_H2_15T_FCD_0020\n"
     ]
    },
    {
     "name": "stdout",
     "output_type": "stream",
     "text": [
      "MELD_H2_15T_FCD_0023\n"
     ]
    },
    {
     "name": "stderr",
     "output_type": "stream",
     "text": [
      "Z-scoring data for MELD_H2_15T_FCD_0023\n"
     ]
    },
    {
     "name": "stdout",
     "output_type": "stream",
     "text": [
      "MELD_H2_15T_FCD_0028\n"
     ]
    },
    {
     "name": "stderr",
     "output_type": "stream",
     "text": [
      "Z-scoring data for MELD_H2_15T_FCD_0028\n"
     ]
    },
    {
     "name": "stdout",
     "output_type": "stream",
     "text": [
      "MELD_H2_15T_FCD_0029\n"
     ]
    },
    {
     "name": "stderr",
     "output_type": "stream",
     "text": [
      "Z-scoring data for MELD_H2_15T_FCD_0029\n"
     ]
    },
    {
     "name": "stdout",
     "output_type": "stream",
     "text": [
      "MELD_H2_15T_FCD_0030\n"
     ]
    },
    {
     "name": "stderr",
     "output_type": "stream",
     "text": [
      "Z-scoring data for MELD_H2_15T_FCD_0030\n"
     ]
    },
    {
     "name": "stdout",
     "output_type": "stream",
     "text": [
      "MELD_H2_3T_FCD_0003\n"
     ]
    },
    {
     "name": "stderr",
     "output_type": "stream",
     "text": [
      "Z-scoring data for MELD_H2_3T_FCD_0003\n"
     ]
    },
    {
     "name": "stdout",
     "output_type": "stream",
     "text": [
      "MELD_H2_3T_FCD_0004\n"
     ]
    },
    {
     "name": "stderr",
     "output_type": "stream",
     "text": [
      "Z-scoring data for MELD_H2_3T_FCD_0004\n"
     ]
    },
    {
     "name": "stdout",
     "output_type": "stream",
     "text": [
      "MELD_H2_3T_FCD_0005\n"
     ]
    },
    {
     "name": "stderr",
     "output_type": "stream",
     "text": [
      "Z-scoring data for MELD_H2_3T_FCD_0005\n"
     ]
    },
    {
     "name": "stdout",
     "output_type": "stream",
     "text": [
      "MELD_H2_3T_FCD_0006\n"
     ]
    },
    {
     "name": "stderr",
     "output_type": "stream",
     "text": [
      "Z-scoring data for MELD_H2_3T_FCD_0006\n"
     ]
    },
    {
     "name": "stdout",
     "output_type": "stream",
     "text": [
      "MELD_H2_3T_FCD_0008\n"
     ]
    },
    {
     "name": "stderr",
     "output_type": "stream",
     "text": [
      "Z-scoring data for MELD_H2_3T_FCD_0008\n"
     ]
    },
    {
     "name": "stdout",
     "output_type": "stream",
     "text": [
      "MELD_H2_3T_FCD_0014\n"
     ]
    },
    {
     "name": "stderr",
     "output_type": "stream",
     "text": [
      "Z-scoring data for MELD_H2_3T_FCD_0014\n"
     ]
    },
    {
     "name": "stdout",
     "output_type": "stream",
     "text": [
      "MELD_H2_3T_FCD_0016\n"
     ]
    },
    {
     "name": "stderr",
     "output_type": "stream",
     "text": [
      "Z-scoring data for MELD_H2_3T_FCD_0016\n"
     ]
    },
    {
     "name": "stdout",
     "output_type": "stream",
     "text": [
      "MELD_H2_3T_FCD_0017\n"
     ]
    },
    {
     "name": "stderr",
     "output_type": "stream",
     "text": [
      "Z-scoring data for MELD_H2_3T_FCD_0017\n"
     ]
    },
    {
     "name": "stdout",
     "output_type": "stream",
     "text": [
      "MELD_H2_3T_FCD_0018\n"
     ]
    },
    {
     "name": "stderr",
     "output_type": "stream",
     "text": [
      "Z-scoring data for MELD_H2_3T_FCD_0018\n"
     ]
    },
    {
     "name": "stdout",
     "output_type": "stream",
     "text": [
      "MELD_H3_3T_FCD_0002\n"
     ]
    },
    {
     "name": "stderr",
     "output_type": "stream",
     "text": [
      "Z-scoring data for MELD_H3_3T_FCD_0002\n"
     ]
    },
    {
     "name": "stdout",
     "output_type": "stream",
     "text": [
      "MELD_H3_3T_FCD_0003\n"
     ]
    },
    {
     "name": "stderr",
     "output_type": "stream",
     "text": [
      "Z-scoring data for MELD_H3_3T_FCD_0003\n"
     ]
    },
    {
     "name": "stdout",
     "output_type": "stream",
     "text": [
      "MELD_H3_3T_FCD_0004\n"
     ]
    },
    {
     "name": "stderr",
     "output_type": "stream",
     "text": [
      "Z-scoring data for MELD_H3_3T_FCD_0004\n"
     ]
    },
    {
     "name": "stdout",
     "output_type": "stream",
     "text": [
      "MELD_H3_3T_FCD_0005\n"
     ]
    },
    {
     "name": "stderr",
     "output_type": "stream",
     "text": [
      "Z-scoring data for MELD_H3_3T_FCD_0005\n"
     ]
    },
    {
     "name": "stdout",
     "output_type": "stream",
     "text": [
      "MELD_H3_3T_FCD_0007\n"
     ]
    },
    {
     "name": "stderr",
     "output_type": "stream",
     "text": [
      "Z-scoring data for MELD_H3_3T_FCD_0007\n"
     ]
    },
    {
     "name": "stdout",
     "output_type": "stream",
     "text": [
      "MELD_H3_3T_FCD_0008\n"
     ]
    },
    {
     "name": "stderr",
     "output_type": "stream",
     "text": [
      "Z-scoring data for MELD_H3_3T_FCD_0008\n"
     ]
    },
    {
     "name": "stdout",
     "output_type": "stream",
     "text": [
      "MELD_H3_3T_FCD_0009\n"
     ]
    },
    {
     "name": "stderr",
     "output_type": "stream",
     "text": [
      "Z-scoring data for MELD_H3_3T_FCD_0009\n"
     ]
    },
    {
     "name": "stdout",
     "output_type": "stream",
     "text": [
      "MELD_H3_3T_FCD_0010\n"
     ]
    },
    {
     "name": "stderr",
     "output_type": "stream",
     "text": [
      "Z-scoring data for MELD_H3_3T_FCD_0010\n"
     ]
    },
    {
     "name": "stdout",
     "output_type": "stream",
     "text": [
      "MELD_H3_3T_FCD_0012\n"
     ]
    },
    {
     "name": "stderr",
     "output_type": "stream",
     "text": [
      "Z-scoring data for MELD_H3_3T_FCD_0012\n"
     ]
    },
    {
     "name": "stdout",
     "output_type": "stream",
     "text": [
      "MELD_H3_3T_FCD_0014\n"
     ]
    },
    {
     "name": "stderr",
     "output_type": "stream",
     "text": [
      "Z-scoring data for MELD_H3_3T_FCD_0014\n"
     ]
    },
    {
     "name": "stdout",
     "output_type": "stream",
     "text": [
      "MELD_H3_3T_FCD_0015\n"
     ]
    },
    {
     "name": "stderr",
     "output_type": "stream",
     "text": [
      "Z-scoring data for MELD_H3_3T_FCD_0015\n"
     ]
    },
    {
     "name": "stdout",
     "output_type": "stream",
     "text": [
      "MELD_H3_3T_FCD_0016\n"
     ]
    },
    {
     "name": "stderr",
     "output_type": "stream",
     "text": [
      "Z-scoring data for MELD_H3_3T_FCD_0016\n"
     ]
    },
    {
     "name": "stdout",
     "output_type": "stream",
     "text": [
      "MELD_H3_3T_FCD_0018\n"
     ]
    },
    {
     "name": "stderr",
     "output_type": "stream",
     "text": [
      "Z-scoring data for MELD_H3_3T_FCD_0018\n"
     ]
    },
    {
     "name": "stdout",
     "output_type": "stream",
     "text": [
      "MELD_H3_3T_FCD_0020\n"
     ]
    },
    {
     "name": "stderr",
     "output_type": "stream",
     "text": [
      "Z-scoring data for MELD_H3_3T_FCD_0020\n"
     ]
    },
    {
     "name": "stdout",
     "output_type": "stream",
     "text": [
      "MELD_H3_3T_FCD_0022\n"
     ]
    },
    {
     "name": "stderr",
     "output_type": "stream",
     "text": [
      "Z-scoring data for MELD_H3_3T_FCD_0022\n"
     ]
    },
    {
     "name": "stdout",
     "output_type": "stream",
     "text": [
      "MELD_H3_3T_FCD_0023\n"
     ]
    },
    {
     "name": "stderr",
     "output_type": "stream",
     "text": [
      "Z-scoring data for MELD_H3_3T_FCD_0023\n"
     ]
    },
    {
     "name": "stdout",
     "output_type": "stream",
     "text": [
      "MELD_H4_15T_FCD_0002\n"
     ]
    },
    {
     "name": "stderr",
     "output_type": "stream",
     "text": [
      "Z-scoring data for MELD_H4_15T_FCD_0002\n"
     ]
    },
    {
     "name": "stdout",
     "output_type": "stream",
     "text": [
      "MELD_H4_15T_FCD_0003\n"
     ]
    },
    {
     "name": "stderr",
     "output_type": "stream",
     "text": [
      "Z-scoring data for MELD_H4_15T_FCD_0003\n"
     ]
    },
    {
     "name": "stdout",
     "output_type": "stream",
     "text": [
      "MELD_H4_15T_FCD_0009\n"
     ]
    },
    {
     "name": "stderr",
     "output_type": "stream",
     "text": [
      "Z-scoring data for MELD_H4_15T_FCD_0009\n"
     ]
    },
    {
     "name": "stdout",
     "output_type": "stream",
     "text": [
      "MELD_H4_15T_FCD_0016\n"
     ]
    },
    {
     "name": "stderr",
     "output_type": "stream",
     "text": [
      "Z-scoring data for MELD_H4_15T_FCD_0016\n"
     ]
    },
    {
     "name": "stdout",
     "output_type": "stream",
     "text": [
      "MELD_H4_15T_FCD_0017\n"
     ]
    },
    {
     "name": "stderr",
     "output_type": "stream",
     "text": [
      "Z-scoring data for MELD_H4_15T_FCD_0017\n"
     ]
    },
    {
     "name": "stdout",
     "output_type": "stream",
     "text": [
      "MELD_H4_15T_FCD_0018\n"
     ]
    },
    {
     "name": "stderr",
     "output_type": "stream",
     "text": [
      "Z-scoring data for MELD_H4_15T_FCD_0018\n"
     ]
    },
    {
     "name": "stdout",
     "output_type": "stream",
     "text": [
      "MELD_H4_15T_FCD_0019\n"
     ]
    },
    {
     "name": "stderr",
     "output_type": "stream",
     "text": [
      "Z-scoring data for MELD_H4_15T_FCD_0019\n"
     ]
    },
    {
     "name": "stdout",
     "output_type": "stream",
     "text": [
      "MELD_H4_15T_FCD_0020\n"
     ]
    },
    {
     "name": "stderr",
     "output_type": "stream",
     "text": [
      "Z-scoring data for MELD_H4_15T_FCD_0020\n"
     ]
    },
    {
     "name": "stdout",
     "output_type": "stream",
     "text": [
      "MELD_H4_15T_FCD_0021\n"
     ]
    },
    {
     "name": "stderr",
     "output_type": "stream",
     "text": [
      "Z-scoring data for MELD_H4_15T_FCD_0021\n"
     ]
    },
    {
     "name": "stdout",
     "output_type": "stream",
     "text": [
      "MELD_H4_3T_FCD_0002\n"
     ]
    },
    {
     "name": "stderr",
     "output_type": "stream",
     "text": [
      "Z-scoring data for MELD_H4_3T_FCD_0002\n"
     ]
    },
    {
     "name": "stdout",
     "output_type": "stream",
     "text": [
      "MELD_H4_3T_FCD_0005\n"
     ]
    },
    {
     "name": "stderr",
     "output_type": "stream",
     "text": [
      "Z-scoring data for MELD_H4_3T_FCD_0005\n"
     ]
    },
    {
     "name": "stdout",
     "output_type": "stream",
     "text": [
      "MELD_H4_3T_FCD_0007\n"
     ]
    },
    {
     "name": "stderr",
     "output_type": "stream",
     "text": [
      "Z-scoring data for MELD_H4_3T_FCD_0007\n"
     ]
    },
    {
     "name": "stdout",
     "output_type": "stream",
     "text": [
      "MELD_H4_3T_FCD_0009\n"
     ]
    },
    {
     "name": "stderr",
     "output_type": "stream",
     "text": [
      "Z-scoring data for MELD_H4_3T_FCD_0009\n"
     ]
    },
    {
     "name": "stdout",
     "output_type": "stream",
     "text": [
      "MELD_H4_3T_FCD_0010\n"
     ]
    },
    {
     "name": "stderr",
     "output_type": "stream",
     "text": [
      "Z-scoring data for MELD_H4_3T_FCD_0010\n"
     ]
    },
    {
     "name": "stdout",
     "output_type": "stream",
     "text": [
      "MELD_H4_3T_FCD_0015\n"
     ]
    },
    {
     "name": "stderr",
     "output_type": "stream",
     "text": [
      "Z-scoring data for MELD_H4_3T_FCD_0015\n"
     ]
    },
    {
     "name": "stdout",
     "output_type": "stream",
     "text": [
      "MELD_H4_3T_FCD_0016\n"
     ]
    },
    {
     "name": "stderr",
     "output_type": "stream",
     "text": [
      "Z-scoring data for MELD_H4_3T_FCD_0016\n"
     ]
    },
    {
     "name": "stdout",
     "output_type": "stream",
     "text": [
      "MELD_H4_3T_FCD_0031\n"
     ]
    },
    {
     "name": "stderr",
     "output_type": "stream",
     "text": [
      "Z-scoring data for MELD_H4_3T_FCD_0031\n"
     ]
    },
    {
     "name": "stdout",
     "output_type": "stream",
     "text": [
      "MELD_H4_3T_FCD_0038\n"
     ]
    },
    {
     "name": "stderr",
     "output_type": "stream",
     "text": [
      "Z-scoring data for MELD_H4_3T_FCD_0038\n"
     ]
    },
    {
     "name": "stdout",
     "output_type": "stream",
     "text": [
      "MELD_H4_3T_FCD_0040\n"
     ]
    },
    {
     "name": "stderr",
     "output_type": "stream",
     "text": [
      "Z-scoring data for MELD_H4_3T_FCD_0040\n"
     ]
    },
    {
     "name": "stdout",
     "output_type": "stream",
     "text": [
      "MELD_H5_3T_FCD_0001\n"
     ]
    },
    {
     "name": "stderr",
     "output_type": "stream",
     "text": [
      "Z-scoring data for MELD_H5_3T_FCD_0001\n"
     ]
    },
    {
     "name": "stdout",
     "output_type": "stream",
     "text": [
      "MELD_H5_3T_FCD_0004\n"
     ]
    },
    {
     "name": "stderr",
     "output_type": "stream",
     "text": [
      "Z-scoring data for MELD_H5_3T_FCD_0004\n"
     ]
    },
    {
     "name": "stdout",
     "output_type": "stream",
     "text": [
      "MELD_H5_3T_FCD_0005\n"
     ]
    },
    {
     "name": "stderr",
     "output_type": "stream",
     "text": [
      "Z-scoring data for MELD_H5_3T_FCD_0005\n"
     ]
    },
    {
     "name": "stdout",
     "output_type": "stream",
     "text": [
      "MELD_H5_3T_FCD_0007\n"
     ]
    },
    {
     "name": "stderr",
     "output_type": "stream",
     "text": [
      "Z-scoring data for MELD_H5_3T_FCD_0007\n"
     ]
    },
    {
     "name": "stdout",
     "output_type": "stream",
     "text": [
      "MELD_H5_3T_FCD_0011\n"
     ]
    },
    {
     "name": "stderr",
     "output_type": "stream",
     "text": [
      "Z-scoring data for MELD_H5_3T_FCD_0011\n"
     ]
    },
    {
     "name": "stdout",
     "output_type": "stream",
     "text": [
      "MELD_H5_3T_FCD_0014\n"
     ]
    },
    {
     "name": "stderr",
     "output_type": "stream",
     "text": [
      "Z-scoring data for MELD_H5_3T_FCD_0014\n"
     ]
    },
    {
     "name": "stdout",
     "output_type": "stream",
     "text": [
      "MELD_H5_3T_FCD_0015\n"
     ]
    },
    {
     "name": "stderr",
     "output_type": "stream",
     "text": [
      "Z-scoring data for MELD_H5_3T_FCD_0015\n"
     ]
    },
    {
     "name": "stdout",
     "output_type": "stream",
     "text": [
      "MELD_H5_3T_FCD_0017\n"
     ]
    },
    {
     "name": "stderr",
     "output_type": "stream",
     "text": [
      "Z-scoring data for MELD_H5_3T_FCD_0017\n"
     ]
    },
    {
     "name": "stdout",
     "output_type": "stream",
     "text": [
      "MELD_H5_3T_FCD_0020\n"
     ]
    },
    {
     "name": "stderr",
     "output_type": "stream",
     "text": [
      "Z-scoring data for MELD_H5_3T_FCD_0020\n"
     ]
    },
    {
     "name": "stdout",
     "output_type": "stream",
     "text": [
      "MELD_H5_3T_FCD_0021\n"
     ]
    },
    {
     "name": "stderr",
     "output_type": "stream",
     "text": [
      "Z-scoring data for MELD_H5_3T_FCD_0021\n"
     ]
    },
    {
     "name": "stdout",
     "output_type": "stream",
     "text": [
      "MELD_H5_3T_FCD_0022\n"
     ]
    },
    {
     "name": "stderr",
     "output_type": "stream",
     "text": [
      "Z-scoring data for MELD_H5_3T_FCD_0022\n"
     ]
    },
    {
     "name": "stdout",
     "output_type": "stream",
     "text": [
      "MELD_H5_3T_FCD_0024\n"
     ]
    },
    {
     "name": "stderr",
     "output_type": "stream",
     "text": [
      "Z-scoring data for MELD_H5_3T_FCD_0024\n"
     ]
    },
    {
     "name": "stdout",
     "output_type": "stream",
     "text": [
      "MELD_H5_3T_FCD_0026\n"
     ]
    },
    {
     "name": "stderr",
     "output_type": "stream",
     "text": [
      "Z-scoring data for MELD_H5_3T_FCD_0026\n"
     ]
    },
    {
     "name": "stdout",
     "output_type": "stream",
     "text": [
      "MELD_H5_3T_FCD_0029\n"
     ]
    },
    {
     "name": "stderr",
     "output_type": "stream",
     "text": [
      "Z-scoring data for MELD_H5_3T_FCD_0029\n"
     ]
    },
    {
     "name": "stdout",
     "output_type": "stream",
     "text": [
      "MELD_H6_3T_FCD_0004\n"
     ]
    },
    {
     "name": "stderr",
     "output_type": "stream",
     "text": [
      "Z-scoring data for MELD_H6_3T_FCD_0004\n"
     ]
    },
    {
     "name": "stdout",
     "output_type": "stream",
     "text": [
      "MELD_H6_3T_FCD_0005\n"
     ]
    },
    {
     "name": "stderr",
     "output_type": "stream",
     "text": [
      "Z-scoring data for MELD_H6_3T_FCD_0005\n"
     ]
    },
    {
     "name": "stdout",
     "output_type": "stream",
     "text": [
      "MELD_H6_3T_FCD_0006\n"
     ]
    },
    {
     "name": "stderr",
     "output_type": "stream",
     "text": [
      "Z-scoring data for MELD_H6_3T_FCD_0006\n"
     ]
    },
    {
     "name": "stdout",
     "output_type": "stream",
     "text": [
      "MELD_H6_3T_FCD_0009\n"
     ]
    },
    {
     "name": "stderr",
     "output_type": "stream",
     "text": [
      "Z-scoring data for MELD_H6_3T_FCD_0009\n"
     ]
    },
    {
     "name": "stdout",
     "output_type": "stream",
     "text": [
      "MELD_H6_3T_FCD_0011\n"
     ]
    },
    {
     "name": "stderr",
     "output_type": "stream",
     "text": [
      "Z-scoring data for MELD_H6_3T_FCD_0011\n"
     ]
    },
    {
     "name": "stdout",
     "output_type": "stream",
     "text": [
      "MELD_H6_3T_FCD_0013\n"
     ]
    },
    {
     "name": "stderr",
     "output_type": "stream",
     "text": [
      "Z-scoring data for MELD_H6_3T_FCD_0013\n"
     ]
    },
    {
     "name": "stdout",
     "output_type": "stream",
     "text": [
      "MELD_H6_3T_FCD_0017\n"
     ]
    },
    {
     "name": "stderr",
     "output_type": "stream",
     "text": [
      "Z-scoring data for MELD_H6_3T_FCD_0017\n"
     ]
    },
    {
     "name": "stdout",
     "output_type": "stream",
     "text": [
      "MELD_H9_3T_FCD_0003\n"
     ]
    },
    {
     "name": "stderr",
     "output_type": "stream",
     "text": [
      "Z-scoring data for MELD_H9_3T_FCD_0003\n"
     ]
    },
    {
     "name": "stdout",
     "output_type": "stream",
     "text": [
      "MELD_H9_3T_FCD_0004\n"
     ]
    },
    {
     "name": "stderr",
     "output_type": "stream",
     "text": [
      "Z-scoring data for MELD_H9_3T_FCD_0004\n"
     ]
    },
    {
     "name": "stdout",
     "output_type": "stream",
     "text": [
      "MELD_H9_3T_FCD_0005\n"
     ]
    },
    {
     "name": "stderr",
     "output_type": "stream",
     "text": [
      "Z-scoring data for MELD_H9_3T_FCD_0005\n"
     ]
    },
    {
     "name": "stdout",
     "output_type": "stream",
     "text": [
      "MELD_H9_3T_FCD_0010\n"
     ]
    },
    {
     "name": "stderr",
     "output_type": "stream",
     "text": [
      "Z-scoring data for MELD_H9_3T_FCD_0010\n",
      "Evaluation test, min area threshold=100, threshold two_threshold(ymin=0.01, ymax=0.5)\n",
      "Creating model\n",
      "Creating ensemble model\n",
      "Loading ensemble model weights from checkpoint /rds/project/kw350/rds-kw350-meld/experiments_graph/kw350/23-10-30_LVHZ_dcp/s_0/fold_all/best_model.pt\n",
      "Predicting model without dropout\n"
     ]
    },
    {
     "name": "stdout",
     "output_type": "stream",
     "text": [
      "using dataset\n"
     ]
    }
   ],
   "source": [
    "# load experiment\n",
    "model_graph = '/rds/project/kw350/rds-kw350-meld/experiments_graph/kw350/23-10-30_LVHZ_dcp/s_0/fold_all'\n",
    "exp = meld_graph.experiment.Experiment.from_folder(model_graph)\n",
    "exp.data_parameters[\"augment_data\"] = {}\n",
    "\n",
    "#load trainval dataset\n",
    "split = \"test\"\n",
    "\n",
    "cohort = MeldCohort(\n",
    "        hdf5_file_root=exp.data_parameters[\"hdf5_file_root\"],\n",
    "        dataset=exp.data_parameters[\"dataset\"],\n",
    "    )\n",
    "\n",
    "features = exp.data_parameters[\"features\"]\n",
    "\n",
    "# get only test patients\n",
    "with h5py.File(os.path.join(model_graph, 'results_best_model', 'predictions.hdf5'), \"r\") as f:\n",
    "    subjects = list(f.keys())\n",
    "\n",
    "subjects = [subject for subject in subjects if '_FCD_' in subject]\n",
    "# print(len(subjects))\n",
    "# subjects = subjects[0:20]\n",
    "dataset = GraphDataset(subjects, cohort, exp.data_parameters, mode=\"test\")\n",
    "save_prediction_suffix=\"\"\n",
    "\n",
    "# create evaluator\n",
    "eva = Evaluator(\n",
    "    experiment=exp,\n",
    "    checkpoint_path=model_graph,\n",
    "    make_images=False,\n",
    "    dataset=dataset,\n",
    "    save_dir=None,\n",
    "    cohort=cohort,\n",
    "    subject_ids=subjects,\n",
    "    mode=\"test\",\n",
    "    thresh_and_clust=True,\n",
    ")\n"
   ]
  },
  {
   "cell_type": "code",
   "execution_count": 22,
   "metadata": {},
   "outputs": [
    {
     "name": "stderr",
     "output_type": "stream",
     "text": [
      "calculating saliency\n",
      "Loading and preprocessing test data\n",
      "Z-scoring data for MELD_H101_3T_FCD_00068\n",
      "calculating saliency for MELD_H101_3T_FCD_00068, cluster 1.0\n",
      "/home/co-ripa1/.conda/envs/meld_graph/lib/python3.9/site-packages/captum/attr/_utils/batching.py:45: UserWarning: Internal batch size cannot be less than the number of input examples. Defaulting to internal batch size of 163842 equal to the number of examples.\n",
      "  warnings.warn(\n",
      "saving saliencies_1.0 for MELD_H101_3T_FCD_00068\n",
      "saving mask_salient_1.0 for MELD_H101_3T_FCD_00068\n",
      "saving cluster_thresholded_salient for MELD_H101_3T_FCD_00068\n"
     ]
    }
   ],
   "source": [
    "# # calculate saliencies if does not exists\n",
    "# eva.calculate_saliency(save_prediction_suffix=\"\")"
   ]
  },
  {
   "cell_type": "code",
   "execution_count": 6,
   "metadata": {},
   "outputs": [],
   "source": [
    " # setup parameters\n",
    "base_feature_sets = [\n",
    "    \".on_lh.curv.sm3.mgh\",\n",
    "    \".on_lh.pial.K_filtered.sm20.mgh\",\n",
    "    \".on_lh.sulc.sm3.mgh\",\n",
    "    \".on_lh.thickness_regression.sm3.mgh\",\n",
    "    \".on_lh.w-g.pct.sm3.mgh\",\n",
    "    \".on_lh.gm_FLAIR_0.5.sm3.mgh\",\n",
    "    \".on_lh.wm_FLAIR_1.sm3.mgh\",\n",
    "]\n",
    "\n",
    "feature_names_sets = {\n",
    "   \".on_lh.gm_FLAIR_0.5.sm3.mgh\": \"GM FLAIR (50%)\",\n",
    "    \".on_lh.wm_FLAIR_1.sm3.mgh\": \"WM FLAIR (1mm)\",\n",
    "    \".on_lh.curv.sm3.mgh\": \"Mean curvature\",\n",
    "    \".on_lh.pial.K_filtered.sm20.mgh\" :\"Intrinsic Curvature\",\n",
    "    \".on_lh.sulc.sm3.mgh\": \"Sulcal depth\",\n",
    "    \".on_lh.thickness_regression.sm3.mgh\":\"Cortical thickness\",\n",
    "    \".on_lh.w-g.pct.sm3.mgh\": \"Grey-white contrast\"}"
   ]
  },
  {
   "cell_type": "code",
   "execution_count": 7,
   "metadata": {},
   "outputs": [
    {
     "name": "stderr",
     "output_type": "stream",
     "text": [
      "Loading and preprocessing test data\n"
     ]
    },
    {
     "name": "stdout",
     "output_type": "stream",
     "text": [
      "MELD2_H7_3T_FCD_001\n"
     ]
    },
    {
     "name": "stderr",
     "output_type": "stream",
     "text": [
      "Z-scoring data for MELD2_H7_3T_FCD_001\n",
      "Loading and preprocessing test data\n"
     ]
    },
    {
     "name": "stdout",
     "output_type": "stream",
     "text": [
      "MELD2_H7_3T_FCD_004\n"
     ]
    },
    {
     "name": "stderr",
     "output_type": "stream",
     "text": [
      "Z-scoring data for MELD2_H7_3T_FCD_004\n",
      "Loading and preprocessing test data\n"
     ]
    },
    {
     "name": "stdout",
     "output_type": "stream",
     "text": [
      "MELD2_H7_3T_FCD_005\n"
     ]
    },
    {
     "name": "stderr",
     "output_type": "stream",
     "text": [
      "Z-scoring data for MELD2_H7_3T_FCD_005\n",
      "Loading and preprocessing test data\n"
     ]
    },
    {
     "name": "stdout",
     "output_type": "stream",
     "text": [
      "MELD2_H7_3T_FCD_009\n"
     ]
    },
    {
     "name": "stderr",
     "output_type": "stream",
     "text": [
      "Z-scoring data for MELD2_H7_3T_FCD_009\n",
      "Loading and preprocessing test data\n"
     ]
    },
    {
     "name": "stdout",
     "output_type": "stream",
     "text": [
      "MELD_H10_3T_FCD_0002\n"
     ]
    },
    {
     "name": "stderr",
     "output_type": "stream",
     "text": [
      "Z-scoring data for MELD_H10_3T_FCD_0002\n",
      "Loading and preprocessing test data\n"
     ]
    },
    {
     "name": "stdout",
     "output_type": "stream",
     "text": [
      "MELD_H10_3T_FCD_0009\n"
     ]
    },
    {
     "name": "stderr",
     "output_type": "stream",
     "text": [
      "Z-scoring data for MELD_H10_3T_FCD_0009\n",
      "Loading and preprocessing test data\n"
     ]
    },
    {
     "name": "stdout",
     "output_type": "stream",
     "text": [
      "MELD_H10_3T_FCD_0013\n"
     ]
    },
    {
     "name": "stderr",
     "output_type": "stream",
     "text": [
      "Z-scoring data for MELD_H10_3T_FCD_0013\n",
      "Loading and preprocessing test data\n"
     ]
    },
    {
     "name": "stdout",
     "output_type": "stream",
     "text": [
      "MELD_H10_3T_FCD_0014\n"
     ]
    },
    {
     "name": "stderr",
     "output_type": "stream",
     "text": [
      "Z-scoring data for MELD_H10_3T_FCD_0014\n",
      "Loading and preprocessing test data\n"
     ]
    },
    {
     "name": "stdout",
     "output_type": "stream",
     "text": [
      "MELD_H10_3T_FCD_0016\n"
     ]
    },
    {
     "name": "stderr",
     "output_type": "stream",
     "text": [
      "Z-scoring data for MELD_H10_3T_FCD_0016\n",
      "Loading and preprocessing test data\n"
     ]
    },
    {
     "name": "stdout",
     "output_type": "stream",
     "text": [
      "MELD_H11_3T_FCD_0002\n"
     ]
    },
    {
     "name": "stderr",
     "output_type": "stream",
     "text": [
      "Z-scoring data for MELD_H11_3T_FCD_0002\n",
      "Loading and preprocessing test data\n"
     ]
    },
    {
     "name": "stdout",
     "output_type": "stream",
     "text": [
      "MELD_H11_3T_FCD_0006\n"
     ]
    },
    {
     "name": "stderr",
     "output_type": "stream",
     "text": [
      "Z-scoring data for MELD_H11_3T_FCD_0006\n",
      "Loading and preprocessing test data\n"
     ]
    },
    {
     "name": "stdout",
     "output_type": "stream",
     "text": [
      "MELD_H11_3T_FCD_0007\n"
     ]
    },
    {
     "name": "stderr",
     "output_type": "stream",
     "text": [
      "Z-scoring data for MELD_H11_3T_FCD_0007\n",
      "Loading and preprocessing test data\n"
     ]
    },
    {
     "name": "stdout",
     "output_type": "stream",
     "text": [
      "MELD_H11_3T_FCD_0009\n"
     ]
    },
    {
     "name": "stderr",
     "output_type": "stream",
     "text": [
      "Z-scoring data for MELD_H11_3T_FCD_0009\n",
      "Loading and preprocessing test data\n"
     ]
    },
    {
     "name": "stdout",
     "output_type": "stream",
     "text": [
      "MELD_H11_3T_FCD_0010\n"
     ]
    },
    {
     "name": "stderr",
     "output_type": "stream",
     "text": [
      "Z-scoring data for MELD_H11_3T_FCD_0010\n",
      "Loading and preprocessing test data\n"
     ]
    },
    {
     "name": "stdout",
     "output_type": "stream",
     "text": [
      "MELD_H11_3T_FCD_0011\n"
     ]
    },
    {
     "name": "stderr",
     "output_type": "stream",
     "text": [
      "Z-scoring data for MELD_H11_3T_FCD_0011\n",
      "Loading and preprocessing test data\n"
     ]
    },
    {
     "name": "stdout",
     "output_type": "stream",
     "text": [
      "MELD_H11_3T_FCD_0015\n"
     ]
    },
    {
     "name": "stderr",
     "output_type": "stream",
     "text": [
      "Z-scoring data for MELD_H11_3T_FCD_0015\n",
      "Loading and preprocessing test data\n"
     ]
    },
    {
     "name": "stdout",
     "output_type": "stream",
     "text": [
      "MELD_H11_3T_FCD_0019\n"
     ]
    },
    {
     "name": "stderr",
     "output_type": "stream",
     "text": [
      "Z-scoring data for MELD_H11_3T_FCD_0019\n",
      "Loading and preprocessing test data\n"
     ]
    },
    {
     "name": "stdout",
     "output_type": "stream",
     "text": [
      "MELD_H11_3T_FCD_0020\n"
     ]
    },
    {
     "name": "stderr",
     "output_type": "stream",
     "text": [
      "Z-scoring data for MELD_H11_3T_FCD_0020\n",
      "Loading and preprocessing test data\n"
     ]
    },
    {
     "name": "stdout",
     "output_type": "stream",
     "text": [
      "MELD_H11_3T_FCD_0025\n"
     ]
    },
    {
     "name": "stderr",
     "output_type": "stream",
     "text": [
      "Z-scoring data for MELD_H11_3T_FCD_0025\n",
      "Loading and preprocessing test data\n"
     ]
    },
    {
     "name": "stdout",
     "output_type": "stream",
     "text": [
      "MELD_H11_3T_FCD_0027\n"
     ]
    },
    {
     "name": "stderr",
     "output_type": "stream",
     "text": [
      "Z-scoring data for MELD_H11_3T_FCD_0027\n",
      "Loading and preprocessing test data\n"
     ]
    },
    {
     "name": "stdout",
     "output_type": "stream",
     "text": [
      "MELD_H11_3T_FCD_0028\n"
     ]
    },
    {
     "name": "stderr",
     "output_type": "stream",
     "text": [
      "Z-scoring data for MELD_H11_3T_FCD_0028\n",
      "Loading and preprocessing test data\n"
     ]
    },
    {
     "name": "stdout",
     "output_type": "stream",
     "text": [
      "MELD_H11_3T_FCD_0030\n"
     ]
    },
    {
     "name": "stderr",
     "output_type": "stream",
     "text": [
      "Z-scoring data for MELD_H11_3T_FCD_0030\n",
      "Loading and preprocessing test data\n"
     ]
    },
    {
     "name": "stdout",
     "output_type": "stream",
     "text": [
      "MELD_H11_3T_FCD_0031\n"
     ]
    },
    {
     "name": "stderr",
     "output_type": "stream",
     "text": [
      "Z-scoring data for MELD_H11_3T_FCD_0031\n",
      "Loading and preprocessing test data\n"
     ]
    },
    {
     "name": "stdout",
     "output_type": "stream",
     "text": [
      "MELD_H11_3T_FCD_0040\n"
     ]
    },
    {
     "name": "stderr",
     "output_type": "stream",
     "text": [
      "Z-scoring data for MELD_H11_3T_FCD_0040\n",
      "Loading and preprocessing test data\n"
     ]
    },
    {
     "name": "stdout",
     "output_type": "stream",
     "text": [
      "MELD_H11_3T_FCD_0041\n"
     ]
    },
    {
     "name": "stderr",
     "output_type": "stream",
     "text": [
      "Z-scoring data for MELD_H11_3T_FCD_0041\n",
      "Loading and preprocessing test data\n"
     ]
    },
    {
     "name": "stdout",
     "output_type": "stream",
     "text": [
      "MELD_H11_3T_FCD_0042\n"
     ]
    },
    {
     "name": "stderr",
     "output_type": "stream",
     "text": [
      "Z-scoring data for MELD_H11_3T_FCD_0042\n",
      "Loading and preprocessing test data\n"
     ]
    },
    {
     "name": "stdout",
     "output_type": "stream",
     "text": [
      "MELD_H11_3T_FCD_0044\n"
     ]
    },
    {
     "name": "stderr",
     "output_type": "stream",
     "text": [
      "Z-scoring data for MELD_H11_3T_FCD_0044\n",
      "Loading and preprocessing test data\n"
     ]
    },
    {
     "name": "stdout",
     "output_type": "stream",
     "text": [
      "MELD_H11_3T_FCD_0045\n"
     ]
    },
    {
     "name": "stderr",
     "output_type": "stream",
     "text": [
      "Z-scoring data for MELD_H11_3T_FCD_0045\n",
      "Loading and preprocessing test data\n"
     ]
    },
    {
     "name": "stdout",
     "output_type": "stream",
     "text": [
      "MELD_H12_3T_FCD_0003\n"
     ]
    },
    {
     "name": "stderr",
     "output_type": "stream",
     "text": [
      "Z-scoring data for MELD_H12_3T_FCD_0003\n",
      "Loading and preprocessing test data\n"
     ]
    },
    {
     "name": "stdout",
     "output_type": "stream",
     "text": [
      "MELD_H12_3T_FCD_0006\n"
     ]
    },
    {
     "name": "stderr",
     "output_type": "stream",
     "text": [
      "Z-scoring data for MELD_H12_3T_FCD_0006\n",
      "Loading and preprocessing test data\n"
     ]
    },
    {
     "name": "stdout",
     "output_type": "stream",
     "text": [
      "MELD_H12_3T_FCD_0007\n"
     ]
    },
    {
     "name": "stderr",
     "output_type": "stream",
     "text": [
      "Z-scoring data for MELD_H12_3T_FCD_0007\n",
      "Loading and preprocessing test data\n"
     ]
    },
    {
     "name": "stdout",
     "output_type": "stream",
     "text": [
      "MELD_H12_3T_FCD_0009\n"
     ]
    },
    {
     "name": "stderr",
     "output_type": "stream",
     "text": [
      "Z-scoring data for MELD_H12_3T_FCD_0009\n",
      "Loading and preprocessing test data\n"
     ]
    },
    {
     "name": "stdout",
     "output_type": "stream",
     "text": [
      "MELD_H12_3T_FCD_0011\n"
     ]
    },
    {
     "name": "stderr",
     "output_type": "stream",
     "text": [
      "Z-scoring data for MELD_H12_3T_FCD_0011\n",
      "Loading and preprocessing test data\n"
     ]
    },
    {
     "name": "stdout",
     "output_type": "stream",
     "text": [
      "MELD_H12_3T_FCD_0014\n"
     ]
    },
    {
     "name": "stderr",
     "output_type": "stream",
     "text": [
      "Z-scoring data for MELD_H12_3T_FCD_0014\n",
      "Loading and preprocessing test data\n"
     ]
    },
    {
     "name": "stdout",
     "output_type": "stream",
     "text": [
      "MELD_H12_3T_FCD_0016\n"
     ]
    },
    {
     "name": "stderr",
     "output_type": "stream",
     "text": [
      "Z-scoring data for MELD_H12_3T_FCD_0016\n",
      "Loading and preprocessing test data\n"
     ]
    },
    {
     "name": "stdout",
     "output_type": "stream",
     "text": [
      "MELD_H12_3T_FCD_0018\n"
     ]
    },
    {
     "name": "stderr",
     "output_type": "stream",
     "text": [
      "Z-scoring data for MELD_H12_3T_FCD_0018\n",
      "Loading and preprocessing test data\n"
     ]
    },
    {
     "name": "stdout",
     "output_type": "stream",
     "text": [
      "MELD_H12_3T_FCD_0030\n"
     ]
    },
    {
     "name": "stderr",
     "output_type": "stream",
     "text": [
      "Z-scoring data for MELD_H12_3T_FCD_0030\n",
      "Loading and preprocessing test data\n"
     ]
    },
    {
     "name": "stdout",
     "output_type": "stream",
     "text": [
      "MELD_H14_3T_FCD_0009\n"
     ]
    },
    {
     "name": "stderr",
     "output_type": "stream",
     "text": [
      "Z-scoring data for MELD_H14_3T_FCD_0009\n",
      "Loading and preprocessing test data\n"
     ]
    },
    {
     "name": "stdout",
     "output_type": "stream",
     "text": [
      "MELD_H14_3T_FCD_0011\n"
     ]
    },
    {
     "name": "stderr",
     "output_type": "stream",
     "text": [
      "Z-scoring data for MELD_H14_3T_FCD_0011\n",
      "Loading and preprocessing test data\n"
     ]
    },
    {
     "name": "stdout",
     "output_type": "stream",
     "text": [
      "MELD_H14_3T_FCD_0013\n"
     ]
    },
    {
     "name": "stderr",
     "output_type": "stream",
     "text": [
      "Z-scoring data for MELD_H14_3T_FCD_0013\n",
      "Loading and preprocessing test data\n"
     ]
    },
    {
     "name": "stdout",
     "output_type": "stream",
     "text": [
      "MELD_H14_3T_FCD_0016\n"
     ]
    },
    {
     "name": "stderr",
     "output_type": "stream",
     "text": [
      "Z-scoring data for MELD_H14_3T_FCD_0016\n",
      "Loading and preprocessing test data\n"
     ]
    },
    {
     "name": "stdout",
     "output_type": "stream",
     "text": [
      "MELD_H14_3T_FCD_0017\n"
     ]
    },
    {
     "name": "stderr",
     "output_type": "stream",
     "text": [
      "Z-scoring data for MELD_H14_3T_FCD_0017\n",
      "Loading and preprocessing test data\n"
     ]
    },
    {
     "name": "stdout",
     "output_type": "stream",
     "text": [
      "MELD_H14_3T_FCD_0021\n"
     ]
    },
    {
     "name": "stderr",
     "output_type": "stream",
     "text": [
      "Z-scoring data for MELD_H14_3T_FCD_0021\n",
      "Loading and preprocessing test data\n"
     ]
    },
    {
     "name": "stdout",
     "output_type": "stream",
     "text": [
      "MELD_H14_3T_FCD_0022\n"
     ]
    },
    {
     "name": "stderr",
     "output_type": "stream",
     "text": [
      "Z-scoring data for MELD_H14_3T_FCD_0022\n",
      "Loading and preprocessing test data\n"
     ]
    },
    {
     "name": "stdout",
     "output_type": "stream",
     "text": [
      "MELD_H14_3T_FCD_0023\n"
     ]
    },
    {
     "name": "stderr",
     "output_type": "stream",
     "text": [
      "Z-scoring data for MELD_H14_3T_FCD_0023\n",
      "Loading and preprocessing test data\n"
     ]
    },
    {
     "name": "stdout",
     "output_type": "stream",
     "text": [
      "MELD_H14_3T_FCD_0024\n"
     ]
    },
    {
     "name": "stderr",
     "output_type": "stream",
     "text": [
      "Z-scoring data for MELD_H14_3T_FCD_0024\n",
      "Loading and preprocessing test data\n"
     ]
    },
    {
     "name": "stdout",
     "output_type": "stream",
     "text": [
      "MELD_H14_3T_FCD_0025\n"
     ]
    },
    {
     "name": "stderr",
     "output_type": "stream",
     "text": [
      "Z-scoring data for MELD_H14_3T_FCD_0025\n",
      "Loading and preprocessing test data\n"
     ]
    },
    {
     "name": "stdout",
     "output_type": "stream",
     "text": [
      "MELD_H14_3T_FCD_0026\n"
     ]
    },
    {
     "name": "stderr",
     "output_type": "stream",
     "text": [
      "Z-scoring data for MELD_H14_3T_FCD_0026\n",
      "Loading and preprocessing test data\n"
     ]
    },
    {
     "name": "stdout",
     "output_type": "stream",
     "text": [
      "MELD_H14_3T_FCD_0029\n"
     ]
    },
    {
     "name": "stderr",
     "output_type": "stream",
     "text": [
      "Z-scoring data for MELD_H14_3T_FCD_0029\n",
      "Loading and preprocessing test data\n"
     ]
    },
    {
     "name": "stdout",
     "output_type": "stream",
     "text": [
      "MELD_H14_3T_FCD_0030\n"
     ]
    },
    {
     "name": "stderr",
     "output_type": "stream",
     "text": [
      "Z-scoring data for MELD_H14_3T_FCD_0030\n",
      "Loading and preprocessing test data\n"
     ]
    },
    {
     "name": "stdout",
     "output_type": "stream",
     "text": [
      "MELD_H14_3T_FCD_0031\n"
     ]
    },
    {
     "name": "stderr",
     "output_type": "stream",
     "text": [
      "Z-scoring data for MELD_H14_3T_FCD_0031\n",
      "Loading and preprocessing test data\n"
     ]
    },
    {
     "name": "stdout",
     "output_type": "stream",
     "text": [
      "MELD_H14_3T_FCD_0034\n"
     ]
    },
    {
     "name": "stderr",
     "output_type": "stream",
     "text": [
      "Z-scoring data for MELD_H14_3T_FCD_0034\n",
      "Loading and preprocessing test data\n"
     ]
    },
    {
     "name": "stdout",
     "output_type": "stream",
     "text": [
      "MELD_H14_3T_FCD_0035\n"
     ]
    },
    {
     "name": "stderr",
     "output_type": "stream",
     "text": [
      "Z-scoring data for MELD_H14_3T_FCD_0035\n",
      "Loading and preprocessing test data\n"
     ]
    },
    {
     "name": "stdout",
     "output_type": "stream",
     "text": [
      "MELD_H14_3T_FCD_0037\n"
     ]
    },
    {
     "name": "stderr",
     "output_type": "stream",
     "text": [
      "Z-scoring data for MELD_H14_3T_FCD_0037\n",
      "Loading and preprocessing test data\n"
     ]
    },
    {
     "name": "stdout",
     "output_type": "stream",
     "text": [
      "MELD_H14_3T_FCD_0039\n"
     ]
    },
    {
     "name": "stderr",
     "output_type": "stream",
     "text": [
      "Z-scoring data for MELD_H14_3T_FCD_0039\n",
      "Loading and preprocessing test data\n"
     ]
    },
    {
     "name": "stdout",
     "output_type": "stream",
     "text": [
      "MELD_H14_3T_FCD_0040\n"
     ]
    },
    {
     "name": "stderr",
     "output_type": "stream",
     "text": [
      "Z-scoring data for MELD_H14_3T_FCD_0040\n",
      "Loading and preprocessing test data\n"
     ]
    },
    {
     "name": "stdout",
     "output_type": "stream",
     "text": [
      "MELD_H14_3T_FCD_0042\n"
     ]
    },
    {
     "name": "stderr",
     "output_type": "stream",
     "text": [
      "Z-scoring data for MELD_H14_3T_FCD_0042\n",
      "Loading and preprocessing test data\n"
     ]
    },
    {
     "name": "stdout",
     "output_type": "stream",
     "text": [
      "MELD_H15_3T_FCD_0003\n"
     ]
    },
    {
     "name": "stderr",
     "output_type": "stream",
     "text": [
      "Z-scoring data for MELD_H15_3T_FCD_0003\n",
      "Loading and preprocessing test data\n"
     ]
    },
    {
     "name": "stdout",
     "output_type": "stream",
     "text": [
      "MELD_H15_3T_FCD_0004\n"
     ]
    },
    {
     "name": "stderr",
     "output_type": "stream",
     "text": [
      "Z-scoring data for MELD_H15_3T_FCD_0004\n",
      "Loading and preprocessing test data\n"
     ]
    },
    {
     "name": "stdout",
     "output_type": "stream",
     "text": [
      "MELD_H15_3T_FCD_0007\n"
     ]
    },
    {
     "name": "stderr",
     "output_type": "stream",
     "text": [
      "Z-scoring data for MELD_H15_3T_FCD_0007\n",
      "Loading and preprocessing test data\n"
     ]
    },
    {
     "name": "stdout",
     "output_type": "stream",
     "text": [
      "MELD_H15_3T_FCD_0008\n"
     ]
    },
    {
     "name": "stderr",
     "output_type": "stream",
     "text": [
      "Z-scoring data for MELD_H15_3T_FCD_0008\n",
      "Loading and preprocessing test data\n"
     ]
    },
    {
     "name": "stdout",
     "output_type": "stream",
     "text": [
      "MELD_H15_3T_FCD_0010\n"
     ]
    },
    {
     "name": "stderr",
     "output_type": "stream",
     "text": [
      "Z-scoring data for MELD_H15_3T_FCD_0010\n",
      "Loading and preprocessing test data\n"
     ]
    },
    {
     "name": "stdout",
     "output_type": "stream",
     "text": [
      "MELD_H16_3T_FCD_001\n"
     ]
    },
    {
     "name": "stderr",
     "output_type": "stream",
     "text": [
      "Z-scoring data for MELD_H16_3T_FCD_001\n",
      "Loading and preprocessing test data\n"
     ]
    },
    {
     "name": "stdout",
     "output_type": "stream",
     "text": [
      "MELD_H16_3T_FCD_003\n"
     ]
    },
    {
     "name": "stderr",
     "output_type": "stream",
     "text": [
      "Z-scoring data for MELD_H16_3T_FCD_003\n",
      "Loading and preprocessing test data\n"
     ]
    },
    {
     "name": "stdout",
     "output_type": "stream",
     "text": [
      "MELD_H16_3T_FCD_004\n"
     ]
    },
    {
     "name": "stderr",
     "output_type": "stream",
     "text": [
      "Z-scoring data for MELD_H16_3T_FCD_004\n",
      "Loading and preprocessing test data\n"
     ]
    },
    {
     "name": "stdout",
     "output_type": "stream",
     "text": [
      "MELD_H16_3T_FCD_005\n"
     ]
    },
    {
     "name": "stderr",
     "output_type": "stream",
     "text": [
      "Z-scoring data for MELD_H16_3T_FCD_005\n",
      "Loading and preprocessing test data\n"
     ]
    },
    {
     "name": "stdout",
     "output_type": "stream",
     "text": [
      "MELD_H16_3T_FCD_008\n"
     ]
    },
    {
     "name": "stderr",
     "output_type": "stream",
     "text": [
      "Z-scoring data for MELD_H16_3T_FCD_008\n",
      "Loading and preprocessing test data\n"
     ]
    },
    {
     "name": "stdout",
     "output_type": "stream",
     "text": [
      "MELD_H16_3T_FCD_010\n"
     ]
    },
    {
     "name": "stderr",
     "output_type": "stream",
     "text": [
      "Z-scoring data for MELD_H16_3T_FCD_010\n",
      "Loading and preprocessing test data\n"
     ]
    },
    {
     "name": "stdout",
     "output_type": "stream",
     "text": [
      "MELD_H16_3T_FCD_013\n"
     ]
    },
    {
     "name": "stderr",
     "output_type": "stream",
     "text": [
      "Z-scoring data for MELD_H16_3T_FCD_013\n",
      "Loading and preprocessing test data\n"
     ]
    },
    {
     "name": "stdout",
     "output_type": "stream",
     "text": [
      "MELD_H16_3T_FCD_015\n"
     ]
    },
    {
     "name": "stderr",
     "output_type": "stream",
     "text": [
      "Z-scoring data for MELD_H16_3T_FCD_015\n",
      "Loading and preprocessing test data\n"
     ]
    },
    {
     "name": "stdout",
     "output_type": "stream",
     "text": [
      "MELD_H16_3T_FCD_016\n"
     ]
    },
    {
     "name": "stderr",
     "output_type": "stream",
     "text": [
      "Z-scoring data for MELD_H16_3T_FCD_016\n",
      "Loading and preprocessing test data\n"
     ]
    },
    {
     "name": "stdout",
     "output_type": "stream",
     "text": [
      "MELD_H16_3T_FCD_017\n"
     ]
    },
    {
     "name": "stderr",
     "output_type": "stream",
     "text": [
      "Z-scoring data for MELD_H16_3T_FCD_017\n",
      "Loading and preprocessing test data\n"
     ]
    },
    {
     "name": "stdout",
     "output_type": "stream",
     "text": [
      "MELD_H16_3T_FCD_022\n"
     ]
    },
    {
     "name": "stderr",
     "output_type": "stream",
     "text": [
      "Z-scoring data for MELD_H16_3T_FCD_022\n",
      "Loading and preprocessing test data\n"
     ]
    },
    {
     "name": "stdout",
     "output_type": "stream",
     "text": [
      "MELD_H16_3T_FCD_023\n"
     ]
    },
    {
     "name": "stderr",
     "output_type": "stream",
     "text": [
      "Z-scoring data for MELD_H16_3T_FCD_023\n",
      "Loading and preprocessing test data\n"
     ]
    },
    {
     "name": "stdout",
     "output_type": "stream",
     "text": [
      "MELD_H16_3T_FCD_026\n"
     ]
    },
    {
     "name": "stderr",
     "output_type": "stream",
     "text": [
      "Z-scoring data for MELD_H16_3T_FCD_026\n",
      "Loading and preprocessing test data\n"
     ]
    },
    {
     "name": "stdout",
     "output_type": "stream",
     "text": [
      "MELD_H16_3T_FCD_045\n"
     ]
    },
    {
     "name": "stderr",
     "output_type": "stream",
     "text": [
      "Z-scoring data for MELD_H16_3T_FCD_045\n",
      "Loading and preprocessing test data\n"
     ]
    },
    {
     "name": "stdout",
     "output_type": "stream",
     "text": [
      "MELD_H16_3T_FCD_048\n"
     ]
    },
    {
     "name": "stderr",
     "output_type": "stream",
     "text": [
      "Z-scoring data for MELD_H16_3T_FCD_048\n",
      "Loading and preprocessing test data\n"
     ]
    },
    {
     "name": "stdout",
     "output_type": "stream",
     "text": [
      "MELD_H17_15T_FCD_0011\n"
     ]
    },
    {
     "name": "stderr",
     "output_type": "stream",
     "text": [
      "Z-scoring data for MELD_H17_15T_FCD_0011\n",
      "Loading and preprocessing test data\n"
     ]
    },
    {
     "name": "stdout",
     "output_type": "stream",
     "text": [
      "MELD_H17_15T_FCD_0017\n"
     ]
    },
    {
     "name": "stderr",
     "output_type": "stream",
     "text": [
      "Z-scoring data for MELD_H17_15T_FCD_0017\n",
      "Loading and preprocessing test data\n"
     ]
    },
    {
     "name": "stdout",
     "output_type": "stream",
     "text": [
      "MELD_H17_15T_FCD_0102\n"
     ]
    },
    {
     "name": "stderr",
     "output_type": "stream",
     "text": [
      "Z-scoring data for MELD_H17_15T_FCD_0102\n",
      "Loading and preprocessing test data\n"
     ]
    },
    {
     "name": "stdout",
     "output_type": "stream",
     "text": [
      "MELD_H17_15T_FCD_0104\n"
     ]
    },
    {
     "name": "stderr",
     "output_type": "stream",
     "text": [
      "Z-scoring data for MELD_H17_15T_FCD_0104\n",
      "Loading and preprocessing test data\n"
     ]
    },
    {
     "name": "stdout",
     "output_type": "stream",
     "text": [
      "MELD_H17_15T_FCD_0139\n"
     ]
    },
    {
     "name": "stderr",
     "output_type": "stream",
     "text": [
      "Z-scoring data for MELD_H17_15T_FCD_0139\n",
      "Loading and preprocessing test data\n"
     ]
    },
    {
     "name": "stdout",
     "output_type": "stream",
     "text": [
      "MELD_H17_3T_FCD_0001\n"
     ]
    },
    {
     "name": "stderr",
     "output_type": "stream",
     "text": [
      "Z-scoring data for MELD_H17_3T_FCD_0001\n",
      "Loading and preprocessing test data\n"
     ]
    },
    {
     "name": "stdout",
     "output_type": "stream",
     "text": [
      "MELD_H17_3T_FCD_0014\n"
     ]
    },
    {
     "name": "stderr",
     "output_type": "stream",
     "text": [
      "Z-scoring data for MELD_H17_3T_FCD_0014\n",
      "Loading and preprocessing test data\n"
     ]
    },
    {
     "name": "stdout",
     "output_type": "stream",
     "text": [
      "MELD_H17_3T_FCD_0018\n"
     ]
    },
    {
     "name": "stderr",
     "output_type": "stream",
     "text": [
      "Z-scoring data for MELD_H17_3T_FCD_0018\n",
      "Loading and preprocessing test data\n"
     ]
    },
    {
     "name": "stdout",
     "output_type": "stream",
     "text": [
      "MELD_H17_3T_FCD_0022\n"
     ]
    },
    {
     "name": "stderr",
     "output_type": "stream",
     "text": [
      "Z-scoring data for MELD_H17_3T_FCD_0022\n",
      "Loading and preprocessing test data\n"
     ]
    },
    {
     "name": "stdout",
     "output_type": "stream",
     "text": [
      "MELD_H17_3T_FCD_0039\n"
     ]
    },
    {
     "name": "stderr",
     "output_type": "stream",
     "text": [
      "Z-scoring data for MELD_H17_3T_FCD_0039\n",
      "Loading and preprocessing test data\n"
     ]
    },
    {
     "name": "stdout",
     "output_type": "stream",
     "text": [
      "MELD_H17_3T_FCD_0043\n"
     ]
    },
    {
     "name": "stderr",
     "output_type": "stream",
     "text": [
      "Z-scoring data for MELD_H17_3T_FCD_0043\n",
      "Loading and preprocessing test data\n"
     ]
    },
    {
     "name": "stdout",
     "output_type": "stream",
     "text": [
      "MELD_H17_3T_FCD_0044\n"
     ]
    },
    {
     "name": "stderr",
     "output_type": "stream",
     "text": [
      "Z-scoring data for MELD_H17_3T_FCD_0044\n",
      "Loading and preprocessing test data\n"
     ]
    },
    {
     "name": "stdout",
     "output_type": "stream",
     "text": [
      "MELD_H17_3T_FCD_0053\n"
     ]
    },
    {
     "name": "stderr",
     "output_type": "stream",
     "text": [
      "Z-scoring data for MELD_H17_3T_FCD_0053\n",
      "Loading and preprocessing test data\n"
     ]
    },
    {
     "name": "stdout",
     "output_type": "stream",
     "text": [
      "MELD_H17_3T_FCD_0054\n"
     ]
    },
    {
     "name": "stderr",
     "output_type": "stream",
     "text": [
      "Z-scoring data for MELD_H17_3T_FCD_0054\n",
      "Loading and preprocessing test data\n"
     ]
    },
    {
     "name": "stdout",
     "output_type": "stream",
     "text": [
      "MELD_H17_3T_FCD_0057\n"
     ]
    },
    {
     "name": "stderr",
     "output_type": "stream",
     "text": [
      "Z-scoring data for MELD_H17_3T_FCD_0057\n",
      "Loading and preprocessing test data\n"
     ]
    },
    {
     "name": "stdout",
     "output_type": "stream",
     "text": [
      "MELD_H17_3T_FCD_0061\n"
     ]
    },
    {
     "name": "stderr",
     "output_type": "stream",
     "text": [
      "Z-scoring data for MELD_H17_3T_FCD_0061\n",
      "Loading and preprocessing test data\n"
     ]
    },
    {
     "name": "stdout",
     "output_type": "stream",
     "text": [
      "MELD_H17_3T_FCD_0067\n"
     ]
    },
    {
     "name": "stderr",
     "output_type": "stream",
     "text": [
      "Z-scoring data for MELD_H17_3T_FCD_0067\n",
      "Loading and preprocessing test data\n"
     ]
    },
    {
     "name": "stdout",
     "output_type": "stream",
     "text": [
      "MELD_H17_3T_FCD_0070\n"
     ]
    },
    {
     "name": "stderr",
     "output_type": "stream",
     "text": [
      "Z-scoring data for MELD_H17_3T_FCD_0070\n",
      "Loading and preprocessing test data\n"
     ]
    },
    {
     "name": "stdout",
     "output_type": "stream",
     "text": [
      "MELD_H17_3T_FCD_0076\n"
     ]
    },
    {
     "name": "stderr",
     "output_type": "stream",
     "text": [
      "Z-scoring data for MELD_H17_3T_FCD_0076\n",
      "Loading and preprocessing test data\n"
     ]
    },
    {
     "name": "stdout",
     "output_type": "stream",
     "text": [
      "MELD_H17_3T_FCD_0079\n"
     ]
    },
    {
     "name": "stderr",
     "output_type": "stream",
     "text": [
      "Z-scoring data for MELD_H17_3T_FCD_0079\n",
      "Loading and preprocessing test data\n"
     ]
    },
    {
     "name": "stdout",
     "output_type": "stream",
     "text": [
      "MELD_H17_3T_FCD_0084\n"
     ]
    },
    {
     "name": "stderr",
     "output_type": "stream",
     "text": [
      "Z-scoring data for MELD_H17_3T_FCD_0084\n",
      "Loading and preprocessing test data\n"
     ]
    },
    {
     "name": "stdout",
     "output_type": "stream",
     "text": [
      "MELD_H17_3T_FCD_0086\n"
     ]
    },
    {
     "name": "stderr",
     "output_type": "stream",
     "text": [
      "Z-scoring data for MELD_H17_3T_FCD_0086\n",
      "Loading and preprocessing test data\n"
     ]
    },
    {
     "name": "stdout",
     "output_type": "stream",
     "text": [
      "MELD_H17_3T_FCD_0090\n"
     ]
    },
    {
     "name": "stderr",
     "output_type": "stream",
     "text": [
      "Z-scoring data for MELD_H17_3T_FCD_0090\n",
      "Loading and preprocessing test data\n"
     ]
    },
    {
     "name": "stdout",
     "output_type": "stream",
     "text": [
      "MELD_H17_3T_FCD_0091\n"
     ]
    },
    {
     "name": "stderr",
     "output_type": "stream",
     "text": [
      "Z-scoring data for MELD_H17_3T_FCD_0091\n",
      "Loading and preprocessing test data\n"
     ]
    },
    {
     "name": "stdout",
     "output_type": "stream",
     "text": [
      "MELD_H17_3T_FCD_0094\n"
     ]
    },
    {
     "name": "stderr",
     "output_type": "stream",
     "text": [
      "Z-scoring data for MELD_H17_3T_FCD_0094\n",
      "Loading and preprocessing test data\n"
     ]
    },
    {
     "name": "stdout",
     "output_type": "stream",
     "text": [
      "MELD_H17_3T_FCD_0098\n"
     ]
    },
    {
     "name": "stderr",
     "output_type": "stream",
     "text": [
      "Z-scoring data for MELD_H17_3T_FCD_0098\n",
      "Loading and preprocessing test data\n"
     ]
    },
    {
     "name": "stdout",
     "output_type": "stream",
     "text": [
      "MELD_H17_3T_FCD_0112\n"
     ]
    },
    {
     "name": "stderr",
     "output_type": "stream",
     "text": [
      "Z-scoring data for MELD_H17_3T_FCD_0112\n",
      "Loading and preprocessing test data\n"
     ]
    },
    {
     "name": "stdout",
     "output_type": "stream",
     "text": [
      "MELD_H17_3T_FCD_0116\n"
     ]
    },
    {
     "name": "stderr",
     "output_type": "stream",
     "text": [
      "Z-scoring data for MELD_H17_3T_FCD_0116\n",
      "Loading and preprocessing test data\n"
     ]
    },
    {
     "name": "stdout",
     "output_type": "stream",
     "text": [
      "MELD_H17_3T_FCD_0120\n"
     ]
    },
    {
     "name": "stderr",
     "output_type": "stream",
     "text": [
      "Z-scoring data for MELD_H17_3T_FCD_0120\n",
      "Loading and preprocessing test data\n"
     ]
    },
    {
     "name": "stdout",
     "output_type": "stream",
     "text": [
      "MELD_H17_3T_FCD_0127\n"
     ]
    },
    {
     "name": "stderr",
     "output_type": "stream",
     "text": [
      "Z-scoring data for MELD_H17_3T_FCD_0127\n",
      "Loading and preprocessing test data\n"
     ]
    },
    {
     "name": "stdout",
     "output_type": "stream",
     "text": [
      "MELD_H17_3T_FCD_0135\n"
     ]
    },
    {
     "name": "stderr",
     "output_type": "stream",
     "text": [
      "Z-scoring data for MELD_H17_3T_FCD_0135\n",
      "Loading and preprocessing test data\n"
     ]
    },
    {
     "name": "stdout",
     "output_type": "stream",
     "text": [
      "MELD_H17_3T_FCD_0143\n"
     ]
    },
    {
     "name": "stderr",
     "output_type": "stream",
     "text": [
      "Z-scoring data for MELD_H17_3T_FCD_0143\n",
      "Loading and preprocessing test data\n"
     ]
    },
    {
     "name": "stdout",
     "output_type": "stream",
     "text": [
      "MELD_H18_3T_FCD_0001\n"
     ]
    },
    {
     "name": "stderr",
     "output_type": "stream",
     "text": [
      "Z-scoring data for MELD_H18_3T_FCD_0001\n",
      "Loading and preprocessing test data\n"
     ]
    },
    {
     "name": "stdout",
     "output_type": "stream",
     "text": [
      "MELD_H18_3T_FCD_0006\n"
     ]
    },
    {
     "name": "stderr",
     "output_type": "stream",
     "text": [
      "Z-scoring data for MELD_H18_3T_FCD_0006\n",
      "Loading and preprocessing test data\n"
     ]
    },
    {
     "name": "stdout",
     "output_type": "stream",
     "text": [
      "MELD_H18_3T_FCD_0008\n"
     ]
    },
    {
     "name": "stderr",
     "output_type": "stream",
     "text": [
      "Z-scoring data for MELD_H18_3T_FCD_0008\n",
      "Loading and preprocessing test data\n"
     ]
    },
    {
     "name": "stdout",
     "output_type": "stream",
     "text": [
      "MELD_H18_3T_FCD_0009\n"
     ]
    },
    {
     "name": "stderr",
     "output_type": "stream",
     "text": [
      "Z-scoring data for MELD_H18_3T_FCD_0009\n",
      "Loading and preprocessing test data\n"
     ]
    },
    {
     "name": "stdout",
     "output_type": "stream",
     "text": [
      "MELD_H18_3T_FCD_0101\n"
     ]
    },
    {
     "name": "stderr",
     "output_type": "stream",
     "text": [
      "Z-scoring data for MELD_H18_3T_FCD_0101\n",
      "Loading and preprocessing test data\n"
     ]
    },
    {
     "name": "stdout",
     "output_type": "stream",
     "text": [
      "MELD_H18_3T_FCD_0109\n"
     ]
    },
    {
     "name": "stderr",
     "output_type": "stream",
     "text": [
      "Z-scoring data for MELD_H18_3T_FCD_0109\n",
      "Loading and preprocessing test data\n"
     ]
    },
    {
     "name": "stdout",
     "output_type": "stream",
     "text": [
      "MELD_H18_3T_FCD_0115\n"
     ]
    },
    {
     "name": "stderr",
     "output_type": "stream",
     "text": [
      "Z-scoring data for MELD_H18_3T_FCD_0115\n",
      "Loading and preprocessing test data\n"
     ]
    },
    {
     "name": "stdout",
     "output_type": "stream",
     "text": [
      "MELD_H18_3T_FCD_0124\n"
     ]
    },
    {
     "name": "stderr",
     "output_type": "stream",
     "text": [
      "Z-scoring data for MELD_H18_3T_FCD_0124\n",
      "Loading and preprocessing test data\n"
     ]
    },
    {
     "name": "stdout",
     "output_type": "stream",
     "text": [
      "MELD_H21_15T_FCD_0036\n"
     ]
    },
    {
     "name": "stderr",
     "output_type": "stream",
     "text": [
      "Z-scoring data for MELD_H21_15T_FCD_0036\n",
      "Loading and preprocessing test data\n"
     ]
    },
    {
     "name": "stdout",
     "output_type": "stream",
     "text": [
      "MELD_H21_15T_FCD_0038\n"
     ]
    },
    {
     "name": "stderr",
     "output_type": "stream",
     "text": [
      "Z-scoring data for MELD_H21_15T_FCD_0038\n",
      "Loading and preprocessing test data\n"
     ]
    },
    {
     "name": "stdout",
     "output_type": "stream",
     "text": [
      "MELD_H21_15T_FCD_0040\n"
     ]
    },
    {
     "name": "stderr",
     "output_type": "stream",
     "text": [
      "Z-scoring data for MELD_H21_15T_FCD_0040\n",
      "Loading and preprocessing test data\n"
     ]
    },
    {
     "name": "stdout",
     "output_type": "stream",
     "text": [
      "MELD_H21_15T_FCD_0043\n"
     ]
    },
    {
     "name": "stderr",
     "output_type": "stream",
     "text": [
      "Z-scoring data for MELD_H21_15T_FCD_0043\n",
      "Loading and preprocessing test data\n"
     ]
    },
    {
     "name": "stdout",
     "output_type": "stream",
     "text": [
      "MELD_H21_15T_FCD_0047\n"
     ]
    },
    {
     "name": "stderr",
     "output_type": "stream",
     "text": [
      "Z-scoring data for MELD_H21_15T_FCD_0047\n",
      "Loading and preprocessing test data\n"
     ]
    },
    {
     "name": "stdout",
     "output_type": "stream",
     "text": [
      "MELD_H21_15T_FCD_0049\n"
     ]
    },
    {
     "name": "stderr",
     "output_type": "stream",
     "text": [
      "Z-scoring data for MELD_H21_15T_FCD_0049\n",
      "Loading and preprocessing test data\n"
     ]
    },
    {
     "name": "stdout",
     "output_type": "stream",
     "text": [
      "MELD_H21_15T_FCD_0050\n"
     ]
    },
    {
     "name": "stderr",
     "output_type": "stream",
     "text": [
      "Z-scoring data for MELD_H21_15T_FCD_0050\n",
      "Loading and preprocessing test data\n"
     ]
    },
    {
     "name": "stdout",
     "output_type": "stream",
     "text": [
      "MELD_H21_15T_FCD_0051\n"
     ]
    },
    {
     "name": "stderr",
     "output_type": "stream",
     "text": [
      "Z-scoring data for MELD_H21_15T_FCD_0051\n",
      "Loading and preprocessing test data\n"
     ]
    },
    {
     "name": "stdout",
     "output_type": "stream",
     "text": [
      "MELD_H21_15T_FCD_0052\n"
     ]
    },
    {
     "name": "stderr",
     "output_type": "stream",
     "text": [
      "Z-scoring data for MELD_H21_15T_FCD_0052\n",
      "Loading and preprocessing test data\n"
     ]
    },
    {
     "name": "stdout",
     "output_type": "stream",
     "text": [
      "MELD_H21_3T_FCD_0007\n"
     ]
    },
    {
     "name": "stderr",
     "output_type": "stream",
     "text": [
      "Z-scoring data for MELD_H21_3T_FCD_0007\n",
      "Loading and preprocessing test data\n"
     ]
    },
    {
     "name": "stdout",
     "output_type": "stream",
     "text": [
      "MELD_H21_3T_FCD_0008\n"
     ]
    },
    {
     "name": "stderr",
     "output_type": "stream",
     "text": [
      "Z-scoring data for MELD_H21_3T_FCD_0008\n",
      "Loading and preprocessing test data\n"
     ]
    },
    {
     "name": "stdout",
     "output_type": "stream",
     "text": [
      "MELD_H21_3T_FCD_0009\n"
     ]
    },
    {
     "name": "stderr",
     "output_type": "stream",
     "text": [
      "Z-scoring data for MELD_H21_3T_FCD_0009\n",
      "Loading and preprocessing test data\n"
     ]
    },
    {
     "name": "stdout",
     "output_type": "stream",
     "text": [
      "MELD_H21_3T_FCD_0013\n"
     ]
    },
    {
     "name": "stderr",
     "output_type": "stream",
     "text": [
      "Z-scoring data for MELD_H21_3T_FCD_0013\n",
      "Loading and preprocessing test data\n"
     ]
    },
    {
     "name": "stdout",
     "output_type": "stream",
     "text": [
      "MELD_H21_3T_FCD_0016\n"
     ]
    },
    {
     "name": "stderr",
     "output_type": "stream",
     "text": [
      "Z-scoring data for MELD_H21_3T_FCD_0016\n",
      "Loading and preprocessing test data\n"
     ]
    },
    {
     "name": "stdout",
     "output_type": "stream",
     "text": [
      "MELD_H21_3T_FCD_0017\n"
     ]
    },
    {
     "name": "stderr",
     "output_type": "stream",
     "text": [
      "Z-scoring data for MELD_H21_3T_FCD_0017\n",
      "Loading and preprocessing test data\n"
     ]
    },
    {
     "name": "stdout",
     "output_type": "stream",
     "text": [
      "MELD_H21_3T_FCD_0018\n"
     ]
    },
    {
     "name": "stderr",
     "output_type": "stream",
     "text": [
      "Z-scoring data for MELD_H21_3T_FCD_0018\n",
      "Loading and preprocessing test data\n"
     ]
    },
    {
     "name": "stdout",
     "output_type": "stream",
     "text": [
      "MELD_H21_3T_FCD_0030\n"
     ]
    },
    {
     "name": "stderr",
     "output_type": "stream",
     "text": [
      "Z-scoring data for MELD_H21_3T_FCD_0030\n",
      "Loading and preprocessing test data\n"
     ]
    },
    {
     "name": "stdout",
     "output_type": "stream",
     "text": [
      "MELD_H21_3T_FCD_0033\n"
     ]
    },
    {
     "name": "stderr",
     "output_type": "stream",
     "text": [
      "Z-scoring data for MELD_H21_3T_FCD_0033\n",
      "Loading and preprocessing test data\n"
     ]
    },
    {
     "name": "stdout",
     "output_type": "stream",
     "text": [
      "MELD_H21_3T_FCD_0034\n"
     ]
    },
    {
     "name": "stderr",
     "output_type": "stream",
     "text": [
      "Z-scoring data for MELD_H21_3T_FCD_0034\n",
      "Loading and preprocessing test data\n"
     ]
    },
    {
     "name": "stdout",
     "output_type": "stream",
     "text": [
      "MELD_H21_3T_FCD_0035\n"
     ]
    },
    {
     "name": "stderr",
     "output_type": "stream",
     "text": [
      "Z-scoring data for MELD_H21_3T_FCD_0035\n",
      "Loading and preprocessing test data\n"
     ]
    },
    {
     "name": "stdout",
     "output_type": "stream",
     "text": [
      "MELD_H21_3T_FCD_0046\n"
     ]
    },
    {
     "name": "stderr",
     "output_type": "stream",
     "text": [
      "Z-scoring data for MELD_H21_3T_FCD_0046\n",
      "Loading and preprocessing test data\n"
     ]
    },
    {
     "name": "stdout",
     "output_type": "stream",
     "text": [
      "MELD_H21_3T_FCD_0048\n"
     ]
    },
    {
     "name": "stderr",
     "output_type": "stream",
     "text": [
      "Z-scoring data for MELD_H21_3T_FCD_0048\n",
      "Loading and preprocessing test data\n"
     ]
    },
    {
     "name": "stdout",
     "output_type": "stream",
     "text": [
      "MELD_H23_15T_FCD_0003\n"
     ]
    },
    {
     "name": "stderr",
     "output_type": "stream",
     "text": [
      "Z-scoring data for MELD_H23_15T_FCD_0003\n",
      "Loading and preprocessing test data\n"
     ]
    },
    {
     "name": "stdout",
     "output_type": "stream",
     "text": [
      "MELD_H23_15T_FCD_0004\n"
     ]
    },
    {
     "name": "stderr",
     "output_type": "stream",
     "text": [
      "Z-scoring data for MELD_H23_15T_FCD_0004\n",
      "Loading and preprocessing test data\n"
     ]
    },
    {
     "name": "stdout",
     "output_type": "stream",
     "text": [
      "MELD_H23_15T_FCD_0005\n"
     ]
    },
    {
     "name": "stderr",
     "output_type": "stream",
     "text": [
      "Z-scoring data for MELD_H23_15T_FCD_0005\n",
      "Loading and preprocessing test data\n"
     ]
    },
    {
     "name": "stdout",
     "output_type": "stream",
     "text": [
      "MELD_H23_15T_FCD_0011\n"
     ]
    },
    {
     "name": "stderr",
     "output_type": "stream",
     "text": [
      "Z-scoring data for MELD_H23_15T_FCD_0011\n",
      "Loading and preprocessing test data\n"
     ]
    },
    {
     "name": "stdout",
     "output_type": "stream",
     "text": [
      "MELD_H23_15T_FCD_0013\n"
     ]
    },
    {
     "name": "stderr",
     "output_type": "stream",
     "text": [
      "Z-scoring data for MELD_H23_15T_FCD_0013\n",
      "Loading and preprocessing test data\n"
     ]
    },
    {
     "name": "stdout",
     "output_type": "stream",
     "text": [
      "MELD_H23_15T_FCD_0015\n"
     ]
    },
    {
     "name": "stderr",
     "output_type": "stream",
     "text": [
      "Z-scoring data for MELD_H23_15T_FCD_0015\n",
      "Loading and preprocessing test data\n"
     ]
    },
    {
     "name": "stdout",
     "output_type": "stream",
     "text": [
      "MELD_H23_15T_FCD_0020\n"
     ]
    },
    {
     "name": "stderr",
     "output_type": "stream",
     "text": [
      "Z-scoring data for MELD_H23_15T_FCD_0020\n",
      "Loading and preprocessing test data\n"
     ]
    },
    {
     "name": "stdout",
     "output_type": "stream",
     "text": [
      "MELD_H23_15T_FCD_0021\n"
     ]
    },
    {
     "name": "stderr",
     "output_type": "stream",
     "text": [
      "Z-scoring data for MELD_H23_15T_FCD_0021\n",
      "Loading and preprocessing test data\n"
     ]
    },
    {
     "name": "stdout",
     "output_type": "stream",
     "text": [
      "MELD_H23_15T_FCD_0022\n"
     ]
    },
    {
     "name": "stderr",
     "output_type": "stream",
     "text": [
      "Z-scoring data for MELD_H23_15T_FCD_0022\n",
      "Loading and preprocessing test data\n"
     ]
    },
    {
     "name": "stdout",
     "output_type": "stream",
     "text": [
      "MELD_H23_15T_FCD_0023\n"
     ]
    },
    {
     "name": "stderr",
     "output_type": "stream",
     "text": [
      "Z-scoring data for MELD_H23_15T_FCD_0023\n",
      "Loading and preprocessing test data\n"
     ]
    },
    {
     "name": "stdout",
     "output_type": "stream",
     "text": [
      "MELD_H23_15T_FCD_0025\n"
     ]
    },
    {
     "name": "stderr",
     "output_type": "stream",
     "text": [
      "Z-scoring data for MELD_H23_15T_FCD_0025\n",
      "Loading and preprocessing test data\n"
     ]
    },
    {
     "name": "stdout",
     "output_type": "stream",
     "text": [
      "MELD_H23_15T_FCD_0027\n"
     ]
    },
    {
     "name": "stderr",
     "output_type": "stream",
     "text": [
      "Z-scoring data for MELD_H23_15T_FCD_0027\n",
      "Loading and preprocessing test data\n"
     ]
    },
    {
     "name": "stdout",
     "output_type": "stream",
     "text": [
      "MELD_H23_15T_FCD_0030\n"
     ]
    },
    {
     "name": "stderr",
     "output_type": "stream",
     "text": [
      "Z-scoring data for MELD_H23_15T_FCD_0030\n",
      "Loading and preprocessing test data\n"
     ]
    },
    {
     "name": "stdout",
     "output_type": "stream",
     "text": [
      "MELD_H23_15T_FCD_0031\n"
     ]
    },
    {
     "name": "stderr",
     "output_type": "stream",
     "text": [
      "Z-scoring data for MELD_H23_15T_FCD_0031\n",
      "Loading and preprocessing test data\n"
     ]
    },
    {
     "name": "stdout",
     "output_type": "stream",
     "text": [
      "MELD_H23_15T_FCD_0032\n"
     ]
    },
    {
     "name": "stderr",
     "output_type": "stream",
     "text": [
      "Z-scoring data for MELD_H23_15T_FCD_0032\n",
      "Loading and preprocessing test data\n"
     ]
    },
    {
     "name": "stdout",
     "output_type": "stream",
     "text": [
      "MELD_H24_3T_FCD_0003\n"
     ]
    },
    {
     "name": "stderr",
     "output_type": "stream",
     "text": [
      "Z-scoring data for MELD_H24_3T_FCD_0003\n",
      "Loading and preprocessing test data\n"
     ]
    },
    {
     "name": "stdout",
     "output_type": "stream",
     "text": [
      "MELD_H24_3T_FCD_0005\n"
     ]
    },
    {
     "name": "stderr",
     "output_type": "stream",
     "text": [
      "Z-scoring data for MELD_H24_3T_FCD_0005\n",
      "Loading and preprocessing test data\n"
     ]
    },
    {
     "name": "stdout",
     "output_type": "stream",
     "text": [
      "MELD_H24_3T_FCD_0006\n"
     ]
    },
    {
     "name": "stderr",
     "output_type": "stream",
     "text": [
      "Z-scoring data for MELD_H24_3T_FCD_0006\n",
      "Loading and preprocessing test data\n"
     ]
    },
    {
     "name": "stdout",
     "output_type": "stream",
     "text": [
      "MELD_H24_3T_FCD_0007\n"
     ]
    },
    {
     "name": "stderr",
     "output_type": "stream",
     "text": [
      "Z-scoring data for MELD_H24_3T_FCD_0007\n",
      "Loading and preprocessing test data\n"
     ]
    },
    {
     "name": "stdout",
     "output_type": "stream",
     "text": [
      "MELD_H24_3T_FCD_0011\n"
     ]
    },
    {
     "name": "stderr",
     "output_type": "stream",
     "text": [
      "Z-scoring data for MELD_H24_3T_FCD_0011\n",
      "Loading and preprocessing test data\n"
     ]
    },
    {
     "name": "stdout",
     "output_type": "stream",
     "text": [
      "MELD_H24_3T_FCD_0012\n"
     ]
    },
    {
     "name": "stderr",
     "output_type": "stream",
     "text": [
      "Z-scoring data for MELD_H24_3T_FCD_0012\n",
      "Loading and preprocessing test data\n"
     ]
    },
    {
     "name": "stdout",
     "output_type": "stream",
     "text": [
      "MELD_H24_3T_FCD_0013\n"
     ]
    },
    {
     "name": "stderr",
     "output_type": "stream",
     "text": [
      "Z-scoring data for MELD_H24_3T_FCD_0013\n",
      "Loading and preprocessing test data\n"
     ]
    },
    {
     "name": "stdout",
     "output_type": "stream",
     "text": [
      "MELD_H24_3T_FCD_0015\n"
     ]
    },
    {
     "name": "stderr",
     "output_type": "stream",
     "text": [
      "Z-scoring data for MELD_H24_3T_FCD_0015\n",
      "Loading and preprocessing test data\n"
     ]
    },
    {
     "name": "stdout",
     "output_type": "stream",
     "text": [
      "MELD_H24_3T_FCD_0025\n"
     ]
    },
    {
     "name": "stderr",
     "output_type": "stream",
     "text": [
      "Z-scoring data for MELD_H24_3T_FCD_0025\n",
      "Loading and preprocessing test data\n"
     ]
    },
    {
     "name": "stdout",
     "output_type": "stream",
     "text": [
      "MELD_H24_3T_FCD_0026\n"
     ]
    },
    {
     "name": "stderr",
     "output_type": "stream",
     "text": [
      "Z-scoring data for MELD_H24_3T_FCD_0026\n",
      "Loading and preprocessing test data\n"
     ]
    },
    {
     "name": "stdout",
     "output_type": "stream",
     "text": [
      "MELD_H24_3T_FCD_0029\n"
     ]
    },
    {
     "name": "stderr",
     "output_type": "stream",
     "text": [
      "Z-scoring data for MELD_H24_3T_FCD_0029\n",
      "Loading and preprocessing test data\n"
     ]
    },
    {
     "name": "stdout",
     "output_type": "stream",
     "text": [
      "MELD_H24_3T_FCD_0030\n"
     ]
    },
    {
     "name": "stderr",
     "output_type": "stream",
     "text": [
      "Z-scoring data for MELD_H24_3T_FCD_0030\n",
      "Loading and preprocessing test data\n"
     ]
    },
    {
     "name": "stdout",
     "output_type": "stream",
     "text": [
      "MELD_H24_3T_FCD_0036\n"
     ]
    },
    {
     "name": "stderr",
     "output_type": "stream",
     "text": [
      "Z-scoring data for MELD_H24_3T_FCD_0036\n",
      "Loading and preprocessing test data\n"
     ]
    },
    {
     "name": "stdout",
     "output_type": "stream",
     "text": [
      "MELD_H24_3T_FCD_0037\n"
     ]
    },
    {
     "name": "stderr",
     "output_type": "stream",
     "text": [
      "Z-scoring data for MELD_H24_3T_FCD_0037\n",
      "Loading and preprocessing test data\n"
     ]
    },
    {
     "name": "stdout",
     "output_type": "stream",
     "text": [
      "MELD_H24_3T_FCD_0040\n"
     ]
    },
    {
     "name": "stderr",
     "output_type": "stream",
     "text": [
      "Z-scoring data for MELD_H24_3T_FCD_0040\n",
      "Loading and preprocessing test data\n"
     ]
    },
    {
     "name": "stdout",
     "output_type": "stream",
     "text": [
      "MELD_H24_3T_FCD_0041\n"
     ]
    },
    {
     "name": "stderr",
     "output_type": "stream",
     "text": [
      "Z-scoring data for MELD_H24_3T_FCD_0041\n",
      "Loading and preprocessing test data\n"
     ]
    },
    {
     "name": "stdout",
     "output_type": "stream",
     "text": [
      "MELD_H26_15T_FCD_0001\n"
     ]
    },
    {
     "name": "stderr",
     "output_type": "stream",
     "text": [
      "Z-scoring data for MELD_H26_15T_FCD_0001\n",
      "Loading and preprocessing test data\n"
     ]
    },
    {
     "name": "stdout",
     "output_type": "stream",
     "text": [
      "MELD_H26_15T_FCD_0005\n"
     ]
    },
    {
     "name": "stderr",
     "output_type": "stream",
     "text": [
      "Z-scoring data for MELD_H26_15T_FCD_0005\n",
      "Loading and preprocessing test data\n"
     ]
    },
    {
     "name": "stdout",
     "output_type": "stream",
     "text": [
      "MELD_H26_15T_FCD_0009\n"
     ]
    },
    {
     "name": "stderr",
     "output_type": "stream",
     "text": [
      "Z-scoring data for MELD_H26_15T_FCD_0009\n",
      "Loading and preprocessing test data\n"
     ]
    },
    {
     "name": "stdout",
     "output_type": "stream",
     "text": [
      "MELD_H26_15T_FCD_0010\n"
     ]
    },
    {
     "name": "stderr",
     "output_type": "stream",
     "text": [
      "Z-scoring data for MELD_H26_15T_FCD_0010\n",
      "Loading and preprocessing test data\n"
     ]
    },
    {
     "name": "stdout",
     "output_type": "stream",
     "text": [
      "MELD_H26_3T_FCD_0002\n"
     ]
    },
    {
     "name": "stderr",
     "output_type": "stream",
     "text": [
      "Z-scoring data for MELD_H26_3T_FCD_0002\n",
      "Loading and preprocessing test data\n"
     ]
    },
    {
     "name": "stdout",
     "output_type": "stream",
     "text": [
      "MELD_H26_3T_FCD_0004\n"
     ]
    },
    {
     "name": "stderr",
     "output_type": "stream",
     "text": [
      "Z-scoring data for MELD_H26_3T_FCD_0004\n",
      "Loading and preprocessing test data\n"
     ]
    },
    {
     "name": "stdout",
     "output_type": "stream",
     "text": [
      "MELD_H26_3T_FCD_0007\n"
     ]
    },
    {
     "name": "stderr",
     "output_type": "stream",
     "text": [
      "Z-scoring data for MELD_H26_3T_FCD_0007\n",
      "Loading and preprocessing test data\n"
     ]
    },
    {
     "name": "stdout",
     "output_type": "stream",
     "text": [
      "MELD_H2_15T_FCD_0001\n"
     ]
    },
    {
     "name": "stderr",
     "output_type": "stream",
     "text": [
      "Z-scoring data for MELD_H2_15T_FCD_0001\n",
      "Loading and preprocessing test data\n"
     ]
    },
    {
     "name": "stdout",
     "output_type": "stream",
     "text": [
      "MELD_H2_15T_FCD_0003\n"
     ]
    },
    {
     "name": "stderr",
     "output_type": "stream",
     "text": [
      "Z-scoring data for MELD_H2_15T_FCD_0003\n",
      "Loading and preprocessing test data\n"
     ]
    },
    {
     "name": "stdout",
     "output_type": "stream",
     "text": [
      "MELD_H2_15T_FCD_0005\n"
     ]
    },
    {
     "name": "stderr",
     "output_type": "stream",
     "text": [
      "Z-scoring data for MELD_H2_15T_FCD_0005\n",
      "Loading and preprocessing test data\n"
     ]
    },
    {
     "name": "stdout",
     "output_type": "stream",
     "text": [
      "MELD_H2_15T_FCD_0007\n"
     ]
    },
    {
     "name": "stderr",
     "output_type": "stream",
     "text": [
      "Z-scoring data for MELD_H2_15T_FCD_0007\n",
      "Loading and preprocessing test data\n"
     ]
    },
    {
     "name": "stdout",
     "output_type": "stream",
     "text": [
      "MELD_H2_15T_FCD_0008\n"
     ]
    },
    {
     "name": "stderr",
     "output_type": "stream",
     "text": [
      "Z-scoring data for MELD_H2_15T_FCD_0008\n",
      "Loading and preprocessing test data\n"
     ]
    },
    {
     "name": "stdout",
     "output_type": "stream",
     "text": [
      "MELD_H2_15T_FCD_0009\n"
     ]
    },
    {
     "name": "stderr",
     "output_type": "stream",
     "text": [
      "Z-scoring data for MELD_H2_15T_FCD_0009\n",
      "Loading and preprocessing test data\n"
     ]
    },
    {
     "name": "stdout",
     "output_type": "stream",
     "text": [
      "MELD_H2_15T_FCD_0014\n"
     ]
    },
    {
     "name": "stderr",
     "output_type": "stream",
     "text": [
      "Z-scoring data for MELD_H2_15T_FCD_0014\n",
      "Loading and preprocessing test data\n"
     ]
    },
    {
     "name": "stdout",
     "output_type": "stream",
     "text": [
      "MELD_H2_15T_FCD_0015\n"
     ]
    },
    {
     "name": "stderr",
     "output_type": "stream",
     "text": [
      "Z-scoring data for MELD_H2_15T_FCD_0015\n",
      "Loading and preprocessing test data\n"
     ]
    },
    {
     "name": "stdout",
     "output_type": "stream",
     "text": [
      "MELD_H2_15T_FCD_0016\n"
     ]
    },
    {
     "name": "stderr",
     "output_type": "stream",
     "text": [
      "Z-scoring data for MELD_H2_15T_FCD_0016\n",
      "Loading and preprocessing test data\n"
     ]
    },
    {
     "name": "stdout",
     "output_type": "stream",
     "text": [
      "MELD_H2_15T_FCD_0020\n"
     ]
    },
    {
     "name": "stderr",
     "output_type": "stream",
     "text": [
      "Z-scoring data for MELD_H2_15T_FCD_0020\n",
      "Loading and preprocessing test data\n"
     ]
    },
    {
     "name": "stdout",
     "output_type": "stream",
     "text": [
      "MELD_H2_15T_FCD_0023\n"
     ]
    },
    {
     "name": "stderr",
     "output_type": "stream",
     "text": [
      "Z-scoring data for MELD_H2_15T_FCD_0023\n",
      "Loading and preprocessing test data\n"
     ]
    },
    {
     "name": "stdout",
     "output_type": "stream",
     "text": [
      "MELD_H2_15T_FCD_0028\n"
     ]
    },
    {
     "name": "stderr",
     "output_type": "stream",
     "text": [
      "Z-scoring data for MELD_H2_15T_FCD_0028\n",
      "Loading and preprocessing test data\n"
     ]
    },
    {
     "name": "stdout",
     "output_type": "stream",
     "text": [
      "MELD_H2_15T_FCD_0029\n"
     ]
    },
    {
     "name": "stderr",
     "output_type": "stream",
     "text": [
      "Z-scoring data for MELD_H2_15T_FCD_0029\n",
      "Loading and preprocessing test data\n"
     ]
    },
    {
     "name": "stdout",
     "output_type": "stream",
     "text": [
      "MELD_H2_15T_FCD_0030\n"
     ]
    },
    {
     "name": "stderr",
     "output_type": "stream",
     "text": [
      "Z-scoring data for MELD_H2_15T_FCD_0030\n",
      "Loading and preprocessing test data\n"
     ]
    },
    {
     "name": "stdout",
     "output_type": "stream",
     "text": [
      "MELD_H2_3T_FCD_0003\n"
     ]
    },
    {
     "name": "stderr",
     "output_type": "stream",
     "text": [
      "Z-scoring data for MELD_H2_3T_FCD_0003\n",
      "Loading and preprocessing test data\n"
     ]
    },
    {
     "name": "stdout",
     "output_type": "stream",
     "text": [
      "MELD_H2_3T_FCD_0004\n"
     ]
    },
    {
     "name": "stderr",
     "output_type": "stream",
     "text": [
      "Z-scoring data for MELD_H2_3T_FCD_0004\n",
      "Loading and preprocessing test data\n"
     ]
    },
    {
     "name": "stdout",
     "output_type": "stream",
     "text": [
      "MELD_H2_3T_FCD_0005\n"
     ]
    },
    {
     "name": "stderr",
     "output_type": "stream",
     "text": [
      "Z-scoring data for MELD_H2_3T_FCD_0005\n",
      "Loading and preprocessing test data\n"
     ]
    },
    {
     "name": "stdout",
     "output_type": "stream",
     "text": [
      "MELD_H2_3T_FCD_0006\n"
     ]
    },
    {
     "name": "stderr",
     "output_type": "stream",
     "text": [
      "Z-scoring data for MELD_H2_3T_FCD_0006\n",
      "Loading and preprocessing test data\n"
     ]
    },
    {
     "name": "stdout",
     "output_type": "stream",
     "text": [
      "MELD_H2_3T_FCD_0008\n"
     ]
    },
    {
     "name": "stderr",
     "output_type": "stream",
     "text": [
      "Z-scoring data for MELD_H2_3T_FCD_0008\n",
      "Loading and preprocessing test data\n"
     ]
    },
    {
     "name": "stdout",
     "output_type": "stream",
     "text": [
      "MELD_H2_3T_FCD_0014\n"
     ]
    },
    {
     "name": "stderr",
     "output_type": "stream",
     "text": [
      "Z-scoring data for MELD_H2_3T_FCD_0014\n",
      "Loading and preprocessing test data\n"
     ]
    },
    {
     "name": "stdout",
     "output_type": "stream",
     "text": [
      "MELD_H2_3T_FCD_0016\n"
     ]
    },
    {
     "name": "stderr",
     "output_type": "stream",
     "text": [
      "Z-scoring data for MELD_H2_3T_FCD_0016\n",
      "Loading and preprocessing test data\n"
     ]
    },
    {
     "name": "stdout",
     "output_type": "stream",
     "text": [
      "MELD_H2_3T_FCD_0017\n"
     ]
    },
    {
     "name": "stderr",
     "output_type": "stream",
     "text": [
      "Z-scoring data for MELD_H2_3T_FCD_0017\n",
      "Loading and preprocessing test data\n"
     ]
    },
    {
     "name": "stdout",
     "output_type": "stream",
     "text": [
      "MELD_H2_3T_FCD_0018\n"
     ]
    },
    {
     "name": "stderr",
     "output_type": "stream",
     "text": [
      "Z-scoring data for MELD_H2_3T_FCD_0018\n",
      "Loading and preprocessing test data\n"
     ]
    },
    {
     "name": "stdout",
     "output_type": "stream",
     "text": [
      "MELD_H3_3T_FCD_0002\n"
     ]
    },
    {
     "name": "stderr",
     "output_type": "stream",
     "text": [
      "Z-scoring data for MELD_H3_3T_FCD_0002\n",
      "Loading and preprocessing test data\n"
     ]
    },
    {
     "name": "stdout",
     "output_type": "stream",
     "text": [
      "MELD_H3_3T_FCD_0003\n"
     ]
    },
    {
     "name": "stderr",
     "output_type": "stream",
     "text": [
      "Z-scoring data for MELD_H3_3T_FCD_0003\n",
      "Loading and preprocessing test data\n"
     ]
    },
    {
     "name": "stdout",
     "output_type": "stream",
     "text": [
      "MELD_H3_3T_FCD_0004\n"
     ]
    },
    {
     "name": "stderr",
     "output_type": "stream",
     "text": [
      "Z-scoring data for MELD_H3_3T_FCD_0004\n",
      "Loading and preprocessing test data\n"
     ]
    },
    {
     "name": "stdout",
     "output_type": "stream",
     "text": [
      "MELD_H3_3T_FCD_0005\n"
     ]
    },
    {
     "name": "stderr",
     "output_type": "stream",
     "text": [
      "Z-scoring data for MELD_H3_3T_FCD_0005\n",
      "Loading and preprocessing test data\n"
     ]
    },
    {
     "name": "stdout",
     "output_type": "stream",
     "text": [
      "MELD_H3_3T_FCD_0007\n"
     ]
    },
    {
     "name": "stderr",
     "output_type": "stream",
     "text": [
      "Z-scoring data for MELD_H3_3T_FCD_0007\n",
      "Loading and preprocessing test data\n"
     ]
    },
    {
     "name": "stdout",
     "output_type": "stream",
     "text": [
      "MELD_H3_3T_FCD_0008\n"
     ]
    },
    {
     "name": "stderr",
     "output_type": "stream",
     "text": [
      "Z-scoring data for MELD_H3_3T_FCD_0008\n",
      "Loading and preprocessing test data\n"
     ]
    },
    {
     "name": "stdout",
     "output_type": "stream",
     "text": [
      "MELD_H3_3T_FCD_0009\n"
     ]
    },
    {
     "name": "stderr",
     "output_type": "stream",
     "text": [
      "Z-scoring data for MELD_H3_3T_FCD_0009\n",
      "Loading and preprocessing test data\n"
     ]
    },
    {
     "name": "stdout",
     "output_type": "stream",
     "text": [
      "MELD_H3_3T_FCD_0010\n"
     ]
    },
    {
     "name": "stderr",
     "output_type": "stream",
     "text": [
      "Z-scoring data for MELD_H3_3T_FCD_0010\n",
      "Loading and preprocessing test data\n"
     ]
    },
    {
     "name": "stdout",
     "output_type": "stream",
     "text": [
      "MELD_H3_3T_FCD_0012\n"
     ]
    },
    {
     "name": "stderr",
     "output_type": "stream",
     "text": [
      "Z-scoring data for MELD_H3_3T_FCD_0012\n",
      "Loading and preprocessing test data\n"
     ]
    },
    {
     "name": "stdout",
     "output_type": "stream",
     "text": [
      "MELD_H3_3T_FCD_0014\n"
     ]
    },
    {
     "name": "stderr",
     "output_type": "stream",
     "text": [
      "Z-scoring data for MELD_H3_3T_FCD_0014\n",
      "Loading and preprocessing test data\n"
     ]
    },
    {
     "name": "stdout",
     "output_type": "stream",
     "text": [
      "MELD_H3_3T_FCD_0015\n"
     ]
    },
    {
     "name": "stderr",
     "output_type": "stream",
     "text": [
      "Z-scoring data for MELD_H3_3T_FCD_0015\n",
      "Loading and preprocessing test data\n"
     ]
    },
    {
     "name": "stdout",
     "output_type": "stream",
     "text": [
      "MELD_H3_3T_FCD_0016\n"
     ]
    },
    {
     "name": "stderr",
     "output_type": "stream",
     "text": [
      "Z-scoring data for MELD_H3_3T_FCD_0016\n",
      "Loading and preprocessing test data\n"
     ]
    },
    {
     "name": "stdout",
     "output_type": "stream",
     "text": [
      "MELD_H3_3T_FCD_0018\n"
     ]
    },
    {
     "name": "stderr",
     "output_type": "stream",
     "text": [
      "Z-scoring data for MELD_H3_3T_FCD_0018\n",
      "Loading and preprocessing test data\n"
     ]
    },
    {
     "name": "stdout",
     "output_type": "stream",
     "text": [
      "MELD_H3_3T_FCD_0020\n"
     ]
    },
    {
     "name": "stderr",
     "output_type": "stream",
     "text": [
      "Z-scoring data for MELD_H3_3T_FCD_0020\n",
      "Loading and preprocessing test data\n"
     ]
    },
    {
     "name": "stdout",
     "output_type": "stream",
     "text": [
      "MELD_H3_3T_FCD_0022\n"
     ]
    },
    {
     "name": "stderr",
     "output_type": "stream",
     "text": [
      "Z-scoring data for MELD_H3_3T_FCD_0022\n",
      "Loading and preprocessing test data\n"
     ]
    },
    {
     "name": "stdout",
     "output_type": "stream",
     "text": [
      "MELD_H3_3T_FCD_0023\n"
     ]
    },
    {
     "name": "stderr",
     "output_type": "stream",
     "text": [
      "Z-scoring data for MELD_H3_3T_FCD_0023\n",
      "Loading and preprocessing test data\n"
     ]
    },
    {
     "name": "stdout",
     "output_type": "stream",
     "text": [
      "MELD_H4_15T_FCD_0002\n"
     ]
    },
    {
     "name": "stderr",
     "output_type": "stream",
     "text": [
      "Z-scoring data for MELD_H4_15T_FCD_0002\n",
      "Loading and preprocessing test data\n"
     ]
    },
    {
     "name": "stdout",
     "output_type": "stream",
     "text": [
      "MELD_H4_15T_FCD_0003\n"
     ]
    },
    {
     "name": "stderr",
     "output_type": "stream",
     "text": [
      "Z-scoring data for MELD_H4_15T_FCD_0003\n",
      "Loading and preprocessing test data\n"
     ]
    },
    {
     "name": "stdout",
     "output_type": "stream",
     "text": [
      "MELD_H4_15T_FCD_0009\n"
     ]
    },
    {
     "name": "stderr",
     "output_type": "stream",
     "text": [
      "Z-scoring data for MELD_H4_15T_FCD_0009\n",
      "Loading and preprocessing test data\n"
     ]
    },
    {
     "name": "stdout",
     "output_type": "stream",
     "text": [
      "MELD_H4_15T_FCD_0016\n"
     ]
    },
    {
     "name": "stderr",
     "output_type": "stream",
     "text": [
      "Z-scoring data for MELD_H4_15T_FCD_0016\n",
      "Loading and preprocessing test data\n"
     ]
    },
    {
     "name": "stdout",
     "output_type": "stream",
     "text": [
      "MELD_H4_15T_FCD_0017\n"
     ]
    },
    {
     "name": "stderr",
     "output_type": "stream",
     "text": [
      "Z-scoring data for MELD_H4_15T_FCD_0017\n",
      "Loading and preprocessing test data\n"
     ]
    },
    {
     "name": "stdout",
     "output_type": "stream",
     "text": [
      "MELD_H4_15T_FCD_0018\n"
     ]
    },
    {
     "name": "stderr",
     "output_type": "stream",
     "text": [
      "Z-scoring data for MELD_H4_15T_FCD_0018\n",
      "Loading and preprocessing test data\n"
     ]
    },
    {
     "name": "stdout",
     "output_type": "stream",
     "text": [
      "MELD_H4_15T_FCD_0019\n"
     ]
    },
    {
     "name": "stderr",
     "output_type": "stream",
     "text": [
      "Z-scoring data for MELD_H4_15T_FCD_0019\n",
      "Loading and preprocessing test data\n"
     ]
    },
    {
     "name": "stdout",
     "output_type": "stream",
     "text": [
      "MELD_H4_15T_FCD_0020\n"
     ]
    },
    {
     "name": "stderr",
     "output_type": "stream",
     "text": [
      "Z-scoring data for MELD_H4_15T_FCD_0020\n",
      "Loading and preprocessing test data\n"
     ]
    },
    {
     "name": "stdout",
     "output_type": "stream",
     "text": [
      "MELD_H4_15T_FCD_0021\n"
     ]
    },
    {
     "name": "stderr",
     "output_type": "stream",
     "text": [
      "Z-scoring data for MELD_H4_15T_FCD_0021\n",
      "Loading and preprocessing test data\n"
     ]
    },
    {
     "name": "stdout",
     "output_type": "stream",
     "text": [
      "MELD_H4_3T_FCD_0002\n"
     ]
    },
    {
     "name": "stderr",
     "output_type": "stream",
     "text": [
      "Z-scoring data for MELD_H4_3T_FCD_0002\n",
      "Loading and preprocessing test data\n"
     ]
    },
    {
     "name": "stdout",
     "output_type": "stream",
     "text": [
      "MELD_H4_3T_FCD_0005\n"
     ]
    },
    {
     "name": "stderr",
     "output_type": "stream",
     "text": [
      "Z-scoring data for MELD_H4_3T_FCD_0005\n",
      "Loading and preprocessing test data\n"
     ]
    },
    {
     "name": "stdout",
     "output_type": "stream",
     "text": [
      "MELD_H4_3T_FCD_0007\n"
     ]
    },
    {
     "name": "stderr",
     "output_type": "stream",
     "text": [
      "Z-scoring data for MELD_H4_3T_FCD_0007\n",
      "Loading and preprocessing test data\n"
     ]
    },
    {
     "name": "stdout",
     "output_type": "stream",
     "text": [
      "MELD_H4_3T_FCD_0009\n"
     ]
    },
    {
     "name": "stderr",
     "output_type": "stream",
     "text": [
      "Z-scoring data for MELD_H4_3T_FCD_0009\n",
      "Loading and preprocessing test data\n"
     ]
    },
    {
     "name": "stdout",
     "output_type": "stream",
     "text": [
      "MELD_H4_3T_FCD_0010\n"
     ]
    },
    {
     "name": "stderr",
     "output_type": "stream",
     "text": [
      "Z-scoring data for MELD_H4_3T_FCD_0010\n",
      "Loading and preprocessing test data\n"
     ]
    },
    {
     "name": "stdout",
     "output_type": "stream",
     "text": [
      "MELD_H4_3T_FCD_0015\n"
     ]
    },
    {
     "name": "stderr",
     "output_type": "stream",
     "text": [
      "Z-scoring data for MELD_H4_3T_FCD_0015\n",
      "Loading and preprocessing test data\n"
     ]
    },
    {
     "name": "stdout",
     "output_type": "stream",
     "text": [
      "MELD_H4_3T_FCD_0016\n"
     ]
    },
    {
     "name": "stderr",
     "output_type": "stream",
     "text": [
      "Z-scoring data for MELD_H4_3T_FCD_0016\n",
      "Loading and preprocessing test data\n"
     ]
    },
    {
     "name": "stdout",
     "output_type": "stream",
     "text": [
      "MELD_H4_3T_FCD_0031\n"
     ]
    },
    {
     "name": "stderr",
     "output_type": "stream",
     "text": [
      "Z-scoring data for MELD_H4_3T_FCD_0031\n",
      "Loading and preprocessing test data\n"
     ]
    },
    {
     "name": "stdout",
     "output_type": "stream",
     "text": [
      "MELD_H4_3T_FCD_0038\n"
     ]
    },
    {
     "name": "stderr",
     "output_type": "stream",
     "text": [
      "Z-scoring data for MELD_H4_3T_FCD_0038\n",
      "Loading and preprocessing test data\n"
     ]
    },
    {
     "name": "stdout",
     "output_type": "stream",
     "text": [
      "MELD_H4_3T_FCD_0040\n"
     ]
    },
    {
     "name": "stderr",
     "output_type": "stream",
     "text": [
      "Z-scoring data for MELD_H4_3T_FCD_0040\n",
      "Loading and preprocessing test data\n"
     ]
    },
    {
     "name": "stdout",
     "output_type": "stream",
     "text": [
      "MELD_H5_3T_FCD_0001\n"
     ]
    },
    {
     "name": "stderr",
     "output_type": "stream",
     "text": [
      "Z-scoring data for MELD_H5_3T_FCD_0001\n",
      "Loading and preprocessing test data\n"
     ]
    },
    {
     "name": "stdout",
     "output_type": "stream",
     "text": [
      "MELD_H5_3T_FCD_0004\n"
     ]
    },
    {
     "name": "stderr",
     "output_type": "stream",
     "text": [
      "Z-scoring data for MELD_H5_3T_FCD_0004\n",
      "Loading and preprocessing test data\n"
     ]
    },
    {
     "name": "stdout",
     "output_type": "stream",
     "text": [
      "MELD_H5_3T_FCD_0005\n"
     ]
    },
    {
     "name": "stderr",
     "output_type": "stream",
     "text": [
      "Z-scoring data for MELD_H5_3T_FCD_0005\n",
      "Loading and preprocessing test data\n"
     ]
    },
    {
     "name": "stdout",
     "output_type": "stream",
     "text": [
      "MELD_H5_3T_FCD_0007\n"
     ]
    },
    {
     "name": "stderr",
     "output_type": "stream",
     "text": [
      "Z-scoring data for MELD_H5_3T_FCD_0007\n",
      "Loading and preprocessing test data\n"
     ]
    },
    {
     "name": "stdout",
     "output_type": "stream",
     "text": [
      "MELD_H5_3T_FCD_0011\n"
     ]
    },
    {
     "name": "stderr",
     "output_type": "stream",
     "text": [
      "Z-scoring data for MELD_H5_3T_FCD_0011\n",
      "Loading and preprocessing test data\n"
     ]
    },
    {
     "name": "stdout",
     "output_type": "stream",
     "text": [
      "MELD_H5_3T_FCD_0014\n"
     ]
    },
    {
     "name": "stderr",
     "output_type": "stream",
     "text": [
      "Z-scoring data for MELD_H5_3T_FCD_0014\n",
      "Loading and preprocessing test data\n"
     ]
    },
    {
     "name": "stdout",
     "output_type": "stream",
     "text": [
      "MELD_H5_3T_FCD_0015\n"
     ]
    },
    {
     "name": "stderr",
     "output_type": "stream",
     "text": [
      "Z-scoring data for MELD_H5_3T_FCD_0015\n",
      "Loading and preprocessing test data\n"
     ]
    },
    {
     "name": "stdout",
     "output_type": "stream",
     "text": [
      "MELD_H5_3T_FCD_0017\n"
     ]
    },
    {
     "name": "stderr",
     "output_type": "stream",
     "text": [
      "Z-scoring data for MELD_H5_3T_FCD_0017\n",
      "Loading and preprocessing test data\n"
     ]
    },
    {
     "name": "stdout",
     "output_type": "stream",
     "text": [
      "MELD_H5_3T_FCD_0020\n"
     ]
    },
    {
     "name": "stderr",
     "output_type": "stream",
     "text": [
      "Z-scoring data for MELD_H5_3T_FCD_0020\n",
      "Loading and preprocessing test data\n"
     ]
    },
    {
     "name": "stdout",
     "output_type": "stream",
     "text": [
      "MELD_H5_3T_FCD_0021\n"
     ]
    },
    {
     "name": "stderr",
     "output_type": "stream",
     "text": [
      "Z-scoring data for MELD_H5_3T_FCD_0021\n",
      "Loading and preprocessing test data\n"
     ]
    },
    {
     "name": "stdout",
     "output_type": "stream",
     "text": [
      "MELD_H5_3T_FCD_0022\n"
     ]
    },
    {
     "name": "stderr",
     "output_type": "stream",
     "text": [
      "Z-scoring data for MELD_H5_3T_FCD_0022\n",
      "Loading and preprocessing test data\n"
     ]
    },
    {
     "name": "stdout",
     "output_type": "stream",
     "text": [
      "MELD_H5_3T_FCD_0024\n"
     ]
    },
    {
     "name": "stderr",
     "output_type": "stream",
     "text": [
      "Z-scoring data for MELD_H5_3T_FCD_0024\n",
      "Loading and preprocessing test data\n"
     ]
    },
    {
     "name": "stdout",
     "output_type": "stream",
     "text": [
      "MELD_H5_3T_FCD_0026\n"
     ]
    },
    {
     "name": "stderr",
     "output_type": "stream",
     "text": [
      "Z-scoring data for MELD_H5_3T_FCD_0026\n",
      "Loading and preprocessing test data\n"
     ]
    },
    {
     "name": "stdout",
     "output_type": "stream",
     "text": [
      "MELD_H5_3T_FCD_0029\n"
     ]
    },
    {
     "name": "stderr",
     "output_type": "stream",
     "text": [
      "Z-scoring data for MELD_H5_3T_FCD_0029\n",
      "Loading and preprocessing test data\n"
     ]
    },
    {
     "name": "stdout",
     "output_type": "stream",
     "text": [
      "MELD_H6_3T_FCD_0004\n"
     ]
    },
    {
     "name": "stderr",
     "output_type": "stream",
     "text": [
      "Z-scoring data for MELD_H6_3T_FCD_0004\n",
      "Loading and preprocessing test data\n"
     ]
    },
    {
     "name": "stdout",
     "output_type": "stream",
     "text": [
      "MELD_H6_3T_FCD_0005\n"
     ]
    },
    {
     "name": "stderr",
     "output_type": "stream",
     "text": [
      "Z-scoring data for MELD_H6_3T_FCD_0005\n",
      "Loading and preprocessing test data\n"
     ]
    },
    {
     "name": "stdout",
     "output_type": "stream",
     "text": [
      "MELD_H6_3T_FCD_0006\n"
     ]
    },
    {
     "name": "stderr",
     "output_type": "stream",
     "text": [
      "Z-scoring data for MELD_H6_3T_FCD_0006\n",
      "Loading and preprocessing test data\n"
     ]
    },
    {
     "name": "stdout",
     "output_type": "stream",
     "text": [
      "MELD_H6_3T_FCD_0009\n"
     ]
    },
    {
     "name": "stderr",
     "output_type": "stream",
     "text": [
      "Z-scoring data for MELD_H6_3T_FCD_0009\n",
      "Loading and preprocessing test data\n"
     ]
    },
    {
     "name": "stdout",
     "output_type": "stream",
     "text": [
      "MELD_H6_3T_FCD_0011\n"
     ]
    },
    {
     "name": "stderr",
     "output_type": "stream",
     "text": [
      "Z-scoring data for MELD_H6_3T_FCD_0011\n",
      "Loading and preprocessing test data\n"
     ]
    },
    {
     "name": "stdout",
     "output_type": "stream",
     "text": [
      "MELD_H6_3T_FCD_0013\n"
     ]
    },
    {
     "name": "stderr",
     "output_type": "stream",
     "text": [
      "Z-scoring data for MELD_H6_3T_FCD_0013\n",
      "Loading and preprocessing test data\n"
     ]
    },
    {
     "name": "stdout",
     "output_type": "stream",
     "text": [
      "MELD_H6_3T_FCD_0017\n"
     ]
    },
    {
     "name": "stderr",
     "output_type": "stream",
     "text": [
      "Z-scoring data for MELD_H6_3T_FCD_0017\n",
      "Loading and preprocessing test data\n"
     ]
    },
    {
     "name": "stdout",
     "output_type": "stream",
     "text": [
      "MELD_H9_3T_FCD_0003\n"
     ]
    },
    {
     "name": "stderr",
     "output_type": "stream",
     "text": [
      "Z-scoring data for MELD_H9_3T_FCD_0003\n",
      "Loading and preprocessing test data\n"
     ]
    },
    {
     "name": "stdout",
     "output_type": "stream",
     "text": [
      "MELD_H9_3T_FCD_0004\n"
     ]
    },
    {
     "name": "stderr",
     "output_type": "stream",
     "text": [
      "Z-scoring data for MELD_H9_3T_FCD_0004\n",
      "Loading and preprocessing test data\n"
     ]
    },
    {
     "name": "stdout",
     "output_type": "stream",
     "text": [
      "MELD_H9_3T_FCD_0005\n"
     ]
    },
    {
     "name": "stderr",
     "output_type": "stream",
     "text": [
      "Z-scoring data for MELD_H9_3T_FCD_0005\n",
      "Loading and preprocessing test data\n"
     ]
    },
    {
     "name": "stdout",
     "output_type": "stream",
     "text": [
      "MELD_H9_3T_FCD_0010\n"
     ]
    },
    {
     "name": "stderr",
     "output_type": "stream",
     "text": [
      "Z-scoring data for MELD_H9_3T_FCD_0010\n"
     ]
    },
    {
     "data": {
      "text/html": [
       "<div>\n",
       "<style scoped>\n",
       "    .dataframe tbody tr th:only-of-type {\n",
       "        vertical-align: middle;\n",
       "    }\n",
       "\n",
       "    .dataframe tbody tr th {\n",
       "        vertical-align: top;\n",
       "    }\n",
       "\n",
       "    .dataframe thead th {\n",
       "        text-align: right;\n",
       "    }\n",
       "</style>\n",
       "<table border=\"1\" class=\"dataframe\">\n",
       "  <thead>\n",
       "    <tr style=\"text-align: right;\">\n",
       "      <th></th>\n",
       "      <th>ID</th>\n",
       "      <th>group</th>\n",
       "      <th>histology</th>\n",
       "      <th>cluster</th>\n",
       "      <th>detected</th>\n",
       "      <th>preprocessing</th>\n",
       "      <th>feature</th>\n",
       "      <th>feature_mean</th>\n",
       "      <th>feature_err</th>\n",
       "      <th>saliency</th>\n",
       "    </tr>\n",
       "  </thead>\n",
       "  <tbody>\n",
       "    <tr>\n",
       "      <th>0</th>\n",
       "      <td>MELD2_H7_3T_FCD_001</td>\n",
       "      <td>True</td>\n",
       "      <td>FCD_1</td>\n",
       "      <td>1.0</td>\n",
       "      <td>False</td>\n",
       "      <td>.combat</td>\n",
       "      <td>.on_lh.curv.sm3.mgh</td>\n",
       "      <td>-0.070970</td>\n",
       "      <td>0.950406</td>\n",
       "      <td>0.003746</td>\n",
       "    </tr>\n",
       "    <tr>\n",
       "      <th>0</th>\n",
       "      <td>MELD2_H7_3T_FCD_001</td>\n",
       "      <td>True</td>\n",
       "      <td>FCD_1</td>\n",
       "      <td>1.0</td>\n",
       "      <td>False</td>\n",
       "      <td>.combat</td>\n",
       "      <td>.on_lh.pial.K_filtered.sm20.mgh</td>\n",
       "      <td>-0.051624</td>\n",
       "      <td>0.758794</td>\n",
       "      <td>0.101798</td>\n",
       "    </tr>\n",
       "    <tr>\n",
       "      <th>0</th>\n",
       "      <td>MELD2_H7_3T_FCD_001</td>\n",
       "      <td>True</td>\n",
       "      <td>FCD_1</td>\n",
       "      <td>1.0</td>\n",
       "      <td>False</td>\n",
       "      <td>.combat</td>\n",
       "      <td>.on_lh.sulc.sm3.mgh</td>\n",
       "      <td>-0.325152</td>\n",
       "      <td>1.104024</td>\n",
       "      <td>0.396853</td>\n",
       "    </tr>\n",
       "    <tr>\n",
       "      <th>0</th>\n",
       "      <td>MELD2_H7_3T_FCD_001</td>\n",
       "      <td>True</td>\n",
       "      <td>FCD_1</td>\n",
       "      <td>1.0</td>\n",
       "      <td>False</td>\n",
       "      <td>.combat</td>\n",
       "      <td>.on_lh.thickness_regression.sm3.mgh</td>\n",
       "      <td>-0.471587</td>\n",
       "      <td>1.074088</td>\n",
       "      <td>-0.102316</td>\n",
       "    </tr>\n",
       "    <tr>\n",
       "      <th>0</th>\n",
       "      <td>MELD2_H7_3T_FCD_001</td>\n",
       "      <td>True</td>\n",
       "      <td>FCD_1</td>\n",
       "      <td>1.0</td>\n",
       "      <td>False</td>\n",
       "      <td>.combat</td>\n",
       "      <td>.on_lh.w-g.pct.sm3.mgh</td>\n",
       "      <td>1.094946</td>\n",
       "      <td>0.908944</td>\n",
       "      <td>0.255694</td>\n",
       "    </tr>\n",
       "  </tbody>\n",
       "</table>\n",
       "</div>"
      ],
      "text/plain": [
       "                    ID  group histology cluster  detected preprocessing  \\\n",
       "0  MELD2_H7_3T_FCD_001   True     FCD_1     1.0     False       .combat   \n",
       "0  MELD2_H7_3T_FCD_001   True     FCD_1     1.0     False       .combat   \n",
       "0  MELD2_H7_3T_FCD_001   True     FCD_1     1.0     False       .combat   \n",
       "0  MELD2_H7_3T_FCD_001   True     FCD_1     1.0     False       .combat   \n",
       "0  MELD2_H7_3T_FCD_001   True     FCD_1     1.0     False       .combat   \n",
       "\n",
       "                               feature  feature_mean  feature_err  saliency  \n",
       "0                  .on_lh.curv.sm3.mgh     -0.070970     0.950406  0.003746  \n",
       "0      .on_lh.pial.K_filtered.sm20.mgh     -0.051624     0.758794  0.101798  \n",
       "0                  .on_lh.sulc.sm3.mgh     -0.325152     1.104024  0.396853  \n",
       "0  .on_lh.thickness_regression.sm3.mgh     -0.471587     1.074088 -0.102316  \n",
       "0               .on_lh.w-g.pct.sm3.mgh      1.094946     0.908944  0.255694  "
      ]
     },
     "execution_count": 7,
     "metadata": {},
     "output_type": "execute_result"
    }
   ],
   "source": [
    "import pandas as pd \n",
    "\n",
    "eva.dropout_suffix = \"\"\n",
    "NVERT=293804\n",
    "\n",
    "df_salient = pd.DataFrame()\n",
    "values={}\n",
    "for subject_id in subjects:\n",
    "    subject = MeldSubject(subject_id, cohort=cohort)\n",
    "    values['ID'] = subject_id\n",
    "    values['group'] = True if '_FCD_' in subject_id else False\n",
    "    values['histology'] = subject.get_demographic_features([\"Histology\"])[0]\n",
    "    # initialise parameter for plot\n",
    "    if subject.has_flair:\n",
    "        base_features = base_feature_sets\n",
    "    else:\n",
    "        base_features = base_feature_sets[2:]\n",
    "    # load predictions and data subject\n",
    "    data_dictionary = eva.load_data_from_file(subject_id, keys=['result','cluster_thresholded','input_features'], \n",
    "                                          split_hemis=True, )\n",
    "    # print(data_dictionary)\n",
    "    features_vals = data_dictionary['input_features']\n",
    "    predictions = data_dictionary['cluster_thresholded']\n",
    "    \n",
    "    labels_hemis={}\n",
    "    dists={}\n",
    "    list_clust={}\n",
    "    saliencies={}\n",
    "     # Loop over hemi\n",
    "    for i, hemi in enumerate([\"left\", \"right\"]):\n",
    "        list_clust[hemi] = set(predictions[hemi])\n",
    "        list_clust[hemi].remove(0.0)\n",
    "        #get borderzone\n",
    "        hemi_bis = 'lh' if hemi=='left' else 'rh'\n",
    "        dists[hemi], labels_hemis[hemi] = subject.load_feature_lesion_data(\n",
    "                    features=['.on_lh.boundary_zone.mgh'], hemi=hemi_bis, features_to_ignore=[]\n",
    "                )\n",
    "        if np.sum(dists[hemi])==0:\n",
    "            dists[hemi] +=200\n",
    "        borderzones = np.zeros(len(dists[hemi]))\n",
    "        borderzones[cohort.cortex_mask] = dists[hemi].ravel()[cohort.cortex_mask]<20\n",
    "        # get saliencies\n",
    "        keys = [f'saliencies_{cl}' for cl in list_clust[hemi]] + [f'mask_salient_{cl}' for cl in list_clust[hemi]]\n",
    "        saliencies.update(eva.load_data_from_file(subject_id, \n",
    "                                            keys=keys, \n",
    "                                            split_hemis=True))\n",
    "        # initiate params for saliencies\n",
    "        prefixes = [\".combat\", \".inter_z.intra_z.combat\", \".inter_z.asym.intra_z.combat\"]\n",
    "        labels = [\"Harmonised\", \"Normalised\", \"Asymmetry\"]\n",
    "        # loop over clusters\n",
    "        for cluster in list_clust[hemi]:\n",
    "            values['cluster'] = cluster\n",
    "            # get saliency cluster\n",
    "            saliencies_cl = saliencies[f'saliencies_{cluster}'][hemi]\n",
    "            saliencies_cl = saliencies_cl * (NVERT/2)\n",
    "            # get salient vertices\n",
    "            mask_salient = saliencies[f'mask_salient_{cluster}'][hemi].astype(bool)\n",
    "            if ((predictions[hemi]==cluster)&(borderzones.astype(bool))).any():\n",
    "                values['detected'] = True\n",
    "            else:\n",
    "                values['detected'] = False\n",
    "            # for each feature\n",
    "            for pr, prefix in enumerate(prefixes):\n",
    "                values['preprocessing'] = prefix\n",
    "                for b, bf in enumerate(base_features):\n",
    "                    values['feature'] = bf\n",
    "                    values[f'feature_mean'] = np.mean(\n",
    "                        np.array(features_vals[hemi][mask_salient, features.index(prefix + bf)])\n",
    "                    )\n",
    "                    values[f'feature_err'] = np.std(\n",
    "                        np.array(features_vals[hemi][mask_salient, features.index(prefix + bf)])\n",
    "                    )\n",
    "                    values[f'saliency'] = np.mean(\n",
    "                        saliencies_cl[mask_salient ,features.index(prefix + bf)]\n",
    "                        )\n",
    "                    df_salient = pd.concat([df_salient, pd.DataFrame([values])])\n",
    "        # for lesion mask\n",
    "        if labels_hemis[hemi].sum()!=0:\n",
    "            mask = labels_hemis[hemi].astype(bool)\n",
    "            values['cluster'] = 'lesion_mask'\n",
    "            if ((predictions[hemi]==cluster)&(borderzones.astype(bool))).any():\n",
    "                values['detected'] = True\n",
    "            else:\n",
    "                values['detected'] = False\n",
    "            # for each feature\n",
    "            for pr, prefix in enumerate(prefixes):\n",
    "                values['preprocessing'] = prefix\n",
    "                for b, bf in enumerate(base_features):\n",
    "                    values['feature'] = bf\n",
    "                    values[f'feature_mean'] = np.mean(\n",
    "                        np.array(features_vals[hemi][mask, features.index(prefix + bf)])\n",
    "                    )\n",
    "                    values[f'feature_err'] = np.std(\n",
    "                        np.array(features_vals[hemi][mask, features.index(prefix + bf)])\n",
    "                    )\n",
    "                    values[f'saliency'] = np.nan\n",
    "                    df_salient = pd.concat([df_salient, pd.DataFrame([values])])\n",
    "                \n",
    "df_salient.head()"
   ]
  },
  {
   "cell_type": "code",
   "execution_count": 8,
   "metadata": {},
   "outputs": [],
   "source": [
    "# save and load df\n",
    "\n",
    "file = '/home/co-ripa1/rds/hpc-work/tmp/df_salient_240806.csv'\n",
    "df_salient.to_csv(file)\n",
    "\n",
    "# df_salient = pd.read_csv(file)\n",
    "\n"
   ]
  },
  {
   "cell_type": "code",
   "execution_count": 13,
   "metadata": {},
   "outputs": [
    {
     "data": {
      "image/png": "[encoded data removed]",
      "text/plain": [
       "<Figure size 576x432 with 2 Axes>"
      ]
     },
     "metadata": {
      "needs_background": "light"
     },
     "output_type": "display_data"
    },
    {
     "data": {
      "image/png": "[encoded data removed]",
      "text/plain": [
       "<Figure size 576x432 with 2 Axes>"
      ]
     },
     "metadata": {
      "needs_background": "light"
     },
     "output_type": "display_data"
    },
    {
     "data": {
      "image/png": "[encoded data removed]",
      "text/plain": [
       "<Figure size 576x432 with 2 Axes>"
      ]
     },
     "metadata": {
      "needs_background": "light"
     },
     "output_type": "display_data"
    },
    {
     "data": {
      "image/png": "[encoded data removed]",
      "text/plain": [
       "<Figure size 576x432 with 2 Axes>"
      ]
     },
     "metadata": {
      "needs_background": "light"
     },
     "output_type": "display_data"
    },
    {
     "data": {
      "image/png": "[encoded data removed]",
      "text/plain": [
       "<Figure size 576x432 with 2 Axes>"
      ]
     },
     "metadata": {
      "needs_background": "light"
     },
     "output_type": "display_data"
    },
    {
     "data": {
      "image/png": "[encoded data removed]",
      "text/plain": [
       "<Figure size 576x432 with 2 Axes>"
      ]
     },
     "metadata": {
      "needs_background": "light"
     },
     "output_type": "display_data"
    }
   ],
   "source": [
    "\n",
    "preprocessing = \".inter_z.asym.intra_z.combat\"\n",
    "\n",
    "for analysis in ['TP','FP','Lesion Mask not detected','FCD 1&3', 'FCD 2A', 'FCD 2B']:\n",
    "    sub_df = df_salient[df_salient['preprocessing']==preprocessing]\n",
    "    if analysis=='TP':\n",
    "        sub_df = sub_df[(sub_df['detected']==True)].copy()\n",
    "    elif analysis=='FP':\n",
    "        sub_df = sub_df[(sub_df['detected']==False)].copy()\n",
    "    elif analysis=='Lesion Mask not detected':\n",
    "        sub_df = sub_df[(sub_df['cluster']=='lesion_mask')].copy()\n",
    "    elif analysis=='FCD 1&3':\n",
    "        sub_df = sub_df[(sub_df['histology']=='FCD_1')|(sub_df['histology']=='FCD_3')].copy()\n",
    "    elif analysis=='FCD 2A':\n",
    "        sub_df = sub_df[(sub_df['histology']=='FCD_2A')].copy()\n",
    "    elif analysis=='FCD 2B':\n",
    "        sub_df = sub_df[(sub_df['histology']=='FCD_2B')].copy()\n",
    "    \n",
    "    else:\n",
    "        pass\n",
    "    \n",
    "    cmap = sns.color_palette(\"flare\", as_cmap=True)\n",
    "\n",
    "\n",
    "    f, ax = plt.subplots(figsize=(8, 6))\n",
    "    ax=pt.half_violinplot( x = \"feature_mean\"  , y = \"feature\", order=base_feature_sets, data = sub_df, bw = .2, cut = 0.,\n",
    "                        scale = \"area\", color = 'grey', width = .6, inner = None)\n",
    "    sub_df['y']=[base_feature_sets.index(x)-0.1 for x in sub_df['feature']]\n",
    "    sub_df['y_jitter']=sub_df['y']+np.random.uniform(low=0.1, high=0.5, size=(len(sub_df['y'])))\n",
    "    if 'Lesion Mask' in analysis:\n",
    "        scatter=sns.scatterplot(x =\"feature_mean\"  , y = \"y_jitter\", data = sub_df, color = 'grey')\n",
    "    else: \n",
    "        scatter=sns.scatterplot(x =\"feature_mean\"  , y = \"y_jitter\", data = sub_df, hue=\"saliency\",  hue_norm=(0,1),\n",
    "                    palette=cmap)\n",
    "        scatter.legend_.remove()\n",
    "    ax.plot([0,0], [-0.5,len(base_feature_sets)-1], '--', color='grey', )\n",
    "\n",
    "    \n",
    "\n",
    "    sm = plt.cm.ScalarMappable(cmap=cmap)\n",
    "    sm.set_array([])  \n",
    "    cbar = plt.colorbar(sm, ax=ax, aspect=30, pad=0.01)\n",
    "    cbar.set_label('Saliency', fontsize=15)\n",
    "\n",
    "    new_y_ticks = [feature_names_sets[x] for x in base_feature_sets ] \n",
    "    ax.set_yticklabels(new_y_ticks, fontsize=13)\n",
    "\n",
    "    ax.set_xlabel('mean z-score asymmetry', fontsize=15)\n",
    "    ax.set_ylabel('',)\n",
    "    if 'FCD' in analysis:\n",
    "        ax.set_xlim([-6,6])\n",
    "    else:\n",
    "        ax.set_xlim([-10,10])\n",
    "    plt.title(analysis)\n",
    "    plt.show()\n"
   ]
  }
 ],
 "metadata": {
  "kernelspec": {
   "display_name": "Python 3.9.10 ('meld_graph')",
   "language": "python",
   "name": "python3"
  },
  "language_info": {
   "codemirror_mode": {
    "name": "ipython",
    "version": 3
   },
   "file_extension": ".py",
   "mimetype": "text/x-python",
   "name": "python",
   "nbconvert_exporter": "python",
   "pygments_lexer": "ipython3",
   "version": "3.9.10"
  },
  "vscode": {
   "interpreter": {
    "hash": "c0176ae289e59992559f0c449061dac3c0e6a1074598f8b14680b865216cf195"
   }
  }
 },
 "nbformat": 4,
 "nbformat_minor": 2
}
