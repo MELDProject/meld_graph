{
 "cells": [
  {
   "cell_type": "markdown",
   "id": "9bd45902",
   "metadata": {},
   "source": [
    "# Compare and plot distance map predictions of ensemble model on example subjects\n",
    "\n",
    "- Compare plotting averaged distance maps with plotting ensembled distance maps\n",
    "- what is the effect of averaging if individual model's predictions disagree?"
   ]
  },
  {
   "cell_type": "code",
   "execution_count": 1,
   "id": "9bb7f334",
   "metadata": {},
   "outputs": [
    {
     "name": "stdout",
     "output_type": "stream",
     "text": [
      "Setting MELD_DATA_PATH to /home/co-spit1/meld_data\n",
      "Setting BASE_PATH to /home/co-spit1/meld_data\n",
      "Setting EXPERIMENT_PATH to /home/co-spit1/meld_experiments/co-spit1\n",
      "Setting FS_SUBJECTS_PATH to /home/co-spit1/meld_data/output/fs_outputs\n",
      "Setting EXPERIMENT_PATH to /rds/project/kw350/rds-kw350-meld/experiments_graph/co-spit1\n"
     ]
    }
   ],
   "source": [
    "import meld_graph\n",
    "import meld_graph.models\n",
    "import meld_graph.experiment\n",
    "import meld_graph.dataset\n",
    "import meld_graph.data_preprocessing\n",
    "import meld_graph.evaluation\n",
    "\n",
    "import importlib\n",
    "importlib.reload(meld_graph)\n",
    "importlib.reload(meld_graph.models)\n",
    "importlib.reload(meld_graph.dataset)\n",
    "importlib.reload(meld_graph.experiment)\n",
    "importlib.reload(meld_graph.data_preprocessing)\n",
    "importlib.reload(meld_graph.evaluation)\n",
    "\n",
    "import logging\n",
    "import os\n",
    "import json\n",
    "\n",
    "from meld_graph.dataset import GraphDataset, Oversampler\n",
    "from meld_classifier.meld_cohort import MeldCohort, MeldSubject\n",
    "from meld_graph.training import Metrics\n",
    "import numpy as np\n",
    "from meld_graph.paths import EXPERIMENT_PATH\n",
    "\n",
    "from meld_graph.evaluation import Evaluator"
   ]
  },
  {
   "cell_type": "code",
   "execution_count": 2,
   "id": "33614c60",
   "metadata": {},
   "outputs": [],
   "source": [
    "import h5py\n",
    "import matplotlib_surface_plotting as msp\n",
    "import matplotlib.pyplot as plt\n",
    "from matplotlib.gridspec import GridSpec\n",
    "import nibabel as nb\n",
    "from meld_classifier.paths import BASE_PATH\n",
    "\n",
    "def load_prediction(subject,hdf5,dset='prediction'):\n",
    "    results={}\n",
    "    with h5py.File(hdf5, \"r\") as f:\n",
    "        for hemi in ['lh','rh']:\n",
    "            results[hemi] = f[subject][hemi][dset][:]\n",
    "    return results\n",
    "\n",
    "def create_surface_plots(coords,faces,overlay,flat_map=True, limits=None):\n",
    "    \"\"\"plot and reload surface images\"\"\"\n",
    "    from meld_classifier.meld_plotting import trim\n",
    "    import matplotlib_surface_plotting.matplotlib_surface_plotting as msp\n",
    "    from PIL import Image\n",
    "    \n",
    "    if limits==None:\n",
    "        vmin=np.min(overlay)\n",
    "        vmax=np.max(overlay)\n",
    "    else:\n",
    "        vmin=limits[0]\n",
    "        vmax=limits[1]\n",
    "    msp.plot_surf(coords,faces, \n",
    "                overlay,\n",
    "                flat_map=flat_map,\n",
    "                rotate=[90, 270],\n",
    "                filename='tmp.png',\n",
    "                vmin=vmin,\n",
    "                vmax=vmax,\n",
    "             )\n",
    "    im = Image.open('tmp.png')\n",
    "    im = trim(im)\n",
    "    im = im.convert(\"RGBA\")\n",
    "    im1 = np.array(im)\n",
    "    return im1\n",
    "\n",
    "def plot_prediction(res_dict, filename):\n",
    "    import nibabel as nb\n",
    "    from meld_classifier.paths import BASE_PATH\n",
    "\n",
    "    flat = nb.load(\n",
    "        os.path.join(\n",
    "            BASE_PATH, \"fsaverage_sym\", \"surf\", \"lh.full.patch.flat.gii\"\n",
    "        )\n",
    "    )\n",
    "    coords, faces = flat.darrays[0].data, flat.darrays[1].data\n",
    "\n",
    "     # round up to get the square grid size\n",
    "    fig= plt.figure(figsize=(11,8), constrained_layout=True)\n",
    "    gs1 = GridSpec(3, 2, width_ratios=[1, 1],  wspace=0.1, hspace=0.1)\n",
    "    if not np.isnan(res_dict['pred_distance_map']['lh']).any():\n",
    "        data_to_plot= [res_dict['prediction']['lh'], res_dict['prediction']['rh'], \n",
    "                        res_dict['pred_distance_map']['lh'], res_dict['pred_distance_map']['rh'],\n",
    "                    res_dict['labels']['lh'], res_dict['labels']['rh']]\n",
    "        titles=['predictions left hemi', 'predictions right hemi', \n",
    "                'distance map left hemi', 'distance map right hemi', \n",
    "            'labels left hemi', 'labels right hemi']\n",
    "    else:\n",
    "        data_to_plot= [res_dict['prediction']['lh'], res_dict['prediction']['rh'], \n",
    "                    res_dict['labels']['lh'], res_dict['labels']['rh']]\n",
    "        titles=['predictions left hemi', 'predictions right hemi', \n",
    "            'labels left hemi', 'labels right hemi']\n",
    "    for i,overlay in enumerate(data_to_plot):\n",
    "        if len(overlay) < len(cohort.cortex_mask):\n",
    "            # medial wall\n",
    "            overlay_tmp=np.zeros(len(cohort.cortex_mask))\n",
    "            overlay_tmp[cohort.cortex_mask]= overlay\n",
    "            overlay=overlay_tmp\n",
    "        ax = fig.add_subplot(gs1[i])\n",
    "        if 'distance' in titles[i]:\n",
    "            im = create_surface_plots(coords,faces,overlay,flat_map=True)\n",
    "        else:\n",
    "            im = create_surface_plots(coords,faces,overlay,flat_map=True, limits=[0.2,0.8])\n",
    "        ax.imshow(im)\n",
    "        ax.axis('off')\n",
    "        ax.set_title(titles[i], loc='left', fontsize=20)  \n",
    "    fig.savefig(filename, bbox_inches='tight')\n",
    "    plt.close(\"all\")"
   ]
  },
  {
   "cell_type": "code",
   "execution_count": 3,
   "id": "4fed128a",
   "metadata": {
    "scrolled": true
   },
   "outputs": [],
   "source": [
    "# get dirs where evaluation is saved (TODO exp dirs!)\n",
    "\n",
    "model_base_paths = {\n",
    "   'dcd': '/rds/project/kw350/rds-kw350-meld/experiments_graph/kw350/22-12-15_trainval/dcd',\n",
    "   'dc': '/rds/project/kw350/rds-kw350-meld/experiments_graph/kw350/22-12-15_trainval/dc',\n",
    "}\n",
    "folds = np.arange(0,9)\n",
    "\n",
    "save_dirs = {\n",
    "    model_name: [os.path.join(path+f'_{fold}', 'results') for fold in folds] for model_name, path in model_base_paths.items()\n",
    "}\n",
    "\n",
    "\n",
    "img_save_dirs = {\n",
    "    model_name: f'/rds/project/kw350/rds-kw350-meld/experiments_graph/co-spit1/22-12-15_trainval/{model_name}/results/images'\n",
    "    for model_name in save_dirs.keys()\n",
    "}\n",
    "img_save_dirs['classifier'] = f'/rds/project/kw350/rds-kw350-meld/experiments_graph/co-spit1/22-12-15_trainval/classifier/results/images'\n",
    "for d in img_save_dirs.values():\n",
    "    os.makedirs(d, exist_ok=True)"
   ]
  },
  {
   "cell_type": "code",
   "execution_count": 4,
   "id": "73e3c564",
   "metadata": {
    "scrolled": true
   },
   "outputs": [
    {
     "name": "stdout",
     "output_type": "stream",
     "text": [
      "['MELD2_H7_3T_FCD_003', 'MELD2_H7_3T_FCD_006', 'MELD2_H7_3T_FCD_007', 'MELD2_H7_3T_FCD_008', 'MELD2_H7_3T_FCD_010', 'MELD2_H7_3T_FCD_012', 'MELD2_H7_3T_FCD_013', 'MELD_H10_3T_C_0002', 'MELD_H10_3T_C_0003', 'MELD_H10_3T_C_0004', 'MELD_H10_3T_C_0007', 'MELD_H10_3T_C_0008', 'MELD_H10_3T_C_0010', 'MELD_H10_3T_C_0016', 'MELD_H10_3T_C_0020', 'MELD_H10_3T_C_0023', 'MELD_H10_3T_C_0024', 'MELD_H10_3T_C_0026', 'MELD_H10_3T_C_0027', 'MELD_H10_3T_C_0030', 'MELD_H10_3T_C_0032', 'MELD_H10_3T_FCD_0001', 'MELD_H10_3T_FCD_0003', 'MELD_H10_3T_FCD_0004', 'MELD_H10_3T_FCD_0005', 'MELD_H10_3T_FCD_0006', 'MELD_H10_3T_FCD_0007', 'MELD_H10_3T_FCD_0010', 'MELD_H10_3T_FCD_0011', 'MELD_H10_3T_FCD_0015', 'MELD_H11_3T_FCD_0004', 'MELD_H11_3T_FCD_0005', 'MELD_H11_3T_FCD_0013', 'MELD_H11_3T_FCD_0016', 'MELD_H11_3T_FCD_0017', 'MELD_H11_3T_FCD_0021', 'MELD_H11_3T_FCD_0022', 'MELD_H11_3T_FCD_0023', 'MELD_H11_3T_FCD_0024', 'MELD_H11_3T_FCD_0026', 'MELD_H11_3T_FCD_0029', 'MELD_H11_3T_FCD_0032', 'MELD_H11_3T_FCD_0033', 'MELD_H11_3T_FCD_0034', 'MELD_H11_3T_FCD_0035', 'MELD_H11_3T_FCD_0036', 'MELD_H11_3T_FCD_0037', 'MELD_H11_3T_FCD_0038', 'MELD_H11_3T_FCD_0039', 'MELD_H11_3T_FCD_0043', 'MELD_H12_3T_C_0001', 'MELD_H12_3T_C_0003', 'MELD_H12_3T_C_0006', 'MELD_H12_3T_C_0013', 'MELD_H12_3T_C_0017', 'MELD_H12_3T_C_0021', 'MELD_H12_3T_C_0027', 'MELD_H12_3T_C_0030', 'MELD_H12_3T_C_0033', 'MELD_H12_3T_C_0039', 'MELD_H12_3T_C_0043', 'MELD_H12_3T_C_0046', 'MELD_H12_3T_C_0047', 'MELD_H12_3T_C_0048', 'MELD_H12_3T_C_0049', 'MELD_H12_3T_FCD_0001', 'MELD_H12_3T_FCD_0002', 'MELD_H12_3T_FCD_0004', 'MELD_H12_3T_FCD_0005', 'MELD_H12_3T_FCD_0010', 'MELD_H12_3T_FCD_0019', 'MELD_H12_3T_FCD_0027', 'MELD_H12_3T_FCD_0029', 'MELD_H14_3T_C_0004', 'MELD_H14_3T_C_0006', 'MELD_H14_3T_C_0007', 'MELD_H14_3T_C_0008', 'MELD_H14_3T_C_0009', 'MELD_H14_3T_C_0011', 'MELD_H14_3T_C_0013', 'MELD_H14_3T_C_0018', 'MELD_H14_3T_C_0022', 'MELD_H14_3T_C_0023', 'MELD_H14_3T_FCD_0001', 'MELD_H14_3T_FCD_0002', 'MELD_H14_3T_FCD_0003', 'MELD_H14_3T_FCD_0004', 'MELD_H14_3T_FCD_0005', 'MELD_H14_3T_FCD_0006', 'MELD_H14_3T_FCD_0007', 'MELD_H14_3T_FCD_0008', 'MELD_H14_3T_FCD_0010', 'MELD_H14_3T_FCD_0012', 'MELD_H14_3T_FCD_0014', 'MELD_H14_3T_FCD_0015', 'MELD_H14_3T_FCD_0018', 'MELD_H14_3T_FCD_0019', 'MELD_H14_3T_FCD_0020', 'MELD_H14_3T_FCD_0027', 'MELD_H14_3T_FCD_0028', 'MELD_H14_3T_FCD_0032', 'MELD_H14_3T_FCD_0033', 'MELD_H14_3T_FCD_0036', 'MELD_H14_3T_FCD_0038', 'MELD_H14_3T_FCD_0041', 'MELD_H15_3T_C_0002', 'MELD_H15_3T_C_0003', 'MELD_H15_3T_C_0004', 'MELD_H15_3T_C_0005', 'MELD_H15_3T_C_0008', 'MELD_H15_3T_C_0009', 'MELD_H15_3T_C_0010', 'MELD_H15_3T_C_0011', 'MELD_H15_3T_C_0014', 'MELD_H15_3T_C_0016', 'MELD_H15_3T_C_0017', 'MELD_H15_3T_C_0020', 'MELD_H15_3T_C_0021', 'MELD_H15_3T_C_0022', 'MELD_H15_3T_C_0023', 'MELD_H15_3T_C_0024', 'MELD_H15_3T_C_0026', 'MELD_H15_3T_C_0028', 'MELD_H15_3T_C_0029', 'MELD_H15_3T_C_0034', 'MELD_H15_3T_C_0035', 'MELD_H15_3T_C_0036', 'MELD_H15_3T_C_0037', 'MELD_H15_3T_FCD_0001', 'MELD_H15_3T_FCD_0002', 'MELD_H15_3T_FCD_0005', 'MELD_H15_3T_FCD_0006', 'MELD_H15_3T_FCD_0009', 'MELD_H15_3T_FCD_0011', 'MELD_H16_3T_FCD_002', 'MELD_H16_3T_FCD_009', 'MELD_H16_3T_FCD_011', 'MELD_H16_3T_FCD_012', 'MELD_H16_3T_FCD_014', 'MELD_H16_3T_FCD_018', 'MELD_H16_3T_FCD_020', 'MELD_H16_3T_FCD_021', 'MELD_H16_3T_FCD_024', 'MELD_H16_3T_FCD_028', 'MELD_H16_3T_FCD_033', 'MELD_H16_3T_FCD_034', 'MELD_H16_3T_FCD_039', 'MELD_H16_3T_FCD_042', 'MELD_H16_3T_FCD_043', 'MELD_H17_15T_FCD_0009', 'MELD_H17_15T_FCD_0023', 'MELD_H17_15T_FCD_0106', 'MELD_H17_15T_FCD_0119', 'MELD_H17_15T_FCD_0121', 'MELD_H17_15T_FCD_0137', 'MELD_H17_3T_FCD_0016', 'MELD_H17_3T_FCD_0020', 'MELD_H17_3T_FCD_0024', 'MELD_H17_3T_FCD_0025', 'MELD_H17_3T_FCD_0027', 'MELD_H17_3T_FCD_0030', 'MELD_H17_3T_FCD_0031', 'MELD_H17_3T_FCD_0032', 'MELD_H17_3T_FCD_0033', 'MELD_H17_3T_FCD_0035', 'MELD_H17_3T_FCD_0037', 'MELD_H17_3T_FCD_0040', 'MELD_H17_3T_FCD_0041', 'MELD_H17_3T_FCD_0047', 'MELD_H17_3T_FCD_0049', 'MELD_H17_3T_FCD_0050', 'MELD_H17_3T_FCD_0055', 'MELD_H17_3T_FCD_0059', 'MELD_H17_3T_FCD_0060', 'MELD_H17_3T_FCD_0063', 'MELD_H17_3T_FCD_0064', 'MELD_H17_3T_FCD_0066', 'MELD_H17_3T_FCD_0069', 'MELD_H17_3T_FCD_0073', 'MELD_H17_3T_FCD_0074', 'MELD_H17_3T_FCD_0075', 'MELD_H17_3T_FCD_0077', 'MELD_H17_3T_FCD_0081', 'MELD_H17_3T_FCD_0082', 'MELD_H17_3T_FCD_0088', 'MELD_H17_3T_FCD_0092', 'MELD_H17_3T_FCD_0095', 'MELD_H17_3T_FCD_0096', 'MELD_H17_3T_FCD_0099', 'MELD_H17_3T_FCD_0100', 'MELD_H17_3T_FCD_0103', 'MELD_H17_3T_FCD_0107', 'MELD_H17_3T_FCD_0109', 'MELD_H17_3T_FCD_0118', 'MELD_H17_3T_FCD_0122', 'MELD_H17_3T_FCD_0123', 'MELD_H17_3T_FCD_0124', 'MELD_H17_3T_FCD_0129', 'MELD_H17_3T_FCD_0131', 'MELD_H17_3T_FCD_0136', 'MELD_H17_3T_FCD_0141', 'MELD_H17_3T_FCD_0142', 'MELD_H18_3T_FCD_0003', 'MELD_H18_3T_FCD_0004', 'MELD_H18_3T_FCD_0007', 'MELD_H18_3T_FCD_0010', 'MELD_H18_3T_FCD_0100', 'MELD_H18_3T_FCD_0111', 'MELD_H18_3T_FCD_0122', 'MELD_H19_3T_C_007', 'MELD_H19_3T_C_009', 'MELD_H19_3T_C_010', 'MELD_H19_3T_C_011', 'MELD_H19_3T_C_012', 'MELD_H19_3T_C_013', 'MELD_H19_3T_C_015', 'MELD_H19_3T_C_016', 'MELD_H19_3T_C_019', 'MELD_H19_3T_C_021', 'MELD_H19_3T_C_022', 'MELD_H19_3T_C_023', 'MELD_H19_3T_C_027', 'MELD_H19_3T_C_028', 'MELD_H19_3T_C_030', 'MELD_H19_3T_FCD_001', 'MELD_H19_3T_FCD_002', 'MELD_H19_3T_FCD_005', 'MELD_H19_3T_FCD_006', 'MELD_H21_15T_FCD_0021', 'MELD_H21_15T_FCD_0039', 'MELD_H21_15T_FCD_0041', 'MELD_H21_3T_FCD_0001', 'MELD_H21_3T_FCD_0002', 'MELD_H21_3T_FCD_0003', 'MELD_H21_3T_FCD_0004', 'MELD_H21_3T_FCD_0005', 'MELD_H21_3T_FCD_0010', 'MELD_H21_3T_FCD_0011', 'MELD_H21_3T_FCD_0012', 'MELD_H21_3T_FCD_0014', 'MELD_H21_3T_FCD_0015', 'MELD_H21_3T_FCD_0019', 'MELD_H21_3T_FCD_0020', 'MELD_H21_3T_FCD_0022', 'MELD_H21_3T_FCD_0023', 'MELD_H21_3T_FCD_0025', 'MELD_H21_3T_FCD_0026', 'MELD_H21_3T_FCD_0027', 'MELD_H21_3T_FCD_0028', 'MELD_H21_3T_FCD_0029', 'MELD_H21_3T_FCD_0032', 'MELD_H21_3T_FCD_0045', 'MELD_H23_15T_FCD_0006', 'MELD_H23_15T_FCD_0007', 'MELD_H23_15T_FCD_0008', 'MELD_H23_15T_FCD_0009', 'MELD_H23_15T_FCD_0010', 'MELD_H23_15T_FCD_0016', 'MELD_H23_15T_FCD_0018', 'MELD_H23_15T_FCD_0028', 'MELD_H23_15T_FCD_0029', 'MELD_H23_15T_FCD_0034', 'MELD_H23_15T_FCD_0037', 'MELD_H24_3T_FCD_0002', 'MELD_H24_3T_FCD_0004', 'MELD_H24_3T_FCD_0009', 'MELD_H24_3T_FCD_0010', 'MELD_H24_3T_FCD_0014', 'MELD_H24_3T_FCD_0016', 'MELD_H24_3T_FCD_0017', 'MELD_H24_3T_FCD_0018', 'MELD_H24_3T_FCD_0019', 'MELD_H24_3T_FCD_0020', 'MELD_H24_3T_FCD_0021', 'MELD_H24_3T_FCD_0022', 'MELD_H24_3T_FCD_0023', 'MELD_H24_3T_FCD_0024', 'MELD_H24_3T_FCD_0027', 'MELD_H24_3T_FCD_0028', 'MELD_H24_3T_FCD_0031', 'MELD_H24_3T_FCD_0032', 'MELD_H24_3T_FCD_0033', 'MELD_H24_3T_FCD_0034', 'MELD_H24_3T_FCD_0035', 'MELD_H24_3T_FCD_0039', 'MELD_H26_15T_FCD_0006', 'MELD_H26_3T_FCD_0003', 'MELD_H26_3T_FCD_0011', 'MELD_H2_15T_C_0002', 'MELD_H2_15T_C_0003', 'MELD_H2_15T_C_0004', 'MELD_H2_15T_C_0005', 'MELD_H2_15T_FCD_0002', 'MELD_H2_15T_FCD_0006', 'MELD_H2_15T_FCD_0011', 'MELD_H2_15T_FCD_0013', 'MELD_H2_15T_FCD_0017', 'MELD_H2_15T_FCD_0019', 'MELD_H2_15T_FCD_0021', 'MELD_H2_15T_FCD_0022', 'MELD_H2_15T_FCD_0024', 'MELD_H2_15T_FCD_0025', 'MELD_H2_15T_FCD_0026', 'MELD_H2_15T_FCD_0027', 'MELD_H2_3T_C_0002', 'MELD_H2_3T_C_0004', 'MELD_H2_3T_C_0006', 'MELD_H2_3T_C_0010', 'MELD_H2_3T_C_0011', 'MELD_H2_3T_C_0015', 'MELD_H2_3T_C_0018', 'MELD_H2_3T_C_0024', 'MELD_H2_3T_C_0028', 'MELD_H2_3T_FCD_0001', 'MELD_H2_3T_FCD_0002', 'MELD_H2_3T_FCD_0007', 'MELD_H2_3T_FCD_0009', 'MELD_H2_3T_FCD_0010', 'MELD_H2_3T_FCD_0011', 'MELD_H2_3T_FCD_0012', 'MELD_H2_3T_FCD_0013', 'MELD_H2_3T_FCD_0015', 'MELD_H3_3T_C_0001', 'MELD_H3_3T_C_0002', 'MELD_H3_3T_C_0005', 'MELD_H3_3T_C_0006', 'MELD_H3_3T_C_0008', 'MELD_H3_3T_C_0009', 'MELD_H3_3T_C_0014', 'MELD_H3_3T_C_0015', 'MELD_H3_3T_C_0018', 'MELD_H3_3T_C_0019', 'MELD_H3_3T_C_0020', 'MELD_H3_3T_C_0022', 'MELD_H3_3T_C_0024', 'MELD_H3_3T_C_0025', 'MELD_H3_3T_C_0026', 'MELD_H3_3T_C_0027', 'MELD_H3_3T_C_0029', 'MELD_H3_3T_C_0030', 'MELD_H3_3T_C_0031', 'MELD_H3_3T_C_0032', 'MELD_H3_3T_C_0033', 'MELD_H3_3T_C_0037', 'MELD_H3_3T_C_0041', 'MELD_H3_3T_C_0045', 'MELD_H3_3T_C_0046', 'MELD_H3_3T_C_0049', 'MELD_H3_3T_C_0050', 'MELD_H3_3T_C_0052', 'MELD_H3_3T_C_0053', 'MELD_H3_3T_C_0054', 'MELD_H3_3T_C_0055', 'MELD_H3_3T_C_0056', 'MELD_H3_3T_C_0057', 'MELD_H3_3T_C_0059', 'MELD_H3_3T_C_0060', 'MELD_H3_3T_C_0062', 'MELD_H3_3T_C_0063', 'MELD_H3_3T_C_0064', 'MELD_H3_3T_C_0069', 'MELD_H3_3T_C_0073', 'MELD_H3_3T_C_0074', 'MELD_H3_3T_C_0078', 'MELD_H3_3T_C_0083', 'MELD_H3_3T_C_0086', 'MELD_H3_3T_C_0087', 'MELD_H3_3T_C_0089', 'MELD_H3_3T_C_0090', 'MELD_H3_3T_C_0091', 'MELD_H3_3T_C_0092', 'MELD_H3_3T_C_0093', 'MELD_H3_3T_C_0094', 'MELD_H3_3T_C_0097', 'MELD_H3_3T_C_0098', 'MELD_H3_3T_C_0100', 'MELD_H3_3T_FCD_0001', 'MELD_H3_3T_FCD_0006', 'MELD_H3_3T_FCD_0011', 'MELD_H3_3T_FCD_0013', 'MELD_H3_3T_FCD_0017', 'MELD_H3_3T_FCD_0019', 'MELD_H3_3T_FCD_0021', 'MELD_H4_15T_C_0003', 'MELD_H4_15T_C_0004', 'MELD_H4_15T_C_0005', 'MELD_H4_15T_C_0006', 'MELD_H4_15T_C_0008', 'MELD_H4_15T_C_0009', 'MELD_H4_15T_C_0013', 'MELD_H4_15T_C_0015', 'MELD_H4_15T_C_0016', 'MELD_H4_15T_C_0017', 'MELD_H4_15T_C_0019', 'MELD_H4_15T_C_0023', 'MELD_H4_15T_C_0027', 'MELD_H4_15T_C_0028', 'MELD_H4_15T_FCD_0004', 'MELD_H4_15T_FCD_0005', 'MELD_H4_15T_FCD_0006', 'MELD_H4_15T_FCD_0007', 'MELD_H4_15T_FCD_0010', 'MELD_H4_15T_FCD_0011', 'MELD_H4_15T_FCD_0014', 'MELD_H4_15T_FCD_0022', 'MELD_H4_3T_C_0002', 'MELD_H4_3T_C_0003', 'MELD_H4_3T_C_0004', 'MELD_H4_3T_C_0005', 'MELD_H4_3T_C_0008', 'MELD_H4_3T_C_0011', 'MELD_H4_3T_C_0014', 'MELD_H4_3T_C_0017', 'MELD_H4_3T_C_0018', 'MELD_H4_3T_C_0019', 'MELD_H4_3T_FCD_0003', 'MELD_H4_3T_FCD_0004', 'MELD_H4_3T_FCD_0006', 'MELD_H4_3T_FCD_0008', 'MELD_H4_3T_FCD_0011', 'MELD_H4_3T_FCD_0013', 'MELD_H4_3T_FCD_0014', 'MELD_H4_3T_FCD_0021', 'MELD_H4_3T_FCD_0024', 'MELD_H4_3T_FCD_0032', 'MELD_H4_3T_FCD_0033', 'MELD_H4_3T_FCD_0041', 'MELD_H4_3T_FCD_0042', 'MELD_H5_3T_C_0003', 'MELD_H5_3T_C_0005', 'MELD_H5_3T_C_0008', 'MELD_H5_3T_C_0013', 'MELD_H5_3T_C_0020', 'MELD_H5_3T_C_0022', 'MELD_H5_3T_C_0023', 'MELD_H5_3T_C_0024', 'MELD_H5_3T_C_0026', 'MELD_H5_3T_C_0028', 'MELD_H5_3T_FCD_0002', 'MELD_H5_3T_FCD_0003', 'MELD_H5_3T_FCD_0008', 'MELD_H5_3T_FCD_0010', 'MELD_H5_3T_FCD_0016', 'MELD_H5_3T_FCD_0019', 'MELD_H5_3T_FCD_0023', 'MELD_H5_3T_FCD_0030', 'MELD_H5_3T_FCD_0031', 'MELD_H6_3T_FCD_0010', 'MELD_H6_3T_FCD_0012', 'MELD_H6_3T_FCD_0018', 'MELD_H6_3T_FCD_0020', 'MELD_H9_3T_C_0003', 'MELD_H9_3T_C_0004', 'MELD_H9_3T_FCD_0006', 'MELD_H9_3T_FCD_0007', 'MELD_H9_3T_FCD_0008', 'MELD_H9_3T_FCD_0009', 'MELD_H9_3T_FCD_0011']\n"
     ]
    }
   ],
   "source": [
    "cohort = MeldCohort(hdf5_file_root='{site_code}_{group}_featurematrix_combat_6.hdf5',\n",
    "               dataset='MELD_dataset_V6.csv')\n",
    "\n",
    "# print list of available subjects\n",
    "with h5py.File(os.path.join(save_dirs['dcd'][0], 'predictions.hdf5'), \"r\") as f:\n",
    "    subjects = list(f.keys())\n",
    "    print(subjects)"
   ]
  },
  {
   "cell_type": "code",
   "execution_count": 7,
   "id": "d0915b73",
   "metadata": {},
   "outputs": [
    {
     "data": {
      "text/plain": [
       "array(['MELD_H4_15T_C_0008', 'MELD_H17_15T_FCD_0009',\n",
       "       'MELD_H26_3T_FCD_0003', 'MELD_H17_3T_FCD_0060',\n",
       "       'MELD_H2_15T_FCD_0006', 'MELD_H2_15T_FCD_0022',\n",
       "       'MELD_H14_3T_FCD_0033', 'MELD_H3_3T_C_0083', 'MELD_H4_3T_FCD_0024',\n",
       "       'MELD_H15_3T_C_0004'], dtype='<U21')"
      ]
     },
     "execution_count": 7,
     "metadata": {},
     "output_type": "execute_result"
    }
   ],
   "source": [
    "subjects = np.random.choice(subjects, 10)\n",
    "subjects"
   ]
  },
  {
   "cell_type": "code",
   "execution_count": 5,
   "id": "0b8c022a",
   "metadata": {
    "scrolled": true
   },
   "outputs": [
    {
     "data": {
      "text/plain": [
       "['MELD_H4_15T_C_0008',\n",
       " 'MELD_H17_15T_FCD_0009',\n",
       " 'MELD_H26_3T_FCD_0003',\n",
       " 'MELD_H17_3T_FCD_0060',\n",
       " 'MELD_H2_15T_FCD_0006',\n",
       " 'MELD_H2_15T_FCD_0022',\n",
       " 'MELD_H14_3T_FCD_0033',\n",
       " 'MELD_H3_3T_C_0083',\n",
       " 'MELD_H4_3T_FCD_0024',\n",
       " 'MELD_H15_3T_C_0004']"
      ]
     },
     "execution_count": 5,
     "metadata": {},
     "output_type": "execute_result"
    }
   ],
   "source": [
    "subjects = ['MELD_H4_15T_C_0008', 'MELD_H17_15T_FCD_0009',\n",
    "       'MELD_H26_3T_FCD_0003', 'MELD_H17_3T_FCD_0060',\n",
    "       'MELD_H2_15T_FCD_0006', 'MELD_H2_15T_FCD_0022',\n",
    "       'MELD_H14_3T_FCD_0033', 'MELD_H3_3T_C_0083', 'MELD_H4_3T_FCD_0024',\n",
    "       'MELD_H15_3T_C_0004']\n",
    "subjects"
   ]
  },
  {
   "cell_type": "code",
   "execution_count": 6,
   "id": "d4573ae0",
   "metadata": {},
   "outputs": [],
   "source": [
    "# load predictions and distances for all models and all subjects\n",
    "results_dict = {\n",
    "    model_name: [\n",
    "        {subj: {} for subj in subjects} for _ in range(len(save_dirs[model_name]))\n",
    "    ]\n",
    "    for model_name in save_dirs.keys()\n",
    "}\n",
    "\n",
    "for model_name in save_dirs.keys():\n",
    "    for i, save_dir in enumerate(save_dirs[model_name]):\n",
    "        pred_file = os.path.join(save_dir, 'predictions.hdf5')\n",
    "        for subj in subjects:\n",
    "            result_hemis = load_prediction(subj,pred_file, dset='prediction')\n",
    "            result_distance_hemis = load_prediction(subj,pred_file, dset='distance_map')\n",
    "\n",
    "            s = MeldSubject(subj,cohort=cohort)\n",
    "            labels_hemis = {}\n",
    "            for hemi in ['lh','rh']:\n",
    "                _, labels_hemis[hemi] = s.load_feature_lesion_data(\n",
    "                    features=['none'], hemi=hemi, features_to_ignore=[]\n",
    "                )\n",
    "            results_dict[model_name][i][subj]['prediction'] = result_hemis\n",
    "            results_dict[model_name][i][subj]['pred_distance_map'] =  result_distance_hemis\n",
    "            results_dict[model_name][i][subj]['labels'] = labels_hemis"
   ]
  },
  {
   "cell_type": "code",
   "execution_count": 7,
   "id": "7989da5f",
   "metadata": {},
   "outputs": [],
   "source": [
    "mean_results = {\n",
    "    model_name: {subj: {} for subj in subjects} for model_name in results_dict.keys()\n",
    "}\n",
    "for model_name in results_dict.keys():\n",
    "    for subj in subjects:\n",
    "        mean_res = {'prediction': {}, 'pred_distance_map':{}, 'labels':{}}\n",
    "        for hemi in ['lh', 'rh']:\n",
    "            prediction = np.mean([res_dict[subj]['prediction'][hemi] for res_dict in results_dict[model_name]], axis=0)\n",
    "            pred_distance_map = np.mean([res_dict[subj]['pred_distance_map'][hemi] for res_dict in results_dict[model_name]], axis=0)\n",
    "            labels = np.mean([res_dict[subj]['labels'][hemi] for res_dict in results_dict[model_name]], axis=0)\n",
    "            mean_res['prediction'][hemi] = prediction\n",
    "            mean_res['pred_distance_map'][hemi] = pred_distance_map\n",
    "            mean_res['labels'][hemi] = labels\n",
    "        mean_results[model_name][subj] = mean_res"
   ]
  },
  {
   "cell_type": "code",
   "execution_count": 8,
   "id": "19c217d7",
   "metadata": {},
   "outputs": [],
   "source": [
    "# add classifier results to mean_results\n",
    "classifier_results = '/rds/project/kw350/rds-kw350-meld/experiments/co-ripa1/iteration_21-09-17/ensemble_21-09-20/fold_all/results/predictions_ensemble_iteration.hdf5'\n",
    "mean_results['classifier'] = {subj:{} for subj in subjects}\n",
    "for subj in subjects:\n",
    "    labels = mean_results[list(mean_results.keys())[0]][subj]['labels']\n",
    "    prediction = load_prediction(subj, classifier_results, dset='prediction')\n",
    "    mean_results['classifier'][subj]['prediction'] = prediction\n",
    "    mean_results['classifier'][subj]['labels'] = labels\n",
    "    mean_results['classifier'][subj]['pred_distance_map'] = {hemi: np.zeros_like(mean_results[list(mean_results.keys())[0]][subj]['pred_distance_map'][hemi])*np.nan for hemi in ['lh', 'rh']}"
   ]
  },
  {
   "cell_type": "code",
   "execution_count": 9,
   "id": "e0638bfd",
   "metadata": {
    "scrolled": false
   },
   "outputs": [
    {
     "name": "stdout",
     "output_type": "stream",
     "text": [
      "dcd\n"
     ]
    },
    {
     "ename": "NameError",
     "evalue": "name 'model' is not defined",
     "output_type": "error",
     "traceback": [
      "\u001b[0;31m---------------------------------------------------------------------------\u001b[0m",
      "\u001b[0;31mNameError\u001b[0m                                 Traceback (most recent call last)",
      "Input \u001b[0;32mIn [9]\u001b[0m, in \u001b[0;36m<module>\u001b[0;34m\u001b[0m\n\u001b[1;32m      1\u001b[0m \u001b[38;5;28;01mfor\u001b[39;00m model_name \u001b[38;5;129;01min\u001b[39;00m mean_results\u001b[38;5;241m.\u001b[39mkeys():\n\u001b[1;32m      2\u001b[0m     \u001b[38;5;28mprint\u001b[39m(model_name)\n\u001b[0;32m----> 3\u001b[0m     \u001b[38;5;28;01mif\u001b[39;00m \u001b[43mmodel\u001b[49m \u001b[38;5;241m!=\u001b[39m \u001b[38;5;124m'\u001b[39m\u001b[38;5;124mclassifier\u001b[39m\u001b[38;5;124m'\u001b[39m:\n\u001b[1;32m      4\u001b[0m         \u001b[38;5;28;01mcontinue\u001b[39;00m\n\u001b[1;32m      5\u001b[0m     \u001b[38;5;28;01mfor\u001b[39;00m subj \u001b[38;5;129;01min\u001b[39;00m subjects:\n",
      "\u001b[0;31mNameError\u001b[0m: name 'model' is not defined"
     ]
    }
   ],
   "source": [
    "for model_name in mean_results.keys():\n",
    "    print(model_name)\n",
    "    if model_name != 'classifier':\n",
    "        continue\n",
    "    for subj in subjects:\n",
    "        print('-', subj)\n",
    "        plot_prediction(mean_results[model_name][subj], \n",
    "                        filename=os.path.join(img_save_dirs[model_name], f'mean_pred_{subj}.png'))"
   ]
  },
  {
   "cell_type": "code",
   "execution_count": null,
   "id": "629f1a99",
   "metadata": {},
   "outputs": [],
   "source": [
    "# show results\n",
    "from imageio import imread\n",
    "\n",
    "for subj in subjects:\n",
    "    plots = {}\n",
    "    for model_name in img_save_dirs.keys():\n",
    "        plots[model_name] = imread(os.path.join(img_save_dirs[model_name], f'mean_pred_{subj}.png'))\n",
    "    \n",
    "    print(subj)\n",
    "    fig, axes = plt.subplots(1,3, figsize=(20,5))\n",
    "    for ax, n in zip(axes, plots.keys()):\n",
    "        ax.set_title(n)\n",
    "        ax.imshow(plots[n])\n",
    "        ax.axis('off')\n",
    "    fig.suptitle(subj)"
   ]
  },
  {
   "cell_type": "code",
   "execution_count": null,
   "id": "61fd5b05",
   "metadata": {},
   "outputs": [],
   "source": []
  },
  {
   "cell_type": "code",
   "execution_count": 15,
   "id": "b2f21ee2",
   "metadata": {},
   "outputs": [],
   "source": [
    "overlay = mean_results[model_name]['MELD_H17_15T_FCD_0009']['labels']['rh']\n"
   ]
  },
  {
   "cell_type": "code",
   "execution_count": null,
   "id": "391b77b0",
   "metadata": {},
   "outputs": [],
   "source": [
    "if len(overlay) < len(cohort.cortex_mask):\n",
    "# medial wall\n",
    "overlay_tmp=np.zeros(len(cohort.cortex_mask))\n",
    "overlay_tmp[cohort.cortex_mask] = overlay\n",
    "overlay=overlay_tmp"
   ]
  },
  {
   "cell_type": "code",
   "execution_count": null,
   "id": "a392d086",
   "metadata": {},
   "outputs": [],
   "source": [
    " import nibabel as nb\n",
    "    from meld_classifier.paths import BASE_PATH\n",
    "\n",
    "    flat = nb.load(\n",
    "        os.path.join(\n",
    "            BASE_PATH, \"fsaverage_sym\", \"surf\", \"lh.full.patch.flat.gii\"\n",
    "        )\n",
    "    )\n",
    "    coords, faces = flat.darrays[0].data, flat.darrays[1].data\n",
    "\n",
    "create_surface_plots(coords,faces,overlay,flat_map=True)"
   ]
  },
  {
   "cell_type": "code",
   "execution_count": null,
   "id": "c7efadf2",
   "metadata": {},
   "outputs": [],
   "source": []
  },
  {
   "cell_type": "code",
   "execution_count": null,
   "id": "230487b7",
   "metadata": {},
   "outputs": [],
   "source": []
  }
 ],
 "metadata": {
  "kernelspec": {
   "display_name": "Python 3 (ipykernel)",
   "language": "python",
   "name": "python3"
  },
  "language_info": {
   "codemirror_mode": {
    "name": "ipython",
    "version": 3
   },
   "file_extension": ".py",
   "mimetype": "text/x-python",
   "name": "python",
   "nbconvert_exporter": "python",
   "pygments_lexer": "ipython3",
   "version": "3.9.7"
  }
 },
 "nbformat": 4,
 "nbformat_minor": 5
}
