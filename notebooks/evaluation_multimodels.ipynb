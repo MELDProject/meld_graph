{
 "cells": [
  {
   "cell_type": "code",
   "execution_count": 2,
   "id": "4ad09881",
   "metadata": {},
   "outputs": [],
   "source": [
    "import meld_graph\n",
    "import meld_graph.models\n",
    "import meld_graph.experiment\n",
    "import meld_graph.dataset\n",
    "import meld_graph.data_preprocessing\n",
    "import meld_graph.evaluation\n",
    "\n",
    "\n",
    "import importlib\n",
    "importlib.reload(meld_graph)\n",
    "importlib.reload(meld_graph.models)\n",
    "importlib.reload(meld_graph.dataset)\n",
    "importlib.reload(meld_graph.experiment)\n",
    "importlib.reload(meld_graph.data_preprocessing)\n",
    "importlib.reload(meld_graph.evaluation)\n",
    "\n",
    "import logging\n",
    "import os\n",
    "import json\n",
    "\n",
    "from meld_graph.dataset import GraphDataset, Oversampler\n",
    "from meld_classifier.meld_cohort import MeldCohort, MeldSubject\n",
    "from meld_graph.training import Metrics\n",
    "import numpy as np\n",
    "from meld_graph.paths import EXPERIMENT_PATH\n",
    "\n",
    "from meld_graph.evaluation import Evaluator\n",
    "\n"
   ]
  },
  {
   "cell_type": "markdown",
   "id": "fe5cad0d",
   "metadata": {},
   "source": [
    "### Generate dataset"
   ]
  },
  {
   "cell_type": "code",
   "execution_count": 6,
   "id": "0539cf55",
   "metadata": {},
   "outputs": [
    {
     "ename": "KeyError",
     "evalue": "'features'",
     "output_type": "error",
     "traceback": [
      "\u001b[0;31m---------------------------------------------------------------------------\u001b[0m",
      "\u001b[0;31mKeyError\u001b[0m                                  Traceback (most recent call last)",
      "\u001b[1;32m/home/co-ripa1/rds/hpc-work/scripts/meld_classifier_GDL/notebooks/evaluation_multimodels.ipynb Cell 3\u001b[0m in \u001b[0;36m<module>\u001b[0;34m\u001b[0m\n\u001b[1;32m     <a href='vscode-notebook-cell://ssh-remote%2Blogin-e-16.hpc.cam.ac.uk/home/co-ripa1/rds/hpc-work/scripts/meld_classifier_GDL/notebooks/evaluation_multimodels.ipynb#X14sdnNjb2RlLXJlbW90ZQ%3D%3D?line=14'>15</a>\u001b[0m \u001b[39m# initiate params\u001b[39;00m\n\u001b[1;32m     <a href='vscode-notebook-cell://ssh-remote%2Blogin-e-16.hpc.cam.ac.uk/home/co-ripa1/rds/hpc-work/scripts/meld_classifier_GDL/notebooks/evaluation_multimodels.ipynb#X14sdnNjb2RlLXJlbW90ZQ%3D%3D?line=15'>16</a>\u001b[0m params \u001b[39m=\u001b[39m {                \n\u001b[1;32m     <a href='vscode-notebook-cell://ssh-remote%2Blogin-e-16.hpc.cam.ac.uk/home/co-ripa1/rds/hpc-work/scripts/meld_classifier_GDL/notebooks/evaluation_multimodels.ipynb#X14sdnNjb2RlLXJlbW90ZQ%3D%3D?line=16'>17</a>\u001b[0m           \u001b[39m\"\u001b[39m\u001b[39maugment_data\u001b[39m\u001b[39m\"\u001b[39m: {}, \n\u001b[1;32m     <a href='vscode-notebook-cell://ssh-remote%2Blogin-e-16.hpc.cam.ac.uk/home/co-ripa1/rds/hpc-work/scripts/meld_classifier_GDL/notebooks/evaluation_multimodels.ipynb#X14sdnNjb2RlLXJlbW90ZQ%3D%3D?line=17'>18</a>\u001b[0m           \u001b[39m\"\u001b[39m\u001b[39mlesion_bias\u001b[39m\u001b[39m\"\u001b[39m: \u001b[39m0\u001b[39m,\n\u001b[0;32m   (...)\u001b[0m\n\u001b[1;32m     <a href='vscode-notebook-cell://ssh-remote%2Blogin-e-16.hpc.cam.ac.uk/home/co-ripa1/rds/hpc-work/scripts/meld_classifier_GDL/notebooks/evaluation_multimodels.ipynb#X14sdnNjb2RlLXJlbW90ZQ%3D%3D?line=27'>28</a>\u001b[0m           \u001b[39m\"\u001b[39m\u001b[39mlesion_bias\u001b[39m\u001b[39m\"\u001b[39m: \u001b[39m0\u001b[39m,\n\u001b[1;32m     <a href='vscode-notebook-cell://ssh-remote%2Blogin-e-16.hpc.cam.ac.uk/home/co-ripa1/rds/hpc-work/scripts/meld_classifier_GDL/notebooks/evaluation_multimodels.ipynb#X14sdnNjb2RlLXJlbW90ZQ%3D%3D?line=28'>29</a>\u001b[0m           }\n\u001b[0;32m---> <a href='vscode-notebook-cell://ssh-remote%2Blogin-e-16.hpc.cam.ac.uk/home/co-ripa1/rds/hpc-work/scripts/meld_classifier_GDL/notebooks/evaluation_multimodels.ipynb#X14sdnNjb2RlLXJlbW90ZQ%3D%3D?line=30'>31</a>\u001b[0m dataset \u001b[39m=\u001b[39m GraphDataset(subjects, cohort, params )\n",
      "File \u001b[0;32m/rds/user/co-ripa1/hpc-work/scripts/meld_classifier_GDL/meld_graph/dataset.py:127\u001b[0m, in \u001b[0;36mGraphDataset.__init__\u001b[0;34m(self, subject_ids, cohort, params, mode, transform, pre_transform, pre_filter, output_levels)\u001b[0m\n\u001b[1;32m    118\u001b[0m         \u001b[39mself\u001b[39m\u001b[39m.\u001b[39msubject_samples \u001b[39m=\u001b[39m np\u001b[39m.\u001b[39msort(np\u001b[39m.\u001b[39mrandom\u001b[39m.\u001b[39mchoice(np\u001b[39m.\u001b[39marange(\u001b[39mlen\u001b[39m(\u001b[39mself\u001b[39m\u001b[39m.\u001b[39msubject_ids)),\n\u001b[1;32m    119\u001b[0m                                                 \u001b[39mself\u001b[39m\u001b[39m.\u001b[39mparams[\u001b[39m'\u001b[39m\u001b[39msynthetic_data\u001b[39m\u001b[39m'\u001b[39m][\u001b[39m'\u001b[39m\u001b[39mn_subs\u001b[39m\u001b[39m'\u001b[39m]))\n\u001b[1;32m    124\u001b[0m \u001b[39mfor\u001b[39;00m s_i,subj_id \u001b[39min\u001b[39;00m \u001b[39menumerate\u001b[39m(\u001b[39mself\u001b[39m\u001b[39m.\u001b[39msubject_ids):\n\u001b[1;32m    125\u001b[0m     \u001b[39m#load in control data\u001b[39;00m\n\u001b[1;32m    126\u001b[0m     features_left, features_right, lesion_left, lesion_right \u001b[39m=\u001b[39m \u001b[39mself\u001b[39m\u001b[39m.\u001b[39mprep\u001b[39m.\u001b[39mget_data_preprocessed(subject\u001b[39m=\u001b[39msubj_id, \n\u001b[0;32m--> 127\u001b[0m                                                              features\u001b[39m=\u001b[39mparams[\u001b[39m'\u001b[39;49m\u001b[39mfeatures\u001b[39;49m\u001b[39m'\u001b[39;49m], \n\u001b[1;32m    128\u001b[0m                                 lobes \u001b[39m=\u001b[39m params[\u001b[39m'\u001b[39m\u001b[39mlobes\u001b[39m\u001b[39m'\u001b[39m], lesion_bias\u001b[39m=\u001b[39m\u001b[39mFalse\u001b[39;00m)\n\u001b[1;32m    129\u001b[0m     \u001b[39m#add lesion\u001b[39;00m\n\u001b[1;32m    130\u001b[0m     \u001b[39mif\u001b[39;00m \u001b[39mself\u001b[39m\u001b[39m.\u001b[39mparams[\u001b[39m'\u001b[39m\u001b[39msynthetic_data\u001b[39m\u001b[39m'\u001b[39m][\u001b[39m'\u001b[39m\u001b[39mrun_synthetic\u001b[39m\u001b[39m'\u001b[39m]:\n",
      "\u001b[0;31mKeyError\u001b[0m: 'features'"
     ]
    }
   ],
   "source": [
    "#initialise dataset\n",
    "cohort =  MeldCohort(hdf5_file_root='{site_code}_{group}_featurematrix_combat_6.hdf5')\n",
    "subject_ids = cohort.get_subject_ids(group='all', dataset='MELD_dataset_V6_test.csv' )\n",
    "\n",
    "#test on subject\n",
    "site_codes=['H4']\n",
    "cohort= MeldCohort(hdf5_file_root='{site_code}_{group}_featurematrix.hdf5')\n",
    "subjects = ['MELD_H4_3T_FCD_0011']\n",
    "\n",
    "features=  ['.on_lh.gm_FLAIR_0.25.mgh',\n",
    "             '.on_lh.gm_FLAIR_0.5.mgh',\n",
    "             '.on_lh.gm_FLAIR_0.75.mgh',\n",
    "            '.on_lh.thickness.mgh']\n",
    "            \n",
    "# initiate params\n",
    "params = {                \n",
    "          \"augment_data\": {}, \n",
    "          \"lesion_bias\": 0,\n",
    "          'synthetic_data': {\n",
    "            'run_synthetic':False,\n",
    "            'n_subs': 20,\n",
    "            'use_controls':True,\n",
    "            'bias': 1,\n",
    "            'radius':0.5,\n",
    "            'n_subtypes':1,\n",
    "            'proportion_features_abnormal':0.9,\n",
    "            'proportion_hemispheres_lesional':0.9,\n",
    "            'jitter_factor':2, \n",
    "            },\n",
    "          \"preprocessing_parameters\": {\n",
    "              \"scaling\": None, \n",
    "              \"zscore\": True,\n",
    "            },\n",
    "          \"combine_hemis\": None,\n",
    "          \"lobes\": False,\n",
    "          \"lesion_bias\": 0,\n",
    "          }\n",
    "\n",
    "dataset = GraphDataset(subjects, cohort, params )\n"
   ]
  },
  {
   "cell_type": "code",
   "execution_count": 2,
   "id": "fe84c93a",
   "metadata": {},
   "outputs": [
    {
     "name": "stderr",
     "output_type": "stream",
     "text": [
      "Initialised Experiment 22-08-22_synth_unet_gamma_2_synthetic_data__bias/synthetic_data__bias_1\n"
     ]
    }
   ],
   "source": [
    "#load experiment already trained using checkpoint path\n",
    "\n",
    "EXPERIMENT_PATH='/rds/project/kw350/rds-kw350-meld/experiments_graph/co-ripa1'\n",
    "checkpoint_path=os.path.join(EXPERIMENT_PATH, '22-08-22_synth_unet_gamma_2_synthetic_data__bias/synthetic_data__bias_1/fold_00')\n",
    "\n",
    "exp = meld_graph.experiment.Experiment.from_folder(checkpoint_path)\n"
   ]
  },
  {
   "cell_type": "code",
   "execution_count": 3,
   "id": "4a1db6ef",
   "metadata": {},
   "outputs": [],
   "source": [
    "# update experiment with the test data parameters you want to run on\n",
    "# here trying with synthetic data\n",
    "exp.data_parameters['synthetic_data']['n_subs'] = 8"
   ]
  },
  {
   "cell_type": "code",
   "execution_count": 4,
   "id": "6ce89bf5",
   "metadata": {},
   "outputs": [
    {
     "name": "stderr",
     "output_type": "stream",
     "text": [
      "Using coord type exact\n",
      "Loading model weights from checkpoint /rds/project/kw350/rds-kw350-meld/experiments_graph/co-ripa1/22-08-22_synth_unet_gamma_2_synthetic_data__bias/synthetic_data__bias_1/fold_00/best_model.pt\n"
     ]
    },
    {
     "name": "stdout",
     "output_type": "stream",
     "text": [
      "conv 33 16\n",
      "conv 16 16\n",
      "conv 16 16\n"
     ]
    }
   ],
   "source": [
    "# Run the evaluation on the test data and save into directory provided\n",
    "# Save images and evaluation metrics in path provided\n",
    "\n",
    "save_dir=os.path.join(EXPERIMENT_PATH,'22-08-22_synth_eval_bis')\n",
    "\n",
    "eva = Evaluator(experiment = exp,\n",
    "                checkpoint_path = checkpoint_path,\n",
    "                save_dir = save_dir ,\n",
    "                make_images = True,\n",
    "               )\n",
    "\n",
    "eva.evaluate()\n"
   ]
  },
  {
   "cell_type": "markdown",
   "id": "b1ebb589",
   "metadata": {},
   "source": [
    "### Evaluation on real data"
   ]
  },
  {
   "cell_type": "code",
   "execution_count": 2,
   "id": "bf57ce6a",
   "metadata": {},
   "outputs": [
    {
     "name": "stderr",
     "output_type": "stream",
     "text": [
      "Initialised Experiment 22-08-22_synth_unet_gamma_2_synthetic_data__bias/synthetic_data__bias_1\n"
     ]
    }
   ],
   "source": [
    "#load experiment already trained using checkpoint path\n",
    "\n",
    "EXPERIMENT_PATH='/rds/project/kw350/rds-kw350-meld/experiments_graph/co-ripa1'\n",
    "checkpoint_path=os.path.join(EXPERIMENT_PATH, '22-08-22_synth_unet_gamma_2_synthetic_data__bias/synthetic_data__bias_1/fold_00')\n",
    "\n",
    "exp = meld_graph.experiment.Experiment.from_folder(checkpoint_path)"
   ]
  },
  {
   "cell_type": "code",
   "execution_count": 6,
   "id": "f4592f70",
   "metadata": {},
   "outputs": [],
   "source": [
    "# update experiment with the test data parameters you want to run on\n",
    "# here trying with real data\n",
    "\n",
    "exp.data_parameters['hdf5_file_root'] = '{site_code}_{group}_featurematrix_combat_6.hdf5'\n",
    "exp.data_parameters['site_codes'] = ['H4']\n",
    "exp.data_parameters['scanners'] = ['3T']\n",
    "exp.data_parameters['dataset'] = 'MELD_dataset_V6_test.csv'\n",
    "exp.data_parameters['synthetic_data'] = False"
   ]
  },
  {
   "cell_type": "code",
   "execution_count": 8,
   "id": "9e923685",
   "metadata": {},
   "outputs": [
    {
     "name": "stderr",
     "output_type": "stream",
     "text": [
      "total number of subjects: 46\n",
      "total number of subjects after restricting to subjects from MELD_dataset_V6.csv: 46\n",
      "total number after filtering by scanner ['3T'], features, lesional_only True: 18\n",
      "Using coord type exact\n",
      "Loading model weights from checkpoint /rds/project/kw350/rds-kw350-meld/experiments_graph/co-ripa1/22-08-22_synth_unet_gamma_2_synthetic_data__bias/synthetic_data__bias_1/fold_00/best_model.pt\n",
      "loading data and predicting model\n",
      "Loading and preprocessing data\n",
      "Combine hemis None\n"
     ]
    },
    {
     "name": "stdout",
     "output_type": "stream",
     "text": [
      "conv 33 16\n",
      "conv 16 16\n",
      "conv 16 16\n"
     ]
    },
    {
     "ename": "TypeError",
     "evalue": "'bool' object is not subscriptable",
     "output_type": "error",
     "traceback": [
      "\u001b[0;31m---------------------------------------------------------------------------\u001b[0m",
      "\u001b[0;31mTypeError\u001b[0m                                 Traceback (most recent call last)",
      "\u001b[1;32m/home/co-ripa1/rds/hpc-work/scripts/meld_classifier_GDL/notebooks/evaluation_1subject.ipynb Cell 9\u001b[0m in \u001b[0;36m<module>\u001b[0;34m\u001b[0m\n\u001b[1;32m      <a href='vscode-notebook-cell://ssh-remote%2Blogin-e-16.hpc.cam.ac.uk/home/co-ripa1/rds/hpc-work/scripts/meld_classifier_GDL/notebooks/evaluation_1subject.ipynb#X11sdnNjb2RlLXJlbW90ZQ%3D%3D?line=3'>4</a>\u001b[0m save_dir\u001b[39m=\u001b[39mos\u001b[39m.\u001b[39mpath\u001b[39m.\u001b[39mjoin(EXPERIMENT_PATH,\u001b[39m'\u001b[39m\u001b[39m22-08-22_real_eval\u001b[39m\u001b[39m'\u001b[39m)\n\u001b[1;32m      <a href='vscode-notebook-cell://ssh-remote%2Blogin-e-16.hpc.cam.ac.uk/home/co-ripa1/rds/hpc-work/scripts/meld_classifier_GDL/notebooks/evaluation_1subject.ipynb#X11sdnNjb2RlLXJlbW90ZQ%3D%3D?line=5'>6</a>\u001b[0m eva \u001b[39m=\u001b[39m Evaluator(experiment \u001b[39m=\u001b[39m exp,\n\u001b[1;32m      <a href='vscode-notebook-cell://ssh-remote%2Blogin-e-16.hpc.cam.ac.uk/home/co-ripa1/rds/hpc-work/scripts/meld_classifier_GDL/notebooks/evaluation_1subject.ipynb#X11sdnNjb2RlLXJlbW90ZQ%3D%3D?line=6'>7</a>\u001b[0m                 checkpoint_path \u001b[39m=\u001b[39m checkpoint_path,\n\u001b[1;32m      <a href='vscode-notebook-cell://ssh-remote%2Blogin-e-16.hpc.cam.ac.uk/home/co-ripa1/rds/hpc-work/scripts/meld_classifier_GDL/notebooks/evaluation_1subject.ipynb#X11sdnNjb2RlLXJlbW90ZQ%3D%3D?line=7'>8</a>\u001b[0m                 save_dir \u001b[39m=\u001b[39m save_dir ,\n\u001b[1;32m      <a href='vscode-notebook-cell://ssh-remote%2Blogin-e-16.hpc.cam.ac.uk/home/co-ripa1/rds/hpc-work/scripts/meld_classifier_GDL/notebooks/evaluation_1subject.ipynb#X11sdnNjb2RlLXJlbW90ZQ%3D%3D?line=8'>9</a>\u001b[0m                 make_images \u001b[39m=\u001b[39m \u001b[39mTrue\u001b[39;00m,\n\u001b[1;32m     <a href='vscode-notebook-cell://ssh-remote%2Blogin-e-16.hpc.cam.ac.uk/home/co-ripa1/rds/hpc-work/scripts/meld_classifier_GDL/notebooks/evaluation_1subject.ipynb#X11sdnNjb2RlLXJlbW90ZQ%3D%3D?line=9'>10</a>\u001b[0m                )\n\u001b[0;32m---> <a href='vscode-notebook-cell://ssh-remote%2Blogin-e-16.hpc.cam.ac.uk/home/co-ripa1/rds/hpc-work/scripts/meld_classifier_GDL/notebooks/evaluation_1subject.ipynb#X11sdnNjb2RlLXJlbW90ZQ%3D%3D?line=11'>12</a>\u001b[0m eva\u001b[39m.\u001b[39;49mevaluate()\n",
      "File \u001b[0;32m/rds/user/co-ripa1/hpc-work/scripts/meld_classifier_GDL/meld_graph/evaluation.py:92\u001b[0m, in \u001b[0;36mEvaluator.evaluate\u001b[0;34m(self)\u001b[0m\n\u001b[1;32m     90\u001b[0m \u001b[39m# need to load and predict data\u001b[39;00m\n\u001b[1;32m     91\u001b[0m \u001b[39mif\u001b[39;00m \u001b[39mself\u001b[39m\u001b[39m.\u001b[39mdata_dictionary \u001b[39mis\u001b[39;00m \u001b[39mNone\u001b[39;00m:\n\u001b[0;32m---> 92\u001b[0m     \u001b[39mself\u001b[39;49m\u001b[39m.\u001b[39;49mload_predict_data()\n\u001b[1;32m     93\u001b[0m \u001b[39m# calculate stats \u001b[39;00m\n\u001b[1;32m     94\u001b[0m \u001b[39mself\u001b[39m\u001b[39m.\u001b[39mstat_subjects()\n",
      "File \u001b[0;32m/rds/user/co-ripa1/hpc-work/scripts/meld_classifier_GDL/meld_graph/evaluation.py:113\u001b[0m, in \u001b[0;36mEvaluator.load_predict_data\u001b[0;34m(self, subject_ids)\u001b[0m\n\u001b[1;32m    109\u001b[0m \u001b[39m# load dataset\u001b[39;00m\n\u001b[1;32m    110\u001b[0m cohort \u001b[39m=\u001b[39m MeldCohort(\n\u001b[1;32m    111\u001b[0m     hdf5_file_root\u001b[39m=\u001b[39m\u001b[39mself\u001b[39m\u001b[39m.\u001b[39mexperiment\u001b[39m.\u001b[39mdata_parameters[\u001b[39m\"\u001b[39m\u001b[39mhdf5_file_root\u001b[39m\u001b[39m\"\u001b[39m]\n\u001b[1;32m    112\u001b[0m )\n\u001b[0;32m--> 113\u001b[0m dataset \u001b[39m=\u001b[39m GraphDataset(subject_ids, cohort, \u001b[39mself\u001b[39;49m\u001b[39m.\u001b[39;49mexperiment\u001b[39m.\u001b[39;49mdata_parameters)\n\u001b[1;32m    114\u001b[0m \u001b[39m# predict on data\u001b[39;00m\n\u001b[1;32m    115\u001b[0m \u001b[39m#TODO: enable batch_size > 1\u001b[39;00m\n\u001b[1;32m    116\u001b[0m data_loader \u001b[39m=\u001b[39m torch_geometric\u001b[39m.\u001b[39mloader\u001b[39m.\u001b[39mDataLoader(\n\u001b[1;32m    117\u001b[0m     dataset,\n\u001b[1;32m    118\u001b[0m     shuffle\u001b[39m=\u001b[39m\u001b[39mFalse\u001b[39;00m,\n\u001b[1;32m    119\u001b[0m     batch_size\u001b[39m=\u001b[39m\u001b[39m1\u001b[39m,\n\u001b[1;32m    120\u001b[0m )\n",
      "File \u001b[0;32m/rds/user/co-ripa1/hpc-work/scripts/meld_classifier_GDL/meld_graph/dataset.py:103\u001b[0m, in \u001b[0;36mGraphDataset.__init__\u001b[0;34m(self, subject_ids, cohort, params, mode, transform, pre_transform, pre_filter, output_levels)\u001b[0m\n\u001b[1;32m    100\u001b[0m \u001b[39mself\u001b[39m\u001b[39m.\u001b[39mlog\u001b[39m.\u001b[39minfo(\u001b[39mf\u001b[39m\u001b[39m\"\u001b[39m\u001b[39mCombine hemis \u001b[39m\u001b[39m{\u001b[39;00m\u001b[39mself\u001b[39m\u001b[39m.\u001b[39mparams[\u001b[39m'\u001b[39m\u001b[39mcombine_hemis\u001b[39m\u001b[39m'\u001b[39m]\u001b[39m}\u001b[39;00m\u001b[39m\"\u001b[39m)\n\u001b[1;32m    102\u001b[0m \u001b[39m# switch for synthetic task here\u001b[39;00m\n\u001b[0;32m--> 103\u001b[0m \u001b[39mif\u001b[39;00m \u001b[39mself\u001b[39;49m\u001b[39m.\u001b[39;49mparams[\u001b[39m\"\u001b[39;49m\u001b[39msynthetic_data\u001b[39;49m\u001b[39m\"\u001b[39;49m][\u001b[39m\"\u001b[39;49m\u001b[39mrun_synthetic\u001b[39;49m\u001b[39m\"\u001b[39;49m]:\n\u001b[1;32m    104\u001b[0m     \u001b[39mself\u001b[39m\u001b[39m.\u001b[39micospheres \u001b[39m=\u001b[39m IcoSpheres()\n\u001b[1;32m    105\u001b[0m     \u001b[39m#undersample subject ids to get controlled number\u001b[39;00m\n",
      "\u001b[0;31mTypeError\u001b[0m: 'bool' object is not subscriptable"
     ]
    }
   ],
   "source": [
    "# Run the evaluation on the test data and save into directory provided\n",
    "# Save images and evaluation metrics in path provided\n",
    "\n",
    "save_dir=os.path.join(EXPERIMENT_PATH,'22-08-22_real_eval')\n",
    "\n",
    "eva = Evaluator(experiment = exp,\n",
    "                checkpoint_path = checkpoint_path,\n",
    "                save_dir = save_dir ,\n",
    "                make_images = True,\n",
    "               )\n",
    "\n",
    "eva.evaluate()\n"
   ]
  }
 ],
 "metadata": {
  "kernelspec": {
   "display_name": "Python 3.9.10 ('meld_graph')",
   "language": "python",
   "name": "python3"
  },
  "language_info": {
   "codemirror_mode": {
    "name": "ipython",
    "version": 3
   },
   "file_extension": ".py",
   "mimetype": "text/x-python",
   "name": "python",
   "nbconvert_exporter": "python",
   "pygments_lexer": "ipython3",
   "version": "3.9.10"
  },
  "vscode": {
   "interpreter": {
    "hash": "c0176ae289e59992559f0c449061dac3c0e6a1074598f8b14680b865216cf195"
   }
  }
 },
 "nbformat": 4,
 "nbformat_minor": 5
}
