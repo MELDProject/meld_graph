{
 "cells": [
  {
   "cell_type": "code",
   "execution_count": 1,
   "id": "4ad09881",
   "metadata": {},
   "outputs": [
    {
     "name": "stdout",
     "output_type": "stream",
     "text": [
      "Setting MELD_DATA_PATH to /rds/project/kw350/rds-kw350-meld/meld_data/Data\n",
      "Setting BASE_PATH to /rds/project/kw350/rds-kw350-meld/meld_data/Data\n",
      "Setting EXPERIMENT_PATH to /rds/project/kw350/rds-kw350-meld/experiments/co-ripa1/\n",
      "Setting FS_SUBJECTS_PATH to \n",
      "Setting EXPERIMENT_PATH to /rds/project/kw350/rds-kw350-meld/experiments_graph/co-ripa1\n"
     ]
    }
   ],
   "source": [
    "import meld_graph\n",
    "import meld_graph.models\n",
    "import meld_graph.experiment\n",
    "import meld_graph.dataset\n",
    "import meld_graph.data_preprocessing\n",
    "import meld_graph.evaluation\n",
    "\n",
    "\n",
    "import importlib\n",
    "importlib.reload(meld_graph)\n",
    "importlib.reload(meld_graph.models)\n",
    "importlib.reload(meld_graph.dataset)\n",
    "importlib.reload(meld_graph.experiment)\n",
    "importlib.reload(meld_graph.data_preprocessing)\n",
    "importlib.reload(meld_graph.evaluation)\n",
    "\n",
    "import logging\n",
    "import os\n",
    "import json\n",
    "\n",
    "from meld_graph.dataset import GraphDataset, Oversampler\n",
    "from meld_classifier.meld_cohort import MeldCohort, MeldSubject\n",
    "from meld_graph.training import Metrics\n",
    "import numpy as np\n",
    "from meld_graph.paths import EXPERIMENT_PATH\n",
    "\n",
    "from meld_graph.evaluation import Evaluator\n",
    "\n"
   ]
  },
  {
   "cell_type": "markdown",
   "id": "fe5cad0d",
   "metadata": {},
   "source": [
    "### Generate dataset"
   ]
  },
  {
   "cell_type": "code",
   "execution_count": 2,
   "id": "0539cf55",
   "metadata": {},
   "outputs": [],
   "source": [
    "#initialise dataset\n",
    "\n",
    "cohort= MeldCohort(hdf5_file_root='{site_code}_{group}_featurematrix_combat_6.hdf5')\n",
    "# subject_ids = cohort.get_subject_ids(group='all', dataset='MELD_dataset_V6_test.csv' )\n",
    "subjects = ['MELD_H4_15T_FCD_0011',]\n",
    "features= ['.combat.on_lh.pial.K_filtered.sm20.mgh',\n",
    "          '.combat.on_lh.thickness.sm10.mgh',\n",
    "          '.combat.on_lh.w-g.pct.sm10.mgh',\n",
    "          '.combat.on_lh.sulc.sm5.mgh',\n",
    "          '.combat.on_lh.curv.sm5.mgh',\n",
    "          '.combat.on_lh.gm_FLAIR_0.75.sm10.mgh',\n",
    "          '.combat.on_lh.gm_FLAIR_0.5.sm10.mgh',\n",
    "          '.combat.on_lh.gm_FLAIR_0.25.sm10.mgh',\n",
    "          '.combat.on_lh.gm_FLAIR_0.sm10.mgh',\n",
    "          '.combat.on_lh.wm_FLAIR_0.5.sm10.mgh',\n",
    "          '.combat.on_lh.wm_FLAIR_1.sm10.mgh',\n",
    "          '.inter_z.intra_z.combat.on_lh.pial.K_filtered.sm20.mgh',\n",
    "          '.inter_z.intra_z.combat.on_lh.thickness.sm10.mgh',\n",
    "          '.inter_z.intra_z.combat.on_lh.w-g.pct.sm10.mgh',\n",
    "          '.inter_z.intra_z.combat.on_lh.sulc.sm5.mgh',\n",
    "          '.inter_z.intra_z.combat.on_lh.curv.sm5.mgh',\n",
    "          '.inter_z.intra_z.combat.on_lh.gm_FLAIR_0.75.sm10.mgh',\n",
    "          '.inter_z.intra_z.combat.on_lh.gm_FLAIR_0.5.sm10.mgh',\n",
    "          '.inter_z.intra_z.combat.on_lh.gm_FLAIR_0.25.sm10.mgh',\n",
    "          '.inter_z.intra_z.combat.on_lh.gm_FLAIR_0.sm10.mgh',\n",
    "          '.inter_z.intra_z.combat.on_lh.wm_FLAIR_0.5.sm10.mgh',\n",
    "          '.inter_z.intra_z.combat.on_lh.wm_FLAIR_1.sm10.mgh',\n",
    "          '.inter_z.asym.intra_z.combat.on_lh.pial.K_filtered.sm20.mgh',\n",
    "          '.inter_z.asym.intra_z.combat.on_lh.thickness.sm10.mgh',\n",
    "          '.inter_z.asym.intra_z.combat.on_lh.w-g.pct.sm10.mgh',\n",
    "          '.inter_z.asym.intra_z.combat.on_lh.sulc.sm5.mgh',\n",
    "          '.inter_z.asym.intra_z.combat.on_lh.curv.sm5.mgh',\n",
    "          '.inter_z.asym.intra_z.combat.on_lh.gm_FLAIR_0.75.sm10.mgh',\n",
    "          '.inter_z.asym.intra_z.combat.on_lh.gm_FLAIR_0.5.sm10.mgh',\n",
    "          '.inter_z.asym.intra_z.combat.on_lh.gm_FLAIR_0.25.sm10.mgh',\n",
    "          '.inter_z.asym.intra_z.combat.on_lh.gm_FLAIR_0.sm10.mgh',\n",
    "          '.inter_z.asym.intra_z.combat.on_lh.wm_FLAIR_0.5.sm10.mgh',\n",
    "          '.inter_z.asym.intra_z.combat.on_lh.wm_FLAIR_1.sm10.mgh',]\n",
    "\n",
    "# initiate params\n",
    "params = {                \n",
    "          \"features\":features,\n",
    "          \"augment_data\": {}, \n",
    "          \"lesion_bias\": 0,\n",
    "          \"lobes\": False,\n",
    "          \"synthetic_data\": {\n",
    "            'run_synthetic':False,\n",
    "            'n_subs': 20,\n",
    "            'use_controls':True,\n",
    "            'bias': 0,\n",
    "            'radius':0.5,\n",
    "            'n_subtypes':1,\n",
    "            'proportion_features_abnormal':0.9,\n",
    "            'proportion_hemispheres_lesional':0.9,\n",
    "            'jitter_factor':2, \n",
    "            },\n",
    "          \"preprocessing_parameters\": {\n",
    "              \"scaling\": None, \n",
    "              \"zscore\": True,\n",
    "            },\n",
    "          \"combine_hemis\": None,\n",
    "          }\n",
    "\n",
    "dataset = GraphDataset(subjects, cohort, params )\n"
   ]
  },
  {
   "cell_type": "code",
   "execution_count": 3,
   "id": "40f64eb7",
   "metadata": {},
   "outputs": [
    {
     "data": {
      "text/plain": [
       "GraphDataset(2)"
      ]
     },
     "execution_count": 3,
     "metadata": {},
     "output_type": "execute_result"
    }
   ],
   "source": [
    "dataset"
   ]
  },
  {
   "cell_type": "code",
   "execution_count": 3,
   "id": "89d1d7d6",
   "metadata": {},
   "outputs": [
    {
     "name": "stdout",
     "output_type": "stream",
     "text": [
      "loader\n"
     ]
    }
   ],
   "source": [
    "import torch_geometric.data\n",
    "import torch\n",
    "device = torch.device('cuda:0' if torch.cuda.is_available() else 'cpu')\n",
    "data_loader = torch_geometric.loader.DataLoader(dataset,\n",
    "            shuffle=False, batch_size=2)\n",
    "for data in data_loader:\n",
    "    print('loader')\n",
    "    data = data.to(device)\n",
    "    test = data.x"
   ]
  },
  {
   "cell_type": "code",
   "execution_count": 13,
   "id": "789d73fc",
   "metadata": {},
   "outputs": [
    {
     "data": {
      "text/plain": [
       "tensor([[-0.7035, -1.3293, -1.4115,  ..., -0.3818, -0.3552, -0.4100],\n",
       "        [-0.8725,  0.7342,  0.0029,  ...,  1.4526,  1.5475,  1.4228],\n",
       "        [ 0.4470,  1.1417, -0.8217,  ...,  0.5506,  1.3800,  1.8729],\n",
       "        ...,\n",
       "        [ 2.4979, -0.3456, -0.5083,  ..., -0.2423, -0.3398, -0.6039],\n",
       "        [ 2.4951, -0.3297, -0.4548,  ..., -0.3026, -0.4469, -0.7625],\n",
       "        [ 2.4151, -0.3078, -0.4007,  ..., -0.3596, -0.5555, -0.9115]])"
      ]
     },
     "execution_count": 13,
     "metadata": {},
     "output_type": "execute_result"
    }
   ],
   "source": [
    "data.x"
   ]
  },
  {
   "cell_type": "markdown",
   "id": "b356d112",
   "metadata": {},
   "source": [
    "### Load models and predict"
   ]
  },
  {
   "cell_type": "code",
   "execution_count": 4,
   "id": "69d3f721",
   "metadata": {},
   "outputs": [],
   "source": [
    "# initialise model\n",
    "EXPERIMENT_PATH='/rds/project/kw350/rds-kw350-meld/experiments_graph/co-ripa1'\n",
    "\n",
    "model_base_paths = {\n",
    "    # 3layer\n",
    "    '3layer_real_pretrainradius0.5': os.path.join(EXPERIMENT_PATH,'22-08-22_real_3layer/from_synth_baselineFTprop_features0.2FTradius0.5/fold_00'),\n",
    "    # 3layer real data\n",
    "    '3layer_real_pretrainradius1': os.path.join(EXPERIMENT_PATH, '22-08-22_real_3layer/from_synth_baselineFTprop_features0.2/fold_00'),\n",
    "    # unet\n",
    "    '3layer_real_scratch':  os.path.join(EXPERIMENT_PATH, '22-08-22_real_3layer/from_scratch/fold_00'),\n",
    "}"
   ]
  },
  {
   "cell_type": "code",
   "execution_count": 5,
   "id": "fe84c93a",
   "metadata": {},
   "outputs": [
    {
     "name": "stderr",
     "output_type": "stream",
     "text": [
      "Initialised Experiment 22-08-22_real_3layer/from_synth_baselineFTprop_features0.2FTradius0.5\n"
     ]
    }
   ],
   "source": [
    "#load experiment already trained using checkpoint path\n",
    "from pyexpat import model\n",
    "\n",
    "model_base_path=model_base_paths['3layer_real_pretrainradius0.5']\n",
    "\n",
    "checkpoint_path=os.path.join(EXPERIMENT_PATH, model_base_path)\n",
    "\n",
    "exp = meld_graph.experiment.Experiment.from_folder(checkpoint_path)\n"
   ]
  },
  {
   "cell_type": "code",
   "execution_count": 6,
   "id": "6ce89bf5",
   "metadata": {},
   "outputs": [
    {
     "name": "stderr",
     "output_type": "stream",
     "text": [
      "Using coord type exact\n",
      "Loading model weights from checkpoint /rds/project/kw350/rds-kw350-meld/experiments_graph/co-ripa1/22-08-22_real_3layer/from_synth_baselineFTprop_features0.2FTradius0.5/fold_00/best_model.pt\n"
     ]
    },
    {
     "name": "stdout",
     "output_type": "stream",
     "text": [
      "conv 33 16\n",
      "conv 16 16\n",
      "conv 16 16\n"
     ]
    }
   ],
   "source": [
    "# Run the evaluation on the test data and save into directory provided\n",
    "# Save images and evaluation metrics in path provided\n",
    "\n",
    "save_dir=os.path.join(EXPERIMENT_PATH,'22-09-29_real_eval')\n",
    "\n",
    "eva = Evaluator(experiment = exp,\n",
    "                checkpoint_path = checkpoint_path,\n",
    "                save_dir = save_dir ,\n",
    "                make_images = True,\n",
    "                dataset=dataset,\n",
    "                subject_ids=subjects,\n",
    "                cohort=cohort,\n",
    "               )\n"
   ]
  },
  {
   "cell_type": "code",
   "execution_count": 7,
   "id": "ff486e9d",
   "metadata": {},
   "outputs": [
    {
     "name": "stderr",
     "output_type": "stream",
     "text": [
      "loading data and predicting model\n",
      "saving prediction for MELD_H4_15T_FCD_0011\n"
     ]
    },
    {
     "ename": "AttributeError",
     "evalue": "'Evaluator' object has no attribute 'threshold'",
     "output_type": "error",
     "traceback": [
      "\u001b[0;31m---------------------------------------------------------------------------\u001b[0m",
      "\u001b[0;31mAttributeError\u001b[0m                            Traceback (most recent call last)",
      "\u001b[1;32m/home/co-ripa1/rds/hpc-work/scripts/meld_classifier_GDL/notebooks/evaluation_multimodels.ipynb Cell 11\u001b[0m in \u001b[0;36m<module>\u001b[0;34m\u001b[0m\n\u001b[1;32m      <a href='vscode-notebook-cell://ssh-remote%2Blogin-e-16.hpc.cam.ac.uk/home/co-ripa1/rds/hpc-work/scripts/meld_classifier_GDL/notebooks/evaluation_multimodels.ipynb#X11sdnNjb2RlLXJlbW90ZQ%3D%3D?line=0'>1</a>\u001b[0m \u001b[39m# eva.evaluate()\u001b[39;00m\n\u001b[1;32m      <a href='vscode-notebook-cell://ssh-remote%2Blogin-e-16.hpc.cam.ac.uk/home/co-ripa1/rds/hpc-work/scripts/meld_classifier_GDL/notebooks/evaluation_multimodels.ipynb#X11sdnNjb2RlLXJlbW90ZQ%3D%3D?line=1'>2</a>\u001b[0m \n\u001b[1;32m      <a href='vscode-notebook-cell://ssh-remote%2Blogin-e-16.hpc.cam.ac.uk/home/co-ripa1/rds/hpc-work/scripts/meld_classifier_GDL/notebooks/evaluation_multimodels.ipynb#X11sdnNjb2RlLXJlbW90ZQ%3D%3D?line=2'>3</a>\u001b[0m \n\u001b[1;32m      <a href='vscode-notebook-cell://ssh-remote%2Blogin-e-16.hpc.cam.ac.uk/home/co-ripa1/rds/hpc-work/scripts/meld_classifier_GDL/notebooks/evaluation_multimodels.ipynb#X11sdnNjb2RlLXJlbW90ZQ%3D%3D?line=3'>4</a>\u001b[0m \u001b[39m# # load data and predict\u001b[39;00m\n\u001b[0;32m----> <a href='vscode-notebook-cell://ssh-remote%2Blogin-e-16.hpc.cam.ac.uk/home/co-ripa1/rds/hpc-work/scripts/meld_classifier_GDL/notebooks/evaluation_multimodels.ipynb#X11sdnNjb2RlLXJlbW90ZQ%3D%3D?line=4'>5</a>\u001b[0m eva\u001b[39m.\u001b[39;49mload_predict_data()\n",
      "File \u001b[0;32m/rds/user/co-ripa1/hpc-work/scripts/meld_classifier_GDL/meld_graph/evaluation.py:168\u001b[0m, in \u001b[0;36mEvaluator.load_predict_data\u001b[0;34m(self)\u001b[0m\n\u001b[1;32m    163\u001b[0m \u001b[39mself\u001b[39m\u001b[39m.\u001b[39mdata_dictionary[subj_id] \u001b[39m=\u001b[39m {\n\u001b[1;32m    164\u001b[0m     \u001b[39m\"\u001b[39m\u001b[39minput_labels\u001b[39m\u001b[39m\"\u001b[39m: labels_array[i],\n\u001b[1;32m    165\u001b[0m     \u001b[39m\"\u001b[39m\u001b[39mresult\u001b[39m\u001b[39m\"\u001b[39m: prediction_array[i],\n\u001b[1;32m    166\u001b[0m }\n\u001b[1;32m    167\u001b[0m \u001b[39m#save prediction\u001b[39;00m\n\u001b[0;32m--> 168\u001b[0m \u001b[39mself\u001b[39;49m\u001b[39m.\u001b[39;49msave_prediction(subj_id, prediction_array[i], suffix\u001b[39m=\u001b[39;49m\u001b[39m\"\u001b[39;49m\u001b[39m\"\u001b[39;49m)\n\u001b[1;32m    169\u001b[0m \u001b[39mif\u001b[39;00m \u001b[39mself\u001b[39m\u001b[39m.\u001b[39mmode \u001b[39m!=\u001b[39m \u001b[39m\"\u001b[39m\u001b[39mtrain\u001b[39m\u001b[39m\"\u001b[39m:\n\u001b[1;32m    170\u001b[0m     \u001b[39mself\u001b[39m\u001b[39m.\u001b[39mdata_dictionary[subj_id][\u001b[39m\"\u001b[39m\u001b[39minput_features\u001b[39m\u001b[39m\"\u001b[39m] \u001b[39m=\u001b[39m features_array[i]\n",
      "File \u001b[0;32m/rds/user/co-ripa1/hpc-work/scripts/meld_classifier_GDL/meld_graph/evaluation.py:325\u001b[0m, in \u001b[0;36mEvaluator.save_prediction\u001b[0;34m(self, subject, prediction, dataset_str, suffix, dtype)\u001b[0m\n\u001b[1;32m    322\u001b[0m             dset[:] \u001b[39m=\u001b[39m prediction[i \u001b[39m*\u001b[39m nvert_hemi : (i \u001b[39m+\u001b[39m \u001b[39m1\u001b[39m) \u001b[39m*\u001b[39m nvert_hemi]\n\u001b[1;32m    323\u001b[0m             \u001b[39mif\u001b[39;00m dataset_str \u001b[39m==\u001b[39m \u001b[39m\"\u001b[39m\u001b[39mprediction\u001b[39m\u001b[39m\"\u001b[39m:\n\u001b[1;32m    324\u001b[0m                 \u001b[39m# save threshold as attribute in dataset\u001b[39;00m\n\u001b[0;32m--> 325\u001b[0m                 dset\u001b[39m.\u001b[39mattrs[\u001b[39m\"\u001b[39m\u001b[39mthreshold\u001b[39m\u001b[39m\"\u001b[39m] \u001b[39m=\u001b[39m \u001b[39mself\u001b[39;49m\u001b[39m.\u001b[39;49mthreshold\n\u001b[1;32m    326\u001b[0m         done \u001b[39m=\u001b[39m \u001b[39mTrue\u001b[39;00m\n\u001b[1;32m    327\u001b[0m \u001b[39mexcept\u001b[39;00m \u001b[39mOSError\u001b[39;00m:\n",
      "\u001b[0;31mAttributeError\u001b[0m: 'Evaluator' object has no attribute 'threshold'"
     ]
    }
   ],
   "source": [
    "# eva.evaluate()\n",
    "\n",
    "\n",
    "# # load data and predict\n",
    "eva.load_predict_data()\n",
    "# # calculate stats \n",
    "# eva.stat_subjects()\n",
    "#  # make images \n",
    "# eva.plot_subjects_prediction()"
   ]
  },
  {
   "cell_type": "markdown",
   "id": "9c2c348e",
   "metadata": {},
   "source": [
    "### Compare models"
   ]
  },
  {
   "cell_type": "markdown",
   "id": "389123ec",
   "metadata": {},
   "source": []
  },
  {
   "cell_type": "code",
   "execution_count": null,
   "id": "00ef4ab4",
   "metadata": {},
   "outputs": [],
   "source": [
    "# look at t-test "
   ]
  },
  {
   "cell_type": "markdown",
   "id": "cdbbc4b3",
   "metadata": {},
   "source": [
    "### Compare to baseline\n"
   ]
  },
  {
   "cell_type": "code",
   "execution_count": 19,
   "id": "a011f8a5",
   "metadata": {},
   "outputs": [],
   "source": [
    "import h5py\n",
    "\n",
    "def load_prediction(subject,hdf5):\n",
    "    results={}\n",
    "    with h5py.File(hdf5, \"r\") as f:\n",
    "        for hemi in ['lh','rh']:\n",
    "            results[hemi] = f[subject][hemi]['prediction'][:]\n",
    "    return results\n",
    "\n",
    "def create_surface_plots(coords,faces,overlay,flat_map=True):\n",
    "    \"\"\"plot and reload surface images\"\"\"\n",
    "    from meld_classifier.meld_plotting import trim\n",
    "    import matplotlib_surface_plotting.matplotlib_surface_plotting as msp\n",
    "    from PIL import Image\n",
    "\n",
    "    msp.plot_surf(coords,faces, \n",
    "                overlay,\n",
    "                flat_map=flat_map,\n",
    "                rotate=[90, 270],\n",
    "                filename='tmp.png',\n",
    "                vmin=0.4,\n",
    "                vmax=0.6,\n",
    "             )\n",
    "    im = Image.open('tmp.png')\n",
    "    im = trim(im)\n",
    "    im = im.convert(\"RGBA\")\n",
    "    im1 = np.array(im)\n",
    "    return im1"
   ]
  },
  {
   "cell_type": "code",
   "execution_count": 20,
   "id": "b2a03dd6",
   "metadata": {},
   "outputs": [],
   "source": [
    "predictions_file_1 = os.path.join('/rds/project/kw350',\n",
    "             'rds-kw350-meld/experiments',\n",
    "             'co-ripa1/iteration_21-09-15/ensemble_21-09-15',\n",
    "             'fold_all/results/',\n",
    "             'predictions_ensemble_iteration.hdf5')\n",
    "\n",
    "predictions_file_2 = os.path.join('/rds/project/kw350/rds-kw350-meld/experiments/co-ripa1',\n",
    "                                       'iteration_21-09-17/ensemble_21-09-20/fold_all/',\n",
    "                                       'results','predictions_ensemble_iteration.hdf5')\n",
    "\n",
    "with h5py.File(predictions_file_1, \"r\") as f:\n",
    "    subjects1 = list(f.keys())\n",
    "with h5py.File(predictions_file_2, \"r\") as f:\n",
    "    subjects2 = list(f.keys())    \n",
    "    \n",
    "subjects = np.unique(subjects1+subjects2)\n",
    "subjects[0]\n",
    "\n",
    "\n",
    "c = MeldCohort(hdf5_file_root='{site_code}_{group}_featurematrix_combat_6.hdf5',\n",
    "               dataset='MELD_dataset_V6.csv')\n",
    "\n",
    "results = []\n",
    "subject = 'MELD_H4_15T_FCD_0011'\n",
    "try:\n",
    "    hdf_predictions = os.path.join('/rds/project/kw350/rds-kw350-meld/experiments/co-ripa1',\n",
    "                                       'iteration_21-09-15/ensemble_21-09-15/fold_all/',\n",
    "                                       'results','predictions_ensemble_iteration.hdf5')\n",
    "    result_hemis = load_prediction(subject,hdf_predictions)\n",
    "\n",
    "except KeyError:\n",
    "    hdf_predictions = os.path.join('/rds/project/kw350/rds-kw350-meld/experiments/co-ripa1',\n",
    "                                       'iteration_21-09-17/ensemble_21-09-20/fold_all/',\n",
    "                                       'results','predictions_ensemble_iteration.hdf5')\n",
    "    result_hemis = load_prediction(subject,hdf_predictions)\n",
    "labels_hemis = {}\n",
    "\n",
    "subj = MeldSubject(subject,cohort=c)\n",
    "detected = False\n",
    "tp=0\n",
    "fp=0\n",
    "fn=0\n",
    "tn=0\n",
    "for hemi in ['lh','rh']:\n",
    "    _, labels_hemis[hemi] = subj.load_feature_lesion_data(\n",
    "        features, hemi=hemi, features_to_ignore=[]\n",
    "    )\n",
    "    tp += np.logical_and(labels_hemis[hemi][c.cortex_mask],result_hemis[hemi]).sum()\n",
    "    detected += tp>0\n",
    "    fp += np.logical_and(result_hemis[hemi], ~labels_hemis[hemi][c.cortex_mask]).sum()\n",
    "    fn += np.logical_and(~result_hemis[hemi], labels_hemis[hemi][c.cortex_mask]).sum()\n",
    "    tn += np.logical_and(~result_hemis[hemi], ~labels_hemis[hemi][c.cortex_mask]).sum()\n",
    "\n",
    "dice_lesion = np.nan_to_num((2*tp)/(2*tp+fn+fp))\n",
    "dice_nonlesion = (2*tn)/(2*tn+fn+fp)\n",
    "results.append([subject,subj.is_patient,\n",
    "                detected,tp,fn,fp,tn,dice_lesion,dice_nonlesion])\n"
   ]
  },
  {
   "cell_type": "code",
   "execution_count": 24,
   "id": "dabbc60f",
   "metadata": {},
   "outputs": [
    {
     "name": "stderr",
     "output_type": "stream",
     "text": [
      "/home/co-ripa1/.conda/envs/meld_graph/lib/python3.9/site-packages/IPython/core/pylabtools.py:151: UserWarning: There are no gridspecs with layoutgrids. Possibly did not call parent GridSpec with the \"figure\" keyword\n",
      "  fig.canvas.print_figure(bytes_io, **kw)\n"
     ]
    },
    {
     "data": {
      "image/png": "[encoded data removed]",
      "text/plain": [
       "<Figure size 576x576 with 4 Axes>"
      ]
     },
     "metadata": {
      "needs_background": "light"
     },
     "output_type": "display_data"
    },
    {
     "data": {
      "image/png": "[encoded data removed]",
      "text/plain": [
       "<Figure size 720x360 with 3 Axes>"
      ]
     },
     "metadata": {
      "needs_background": "light"
     },
     "output_type": "display_data"
    },
    {
     "data": {
      "image/png": "[encoded data removed]",
      "text/plain": [
       "<Figure size 720x360 with 3 Axes>"
      ]
     },
     "metadata": {
      "needs_background": "light"
     },
     "output_type": "display_data"
    },
    {
     "data": {
      "image/png": "[encoded data removed]",
      "text/plain": [
       "<Figure size 720x360 with 3 Axes>"
      ]
     },
     "metadata": {
      "needs_background": "light"
     },
     "output_type": "display_data"
    },
    {
     "data": {
      "image/png": "[encoded data removed]",
      "text/plain": [
       "<Figure size 720x360 with 3 Axes>"
      ]
     },
     "metadata": {
      "needs_background": "light"
     },
     "output_type": "display_data"
    }
   ],
   "source": [
    "#plot lesion\n",
    "import matplotlib_surface_plotting as msp\n",
    "import matplotlib.pyplot as plt\n",
    "from matplotlib.gridspec import GridSpec\n",
    "import nibabel as nb\n",
    "from meld_classifier.paths import BASE_PATH\n",
    "\n",
    "flat = nb.load(os.path.join(BASE_PATH, \"fsaverage_sym\", \"surf\", \"lh.full.patch.flat.gii\"))\n",
    "coords, faces = flat.darrays[0].data, flat.darrays[1].data\n",
    "\n",
    "# round up to get the square grid size\n",
    "fig= plt.figure(figsize=(8,8), constrained_layout=True)\n",
    "gs1 = GridSpec(2, 2, width_ratios=[1, 1],  wspace=0.1, hspace=0.1)\n",
    "data_to_plot= [result_hemis['lh'], result_hemis['rh'], labels_hemis['lh'], labels_hemis['rh']]\n",
    "titles=['predictions left hemi', 'predictions right hemi', 'labels left hemi', 'labels right hemi']\n",
    "for i,overlay in enumerate(data_to_plot):\n",
    "      if len(overlay) < len(cohort.cortex_mask):\n",
    "            overlay_tmp=np.zeros(len(cohort.cortex_mask))\n",
    "            overlay_tmp[cohort.cortex_mask]= overlay\n",
    "            overlay=overlay_tmp\n",
    "      ax = fig.add_subplot(gs1[i])\n",
    "      im = create_surface_plots(coords,faces,overlay,flat_map=True)\n",
    "      ax.imshow(im)\n",
    "      ax.axis('off')\n",
    "      ax.set_title(titles[i], loc='left', fontsize=20)  \n",
    "# fig.savefig(filename, bbox_inches='tight')\n",
    "# plt.close(\"all\")\n",
    "fig.show()\n"
   ]
  },
  {
   "cell_type": "code",
   "execution_count": 22,
   "id": "4019abd4",
   "metadata": {},
   "outputs": [
    {
     "data": {
      "text/plain": [
       "(146902,)"
      ]
     },
     "execution_count": 22,
     "metadata": {},
     "output_type": "execute_result"
    }
   ],
   "source": [
    "result_hemis['lh'].shape"
   ]
  },
  {
   "cell_type": "code",
   "execution_count": 23,
   "id": "892a9185",
   "metadata": {},
   "outputs": [
    {
     "data": {
      "text/plain": [
       "(163842,)"
      ]
     },
     "execution_count": 23,
     "metadata": {},
     "output_type": "execute_result"
    }
   ],
   "source": [
    "labels_hemis['lh'].shape"
   ]
  }
 ],
 "metadata": {
  "kernelspec": {
   "display_name": "Python 3.9.10 ('meld_graph')",
   "language": "python",
   "name": "python3"
  },
  "language_info": {
   "codemirror_mode": {
    "name": "ipython",
    "version": 3
   },
   "file_extension": ".py",
   "mimetype": "text/x-python",
   "name": "python",
   "nbconvert_exporter": "python",
   "pygments_lexer": "ipython3",
   "version": "3.9.10"
  },
  "vscode": {
   "interpreter": {
    "hash": "c0176ae289e59992559f0c449061dac3c0e6a1074598f8b14680b865216cf195"
   }
  }
 },
 "nbformat": 4,
 "nbformat_minor": 5
}
