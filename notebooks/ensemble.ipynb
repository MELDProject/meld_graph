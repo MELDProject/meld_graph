{
 "cells": [
  {
   "cell_type": "code",
   "execution_count": 1,
   "metadata": {},
   "outputs": [
    {
     "name": "stdout",
     "output_type": "stream",
     "text": [
      "Setting EXPERIMENT_PATH to /rds/project/kw350/rds-kw350-meld/experiments_graph/kw350\n",
      "Setting MELD_DATA_PATH to /rds/user/kw350/rds-kw350-meld/meld_data/Data/\n",
      "Setting BASE_PATH to /rds/user/kw350/rds-kw350-meld/meld_data/Data/\n",
      "Setting EXPERIMENT_PATH to /rds/user/kw350/rds-kw350-meld/experiments/kw350/\n",
      "No fs_subjects_path defined in /home/kw350/software/gdl/meld_classifier/meld_config.ini!\n"
     ]
    }
   ],
   "source": [
    "import meld_graph.experiment\n",
    "import os\n",
    "import numpy as np\n",
    "import h5py\n",
    "import matplotlib_surface_plotting as msp\n",
    "import matplotlib.pyplot as plt\n",
    "from matplotlib.gridspec import GridSpec\n",
    "import nibabel as nb\n",
    "from meld_classifier.paths import BASE_PATH\n",
    "from meld_classifier.meld_cohort import MeldCohort,MeldSubject\n",
    "def load_prediction(subject,hdf5,dset='prediction'):\n",
    "    results={}\n",
    "    with h5py.File(hdf5, \"r\") as f:\n",
    "        for hemi in ['lh','rh']:\n",
    "            results[hemi] = f[subject][hemi][dset][:]\n",
    "    return results\n"
   ]
  },
  {
   "cell_type": "code",
   "execution_count": 2,
   "metadata": {},
   "outputs": [],
   "source": [
    "model_path1 = '/rds/project/kw350/rds-kw350-meld/experiments_graph/kw350/23-01-13_QXFB_kernel_spiral_fold/s_2/'\n",
    "model_path2 = '/rds/project/kw350/rds-kw350-meld/experiments_graph/kw350/23-01-24_EIRK_no_distance/s_2'\n",
    "model_path3 = '/rds/project/kw350/rds-kw350-meld/experiments/co-ripa1/iteration_21-09-15_nothresh/ensemble_21-09-15'"
   ]
  },
  {
   "cell_type": "code",
   "execution_count": 3,
   "metadata": {},
   "outputs": [],
   "source": [
    "cohort = MeldCohort(hdf5_file_root='{site_code}_{group}_featurematrix_combat_6.hdf5',\n",
    "               dataset='MELD_dataset_V6.csv')\n"
   ]
  },
  {
   "cell_type": "code",
   "execution_count": 4,
   "metadata": {},
   "outputs": [],
   "source": [
    "folds = np.arange(0,9)\n",
    "\n",
    "save_dirs = {\n",
    "    'with_distance_loss': [os.path.join(model_path1,f'fold_0{fold}', 'results') for fold in folds] ,\n",
    "    'no_distance_loss': [os.path.join(model_path2,f'fold_0{fold}', 'results') for fold in folds] \n",
    "    \n",
    "}"
   ]
  },
  {
   "cell_type": "code",
   "execution_count": 5,
   "metadata": {},
   "outputs": [],
   "source": [
    "n_vert = len(cohort.cortex_label)*2"
   ]
  },
  {
   "cell_type": "code",
   "execution_count": 6,
   "metadata": {},
   "outputs": [],
   "source": [
    "with h5py.File(os.path.join(save_dirs['with_distance_loss'][0], 'predictions.hdf5'), \"r\") as f:\n",
    "    subjects = list(f.keys())\n"
   ]
  },
  {
   "cell_type": "code",
   "execution_count": 7,
   "metadata": {},
   "outputs": [],
   "source": [
    "def roc_curves(subject_dictionary,roc_dictionary,roc_curves_thresholds):\n",
    "    \"\"\"calculate performance at multiple thresholds\"\"\"\n",
    "    \n",
    "    for t_i,threshold in enumerate(roc_curves_thresholds):\n",
    "        predicted = subject_dictionary['result']>= threshold\n",
    "        # if we want tpr vs fpr curve too\n",
    "        # tp,fp,fn, tn = tp_fp_fn_tn(predicted, subject_dictionary['input_labels'])\n",
    "        #store sensitivity and sensitivity_plus for each patient (has a label)\n",
    "        if subject_dictionary['input_labels'].sum()>0:\n",
    "            roc_dictionary['sensitivity'][t_i] += np.logical_and(predicted, subject_dictionary['input_labels']).any()\n",
    "            roc_dictionary['sensitivity_plus'][t_i] += np.logical_and(predicted, subject_dictionary['borderzone']).any()\n",
    "        #store specificity for controls (no label)\n",
    "        else:\n",
    "            roc_dictionary['specificity'][t_i] += ~predicted.any()"
   ]
  },
  {
   "cell_type": "code",
   "execution_count": null,
   "metadata": {},
   "outputs": [],
   "source": []
  },
  {
   "cell_type": "code",
   "execution_count": 8,
   "metadata": {},
   "outputs": [
    {
     "name": "stdout",
     "output_type": "stream",
     "text": [
      "0\n",
      "100\n",
      "200\n",
      "300\n",
      "400\n",
      "0\n",
      "100\n",
      "200\n",
      "300\n",
      "400\n"
     ]
    }
   ],
   "source": [
    "#number of tresholds to evaluate ROC curve, between 0 & 1.\n",
    "n_thresh=101\n",
    "roc_curves_thresholds=np.linspace(0,1,n_thresh)\n",
    "roc_dictionary_base={'sensitivity':np.zeros(n_thresh),\n",
    "'sensitivity_plus':np.zeros(n_thresh),\n",
    "'specificity':np.zeros(n_thresh)}\n",
    "roc_dictionary={}\n",
    "for model_name in save_dirs.keys():\n",
    "    roc_dictionary[model_name]={'sensitivity':np.zeros(n_thresh),\n",
    "'sensitivity_plus':np.zeros(n_thresh),\n",
    "'specificity':np.zeros(n_thresh)}\n",
    "\n",
    "\n",
    "\n",
    "    for si,subj in enumerate(subjects):\n",
    "        if si%100==0:\n",
    "            print(si)\n",
    "        s = MeldSubject(subj,cohort=cohort)\n",
    "        labels_hemis = {}\n",
    "        dists={}\n",
    "        subject_results = np.zeros(n_vert)\n",
    "        labels = np.zeros(n_vert)\n",
    "        for hemi in ['lh','rh']:\n",
    "            dists[hemi], labels_hemis[hemi] = s.load_feature_lesion_data(\n",
    "                        features=['.on_lh.boundary_zone.mgh'], hemi=hemi, features_to_ignore=[]\n",
    "                    )\n",
    "            if np.sum(dists[hemi])==0:\n",
    "                dists[hemi] +=200\n",
    "        labels = np.hstack([labels_hemis['lh'][cohort.cortex_mask],labels_hemis['rh'][cohort.cortex_mask]])\n",
    "        borderzones = np.vstack([dists['lh'][cohort.cortex_mask,:],dists['rh'][cohort.cortex_mask,:]]).ravel()<20\n",
    "        for fold in folds:\n",
    "            save_dir = save_dirs[model_name][fold]\n",
    "            pred_file = os.path.join(save_dir, 'predictions.hdf5')\n",
    "            result_hemis = load_prediction(subj,pred_file, dset='prediction')\n",
    "            subject_results += np.hstack([result_hemis['lh']/10,result_hemis['rh']/10])\n",
    "        subject_dictionary={'input_labels':labels,'borderzone':borderzones,'result':subject_results}\n",
    "        roc_curves(subject_dictionary,roc_dictionary[model_name],roc_curves_thresholds)\n",
    "    "
   ]
  },
  {
   "cell_type": "code",
   "execution_count": 9,
   "metadata": {},
   "outputs": [
    {
     "name": "stdout",
     "output_type": "stream",
     "text": [
      "0\n",
      "100\n",
      "200\n",
      "300\n",
      "400\n"
     ]
    }
   ],
   "source": [
    "file= os.path.join(model_path3,f'fold_all', 'results', 'predictions_ensemble_iteration_0.hdf5')\n",
    "roc_dictionary['per vertex']={'sensitivity':np.zeros(n_thresh),\n",
    "'sensitivity_plus':np.zeros(n_thresh),\n",
    "'specificity':np.zeros(n_thresh)}\n",
    "for si,subj in enumerate(subjects):\n",
    "    \n",
    "\n",
    "    if si%100==0:\n",
    "        print(si)\n",
    "    s = MeldSubject(subj,cohort=cohort)\n",
    "    labels_hemis = {}\n",
    "    dists={}\n",
    "    subject_results = np.zeros(n_vert)\n",
    "    labels = np.zeros(n_vert)\n",
    "    for hemi in ['lh','rh']:\n",
    "        dists[hemi], labels_hemis[hemi] = s.load_feature_lesion_data(\n",
    "                    features=['.on_lh.boundary_zone.mgh'], hemi=hemi, features_to_ignore=[]\n",
    "                )\n",
    "        if np.sum(dists[hemi])==0:\n",
    "            dists[hemi] +=200\n",
    "    labels = np.hstack([labels_hemis['lh'][cohort.cortex_mask],labels_hemis['rh'][cohort.cortex_mask]])\n",
    "    borderzones = np.vstack([dists['lh'][cohort.cortex_mask,:],dists['rh'][cohort.cortex_mask,:]]).ravel()<20\n",
    "    # for fold in folds:\n",
    "    #     save_dir = save_dirs['spiral'][fold]\n",
    "    #     pred_file = os.path.join(save_dir, 'predictions.hdf5')\n",
    "    #     result_hemis = load_prediction(subj,pred_file, dset='prediction')\n",
    "    #     subject_results += np.hstack([result_hemis['lh']/10,result_hemis['rh']/10])\n",
    "    result_hemis = load_prediction(subj,file, dset='prediction_raw')\n",
    "    subject_results =np.hstack([result_hemis['lh'],result_hemis['rh']])\n",
    "    subject_dictionary={'input_labels':labels,'borderzone':borderzones,'result':subject_results}\n",
    "    roc_curves(subject_dictionary,roc_dictionary['per vertex'],roc_curves_thresholds)"
   ]
  },
  {
   "cell_type": "code",
   "execution_count": 10,
   "metadata": {},
   "outputs": [],
   "source": [
    "def optimal_threshold(b,roc_curves_thresholds):\n",
    "    sensitivity_curve = b['sensitivity_plus']/max(b['sensitivity_plus'])\n",
    "    specificity_curve = b['specificity']/max(b['specificity'])\n",
    "    youden = sensitivity_curve + specificity_curve\n",
    "    optimal_thresh = np.max(np.where(youden==np.max(youden)))\n",
    "    return sensitivity_curve,specificity_curve,optimal_thresh"
   ]
  },
  {
   "cell_type": "code",
   "execution_count": 11,
   "metadata": {},
   "outputs": [],
   "source": [
    "import sklearn.metrics as metrics\n",
    "def plot_roc(sensitivity_curve,specificity_curve,optimal_thresh,roc_curves_thresholds):\n",
    "    fig, axes = plt.subplots(1,2)\n",
    "    axes = axes.ravel()\n",
    "    axes[0].plot(1-specificity_curve,sensitivity_curve,)\n",
    "    #axes[0].scatter(1-specificity_curve[optimal_thresh],sensitivity_curve[optimal_thresh], c='r')\n",
    "    axes[1].plot(roc_curves_thresholds,sensitivity_curve,label='sensitivity')\n",
    "    axes[1].plot(roc_curves_thresholds,specificity_curve,label='specificity')\n",
    "    axes[1].plot(roc_curves_thresholds,specificity_curve+sensitivity_curve-1,label='Youden')\n",
    "   # axes[1].plot([roc_curves_thresholds[optimal_thresh],roc_curves_thresholds[optimal_thresh]],\n",
    "   # [0,1],label='Optimal threshold')\n",
    "    fig.legend()\n",
    "    auc = metrics.auc(1-specificity_curve,sensitivity_curve)\n",
    "    return fig\n",
    "\n",
    "def plot_roc_multiple(roc_dictionary,roc_curves_thresholds):\n",
    "    fig, ax = plt.subplots(1,1)   \n",
    "    for mi,model in enumerate(roc_dictionary.keys()):\n",
    "        sensitivity_curve,specificity_curve,optimal_thresh= optimal_threshold(roc_dictionary[model],\n",
    "        roc_curves_thresholds=roc_curves_thresholds)\n",
    "        ax.plot(1-specificity_curve,sensitivity_curve,label=model)\n",
    "        auc = metrics.auc(1-specificity_curve,sensitivity_curve)\n",
    "        ax.text(0,1-mi/10,f'{model} AUC: {auc:.2f}')\n",
    "    fig.legend()\n",
    "    return\n"
   ]
  },
  {
   "cell_type": "code",
   "execution_count": 13,
   "metadata": {},
   "outputs": [
    {
     "data": {
      "image/png": "[encoded data removed]",
      "text/plain": [
       "<Figure size 432x288 with 1 Axes>"
      ]
     },
     "metadata": {
      "needs_background": "light"
     },
     "output_type": "display_data"
    }
   ],
   "source": [
    "plot_roc_multiple(roc_dictionary,roc_curves_thresholds)"
   ]
  },
  {
   "cell_type": "code",
   "execution_count": 21,
   "metadata": {},
   "outputs": [
    {
     "name": "stdout",
     "output_type": "stream",
     "text": [
      "0.7076923076923077 0.5544041450777202\n"
     ]
    },
    {
     "data": {
      "image/png": "[encoded data removed]",
      "text/plain": [
       "<Figure size 432x288 with 2 Axes>"
      ]
     },
     "metadata": {
      "needs_background": "light"
     },
     "output_type": "display_data"
    }
   ],
   "source": [
    "#get optimal threshold. This might not be the best way to do it\n",
    "sensitivity_curve,specificity_curve,optimal_thresh= optimal_threshold(roc_dictionary,roc_curves_thresholds=roc_curves_thresholds)\n",
    "#this fixed value is what we used for iec.\n",
    "f=plot_roc(sensitivity_curve,specificity_curve,optimal_thresh,roc_curves_thresholds)\n",
    "print(sensitivity_curve[optimal_thresh],specificity_curve[optimal_thresh])"
   ]
  },
  {
   "cell_type": "code",
   "execution_count": 12,
   "metadata": {},
   "outputs": [
    {
     "data": {
      "image/png": "[encoded data removed]",
      "text/plain": [
       "<Figure size 432x288 with 1 Axes>"
      ]
     },
     "metadata": {
      "needs_background": "light"
     },
     "output_type": "display_data"
    }
   ],
   "source": [
    "plot_roc_multiple(roc_dictionary,roc_curves_thresholds)"
   ]
  },
  {
   "cell_type": "code",
   "execution_count": 44,
   "metadata": {},
   "outputs": [],
   "source": [
    "import matplotlib_surface_plotting as msp\n",
    "def load_predictions_for_subject(subj,savedirs,\n",
    "        cohort,):\n",
    "    #load mask\n",
    "    s = MeldSubject(subj,cohort=cohort)\n",
    "    hemi=s.get_lesion_hemisphere()\n",
    "    dists, label = s.load_feature_lesion_data(\n",
    "                    features=['.on_lh.boundary_zone.mgh'], hemi=hemi, features_to_ignore=[]\n",
    "                )\n",
    "    seg_pred = np.zeros(len(cohort.cortex_mask))\n",
    "    dist_pred = np.zeros(len(cohort.cortex_mask))\n",
    "    for fold in folds:\n",
    "        save_dir = save_dirs['with_distance_loss'][fold]\n",
    "        pred_file = os.path.join(save_dir, 'predictions.hdf5')\n",
    "        result_hemis = load_prediction(subj,pred_file, dset='prediction')\n",
    "        seg_pred[cohort.cortex_mask] += result_hemis[hemi]/10\n",
    "        distance_map = load_prediction(subj,pred_file, dset='distance_map')\n",
    "        dist_pred[cohort.cortex_mask] += distance_map[hemi]/10\n",
    "    file = os.path.join(model_path3,f'fold_all', 'results', 'predictions_ensemble_iteration_0.hdf5')\n",
    "    per_vertex = np.zeros(len(cohort.cortex_mask))\n",
    "    per_vertex[cohort.cortex_mask] = load_prediction(subj,file, dset='prediction')[hemi]\n",
    "    print(np.sum(np.logical_and(seg_pred>0.09,label>0)))\n",
    "    return label,seg_pred,dist_pred,per_vertex\n",
    "    "
   ]
  },
  {
   "cell_type": "code",
   "execution_count": 94,
   "metadata": {},
   "outputs": [
    {
     "data": {
      "text/plain": [
       "'MELD_H14_3T_FCD_0035'"
      ]
     },
     "execution_count": 94,
     "metadata": {},
     "output_type": "execute_result"
    }
   ],
   "source": [
    "subj=subjects[114]\n",
    "subj"
   ]
  },
  {
   "cell_type": "code",
   "execution_count": 95,
   "metadata": {},
   "outputs": [
    {
     "name": "stdout",
     "output_type": "stream",
     "text": [
      "455\n"
     ]
    }
   ],
   "source": [
    "\n",
    "label,seg_pred,dist_pred,per_vertex = load_predictions_for_subject(subj,save_dirs,cohort)\n",
    "#msp.plot_surf(cohort.surf['coords'],cohort.surf['faces'],per_vertex)\n"
   ]
  },
  {
   "cell_type": "code",
   "execution_count": null,
   "metadata": {},
   "outputs": [],
   "source": [
    "per_vertex = per_vertex>0\n",
    "from meld_classifier.meld_plotting import trim\n",
    "from PIL import Image\n",
    "msp.plot_surf(cohort.surf['coords'],cohort.surf['faces'],per_vertex,rotate=[90],\n",
    "cmap='bwr',\n",
    "base_size = 20,filename='tmp1.png', colorbar=False,mask=~per_vertex,\n",
    "parcel=label,parcel_cmap={0:[0,0,0,1],1:[0,0,0,1]})\n",
    "plt.close()\n",
    "im = Image.open('tmp1.png')\n",
    "trimmed_pv = trim(im)\n"
   ]
  },
  {
   "cell_type": "code",
   "execution_count": null,
   "metadata": {},
   "outputs": [],
   "source": [
    "seg_pred = seg_pred>0.09\n",
    "msp.plot_surf(cohort.surf['coords'],cohort.surf['faces'],seg_pred,rotate=[90],\n",
    "cmap='bwr',\n",
    "base_size = 20,filename='tmp1.png', colorbar=False,mask=~per_vertex,\n",
    "parcel=label,parcel_cmap={0:[0,0,0,1],1:[0,0,0,1]})\n",
    "plt.close()\n",
    "im = Image.open('tmp1.png')\n",
    "trimmed_graph = trim(im)\n",
    "msp.plot_surf(cohort.surf['coords'],cohort.surf['faces'],dist_pred,rotate=[90],\n",
    "cmap='turbo',\n",
    "base_size = 20,filename='tmp1.png', colorbar=False,#mask=~per_vertex,\n",
    "parcel=label,parcel_cmap={0:[0,0,0,1],1:[0,0,0,1]})\n",
    "plt.close()\n",
    "im = Image.open('tmp1.png')\n",
    "trimmed_dist = trim(im)\n",
    "\n"
   ]
  },
  {
   "cell_type": "code",
   "execution_count": null,
   "metadata": {},
   "outputs": [
    {
     "ename": "NameError",
     "evalue": "name 'trimmed_pv' is not defined",
     "output_type": "error",
     "traceback": [
      "\u001b[0;31m---------------------------------------------------------------------------\u001b[0m",
      "\u001b[0;31mNameError\u001b[0m                                 Traceback (most recent call last)",
      "\u001b[1;32m/home/kw350/software/gdl/meld_classifier_GDL/notebooks/ensemble.ipynb Cell 21\u001b[0m in \u001b[0;36m<cell line: 2>\u001b[0;34m()\u001b[0m\n\u001b[1;32m      <a href='vscode-notebook-cell://ssh-remote%2Bcsd3/home/kw350/software/gdl/meld_classifier_GDL/notebooks/ensemble.ipynb#X35sdnNjb2RlLXJlbW90ZQ%3D%3D?line=0'>1</a>\u001b[0m fig,ax \u001b[39m=\u001b[39m plt\u001b[39m.\u001b[39msubplots(\u001b[39m1\u001b[39m,\u001b[39m3\u001b[39m)\n\u001b[0;32m----> <a href='vscode-notebook-cell://ssh-remote%2Bcsd3/home/kw350/software/gdl/meld_classifier_GDL/notebooks/ensemble.ipynb#X35sdnNjb2RlLXJlbW90ZQ%3D%3D?line=1'>2</a>\u001b[0m ax[\u001b[39m0\u001b[39m]\u001b[39m.\u001b[39mimshow(trimmed_pv)\n\u001b[1;32m      <a href='vscode-notebook-cell://ssh-remote%2Bcsd3/home/kw350/software/gdl/meld_classifier_GDL/notebooks/ensemble.ipynb#X35sdnNjb2RlLXJlbW90ZQ%3D%3D?line=2'>3</a>\u001b[0m ax[\u001b[39m1\u001b[39m]\u001b[39m.\u001b[39mimshow(trimmed_graph)\n\u001b[1;32m      <a href='vscode-notebook-cell://ssh-remote%2Bcsd3/home/kw350/software/gdl/meld_classifier_GDL/notebooks/ensemble.ipynb#X35sdnNjb2RlLXJlbW90ZQ%3D%3D?line=3'>4</a>\u001b[0m ax[\u001b[39m2\u001b[39m]\u001b[39m.\u001b[39mimshow(trimmed_dist)\n",
      "\u001b[0;31mNameError\u001b[0m: name 'trimmed_pv' is not defined"
     ]
    },
    {
     "data": {
      "image/png": "[encoded data removed]",
      "text/plain": [
       "<Figure size 432x288 with 3 Axes>"
      ]
     },
     "metadata": {
      "needs_background": "light"
     },
     "output_type": "display_data"
    }
   ],
   "source": [
    "fig,ax = plt.subplots(1,3)\n",
    "ax[0].imshow(trimmed_pv)\n",
    "ax[1].imshow(trimmed_graph)\n",
    "ax[2].imshow(trimmed_dist)\n",
    "for ax in ax:\n",
    "    ax.axis('off')"
   ]
  },
  {
   "cell_type": "code",
   "execution_count": 1,
   "metadata": {},
   "outputs": [],
   "source": [
    "class EnsembleModel:\n",
    "    def __init__(self, model_path):\n",
    "        \"\"\"model path doesn't contain the fold bit. this is then looped over\"\"\"\n",
    "        #load models\n",
    "        self.models=[]\n",
    "        for fold in np.arange(10):\n",
    "            fold_path = os.path.join(model_path,f'fold_0{fold}')\n",
    "            exp = meld_graph.experiment.Experiment.from_folder(fold_path)\n",
    "            exp.load_model(\n",
    "                        checkpoint_path=os.path.join(fold_path, \"best_model.pt\"),\n",
    "                        force=True,\n",
    "                    )\n",
    "            self.models.append(exp.model)\n",
    "        self.network_parameters = exp.network_parameters\n",
    "\n",
    "    def predict(self,data):\n",
    "        \"\"\"function to predict and average\"\"\"\n",
    "        predictions=[]\n",
    "        distance_maps=[]\n",
    "        for model in self.models:\n",
    "            estimates = model(data)\n",
    "            predictions.append(torch.exp(estimates['log_softmax'])[:,1].numpy)\n",
    "            #get distance map if exist in loss, otherwise return array of NaN\n",
    "            if 'distance_regression' in self.network_parameters['training_parameters']['loss_dictionary'].keys():\n",
    "                distance_map = estimates['non_lesion_logits'][:,0]\n",
    "            else: \n",
    "                distance_map = torch.full((len(prediction),1), torch.nan)[:,0]\n",
    "            distance_maps = "
   ]
  },
  {
   "cell_type": "code",
   "execution_count": 7,
   "metadata": {},
   "outputs": [
    {
     "name": "stderr",
     "output_type": "stream",
     "text": [
      "Initialised Experiment 23-01-13_QXFB_kernel_GMM_fold/s_2\n",
      "Creating model\n",
      "Loading model weights from checkpoint /rds/project/kw350/rds-kw350-meld/experiments_graph/kw350/23-01-13_QXFB_kernel_GMM_fold/s_2/fold_00/best_model.pt\n",
      "Initialised Experiment 23-01-13_QXFB_kernel_GMM_fold/s_2\n",
      "Creating model\n",
      "Loading model weights from checkpoint /rds/project/kw350/rds-kw350-meld/experiments_graph/kw350/23-01-13_QXFB_kernel_GMM_fold/s_2/fold_01/best_model.pt\n",
      "Initialised Experiment 23-01-13_QXFB_kernel_GMM_fold/s_2\n",
      "Creating model\n",
      "Loading model weights from checkpoint /rds/project/kw350/rds-kw350-meld/experiments_graph/kw350/23-01-13_QXFB_kernel_GMM_fold/s_2/fold_02/best_model.pt\n",
      "Initialised Experiment 23-01-13_QXFB_kernel_GMM_fold/s_2\n",
      "Creating model\n",
      "Loading model weights from checkpoint /rds/project/kw350/rds-kw350-meld/experiments_graph/kw350/23-01-13_QXFB_kernel_GMM_fold/s_2/fold_03/best_model.pt\n",
      "Initialised Experiment 23-01-13_QXFB_kernel_GMM_fold/s_2\n",
      "Creating model\n",
      "Loading model weights from checkpoint /rds/project/kw350/rds-kw350-meld/experiments_graph/kw350/23-01-13_QXFB_kernel_GMM_fold/s_2/fold_04/best_model.pt\n",
      "Initialised Experiment 23-01-13_QXFB_kernel_GMM_fold/s_2\n",
      "Creating model\n",
      "Loading model weights from checkpoint /rds/project/kw350/rds-kw350-meld/experiments_graph/kw350/23-01-13_QXFB_kernel_GMM_fold/s_2/fold_05/best_model.pt\n",
      "Initialised Experiment 23-01-13_QXFB_kernel_GMM_fold/s_2\n",
      "Creating model\n",
      "Loading model weights from checkpoint /rds/project/kw350/rds-kw350-meld/experiments_graph/kw350/23-01-13_QXFB_kernel_GMM_fold/s_2/fold_06/best_model.pt\n",
      "Initialised Experiment 23-01-13_QXFB_kernel_GMM_fold/s_2\n",
      "Creating model\n",
      "Loading model weights from checkpoint /rds/project/kw350/rds-kw350-meld/experiments_graph/kw350/23-01-13_QXFB_kernel_GMM_fold/s_2/fold_07/best_model.pt\n",
      "Initialised Experiment 23-01-13_QXFB_kernel_GMM_fold/s_2\n",
      "Creating model\n",
      "Loading model weights from checkpoint /rds/project/kw350/rds-kw350-meld/experiments_graph/kw350/23-01-13_QXFB_kernel_GMM_fold/s_2/fold_08/best_model.pt\n",
      "Initialised Experiment 23-01-13_QXFB_kernel_GMM_fold/s_2\n",
      "Creating model\n",
      "Loading model weights from checkpoint /rds/project/kw350/rds-kw350-meld/experiments_graph/kw350/23-01-13_QXFB_kernel_GMM_fold/s_2/fold_09/best_model.pt\n"
     ]
    }
   ],
   "source": [
    "models=[]\n",
    "for fold in np.arange(10):\n",
    "    fold_path = os.path.join(model_path,f'fold_0{fold}')\n",
    "    exp = meld_graph.experiment.Experiment.from_folder(fold_path)\n",
    "    exp.load_model(\n",
    "                checkpoint_path=os.path.join(fold_path, \"best_model.pt\"),\n",
    "                force=True,\n",
    "            )\n",
    "    models.append(exp.model)"
   ]
  },
  {
   "cell_type": "code",
   "execution_count": 8,
   "metadata": {},
   "outputs": [
    {
     "ename": "NameError",
     "evalue": "name 'data' is not defined",
     "output_type": "error",
     "traceback": [
      "\u001b[0;31m---------------------------------------------------------------------------\u001b[0m",
      "\u001b[0;31mNameError\u001b[0m                                 Traceback (most recent call last)",
      "\u001b[1;32m/home/kw350/software/gdl/meld_classifier_GDL/notebooks/ensemble.ipynb Cell 4\u001b[0m in \u001b[0;36m<cell line: 1>\u001b[0;34m()\u001b[0m\n\u001b[0;32m----> <a href='vscode-notebook-cell://ssh-remote%2Blogin.hpc.cam.ac.uk/home/kw350/software/gdl/meld_classifier_GDL/notebooks/ensemble.ipynb#W3sdnNjb2RlLXJlbW90ZQ%3D%3D?line=0'>1</a>\u001b[0m models[\u001b[39m0\u001b[39m](data\u001b[39m.\u001b[39mx)\n",
      "\u001b[0;31mNameError\u001b[0m: name 'data' is not defined"
     ]
    }
   ],
   "source": []
  }
 ],
 "metadata": {
  "kernelspec": {
   "display_name": "meld_graph",
   "language": "python",
   "name": "meld_graph"
  },
  "language_info": {
   "codemirror_mode": {
    "name": "ipython",
    "version": 3
   },
   "file_extension": ".py",
   "mimetype": "text/x-python",
   "name": "python",
   "nbconvert_exporter": "python",
   "pygments_lexer": "ipython3",
   "version": "3.9.13"
  },
  "orig_nbformat": 4,
  "vscode": {
   "interpreter": {
    "hash": "31f2aee4e71d21fbe5cf8b01ff0e069b9275f58929596ceb00d14d90e3e16cd6"
   }
  }
 },
 "nbformat": 4,
 "nbformat_minor": 2
}
