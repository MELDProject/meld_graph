{
 "cells": [
  {
   "cell_type": "code",
   "execution_count": 1,
   "id": "3a6574c3",
   "metadata": {},
   "outputs": [
    {
     "name": "stdout",
     "output_type": "stream",
     "text": [
      "Setting MELD_DATA_PATH to /rds/user/kw350/rds-kw350-meld/meld_data/Data/\n",
      "Setting BASE_PATH to /rds/user/kw350/rds-kw350-meld/meld_data/Data/\n",
      "Setting EXPERIMENT_PATH to /rds/user/kw350/rds-kw350-meld/experiments/kw350/\n",
      "No fs_subjects_path defined in /home/kw350/software/gdl/meld_classifier/meld_config.ini!\n"
     ]
    }
   ],
   "source": [
    "#load predictions\n",
    "import os\n",
    "import h5py\n",
    "import numpy as np\n",
    "from meld_classifier.meld_cohort import MeldCohort, MeldSubject\n"
   ]
  },
  {
   "cell_type": "code",
   "execution_count": 2,
   "id": "9604b6c7",
   "metadata": {},
   "outputs": [],
   "source": [
    "predictions_file_1 = os.path.join('/rds/project/kw350',\n",
    "             'rds-kw350-meld/experiments',\n",
    "             'co-ripa1/iteration_21-09-15/ensemble_21-09-15',\n",
    "             'fold_all/results/',\n",
    "             'predictions_ensemble_iteration.hdf5')\n",
    "\n",
    "predictions_file_2 = os.path.join('/rds/project/kw350/rds-kw350-meld/experiments/co-ripa1',\n",
    "                                       'iteration_21-09-17/ensemble_21-09-20/fold_all/',\n",
    "                                       'results','predictions_ensemble_iteration.hdf5')"
   ]
  },
  {
   "cell_type": "code",
   "execution_count": 6,
   "id": "4ffdc2cf",
   "metadata": {},
   "outputs": [],
   "source": [
    "predictions_file = os.path.join('/rds/project/kw350/rds-kw350-meld',\n",
    "                                'experiments_graph/co-ripa1',\n",
    "                                '22-09-30_real_eval_datasetv6/results/predictions.hdf5')"
   ]
  },
  {
   "cell_type": "code",
   "execution_count": 5,
   "id": "ded03fb7",
   "metadata": {},
   "outputs": [],
   "source": [
    "def load_prediction(subject,hdf5):\n",
    "    results={}\n",
    "    with h5py.File(hdf5, \"r\") as f:\n",
    "        for hemi in ['lh','rh']:\n",
    "            results[hemi] = f[subject][hemi]['prediction'][:]\n",
    "    return results"
   ]
  },
  {
   "cell_type": "code",
   "execution_count": 9,
   "id": "4a764f3d",
   "metadata": {},
   "outputs": [],
   "source": [
    "with h5py.File(predictions_file, \"r\") as f:\n",
    "    subjects = list(f.keys())"
   ]
  },
  {
   "cell_type": "code",
   "execution_count": 10,
   "id": "75346ce9",
   "metadata": {},
   "outputs": [],
   "source": [
    "# with h5py.File(predictions_file_1, \"r\") as f:\n",
    "#     subjects1 = list(f.keys())\n",
    "# with h5py.File(predictions_file_2, \"r\") as f:\n",
    "#     subjects2 = list(f.keys())    \n",
    "    \n",
    "# subjects = np.unique(subjects1+subjects2)\n",
    "# subjects[0]"
   ]
  },
  {
   "cell_type": "code",
   "execution_count": 11,
   "id": "f4fc2cad",
   "metadata": {},
   "outputs": [],
   "source": [
    "c = MeldCohort(hdf5_file_root='{site_code}_{group}_featurematrix_combat_6.hdf5',\n",
    "               dataset='MELD_dataset_V6.csv')\n"
   ]
  },
  {
   "cell_type": "code",
   "execution_count": 18,
   "id": "e1b540bc",
   "metadata": {},
   "outputs": [],
   "source": [
    "def tp_fp_fn_tn(label,predictions):\n",
    "    tp = np.logical_and(label,predictions).sum()\n",
    "    fp = np.logical_and(predictions, ~label).sum()\n",
    "    fn = np.logical_and(~predictions, label).sum()\n",
    "    tn = np.logical_and(~predictions, ~label).sum()\n",
    "    return tp, fp, fn, tn"
   ]
  },
  {
   "cell_type": "code",
   "execution_count": 152,
   "id": "0ed2c950",
   "metadata": {},
   "outputs": [
    {
     "name": "stdout",
     "output_type": "stream",
     "text": [
      "0.0\n"
     ]
    }
   ],
   "source": [
    "stored_scores = [[],[],[],[],[],[]]\n",
    "features=[]\n",
    "threshes = [0.2,0.3,0.35,0.4,0.45]\n",
    "for si,subject in enumerate(subjects):\n",
    "    if si%100==0:\n",
    "        print(si/len(subjects))\n",
    "        \n",
    "    results=[]\n",
    "    try:\n",
    "        hdf_predictions = os.path.join('/rds/project/kw350/rds-kw350-meld/experiments/co-ripa1',\n",
    "                                       'iteration_21-09-15/ensemble_21-09-15/fold_all/',\n",
    "                                       'results','predictions_ensemble_iteration.hdf5')\n",
    "        result_hemis = load_prediction(subject,hdf_predictions)\n",
    "        results.append(result_hemis)\n",
    "    except KeyError:\n",
    "        hdf_predictions = os.path.join('/rds/project/kw350/rds-kw350-meld/experiments/co-ripa1',\n",
    "                                       'iteration_21-09-17/ensemble_21-09-20/fold_all/',\n",
    "                                       'results','predictions_ensemble_iteration.hdf5')\n",
    "        result_hemis = load_prediction(subject,hdf_predictions)\n",
    "        results.append(result_hemis)\n",
    "        \n",
    "    new_result_hemis = load_prediction(subject,predictions_file)\n",
    "    for t in threshes:\n",
    "        ti={}\n",
    "        for hemi in ['lh','rh']:\n",
    "            ti[hemi]=new_result_hemis[hemi]>t\n",
    "        \n",
    "        results.append(ti)\n",
    "    labels_hemis = {}\n",
    "    \n",
    "    subj = MeldSubject(subject,cohort=c)\n",
    "    detected = False\n",
    "    stats_stored = np.zeros((len(results),4))\n",
    "    \n",
    "    for hemi in ['lh','rh']:\n",
    "        _, label = subj.load_feature_lesion_data(\n",
    "            features, hemi=hemi, features_to_ignore=[]\n",
    "        )\n",
    "        for ri,r in enumerate(results):\n",
    "            scores = tp_fp_fn_tn(label[c.cortex_mask],r[hemi])\n",
    "            stats_stored[ri] +=scores\n",
    "            \n",
    "    \n",
    "        \n",
    "        \n",
    "#     dice_lesion = np.nan_to_num((2*tp)/(2*tp+fn+fp))\n",
    "#     dice_nonlesion = (2*tn)/(2*tn+fn+fp)\n",
    "    for ri,r in enumerate(results):\n",
    "        stored_scores[ri].append([subject,subj.is_patient])\n",
    "        stored_scores[ri][-1].extend(list(stats_stored[ri]))\n",
    "    "
   ]
  },
  {
   "cell_type": "code",
   "execution_count": 186,
   "id": "6abc2813",
   "metadata": {},
   "outputs": [],
   "source": [
    "def dices(scores):\n",
    "    dices_lesion = np.nan_to_num((2*scores[0])/(2*scores[0]+scores[1]+scores[2]))\n",
    "    dices_nonlesion = np.nan_to_num((2*scores[3])/(2*scores[3]+scores[1]+scores[2]))\n",
    "    return dices_lesion,dices_nonlesion\n",
    "\n",
    "def add_dice_spec_and_sens(df):\n",
    "    df['Dice_lesion'],df['Dice_nonlesion'], = dices(df[['TP','FP','FN','TN']].values.T)\n",
    "    df['Detected'] = df['TP']>0\n",
    "    sensitivity = np.mean(df['Detected'][df['Group']])\n",
    "    fps = df['FP']>0\n",
    "    specificity = np.mean(fps[~df['Group']]==0)\n",
    "    mean_dice = np.mean(df['Dice_lesion'][df['Group']])\n",
    "    mean_dice_non = np.mean(df['Dice_nonlesion'])\n",
    "    return df, sensitivity, specificity,mean_dice, mean_dice_non"
   ]
  },
  {
   "cell_type": "code",
   "execution_count": 187,
   "id": "018d335b",
   "metadata": {},
   "outputs": [],
   "source": [
    "import pandas as pd\n",
    "import scipy.stats as st"
   ]
  },
  {
   "cell_type": "code",
   "execution_count": 188,
   "id": "80c65dcf",
   "metadata": {},
   "outputs": [
    {
     "name": "stderr",
     "output_type": "stream",
     "text": [
      "/tmp/ipykernel_250670/3877210344.py:2: RuntimeWarning: invalid value encountered in true_divide\n",
      "  dices_lesion = np.nan_to_num((2*scores[0])/(2*scores[0]+scores[1]+scores[2]))\n",
      "/tmp/ipykernel_250670/3877210344.py:2: RuntimeWarning: invalid value encountered in true_divide\n",
      "  dices_lesion = np.nan_to_num((2*scores[0])/(2*scores[0]+scores[1]+scores[2]))\n"
     ]
    }
   ],
   "source": [
    "stored_dices = []\n",
    "stored_nondice = []\n",
    "sensitivities = []\n",
    "specificities = []\n",
    "for s in stored_scores:\n",
    "    df_old = pd.DataFrame(s,columns=['Subject ID','Group',\n",
    "                                          'TP','FP','FN','TN',])\n",
    "    df_old,sensitivity,specificity,mean_dice,mean_non_dice = add_dice_spec_and_sens(df_old)\n",
    "    stored_dices.append(mean_dice)\n",
    "    stored_nondice.append(mean_non_dice)\n",
    "    sensitivities.append(sensitivity)\n",
    "    specificities.append(specificity)"
   ]
  },
  {
   "cell_type": "code",
   "execution_count": 189,
   "id": "98542921",
   "metadata": {},
   "outputs": [
    {
     "data": {
      "text/plain": [
       "[0.5384615384615384, 0.0, 0.0, 0.0, 0.0, 0.5384615384615384]"
      ]
     },
     "execution_count": 189,
     "metadata": {},
     "output_type": "execute_result"
    }
   ],
   "source": [
    "specificities"
   ]
  },
  {
   "cell_type": "code",
   "execution_count": 190,
   "id": "ff92c699",
   "metadata": {},
   "outputs": [
    {
     "data": {
      "text/plain": [
       "<matplotlib.legend.Legend at 0x2ace960d4280>"
      ]
     },
     "execution_count": 190,
     "metadata": {},
     "output_type": "execute_result"
    },
    {
     "data": {
      "image/png": "[encoded data removed]",
      "text/plain": [
       "<Figure size 432x288 with 2 Axes>"
      ]
     },
     "metadata": {
      "needs_background": "light"
     },
     "output_type": "display_data"
    }
   ],
   "source": [
    "import matplotlib.pyplot as plt\n",
    "fig,ax = plt.subplots(1,2)\n",
    "ax[0].plot(threshes,stored_dices[1:],)\n",
    "ax[0].plot([threshes[0],threshes[-1]],[stored_dices[0],stored_dices[0]],label='vertex classifier')\n",
    "ax[0].set_xlabel('Thresholds')\n",
    "ax[0].set_ylabel('Dice')\n",
    "\n",
    "ax[0].set_title(\"Dice lesion\")\n",
    "#,stored_nondice\n",
    "ax[1].plot(threshes,stored_nondice[1:],)\n",
    "ax[1].plot([threshes[0],threshes[-1]],[stored_nondice[0],stored_nondice[0]])\n",
    "#,stored_nondice\n",
    "ax[1].set_xlabel('Thresholds')\n",
    "ax[1].set_title(\"Dice nonlesion\")\n",
    "fig.legend()"
   ]
  },
  {
   "cell_type": "code",
   "execution_count": 194,
   "id": "caff5ed7",
   "metadata": {},
   "outputs": [
    {
     "data": {
      "text/plain": [
       "<matplotlib.legend.Legend at 0x2ace961d4e80>"
      ]
     },
     "execution_count": 194,
     "metadata": {},
     "output_type": "execute_result"
    },
    {
     "data": {
      "image/png": "[encoded data removed]",
      "text/plain": [
       "<Figure size 432x288 with 2 Axes>"
      ]
     },
     "metadata": {
      "needs_background": "light"
     },
     "output_type": "display_data"
    }
   ],
   "source": [
    "import matplotlib.pyplot as plt\n",
    "fig,ax = plt.subplots(1,2)\n",
    "ax[0].plot(threshes,sensitivities[1:],)\n",
    "ax[0].plot([threshes[0],threshes[-1]],[sensitivities[0],sensitivities[0]],label='vertex classifier')\n",
    "ax[0].set_xlabel('Thresholds')\n",
    "ax[0].set_ylabel('Dice')\n",
    "\n",
    "ax[0].set_title(\"Sensitivity\")\n",
    "#,stored_nondice\n",
    "ax[1].plot(threshes,specificities[1:],)\n",
    "ax[1].plot([threshes[0],threshes[-1]],[specificities[0],specificities[0]])\n",
    "#,stored_nondice\n",
    "ax[1].set_xlabel('Thresholds')\n",
    "ax[1].set_title(\"Specificity\")\n",
    "fig.legend()"
   ]
  },
  {
   "cell_type": "code",
   "execution_count": 195,
   "id": "94d08cfe",
   "metadata": {},
   "outputs": [
    {
     "data": {
      "text/plain": [
       "[0.59375, 1.0, 0.875, 0.78125, 0.59375, 0.5]"
      ]
     },
     "execution_count": 195,
     "metadata": {},
     "output_type": "execute_result"
    }
   ],
   "source": [
    "sensitivities"
   ]
  },
  {
   "cell_type": "code",
   "execution_count": 196,
   "id": "7d15854f",
   "metadata": {},
   "outputs": [
    {
     "data": {
      "text/plain": [
       "[0.5384615384615384, 0.0, 0.0, 0.0, 0.0, 0.5384615384615384]"
      ]
     },
     "execution_count": 196,
     "metadata": {},
     "output_type": "execute_result"
    }
   ],
   "source": [
    "specificities"
   ]
  },
  {
   "cell_type": "code",
   "execution_count": null,
   "id": "c8db2a25",
   "metadata": {},
   "outputs": [],
   "source": []
  }
 ],
 "metadata": {
  "kernelspec": {
   "display_name": "meld_graph",
   "language": "python",
   "name": "meld_graph"
  },
  "language_info": {
   "codemirror_mode": {
    "name": "ipython",
    "version": 3
   },
   "file_extension": ".py",
   "mimetype": "text/x-python",
   "name": "python",
   "nbconvert_exporter": "python",
   "pygments_lexer": "ipython3",
   "version": "3.9.13"
  }
 },
 "nbformat": 4,
 "nbformat_minor": 5
}
