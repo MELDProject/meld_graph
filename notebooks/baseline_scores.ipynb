{
 "cells": [
  {
   "cell_type": "code",
   "execution_count": 37,
   "id": "3a6574c3",
   "metadata": {},
   "outputs": [
    {
     "name": "stdout",
     "output_type": "stream",
     "text": [
      "Setting MELD_DATA_PATH to /rds/user/kw350/rds-kw350-meld/meld_data/Data/\n",
      "Setting BASE_PATH to /rds/user/kw350/rds-kw350-meld/meld_data/Data/\n",
      "Setting EXPERIMENT_PATH to /rds/user/kw350/rds-kw350-meld/experiments/kw350/\n",
      "No fs_subjects_path defined in /home/kw350/software/gdl/meld_classifier/meld_config.ini!\n"
     ]
    }
   ],
   "source": [
    "#load predictions\n",
    "import os\n",
    "import h5py\n",
    "import numpy as np\n",
    "from meld_classifier.meld_cohort import MeldCohort, MeldSubject\n"
   ]
  },
  {
   "cell_type": "code",
   "execution_count": 41,
   "id": "9604b6c7",
   "metadata": {},
   "outputs": [],
   "source": [
    "predictions_file_1 = os.path.join('/rds/project/kw350',\n",
    "             'rds-kw350-meld/experiments',\n",
    "             'co-ripa1/iteration_21-09-15/ensemble_21-09-15',\n",
    "             'fold_all/results/',\n",
    "             'predictions_ensemble_iteration.hdf5')\n",
    "\n",
    "predictions_file_2 = os.path.join('/rds/project/kw350/rds-kw350-meld/experiments/co-ripa1',\n",
    "                                       'iteration_21-09-17/ensemble_21-09-20/fold_all/',\n",
    "                                       'results','predictions_ensemble_iteration.hdf5')"
   ]
  },
  {
   "cell_type": "code",
   "execution_count": 33,
   "id": "ded03fb7",
   "metadata": {},
   "outputs": [],
   "source": [
    "def load_prediction(subject,hdf5):\n",
    "    results={}\n",
    "    with h5py.File(hdf5, \"r\") as f:\n",
    "        for hemi in ['lh','rh']:\n",
    "            results[hemi] = f[subject][hemi]['prediction'][:]\n",
    "    return results"
   ]
  },
  {
   "cell_type": "code",
   "execution_count": 49,
   "id": "75346ce9",
   "metadata": {},
   "outputs": [
    {
     "data": {
      "text/plain": [
       "'MELD2_H7_3T_FCD_001'"
      ]
     },
     "execution_count": 49,
     "metadata": {},
     "output_type": "execute_result"
    }
   ],
   "source": [
    "with h5py.File(predictions_file_1, \"r\") as f:\n",
    "    subjects1 = list(f.keys())\n",
    "with h5py.File(predictions_file_2, \"r\") as f:\n",
    "    subjects2 = list(f.keys())    \n",
    "    \n",
    "subjects = np.unique(subjects1+subjects2)\n",
    "subjects[0]"
   ]
  },
  {
   "cell_type": "code",
   "execution_count": 39,
   "id": "f4fc2cad",
   "metadata": {},
   "outputs": [],
   "source": [
    "c = MeldCohort(hdf5_file_root='{site_code}_{group}_featurematrix_combat_6.hdf5',\n",
    "               dataset='MELD_dataset_V6.csv')\n"
   ]
  },
  {
   "cell_type": "code",
   "execution_count": 100,
   "id": "0ed2c950",
   "metadata": {},
   "outputs": [
    {
     "name": "stdout",
     "output_type": "stream",
     "text": [
      "0.0\n"
     ]
    },
    {
     "name": "stderr",
     "output_type": "stream",
     "text": [
      "/tmp/ipykernel_182058/304668961.py:34: RuntimeWarning: invalid value encountered in long_scalars\n",
      "  dice_lesion = np.nan_to_num((2*tp)/(2*tp+fn+fp))\n"
     ]
    },
    {
     "name": "stdout",
     "output_type": "stream",
     "text": [
      "0.10976948408342481\n",
      "0.21953896816684962\n",
      "0.32930845225027444\n",
      "0.43907793633369924\n",
      "0.5488474204171241\n",
      "0.6586169045005489\n",
      "0.7683863885839737\n",
      "0.8781558726673985\n",
      "0.9879253567508233\n"
     ]
    }
   ],
   "source": [
    "results = []\n",
    "features=[]\n",
    "for si,subject in enumerate(subjects):\n",
    "    if si%100==0:\n",
    "        print(si/len(subjects))\n",
    "    try:\n",
    "        hdf_predictions = os.path.join('/rds/project/kw350/rds-kw350-meld/experiments/co-ripa1',\n",
    "                                       'iteration_21-09-15/ensemble_21-09-15/fold_all/',\n",
    "                                       'results','predictions_ensemble_iteration.hdf5')\n",
    "        result_hemis = load_prediction(subject,hdf_predictions)\n",
    "    except KeyError:\n",
    "        hdf_predictions = os.path.join('/rds/project/kw350/rds-kw350-meld/experiments/co-ripa1',\n",
    "                                       'iteration_21-09-17/ensemble_21-09-20/fold_all/',\n",
    "                                       'results','predictions_ensemble_iteration.hdf5')\n",
    "        result_hemis = load_prediction(subject,hdf_predictions)\n",
    "    labels_hemis = {}\n",
    "    \n",
    "    subj = MeldSubject(subject,cohort=c)\n",
    "    detected = False\n",
    "    tp=0\n",
    "    fp=0\n",
    "    fn=0\n",
    "    tn=0\n",
    "    for hemi in ['lh','rh']:\n",
    "        _, labels_hemis[hemi] = subj.load_feature_lesion_data(\n",
    "            features, hemi=hemi, features_to_ignore=[]\n",
    "        )\n",
    "        tp += np.logical_and(labels_hemis[hemi][c.cortex_mask],result_hemis[hemi]).sum()\n",
    "        detected += tp>0\n",
    "        fp += np.logical_and(result_hemis[hemi], ~labels_hemis[hemi][c.cortex_mask]).sum()\n",
    "        fn += np.logical_and(~result_hemis[hemi], labels_hemis[hemi][c.cortex_mask]).sum()\n",
    "        tn += np.logical_and(~result_hemis[hemi], ~labels_hemis[hemi][c.cortex_mask]).sum()\n",
    "    \n",
    "    dice_lesion = np.nan_to_num((2*tp)/(2*tp+fn+fp))\n",
    "    dice_nonlesion = (2*tn)/(2*tn+fn+fp)\n",
    "    results.append([subject,subj.is_patient,\n",
    "                    detected,tp,fn,fp,tn,dice_lesion,dice_nonlesion])"
   ]
  },
  {
   "cell_type": "code",
   "execution_count": 104,
   "id": "018d335b",
   "metadata": {},
   "outputs": [],
   "source": [
    "import pandas as pd"
   ]
  },
  {
   "cell_type": "code",
   "execution_count": 105,
   "id": "a8655b20",
   "metadata": {},
   "outputs": [],
   "source": [
    "df=pd.DataFrame(results,columns=['Subject ID','Group','Detected','TP','FN','FP','TN','Dice_lesion','Dice_nonlesion'])"
   ]
  },
  {
   "cell_type": "code",
   "execution_count": 113,
   "id": "200fdea6",
   "metadata": {},
   "outputs": [
    {
     "data": {
      "text/plain": [
       "0.14114419608257986"
      ]
     },
     "execution_count": 113,
     "metadata": {},
     "output_type": "execute_result"
    }
   ],
   "source": [
    "np.mean(df[df.Group]['Dice_lesion'])"
   ]
  },
  {
   "cell_type": "code",
   "execution_count": 115,
   "id": "94d08cfe",
   "metadata": {},
   "outputs": [
    {
     "data": {
      "text/plain": [
       "Text(0.5, 0, 'Dice lesion')"
      ]
     },
     "execution_count": 115,
     "metadata": {},
     "output_type": "execute_result"
    },
    {
     "data": {
      "image/png": "[encoded data removed]",
      "text/plain": [
       "<Figure size 432x288 with 1 Axes>"
      ]
     },
     "metadata": {
      "needs_background": "light"
     },
     "output_type": "display_data"
    }
   ],
   "source": [
    "import matplotlib.pyplot as plt\n",
    "plt.hist(df[df.Group]['Dice_lesion'],20);\n",
    "plt.xlabel('Dice lesion')"
   ]
  },
  {
   "cell_type": "code",
   "execution_count": null,
   "id": "7d15854f",
   "metadata": {},
   "outputs": [],
   "source": []
  }
 ],
 "metadata": {
  "kernelspec": {
   "display_name": "meld_graph",
   "language": "python",
   "name": "meld_graph"
  },
  "language_info": {
   "codemirror_mode": {
    "name": "ipython",
    "version": 3
   },
   "file_extension": ".py",
   "mimetype": "text/x-python",
   "name": "python",
   "nbconvert_exporter": "python",
   "pygments_lexer": "ipython3",
   "version": "3.9.13"
  }
 },
 "nbformat": 4,
 "nbformat_minor": 5
}
