{
 "cells": [
  {
   "cell_type": "code",
   "execution_count": 6,
   "metadata": {},
   "outputs": [],
   "source": [
    "import pickle\n",
    "import os\n",
    "import numpy as np"
   ]
  },
  {
   "cell_type": "code",
   "execution_count": 7,
   "metadata": {},
   "outputs": [],
   "source": [
    "model_paths = {\n",
    "    'mae':'/rds/project/kw350/rds-kw350-meld/experiments_graph/kw350/23-01-13_UPEU_dcd_mae_fold/s_2',\n",
    "    'mle':'/rds/project/kw350/rds-kw350-meld/experiments_graph/kw350/23-01-13_UPEU_dcd_mle_fold/s_2',\n",
    "    'maew':'/rds/project/kw350/rds-kw350-meld/experiments_graph/kw350/23-01-13_UPEU_dcd_maew_fold/s_2',\n",
    "   # 'mae_seg_loss':'/rds/project/kw350/rds-kw350-meld/experiments_graph/kw350/23-01-17_SJWC_additional_mae_loss/s_2/'\n",
    "}\n",
    "model_paths = {\n",
    "   'gmm':'/rds/project/kw350/rds-kw350-meld/experiments_graph/kw350/23-01-13_QXFB_kernel_GMM_fold/s_2',\n",
    "   'spiral':'/rds/project/kw350/rds-kw350-meld/experiments_graph/kw350/23-01-13_QXFB_kernel_spiral_fold/s_2',\n",
    "}\n",
    "\n",
    "model_paths = {\n",
    "   'baseline':'/home/kw350/software/gdl/meld_classifier_GDL/scripts/experiments_folder/23-02-09_MYCZ_baseline/s_2/',\n",
    "   'mask_augmentation':'/home/kw350/software/gdl/meld_classifier_GDL/scripts/experiments_folder/23-02-09_MYCZ_mask_augmentation/s_2/',\n",
    "   'smooth_labels':'/home/kw350/software/gdl/meld_classifier_GDL/scripts/experiments_folder/23-02-09_MYCZ_smooth_labels/s_2/',\n",
    "   'no_finetuning':'/home/kw350/software/gdl/meld_classifier_GDL/scripts/experiments_folder/23-02-08_HAYI_no_finetuning/s_0/',\n",
    "'classification_deep':'/home/kw350/software/gdl/meld_classifier_GDL/scripts/experiments_folder/23-02-09_MHYH_classification_deep/s_2',\n",
    "'classification_nondeep':'/home/kw350/software/gdl/meld_classifier_GDL/scripts/experiments_folder/23-02-09_MHYH_classification_non_deep/s_2',\n",
    "\n",
    "\n",
    "}\n",
    "model_paths = {\n",
    "       'baseline_dcd':'/rds/project/kw350/rds-kw350-meld/experiments_graph/kw350/23-02-21_UBBV_baseline_dcd/s_2/',\n",
    "    'fine_dist_mask':'/home/kw350/software/gdl/meld_classifier_GDL/scripts/experiments_folder/23-02-20_DYTG_fine_dist_mask_aug/s_2',\n",
    "   '+classification'  :    '/home/kw350/software/gdl/meld_classifier_GDL/scripts/experiments_folder/23-02-20_DYTG_full_classification/s_2',\n",
    "   'baseline_dcd_loss_stop':'/rds/project/kw350/rds-kw350-meld/experiments_graph/co-spit1/23-02-17_LOHR_baseline_dcd/s_2/',\n",
    "    'fine_dist_mask_loss_stop':'/home/kw350/software/gdl/meld_classifier_GDL/scripts/experiments_folder/old_full/s_2',\n",
    "   '+classification_loss_stop'  :    '/home/kw350/software/gdl/meld_classifier_GDL/scripts/experiments_folder/old_full_class/s_2',\n",
    "\n",
    "}\n",
    "\n",
    "model_paths = {'nnunet':'/rds/project/kw350/rds-kw350-meld/experiments_graph/kw350/23-02-22_DHAM_nnunet/s_0',\n",
    "               '+distance':'/rds/project/kw350/rds-kw350-meld/experiments_graph/kw350/23-02-22_DHAM_distance/s_0',\n",
    "               '+finetuning':'/rds/project/kw350/rds-kw350-meld/experiments_graph/kw350/23-02-22_DEDL_finetuning/s_2',\n",
    "               '+classification':'/rds/project/kw350/rds-kw350-meld/experiments_graph/kw350/23-02-22_DHAM_classification/s_0',\n",
    "               '+large_augmentation':'/rds/project/kw350/rds-kw350-meld/experiments_graph/kw350/23-02-22_DHAM_large_augmentation/s_0',\n",
    "               '+mask_augmentation':'/rds/project/kw350/rds-kw350-meld/experiments_graph/kw350/23-02-22_DHAM_mask_augmentation/s_0',\n",
    "               'full_model':'/rds/project/kw350/rds-kw350-meld/experiments_graph/kw350/23-02-22_DEDL_finetuning_classification_mask_large/s_2',\n",
    "}"
   ]
  },
  {
   "cell_type": "code",
   "execution_count": 8,
   "metadata": {},
   "outputs": [],
   "source": [
    "aucs = []\n",
    "labels= [] \n",
    "for model in model_paths.keys():\n",
    "    \n",
    "    for fold in np.arange(5):\n",
    "        fname = os.path.join(model_paths[model],f'fold_0{fold}','results','roc_auc.pickle')\n",
    "        with open(fname, 'rb') as handle:\n",
    "            b = pickle.load(handle)\n",
    "        # optimal_threshold(b)\n",
    "        \n",
    "        aucs.append(b['auc_plus'])\n",
    "        labels.append(model)\n",
    "\n"
   ]
  },
  {
   "cell_type": "code",
   "execution_count": 9,
   "metadata": {},
   "outputs": [],
   "source": [
    "import ptitprince as pt\n",
    "import pandas as pd\n",
    "import scipy.stats as st\n",
    "import matplotlib.pyplot as plt\n"
   ]
  },
  {
   "cell_type": "code",
   "execution_count": 14,
   "metadata": {},
   "outputs": [
    {
     "data": {
      "text/html": [
       "<div>\n",
       "<style scoped>\n",
       "    .dataframe tbody tr th:only-of-type {\n",
       "        vertical-align: middle;\n",
       "    }\n",
       "\n",
       "    .dataframe tbody tr th {\n",
       "        vertical-align: top;\n",
       "    }\n",
       "\n",
       "    .dataframe thead th {\n",
       "        text-align: right;\n",
       "    }\n",
       "</style>\n",
       "<table border=\"1\" class=\"dataframe\">\n",
       "  <thead>\n",
       "    <tr style=\"text-align: right;\">\n",
       "      <th></th>\n",
       "      <th>index</th>\n",
       "      <th>AUC</th>\n",
       "      <th>models</th>\n",
       "    </tr>\n",
       "  </thead>\n",
       "  <tbody>\n",
       "    <tr>\n",
       "      <th>0</th>\n",
       "      <td>30</td>\n",
       "      <td>0.803231</td>\n",
       "      <td>full_model</td>\n",
       "    </tr>\n",
       "    <tr>\n",
       "      <th>1</th>\n",
       "      <td>31</td>\n",
       "      <td>0.742647</td>\n",
       "      <td>full_model</td>\n",
       "    </tr>\n",
       "    <tr>\n",
       "      <th>2</th>\n",
       "      <td>32</td>\n",
       "      <td>0.677694</td>\n",
       "      <td>full_model</td>\n",
       "    </tr>\n",
       "    <tr>\n",
       "      <th>3</th>\n",
       "      <td>33</td>\n",
       "      <td>0.721237</td>\n",
       "      <td>full_model</td>\n",
       "    </tr>\n",
       "    <tr>\n",
       "      <th>4</th>\n",
       "      <td>34</td>\n",
       "      <td>0.680589</td>\n",
       "      <td>full_model</td>\n",
       "    </tr>\n",
       "  </tbody>\n",
       "</table>\n",
       "</div>"
      ],
      "text/plain": [
       "   index       AUC      models\n",
       "0     30  0.803231  full_model\n",
       "1     31  0.742647  full_model\n",
       "2     32  0.677694  full_model\n",
       "3     33  0.721237  full_model\n",
       "4     34  0.680589  full_model"
      ]
     },
     "execution_count": 14,
     "metadata": {},
     "output_type": "execute_result"
    }
   ],
   "source": [
    "df[df['models']=='full_model'].reset_index()"
   ]
  },
  {
   "cell_type": "code",
   "execution_count": 10,
   "metadata": {},
   "outputs": [
    {
     "data": {
      "image/png": "[encoded data removed]",
      "text/plain": [
       "<Figure size 720x360 with 1 Axes>"
      ]
     },
     "metadata": {
      "needs_background": "light"
     },
     "output_type": "display_data"
    }
   ],
   "source": [
    "df = pd.DataFrame(np.vstack([aucs,labels]).T,columns=['AUC','models'],)\n",
    "\n",
    "df['AUC'] = df['AUC'].astype(float)\n",
    "fig, ax = plt.subplots(1,1,figsize=(10,5))\n",
    "pt.RainCloud(data=df, x='models',y='AUC',ax=ax)\n",
    "ttests = np.zeros((len(model_paths.keys()),len(model_paths.keys())))\n",
    "for m_i,model in enumerate(model_paths.keys()):\n",
    "    for m2_i,model2 in enumerate(model_paths.keys()):\n",
    "        ttests[m_i,m2_i] = st.ttest_rel(df['AUC'][df['models']==model],\n",
    "        df['AUC'][df['models']==model2]\n",
    "        )[0]"
   ]
  },
  {
   "cell_type": "code",
   "execution_count": 8,
   "metadata": {},
   "outputs": [
    {
     "data": {
      "text/plain": [
       "<matplotlib.image.AxesImage at 0x2b968ed7e880>"
      ]
     },
     "execution_count": 8,
     "metadata": {},
     "output_type": "execute_result"
    },
    {
     "data": {
      "image/png": "[encoded data removed]",
      "text/plain": [
       "<Figure size 288x288 with 1 Axes>"
      ]
     },
     "metadata": {
      "needs_background": "light"
     },
     "output_type": "display_data"
    }
   ],
   "source": [
    "plt.matshow(np.nan_to_num(ttests),cmap='bwr')"
   ]
  },
  {
   "cell_type": "code",
   "execution_count": 84,
   "metadata": {},
   "outputs": [
    {
     "data": {
      "text/plain": [
       "[<matplotlib.lines.Line2D at 0x2b98c12fe3a0>]"
      ]
     },
     "execution_count": 84,
     "metadata": {},
     "output_type": "execute_result"
    },
    {
     "data": {
      "image/png": "[encoded data removed]",
      "text/plain": [
       "<Figure size 432x288 with 1 Axes>"
      ]
     },
     "metadata": {
      "needs_background": "light"
     },
     "output_type": "display_data"
    }
   ],
   "source": [
    "youden = b['sensitivity_plus']/max(b['sensitivity_plus'])+b['specificity']/max(b['specificity'])\n",
    "\n",
    "plt.plot(b['thresholds'],youden)"
   ]
  },
  {
   "cell_type": "code",
   "execution_count": 9,
   "metadata": {},
   "outputs": [],
   "source": [
    "def optimal_threshold(b):\n",
    "    youden = b['sensitivity_plus']/max(b['sensitivity_plus'])+b['specificity']/max(b['specificity'])\n",
    "    optimal_thresh = b['thresholds'][np.max(np.where(youden==np.max(youden)))]\n",
    "    print(optimal_thresh)"
   ]
  },
  {
   "cell_type": "code",
   "execution_count": null,
   "metadata": {},
   "outputs": [],
   "source": []
  }
 ],
 "metadata": {
  "kernelspec": {
   "display_name": "meld_graph",
   "language": "python",
   "name": "meld_graph"
  },
  "language_info": {
   "codemirror_mode": {
    "name": "ipython",
    "version": 3
   },
   "file_extension": ".py",
   "mimetype": "text/x-python",
   "name": "python",
   "nbconvert_exporter": "python",
   "pygments_lexer": "ipython3",
   "version": "3.9.13"
  },
  "orig_nbformat": 4,
  "vscode": {
   "interpreter": {
    "hash": "31f2aee4e71d21fbe5cf8b01ff0e069b9275f58929596ceb00d14d90e3e16cd6"
   }
  }
 },
 "nbformat": 4,
 "nbformat_minor": 2
}
