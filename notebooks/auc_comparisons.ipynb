{
 "cells": [
  {
   "cell_type": "code",
   "execution_count": 1,
   "metadata": {},
   "outputs": [],
   "source": [
    "import pickle\n",
    "import os\n",
    "import numpy as np\n",
    "import pandas as pd"
   ]
  },
  {
   "cell_type": "code",
   "execution_count": 2,
   "metadata": {},
   "outputs": [],
   "source": [
    "model_paths = {\n",
    "    'mae':'/rds/project/kw350/rds-kw350-meld/experiments_graph/kw350/23-01-13_UPEU_dcd_mae_fold/s_2',\n",
    "    'mle':'/rds/project/kw350/rds-kw350-meld/experiments_graph/kw350/23-01-13_UPEU_dcd_mle_fold/s_2',\n",
    "    'maew':'/rds/project/kw350/rds-kw350-meld/experiments_graph/kw350/23-01-13_UPEU_dcd_maew_fold/s_2',\n",
    "   # 'mae_seg_loss':'/rds/project/kw350/rds-kw350-meld/experiments_graph/kw350/23-01-17_SJWC_additional_mae_loss/s_2/'\n",
    "}\n",
    "model_paths = {\n",
    "   'gmm':'/rds/project/kw350/rds-kw350-meld/experiments_graph/kw350/23-01-13_QXFB_kernel_GMM_fold/s_2',\n",
    "   'spiral':'/rds/project/kw350/rds-kw350-meld/experiments_graph/kw350/23-01-13_QXFB_kernel_spiral_fold/s_2',\n",
    "}\n",
    "\n",
    "model_paths = {\n",
    "   'baseline':'/home/kw350/software/gdl/meld_classifier_GDL/scripts/experiments_folder/23-02-09_MYCZ_baseline/s_2/',\n",
    "   'mask_augmentation':'/home/kw350/software/gdl/meld_classifier_GDL/scripts/experiments_folder/23-02-09_MYCZ_mask_augmentation/s_2/',\n",
    "   'smooth_labels':'/home/kw350/software/gdl/meld_classifier_GDL/scripts/experiments_folder/23-02-09_MYCZ_smooth_labels/s_2/',\n",
    "   'no_finetuning':'/home/kw350/software/gdl/meld_classifier_GDL/scripts/experiments_folder/23-02-08_HAYI_no_finetuning/s_0/',\n",
    "'classification_deep':'/home/kw350/software/gdl/meld_classifier_GDL/scripts/experiments_folder/23-02-09_MHYH_classification_deep/s_2',\n",
    "'classification_nondeep':'/home/kw350/software/gdl/meld_classifier_GDL/scripts/experiments_folder/23-02-09_MHYH_classification_non_deep/s_2',\n",
    "\n",
    "\n",
    "}\n",
    "model_paths = {\n",
    "       'baseline_dcd':'/rds/project/kw350/rds-kw350-meld/experiments_graph/kw350/23-02-21_UBBV_baseline_dcd/s_2/',\n",
    "    'fine_dist_mask':'/home/kw350/software/gdl/meld_classifier_GDL/scripts/experiments_folder/23-02-20_DYTG_fine_dist_mask_aug/s_2',\n",
    "   '+classification'  :    '/home/kw350/software/gdl/meld_classifier_GDL/scripts/experiments_folder/23-02-20_DYTG_full_classification/s_2',\n",
    "   'baseline_dcd_loss_stop':'/rds/project/kw350/rds-kw350-meld/experiments_graph/co-spit1/23-02-17_LOHR_baseline_dcd/s_2/',\n",
    "    'fine_dist_mask_loss_stop':'/home/kw350/software/gdl/meld_classifier_GDL/scripts/experiments_folder/old_full/s_2',\n",
    "   '+classification_loss_stop'  :    '/home/kw350/software/gdl/meld_classifier_GDL/scripts/experiments_folder/old_full_class/s_2',\n",
    "\n",
    "}\n",
    "\n",
    "model_paths = {'nnunet':'/rds/project/kw350/rds-kw350-meld/experiments_graph/kw350/23-02-22_DHAM_nnunet/s_0',\n",
    "               '+distance':'/rds/project/kw350/rds-kw350-meld/experiments_graph/kw350/23-02-22_DHAM_distance/s_0',\n",
    "               '+finetuning':'/rds/project/kw350/rds-kw350-meld/experiments_graph/kw350/23-02-22_DEDL_finetuning/s_2',\n",
    "               '+classification':'/rds/project/kw350/rds-kw350-meld/experiments_graph/kw350/23-02-22_DHAM_classification/s_0',\n",
    "               '+large_augmentation':'/rds/project/kw350/rds-kw350-meld/experiments_graph/kw350/23-02-22_DHAM_large_augmentation/s_0',\n",
    "               '+mask_augmentation':'/rds/project/kw350/rds-kw350-meld/experiments_graph/kw350/23-02-22_DHAM_mask_augmentation/s_0',\n",
    "               'full_model':'/rds/project/kw350/rds-kw350-meld/experiments_graph/kw350/23-02-22_DEDL_finetuning_classification_mask_large/s_2',\n",
    "}\n",
    "\n",
    "model_paths = {'nnunet':'/rds/project/kw350/rds-kw350-meld/experiments_graph/kw350/23-02-22_DHAM_nnunet/s_0',\n",
    "               'distance_6543':'/rds/project/kw350/rds-kw350-meld/experiments_graph/kw350/23-02-23_QUCI_classification/s_0',\n",
    "               'classification_654321':'/rds/project/kw350/rds-kw350-meld/experiments_graph/kw350/23-03-01_WRZI_distance/s_0',\n",
    "               'distance+classification_654321':'/rds/project/kw350/rds-kw350-meld/experiments_graph/kw350/23-03-01_WRZI_classification_distance/s_0',\n",
    "               'classification_6543':'/rds/project/kw350/rds-kw350-meld/experiments_graph/kw350/23-03-01_WRZI_distance/s_0',\n",
    "               'distance+classification_6543':'/rds/project/kw350/rds-kw350-meld/experiments_graph/kw350/3-03-06_WELH_classification_distance/s_0',\n",
    "\n",
    "}\n",
    "model_paths = {'nnunet':'/rds/project/kw350/rds-kw350-meld/experiments_graph/kw350/23-03-06_FKKY_nnunet/s_0',\n",
    "               'distance':'/rds/project/kw350/rds-kw350-meld/experiments_graph/kw350/23-03-06_FKKY_distance/s_0',\n",
    "               'classification':'/rds/project/kw350/rds-kw350-meld/experiments_graph/kw350/23-02-23_QUCI_classification/s_0',\n",
    "               'distance+classification':'/rds/project/kw350/rds-kw350-meld/experiments_graph/kw350/23-03-01_WRZI_classification_distance/s_0',\n",
    "               'low_smooth':'/rds/project/kw350/rds-kw350-meld/experiments_graph/kw350/23-03-31_WQVY_raw/s_0',\n",
    "               'low_smooth_regress_thick':'/rds/project/kw350/rds-kw350-meld/experiments_graph/kw350/23-04-18_WLMU_thick_regress/s_0',\n",
    "               'low_smooth_regress_thick_RC':'/rds/project/kw350/rds-kw350-meld/experiments_graph/kw350/23-06-05_RMRC_low_smooth_regress_RC/s_0',\n",
    "               'no_combat':'/rds/project/kw350/rds-kw350-meld/experiments_graph/kw350/23-06-16_YRWZ_no_combat/s_0'\n",
    "}\n",
    "\n",
    "model_paths = {'nnunet':'/rds/project/kw350/rds-kw350-meld/experiments_graph/kw350/23-03-06_FKKY_nnunet/s_0',\n",
    "               'MICCAI':'/rds/project/kw350/rds-kw350-meld/experiments_graph/kw350/23-03-01_WRZI_classification_distance/s_0',\n",
    "               'low_smooth_regress_thick_RC':'/rds/project/kw350/rds-kw350-meld/experiments_graph/kw350/23-06-05_RMRC_low_smooth_regress_RC/s_0',\n",
    "               'no_combat':'/rds/project/kw350/rds-kw350-meld/experiments_graph/kw350/23-06-16_YRWZ_no_combat/s_0',\n",
    "               'no_combat_no_raw':'/rds/project/kw350/rds-kw350-meld/experiments_graph/kw350/23-06-30_RQWV_raw_no_combat/s_0',\n",
    "               'no_combat+obj+detection':'/rds/project/kw350/rds-kw350-meld/experiments_graph/kw350/23-06-30_TRNW_object/s_0',\n",
    "\n",
    "}\n",
    "experiment_dir = '/home/kw350/software/gdl/meld_classifier_GDL/scripts/experiments_folder/'\n",
    "models = ['23-10-30_IPTR_baseline_nnunet',\n",
    "'23-10-30_FOPF_dcop','23-10-30_LVHZ_dcp','23-10-30_KBLB_dco','23-10-30_MSBS_dcop_with_combat','23-10-30_THSG_cop','23-10-30_ZNZT_dop']\n",
    "model_paths = {}\n",
    "for model in models:\n",
    "    model_paths[model[14:]] = os.path.join(experiment_dir,model,'s_0')"
   ]
  },
  {
   "cell_type": "code",
   "execution_count": 9,
   "metadata": {},
   "outputs": [],
   "source": [
    "\n",
    "aucs = []\n",
    "labels= [] \n",
    "n_epochs = []\n",
    "for model in model_paths.keys():\n",
    "    \n",
    "    for fold in np.arange(5):\n",
    "        fname = os.path.join(model_paths[model],f'fold_0{fold}','results_best_model','roc_auc.pickle')\n",
    "        with open(fname, 'rb') as handle:\n",
    "            b = pickle.load(handle)\n",
    "        # optimal_threshold(b)\n",
    "        \n",
    "        aucs.append(b['auc_plus'])\n",
    "        labels.append(model)\n",
    "        vs=os.path.join(model_paths[model],f'fold_0{fold}','val_scores.csv')\n",
    "        vs_df = pd.read_csv(vs)\n",
    "        n_epochs.append(len(vs_df)-400)\n"
   ]
  },
  {
   "cell_type": "code",
   "execution_count": null,
   "metadata": {},
   "outputs": [],
   "source": []
  },
  {
   "cell_type": "code",
   "execution_count": 10,
   "metadata": {},
   "outputs": [],
   "source": [
    "import ptitprince as pt\n",
    "import pandas as pd\n",
    "import scipy.stats as st\n",
    "import matplotlib.pyplot as plt\n"
   ]
  },
  {
   "cell_type": "code",
   "execution_count": null,
   "metadata": {},
   "outputs": [],
   "source": []
  },
  {
   "cell_type": "code",
   "execution_count": 11,
   "metadata": {},
   "outputs": [
    {
     "data": {
      "image/png": "[encoded data removed]",
      "text/plain": [
       "<Figure size 720x360 with 1 Axes>"
      ]
     },
     "metadata": {
      "needs_background": "light"
     },
     "output_type": "display_data"
    }
   ],
   "source": [
    "df = pd.DataFrame(np.vstack([aucs,n_epochs,labels]).T,columns=['AUC','n_epochs','models'],)\n",
    "\n",
    "df['AUC'] = df['AUC'].astype(float)\n",
    "df['n_epochs'] = df['n_epochs'].astype(float)\n",
    "\n",
    "fig, ax = plt.subplots(1,1,figsize=(10,5))\n",
    "pt.RainCloud(data=df, x='models',y='AUC',ax=ax)\n",
    "ttests = np.zeros((len(model_paths.keys()),len(model_paths.keys())))\n",
    "for m_i,model in enumerate(model_paths.keys()):\n",
    "    for m2_i,model2 in enumerate(model_paths.keys()):\n",
    "        ttests[m_i,m2_i] = st.ttest_rel(df['AUC'][df['models']==model],\n",
    "        df['AUC'][df['models']==model2]\n",
    "        )[0]"
   ]
  },
  {
   "cell_type": "code",
   "execution_count": 14,
   "metadata": {},
   "outputs": [
    {
     "data": {
      "text/plain": [
       "10    0.781780\n",
       "11    0.804412\n",
       "12    0.786717\n",
       "13    0.779570\n",
       "14    0.742050\n",
       "Name: AUC, dtype: float64"
      ]
     },
     "execution_count": 14,
     "metadata": {},
     "output_type": "execute_result"
    }
   ],
   "source": []
  },
  {
   "cell_type": "code",
   "execution_count": 6,
   "metadata": {},
   "outputs": [
    {
     "name": "stdout",
     "output_type": "stream",
     "text": [
      "[[ 1.         -0.61414281]\n",
      " [-0.61414281  1.        ]]\n",
      "[[1.        0.0096851]\n",
      " [0.0096851 1.       ]]\n",
      "[[1.         0.51305337]\n",
      " [0.51305337 1.        ]]\n",
      "[[1.        0.6717883]\n",
      " [0.6717883 1.       ]]\n",
      "[[1.         0.83943415]\n",
      " [0.83943415 1.        ]]\n"
     ]
    },
    {
     "data": {
      "image/png": "[encoded data removed]",
      "text/plain": [
       "<Figure size 432x288 with 1 Axes>"
      ]
     },
     "metadata": {
      "needs_background": "light"
     },
     "output_type": "display_data"
    }
   ],
   "source": [
    "df=df[df['n_epochs']>0]\n",
    "models = np.unique(df['models'])\n",
    "c=[]\n",
    "for m in df['models']:\n",
    "    c_ind = np.where(models==m)[0]\n",
    "    c.append(c_ind)\n",
    "plt.scatter(df['AUC'],df['n_epochs'],c=c)\n",
    "for model in models:\n",
    "    model_mask = df['models']==model\n",
    "    print(np.corrcoef(df['AUC'][model_mask],df['n_epochs'][model_mask]))"
   ]
  },
  {
   "cell_type": "code",
   "execution_count": 12,
   "metadata": {},
   "outputs": [
    {
     "data": {
      "text/plain": [
       "<matplotlib.image.AxesImage at 0x2ab29d5eef10>"
      ]
     },
     "execution_count": 12,
     "metadata": {},
     "output_type": "execute_result"
    },
    {
     "data": {
      "image/png": "[encoded data removed]",
      "text/plain": [
       "<Figure size 288x288 with 1 Axes>"
      ]
     },
     "metadata": {
      "needs_background": "light"
     },
     "output_type": "display_data"
    }
   ],
   "source": [
    "plt.matshow(np.nan_to_num(ttests),cmap='bwr')"
   ]
  },
  {
   "cell_type": "code",
   "execution_count": 7,
   "metadata": {},
   "outputs": [
    {
     "data": {
      "text/plain": [
       "[<matplotlib.lines.Line2D at 0x2b83f24170d0>]"
      ]
     },
     "execution_count": 7,
     "metadata": {},
     "output_type": "execute_result"
    },
    {
     "data": {
      "image/png": "[encoded data removed]",
      "text/plain": [
       "<Figure size 432x288 with 1 Axes>"
      ]
     },
     "metadata": {
      "needs_background": "light"
     },
     "output_type": "display_data"
    }
   ],
   "source": [
    "youden = b['sensitivity_plus']/max(b['sensitivity_plus'])+b['specificity']/max(b['specificity'])\n",
    "\n",
    "plt.plot(b['thresholds'],youden)"
   ]
  },
  {
   "cell_type": "code",
   "execution_count": 8,
   "metadata": {},
   "outputs": [],
   "source": [
    "def optimal_threshold(b):\n",
    "    youden = b['sensitivity_plus']/max(b['sensitivity_plus'])+b['specificity']/max(b['specificity'])\n",
    "    optimal_thresh = b['thresholds'][np.max(np.where(youden==np.max(youden)))]\n",
    "    print(optimal_thresh)\n",
    "\n",
    "\n"
   ]
  },
  {
   "cell_type": "code",
   "execution_count": 9,
   "metadata": {},
   "outputs": [],
   "source": [
    "import json"
   ]
  },
  {
   "cell_type": "code",
   "execution_count": 11,
   "metadata": {},
   "outputs": [],
   "source": [
    "#sample sizes\n",
    "model_paths = {'sample_fraction_0.1':'/rds/project/kw350/rds-kw350-meld/experiments_graph/kw350/23-05-29_LXRQ_subsampling_0.1/s_0',\n",
    "'sample_fraction_0.2':'/rds/project/kw350/rds-kw350-meld/experiments_graph/kw350/23-05-29_LXRQ_subsampling_0.2/s_0',\n",
    "'sample_fraction_0.3':'/rds/project/kw350/rds-kw350-meld/experiments_graph/kw350/23-05-29_LXRQ_subsampling_0.3/s_0',               \n",
    "'sample_fraction_0.4':'/rds/project/kw350/rds-kw350-meld/experiments_graph/kw350/23-05-29_LXRQ_subsampling_0.4/s_0', \n",
    "'sample_fraction_0.6':'/rds/project/kw350/rds-kw350-meld/experiments_graph/kw350/23-05-29_LXRQ_subsampling_0.6/s_0',    \n",
    "'sample_fraction_0.8':'/rds/project/kw350/rds-kw350-meld/experiments_graph/kw350/23-05-29_LXRQ_subsampling_0.8/s_0',         \n",
    "'sample_fraction_1.0':'/rds/project/kw350/rds-kw350-meld/experiments_graph/kw350/23-03-01_WRZI_classification_distance/s_0',\n",
    "}\n",
    "aucs = []\n",
    "labels= [] \n",
    "n_subs = []\n",
    "n_pats = []\n",
    "for model in model_paths.keys():\n",
    "    \n",
    "    for fold in np.arange(5):\n",
    "        fname = os.path.join(model_paths[model],f'fold_0{fold}','results','roc_auc.pickle')\n",
    "        with open(fname, 'rb') as handle:\n",
    "            b = pickle.load(handle)\n",
    "        # optimal_threshold(b)\n",
    "        \n",
    "        aucs.append(b['auc_plus'])\n",
    "        labels.append(model)\n",
    "        d_params = json.load(open(os.path.join(model_paths[model],f'fold_0{fold}','data_parameters.json')))\n",
    "        n_subs.append(len(d_params['train_ids']))\n",
    "        n_pat = 0\n",
    "        for s in d_params['train_ids']:\n",
    "            if 'FCD' in s:\n",
    "                n_pat+=1\n",
    "        n_pats.append(n_pat)"
   ]
  },
  {
   "cell_type": "code",
   "execution_count": 15,
   "metadata": {},
   "outputs": [],
   "source": [
    "import pygam"
   ]
  },
  {
   "cell_type": "code",
   "execution_count": 55,
   "metadata": {},
   "outputs": [],
   "source": [
    "#fit pygam model\n",
    "import numpy as np\n",
    "import GPy\n",
    "\n",
    "def fit_gpy_regression(auc, n_subs, num_std=1):\n",
    "    # Convert input arrays to numpy arrays\n",
    "    auc = np.array(auc)\n",
    "    n_subs = np.array(n_subs)\n",
    "\n",
    "    # Normalize the input data\n",
    "    auc_mean, auc_std = np.mean(auc), np.std(auc)\n",
    "    n_subs_mean, n_subs_std = np.mean(n_subs), np.std(n_subs)\n",
    "    auc_normalized = (auc - auc_mean) / auc_std\n",
    "    n_subs_normalized = (n_subs - n_subs_mean) / n_subs_std\n",
    "\n",
    "    # Reshape the data to be column vectors\n",
    "    auc_normalized = auc_normalized.reshape(-1, 1)\n",
    "    n_subs_normalized = n_subs_normalized.reshape(-1, 1)\n",
    "\n",
    "    # Define the Gaussian process model\n",
    "    kernel = GPy.kern.RBF(input_dim=1)\n",
    "    model = GPy.models.GPRegression(n_subs_normalized, auc_normalized, kernel)\n",
    "\n",
    "    # Optimize the model parameters\n",
    "    model.optimize()\n",
    "\n",
    "    # Create a test set with uniformly spaced values of n_subs_normalized\n",
    "    n_subs_test_normalized = np.linspace(n_subs_normalized.min(), n_subs_normalized.max(), 100).reshape(-1, 1)\n",
    "    auc_pred_normalized, auc_pred_var = model.predict(n_subs_test_normalized)\n",
    "    auc_pred_std = np.sqrt(auc_pred_var)\n",
    "\n",
    "    # Rescale the predicted AUC values and standard deviations to the original scale\n",
    "    auc_pred = auc_pred_normalized * auc_std + auc_mean\n",
    "    auc_pred_upper = auc_pred + num_std * auc_pred_std * auc_std\n",
    "    auc_pred_lower = auc_pred - num_std * auc_pred_std * auc_std\n",
    "    n_subs_test = n_subs_test_normalized * n_subs_std + n_subs_mean\n",
    "\n",
    "    return auc_pred, auc_pred_upper, auc_pred_lower, n_subs_test\n"
   ]
  },
  {
   "cell_type": "code",
   "execution_count": 56,
   "metadata": {},
   "outputs": [],
   "source": [
    "auc_pred, auc_pred_upper, auc_pred_lower, n_subs_test = fit_gpy_regression(aucs, n_subs)"
   ]
  },
  {
   "cell_type": "code",
   "execution_count": null,
   "metadata": {},
   "outputs": [],
   "source": []
  },
  {
   "cell_type": "code",
   "execution_count": 67,
   "metadata": {},
   "outputs": [
    {
     "data": {
      "image/png": "[encoded data removed]",
      "text/plain": [
       "<Figure size 432x288 with 1 Axes>"
      ]
     },
     "metadata": {
      "needs_background": "light"
     },
     "output_type": "display_data"
    }
   ],
   "source": [
    "\n",
    "fig,ax= plt.subplots()\n",
    "#ax.plot(n_pats,aucs)\n",
    "ax.scatter(n_subs,aucs)\n",
    "ax.plot(n_subs_test, auc_pred)\n",
    "\n",
    "ax.fill_between(n_subs_test.ravel(), auc_pred_lower.ravel(),\n",
    "                auc_pred_upper.ravel(), color='Grey',alpha=0.4)\n",
    "ax.set_ylabel('Validation AUC')\n",
    "ax.set_xlabel('N patients in training set')\n",
    "fig.savefig('../figures/sample_sizes.png', dpi=250)"
   ]
  },
  {
   "cell_type": "code",
   "execution_count": null,
   "metadata": {},
   "outputs": [],
   "source": []
  }
 ],
 "metadata": {
  "kernelspec": {
   "display_name": "Python 3.6.9 64-bit",
   "language": "python",
   "name": "python3"
  },
  "language_info": {
   "codemirror_mode": {
    "name": "ipython",
    "version": 3
   },
   "file_extension": ".py",
   "mimetype": "text/x-python",
   "name": "python",
   "nbconvert_exporter": "python",
   "pygments_lexer": "ipython3",
   "version": "3.6.9"
  },
  "orig_nbformat": 4,
  "vscode": {
   "interpreter": {
    "hash": "31f2aee4e71d21fbe5cf8b01ff0e069b9275f58929596ceb00d14d90e3e16cd6"
   }
  }
 },
 "nbformat": 4,
 "nbformat_minor": 2
}
