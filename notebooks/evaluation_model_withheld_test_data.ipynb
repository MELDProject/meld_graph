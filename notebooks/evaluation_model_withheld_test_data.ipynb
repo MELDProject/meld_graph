{
 "cells": [
  {
   "attachments": {},
   "cell_type": "markdown",
   "id": "95612307",
   "metadata": {},
   "source": [
    "### Notebook to evaluate on withheld sites "
   ]
  },
  {
   "cell_type": "code",
   "execution_count": 2,
   "id": "e78941fe",
   "metadata": {},
   "outputs": [
    {
     "name": "stdout",
     "output_type": "stream",
     "text": [
      "Setting MELD_DATA_PATH to /rds/project/kw350/rds-kw350-meld/meld_data/Data\n",
      "Setting BASE_PATH to /rds/project/kw350/rds-kw350-meld/meld_data/Data\n",
      "Setting EXPERIMENT_PATH to /rds/project/kw350/rds-kw350-meld/experiments/co-ripa1/\n",
      "Setting FS_SUBJECTS_PATH to \n",
      "Setting EXPERIMENT_PATH to /rds/project/kw350/rds-kw350-meld/experiments_graph/co-ripa1\n"
     ]
    }
   ],
   "source": [
    "import meld_graph\n",
    "import meld_graph.models\n",
    "import meld_graph.experiment\n",
    "import meld_graph.dataset\n",
    "import meld_graph.data_preprocessing\n",
    "import meld_graph.evaluation\n",
    "\n",
    "\n",
    "import importlib\n",
    "import logging\n",
    "import os\n",
    "import json\n",
    "\n",
    "from meld_graph.dataset import GraphDataset\n",
    "from meld_classifier.meld_cohort import MeldCohort, MeldSubject\n",
    "import numpy as np\n",
    "from meld_graph.paths import EXPERIMENT_PATH\n",
    "\n",
    "from meld_graph.evaluation import Evaluator\n",
    "\n"
   ]
  },
  {
   "attachments": {},
   "cell_type": "markdown",
   "id": "f9e62800",
   "metadata": {},
   "source": [
    "### look at results"
   ]
  },
  {
   "cell_type": "code",
   "execution_count": 3,
   "id": "293de79d",
   "metadata": {},
   "outputs": [],
   "source": [
    "import pandas as pd"
   ]
  },
  {
   "cell_type": "code",
   "execution_count": 7,
   "id": "c5abc177",
   "metadata": {},
   "outputs": [],
   "source": [
    "model_paths = {\n",
    "               'robustCombat':'/rds/project/kw350/rds-kw350-meld/experiments_graph/kw350/23-08-01_MFHL_low_smooth_regress_RC/s_0/fold_all/test_H27H28H101_230801',\n",
    "               'noCombat':'/rds/project/kw350/rds-kw350-meld/experiments_graph/kw350/23-06-16_YRWZ_no_combat/s_0/fold_all/test_H27H28H101_230801'\n",
    "\n",
    "}\n",
    "\n",
    "hdf5_file_roots = {\n",
    "    'robustCombat':\"{site_code}_{group}_featurematrix_combat_6_kernels_robustCombat_NewSite.hdf5\",\n",
    "    'noCombat':\"{site_code}_{group}_featurematrix_combat_6_kernels_noCombat_NewSite.hdf5\"\n",
    "}\n",
    "\n"
   ]
  },
  {
   "cell_type": "code",
   "execution_count": 10,
   "id": "7f61f92b",
   "metadata": {},
   "outputs": [
    {
     "name": "stdout",
     "output_type": "stream",
     "text": [
      "0\n",
      "100\n",
      "200\n",
      "0\n",
      "100\n",
      "200\n"
     ]
    }
   ],
   "source": [
    "import os\n",
    "import numpy as np\n",
    "import h5py\n",
    "from meld_classifier.meld_cohort import MeldCohort, MeldSubject\n",
    "from meld_graph.evaluation import (\n",
    "    load_prediction,\n",
    "    sens_spec_curves,\n",
    "    roc_curves,\n",
    "    plot_roc_multiple,\n",
    ")\n",
    "import pandas as pd\n",
    "import ptitprince as pt\n",
    "\n",
    "save_dirs = {}\n",
    "for model in model_paths.keys():\n",
    "    save_dirs[model] = os.path.join(model_paths[model], \"results\")\n",
    "\n",
    "cohort = MeldCohort(hdf5_file_root=hdf5_file_roots['noCombat'],\n",
    "                        dataset=\"MELD_dataset_H27H28H101.csv\")\n",
    "\n",
    "n_vert = len(cohort.cortex_label) * 2\n",
    "with h5py.File(os.path.join(save_dirs['noCombat'], \"predictions.hdf5\"), \"r\") as f:\n",
    "    subjects = list(f.keys())\n",
    "\n",
    "\n",
    "# number of tresholds to evaluate ROC curve, between 0 & 1.\n",
    "n_thresh = 101\n",
    "roc_curves_thresholds = np.linspace(0, 1, n_thresh)\n",
    "roc_dictionary_bs = {}\n",
    "roc_dictionary = {}\n",
    "for model_name in save_dirs.keys():\n",
    "    cohort = MeldCohort(hdf5_file_root=hdf5_file_roots[model_name],\n",
    "                        dataset=\"MELD_dataset_H27H28H101.csv\")\n",
    "    \n",
    "    roc_dictionary[model_name] = {\n",
    "        \"sensitivity\": np.zeros(n_thresh),\n",
    "        \"sensitivity_plus\": np.zeros(n_thresh),\n",
    "        \"specificity\": np.zeros(n_thresh),\n",
    "    }\n",
    "    \n",
    "\n",
    "    for si, subj in enumerate(subjects):\n",
    "        if si % 100 == 0:\n",
    "            print(si)\n",
    "        s = MeldSubject(subj, cohort=cohort)\n",
    "        labels_hemis = {}\n",
    "        dists = {}\n",
    "        subject_results = np.zeros((5, n_vert))\n",
    "        labels = np.zeros(n_vert)\n",
    "        for hemi in [\"lh\", \"rh\"]:\n",
    "            dists[hemi], labels_hemis[hemi] = s.load_feature_lesion_data(\n",
    "                features=[\".on_lh.boundary_zone.mgh\"], hemi=hemi, features_to_ignore=[]\n",
    "            )\n",
    "            if np.sum(dists[hemi]) == 0:\n",
    "                dists[hemi] += 200\n",
    "        labels = np.hstack(\n",
    "            [\n",
    "                labels_hemis[\"lh\"][cohort.cortex_mask],\n",
    "                labels_hemis[\"rh\"][cohort.cortex_mask],\n",
    "            ]\n",
    "        )\n",
    "        borderzones = np.vstack([dists[\"lh\"][cohort.cortex_mask, :], dists[\"rh\"][cohort.cortex_mask, :]]).ravel() < 20\n",
    "        save_dir = save_dirs[model_name]\n",
    "        pred_file = os.path.join(save_dir, \"predictions.hdf5\")\n",
    "        result_hemis = load_prediction(subj, pred_file, dset=\"prediction\")\n",
    "        subject_results = np.hstack([result_hemis[\"lh\"], result_hemis[\"rh\"]])\n",
    "        subject_dictionary = {\n",
    "            \"input_labels\": labels,\n",
    "            \"borderzone\": borderzones,\n",
    "            \"result\": subject_results,\n",
    "        }\n",
    "        roc_curves(subject_dictionary, roc_dictionary[model_name], roc_curves_thresholds)\n",
    "        \n"
   ]
  },
  {
   "cell_type": "code",
   "execution_count": 11,
   "id": "49475e90",
   "metadata": {},
   "outputs": [
    {
     "data": {
      "image/png": "[encoded data removed]",
      "text/plain": [
       "<Figure size 432x288 with 1 Axes>"
      ]
     },
     "execution_count": 11,
     "metadata": {},
     "output_type": "execute_result"
    },
    {
     "data": {
      "image/png": "[encoded data removed]",
      "text/plain": [
       "<Figure size 432x288 with 1 Axes>"
      ]
     },
     "metadata": {
      "needs_background": "light"
     },
     "output_type": "display_data"
    }
   ],
   "source": [
    "plot_roc_multiple(roc_dictionary, roc_curves_thresholds)"
   ]
  },
  {
   "cell_type": "code",
   "execution_count": 12,
   "id": "8ccf893f",
   "metadata": {},
   "outputs": [
    {
     "name": "stdout",
     "output_type": "stream",
     "text": [
      "robustCombat sensitivity: 77.0/118 (0.65)\n",
      "robustCombat sensitivity plus: 82.0/118 (0.69)\n",
      "robustCombat specificity: 83.0/103 (0.81)\n",
      "noCombat sensitivity: 70.0/118 (0.59)\n",
      "noCombat sensitivity plus: 73.0/118 (0.62)\n",
      "noCombat specificity: 91.0/103 (0.88)\n"
     ]
    }
   ],
   "source": [
    "patient_controls = np.array([True if 'FCD' in subj else False for subj in subjects])\n",
    "nb_patients = patient_controls.sum()\n",
    "nb_controls = (~patient_controls).sum()\n",
    "\n",
    "threshold_index = 15\n",
    "for model in model_paths.keys():\n",
    "    sensitivity = roc_dictionary[model]['sensitivity'][threshold_index]\n",
    "    sensitivity_plus = roc_dictionary[model]['sensitivity_plus'][threshold_index]\n",
    "    specificity = roc_dictionary[model]['specificity'][threshold_index]\n",
    "    print(f'{model} sensitivity: {sensitivity}/{nb_patients} ({round(sensitivity/nb_patients, 2)})')\n",
    "    print(f'{model} sensitivity plus: {sensitivity_plus}/{nb_patients} ({round(sensitivity_plus/nb_patients, 2)})')\n",
    "    print(f'{model} specificity: {specificity}/{nb_controls} ({round(specificity/nb_controls, 2)})')"
   ]
  }
 ],
 "metadata": {
  "kernelspec": {
   "display_name": "Python 3.9.10 ('meld_graph')",
   "language": "python",
   "name": "python3"
  },
  "language_info": {
   "codemirror_mode": {
    "name": "ipython",
    "version": 3
   },
   "file_extension": ".py",
   "mimetype": "text/x-python",
   "name": "python",
   "nbconvert_exporter": "python",
   "pygments_lexer": "ipython3",
   "version": "3.9.10"
  },
  "vscode": {
   "interpreter": {
    "hash": "c0176ae289e59992559f0c449061dac3c0e6a1074598f8b14680b865216cf195"
   }
  }
 },
 "nbformat": 4,
 "nbformat_minor": 5
}
