{
 "cells": [
  {
   "cell_type": "markdown",
   "metadata": {},
   "source": [
    "## Notebook to analyse manual lesion masks"
   ]
  },
  {
   "cell_type": "code",
   "execution_count": 43,
   "metadata": {},
   "outputs": [],
   "source": [
    "import os\n",
    "import sys\n",
    "import numpy as np\n",
    "import pandas as pd\n",
    "import scipy\n",
    "sys.path.append('/home/co-ripa1/rds/hpc-work/scripts/meld_classifier')\n",
    "import h5py\n",
    "import matplotlib_surface_plotting as msp\n",
    "import matplotlib.pyplot as plt\n",
    "from matplotlib.gridspec import GridSpec\n",
    "import nibabel as nb\n",
    "import meld_graph.experiment\n",
    "from meld_classifier.paths import BASE_PATH\n",
    "from meld_classifier.meld_cohort import MeldCohort,MeldSubject\n",
    "import ptitprince as pt\n",
    "import seaborn as sns"
   ]
  },
  {
   "cell_type": "markdown",
   "metadata": {},
   "source": [
    "# Get lesion masks"
   ]
  },
  {
   "cell_type": "code",
   "execution_count": 44,
   "metadata": {},
   "outputs": [],
   "source": [
    "def cluster_and_area_threshold(cohort, mask, island_count=0, min_area_threshold=0):\n",
    "        \"\"\"cluster predictions and threshold based on min_area_threshold\n",
    "\n",
    "        Args:\n",
    "            mask: boolean mask of the per-vertex lesion predictions to cluster\"\"\"\n",
    "        n_comp, labels = scipy.sparse.csgraph.connected_components(cohort.adj_mat[mask][:, mask])\n",
    "        islands = np.zeros(len(mask))\n",
    "        # only include islands larger than minimum size.\n",
    "        for island_index in np.arange(n_comp):\n",
    "            include_vec = labels == island_index\n",
    "            size = np.sum(include_vec)\n",
    "            if size >= min_area_threshold:\n",
    "                island_count += 1\n",
    "                island_mask = mask.copy()\n",
    "                island_mask[mask] = include_vec\n",
    "                islands[island_mask] = island_count\n",
    "        return islands"
   ]
  },
  {
   "cell_type": "code",
   "execution_count": 45,
   "metadata": {},
   "outputs": [
    {
     "name": "stdout",
     "output_type": "stream",
     "text": [
      "538\n"
     ]
    }
   ],
   "source": [
    "cohort = MeldCohort(hdf5_file_root='{site_code}_{group}_featurematrix_combat_6_kernels_noCombat.hdf5', \n",
    "                    dataset='MELD_dataset_V6.csv')\n",
    "\n",
    "patients = cohort.get_subject_ids(group='patient', lesional_only=True )\n",
    "\n",
    "print(len(patients))\n"
   ]
  },
  {
   "cell_type": "code",
   "execution_count": 46,
   "metadata": {},
   "outputs": [],
   "source": [
    "\n",
    "df = pd.DataFrame()\n",
    "\n",
    "for subject in patients:\n",
    "    values = {}\n",
    "    values['ID'] = subject\n",
    "    subj = MeldSubject(subject, cohort)\n",
    "    \n",
    "    #add info about MRI status\n",
    "    values['MRI-negative'] = subj.get_demographic_features('Ever reported MRI negative')\n",
    "    \n",
    "    # get lesional hemisphere\n",
    "    hemi = subj.get_lesion_hemisphere()\n",
    "    values['hemi'] = hemi\n",
    "    \n",
    "    # load lesion\n",
    "    labels = subj.load_feature_values(hemi=hemi, feature=\".on_lh.lesion.mgh\")[:]\n",
    "        \n",
    "    # get lesion size\n",
    "    mask = (labels>0).astype(bool)\n",
    "    values['lesion_size'] = mask.sum()\n",
    "        \n",
    "    # cluster lesion\n",
    "    labels_clust = cluster_and_area_threshold(cohort, mask, island_count=0, min_area_threshold=0)\n",
    "    values['n_cluster'] = len(set(labels_clust))-1\n",
    "    \n",
    "    for cl in set(labels_clust):\n",
    "        if cl !=0:\n",
    "            size_cl = (labels_clust==cl).sum()\n",
    "            values[f'size_cluster_{cl}'] = size_cl\n",
    "        \n",
    "    \n",
    "    # add info into dataframe\n",
    "    df = pd.concat([df, pd.DataFrame([values])])\n",
    "    \n",
    "    "
   ]
  },
  {
   "cell_type": "code",
   "execution_count": 47,
   "metadata": {},
   "outputs": [
    {
     "data": {
      "text/html": [
       "<div>\n",
       "<style scoped>\n",
       "    .dataframe tbody tr th:only-of-type {\n",
       "        vertical-align: middle;\n",
       "    }\n",
       "\n",
       "    .dataframe tbody tr th {\n",
       "        vertical-align: top;\n",
       "    }\n",
       "\n",
       "    .dataframe thead th {\n",
       "        text-align: right;\n",
       "    }\n",
       "</style>\n",
       "<table border=\"1\" class=\"dataframe\">\n",
       "  <thead>\n",
       "    <tr style=\"text-align: right;\">\n",
       "      <th></th>\n",
       "      <th>ID</th>\n",
       "      <th>MRI-negative</th>\n",
       "      <th>hemi</th>\n",
       "      <th>lesion_size</th>\n",
       "      <th>n_cluster</th>\n",
       "      <th>size_cluster_1.0</th>\n",
       "      <th>size_cluster_2.0</th>\n",
       "      <th>size_cluster_3.0</th>\n",
       "      <th>size_cluster_4.0</th>\n",
       "      <th>size_cluster_5.0</th>\n",
       "      <th>size_cluster_6.0</th>\n",
       "      <th>size_cluster_7.0</th>\n",
       "      <th>size_cluster_8.0</th>\n",
       "      <th>size_cluster_9.0</th>\n",
       "      <th>size_cluster_10.0</th>\n",
       "    </tr>\n",
       "  </thead>\n",
       "  <tbody>\n",
       "    <tr>\n",
       "      <th>0</th>\n",
       "      <td>MELD_H12_3T_FCD_0001</td>\n",
       "      <td>1.0</td>\n",
       "      <td>rh</td>\n",
       "      <td>1411</td>\n",
       "      <td>1</td>\n",
       "      <td>1411</td>\n",
       "      <td>NaN</td>\n",
       "      <td>NaN</td>\n",
       "      <td>NaN</td>\n",
       "      <td>NaN</td>\n",
       "      <td>NaN</td>\n",
       "      <td>NaN</td>\n",
       "      <td>NaN</td>\n",
       "      <td>NaN</td>\n",
       "      <td>NaN</td>\n",
       "    </tr>\n",
       "    <tr>\n",
       "      <th>0</th>\n",
       "      <td>MELD_H12_3T_FCD_0002</td>\n",
       "      <td>1.0</td>\n",
       "      <td>lh</td>\n",
       "      <td>1131</td>\n",
       "      <td>1</td>\n",
       "      <td>1131</td>\n",
       "      <td>NaN</td>\n",
       "      <td>NaN</td>\n",
       "      <td>NaN</td>\n",
       "      <td>NaN</td>\n",
       "      <td>NaN</td>\n",
       "      <td>NaN</td>\n",
       "      <td>NaN</td>\n",
       "      <td>NaN</td>\n",
       "      <td>NaN</td>\n",
       "    </tr>\n",
       "    <tr>\n",
       "      <th>0</th>\n",
       "      <td>MELD_H12_3T_FCD_0003</td>\n",
       "      <td>0.0</td>\n",
       "      <td>lh</td>\n",
       "      <td>3861</td>\n",
       "      <td>2</td>\n",
       "      <td>3859</td>\n",
       "      <td>2.0</td>\n",
       "      <td>NaN</td>\n",
       "      <td>NaN</td>\n",
       "      <td>NaN</td>\n",
       "      <td>NaN</td>\n",
       "      <td>NaN</td>\n",
       "      <td>NaN</td>\n",
       "      <td>NaN</td>\n",
       "      <td>NaN</td>\n",
       "    </tr>\n",
       "    <tr>\n",
       "      <th>0</th>\n",
       "      <td>MELD_H12_3T_FCD_0004</td>\n",
       "      <td>1.0</td>\n",
       "      <td>lh</td>\n",
       "      <td>2293</td>\n",
       "      <td>1</td>\n",
       "      <td>2293</td>\n",
       "      <td>NaN</td>\n",
       "      <td>NaN</td>\n",
       "      <td>NaN</td>\n",
       "      <td>NaN</td>\n",
       "      <td>NaN</td>\n",
       "      <td>NaN</td>\n",
       "      <td>NaN</td>\n",
       "      <td>NaN</td>\n",
       "      <td>NaN</td>\n",
       "    </tr>\n",
       "    <tr>\n",
       "      <th>0</th>\n",
       "      <td>MELD_H12_3T_FCD_0005</td>\n",
       "      <td>1.0</td>\n",
       "      <td>rh</td>\n",
       "      <td>27595</td>\n",
       "      <td>2</td>\n",
       "      <td>27592</td>\n",
       "      <td>3.0</td>\n",
       "      <td>NaN</td>\n",
       "      <td>NaN</td>\n",
       "      <td>NaN</td>\n",
       "      <td>NaN</td>\n",
       "      <td>NaN</td>\n",
       "      <td>NaN</td>\n",
       "      <td>NaN</td>\n",
       "      <td>NaN</td>\n",
       "    </tr>\n",
       "    <tr>\n",
       "      <th>...</th>\n",
       "      <td>...</td>\n",
       "      <td>...</td>\n",
       "      <td>...</td>\n",
       "      <td>...</td>\n",
       "      <td>...</td>\n",
       "      <td>...</td>\n",
       "      <td>...</td>\n",
       "      <td>...</td>\n",
       "      <td>...</td>\n",
       "      <td>...</td>\n",
       "      <td>...</td>\n",
       "      <td>...</td>\n",
       "      <td>...</td>\n",
       "      <td>...</td>\n",
       "      <td>...</td>\n",
       "    </tr>\n",
       "    <tr>\n",
       "      <th>0</th>\n",
       "      <td>MELD_H18_3T_FCD_0109</td>\n",
       "      <td>0.0</td>\n",
       "      <td>lh</td>\n",
       "      <td>3886</td>\n",
       "      <td>2</td>\n",
       "      <td>3885</td>\n",
       "      <td>1.0</td>\n",
       "      <td>NaN</td>\n",
       "      <td>NaN</td>\n",
       "      <td>NaN</td>\n",
       "      <td>NaN</td>\n",
       "      <td>NaN</td>\n",
       "      <td>NaN</td>\n",
       "      <td>NaN</td>\n",
       "      <td>NaN</td>\n",
       "    </tr>\n",
       "    <tr>\n",
       "      <th>0</th>\n",
       "      <td>MELD_H18_3T_FCD_0111</td>\n",
       "      <td>0.0</td>\n",
       "      <td>rh</td>\n",
       "      <td>2459</td>\n",
       "      <td>2</td>\n",
       "      <td>2380</td>\n",
       "      <td>79.0</td>\n",
       "      <td>NaN</td>\n",
       "      <td>NaN</td>\n",
       "      <td>NaN</td>\n",
       "      <td>NaN</td>\n",
       "      <td>NaN</td>\n",
       "      <td>NaN</td>\n",
       "      <td>NaN</td>\n",
       "      <td>NaN</td>\n",
       "    </tr>\n",
       "    <tr>\n",
       "      <th>0</th>\n",
       "      <td>MELD_H18_3T_FCD_0115</td>\n",
       "      <td>0.0</td>\n",
       "      <td>rh</td>\n",
       "      <td>2131</td>\n",
       "      <td>1</td>\n",
       "      <td>2131</td>\n",
       "      <td>NaN</td>\n",
       "      <td>NaN</td>\n",
       "      <td>NaN</td>\n",
       "      <td>NaN</td>\n",
       "      <td>NaN</td>\n",
       "      <td>NaN</td>\n",
       "      <td>NaN</td>\n",
       "      <td>NaN</td>\n",
       "      <td>NaN</td>\n",
       "    </tr>\n",
       "    <tr>\n",
       "      <th>0</th>\n",
       "      <td>MELD_H18_3T_FCD_0122</td>\n",
       "      <td>0.0</td>\n",
       "      <td>lh</td>\n",
       "      <td>6563</td>\n",
       "      <td>9</td>\n",
       "      <td>6299</td>\n",
       "      <td>233.0</td>\n",
       "      <td>5.0</td>\n",
       "      <td>14.0</td>\n",
       "      <td>5.0</td>\n",
       "      <td>3.0</td>\n",
       "      <td>2.0</td>\n",
       "      <td>1.0</td>\n",
       "      <td>1.0</td>\n",
       "      <td>NaN</td>\n",
       "    </tr>\n",
       "    <tr>\n",
       "      <th>0</th>\n",
       "      <td>MELD_H18_3T_FCD_0124</td>\n",
       "      <td>0.0</td>\n",
       "      <td>rh</td>\n",
       "      <td>781</td>\n",
       "      <td>2</td>\n",
       "      <td>779</td>\n",
       "      <td>2.0</td>\n",
       "      <td>NaN</td>\n",
       "      <td>NaN</td>\n",
       "      <td>NaN</td>\n",
       "      <td>NaN</td>\n",
       "      <td>NaN</td>\n",
       "      <td>NaN</td>\n",
       "      <td>NaN</td>\n",
       "      <td>NaN</td>\n",
       "    </tr>\n",
       "  </tbody>\n",
       "</table>\n",
       "<p>538 rows × 15 columns</p>\n",
       "</div>"
      ],
      "text/plain": [
       "                      ID  MRI-negative hemi  lesion_size  n_cluster  \\\n",
       "0   MELD_H12_3T_FCD_0001           1.0   rh         1411          1   \n",
       "0   MELD_H12_3T_FCD_0002           1.0   lh         1131          1   \n",
       "0   MELD_H12_3T_FCD_0003           0.0   lh         3861          2   \n",
       "0   MELD_H12_3T_FCD_0004           1.0   lh         2293          1   \n",
       "0   MELD_H12_3T_FCD_0005           1.0   rh        27595          2   \n",
       "..                   ...           ...  ...          ...        ...   \n",
       "0   MELD_H18_3T_FCD_0109           0.0   lh         3886          2   \n",
       "0   MELD_H18_3T_FCD_0111           0.0   rh         2459          2   \n",
       "0   MELD_H18_3T_FCD_0115           0.0   rh         2131          1   \n",
       "0   MELD_H18_3T_FCD_0122           0.0   lh         6563          9   \n",
       "0   MELD_H18_3T_FCD_0124           0.0   rh          781          2   \n",
       "\n",
       "    size_cluster_1.0  size_cluster_2.0  size_cluster_3.0  size_cluster_4.0  \\\n",
       "0               1411               NaN               NaN               NaN   \n",
       "0               1131               NaN               NaN               NaN   \n",
       "0               3859               2.0               NaN               NaN   \n",
       "0               2293               NaN               NaN               NaN   \n",
       "0              27592               3.0               NaN               NaN   \n",
       "..               ...               ...               ...               ...   \n",
       "0               3885               1.0               NaN               NaN   \n",
       "0               2380              79.0               NaN               NaN   \n",
       "0               2131               NaN               NaN               NaN   \n",
       "0               6299             233.0               5.0              14.0   \n",
       "0                779               2.0               NaN               NaN   \n",
       "\n",
       "    size_cluster_5.0  size_cluster_6.0  size_cluster_7.0  size_cluster_8.0  \\\n",
       "0                NaN               NaN               NaN               NaN   \n",
       "0                NaN               NaN               NaN               NaN   \n",
       "0                NaN               NaN               NaN               NaN   \n",
       "0                NaN               NaN               NaN               NaN   \n",
       "0                NaN               NaN               NaN               NaN   \n",
       "..               ...               ...               ...               ...   \n",
       "0                NaN               NaN               NaN               NaN   \n",
       "0                NaN               NaN               NaN               NaN   \n",
       "0                NaN               NaN               NaN               NaN   \n",
       "0                5.0               3.0               2.0               1.0   \n",
       "0                NaN               NaN               NaN               NaN   \n",
       "\n",
       "    size_cluster_9.0  size_cluster_10.0  \n",
       "0                NaN                NaN  \n",
       "0                NaN                NaN  \n",
       "0                NaN                NaN  \n",
       "0                NaN                NaN  \n",
       "0                NaN                NaN  \n",
       "..               ...                ...  \n",
       "0                NaN                NaN  \n",
       "0                NaN                NaN  \n",
       "0                NaN                NaN  \n",
       "0                1.0                NaN  \n",
       "0                NaN                NaN  \n",
       "\n",
       "[538 rows x 15 columns]"
      ]
     },
     "execution_count": 47,
     "metadata": {},
     "output_type": "execute_result"
    }
   ],
   "source": [
    "df"
   ]
  },
  {
   "cell_type": "code",
   "execution_count": 114,
   "metadata": {},
   "outputs": [
    {
     "data": {
      "text/plain": [
       "300"
      ]
     },
     "execution_count": 114,
     "metadata": {},
     "output_type": "execute_result"
    }
   ],
   "source": [
    "len(df[df['n_cluster']>1])"
   ]
  },
  {
   "cell_type": "code",
   "execution_count": 111,
   "metadata": {},
   "outputs": [
    {
     "data": {
      "image/png": "[encoded data removed]",
      "text/plain": [
       "<Figure size 864x360 with 3 Axes>"
      ]
     },
     "metadata": {
      "needs_background": "light"
     },
     "output_type": "display_data"
    }
   ],
   "source": [
    "# look at one example\n",
    "\n",
    "subject = 'MELD_H18_3T_FCD_0122'\n",
    "# subject = 'MELD_H21_3T_FCD_0011'\n",
    "subject = 'MELD_H4_3T_FCD_0014'\n",
    "subj = MeldSubject(subject, cohort)\n",
    "hemi = subj.get_lesion_hemisphere()\n",
    "labels = subj.load_feature_values(hemi=hemi, feature=\".on_lh.lesion.mgh\")[:]\n",
    "mask = (labels>0).astype(bool)\n",
    "labels_clust = cluster_and_area_threshold(cohort, mask, island_count=0, min_area_threshold=0)\n",
    "msp.plot_surf(cohort.surf['coords'],cohort.surf['faces'],labels_clust, cmap='turbo', colorbar=False)"
   ]
  },
  {
   "cell_type": "code",
   "execution_count": 102,
   "metadata": {},
   "outputs": [
    {
     "data": {
      "text/plain": [
       "Text(0, 0.5, 'Number of patients')"
      ]
     },
     "execution_count": 102,
     "metadata": {},
     "output_type": "execute_result"
    },
    {
     "data": {
      "image/png": "[encoded data removed]",
      "text/plain": [
       "<Figure size 432x288 with 1 Axes>"
      ]
     },
     "metadata": {
      "needs_background": "light"
     },
     "output_type": "display_data"
    }
   ],
   "source": [
    "# plot cluster number in lesion mask \n",
    "\n",
    "sns.histplot(x='n_cluster', data=df)\n",
    "plt.xlabel('Number of cluster in lesion mask per patient')\n",
    "plt.ylabel('Number of patients')\n"
   ]
  },
  {
   "cell_type": "code",
   "execution_count": 105,
   "metadata": {},
   "outputs": [
    {
     "name": "stdout",
     "output_type": "stream",
     "text": [
      "number of cluster above 100:\n",
      "59\n"
     ]
    },
    {
     "data": {
      "image/png": "[encoded data removed]",
      "text/plain": [
       "<Figure size 432x288 with 1 Axes>"
      ]
     },
     "metadata": {
      "needs_background": "light"
     },
     "output_type": "display_data"
    }
   ],
   "source": [
    "# size of clusters that are not the main one\n",
    "\n",
    "df_side_cl = df[[f'size_cluster_{x}.0' for x in range(2,10)]]\n",
    "size_side_cl = df_side_cl.values.flatten()\n",
    "plt.hist(size_side_cl, bins=100)\n",
    "plt.xlabel('size of additional clusters (not main one)')\n",
    "\n",
    "print('number of cluster above 100:')\n",
    "print((size_side_cl > 100).sum())\n",
    "\n"
   ]
  },
  {
   "cell_type": "code",
   "execution_count": 32,
   "metadata": {},
   "outputs": [
    {
     "data": {
      "text/html": [
       "<div>\n",
       "<style scoped>\n",
       "    .dataframe tbody tr th:only-of-type {\n",
       "        vertical-align: middle;\n",
       "    }\n",
       "\n",
       "    .dataframe tbody tr th {\n",
       "        vertical-align: top;\n",
       "    }\n",
       "\n",
       "    .dataframe thead th {\n",
       "        text-align: right;\n",
       "    }\n",
       "</style>\n",
       "<table border=\"1\" class=\"dataframe\">\n",
       "  <thead>\n",
       "    <tr style=\"text-align: right;\">\n",
       "      <th></th>\n",
       "      <th>size_cluster_1</th>\n",
       "      <th>size_cluster_2</th>\n",
       "      <th>size_cluster_3</th>\n",
       "      <th>size_cluster_4</th>\n",
       "      <th>size_cluster_5</th>\n",
       "      <th>size_cluster_6</th>\n",
       "      <th>size_cluster_7</th>\n",
       "      <th>size_cluster_8</th>\n",
       "      <th>size_cluster_9</th>\n",
       "    </tr>\n",
       "  </thead>\n",
       "  <tbody>\n",
       "    <tr>\n",
       "      <th>0</th>\n",
       "      <td>NaN</td>\n",
       "      <td>NaN</td>\n",
       "      <td>NaN</td>\n",
       "      <td>NaN</td>\n",
       "      <td>NaN</td>\n",
       "      <td>NaN</td>\n",
       "      <td>NaN</td>\n",
       "      <td>NaN</td>\n",
       "      <td>NaN</td>\n",
       "    </tr>\n",
       "    <tr>\n",
       "      <th>0</th>\n",
       "      <td>NaN</td>\n",
       "      <td>NaN</td>\n",
       "      <td>NaN</td>\n",
       "      <td>NaN</td>\n",
       "      <td>NaN</td>\n",
       "      <td>NaN</td>\n",
       "      <td>NaN</td>\n",
       "      <td>NaN</td>\n",
       "      <td>NaN</td>\n",
       "    </tr>\n",
       "    <tr>\n",
       "      <th>0</th>\n",
       "      <td>2.0</td>\n",
       "      <td>NaN</td>\n",
       "      <td>NaN</td>\n",
       "      <td>NaN</td>\n",
       "      <td>NaN</td>\n",
       "      <td>NaN</td>\n",
       "      <td>NaN</td>\n",
       "      <td>NaN</td>\n",
       "      <td>NaN</td>\n",
       "    </tr>\n",
       "    <tr>\n",
       "      <th>0</th>\n",
       "      <td>NaN</td>\n",
       "      <td>NaN</td>\n",
       "      <td>NaN</td>\n",
       "      <td>NaN</td>\n",
       "      <td>NaN</td>\n",
       "      <td>NaN</td>\n",
       "      <td>NaN</td>\n",
       "      <td>NaN</td>\n",
       "      <td>NaN</td>\n",
       "    </tr>\n",
       "    <tr>\n",
       "      <th>0</th>\n",
       "      <td>3.0</td>\n",
       "      <td>NaN</td>\n",
       "      <td>NaN</td>\n",
       "      <td>NaN</td>\n",
       "      <td>NaN</td>\n",
       "      <td>NaN</td>\n",
       "      <td>NaN</td>\n",
       "      <td>NaN</td>\n",
       "      <td>NaN</td>\n",
       "    </tr>\n",
       "    <tr>\n",
       "      <th>...</th>\n",
       "      <td>...</td>\n",
       "      <td>...</td>\n",
       "      <td>...</td>\n",
       "      <td>...</td>\n",
       "      <td>...</td>\n",
       "      <td>...</td>\n",
       "      <td>...</td>\n",
       "      <td>...</td>\n",
       "      <td>...</td>\n",
       "    </tr>\n",
       "    <tr>\n",
       "      <th>0</th>\n",
       "      <td>1.0</td>\n",
       "      <td>NaN</td>\n",
       "      <td>NaN</td>\n",
       "      <td>NaN</td>\n",
       "      <td>NaN</td>\n",
       "      <td>NaN</td>\n",
       "      <td>NaN</td>\n",
       "      <td>NaN</td>\n",
       "      <td>NaN</td>\n",
       "    </tr>\n",
       "    <tr>\n",
       "      <th>0</th>\n",
       "      <td>79.0</td>\n",
       "      <td>NaN</td>\n",
       "      <td>NaN</td>\n",
       "      <td>NaN</td>\n",
       "      <td>NaN</td>\n",
       "      <td>NaN</td>\n",
       "      <td>NaN</td>\n",
       "      <td>NaN</td>\n",
       "      <td>NaN</td>\n",
       "    </tr>\n",
       "    <tr>\n",
       "      <th>0</th>\n",
       "      <td>NaN</td>\n",
       "      <td>NaN</td>\n",
       "      <td>NaN</td>\n",
       "      <td>NaN</td>\n",
       "      <td>NaN</td>\n",
       "      <td>NaN</td>\n",
       "      <td>NaN</td>\n",
       "      <td>NaN</td>\n",
       "      <td>NaN</td>\n",
       "    </tr>\n",
       "    <tr>\n",
       "      <th>0</th>\n",
       "      <td>233.0</td>\n",
       "      <td>5.0</td>\n",
       "      <td>14.0</td>\n",
       "      <td>5.0</td>\n",
       "      <td>3.0</td>\n",
       "      <td>2.0</td>\n",
       "      <td>1.0</td>\n",
       "      <td>1.0</td>\n",
       "      <td>NaN</td>\n",
       "    </tr>\n",
       "    <tr>\n",
       "      <th>0</th>\n",
       "      <td>2.0</td>\n",
       "      <td>NaN</td>\n",
       "      <td>NaN</td>\n",
       "      <td>NaN</td>\n",
       "      <td>NaN</td>\n",
       "      <td>NaN</td>\n",
       "      <td>NaN</td>\n",
       "      <td>NaN</td>\n",
       "      <td>NaN</td>\n",
       "    </tr>\n",
       "  </tbody>\n",
       "</table>\n",
       "<p>538 rows × 9 columns</p>\n",
       "</div>"
      ],
      "text/plain": [
       "    size_cluster_1  size_cluster_2  size_cluster_3  size_cluster_4  \\\n",
       "0              NaN             NaN             NaN             NaN   \n",
       "0              NaN             NaN             NaN             NaN   \n",
       "0              2.0             NaN             NaN             NaN   \n",
       "0              NaN             NaN             NaN             NaN   \n",
       "0              3.0             NaN             NaN             NaN   \n",
       "..             ...             ...             ...             ...   \n",
       "0              1.0             NaN             NaN             NaN   \n",
       "0             79.0             NaN             NaN             NaN   \n",
       "0              NaN             NaN             NaN             NaN   \n",
       "0            233.0             5.0            14.0             5.0   \n",
       "0              2.0             NaN             NaN             NaN   \n",
       "\n",
       "    size_cluster_5  size_cluster_6  size_cluster_7  size_cluster_8  \\\n",
       "0              NaN             NaN             NaN             NaN   \n",
       "0              NaN             NaN             NaN             NaN   \n",
       "0              NaN             NaN             NaN             NaN   \n",
       "0              NaN             NaN             NaN             NaN   \n",
       "0              NaN             NaN             NaN             NaN   \n",
       "..             ...             ...             ...             ...   \n",
       "0              NaN             NaN             NaN             NaN   \n",
       "0              NaN             NaN             NaN             NaN   \n",
       "0              NaN             NaN             NaN             NaN   \n",
       "0              3.0             2.0             1.0             1.0   \n",
       "0              NaN             NaN             NaN             NaN   \n",
       "\n",
       "    size_cluster_9  \n",
       "0              NaN  \n",
       "0              NaN  \n",
       "0              NaN  \n",
       "0              NaN  \n",
       "0              NaN  \n",
       "..             ...  \n",
       "0              NaN  \n",
       "0              NaN  \n",
       "0              NaN  \n",
       "0              NaN  \n",
       "0              NaN  \n",
       "\n",
       "[538 rows x 9 columns]"
      ]
     },
     "execution_count": 32,
     "metadata": {},
     "output_type": "execute_result"
    }
   ],
   "source": [
    "df_side_cl"
   ]
  },
  {
   "cell_type": "code",
   "execution_count": 100,
   "metadata": {},
   "outputs": [
    {
     "data": {
      "text/plain": [
       "Text(0.5, 1.0, 'Mann-Whitney test: stat=28532.0, p=0.04')"
      ]
     },
     "execution_count": 100,
     "metadata": {},
     "output_type": "execute_result"
    },
    {
     "data": {
      "image/png": "[encoded data removed]",
      "text/plain": [
       "<Figure size 432x288 with 1 Axes>"
      ]
     },
     "metadata": {
      "needs_background": "light"
     },
     "output_type": "display_data"
    }
   ],
   "source": [
    "# plot biggest cluster size in MRI-negative vs MRI-positive\n",
    "\n",
    "import scipy.stats as stats\n",
    "\n",
    "df['log_cluster'] = np.log(df['size_cluster_1.0'])\n",
    "pt.RainCloud(x='log_cluster', y='MRI-negative',  data=df, bw= .2, cut=0, orient='horizontal',  scale=\"area\", order=[0,1],\n",
    "            width_viol=.6, jitter = 0.1, dodge=False)\n",
    "\n",
    "plt.xlabel('Lesion mask size (Log of number of vertices)', fontsize=15)\n",
    "plt.ylabel('Ever reported MRI-negative', fontsize=15)\n",
    "# plt.xticks(, ['False', 'True'], fontsize=12)\n",
    "# range_log = np.linspace(1,10,10)\n",
    "# range_orig = [int(np.exp(x)) for x in range_log]\n",
    "# plt.xticks(range_log, range_orig)\n",
    "plt.yticks([0, 1], ['False', 'True'], fontsize=12)\n",
    "\n",
    "stat = stats.mannwhitneyu(df[df['MRI-negative']==1]['size_cluster_1.0'].values, df[df['MRI-negative']==0]['size_cluster_1.0'].values)\n",
    "#stats.ttest_ind(df[df['MRI-negative']==1]['log_cluster'].values, df[df['MRI-negative']==0]['log_cluster'].values)\n",
    "plt.title(f'Mann-Whitney test: stat={round(stat[0],2)}, p={round(stat[1],2)}')\n",
    "\n",
    "\n"
   ]
  },
  {
   "cell_type": "code",
   "execution_count": 97,
   "metadata": {},
   "outputs": [
    {
     "ename": "AttributeError",
     "evalue": "'XAxis' object has no attribute 'get_xticks'",
     "output_type": "error",
     "traceback": [
      "\u001b[0;31m---------------------------------------------------------------------------\u001b[0m",
      "\u001b[0;31mAttributeError\u001b[0m                            Traceback (most recent call last)",
      "\u001b[1;32m/home/co-ripa1/rds/hpc-work/scripts/meld_classifier_GDL/notebooks/analysis_lesion_mask.ipynb Cell 14\u001b[0m in \u001b[0;36m<module>\u001b[0;34m\u001b[0m\n\u001b[0;32m----> <a href='vscode-notebook-cell://ssh-remote%2Blogin-icelake.hpc.cam.ac.uk/home/co-ripa1/rds/hpc-work/scripts/meld_classifier_GDL/notebooks/analysis_lesion_mask.ipynb#X26sdnNjb2RlLXJlbW90ZQ%3D%3D?line=0'>1</a>\u001b[0m plt\u001b[39m.\u001b[39;49mgca()\u001b[39m.\u001b[39;49maxes\u001b[39m.\u001b[39;49mxaxis\u001b[39m.\u001b[39;49mget_xticks()\n",
      "\u001b[0;31mAttributeError\u001b[0m: 'XAxis' object has no attribute 'get_xticks'"
     ]
    },
    {
     "data": {
      "image/png": "[encoded data removed]",
      "text/plain": [
       "<Figure size 432x288 with 1 Axes>"
      ]
     },
     "metadata": {
      "needs_background": "light"
     },
     "output_type": "display_data"
    }
   ],
   "source": [
    "plt.gca().axes.xaxis.get_xticks()"
   ]
  },
  {
   "cell_type": "code",
   "execution_count": 84,
   "metadata": {},
   "outputs": [
    {
     "data": {
      "text/plain": [
       "0     1411\n",
       "0     1131\n",
       "0     3859\n",
       "0     2293\n",
       "0    27592\n",
       "     ...  \n",
       "0     3885\n",
       "0     2380\n",
       "0     2131\n",
       "0     6299\n",
       "0      779\n",
       "Name: size_cluster_1.0, Length: 538, dtype: int64"
      ]
     },
     "execution_count": 84,
     "metadata": {},
     "output_type": "execute_result"
    }
   ],
   "source": []
  },
  {
   "cell_type": "code",
   "execution_count": 78,
   "metadata": {},
   "outputs": [
    {
     "ename": "AttributeError",
     "evalue": "'function' object has no attribute 'get_xticklabels'",
     "output_type": "error",
     "traceback": [
      "\u001b[0;31m---------------------------------------------------------------------------\u001b[0m",
      "\u001b[0;31mAttributeError\u001b[0m                            Traceback (most recent call last)",
      "\u001b[1;32m/home/co-ripa1/rds/hpc-work/scripts/meld_classifier_GDL/notebooks/analysis_lesion_mask.ipynb Cell 14\u001b[0m in \u001b[0;36m<module>\u001b[0;34m\u001b[0m\n\u001b[0;32m----> <a href='vscode-notebook-cell://ssh-remote%2Blogin-icelake.hpc.cam.ac.uk/home/co-ripa1/rds/hpc-work/scripts/meld_classifier_GDL/notebooks/analysis_lesion_mask.ipynb#X24sdnNjb2RlLXJlbW90ZQ%3D%3D?line=0'>1</a>\u001b[0m plt\u001b[39m.\u001b[39;49maxes\u001b[39m.\u001b[39;49mget_xticklabels(minor\u001b[39m=\u001b[39m\u001b[39mFalse\u001b[39;00m, which\u001b[39m=\u001b[39m\u001b[39mNone\u001b[39;00m)\n",
      "\u001b[0;31mAttributeError\u001b[0m: 'function' object has no attribute 'get_xticklabels'"
     ]
    }
   ],
   "source": [
    "plt.axes.get_xticklabels(minor=False, which=None)\n"
   ]
  }
 ],
 "metadata": {
  "kernelspec": {
   "display_name": "Python 3.9.10 ('meld_graph')",
   "language": "python",
   "name": "python3"
  },
  "language_info": {
   "codemirror_mode": {
    "name": "ipython",
    "version": 3
   },
   "file_extension": ".py",
   "mimetype": "text/x-python",
   "name": "python",
   "nbconvert_exporter": "python",
   "pygments_lexer": "ipython3",
   "version": "3.9.10"
  },
  "orig_nbformat": 4,
  "vscode": {
   "interpreter": {
    "hash": "c0176ae289e59992559f0c449061dac3c0e6a1074598f8b14680b865216cf195"
   }
  }
 },
 "nbformat": 4,
 "nbformat_minor": 2
}
