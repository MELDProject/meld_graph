{
 "cells": [
  {
   "cell_type": "code",
   "execution_count": 1,
   "id": "4ad09881",
   "metadata": {},
   "outputs": [
    {
     "name": "stdout",
     "output_type": "stream",
     "text": [
      "Setting MELD_DATA_PATH to /home/co-spit1/meld_data\n",
      "Setting BASE_PATH to /home/co-spit1/meld_data\n",
      "Setting EXPERIMENT_PATH to /home/co-spit1/meld_experiments/co-spit1\n",
      "Setting FS_SUBJECTS_PATH to /home/co-spit1/meld_data/output/fs_outputs\n",
      "Setting EXPERIMENT_PATH to /rds/project/kw350/rds-kw350-meld/experiments_graph/co-spit1\n"
     ]
    }
   ],
   "source": [
    "import meld_graph\n",
    "import meld_graph.models\n",
    "import meld_graph.experiment\n",
    "import meld_graph.dataset\n",
    "import meld_graph.data_preprocessing\n",
    "import meld_graph.icospheres\n",
    "\n",
    "import importlib\n",
    "importlib.reload(meld_graph)\n",
    "importlib.reload(meld_graph.models)\n",
    "importlib.reload(meld_graph.dataset)\n",
    "importlib.reload(meld_graph.experiment)\n",
    "importlib.reload(meld_graph.data_preprocessing)\n",
    "\n",
    "from meld_graph.paths import EXPERIMENT_PATH\n",
    "import numpy as np\n",
    "\n",
    "import logging\n",
    "import argparse\n",
    "from copy import deepcopy\n",
    "import os\n",
    "from functools import reduce\n",
    "import operator"
   ]
  },
  {
   "cell_type": "code",
   "execution_count": 2,
   "id": "baf1794a",
   "metadata": {},
   "outputs": [],
   "source": [
    "def load_config(config_file):\n",
    "    \"\"\"load config.py file and return config object\"\"\"\n",
    "    import importlib.machinery, importlib.util\n",
    "\n",
    "    loader = importlib.machinery.SourceFileLoader(\"config\", config_file)\n",
    "    spec = importlib.util.spec_from_loader(loader.name, loader)\n",
    "    config = importlib.util.module_from_spec(spec)\n",
    "    loader.exec_module(config)\n",
    "    return config"
   ]
  },
  {
   "cell_type": "code",
   "execution_count": 4,
   "id": "6f1eb222",
   "metadata": {},
   "outputs": [],
   "source": [
    "config = load_config(\"../scripts/config_files/experiment_config_hannah_synth.py\")"
   ]
  },
  {
   "cell_type": "code",
   "execution_count": 5,
   "id": "b254f0d4",
   "metadata": {},
   "outputs": [
    {
     "name": "stdout",
     "output_type": "stream",
     "text": [
      "{'hdf5_file_root': '{site_code}_{group}_featurematrix_combat_6.hdf5', 'site_codes': ['H4'], 'scanners': ['15T', '3T'], 'dataset': 'MELD_dataset_V6.csv', 'group': 'both', 'features_to_exclude': [], 'subject_features_to_exclude': [], 'features': ['.on_lh.lesion.mgh', '.combat.on_lh.pial.K_filtered.sm20.mgh'], 'features_to_replace_with_0': [], 'number_of_folds': 10, 'fold_n': 0, 'preprocessing_parameters': {'scaling': None, 'zscore': False}, 'icosphere_parameters': {'distance_type': 'exact'}, 'augment_data': {}, 'combine_hemis': None, 'lobes': False, 'lesion_bias': 10, 'synthetic_data': {'n_subs': 100, 'bias': 0.5, 'radius': 0.5}}\n"
     ]
    }
   ],
   "source": [
    "print(config.data_parameters)"
   ]
  },
  {
   "cell_type": "markdown",
   "id": "ec1f0ad8",
   "metadata": {},
   "source": [
    "## train baseline model"
   ]
  },
  {
   "cell_type": "code",
   "execution_count": 6,
   "id": "18c1b051",
   "metadata": {},
   "outputs": [
    {
     "name": "stdout",
     "output_type": "stream",
     "text": [
      "{'hdf5_file_root': '{site_code}_{group}_featurematrix_combat_6.hdf5', 'site_codes': ['H4'], 'scanners': ['15T', '3T'], 'dataset': 'MELD_dataset_V6.csv', 'group': 'both', 'features_to_exclude': [], 'subject_features_to_exclude': [], 'features': ['.on_lh.lesion.mgh', '.combat.on_lh.pial.K_filtered.sm20.mgh'], 'features_to_replace_with_0': [], 'number_of_folds': 10, 'fold_n': 0, 'preprocessing_parameters': {'scaling': None, 'zscore': False}, 'icosphere_parameters': {'distance_type': 'exact'}, 'augment_data': {}, 'combine_hemis': None, 'lobes': False, 'lesion_bias': 10, 'synthetic_data': {'n_subs': 100, 'bias': 0.5, 'radius': 0.5}}\n",
      "{'network_type': 'MoNet', 'model_parameters': {'layer_sizes': [16, 16, 16], 'activation_fn': 'leaky_relu', 'conv_type': 'SpiralConv', 'dim': 2, 'kernel_size': 3, 'spiral_len': 7}, 'training_parameters': {'max_patience': 400, 'num_epochs': 20, 'optimiser': 'sgd', 'optimiser_parameters': {'lr': 0.0001, 'momentum': 0.99, 'nesterov': True}, 'lr_decay': 0, 'loss_dictionary': {'focal_loss': {'weight': 1, 'alpha': 0.4, 'gamma': 4}}, 'metrics': ['dice_lesion', 'dice_nonlesion', 'precision', 'recall', 'tp', 'fp', 'fn', 'tn'], 'batch_size': 2, 'shuffle_each_epoch': True, 'deep_supervision': {'levels': [], 'weight': 0.5}, 'oversampling': True}, 'name': '22-07-29_synth_3layer'}\n"
     ]
    }
   ],
   "source": [
    "print(config.data_parameters)\n",
    "print(config.network_parameters)"
   ]
  },
  {
   "cell_type": "code",
   "execution_count": 9,
   "id": "eba9f618",
   "metadata": {},
   "outputs": [
    {
     "name": "stdout",
     "output_type": "stream",
     "text": [
      "22-07-29_synth_3layer/pretrain_radius0.5\n"
     ]
    }
   ],
   "source": [
    "config.network_parameters['name'] += '/pretrain_radius0.5'\n",
    "print(config.network_parameters['name'])"
   ]
  },
  {
   "cell_type": "code",
   "execution_count": 10,
   "id": "255e1762",
   "metadata": {},
   "outputs": [
    {
     "name": "stderr",
     "output_type": "stream",
     "text": [
      "saving parameter files to /rds/project/kw350/rds-kw350-meld/experiments_graph/co-spit1/22-07-29_synth_3layer/pretrain_radius0.5/fold_00\n"
     ]
    }
   ],
   "source": [
    "exp = meld_graph.experiment.Experiment(config.network_parameters, config.data_parameters, verbose=logging.INFO)"
   ]
  },
  {
   "cell_type": "code",
   "execution_count": 11,
   "id": "e6b9f850",
   "metadata": {},
   "outputs": [],
   "source": [
    "trainer = meld_graph.training.Trainer(exp)"
   ]
  },
  {
   "cell_type": "code",
   "execution_count": 12,
   "id": "8c0b700d",
   "metadata": {},
   "outputs": [
    {
     "name": "stderr",
     "output_type": "stream",
     "text": [
      "Using coord type exact\n"
     ]
    },
    {
     "name": "stdout",
     "output_type": "stream",
     "text": [
      "conv 2 16\n",
      "conv 16 16\n",
      "conv 16 16\n"
     ]
    },
    {
     "name": "stderr",
     "output_type": "stream",
     "text": [
      "getting train val test split\n",
      "total number of subjects: 86\n",
      "total number of subjects after restricting to subjects from MELD_dataset_V6.csv: 86\n",
      "total number of subjects: 950\n",
      "total number of subjects after restricting to subjects from MELD_dataset_V6.csv: 942\n",
      "total number after filtering by scanner ['3T', '15T'], features, lesional_only True: 911\n",
      "full_feature_list: ['.combat.on_lh.curv.sm5.mgh', '.combat.on_lh.gm_FLAIR_0.25.sm10.mgh', '.combat.on_lh.gm_FLAIR_0.5.sm10.mgh', '.combat.on_lh.gm_FLAIR_0.75.sm10.mgh', '.combat.on_lh.gm_FLAIR_0.sm10.mgh', '.combat.on_lh.pial.K_filtered.sm20.mgh', '.combat.on_lh.sulc.sm5.mgh', '.combat.on_lh.thickness.sm10.mgh', '.combat.on_lh.w-g.pct.sm10.mgh', '.combat.on_lh.wm_FLAIR_0.5.sm10.mgh', '.combat.on_lh.wm_FLAIR_1.sm10.mgh', '.inter_z.asym.intra_z.combat.on_lh.curv.sm5.mgh', '.inter_z.asym.intra_z.combat.on_lh.gm_FLAIR_0.25.sm10.mgh', '.inter_z.asym.intra_z.combat.on_lh.gm_FLAIR_0.5.sm10.mgh', '.inter_z.asym.intra_z.combat.on_lh.gm_FLAIR_0.75.sm10.mgh', '.inter_z.asym.intra_z.combat.on_lh.gm_FLAIR_0.sm10.mgh', '.inter_z.asym.intra_z.combat.on_lh.pial.K_filtered.sm20.mgh', '.inter_z.asym.intra_z.combat.on_lh.sulc.sm5.mgh', '.inter_z.asym.intra_z.combat.on_lh.thickness.sm10.mgh', '.inter_z.asym.intra_z.combat.on_lh.w-g.pct.sm10.mgh', '.inter_z.asym.intra_z.combat.on_lh.wm_FLAIR_0.5.sm10.mgh', '.inter_z.asym.intra_z.combat.on_lh.wm_FLAIR_1.sm10.mgh', '.inter_z.intra_z.combat.on_lh.curv.sm5.mgh', '.inter_z.intra_z.combat.on_lh.gm_FLAIR_0.25.sm10.mgh', '.inter_z.intra_z.combat.on_lh.gm_FLAIR_0.5.sm10.mgh', '.inter_z.intra_z.combat.on_lh.gm_FLAIR_0.75.sm10.mgh', '.inter_z.intra_z.combat.on_lh.gm_FLAIR_0.sm10.mgh', '.inter_z.intra_z.combat.on_lh.pial.K_filtered.sm20.mgh', '.inter_z.intra_z.combat.on_lh.sulc.sm5.mgh', '.inter_z.intra_z.combat.on_lh.thickness.sm10.mgh', '.inter_z.intra_z.combat.on_lh.w-g.pct.sm10.mgh', '.inter_z.intra_z.combat.on_lh.wm_FLAIR_0.5.sm10.mgh', '.inter_z.intra_z.combat.on_lh.wm_FLAIR_1.sm10.mgh']\n",
      "total number after filtering by scanner ['15T', '3T'], features, lesional_only True: 86\n",
      "/home/co-spit1/.conda/envs/meld_test/lib/python3.9/site-packages/numpy/core/numeric.py:1211: VisibleDeprecationWarning: Creating an ndarray from ragged nested sequences (which is a list-or-tuple of lists-or-tuples-or ndarrays with different lengths or shapes) is deprecated. If you meant to do this, you must specify 'dtype=object' when creating the ndarray.\n",
      "  a = asanyarray(a)\n",
      "saving parameter files to /rds/project/kw350/rds-kw350-meld/experiments_graph/co-spit1/22-07-29_synth_3layer/pretrain_radius0.5/fold_00\n",
      "Loading and preprocessing data\n",
      "Combine hemis None\n",
      "Using coord type pseudo\n"
     ]
    },
    {
     "ename": "KeyError",
     "evalue": "'n_subtypes'",
     "output_type": "error",
     "traceback": [
      "\u001b[0;31m---------------------------------------------------------------------------\u001b[0m",
      "\u001b[0;31mKeyError\u001b[0m                                  Traceback (most recent call last)",
      "Input \u001b[0;32mIn [12]\u001b[0m, in \u001b[0;36m<module>\u001b[0;34m\u001b[0m\n\u001b[0;32m----> 1\u001b[0m \u001b[43mtrainer\u001b[49m\u001b[38;5;241;43m.\u001b[39;49m\u001b[43mtrain\u001b[49m\u001b[43m(\u001b[49m\u001b[43m)\u001b[49m\n",
      "File \u001b[0;32m~/software/meld_classifier_GDL/meld_graph/training.py:267\u001b[0m, in \u001b[0;36mTrainer.train\u001b[0;34m(self)\u001b[0m\n\u001b[1;32m    264\u001b[0m \u001b[38;5;28mself\u001b[39m\u001b[38;5;241m.\u001b[39mexperiment\u001b[38;5;241m.\u001b[39mmodel\u001b[38;5;241m.\u001b[39mto(device)\n\u001b[1;32m    266\u001b[0m \u001b[38;5;66;03m# get dataset\u001b[39;00m\n\u001b[0;32m--> 267\u001b[0m train_dset \u001b[38;5;241m=\u001b[39m \u001b[43mGraphDataset\u001b[49m\u001b[38;5;241;43m.\u001b[39;49m\u001b[43mfrom_experiment\u001b[49m\u001b[43m(\u001b[49m\u001b[38;5;28;43mself\u001b[39;49m\u001b[38;5;241;43m.\u001b[39;49m\u001b[43mexperiment\u001b[49m\u001b[43m,\u001b[49m\u001b[43m \u001b[49m\u001b[43mmode\u001b[49m\u001b[38;5;241;43m=\u001b[39;49m\u001b[38;5;124;43m'\u001b[39;49m\u001b[38;5;124;43mtrain\u001b[39;49m\u001b[38;5;124;43m'\u001b[39;49m\u001b[43m)\u001b[49m\n\u001b[1;32m    268\u001b[0m sampler \u001b[38;5;241m=\u001b[39m \u001b[38;5;28;01mNone\u001b[39;00m\n\u001b[1;32m    269\u001b[0m shuffle \u001b[38;5;241m=\u001b[39m \u001b[38;5;28mself\u001b[39m\u001b[38;5;241m.\u001b[39mparams[\u001b[38;5;124m'\u001b[39m\u001b[38;5;124mshuffle_each_epoch\u001b[39m\u001b[38;5;124m'\u001b[39m]\n",
      "File \u001b[0;32m~/software/meld_classifier_GDL/meld_graph/dataset.py:127\u001b[0m, in \u001b[0;36mGraphDataset.from_experiment\u001b[0;34m(cls, experiment, mode)\u001b[0m\n\u001b[1;32m    125\u001b[0m \u001b[38;5;66;03m# ensure that features are saved in experiment.data_parameters\u001b[39;00m\n\u001b[1;32m    126\u001b[0m experiment\u001b[38;5;241m.\u001b[39mget_features()\n\u001b[0;32m--> 127\u001b[0m \u001b[38;5;28;01mreturn\u001b[39;00m \u001b[38;5;28;43mcls\u001b[39;49m\u001b[43m(\u001b[49m\n\u001b[1;32m    128\u001b[0m \u001b[43m    \u001b[49m\u001b[43msubject_ids\u001b[49m\u001b[38;5;241;43m=\u001b[39;49m\u001b[43msubject_ids\u001b[49m\u001b[43m,\u001b[49m\n\u001b[1;32m    129\u001b[0m \u001b[43m    \u001b[49m\u001b[43mcohort\u001b[49m\u001b[38;5;241;43m=\u001b[39;49m\u001b[43mexperiment\u001b[49m\u001b[38;5;241;43m.\u001b[39;49m\u001b[43mcohort\u001b[49m\u001b[43m,\u001b[49m\n\u001b[1;32m    130\u001b[0m \u001b[43m    \u001b[49m\u001b[43mparams\u001b[49m\u001b[38;5;241;43m=\u001b[39;49m\u001b[43mexperiment\u001b[49m\u001b[38;5;241;43m.\u001b[39;49m\u001b[43mdata_parameters\u001b[49m\u001b[43m,\u001b[49m\n\u001b[1;32m    131\u001b[0m \u001b[43m    \u001b[49m\u001b[43mmode\u001b[49m\u001b[38;5;241;43m=\u001b[39;49m\u001b[43mmode\u001b[49m\u001b[43m,\u001b[49m\n\u001b[1;32m    132\u001b[0m \u001b[43m    \u001b[49m\u001b[43moutput_levels\u001b[49m\u001b[38;5;241;43m=\u001b[39;49m\u001b[43mexperiment\u001b[49m\u001b[38;5;241;43m.\u001b[39;49m\u001b[43mnetwork_parameters\u001b[49m\u001b[43m[\u001b[49m\u001b[38;5;124;43m'\u001b[39;49m\u001b[38;5;124;43mtraining_parameters\u001b[39;49m\u001b[38;5;124;43m'\u001b[39;49m\u001b[43m]\u001b[49m\u001b[38;5;241;43m.\u001b[39;49m\u001b[43mget\u001b[49m\u001b[43m(\u001b[49m\u001b[38;5;124;43m'\u001b[39;49m\u001b[38;5;124;43mdeep_supervision\u001b[39;49m\u001b[38;5;124;43m'\u001b[39;49m\u001b[43m,\u001b[49m\u001b[43m \u001b[49m\u001b[43m{\u001b[49m\u001b[43m}\u001b[49m\u001b[43m)\u001b[49m\u001b[38;5;241;43m.\u001b[39;49m\u001b[43mget\u001b[49m\u001b[43m(\u001b[49m\u001b[38;5;124;43m'\u001b[39;49m\u001b[38;5;124;43mlevels\u001b[39;49m\u001b[38;5;124;43m'\u001b[39;49m\u001b[43m,\u001b[49m\u001b[43m \u001b[49m\u001b[43m[\u001b[49m\u001b[43m]\u001b[49m\u001b[43m)\u001b[49m\u001b[43m,\u001b[49m\n\u001b[1;32m    133\u001b[0m \u001b[43m\u001b[49m\u001b[43m)\u001b[49m\n",
      "File \u001b[0;32m~/software/meld_classifier_GDL/meld_graph/dataset.py:85\u001b[0m, in \u001b[0;36mGraphDataset.__init__\u001b[0;34m(self, subject_ids, cohort, params, mode, transform, pre_transform, pre_filter, output_levels)\u001b[0m\n\u001b[1;32m     83\u001b[0m     \u001b[38;5;28mself\u001b[39m\u001b[38;5;241m.\u001b[39micospheres \u001b[38;5;241m=\u001b[39m IcoSpheres()\n\u001b[1;32m     84\u001b[0m \u001b[38;5;28;01mfor\u001b[39;00m subj_id \u001b[38;5;129;01min\u001b[39;00m \u001b[38;5;28mself\u001b[39m\u001b[38;5;241m.\u001b[39msubject_ids:\n\u001b[0;32m---> 85\u001b[0m     subtype\u001b[38;5;241m=\u001b[39mnp\u001b[38;5;241m.\u001b[39mrandom\u001b[38;5;241m.\u001b[39mchoice(\u001b[38;5;28mself\u001b[39m\u001b[38;5;241m.\u001b[39mparams[\u001b[38;5;124m'\u001b[39m\u001b[38;5;124msynthetic_data\u001b[39m\u001b[38;5;124m'\u001b[39m]\u001b[38;5;241m.\u001b[39mget(\u001b[38;5;124m'\u001b[39m\u001b[38;5;124mn_subtypes\u001b[39m\u001b[38;5;124m'\u001b[39m, \u001b[38;5;241m1\u001b[39m))\n\u001b[1;32m     86\u001b[0m     \u001b[38;5;28;01mif\u001b[39;00m \u001b[38;5;28mself\u001b[39m\u001b[38;5;241m.\u001b[39mparams[\u001b[38;5;124m'\u001b[39m\u001b[38;5;124msynthetic_data\u001b[39m\u001b[38;5;124m'\u001b[39m] \u001b[38;5;241m!=\u001b[39m\u001b[38;5;28;01mNone\u001b[39;00m:\n\u001b[1;32m     87\u001b[0m         features_left, lesion_left \u001b[38;5;241m=\u001b[39m prep\u001b[38;5;241m.\u001b[39mgenerate_synthetic_data(\u001b[38;5;28mself\u001b[39m\u001b[38;5;241m.\u001b[39micospheres\u001b[38;5;241m.\u001b[39micospheres[\u001b[38;5;241m7\u001b[39m][\u001b[38;5;124m'\u001b[39m\u001b[38;5;124mspherical_coords\u001b[39m\u001b[38;5;124m'\u001b[39m],\n\u001b[1;32m     88\u001b[0m                                                               \u001b[38;5;28mlen\u001b[39m(\u001b[38;5;28mself\u001b[39m\u001b[38;5;241m.\u001b[39mparams[\u001b[38;5;124m'\u001b[39m\u001b[38;5;124mfeatures\u001b[39m\u001b[38;5;124m'\u001b[39m]),\n\u001b[1;32m     89\u001b[0m                                                               \u001b[38;5;28mself\u001b[39m\u001b[38;5;241m.\u001b[39mparams[\u001b[38;5;124m'\u001b[39m\u001b[38;5;124msynthetic_data\u001b[39m\u001b[38;5;124m'\u001b[39m][\u001b[38;5;124m'\u001b[39m\u001b[38;5;124mbias\u001b[39m\u001b[38;5;124m'\u001b[39m],\n\u001b[1;32m     90\u001b[0m                                                                  \u001b[38;5;28mself\u001b[39m\u001b[38;5;241m.\u001b[39mparams[\u001b[38;5;124m'\u001b[39m\u001b[38;5;124msynthetic_data\u001b[39m\u001b[38;5;124m'\u001b[39m][\u001b[38;5;124m'\u001b[39m\u001b[38;5;124mradius\u001b[39m\u001b[38;5;124m'\u001b[39m],\n\u001b[1;32m     91\u001b[0m                                                                  histo_type_seed\u001b[38;5;241m=\u001b[39msubtype)\n",
      "\u001b[0;31mKeyError\u001b[0m: 'n_subtypes'"
     ]
    }
   ],
   "source": [
    "trainer.train()"
   ]
  },
  {
   "cell_type": "code",
   "execution_count": 9,
   "id": "1f969529",
   "metadata": {},
   "outputs": [
    {
     "name": "stdout",
     "output_type": "stream",
     "text": [
      "Parameter containing:\n",
      "tensor([[-0.1594],\n",
      "        [-0.0392]], device='cuda:0', requires_grad=True)\n",
      "Parameter containing:\n",
      "tensor([ 0.3608, -0.4987], device='cuda:0', requires_grad=True)\n"
     ]
    }
   ],
   "source": [
    "for p in exp.model.parameters():\n",
    "    print(p)\n"
   ]
  },
  {
   "cell_type": "code",
   "execution_count": 9,
   "id": "0334e6a5",
   "metadata": {},
   "outputs": [
    {
     "name": "stdout",
     "output_type": "stream",
     "text": [
      "tensor([10.9818, 11.1576])\n",
      "tensor([0.0000, 0.4085])\n"
     ]
    }
   ],
   "source": [
    "idxs = trainer.val_data_loader.dataset.lesional_idxs\n",
    "\n",
    "lesions = list(trainer.val_data_loader.dataset[idxs])\n",
    "\n",
    "print(lesions[0].x[lesions[0].y > 0].mean(axis=0))\n",
    "print(lesions[0].x[lesions[0].y == 0].mean(axis=0))"
   ]
  },
  {
   "cell_type": "code",
   "execution_count": 10,
   "id": "7aa4a869",
   "metadata": {},
   "outputs": [
    {
     "name": "stdout",
     "output_type": "stream",
     "text": [
      "tensor([10.9865, 10.2297])\n",
      "tensor([0.0000, 0.2891])\n"
     ]
    }
   ],
   "source": [
    "idxs = trainer.train_data_loader.dataset.lesional_idxs\n",
    "\n",
    "lesions = list(trainer.train_data_loader.dataset[idxs])\n",
    "\n",
    "print(lesions[0].x[lesions[0].y > 0].mean(axis=0))\n",
    "print(lesions[0].x[lesions[0].y == 0].mean(axis=0))"
   ]
  },
  {
   "cell_type": "code",
   "execution_count": 46,
   "id": "f5055fc3",
   "metadata": {},
   "outputs": [
    {
     "data": {
      "text/plain": [
       "tensor(650)"
      ]
     },
     "execution_count": 46,
     "metadata": {},
     "output_type": "execute_result"
    }
   ],
   "source": [
    "data_true = lesions[0].y\n",
    "sum(data_true)"
   ]
  },
  {
   "cell_type": "code",
   "execution_count": 47,
   "id": "3a7a41d8",
   "metadata": {},
   "outputs": [],
   "source": [
    "data_pred = exp.model(lesions[0].x.to(exp.model.device))[0]\n",
    "data_pred = np.argmax(data_pred.cpu().detach(), axis=1)"
   ]
  },
  {
   "cell_type": "code",
   "execution_count": 48,
   "id": "da598d4e",
   "metadata": {},
   "outputs": [
    {
     "data": {
      "text/plain": [
       "tensor(733)"
      ]
     },
     "execution_count": 48,
     "metadata": {},
     "output_type": "execute_result"
    }
   ],
   "source": [
    "sum(data_pred)"
   ]
  },
  {
   "cell_type": "code",
   "execution_count": 49,
   "id": "613b611e",
   "metadata": {},
   "outputs": [
    {
     "data": {
      "text/plain": [
       "tensor(83)"
      ]
     },
     "execution_count": 49,
     "metadata": {},
     "output_type": "execute_result"
    }
   ],
   "source": [
    "sum(~(data_true == data_pred))"
   ]
  },
  {
   "cell_type": "code",
   "execution_count": 50,
   "id": "2535a038",
   "metadata": {},
   "outputs": [
    {
     "data": {
      "text/plain": [
       "tensor([[-0.0469, -0.9361],\n",
       "        [-0.0469,  2.6119],\n",
       "        [-0.0469, -0.1069],\n",
       "        ...,\n",
       "        [-0.0469, -0.2335],\n",
       "        [-0.0469, -0.1417],\n",
       "        [-0.0469, -0.0278]])"
      ]
     },
     "execution_count": 50,
     "metadata": {},
     "output_type": "execute_result"
    }
   ],
   "source": [
    "lesions[0].x"
   ]
  },
  {
   "cell_type": "code",
   "execution_count": 51,
   "id": "6d445be8",
   "metadata": {},
   "outputs": [
    {
     "data": {
      "text/plain": [
       "tensor([[-0.0126, -1.1752],\n",
       "        [-0.0126, -1.1540],\n",
       "        [-0.0126, -0.2428],\n",
       "        ...,\n",
       "        [-0.0126,  0.8933],\n",
       "        [-0.0126,  0.9001],\n",
       "        [-0.0126,  1.0584]])"
      ]
     },
     "execution_count": 51,
     "metadata": {},
     "output_type": "execute_result"
    }
   ],
   "source": [
    "lesions[1].x"
   ]
  },
  {
   "cell_type": "code",
   "execution_count": null,
   "id": "be0246ff",
   "metadata": {},
   "outputs": [],
   "source": []
  }
 ],
 "metadata": {
  "kernelspec": {
   "display_name": "Python 3 (ipykernel)",
   "language": "python",
   "name": "python3"
  },
  "language_info": {
   "codemirror_mode": {
    "name": "ipython",
    "version": 3
   },
   "file_extension": ".py",
   "mimetype": "text/x-python",
   "name": "python",
   "nbconvert_exporter": "python",
   "pygments_lexer": "ipython3",
   "version": "3.9.7"
  }
 },
 "nbformat": 4,
 "nbformat_minor": 5
}
