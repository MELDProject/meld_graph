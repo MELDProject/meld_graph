{
 "cells": [
  {
   "cell_type": "code",
   "execution_count": 1,
   "id": "d4a76c64",
   "metadata": {},
   "outputs": [
    {
     "name": "stdout",
     "output_type": "stream",
     "text": [
      "Setting MELD_DATA_PATH to /rds/project/kw350/rds-kw350-meld/meld_data/Data\n",
      "Setting BASE_PATH to /rds/project/kw350/rds-kw350-meld/meld_data/Data\n",
      "Setting EXPERIMENT_PATH to /rds/project/kw350/rds-kw350-meld/experiments/co-ripa1/\n",
      "Setting FS_SUBJECTS_PATH to \n",
      "Setting EXPERIMENT_PATH to /rds/project/kw350/rds-kw350-meld/experiments_graph/kw350\n"
     ]
    }
   ],
   "source": [
    "import os\n",
    "import meld_graph\n",
    "import meld_graph.models\n",
    "import meld_graph.experiment\n",
    "import meld_graph.dataset\n",
    "import meld_graph.data_preprocessing\n",
    "import meld_graph.evaluation\n",
    "\n",
    "from meld_graph.dataset import GraphDataset\n",
    "from meld_classifier.meld_cohort import MeldCohort\n",
    "\n",
    "from meld_graph.evaluation import Evaluator\n",
    "from meld_graph.evaluation import load_prediction\n",
    "import numpy as np\n",
    "import json\n",
    "import matplotlib.pyplot as plt \n",
    "import seaborn as sns\n",
    "\n",
    "\n"
   ]
  },
  {
   "cell_type": "code",
   "execution_count": 2,
   "id": "7d9cd46f",
   "metadata": {},
   "outputs": [],
   "source": [
    "save_dir = '/rds/project/kw350/rds-kw350-meld/experiments_graph/co-ripa1/23-09-12_TEST_optimise_sigmoid'\n"
   ]
  },
  {
   "cell_type": "code",
   "execution_count": 6,
   "id": "79ae02ca",
   "metadata": {},
   "outputs": [
    {
     "name": "stderr",
     "output_type": "stream",
     "text": [
      "Initialised Experiment 23-08-18_IFYF_object_save_final/s_0\n",
      "Loading and preprocessing test data\n",
      "Z-scoring data for MELD_H17_3T_FCD_0035\n",
      "Z-scoring data for MELD_H21_15T_FCD_0039\n",
      "Evaluation test, min area threshold=100, threshold sigmoid(ymin=0.03, ymax=0.5, k=1.0, m=0.05)\n",
      "Creating model\n",
      "Creating ensemble model\n",
      "Loading ensemble model weights from checkpoint /rds/project/kw350/rds-kw350-meld/experiments_graph/kw350/23-08-18_IFYF_object_save_final/s_0/fold_all/ensemble_model.pt\n"
     ]
    }
   ],
   "source": [
    "# load experiment\n",
    "model_path = '/rds/project/kw350/rds-kw350-meld/experiments_graph/kw350/23-08-18_IFYF_object_save_final/s_0/fold_all'\n",
    "exp = meld_graph.experiment.Experiment.from_folder(model_path)\n",
    "exp.data_parameters[\"augment_data\"] = {}\n",
    "\n",
    "# load sigmoid\n",
    "sigmoid_file = '/rds/project/kw350/rds-kw350-meld/experiments_graph/co-ripa1/23-08-39_TEST_optimise_sigmoid/sigmoid_optimal_parameters.csv'\n",
    "\n",
    "# load trainval dataset\n",
    "split = \"trainval\"\n",
    "subjects = exp.data_parameters[\"train_ids\"] + exp.data_parameters[\"val_ids\"]\n",
    "subjects = subjects[0:2]\n",
    "# subjects= ['MELD_H14_3T_FCD_0019', 'MELD_H14_3T_FCD_0017','MELD_H23_15T_FCD_0007',]\n",
    "\n",
    "features = exp.data_parameters[\"features\"]\n",
    "cohort = MeldCohort(\n",
    "        hdf5_file_root=exp.data_parameters[\"hdf5_file_root\"],\n",
    "        dataset=exp.data_parameters[\"dataset\"],\n",
    "    )\n",
    "dataset = GraphDataset(subjects, cohort, exp.data_parameters, mode=\"test\")\n",
    "    \n",
    "# create evaluator\n",
    "eva = Evaluator(\n",
    "    experiment=exp,\n",
    "    checkpoint_path=model_path,\n",
    "    make_images=False,\n",
    "    dataset=dataset,\n",
    "    cohort=cohort,\n",
    "    save_dir=save_dir,\n",
    "    subject_ids=subjects,\n",
    "    mode=\"test\",\n",
    "    threshold=sigmoid_file,\n",
    ")\n"
   ]
  },
  {
   "cell_type": "code",
   "execution_count": 9,
   "id": "17bf6c66",
   "metadata": {},
   "outputs": [
    {
     "data": {
      "text/plain": [
       "'/rds/project/kw350/rds-kw350-meld/experiments_graph/kw350/23-08-18_IFYF_object_save_final/s_0/fold_00'"
      ]
     },
     "execution_count": 9,
     "metadata": {},
     "output_type": "execute_result"
    }
   ],
   "source": [
    "eva.experiment.experiment_path"
   ]
  },
  {
   "cell_type": "code",
   "execution_count": 7,
   "id": "70f5e7ef",
   "metadata": {},
   "outputs": [
    {
     "data": {
      "text/plain": [
       "array([0.03, 0.5 , 1.  , 0.05])"
      ]
     },
     "execution_count": 7,
     "metadata": {},
     "output_type": "execute_result"
    }
   ],
   "source": [
    "eva.threshold"
   ]
  },
  {
   "cell_type": "code",
   "execution_count": 5,
   "id": "60113edb",
   "metadata": {},
   "outputs": [
    {
     "name": "stderr",
     "output_type": "stream",
     "text": [
      "Loading and preprocessing test data\n",
      "Z-scoring data for MELD_H17_3T_FCD_0035\n"
     ]
    }
   ],
   "source": [
    "## load prediction from file\n",
    "\n",
    "subj_id = 'MELD_H17_3T_FCD_0035'\n",
    "dictio = eva.load_data_from_file(subj_id, \n",
    "                                 keys=['result','distance_map','input_labels','input_features'], \n",
    "                                 split_hemis=False, \n",
    "                                 save_prediction_suffix=\"_trainval\")"
   ]
  },
  {
   "cell_type": "code",
   "execution_count": 6,
   "id": "72f4b1f9",
   "metadata": {},
   "outputs": [
    {
     "data": {
      "text/plain": [
       "(293804, 34)"
      ]
     },
     "execution_count": 6,
     "metadata": {},
     "output_type": "execute_result"
    }
   ],
   "source": [
    "dictio['input_features'].shape"
   ]
  },
  {
   "cell_type": "code",
   "execution_count": 13,
   "id": "c7856540",
   "metadata": {},
   "outputs": [
    {
     "name": "stderr",
     "output_type": "stream",
     "text": [
      "loading data and predicting model\n"
     ]
    }
   ],
   "source": [
    "save_prediction = True\n",
    "roc_curves_thresholds = None\n",
    "suffix = \"_trainval\"\n",
    "\n",
    "eva.load_predict_data(\n",
    "    save_prediction=False,\n",
    "    roc_curves_thresholds=roc_curves_thresholds,\n",
    "    save_prediction_suffix=suffix,\n",
    ")   "
   ]
  },
  {
   "cell_type": "code",
   "execution_count": 20,
   "id": "067a0dae",
   "metadata": {},
   "outputs": [
    {
     "data": {
      "text/plain": [
       "{'input_labels': array([0, 0, 0, ..., 0, 0, 0]),\n",
       " 'result': array([0.00115602, 0.00094397, 0.0011243 , ..., 0.00667096, 0.00633547,\n",
       "        0.00591009], dtype=float32),\n",
       " 'distance_map': array([0.9346576 , 0.94813955, 0.9464396 , ..., 0.45487157, 0.4512147 ,\n",
       "        0.4527034 ], dtype=float32),\n",
       " 'borderzone': array([False, False, False, ..., False, False, False]),\n",
       " 'input_features': array([[-1.1368638 ,  0.50092256,  0.28129432, ...,  0.04365344,\n",
       "         -0.17264554, -0.65020376],\n",
       "        [-1.005522  , -0.5925906 , -0.66931605, ..., -0.9619824 ,\n",
       "         -0.7321275 , -0.5194299 ],\n",
       "        [-0.26274064, -0.04233593, -0.02707768, ...,  2.0590827 ,\n",
       "          1.6008804 ,  1.8320981 ],\n",
       "        ...,\n",
       "        [ 0.24437492,  1.3761927 ,  1.441075  , ..., -0.0089421 ,\n",
       "         -0.54479945, -0.8769303 ],\n",
       "        [ 0.48616728,  1.6734843 ,  1.8314601 , ..., -0.05668959,\n",
       "         -0.5334632 , -0.7556283 ],\n",
       "        [ 0.6129601 ,  1.8522564 ,  2.0782573 , ..., -0.18703522,\n",
       "         -0.62097186, -0.61293644]], dtype=float32)}"
      ]
     },
     "execution_count": 20,
     "metadata": {},
     "output_type": "execute_result"
    }
   ],
   "source": [
    "eva.data_dictionary['MELD_H17_3T_FCD_0035']"
   ]
  },
  {
   "cell_type": "code",
   "execution_count": 7,
   "id": "82a390c2",
   "metadata": {},
   "outputs": [],
   "source": [
    "save_dir = os.path.join(save_dir,f'fold_all', 'results')"
   ]
  },
  {
   "cell_type": "code",
   "execution_count": 9,
   "id": "f7220ac3",
   "metadata": {},
   "outputs": [
    {
     "name": "stdout",
     "output_type": "stream",
     "text": [
      "0.01 0.3 1 0.1\n",
      "0.01 0.3 1 0.05\n",
      "0.01 0.4 1 0.1\n",
      "0.01 0.4 1 0.05\n",
      "0.01 0.5 1 0.1\n",
      "0.01 0.5 1 0.05\n",
      "0.03 0.3 1 0.1\n",
      "0.03 0.3 1 0.05\n",
      "0.03 0.4 1 0.1\n",
      "0.03 0.4 1 0.05\n",
      "0.03 0.5 1 0.1\n",
      "0.03 0.5 1 0.05\n",
      "0.05 0.3 1 0.1\n",
      "0.05 0.3 1 0.05\n",
      "0.05 0.4 1 0.1\n",
      "0.05 0.4 1 0.05\n",
      "0.05 0.5 1 0.1\n",
      "0.05 0.5 1 0.05\n"
     ]
    },
    {
     "data": {
      "text/html": [
       "<div>\n",
       "<style scoped>\n",
       "    .dataframe tbody tr th:only-of-type {\n",
       "        vertical-align: middle;\n",
       "    }\n",
       "\n",
       "    .dataframe tbody tr th {\n",
       "        vertical-align: top;\n",
       "    }\n",
       "\n",
       "    .dataframe thead th {\n",
       "        text-align: right;\n",
       "    }\n",
       "</style>\n",
       "<table border=\"1\" class=\"dataframe\">\n",
       "  <thead>\n",
       "    <tr style=\"text-align: right;\">\n",
       "      <th></th>\n",
       "      <th>dice</th>\n",
       "      <th>sensitivity</th>\n",
       "      <th>ymin</th>\n",
       "      <th>ymax</th>\n",
       "      <th>k</th>\n",
       "      <th>m</th>\n",
       "      <th>desc</th>\n",
       "      <th>sum</th>\n",
       "    </tr>\n",
       "  </thead>\n",
       "  <tbody>\n",
       "    <tr>\n",
       "      <th>0</th>\n",
       "      <td>0.595800</td>\n",
       "      <td>0.857143</td>\n",
       "      <td>0.01</td>\n",
       "      <td>0.3</td>\n",
       "      <td>1</td>\n",
       "      <td>0.10</td>\n",
       "      <td>ymin0.01_ymax0.3_k1_m0.1</td>\n",
       "      <td>1.452943</td>\n",
       "    </tr>\n",
       "    <tr>\n",
       "      <th>1</th>\n",
       "      <td>0.588525</td>\n",
       "      <td>0.857143</td>\n",
       "      <td>0.01</td>\n",
       "      <td>0.3</td>\n",
       "      <td>1</td>\n",
       "      <td>0.05</td>\n",
       "      <td>ymin0.01_ymax0.3_k1_m0.05</td>\n",
       "      <td>1.445668</td>\n",
       "    </tr>\n",
       "    <tr>\n",
       "      <th>2</th>\n",
       "      <td>0.602702</td>\n",
       "      <td>0.857143</td>\n",
       "      <td>0.01</td>\n",
       "      <td>0.4</td>\n",
       "      <td>1</td>\n",
       "      <td>0.10</td>\n",
       "      <td>ymin0.01_ymax0.4_k1_m0.1</td>\n",
       "      <td>1.459845</td>\n",
       "    </tr>\n",
       "    <tr>\n",
       "      <th>3</th>\n",
       "      <td>0.617814</td>\n",
       "      <td>0.857143</td>\n",
       "      <td>0.01</td>\n",
       "      <td>0.4</td>\n",
       "      <td>1</td>\n",
       "      <td>0.05</td>\n",
       "      <td>ymin0.01_ymax0.4_k1_m0.05</td>\n",
       "      <td>1.474957</td>\n",
       "    </tr>\n",
       "    <tr>\n",
       "      <th>4</th>\n",
       "      <td>0.599250</td>\n",
       "      <td>0.857143</td>\n",
       "      <td>0.01</td>\n",
       "      <td>0.5</td>\n",
       "      <td>1</td>\n",
       "      <td>0.10</td>\n",
       "      <td>ymin0.01_ymax0.5_k1_m0.1</td>\n",
       "      <td>1.456393</td>\n",
       "    </tr>\n",
       "    <tr>\n",
       "      <th>5</th>\n",
       "      <td>0.620499</td>\n",
       "      <td>0.857143</td>\n",
       "      <td>0.01</td>\n",
       "      <td>0.5</td>\n",
       "      <td>1</td>\n",
       "      <td>0.05</td>\n",
       "      <td>ymin0.01_ymax0.5_k1_m0.05</td>\n",
       "      <td>1.477642</td>\n",
       "    </tr>\n",
       "    <tr>\n",
       "      <th>6</th>\n",
       "      <td>0.617896</td>\n",
       "      <td>0.857143</td>\n",
       "      <td>0.03</td>\n",
       "      <td>0.3</td>\n",
       "      <td>1</td>\n",
       "      <td>0.10</td>\n",
       "      <td>ymin0.03_ymax0.3_k1_m0.1</td>\n",
       "      <td>1.475039</td>\n",
       "    </tr>\n",
       "    <tr>\n",
       "      <th>7</th>\n",
       "      <td>0.613694</td>\n",
       "      <td>0.857143</td>\n",
       "      <td>0.03</td>\n",
       "      <td>0.3</td>\n",
       "      <td>1</td>\n",
       "      <td>0.05</td>\n",
       "      <td>ymin0.03_ymax0.3_k1_m0.05</td>\n",
       "      <td>1.470837</td>\n",
       "    </tr>\n",
       "    <tr>\n",
       "      <th>8</th>\n",
       "      <td>0.624605</td>\n",
       "      <td>0.857143</td>\n",
       "      <td>0.03</td>\n",
       "      <td>0.4</td>\n",
       "      <td>1</td>\n",
       "      <td>0.10</td>\n",
       "      <td>ymin0.03_ymax0.4_k1_m0.1</td>\n",
       "      <td>1.481748</td>\n",
       "    </tr>\n",
       "    <tr>\n",
       "      <th>9</th>\n",
       "      <td>0.638913</td>\n",
       "      <td>0.857143</td>\n",
       "      <td>0.03</td>\n",
       "      <td>0.4</td>\n",
       "      <td>1</td>\n",
       "      <td>0.05</td>\n",
       "      <td>ymin0.03_ymax0.4_k1_m0.05</td>\n",
       "      <td>1.496056</td>\n",
       "    </tr>\n",
       "    <tr>\n",
       "      <th>10</th>\n",
       "      <td>0.621272</td>\n",
       "      <td>0.857143</td>\n",
       "      <td>0.03</td>\n",
       "      <td>0.5</td>\n",
       "      <td>1</td>\n",
       "      <td>0.10</td>\n",
       "      <td>ymin0.03_ymax0.5_k1_m0.1</td>\n",
       "      <td>1.478415</td>\n",
       "    </tr>\n",
       "    <tr>\n",
       "      <th>11</th>\n",
       "      <td>0.641437</td>\n",
       "      <td>0.857143</td>\n",
       "      <td>0.03</td>\n",
       "      <td>0.5</td>\n",
       "      <td>1</td>\n",
       "      <td>0.05</td>\n",
       "      <td>ymin0.03_ymax0.5_k1_m0.05</td>\n",
       "      <td>1.498580</td>\n",
       "    </tr>\n",
       "    <tr>\n",
       "      <th>12</th>\n",
       "      <td>0.618320</td>\n",
       "      <td>0.857143</td>\n",
       "      <td>0.05</td>\n",
       "      <td>0.3</td>\n",
       "      <td>1</td>\n",
       "      <td>0.10</td>\n",
       "      <td>ymin0.05_ymax0.3_k1_m0.1</td>\n",
       "      <td>1.475463</td>\n",
       "    </tr>\n",
       "    <tr>\n",
       "      <th>13</th>\n",
       "      <td>0.616865</td>\n",
       "      <td>0.857143</td>\n",
       "      <td>0.05</td>\n",
       "      <td>0.3</td>\n",
       "      <td>1</td>\n",
       "      <td>0.05</td>\n",
       "      <td>ymin0.05_ymax0.3_k1_m0.05</td>\n",
       "      <td>1.474008</td>\n",
       "    </tr>\n",
       "    <tr>\n",
       "      <th>14</th>\n",
       "      <td>0.624773</td>\n",
       "      <td>0.857143</td>\n",
       "      <td>0.05</td>\n",
       "      <td>0.4</td>\n",
       "      <td>1</td>\n",
       "      <td>0.10</td>\n",
       "      <td>ymin0.05_ymax0.4_k1_m0.1</td>\n",
       "      <td>1.481916</td>\n",
       "    </tr>\n",
       "    <tr>\n",
       "      <th>15</th>\n",
       "      <td>0.639377</td>\n",
       "      <td>0.857143</td>\n",
       "      <td>0.05</td>\n",
       "      <td>0.4</td>\n",
       "      <td>1</td>\n",
       "      <td>0.05</td>\n",
       "      <td>ymin0.05_ymax0.4_k1_m0.05</td>\n",
       "      <td>1.496520</td>\n",
       "    </tr>\n",
       "    <tr>\n",
       "      <th>16</th>\n",
       "      <td>0.620532</td>\n",
       "      <td>0.857143</td>\n",
       "      <td>0.05</td>\n",
       "      <td>0.5</td>\n",
       "      <td>1</td>\n",
       "      <td>0.10</td>\n",
       "      <td>ymin0.05_ymax0.5_k1_m0.1</td>\n",
       "      <td>1.477675</td>\n",
       "    </tr>\n",
       "    <tr>\n",
       "      <th>17</th>\n",
       "      <td>0.641225</td>\n",
       "      <td>0.857143</td>\n",
       "      <td>0.05</td>\n",
       "      <td>0.5</td>\n",
       "      <td>1</td>\n",
       "      <td>0.05</td>\n",
       "      <td>ymin0.05_ymax0.5_k1_m0.05</td>\n",
       "      <td>1.498368</td>\n",
       "    </tr>\n",
       "  </tbody>\n",
       "</table>\n",
       "</div>"
      ],
      "text/plain": [
       "        dice  sensitivity  ymin  ymax  k     m                       desc  \\\n",
       "0   0.595800     0.857143  0.01   0.3  1  0.10   ymin0.01_ymax0.3_k1_m0.1   \n",
       "1   0.588525     0.857143  0.01   0.3  1  0.05  ymin0.01_ymax0.3_k1_m0.05   \n",
       "2   0.602702     0.857143  0.01   0.4  1  0.10   ymin0.01_ymax0.4_k1_m0.1   \n",
       "3   0.617814     0.857143  0.01   0.4  1  0.05  ymin0.01_ymax0.4_k1_m0.05   \n",
       "4   0.599250     0.857143  0.01   0.5  1  0.10   ymin0.01_ymax0.5_k1_m0.1   \n",
       "5   0.620499     0.857143  0.01   0.5  1  0.05  ymin0.01_ymax0.5_k1_m0.05   \n",
       "6   0.617896     0.857143  0.03   0.3  1  0.10   ymin0.03_ymax0.3_k1_m0.1   \n",
       "7   0.613694     0.857143  0.03   0.3  1  0.05  ymin0.03_ymax0.3_k1_m0.05   \n",
       "8   0.624605     0.857143  0.03   0.4  1  0.10   ymin0.03_ymax0.4_k1_m0.1   \n",
       "9   0.638913     0.857143  0.03   0.4  1  0.05  ymin0.03_ymax0.4_k1_m0.05   \n",
       "10  0.621272     0.857143  0.03   0.5  1  0.10   ymin0.03_ymax0.5_k1_m0.1   \n",
       "11  0.641437     0.857143  0.03   0.5  1  0.05  ymin0.03_ymax0.5_k1_m0.05   \n",
       "12  0.618320     0.857143  0.05   0.3  1  0.10   ymin0.05_ymax0.3_k1_m0.1   \n",
       "13  0.616865     0.857143  0.05   0.3  1  0.05  ymin0.05_ymax0.3_k1_m0.05   \n",
       "14  0.624773     0.857143  0.05   0.4  1  0.10   ymin0.05_ymax0.4_k1_m0.1   \n",
       "15  0.639377     0.857143  0.05   0.4  1  0.05  ymin0.05_ymax0.4_k1_m0.05   \n",
       "16  0.620532     0.857143  0.05   0.5  1  0.10   ymin0.05_ymax0.5_k1_m0.1   \n",
       "17  0.641225     0.857143  0.05   0.5  1  0.05  ymin0.05_ymax0.5_k1_m0.05   \n",
       "\n",
       "         sum  \n",
       "0   1.452943  \n",
       "1   1.445668  \n",
       "2   1.459845  \n",
       "3   1.474957  \n",
       "4   1.456393  \n",
       "5   1.477642  \n",
       "6   1.475039  \n",
       "7   1.470837  \n",
       "8   1.481748  \n",
       "9   1.496056  \n",
       "10  1.478415  \n",
       "11  1.498580  \n",
       "12  1.475463  \n",
       "13  1.474008  \n",
       "14  1.481916  \n",
       "15  1.496520  \n",
       "16  1.477675  \n",
       "17  1.498368  "
      ]
     },
     "execution_count": 9,
     "metadata": {},
     "output_type": "execute_result"
    },
    {
     "data": {
      "image/png": "[encoded data removed]",
      "text/plain": [
       "<Figure size 432x288 with 1 Axes>"
      ]
     },
     "metadata": {
      "needs_background": "light"
     },
     "output_type": "display_data"
    },
    {
     "data": {
      "image/png": "[encoded data removed]",
      "text/plain": [
       "<Figure size 432x288 with 1 Axes>"
      ]
     },
     "metadata": {
      "needs_background": "light"
     },
     "output_type": "display_data"
    }
   ],
   "source": [
    "eva.optimise_sigmoid(ymin_r=[0.01,0.03,0.05], ymax_r=[0.3,0.4,0.5], k_r=[1], m_r=[0.1,0.05]) "
   ]
  },
  {
   "cell_type": "code",
   "execution_count": 8,
   "id": "3111a6e0",
   "metadata": {},
   "outputs": [],
   "source": [
    "# load individual subject predictions \n",
    "subjects_dict = eva.data_dictionary\n",
    "   "
   ]
  },
  {
   "cell_type": "code",
   "execution_count": null,
   "id": "6733dd98",
   "metadata": {},
   "outputs": [],
   "source": [
    "import itertools\n",
    "import torch\n",
    "import pandas as pd\n",
    "from meld_graph.evaluation import sigmoid\n",
    "\n",
    "from meld_graph.training import tp_fp_fn_tn, dice_coeff\n",
    "\n",
    "def get_scores(subjects_dict, thresholds):\n",
    "    \"\"\"\n",
    "    return sensitivity & dice for given threshold\n",
    "    \"\"\"\n",
    "    patient_sens = []\n",
    "    dice = []\n",
    "    for subj, thresh in zip(subjects_dict, thresholds):\n",
    "        subj = subjects_dict[subj]\n",
    "\n",
    "        mask = torch.as_tensor(np.array(subj['result'] >= thresh)).long()\n",
    "        label = torch.as_tensor(np.array(subj['input_labels'].astype(bool))).long()\n",
    "        dices = dice_coeff(torch.nn.functional.one_hot(mask, num_classes=2), label)\n",
    "        #report dice lesional\n",
    "        dice.append(dices[1])\n",
    "        #get sensitivity\n",
    "        tp, fp, fn, tn = tp_fp_fn_tn(mask, label)       \n",
    "        if sum(subj['input_labels']) != 0:\n",
    "            patient_sens.append(tp > 1)\n",
    "    return np.mean(dice), np.mean(patient_sens)\n",
    "\n",
    "def optimise_sigmoid(min_dist, save_dir, ymin_r=[0.01,0.03,0.05], ymax_r=[0.3,0.4,0.5], k_r=[1], m_r=[0.1,0.05]): \n",
    "    \"\"\"\n",
    "    Function to find the parameters of the sigmoid used to threshold the predictions based on min_distance\n",
    "    It returns the ymin, ymax, k and m parameters that find an optimal compromise between sensitivity and dice score\n",
    "\n",
    "    Args:\n",
    "        min_dist: the array of min distances of all subjects\n",
    "        save_dir: the directory to save the csv with the best parameters and plot the sigmoid\n",
    "        k_r: the range of slopes to try\n",
    "        m_r: the range of midpoint to try\n",
    "        ymin_r: the range of min value to try\n",
    "        ymax_r: the range of max value to try\n",
    "    \"\"\"\n",
    "    \n",
    "    # calculate threshold as a function of min dist\n",
    "    res = [] \n",
    "    for ymin,ymax,k,m in itertools.product(ymin_r,ymax_r,k_r,m_r):\n",
    "        print(ymin,ymax,k,m)\n",
    "        thresholds = sigmoid(np.array(min_dist), k=k, m=m, ymax=ymax, ymin=ymin)\n",
    "        cur_dice, cur_sens = get_scores(subjects_dict, thresholds)\n",
    "        res.append({'dice': cur_dice, 'sensitivity': cur_sens,'ymin':ymin, 'ymax':ymax, 'k':k, 'm':m, 'desc':f'ymin{ymin}_ymax{ymax}_k{k}_m{m}'})\n",
    "    \n",
    "    df = pd.DataFrame(res)\n",
    "    \n",
    "    # plot the results\n",
    "    ax = sns.scatterplot(data=df, x='desc', y='dice', label='dice') #, 'sensitivity'))\n",
    "    ax = sns.scatterplot(data=df, x='desc', y='sensitivity', label='sensitivity')\n",
    "    for tick in ax.xaxis.get_ticklabels():\n",
    "        tick.set_rotation(90)\n",
    "    plt.ylabel('score')\n",
    "    plt.xlabel('k (sigmoid param)')\n",
    "    plt.legend()\n",
    "\n",
    "    # find the parameters of the best sigmoid \n",
    "    df['sum'] = df['sensitivity'].values + df['dice'].values\n",
    "    best_dice_sens = df['sum'].max()\n",
    "    df_best = df[df['sum'] == best_dice_sens]\n",
    "\n",
    "    #save best parameters\n",
    "    filename = os.path.join(save_dir,'sigmoid_optimal_parameters.csv')\n",
    "    df_best.to_csv(filename)\n",
    "\n",
    "    # plot the selected sigmoid\n",
    "    plt.figure()\n",
    "    ymin,ymax,k,m = df_best[['ymin','ymax','k','m']].values[0]\n",
    "    plt.plot(np.linspace(0,1,100), sigmoid(np.linspace(0,1,100), k=k, m=m, ymax=ymax, ymin=ymin), label=f'ymin{ymin}_ymax{ymax}_k{k}_m{m}')\n",
    "    plt.ylabel('threshold')\n",
    "    plt.xlabel('min_dist')\n",
    "    plt.legend()\n",
    "\n",
    "    filename = os.path.join(save_dir,'sigmoid_optimal_parameters.png')\n",
    "    plt.savefig(filename)\n",
    "\n",
    "    return df"
   ]
  },
  {
   "cell_type": "code",
   "execution_count": null,
   "id": "cfabddbf",
   "metadata": {},
   "outputs": [],
   "source": [
    "min_dist = [subjects_dict[subject]['distance_map'].min() for subject in subjects_dict.keys()]\n",
    "df = optimise_sigmoid(min_dist, save_dir, ymin_r=[0.01,0.03,0.05], ymax_r=[0.2,0.3,0.4,0.5], k_r=[1], m_r=[0.1,0.05])"
   ]
  },
  {
   "cell_type": "code",
   "execution_count": null,
   "id": "af58b844",
   "metadata": {},
   "outputs": [],
   "source": [
    "df"
   ]
  }
 ],
 "metadata": {
  "kernelspec": {
   "display_name": "Python 3 (ipykernel)",
   "language": "python",
   "name": "python3"
  },
  "language_info": {
   "codemirror_mode": {
    "name": "ipython",
    "version": 3
   },
   "file_extension": ".py",
   "mimetype": "text/x-python",
   "name": "python",
   "nbconvert_exporter": "python",
   "pygments_lexer": "ipython3",
   "version": "3.9.10"
  }
 },
 "nbformat": 4,
 "nbformat_minor": 5
}
