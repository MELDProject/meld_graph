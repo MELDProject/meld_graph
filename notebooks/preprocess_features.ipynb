{
 "cells": [
  {
   "cell_type": "code",
   "execution_count": 1,
   "metadata": {},
   "outputs": [
    {
     "name": "stdout",
     "output_type": "stream",
     "text": [
      "Setting MELD_DATA_PATH to /rds/project/kw350/rds-kw350-meld/meld_data/Data\n",
      "Setting BASE_PATH to /rds/project/kw350/rds-kw350-meld/meld_data/Data\n",
      "Setting EXPERIMENT_PATH to /rds/project/kw350/rds-kw350-meld/experiments/co-ripa1\n",
      "Setting FS_SUBJECTS_PATH to \n"
     ]
    }
   ],
   "source": [
    "from meld_classifier.paths import BASE_PATH, EXPERIMENT_PATH\n",
    "from meld_classifier.meld_cohort import MeldCohort, MeldSubject\n",
    "import os\n",
    "import numpy as np\n",
    "import matplotlib.pyplot as plt\n",
    "import json"
   ]
  },
  {
   "cell_type": "code",
   "execution_count": 2,
   "metadata": {},
   "outputs": [],
   "source": [
    "features=[\n",
    "'.on_lh.curv.mgh',\n",
    " '.on_lh.gm_FLAIR_0.25.mgh',\n",
    " '.on_lh.gm_FLAIR_0.5.mgh',\n",
    " '.on_lh.gm_FLAIR_0.75.mgh',\n",
    " '.on_lh.gm_FLAIR_0.mgh',\n",
    " '.on_lh.pial.K_filtered.sm20.mgh',\n",
    " '.on_lh.sulc.mgh',\n",
    " '.on_lh.thickness.mgh',\n",
    " '.on_lh.w-g.pct.mgh',\n",
    " '.on_lh.wm_FLAIR_0.5.mgh',\n",
    " '.on_lh.wm_FLAIR_1.mgh'\n",
    "]"
   ]
  },
  {
   "cell_type": "code",
   "execution_count": 3,
   "metadata": {},
   "outputs": [],
   "source": [
    "## test function to compute scaling parameters\n",
    "\n",
    "import sys\n",
    "sys.path.append('/rds/user/co-ripa1/hpc-work/scripts/meld_classifier_GDL')\n",
    "from meld_graph.data_preprocessing import Preprocess\n",
    "\n",
    "site_codes=['H2', 'H3','H4','H5','H6','H7','H9','H10','H11','H12','H14','H15','H16','H17','H18','H19',\n",
    "                  'H21','H23','H24','H26']\n",
    "cohort= MeldCohort(hdf5_file_root='{site_code}_{group}_featurematrix.hdf5', dataset='MELD_dataset_V6.csv')\n",
    "\n",
    "#create object \n",
    "scale = Preprocess(cohort, \n",
    "                   site_codes=site_codes, \n",
    "                   write_output_file='scaling_params_GDL.json', \n",
    "                   data_dir=BASE_PATH)\n",
    "\n",
    "\n",
    "for feature in features:\n",
    "    scale.compute_scaling_parameters(feature)\n"
   ]
  },
  {
   "cell_type": "code",
   "execution_count": 48,
   "metadata": {
    "scrolled": false
   },
   "outputs": [
    {
     "name": "stdout",
     "output_type": "stream",
     "text": [
      "0.4385762\n",
      "0.043857634\n"
     ]
    }
   ],
   "source": [
    "## test function to compute scale individual data\n",
    "\n",
    "subject = 'MELD_H6_3T_FCD_0011'\n",
    "\n",
    "file_name='scaling_params_GDL.json'\n",
    "file = os.path.join(BASE_PATH, file_name)\n",
    "with open(file, \"r\") as f:\n",
    "    params_norm = json.loads(f.read())\n",
    "            \n",
    "subj = MeldSubject(subject, cohort=cohort)\n",
    "\n",
    "#load data & lesion\n",
    "vals_array_lh, lesion_lh = subj.load_feature_lesion_data(features, hemi='lh')\n",
    "vals_array_rh, lesion_rh = subj.load_feature_lesion_data(features, hemi='rh')\n",
    "vals_array = np.array(np.hstack([vals_array_lh[cohort.cortex_mask].T, vals_array_rh[cohort.cortex_mask].T]))\n",
    "lesion_array = np.array(np.hstack([lesion_lh[cohort.cortex_mask].T, lesion_rh[cohort.cortex_mask].T]))\n",
    "\n",
    "\n",
    "#scale data\n",
    "scaled_data = scale.scale_data(vals_array, features, file_name)\n",
    "\n",
    "#check scaling\n",
    "import matplotlib.pyplot as plt\n",
    "  \n",
    "fig,axes = plt.subplots(11,2,figsize=(8,20))\n",
    "for f, feature in enumerate(features):\n",
    "    #clip raw data to compare\n",
    "    min_val = float(params_norm[feature][\"min\"])\n",
    "    max_val = float(params_norm[feature][\"max\"])\n",
    "    vals_array[f][vals_array[f]<min_val]= min_val\n",
    "    vals_array[f][vals_array[f]>max_val]= max_val\n",
    "    #plot raw and scaled\n",
    "    axes[f,0].hist(vals_array[f] )\n",
    "    axes[f,1].hist(scaled_data[f])\n",
    "    \n",
    "plt.tight_layout()"
   ]
  },
  {
   "cell_type": "code",
   "execution_count": 3,
   "metadata": {},
   "outputs": [],
   "source": [
    "## test function to preprocessing single subject\n",
    "\n",
    "import sys\n",
    "sys.path.append('/rds/user/co-ripa1/hpc-work/scripts/meld_classifier_GDL')\n",
    "from meld_graph.data_preprocessing import Preprocess\n",
    "\n",
    "site_codes=['H2', 'H3','H4','H5','H6','H7','H9','H10','H11','H12','H14','H15','H16','H17','H18','H19',\n",
    "                  'H21','H23','H24','H26']\n",
    "cohort= MeldCohort(hdf5_file_root='{site_code}_{group}_featurematrix.hdf5', dataset='MELD_dataset_V6.csv')\n",
    "\n",
    "#create object \n",
    "preproc = Preprocess(cohort, \n",
    "                   site_codes=site_codes, \n",
    "                   write_output_file='None', \n",
    "                   data_dir=BASE_PATH)\n",
    "\n",
    "params={'scaling':'scaling_params_GDL.json'}\n",
    "\n",
    "# get data preprocessed one subject\n",
    "subject = 'MELD_H6_3T_FCD_0011'\n",
    "\n",
    "features_lh, features_rh, lesion_lh, lesion_rh = preproc.get_data_preprocessed(subject, features, params)\n",
    "\n",
    "#get raw data to compare \n",
    "file_name='scaling_params_GDL.json'\n",
    "file = os.path.join(BASE_PATH, file_name)\n",
    "with open(file, \"r\") as f:\n",
    "    params_norm = json.loads(f.read())\n",
    "    \n",
    "    \n",
    "subj = MeldSubject(subject, cohort=cohort)\n",
    "\n",
    "#load data & lesion\n",
    "vals_array_lh, lesion_lh = subj.load_feature_lesion_data(features, hemi='lh')\n",
    "vals_array_rh, lesion_rh = subj.load_feature_lesion_data(features, hemi='rh')\n",
    "\n",
    "#check scaling\n",
    "import matplotlib.pyplot as plt\n",
    "  \n",
    "fig,axes = plt.subplots(11,2,figsize=(8,20))\n",
    "for f, feature in enumerate(features):\n",
    "    #clip data\n",
    "    min_val = float(params_norm[feature][\"min\"])\n",
    "    max_val = float(params_norm[feature][\"max\"])\n",
    "    vals_array_lh.T[f, cohort.cortex_mask] = np.clip(vals_array_lh.T[f, cohort.cortex_mask], min_val, max_val)\n",
    "    axes[f,0].hist(vals_array_lh.T[f, cohort.cortex_mask] )\n",
    "    axes[f,1].hist(features_lh[f, cohort.cortex_mask])\n",
    "    axes[f,0].set_title(feature)\n",
    "    \n",
    "plt.tight_layout()"
   ]
  }
 ],
 "metadata": {
  "kernelspec": {
   "display_name": "Python 3",
   "language": "python",
   "name": "python3"
  },
  "language_info": {
   "codemirror_mode": {
    "name": "ipython",
    "version": 3
   },
   "file_extension": ".py",
   "mimetype": "text/x-python",
   "name": "python",
   "nbconvert_exporter": "python",
   "pygments_lexer": "ipython3",
   "version": "3.6.8"
  }
 },
 "nbformat": 4,
 "nbformat_minor": 4
}
