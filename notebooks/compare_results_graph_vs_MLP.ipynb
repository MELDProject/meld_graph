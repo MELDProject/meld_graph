{
 "cells": [
  {
   "cell_type": "markdown",
   "metadata": {},
   "source": [
    "## Notebook to compare final results MELD graph vs MELD per vertex\n",
    "Results on test cohort and withheld sites H27 H28 H101"
   ]
  },
  {
   "cell_type": "code",
   "execution_count": 1,
   "metadata": {},
   "outputs": [
    {
     "name": "stdout",
     "output_type": "stream",
     "text": [
      "Setting MELD_DATA_PATH to /rds/project/kw350/rds-kw350-meld/meld_data/Data\n",
      "Setting BASE_PATH to /rds/project/kw350/rds-kw350-meld/meld_data/Data\n",
      "Setting EXPERIMENT_PATH to /rds/project/kw350/rds-kw350-meld/experiments/co-ripa1/\n",
      "Setting FS_SUBJECTS_PATH to \n",
      "Setting EXPERIMENT_PATH to /rds/project/kw350/rds-kw350-meld/experiments_graph/kw350\n"
     ]
    }
   ],
   "source": [
    "#imports\n",
    "import os\n",
    "import numpy as np\n",
    "import h5py\n",
    "import matplotlib.pyplot as plt\n",
    "import seaborn as sns\n",
    "from meld_graph.training import tp_fp_fn_tn, dice_coeff\n",
    "from meld_classifier.meld_cohort import MeldSubject,MeldCohort\n",
    "from meld_graph.icospheres import IcoSpheres\n",
    "from meld_graph.graph_tools import GraphTools\n",
    "import itertools\n",
    "import pandas as pd\n",
    "from meld_graph.evaluation import load_prediction\n",
    "from meld_graph import experiment"
   ]
  },
  {
   "cell_type": "markdown",
   "metadata": {},
   "source": [
    "### load per-vertex results"
   ]
  },
  {
   "cell_type": "code",
   "execution_count": 18,
   "metadata": {},
   "outputs": [
    {
     "name": "stdout",
     "output_type": "stream",
     "text": [
      "221\n"
     ]
    }
   ],
   "source": [
    "#On test dataset\n",
    "# ref = '/rds/project/kw350/rds-kw350-meld/experiments/co-ripa1/iteration_21-09-15/ensemble_21-09-15/fold_all/results'\n",
    "\n",
    "# with h5py.File(os.path.join(ref, 'predictions_ensemble_iteration.hdf5'), \"r\") as f:\n",
    "#     subjects = list(f.keys())\n",
    "# subjects.remove('MELD_H4_3T_FCD_0011') # because does not exist in graph model\n",
    "# cohort = MeldCohort(hdf5_file_root='{site_code}_{group}_featurematrix_combat_6.hdf5',\n",
    "#                dataset='MELD_dataset_V6.csv')\n",
    "# print(len(subjects))\n",
    "\n",
    "\n",
    "# On wittheld sites\n",
    "refh27h28 = '/rds/project/kw350/rds-kw350-meld/experiments/co-ripa1/predict_NewSiteH27H28_21-09-20/fold_all/results'\n",
    "refh101 = '/rds/project/kw350/rds-kw350-meld/experiments/co-ripa1/predict_NewSiteH101_22-08-19/results'\n",
    "\n",
    "\n",
    "with h5py.File(os.path.join(refh27h28, 'predictions_ensemble_iteration.hdf5'), \"r\") as f:\n",
    "    subjects = list(f.keys())\n",
    "    \n",
    "with h5py.File(os.path.join(refh101, 'predictions_ensemble_iteration.hdf5'), \"r\") as f:\n",
    "    subjects = subjects + list(f.keys())\n",
    "    \n",
    "#only needed to get the lesion mask and borderzone  \n",
    "cohort= MeldCohort(hdf5_file_root='{site_code}_{group}_featurematrix_combat_6_kernels_robustCombat_NewSite.hdf5', dataset='MELD_dataset_NewSiteH27H28H101.csv')\n",
    "print(len(subjects))"
   ]
  },
  {
   "cell_type": "code",
   "execution_count": 37,
   "metadata": {},
   "outputs": [
    {
     "name": "stdout",
     "output_type": "stream",
     "text": [
      "0\n",
      "100\n",
      "200\n"
     ]
    },
    {
     "data": {
      "text/html": [
       "<div>\n",
       "<style scoped>\n",
       "    .dataframe tbody tr th:only-of-type {\n",
       "        vertical-align: middle;\n",
       "    }\n",
       "\n",
       "    .dataframe tbody tr th {\n",
       "        vertical-align: top;\n",
       "    }\n",
       "\n",
       "    .dataframe thead th {\n",
       "        text-align: right;\n",
       "    }\n",
       "</style>\n",
       "<table border=\"1\" class=\"dataframe\">\n",
       "  <thead>\n",
       "    <tr style=\"text-align: right;\">\n",
       "      <th></th>\n",
       "      <th>index</th>\n",
       "      <th>ID</th>\n",
       "      <th>group</th>\n",
       "      <th>model</th>\n",
       "      <th>number TP clusters</th>\n",
       "      <th>number FP clusters</th>\n",
       "      <th>detected</th>\n",
       "      <th>size_pred</th>\n",
       "    </tr>\n",
       "  </thead>\n",
       "  <tbody>\n",
       "    <tr>\n",
       "      <th>0</th>\n",
       "      <td>0</td>\n",
       "      <td>MELD_H27_3T_C_0018</td>\n",
       "      <td>False</td>\n",
       "      <td>per vertex</td>\n",
       "      <td>0</td>\n",
       "      <td>1</td>\n",
       "      <td>NaN</td>\n",
       "      <td>NaN</td>\n",
       "    </tr>\n",
       "    <tr>\n",
       "      <th>1</th>\n",
       "      <td>0</td>\n",
       "      <td>MELD_H27_3T_C_0019</td>\n",
       "      <td>False</td>\n",
       "      <td>per vertex</td>\n",
       "      <td>0</td>\n",
       "      <td>1</td>\n",
       "      <td>NaN</td>\n",
       "      <td>NaN</td>\n",
       "    </tr>\n",
       "    <tr>\n",
       "      <th>2</th>\n",
       "      <td>0</td>\n",
       "      <td>MELD_H27_3T_C_0020</td>\n",
       "      <td>False</td>\n",
       "      <td>per vertex</td>\n",
       "      <td>0</td>\n",
       "      <td>0</td>\n",
       "      <td>NaN</td>\n",
       "      <td>NaN</td>\n",
       "    </tr>\n",
       "    <tr>\n",
       "      <th>3</th>\n",
       "      <td>0</td>\n",
       "      <td>MELD_H27_3T_C_0021</td>\n",
       "      <td>False</td>\n",
       "      <td>per vertex</td>\n",
       "      <td>0</td>\n",
       "      <td>5</td>\n",
       "      <td>NaN</td>\n",
       "      <td>NaN</td>\n",
       "    </tr>\n",
       "    <tr>\n",
       "      <th>4</th>\n",
       "      <td>0</td>\n",
       "      <td>MELD_H27_3T_C_0022</td>\n",
       "      <td>False</td>\n",
       "      <td>per vertex</td>\n",
       "      <td>0</td>\n",
       "      <td>0</td>\n",
       "      <td>NaN</td>\n",
       "      <td>NaN</td>\n",
       "    </tr>\n",
       "  </tbody>\n",
       "</table>\n",
       "</div>"
      ],
      "text/plain": [
       "   index                  ID  group       model  number TP clusters  \\\n",
       "0      0  MELD_H27_3T_C_0018  False  per vertex                   0   \n",
       "1      0  MELD_H27_3T_C_0019  False  per vertex                   0   \n",
       "2      0  MELD_H27_3T_C_0020  False  per vertex                   0   \n",
       "3      0  MELD_H27_3T_C_0021  False  per vertex                   0   \n",
       "4      0  MELD_H27_3T_C_0022  False  per vertex                   0   \n",
       "\n",
       "   number FP clusters detected  size_pred  \n",
       "0                   1      NaN        NaN  \n",
       "1                   1      NaN        NaN  \n",
       "2                   0      NaN        NaN  \n",
       "3                   5      NaN        NaN  \n",
       "4                   0      NaN        NaN  "
      ]
     },
     "execution_count": 37,
     "metadata": {},
     "output_type": "execute_result"
    }
   ],
   "source": [
    "df_old=pd.DataFrame()\n",
    "subjects_dictionary={}\n",
    "values={}\n",
    "for si,subj in enumerate(subjects):\n",
    "    if si%100==0:\n",
    "        print(si)\n",
    "    values['ID']=subj\n",
    "    s = MeldSubject(subj,cohort=cohort)\n",
    "    values['group']= True if s.group=='patient' else False\n",
    "    labels_hemis = {}\n",
    "    dists={}\n",
    "    labels = np.zeros(len(cohort.cortex_label)*2)\n",
    "    for hemi in ['lh','rh']:\n",
    "        dists[hemi], labels_hemis[hemi] = s.load_feature_lesion_data(\n",
    "                    features=['.on_lh.boundary_zone.mgh'], hemi=hemi, features_to_ignore=[]\n",
    "                )\n",
    "        if np.sum(dists[hemi])==0:\n",
    "            dists[hemi] +=200\n",
    "    labels = np.hstack([labels_hemis['lh'][cohort.cortex_mask],labels_hemis['rh'][cohort.cortex_mask]])\n",
    "    borderzones = np.vstack([dists['lh'][cohort.cortex_mask,:],dists['rh'][cohort.cortex_mask,:]]).ravel()<20\n",
    "    #load pred from old classifier\n",
    "    if 'H101' in subj:\n",
    "        pred_file_old = os.path.join(refh101, 'predictions_ensemble_iteration.hdf5')\n",
    "    elif ('H27' in subj) or ('H28' in subj):\n",
    "        pred_file_old = os.path.join(refh27h28, 'predictions_ensemble_iteration.hdf5')\n",
    "    else:\n",
    "        pred_file_old = os.path.join(ref, 'predictions_ensemble_iteration.hdf5')\n",
    "\n",
    "    result_hemis_old = load_prediction(subj,pred_file_old, dset='prediction')\n",
    "    result_old = np.hstack([result_hemis_old['lh'],result_hemis_old['rh']])\n",
    "    values['model']='per vertex'\n",
    "    \n",
    "    #add detection with borderzone\n",
    "    if labels.sum()>0:\n",
    "        values['detected'] = np.logical_and(result_old, borderzones).any()\n",
    "        values['number TP clusters'] = len(set(result_old[borderzones.astype('bool')]))-1\n",
    "        values['size_pred'] = len(result_old[borderzones.astype('bool')])\n",
    "    else:\n",
    "        values['number TP clusters'] = 0\n",
    "    # add number of FP clusters : total clusters - TP clusters\n",
    "    values['number FP clusters']=len(set(result_hemis_old['lh']))+len(set(result_hemis_old['rh']))-2-values['number TP clusters']\n",
    "    df_old=pd.concat([df_old,pd.DataFrame([values])])\n",
    "df_old = df_old.reset_index()\n",
    "df_old.head()"
   ]
  },
  {
   "cell_type": "code",
   "execution_count": 38,
   "metadata": {},
   "outputs": [
    {
     "data": {
      "text/plain": [
       "group\n",
       "False    103\n",
       "True     118\n",
       "Name: ID, dtype: int64"
      ]
     },
     "execution_count": 38,
     "metadata": {},
     "output_type": "execute_result"
    }
   ],
   "source": [
    "df_old.groupby('group')['ID'].count()"
   ]
  },
  {
   "cell_type": "code",
   "execution_count": 39,
   "metadata": {},
   "outputs": [
    {
     "name": "stdout",
     "output_type": "stream",
     "text": [
      "all together\n",
      "0.78 0.59 0.5\n",
      "H27\n",
      "0.94 0.17 0.52\n",
      "H28\n",
      "0.62 nan 0.32\n",
      "H101\n",
      "0.78 0.68 0.56\n"
     ]
    }
   ],
   "source": [
    "print('all together')\n",
    "dfsub = df_old.copy()\n",
    "sensitivity = np.mean(dfsub['detected'][dfsub['group']])\n",
    "specificity = (dfsub['number FP clusters'][dfsub['group']==0]>0).mean()\n",
    "total_detected = np.sum(dfsub['number TP clusters'][dfsub['group']])\n",
    "total_predicted = np.sum(dfsub['number FP clusters'][dfsub['group']])\n",
    "ppv = total_detected / (total_predicted + total_detected)\n",
    "print(np.round(sensitivity,2),np.round(1-specificity,2),np.round(ppv,2))\n",
    "\n",
    "try:\n",
    "    for site in ['H27', 'H28', 'H101']:\n",
    "        print(site)\n",
    "        dfsub = df_old[df_old['ID'].str.contains(site)]\n",
    "        sensitivity = np.mean(dfsub['detected'][dfsub['group']])\n",
    "        specificity = (dfsub['number FP clusters'][dfsub['group']==0]>0).mean()\n",
    "        total_detected = np.sum(dfsub['number TP clusters'][dfsub['group']])\n",
    "        total_predicted = np.sum(dfsub['number FP clusters'][dfsub['group']])\n",
    "        ppv = total_detected / (total_predicted + total_detected)\n",
    "        print(np.round(sensitivity,2),np.round(1-specificity,2),np.round(ppv,2))\n",
    "except:\n",
    "    pass"
   ]
  },
  {
   "cell_type": "markdown",
   "metadata": {},
   "source": [
    "### load results for meld graph model"
   ]
  },
  {
   "cell_type": "code",
   "execution_count": 40,
   "metadata": {},
   "outputs": [],
   "source": [
    "# # for test dataset\n",
    "# experiment_dir = '/rds/project/kw350/rds-kw350-meld/experiments_graph/kw350'\n",
    "# model = '23-10-30_FOPF_dcop'\n",
    "# # model = '23-10-30_MSBS_dcop_with_combat'\n",
    "# df_model = pd.read_csv(os.path.join(experiment_dir,model,\n",
    "#                                           's_0','fold_all','results_best_model','test_results.csv'))\n",
    "\n",
    "# for withheld sites\n",
    "experiment_dir = '/rds/project/kw350/rds-kw350-meld/experiments_graph/kw350'\n",
    "model = '23-10-30_FOPF_dcop'\n",
    "# model = '23-10-30_MSBS_dcop_with_combat'\n",
    "\n",
    "df_model_h27 = pd.read_csv(os.path.join(experiment_dir,model,'s_0','fold_all', 'test_H27','results_best_model','test_results.csv'))\n",
    "df_model_h28 = pd.read_csv(os.path.join(experiment_dir,model,'s_0','fold_all', 'test_H28','results_best_model','test_results.csv'))\n",
    "df_model_h101 = pd.read_csv(os.path.join(experiment_dir,model,'s_0','fold_all', 'test_H101','results_best_model','test_results.csv'))\n",
    "df_model = pd.concat([df_model_h27, df_model_h28, df_model_h101])"
   ]
  },
  {
   "cell_type": "code",
   "execution_count": 15,
   "metadata": {},
   "outputs": [
    {
     "data": {
      "text/plain": [
       "group\n",
       "False    103\n",
       "True     118\n",
       "Name: ID, dtype: int64"
      ]
     },
     "execution_count": 15,
     "metadata": {},
     "output_type": "execute_result"
    }
   ],
   "source": [
    "df_model.groupby('group')['ID'].count()"
   ]
  },
  {
   "cell_type": "code",
   "execution_count": 16,
   "metadata": {},
   "outputs": [
    {
     "data": {
      "text/html": [
       "<div>\n",
       "<style scoped>\n",
       "    .dataframe tbody tr th:only-of-type {\n",
       "        vertical-align: middle;\n",
       "    }\n",
       "\n",
       "    .dataframe tbody tr th {\n",
       "        vertical-align: top;\n",
       "    }\n",
       "\n",
       "    .dataframe thead th {\n",
       "        text-align: right;\n",
       "    }\n",
       "</style>\n",
       "<table border=\"1\" class=\"dataframe\">\n",
       "  <thead>\n",
       "    <tr style=\"text-align: right;\">\n",
       "      <th></th>\n",
       "      <th>ID</th>\n",
       "      <th>group</th>\n",
       "      <th>detected</th>\n",
       "      <th>number FP clusters</th>\n",
       "      <th>number TP clusters</th>\n",
       "      <th>model</th>\n",
       "    </tr>\n",
       "  </thead>\n",
       "  <tbody>\n",
       "    <tr>\n",
       "      <th>0</th>\n",
       "      <td>MELD_H27_3T_FCD_0001</td>\n",
       "      <td>True</td>\n",
       "      <td>False</td>\n",
       "      <td>3</td>\n",
       "      <td>0</td>\n",
       "      <td>graph</td>\n",
       "    </tr>\n",
       "    <tr>\n",
       "      <th>1</th>\n",
       "      <td>MELD_H27_3T_FCD_0002</td>\n",
       "      <td>True</td>\n",
       "      <td>True</td>\n",
       "      <td>0</td>\n",
       "      <td>1</td>\n",
       "      <td>graph</td>\n",
       "    </tr>\n",
       "    <tr>\n",
       "      <th>2</th>\n",
       "      <td>MELD_H27_3T_FCD_0003</td>\n",
       "      <td>True</td>\n",
       "      <td>True</td>\n",
       "      <td>0</td>\n",
       "      <td>2</td>\n",
       "      <td>graph</td>\n",
       "    </tr>\n",
       "    <tr>\n",
       "      <th>3</th>\n",
       "      <td>MELD_H27_3T_FCD_0004</td>\n",
       "      <td>True</td>\n",
       "      <td>True</td>\n",
       "      <td>0</td>\n",
       "      <td>1</td>\n",
       "      <td>graph</td>\n",
       "    </tr>\n",
       "    <tr>\n",
       "      <th>4</th>\n",
       "      <td>MELD_H27_3T_FCD_0005</td>\n",
       "      <td>True</td>\n",
       "      <td>False</td>\n",
       "      <td>1</td>\n",
       "      <td>0</td>\n",
       "      <td>graph</td>\n",
       "    </tr>\n",
       "  </tbody>\n",
       "</table>\n",
       "</div>"
      ],
      "text/plain": [
       "                     ID  group  detected  number FP clusters  \\\n",
       "0  MELD_H27_3T_FCD_0001   True     False                   3   \n",
       "1  MELD_H27_3T_FCD_0002   True      True                   0   \n",
       "2  MELD_H27_3T_FCD_0003   True      True                   0   \n",
       "3  MELD_H27_3T_FCD_0004   True      True                   0   \n",
       "4  MELD_H27_3T_FCD_0005   True     False                   1   \n",
       "\n",
       "   number TP clusters  model  \n",
       "0                   0  graph  \n",
       "1                   1  graph  \n",
       "2                   2  graph  \n",
       "3                   1  graph  \n",
       "4                   0  graph  "
      ]
     },
     "execution_count": 16,
     "metadata": {},
     "output_type": "execute_result"
    }
   ],
   "source": [
    "df_model['model'] = ['graph' for x in df_model.iterrows()]\n",
    "df_model = df_model[['ID','group','detected','number FP clusters','number TP clusters', 'model']]\n",
    "df_model.head()"
   ]
  },
  {
   "cell_type": "code",
   "execution_count": 17,
   "metadata": {},
   "outputs": [
    {
     "name": "stdout",
     "output_type": "stream",
     "text": [
      "all together\n",
      "0.66 0.7 0.69\n",
      "H27\n",
      "0.82 0.28 0.65\n",
      "H28\n",
      "0.69 nan 0.46\n",
      "H101\n",
      "0.62 0.79 0.78\n"
     ]
    }
   ],
   "source": [
    "print('all together')\n",
    "dfsub = df_model.copy()\n",
    "sensitivity = np.mean(dfsub['detected'][dfsub['group']])\n",
    "specificity = (dfsub['number FP clusters'][dfsub['group']==0]>0).mean()\n",
    "total_detected = np.sum(dfsub['number TP clusters'][dfsub['group']])\n",
    "total_predicted = np.sum(dfsub['number FP clusters'][dfsub['group']])\n",
    "ppv = total_detected / (total_predicted + total_detected)\n",
    "print(np.round(sensitivity,2),np.round(1-specificity,2),np.round(ppv,2))\n",
    "\n",
    "try:\n",
    "    for site in ['H27','H28', 'H101']:\n",
    "        print(site)\n",
    "        dfsub = df_model[df_model['ID'].str.contains(site)]\n",
    "        sensitivity = np.mean(dfsub['detected'][dfsub['group']])\n",
    "        specificity = (dfsub['number FP clusters'][dfsub['group']==0]>0).mean()\n",
    "        total_detected = np.sum(dfsub['number TP clusters'][dfsub['group']])\n",
    "        total_predicted = np.sum(dfsub['number FP clusters'][dfsub['group']])\n",
    "        ppv = total_detected / (total_predicted + total_detected)\n",
    "        print(np.round(sensitivity,2),np.round(1-specificity,2),np.round(ppv,2))\n",
    "except:\n",
    "    pass"
   ]
  },
  {
   "cell_type": "code",
   "execution_count": 10,
   "metadata": {},
   "outputs": [],
   "source": [
    "# ## Concat results\n",
    "\n",
    "# df = pd.concat([df_old, df_model], ignore_index=True)\n",
    "# df.head()"
   ]
  },
  {
   "cell_type": "markdown",
   "metadata": {},
   "source": [
    "### add breakdown on test dataset"
   ]
  },
  {
   "cell_type": "code",
   "execution_count": 43,
   "metadata": {},
   "outputs": [],
   "source": [
    "# for test dataset\n",
    "experiment_dir = '/rds/project/kw350/rds-kw350-meld/experiments_graph/kw350'\n",
    "model = '23-10-30_FOPF_dcop'\n",
    "df_model = pd.read_csv(os.path.join(experiment_dir,model,\n",
    "                                          's_0','fold_all','results_best_model','test_results.csv'))\n",
    "\n",
    "cohort= MeldCohort(hdf5_file_root='{site_code}_{group}_featurematrix_combat_6_kernels.hdf5', dataset='MELD_dataset_NewSiteH27H28H101.csv')\n"
   ]
  },
  {
   "cell_type": "code",
   "execution_count": 44,
   "metadata": {},
   "outputs": [
    {
     "data": {
      "text/html": [
       "<div>\n",
       "<style scoped>\n",
       "    .dataframe tbody tr th:only-of-type {\n",
       "        vertical-align: middle;\n",
       "    }\n",
       "\n",
       "    .dataframe tbody tr th {\n",
       "        vertical-align: top;\n",
       "    }\n",
       "\n",
       "    .dataframe thead th {\n",
       "        text-align: right;\n",
       "    }\n",
       "</style>\n",
       "<table border=\"1\" class=\"dataframe\">\n",
       "  <thead>\n",
       "    <tr style=\"text-align: right;\">\n",
       "      <th></th>\n",
       "      <th>ID</th>\n",
       "      <th>group</th>\n",
       "      <th>detected</th>\n",
       "      <th>number FP clusters</th>\n",
       "      <th>number TP clusters</th>\n",
       "      <th>tp</th>\n",
       "      <th>fp</th>\n",
       "      <th>fn</th>\n",
       "      <th>tn</th>\n",
       "      <th>dice lesional</th>\n",
       "      <th>dice non-lesional</th>\n",
       "      <th>Age at preoperative</th>\n",
       "      <th>Sex</th>\n",
       "      <th>Histology</th>\n",
       "      <th>Site</th>\n",
       "      <th>Scanner</th>\n",
       "      <th>FLAIR</th>\n",
       "      <th>Seizure free</th>\n",
       "      <th>Ever reported MRI negative</th>\n",
       "    </tr>\n",
       "  </thead>\n",
       "  <tbody>\n",
       "    <tr>\n",
       "      <th>0</th>\n",
       "      <td>MELD_H2_15T_FCD_0001</td>\n",
       "      <td>True</td>\n",
       "      <td>False</td>\n",
       "      <td>0</td>\n",
       "      <td>0</td>\n",
       "      <td>0</td>\n",
       "      <td>0</td>\n",
       "      <td>271</td>\n",
       "      <td>293533</td>\n",
       "      <td>3.690037e-18</td>\n",
       "      <td>0.999539</td>\n",
       "      <td>20.0</td>\n",
       "      <td>1.0</td>\n",
       "      <td>NaN</td>\n",
       "      <td>H2</td>\n",
       "      <td>15T</td>\n",
       "      <td>False</td>\n",
       "      <td>1.0</td>\n",
       "      <td>0.0</td>\n",
       "    </tr>\n",
       "    <tr>\n",
       "      <th>1</th>\n",
       "      <td>MELD_H2_15T_FCD_0003</td>\n",
       "      <td>True</td>\n",
       "      <td>True</td>\n",
       "      <td>0</td>\n",
       "      <td>1</td>\n",
       "      <td>2530</td>\n",
       "      <td>4163</td>\n",
       "      <td>1370</td>\n",
       "      <td>285741</td>\n",
       "      <td>4.776740e-01</td>\n",
       "      <td>0.990411</td>\n",
       "      <td>10.0</td>\n",
       "      <td>0.0</td>\n",
       "      <td>NaN</td>\n",
       "      <td>H2</td>\n",
       "      <td>15T</td>\n",
       "      <td>False</td>\n",
       "      <td>NaN</td>\n",
       "      <td>0.0</td>\n",
       "    </tr>\n",
       "    <tr>\n",
       "      <th>2</th>\n",
       "      <td>MELD_H2_15T_FCD_0005</td>\n",
       "      <td>True</td>\n",
       "      <td>False</td>\n",
       "      <td>1</td>\n",
       "      <td>0</td>\n",
       "      <td>0</td>\n",
       "      <td>6728</td>\n",
       "      <td>262</td>\n",
       "      <td>286814</td>\n",
       "      <td>1.430615e-19</td>\n",
       "      <td>0.987961</td>\n",
       "      <td>20.0</td>\n",
       "      <td>1.0</td>\n",
       "      <td>NaN</td>\n",
       "      <td>H2</td>\n",
       "      <td>15T</td>\n",
       "      <td>False</td>\n",
       "      <td>NaN</td>\n",
       "      <td>0.0</td>\n",
       "    </tr>\n",
       "    <tr>\n",
       "      <th>3</th>\n",
       "      <td>MELD_H2_15T_FCD_0007</td>\n",
       "      <td>True</td>\n",
       "      <td>True</td>\n",
       "      <td>0</td>\n",
       "      <td>1</td>\n",
       "      <td>2062</td>\n",
       "      <td>3241</td>\n",
       "      <td>201</td>\n",
       "      <td>288300</td>\n",
       "      <td>5.450700e-01</td>\n",
       "      <td>0.994066</td>\n",
       "      <td>4.0</td>\n",
       "      <td>1.0</td>\n",
       "      <td>FCD_2B</td>\n",
       "      <td>H2</td>\n",
       "      <td>15T</td>\n",
       "      <td>False</td>\n",
       "      <td>1.0</td>\n",
       "      <td>0.0</td>\n",
       "    </tr>\n",
       "    <tr>\n",
       "      <th>4</th>\n",
       "      <td>MELD_H2_15T_FCD_0008</td>\n",
       "      <td>True</td>\n",
       "      <td>False</td>\n",
       "      <td>1</td>\n",
       "      <td>0</td>\n",
       "      <td>0</td>\n",
       "      <td>297</td>\n",
       "      <td>970</td>\n",
       "      <td>292537</td>\n",
       "      <td>7.892660e-19</td>\n",
       "      <td>0.997839</td>\n",
       "      <td>10.0</td>\n",
       "      <td>1.0</td>\n",
       "      <td>NaN</td>\n",
       "      <td>H2</td>\n",
       "      <td>15T</td>\n",
       "      <td>False</td>\n",
       "      <td>NaN</td>\n",
       "      <td>0.0</td>\n",
       "    </tr>\n",
       "  </tbody>\n",
       "</table>\n",
       "</div>"
      ],
      "text/plain": [
       "                     ID  group  detected  number FP clusters  \\\n",
       "0  MELD_H2_15T_FCD_0001   True     False                   0   \n",
       "1  MELD_H2_15T_FCD_0003   True      True                   0   \n",
       "2  MELD_H2_15T_FCD_0005   True     False                   1   \n",
       "3  MELD_H2_15T_FCD_0007   True      True                   0   \n",
       "4  MELD_H2_15T_FCD_0008   True     False                   1   \n",
       "\n",
       "   number TP clusters    tp    fp    fn      tn  dice lesional  \\\n",
       "0                   0     0     0   271  293533   3.690037e-18   \n",
       "1                   1  2530  4163  1370  285741   4.776740e-01   \n",
       "2                   0     0  6728   262  286814   1.430615e-19   \n",
       "3                   1  2062  3241   201  288300   5.450700e-01   \n",
       "4                   0     0   297   970  292537   7.892660e-19   \n",
       "\n",
       "   dice non-lesional  Age at preoperative  Sex Histology Site Scanner  FLAIR  \\\n",
       "0           0.999539                 20.0  1.0       NaN   H2     15T  False   \n",
       "1           0.990411                 10.0  0.0       NaN   H2     15T  False   \n",
       "2           0.987961                 20.0  1.0       NaN   H2     15T  False   \n",
       "3           0.994066                  4.0  1.0    FCD_2B   H2     15T  False   \n",
       "4           0.997839                 10.0  1.0       NaN   H2     15T  False   \n",
       "\n",
       "   Seizure free  Ever reported MRI negative  \n",
       "0           1.0                         0.0  \n",
       "1           NaN                         0.0  \n",
       "2           NaN                         0.0  \n",
       "3           1.0                         0.0  \n",
       "4           NaN                         0.0  "
      ]
     },
     "execution_count": 44,
     "metadata": {},
     "output_type": "execute_result"
    }
   ],
   "source": [
    "# add demographic\n",
    "age_array=[]\n",
    "sex_array=[]\n",
    "histo_array=[]\n",
    "site_array=[]\n",
    "scanner_array=[]\n",
    "flair_array=[]\n",
    "group_array=[]\n",
    "sf_array=[]\n",
    "mri_negative_array=[]\n",
    "for subject in df_model['ID']:\n",
    "    subj = MeldSubject(subject, cohort)\n",
    "    age, sex, histo, site, sf, mri_negative = subj.get_demographic_features([\"Age at preoperative\", \"Sex\", \"Histology\", \"Site\", \"Seizure free\", \"Ever reported MRI negative\"])\n",
    "    scanner_array.append(subj.scanner)\n",
    "    age_array.append(age)\n",
    "    sex_array.append(sex)\n",
    "    histo_array.append(histo)\n",
    "    site_array.append(site)\n",
    "    sf_array.append(sf)\n",
    "    flair_array.append(subj.has_flair)\n",
    "    mri_negative_array.append(mri_negative)\n",
    "\n",
    "    \n",
    "df_model['Age at preoperative']=age_array\n",
    "df_model['Sex']=sex_array\n",
    "df_model['Histology']=histo_array\n",
    "df_model['Site']=site_array\n",
    "df_model['Scanner']=scanner_array\n",
    "df_model['FLAIR']=flair_array\n",
    "df_model['Seizure free']=sf_array\n",
    "df_model['Ever reported MRI negative'] = mri_negative_array\n",
    "\n",
    "df_model.head()"
   ]
  },
  {
   "cell_type": "code",
   "execution_count": 45,
   "metadata": {},
   "outputs": [],
   "source": [
    "pat = df_model[df_model['group']==True]"
   ]
  },
  {
   "cell_type": "code",
   "execution_count": 46,
   "metadata": {},
   "outputs": [
    {
     "data": {
      "text/html": [
       "<div>\n",
       "<style scoped>\n",
       "    .dataframe tbody tr th:only-of-type {\n",
       "        vertical-align: middle;\n",
       "    }\n",
       "\n",
       "    .dataframe tbody tr th {\n",
       "        vertical-align: top;\n",
       "    }\n",
       "\n",
       "    .dataframe thead th {\n",
       "        text-align: right;\n",
       "    }\n",
       "</style>\n",
       "<table border=\"1\" class=\"dataframe\">\n",
       "  <thead>\n",
       "    <tr style=\"text-align: right;\">\n",
       "      <th></th>\n",
       "      <th>detected</th>\n",
       "      <th>count</th>\n",
       "    </tr>\n",
       "    <tr>\n",
       "      <th>Scanner</th>\n",
       "      <th></th>\n",
       "      <th></th>\n",
       "    </tr>\n",
       "  </thead>\n",
       "  <tbody>\n",
       "    <tr>\n",
       "      <th>15T</th>\n",
       "      <td>64.3</td>\n",
       "      <td>56</td>\n",
       "    </tr>\n",
       "    <tr>\n",
       "      <th>3T</th>\n",
       "      <td>69.6</td>\n",
       "      <td>204</td>\n",
       "    </tr>\n",
       "  </tbody>\n",
       "</table>\n",
       "</div>"
      ],
      "text/plain": [
       "         detected  count\n",
       "Scanner                 \n",
       "15T          64.3     56\n",
       "3T           69.6    204"
      ]
     },
     "execution_count": 46,
     "metadata": {},
     "output_type": "execute_result"
    }
   ],
   "source": [
    "disp_df=pd.DataFrame(100*pat.groupby('Scanner').mean()['detected']).round(1)\n",
    "disp_df['count'] = pat.groupby('Scanner').count()['detected']\n",
    "disp_df"
   ]
  },
  {
   "cell_type": "code",
   "execution_count": 23,
   "metadata": {},
   "outputs": [
    {
     "data": {
      "text/html": [
       "<div>\n",
       "<style scoped>\n",
       "    .dataframe tbody tr th:only-of-type {\n",
       "        vertical-align: middle;\n",
       "    }\n",
       "\n",
       "    .dataframe tbody tr th {\n",
       "        vertical-align: top;\n",
       "    }\n",
       "\n",
       "    .dataframe thead th {\n",
       "        text-align: right;\n",
       "    }\n",
       "</style>\n",
       "<table border=\"1\" class=\"dataframe\">\n",
       "  <thead>\n",
       "    <tr style=\"text-align: right;\">\n",
       "      <th></th>\n",
       "      <th></th>\n",
       "      <th>detected</th>\n",
       "      <th>count</th>\n",
       "    </tr>\n",
       "    <tr>\n",
       "      <th>Scanner</th>\n",
       "      <th>FLAIR</th>\n",
       "      <th></th>\n",
       "      <th></th>\n",
       "    </tr>\n",
       "  </thead>\n",
       "  <tbody>\n",
       "    <tr>\n",
       "      <th rowspan=\"2\" valign=\"top\">15T</th>\n",
       "      <th>False</th>\n",
       "      <td>58.3</td>\n",
       "      <td>36</td>\n",
       "    </tr>\n",
       "    <tr>\n",
       "      <th>True</th>\n",
       "      <td>75.0</td>\n",
       "      <td>20</td>\n",
       "    </tr>\n",
       "    <tr>\n",
       "      <th rowspan=\"2\" valign=\"top\">3T</th>\n",
       "      <th>False</th>\n",
       "      <td>71.1</td>\n",
       "      <td>114</td>\n",
       "    </tr>\n",
       "    <tr>\n",
       "      <th>True</th>\n",
       "      <td>67.8</td>\n",
       "      <td>90</td>\n",
       "    </tr>\n",
       "  </tbody>\n",
       "</table>\n",
       "</div>"
      ],
      "text/plain": [
       "               detected  count\n",
       "Scanner FLAIR                 \n",
       "15T     False      58.3     36\n",
       "        True       75.0     20\n",
       "3T      False      71.1    114\n",
       "        True       67.8     90"
      ]
     },
     "execution_count": 23,
     "metadata": {},
     "output_type": "execute_result"
    }
   ],
   "source": [
    "disp_df=pd.DataFrame(100*pat.groupby(['Scanner','FLAIR']).mean()['detected']).round(1)\n",
    "disp_df['count'] = pat.groupby(['Scanner','FLAIR']).count()['detected']\n",
    "disp_df"
   ]
  },
  {
   "cell_type": "code",
   "execution_count": 24,
   "metadata": {},
   "outputs": [
    {
     "data": {
      "text/html": [
       "<div>\n",
       "<style scoped>\n",
       "    .dataframe tbody tr th:only-of-type {\n",
       "        vertical-align: middle;\n",
       "    }\n",
       "\n",
       "    .dataframe tbody tr th {\n",
       "        vertical-align: top;\n",
       "    }\n",
       "\n",
       "    .dataframe thead th {\n",
       "        text-align: right;\n",
       "    }\n",
       "</style>\n",
       "<table border=\"1\" class=\"dataframe\">\n",
       "  <thead>\n",
       "    <tr style=\"text-align: right;\">\n",
       "      <th></th>\n",
       "      <th>detected</th>\n",
       "      <th>count</th>\n",
       "    </tr>\n",
       "    <tr>\n",
       "      <th>Seizure free</th>\n",
       "      <th></th>\n",
       "      <th></th>\n",
       "    </tr>\n",
       "  </thead>\n",
       "  <tbody>\n",
       "    <tr>\n",
       "      <th>0.0</th>\n",
       "      <td>66.7</td>\n",
       "      <td>51</td>\n",
       "    </tr>\n",
       "    <tr>\n",
       "      <th>1.0</th>\n",
       "      <td>78.3</td>\n",
       "      <td>106</td>\n",
       "    </tr>\n",
       "  </tbody>\n",
       "</table>\n",
       "</div>"
      ],
      "text/plain": [
       "              detected  count\n",
       "Seizure free                 \n",
       "0.0               66.7     51\n",
       "1.0               78.3    106"
      ]
     },
     "execution_count": 24,
     "metadata": {},
     "output_type": "execute_result"
    }
   ],
   "source": [
    "disp_df=pd.DataFrame(100*pat.groupby(['Seizure free']).mean()['detected']).round(1)\n",
    "disp_df['count'] = pat.groupby(['Seizure free']).count()['detected']\n",
    "disp_df"
   ]
  },
  {
   "cell_type": "code",
   "execution_count": 50,
   "metadata": {},
   "outputs": [
    {
     "data": {
      "text/html": [
       "<div>\n",
       "<style scoped>\n",
       "    .dataframe tbody tr th:only-of-type {\n",
       "        vertical-align: middle;\n",
       "    }\n",
       "\n",
       "    .dataframe tbody tr th {\n",
       "        vertical-align: top;\n",
       "    }\n",
       "\n",
       "    .dataframe thead th {\n",
       "        text-align: right;\n",
       "    }\n",
       "</style>\n",
       "<table border=\"1\" class=\"dataframe\">\n",
       "  <thead>\n",
       "    <tr style=\"text-align: right;\">\n",
       "      <th></th>\n",
       "      <th>detected</th>\n",
       "      <th>count</th>\n",
       "    </tr>\n",
       "    <tr>\n",
       "      <th>Sex</th>\n",
       "      <th></th>\n",
       "      <th></th>\n",
       "    </tr>\n",
       "  </thead>\n",
       "  <tbody>\n",
       "    <tr>\n",
       "      <th>0.0</th>\n",
       "      <td>63.2</td>\n",
       "      <td>125</td>\n",
       "    </tr>\n",
       "    <tr>\n",
       "      <th>1.0</th>\n",
       "      <td>73.3</td>\n",
       "      <td>135</td>\n",
       "    </tr>\n",
       "  </tbody>\n",
       "</table>\n",
       "</div>"
      ],
      "text/plain": [
       "     detected  count\n",
       "Sex                 \n",
       "0.0      63.2    125\n",
       "1.0      73.3    135"
      ]
     },
     "execution_count": 50,
     "metadata": {},
     "output_type": "execute_result"
    }
   ],
   "source": [
    "disp_df=pd.DataFrame(100*pat.groupby(['Sex']).mean()['detected']).round(1)\n",
    "disp_df['count'] = pat.groupby(['Sex']).count()['detected']\n",
    "disp_df"
   ]
  },
  {
   "cell_type": "code",
   "execution_count": 57,
   "metadata": {},
   "outputs": [
    {
     "name": "stderr",
     "output_type": "stream",
     "text": [
      "/tmp/ipykernel_88579/3010077965.py:1: SettingWithCopyWarning: \n",
      "A value is trying to be set on a copy of a slice from a DataFrame.\n",
      "Try using .loc[row_indexer,col_indexer] = value instead\n",
      "\n",
      "See the caveats in the documentation: https://pandas.pydata.org/pandas-docs/stable/user_guide/indexing.html#returning-a-view-versus-a-copy\n",
      "  pat['Histology'] = pat['Histology'].fillna('not available')\n"
     ]
    },
    {
     "data": {
      "text/html": [
       "<div>\n",
       "<style scoped>\n",
       "    .dataframe tbody tr th:only-of-type {\n",
       "        vertical-align: middle;\n",
       "    }\n",
       "\n",
       "    .dataframe tbody tr th {\n",
       "        vertical-align: top;\n",
       "    }\n",
       "\n",
       "    .dataframe thead th {\n",
       "        text-align: right;\n",
       "    }\n",
       "</style>\n",
       "<table border=\"1\" class=\"dataframe\">\n",
       "  <thead>\n",
       "    <tr style=\"text-align: right;\">\n",
       "      <th></th>\n",
       "      <th>% Detected</th>\n",
       "      <th>n patients</th>\n",
       "    </tr>\n",
       "    <tr>\n",
       "      <th>Histology</th>\n",
       "      <th></th>\n",
       "      <th></th>\n",
       "    </tr>\n",
       "  </thead>\n",
       "  <tbody>\n",
       "    <tr>\n",
       "      <th>FCD_1</th>\n",
       "      <td>69.2</td>\n",
       "      <td>13</td>\n",
       "    </tr>\n",
       "    <tr>\n",
       "      <th>FCD_2A</th>\n",
       "      <td>73.7</td>\n",
       "      <td>57</td>\n",
       "    </tr>\n",
       "    <tr>\n",
       "      <th>FCD_2B</th>\n",
       "      <td>79.6</td>\n",
       "      <td>93</td>\n",
       "    </tr>\n",
       "    <tr>\n",
       "      <th>FCD_3</th>\n",
       "      <td>75.0</td>\n",
       "      <td>8</td>\n",
       "    </tr>\n",
       "    <tr>\n",
       "      <th>not available</th>\n",
       "      <td>52.8</td>\n",
       "      <td>89</td>\n",
       "    </tr>\n",
       "  </tbody>\n",
       "</table>\n",
       "</div>"
      ],
      "text/plain": [
       "               % Detected  n patients\n",
       "Histology                            \n",
       "FCD_1                69.2          13\n",
       "FCD_2A               73.7          57\n",
       "FCD_2B               79.6          93\n",
       "FCD_3                75.0           8\n",
       "not available        52.8          89"
      ]
     },
     "execution_count": 57,
     "metadata": {},
     "output_type": "execute_result"
    }
   ],
   "source": [
    "pat['Histology'] = pat['Histology'].fillna('not available')\n",
    "disp_df=pd.DataFrame(100*pat.groupby(['Histology']).mean()['detected']).round(1)\n",
    "disp_df['n patients'] = pat.groupby(['Histology']).count()['detected']\n",
    "disp_df.rename(columns={'detected':'% Detected'})"
   ]
  },
  {
   "cell_type": "code",
   "execution_count": 54,
   "metadata": {},
   "outputs": [
    {
     "data": {
      "text/plain": [
       "0         NaN\n",
       "1         NaN\n",
       "2         NaN\n",
       "3      FCD_2B\n",
       "4         NaN\n",
       "        ...  \n",
       "448       NaN\n",
       "449       NaN\n",
       "450    FCD_2B\n",
       "451    FCD_2A\n",
       "452     FCD_1\n",
       "Name: Histology, Length: 260, dtype: object"
      ]
     },
     "execution_count": 54,
     "metadata": {},
     "output_type": "execute_result"
    }
   ],
   "source": [
    "pat['Histology']"
   ]
  },
  {
   "cell_type": "code",
   "execution_count": 52,
   "metadata": {},
   "outputs": [
    {
     "data": {
      "text/plain": [
       "0         NaN\n",
       "1         NaN\n",
       "2         NaN\n",
       "3      FCD_2B\n",
       "4         NaN\n",
       "        ...  \n",
       "448       NaN\n",
       "449       NaN\n",
       "450    FCD_2B\n",
       "451    FCD_2A\n",
       "452     FCD_1\n",
       "Name: Histology, Length: 260, dtype: object"
      ]
     },
     "execution_count": 52,
     "metadata": {},
     "output_type": "execute_result"
    }
   ],
   "source": [
    "pat['Histology']"
   ]
  },
  {
   "cell_type": "code",
   "execution_count": 26,
   "metadata": {},
   "outputs": [
    {
     "data": {
      "text/html": [
       "<div>\n",
       "<style scoped>\n",
       "    .dataframe tbody tr th:only-of-type {\n",
       "        vertical-align: middle;\n",
       "    }\n",
       "\n",
       "    .dataframe tbody tr th {\n",
       "        vertical-align: top;\n",
       "    }\n",
       "\n",
       "    .dataframe thead th {\n",
       "        text-align: right;\n",
       "    }\n",
       "</style>\n",
       "<table border=\"1\" class=\"dataframe\">\n",
       "  <thead>\n",
       "    <tr style=\"text-align: right;\">\n",
       "      <th></th>\n",
       "      <th>detected</th>\n",
       "      <th>count</th>\n",
       "    </tr>\n",
       "    <tr>\n",
       "      <th>Ever reported MRI negative</th>\n",
       "      <th></th>\n",
       "      <th></th>\n",
       "    </tr>\n",
       "  </thead>\n",
       "  <tbody>\n",
       "    <tr>\n",
       "      <th>0.0</th>\n",
       "      <td>71.7</td>\n",
       "      <td>180</td>\n",
       "    </tr>\n",
       "    <tr>\n",
       "      <th>1.0</th>\n",
       "      <td>61.3</td>\n",
       "      <td>80</td>\n",
       "    </tr>\n",
       "  </tbody>\n",
       "</table>\n",
       "</div>"
      ],
      "text/plain": [
       "                            detected  count\n",
       "Ever reported MRI negative                 \n",
       "0.0                             71.7    180\n",
       "1.0                             61.3     80"
      ]
     },
     "execution_count": 26,
     "metadata": {},
     "output_type": "execute_result"
    }
   ],
   "source": [
    "disp_df=pd.DataFrame(100*pat.groupby(['Ever reported MRI negative']).mean()['detected']).round(1)\n",
    "disp_df['count'] = pat.groupby(['Ever reported MRI negative']).count()['detected']\n",
    "disp_df"
   ]
  },
  {
   "cell_type": "code",
   "execution_count": 47,
   "metadata": {},
   "outputs": [
    {
     "name": "stderr",
     "output_type": "stream",
     "text": [
      "/tmp/ipykernel_88579/3746894774.py:1: SettingWithCopyWarning: \n",
      "A value is trying to be set on a copy of a slice from a DataFrame.\n",
      "Try using .loc[row_indexer,col_indexer] = value instead\n",
      "\n",
      "See the caveats in the documentation: https://pandas.pydata.org/pandas-docs/stable/user_guide/indexing.html#returning-a-view-versus-a-copy\n",
      "  pat['paediatric'] = pat['Age at preoperative']<18\n"
     ]
    },
    {
     "data": {
      "text/html": [
       "<div>\n",
       "<style scoped>\n",
       "    .dataframe tbody tr th:only-of-type {\n",
       "        vertical-align: middle;\n",
       "    }\n",
       "\n",
       "    .dataframe tbody tr th {\n",
       "        vertical-align: top;\n",
       "    }\n",
       "\n",
       "    .dataframe thead th {\n",
       "        text-align: right;\n",
       "    }\n",
       "</style>\n",
       "<table border=\"1\" class=\"dataframe\">\n",
       "  <thead>\n",
       "    <tr style=\"text-align: right;\">\n",
       "      <th></th>\n",
       "      <th>detected</th>\n",
       "      <th>count</th>\n",
       "    </tr>\n",
       "    <tr>\n",
       "      <th>paediatric</th>\n",
       "      <th></th>\n",
       "      <th></th>\n",
       "    </tr>\n",
       "  </thead>\n",
       "  <tbody>\n",
       "    <tr>\n",
       "      <th>False</th>\n",
       "      <td>68.7</td>\n",
       "      <td>131</td>\n",
       "    </tr>\n",
       "    <tr>\n",
       "      <th>True</th>\n",
       "      <td>68.2</td>\n",
       "      <td>129</td>\n",
       "    </tr>\n",
       "  </tbody>\n",
       "</table>\n",
       "</div>"
      ],
      "text/plain": [
       "            detected  count\n",
       "paediatric                 \n",
       "False           68.7    131\n",
       "True            68.2    129"
      ]
     },
     "execution_count": 47,
     "metadata": {},
     "output_type": "execute_result"
    }
   ],
   "source": [
    "pat['paediatric'] = pat['Age at preoperative']<18\n",
    "disp_df=pd.DataFrame(100*pat.groupby(['paediatric']).mean()['detected']).round(1)\n",
    "disp_df['count'] = pat.groupby(['paediatric']).count()['detected']\n",
    "disp_df"
   ]
  }
 ],
 "metadata": {
  "kernelspec": {
   "display_name": "Python 3.6.9 64-bit",
   "language": "python",
   "name": "python3"
  },
  "language_info": {
   "codemirror_mode": {
    "name": "ipython",
    "version": 3
   },
   "file_extension": ".py",
   "mimetype": "text/x-python",
   "name": "python",
   "nbconvert_exporter": "python",
   "pygments_lexer": "ipython3",
   "version": "3.6.9"
  },
  "vscode": {
   "interpreter": {
    "hash": "31f2aee4e71d21fbe5cf8b01ff0e069b9275f58929596ceb00d14d90e3e16cd6"
   }
  }
 },
 "nbformat": 4,
 "nbformat_minor": 2
}
