{
 "cells": [
  {
   "cell_type": "markdown",
   "id": "0023a97f",
   "metadata": {},
   "source": [
    "# Calibration scores\n",
    "\n",
    "how to deal with different threshold?\n",
    "-> scale confidences according to threshold range, such that confidences are always between 0.5 - 1.\n",
    "E.g. if threshold = 0.2, confidence will be in range 0.2 - 1 -> rescale them to be in 0.5 - 1\n",
    "\n",
    "TODO: calculate ECE per class\n",
    "TODO: calculate per cluster scores - entropy-based score proposed in https://arxiv.org/pdf/1911.13273.pdf\n",
    "TODO: research other ways to calculate per cluster scores"
   ]
  },
  {
   "cell_type": "code",
   "execution_count": 80,
   "id": "d38434f1",
   "metadata": {},
   "outputs": [],
   "source": [
    "from meld_graph.evaluation import load_prediction\n",
    "from meld_graph.experiment import Experiment\n",
    "import h5py\n",
    "from meld_classifier.meld_cohort import MeldCohort, MeldSubject\n",
    "import os\n",
    "import numpy as np\n",
    "import matplotlib.pyplot as plt\n",
    "\n",
    "%matplotlib inline"
   ]
  },
  {
   "cell_type": "code",
   "execution_count": 142,
   "id": "eb4f5f9b",
   "metadata": {},
   "outputs": [
    {
     "name": "stderr",
     "output_type": "stream",
     "text": [
      "Initialised Experiment 23-06-05_RMRC_low_smooth_regress_RC/s_0\n"
     ]
    },
    {
     "name": "stdout",
     "output_type": "stream",
     "text": [
      "ECE:  0.0035563847367135067\n",
      "[0.004983659120601048, 0.20826314389573544, 0.3352881698685541, 0.47490494296577945, 0.5172413793103449, 0.5861405197305101, 0.6732522796352584, 0.7746350364963503, 0.8823061630218688, 0.4838709677419355] [0.9950163408793989, 0.7917368561042646, 0.6647118301314459, 0.5250950570342205, 0.4827586206896552, 0.5861405197305101, 0.6732522796352584, 0.7746350364963503, 0.8823061630218688, 0.4838709677419355] [0.9970654026930251, 0.7170133672186284, 0.5110318690387737, 0.3056970171148786, 0.10201659079255729, 0.0840587791510794, 0.3062670917496493, 0.5140977413767446, 0.707638731675878, 0.8307547088592283] [0.9910402853603082, 0.003838953860396727, 0.0016830948523505467, 0.0008951545928578236, 0.0006514547113041347, 0.0003536371186232999, 0.0002239588296959878, 0.0003730378075179371, 0.0008560128521054853, 8.441001483982518e-05]\n"
     ]
    },
    {
     "data": {
      "image/png": "[encoded data removed]",
      "text/plain": [
       "<Figure size 360x360 with 1 Axes>"
      ]
     },
     "metadata": {
      "needs_background": "light"
     },
     "output_type": "display_data"
    }
   ],
   "source": [
    "# ensemble - need to rerun\n",
    "model_name = '/rds/project/kw350/rds-kw350-meld/experiments_graph/kw350/23-06-05_RMRC_low_smooth_regress_RC/s_0/fold_all'\n",
    "# single model\n",
    "model_name = '/rds/project/kw350/rds-kw350-meld/experiments_graph/kw350/23-06-05_RMRC_low_smooth_regress_RC/s_0/fold_01'\n",
    "\n",
    "#model_name = '/rds/project/kw350/rds-kw350-meld/experiments_graph/kw350/23-06-30_RQWV_raw_no_combat/s_0/fold_all'\n",
    "exp = Experiment.from_folder(model_name)\n",
    "features = exp.data_parameters['features']\n",
    "cohort = exp.cohort\n",
    "\n",
    "prediction_fname = os.path.join(model_name, 'results/predictions.hdf5')\n",
    "subjects = list(h5py.File(prediction_fname, 'r').keys())\n",
    "\n",
    "threshold = 0.5\n",
    "results_dict = get_confidence(subjects[:10], prediction_fname, threshold=threshold)\n",
    "results_dict = get_lesion(subjects[:10], cohort, results_dict=results_dict)\n",
    "\n",
    "freq, acc, conf, n = calibration_plot(results_dict)\n",
    "print(freq, acc, conf, n)"
   ]
  },
  {
   "cell_type": "code",
   "execution_count": 138,
   "id": "23397860",
   "metadata": {},
   "outputs": [],
   "source": [
    "def get_confidence(subjects, prediction_fname, threshold=0.5, results_dict=None):\n",
    "    \"\"\"\n",
    "    confidence: prediction\n",
    "    confidence2: 1-prediction for non-lesion examples, scaled such that confidence at threshold is 0.5\n",
    "    \"\"\"\n",
    "    if results_dict is None:\n",
    "        results_dict = {}\n",
    "    min1 = threshold\n",
    "    min2 = 1-threshold\n",
    "    results_dict = {}\n",
    "    for subj_id in subjects:\n",
    "        if subj_id not in results_dict.keys():\n",
    "            results_dict[subj_id] = {}\n",
    "        prediction = load_prediction(subj_id, prediction_fname, dset=\"prediction\")\n",
    "        prediction = np.concatenate([prediction['lh'], prediction['rh']])\n",
    "        results_dict[subj_id]['prediction'] = prediction\n",
    "        results_dict[subj_id]['confidence'] = prediction\n",
    "        confidence = (prediction > threshold)*((prediction-min1)/(1-min1)) \\\n",
    "                    +(prediction <= threshold)*((1-prediction-min2)/(1-min2))\n",
    "        results_dict[subj_id]['confidence2'] = confidence\n",
    "    return results_dict\n",
    "\n",
    "def get_lesion(subjects, cohort, results_dict=None):\n",
    "    if results_dict is None:\n",
    "        results_dict = {}\n",
    "    for subj_id in subjects:\n",
    "        if subj_id not in results_dict.keys():\n",
    "            results_dict[subj_id] = {}\n",
    "        subj = MeldSubject(subj_id, cohort=cohort)\n",
    "        results_dict[subj_id]['lesion'] = np.concatenate([\n",
    "            np.ceil(subj.load_feature_values(\".on_lh.lesion.mgh\", hemi='lh')).astype(int)[cohort.cortex_mask],\n",
    "            np.ceil(subj.load_feature_values(\".on_lh.lesion.mgh\", hemi='rh')).astype(int)[cohort.cortex_mask]])\n",
    "    return results_dict\n",
    "        \n",
    "def calibration_plot(results_dict, n_bins=10, threshold=0.5):\n",
    "    \"\"\"\n",
    "    calculate ECE as described in literature\n",
    "    calclulate calibration plot as calculated by sklearn.calibration\n",
    "    \"\"\"\n",
    "    # sort all results in bins according to confidence score\n",
    "    bins = np.linspace(0,1,n_bins+1)\n",
    "    binned_prediction = {bin_idx: np.array([]) for bin_idx in range(len(bins[:-1]))}\n",
    "    binned_confidence = {bin_idx: np.array([]) for bin_idx in range(len(bins[:-1]))}\n",
    "    binned_confidence2 = {bin_idx: np.array([]) for bin_idx in range(len(bins[:-1]))}\n",
    "    binned_lesion = {bin_idx: np.array([]) for bin_idx in range(len(bins[:-1]))}\n",
    "    for subj_results in results_dict.values():\n",
    "        for bin_idx in binned_prediction.keys():\n",
    "            bin_min = bins[bin_idx]\n",
    "            bin_max = bins[bin_idx+1]\n",
    "            # get idx of all vertices in current bin (according to confidence)\n",
    "            mask = (subj_results['confidence'] > bin_min) & (subj_results['confidence'] <= bin_max)\n",
    "            binned_prediction[bin_idx] = np.concatenate([binned_prediction[bin_idx], subj_results['prediction'][mask]])\n",
    "            binned_lesion[bin_idx] = np.concatenate([binned_lesion[bin_idx], subj_results['lesion'][mask]])\n",
    "            binned_confidence[bin_idx] = np.concatenate([binned_confidence[bin_idx], subj_results['confidence'][mask]])\n",
    "            binned_confidence2[bin_idx] = np.concatenate([binned_confidence2[bin_idx], subj_results['confidence2'][mask]])\n",
    "    \n",
    "    # calculate accuracy as frequency of positive labels in each bin\n",
    "    # use confidence2 for confidence estimates for the ECE here which contains 1-conf for predictions > threshold,\n",
    "    # because otherwise confidence estimates for lower bins are very high, because of all the non-lesional examples\n",
    "    freq = []\n",
    "    acc = []\n",
    "    conf = []\n",
    "    n = []\n",
    "    for bin_idx in binned_prediction.keys():\n",
    "        freq.append(binned_lesion[bin_idx].sum()/len(binned_lesion[bin_idx]))\n",
    "        conf.append(binned_confidence2[bin_idx].sum()/len(binned_lesion[bin_idx]))\n",
    "        acc.append(((binned_prediction[bin_idx] > threshold) == binned_lesion[bin_idx]).sum() / len(binned_lesion[bin_idx]))\n",
    "        n.append(len(binned_prediction[bin_idx]) / sum([len(binned_prediction[i]) for i in binned_prediction.keys()]))\n",
    "    ece = (np.abs(np.array(acc) - np.array(conf))*np.array(n)).sum()\n",
    "    print('ECE: ', ece)\n",
    "        \n",
    "    fig, ax = plt.subplots(1,1, figsize=(5,5))\n",
    "    ax.plot(bins[:-1] + (bins[1:]-bins[:-1])/2, freq, 'o-')\n",
    "    ax.set_xlabel('confidence')\n",
    "    ax.set_ylabel('frequency of lesion vertices')\n",
    "    ax.set_title('ECE: {}'.format(ece))\n",
    "    return freq, acc, conf, n\n",
    "        \n",
    "\n"
   ]
  },
  {
   "cell_type": "code",
   "execution_count": 137,
   "id": "b765ee46",
   "metadata": {},
   "outputs": [
    {
     "name": "stdout",
     "output_type": "stream",
     "text": [
      "ECE:  0.0035563847367135067\n",
      "[0.004983659120601048, 0.20826314389573544, 0.3352881698685541, 0.47490494296577945, 0.5172413793103449, 0.5861405197305101, 0.6732522796352584, 0.7746350364963503, 0.8823061630218688, 0.4838709677419355] [0.9950163408793989, 0.7917368561042646, 0.6647118301314459, 0.5250950570342205, 0.4827586206896552, 0.5861405197305101, 0.6732522796352584, 0.7746350364963503, 0.8823061630218688, 0.4838709677419355] [0.9970654026930251, 0.7170133672186284, 0.5110318690387737, 0.3056970171148786, 0.10201659079255729, 0.0840587791510794, 0.3062670917496493, 0.5140977413767446, 0.707638731675878, 0.8307547088592283] [0.9910402853603082, 0.003838953860396727, 0.0016830948523505467, 0.0008951545928578236, 0.0006514547113041347, 0.0003536371186232999, 0.0002239588296959878, 0.0003730378075179371, 0.0008560128521054853, 8.441001483982518e-05]\n"
     ]
    },
    {
     "data": {
      "image/png": "[encoded data removed]",
      "text/plain": [
       "<Figure size 360x360 with 1 Axes>"
      ]
     },
     "metadata": {
      "needs_background": "light"
     },
     "output_type": "display_data"
    }
   ],
   "source": [
    "threshold = 0.5\n",
    "results_dict = get_confidence(subjects[:10], prediction_fname, threshold=threshold)\n",
    "results_dict = get_lesion(subjects[:10], cohort, results_dict=results_dict)\n",
    "     \n",
    "freq, acc, conf, n = calibration_plot(results_dict)\n",
    "print(freq, acc, conf, n)"
   ]
  },
  {
   "cell_type": "code",
   "execution_count": 65,
   "id": "1462c310",
   "metadata": {},
   "outputs": [
    {
     "data": {
      "text/plain": [
       "array([0])"
      ]
     },
     "execution_count": 65,
     "metadata": {},
     "output_type": "execute_result"
    }
   ],
   "source": [
    "np.arange(0,1,10)"
   ]
  },
  {
   "cell_type": "code",
   "execution_count": 74,
   "id": "06309403",
   "metadata": {},
   "outputs": [
    {
     "name": "stdout",
     "output_type": "stream",
     "text": [
      "[0.  0.1 0.2 0.3 0.4 0.5 0.6 0.7 0.8 0.9 1. ]\n",
      "-4.444444444444445 5.444444444444445 1.0\n",
      "[0.         0.5        0.91111111 1.23333333 1.46666667 1.61111111\n",
      " 1.66666667 1.63333333 1.51111111 1.3        1.        ]\n"
     ]
    }
   ],
   "source": [
    "def f(x, t=0.1):\n",
    "    a = (0.5 - t) / (t**2 - t)\n",
    "    b = 1 - a\n",
    "    print(a, b, a+b)\n",
    "    return a*(x**2)+b*x\n",
    "\n",
    "print(np.arange(0,1.1,0.1))\n",
    "print(f(np.arange(0,1.1,0.1), t=0.1))\n",
    "    "
   ]
  },
  {
   "cell_type": "code",
   "execution_count": 12,
   "id": "5972885e",
   "metadata": {},
   "outputs": [],
   "source": [
    "prediction = load_prediction(subjects[0], prediction_fname, dset=\"prediction\")"
   ]
  },
  {
   "cell_type": "code",
   "execution_count": 19,
   "id": "c8860b95",
   "metadata": {},
   "outputs": [],
   "source": [
    "subj = MeldSubject(subjects[0], cohort=cohort)\n",
    "lesion = {'lh': np.ceil(subj.load_feature_values(\".on_lh.lesion.mgh\", hemi='lh')).astype(int),\n",
    "          'rh': np.ceil(subj.load_feature_values(\".on_lh.lesion.mgh\", hemi='rh')).astype(int)}"
   ]
  },
  {
   "cell_type": "code",
   "execution_count": 22,
   "id": "e6a5c18f",
   "metadata": {},
   "outputs": [],
   "source": [
    "confidence = prediction"
   ]
  },
  {
   "cell_type": "code",
   "execution_count": 25,
   "id": "1e8858ae",
   "metadata": {},
   "outputs": [],
   "source": [
    "n_bins = 10\n",
    "bins = np.linspace(0,1,n_bins+1)"
   ]
  },
  {
   "cell_type": "code",
   "execution_count": 27,
   "id": "03143951",
   "metadata": {},
   "outputs": [
    {
     "data": {
      "text/plain": [
       "{'lh': array([1.3641655e-04, 9.9381446e-05, 2.1156837e-04, ..., 1.4658827e-04,\n",
       "        1.5292244e-04, 1.5593530e-04], dtype=float32),\n",
       " 'rh': array([4.22070334e-05, 1.22465659e-04, 1.08821972e-04, ...,\n",
       "        1.11777423e-04, 1.06398074e-04, 9.93501744e-05], dtype=float32)}"
      ]
     },
     "execution_count": 27,
     "metadata": {},
     "output_type": "execute_result"
    }
   ],
   "source": [
    "confidence"
   ]
  },
  {
   "cell_type": "code",
   "execution_count": null,
   "id": "f0b7789a",
   "metadata": {},
   "outputs": [],
   "source": []
  }
 ],
 "metadata": {
  "kernelspec": {
   "display_name": "Python 3 (ipykernel)",
   "language": "python",
   "name": "python3"
  },
  "language_info": {
   "codemirror_mode": {
    "name": "ipython",
    "version": 3
   },
   "file_extension": ".py",
   "mimetype": "text/x-python",
   "name": "python",
   "nbconvert_exporter": "python",
   "pygments_lexer": "ipython3",
   "version": "3.9.7"
  }
 },
 "nbformat": 4,
 "nbformat_minor": 5
}
