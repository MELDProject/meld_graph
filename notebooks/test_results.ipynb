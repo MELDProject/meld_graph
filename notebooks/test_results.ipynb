{
 "cells": [
  {
   "cell_type": "code",
   "execution_count": 28,
   "metadata": {},
   "outputs": [],
   "source": [
    "#imports\n",
    "#load some predictions\n",
    "import os\n",
    "import numpy as np\n",
    "import h5py\n",
    "import matplotlib.pyplot as plt\n",
    "import seaborn as sns\n",
    "from meld_graph.training import tp_fp_fn_tn, dice_coeff\n",
    "from meld_classifier.meld_cohort import MeldSubject,MeldCohort\n",
    "from meld_graph.icospheres import IcoSpheres\n",
    "from meld_graph.graph_tools import GraphTools\n",
    "import itertools\n",
    "import pandas as pd\n",
    "from meld_graph.evaluation import load_prediction\n",
    "from meld_graph import experiment"
   ]
  },
  {
   "cell_type": "code",
   "execution_count": 29,
   "metadata": {},
   "outputs": [],
   "source": [
    "models = [\n",
    "'23-10-30_FOPF_dcop','23-10-30_MSBS_dcop_with_combat']\n",
    "models = ['24-01-04_best_dcop','24-01-04_best_dcop_with_combat']\n",
    "models = ['23-10-30_FOPF_dcop','23-10-30_MSBS_dcop_with_combat','23-10-30_LVHZ_dcp']\n",
    "experiment_dir = '/home/kw350/software/gdl/meld_classifier_GDL/scripts/experiments_folder/'\n"
   ]
  },
  {
   "cell_type": "code",
   "execution_count": 34,
   "metadata": {},
   "outputs": [
    {
     "name": "stdout",
     "output_type": "stream",
     "text": [
      "23-10-30_FOPF_dcop 0.68 0.7 0.66\n",
      "23-10-30_MSBS_dcop_with_combat 0.65 0.65 0.66\n",
      "23-10-30_LVHZ_dcp 0.7 0.6 0.67\n"
     ]
    }
   ],
   "source": [
    "for model in models:\n",
    "    full_results = pd.read_csv(os.path.join(experiment_dir,model,\n",
    "                                          's_0','fold_all','results_best_model','test_results.csv'))\n",
    "    full_results['group'] = full_results['group'].astype(bool)\n",
    "    full_results['detected'] = full_results['detected'].astype(bool)\n",
    "    sensitivity = np.mean(full_results['detected'][full_results['group']])\n",
    "    specificity = (full_results['number FP clusters'][full_results['group']==0]>0).mean()\n",
    "    total_detected = np.sum(full_results['number TP clusters'][full_results['group']])\n",
    "    total_predicted = np.sum(full_results['number FP clusters'][full_results['group']])\n",
    "    ppv = total_detected / (total_predicted + total_detected)\n",
    "    print(model,np.round(sensitivity,2),np.round(1-specificity,2),np.round(ppv,2))"
   ]
  },
  {
   "cell_type": "code",
   "execution_count": 26,
   "metadata": {},
   "outputs": [
    {
     "data": {
      "text/plain": [
       "0      False\n",
       "1       True\n",
       "2      False\n",
       "3       True\n",
       "4       True\n",
       "       ...  \n",
       "901    False\n",
       "902    False\n",
       "903     True\n",
       "904     True\n",
       "905     True\n",
       "Name: detected, Length: 906, dtype: bool"
      ]
     },
     "execution_count": 26,
     "metadata": {},
     "output_type": "execute_result"
    }
   ],
   "source": [
    "full_results['detected']"
   ]
  },
  {
   "cell_type": "code",
   "execution_count": 36,
   "metadata": {},
   "outputs": [
    {
     "name": "stdout",
     "output_type": "stream",
     "text": [
      "23-10-30_FOPF_dcop\n",
      "Sensitivity,specificity,PPV\n",
      "H27 0.82 0.31 0.67\n",
      "H28 0.67 nan 0.47\n",
      "H101 0.64 0.77 0.77\n",
      "23-10-30_MSBS_dcop_with_combat\n",
      "Sensitivity,specificity,PPV\n",
      "H27 0.41 nan 0.62\n",
      "H28 0.66 nan 0.5\n",
      "H101 0.69 0.71 0.87\n",
      "23-10-30_LVHZ_dcp\n",
      "Sensitivity,specificity,PPV\n",
      "H27 0.82 0.44 0.74\n",
      "H28 0.62 nan 0.56\n",
      "H101 0.73 0.78 0.86\n"
     ]
    }
   ],
   "source": [
    "#new site test results\n",
    "new_sites = ['H27','H28','H101']\n",
    "\n",
    "for model in models:\n",
    "    print(model)\n",
    "    print('Sensitivity,specificity,PPV')\n",
    "    all_sense = []\n",
    "    all_spec = []\n",
    "    for new_site in new_sites:\n",
    "        \n",
    "        full_results = pd.read_csv(os.path.join(experiment_dir,model,\n",
    "                                            's_0','fold_all',f'test_{new_site}','results_best_model','test_results.csv'))\n",
    "        full_results['group']=full_results['group'].astype(bool)\n",
    "        sensitivity = np.mean(full_results['detected'][full_results['group']])\n",
    "        specificity = (full_results['number FP clusters'][full_results['group']==0]>0).mean()\n",
    "        all_sense.append(full_results['detected'][full_results['group']])\n",
    "        all_spec.append(full_results['number FP clusters'][full_results['group']==0]>0)\n",
    "        total_detected = np.sum(full_results['number TP clusters'][full_results['group']])\n",
    "        total_predicted = np.sum(full_results['number FP clusters'][full_results['group']])\n",
    "        ppv = total_detected / (total_predicted + total_detected)\n",
    "        print(new_site,np.round(sensitivity,2),np.round(1-specificity,2),np.round(ppv,2))"
   ]
  },
  {
   "cell_type": "code",
   "execution_count": 42,
   "metadata": {},
   "outputs": [
    {
     "data": {
      "text/plain": [
       "[17    False\n",
       " 18     True\n",
       " 19    False\n",
       " 20     True\n",
       " 21    False\n",
       " 22     True\n",
       " 23    False\n",
       " 24     True\n",
       " 25     True\n",
       " 26     True\n",
       " 27     True\n",
       " 28     True\n",
       " 29     True\n",
       " 30    False\n",
       " 31    False\n",
       " 32    False\n",
       " 33     True\n",
       " 34    False\n",
       " Name: number FP clusters, dtype: bool,\n",
       " Series([], Name: number FP clusters, dtype: bool),\n",
       " 0     False\n",
       " 1      True\n",
       " 2     False\n",
       " 3     False\n",
       " 4     False\n",
       "       ...  \n",
       " 80    False\n",
       " 81    False\n",
       " 82    False\n",
       " 83    False\n",
       " 84    False\n",
       " Name: number FP clusters, Length: 85, dtype: bool]"
      ]
     },
     "execution_count": 42,
     "metadata": {},
     "output_type": "execute_result"
    }
   ],
   "source": [
    "all_spec"
   ]
  },
  {
   "cell_type": "code",
   "execution_count": 44,
   "metadata": {},
   "outputs": [
    {
     "data": {
      "text/plain": [
       "(103,)"
      ]
     },
     "execution_count": 44,
     "metadata": {},
     "output_type": "execute_result"
    }
   ],
   "source": [
    "np.hstack(all_spec).shape"
   ]
  },
  {
   "cell_type": "code",
   "execution_count": 45,
   "metadata": {},
   "outputs": [
    {
     "data": {
      "text/plain": [
       "(0.7288135593220338, 0.7184466019417476)"
      ]
     },
     "execution_count": 45,
     "metadata": {},
     "output_type": "execute_result"
    }
   ],
   "source": [
    "np.hstack(all_sense).mean(),1-np.hstack(all_spec).mean()"
   ]
  },
  {
   "cell_type": "code",
   "execution_count": 14,
   "metadata": {},
   "outputs": [
    {
     "name": "stdout",
     "output_type": "stream",
     "text": [
      "0.6875 0.05405405405405406\n",
      "0.8903846153846153 0.002590673575129543\n"
     ]
    }
   ],
   "source": [
    "\n",
    "full_results = pd.read_csv(os.path.join(experiment_dir,'23-09-30_BMXI_big_dataset_long',\n",
    "                                          's_0','fold_all','results_best_model','test_results.csv'))\n",
    "sensitivity = np.mean(full_results['detected'][full_results['group']])\n",
    "specificity = (full_results['number clusters'][full_results['group']==0]>0).mean()\n",
    "print(sensitivity,1-specificity)\n",
    "object_results = pd.read_csv(os.path.join(experiment_dir,'23-10-02_IHFS_object_detection',\n",
    "                                          's_0','fold_all','results_best_model','test_results.csv'))\n",
    "sensitivity = np.mean(object_results['detected'][object_results['group']])\n",
    "specificity = (object_results['number clusters'][object_results['group']==0]>0).mean()\n",
    "print(sensitivity,1-specificity)"
   ]
  },
  {
   "cell_type": "code",
   "execution_count": 6,
   "metadata": {},
   "outputs": [
    {
     "data": {
      "text/plain": [
       "0.9459459459459459"
      ]
     },
     "execution_count": 6,
     "metadata": {},
     "output_type": "execute_result"
    }
   ],
   "source": [
    "(object_results['number clusters'][object_results['group']==0]>0).mean()"
   ]
  },
  {
   "cell_type": "code",
   "execution_count": null,
   "metadata": {},
   "outputs": [],
   "source": [
    "\n",
    "experiment_dir = '/home/kw350/software/gdl/meld_classifier_GDL/scripts/experiments_folder/'\n",
    "object_results = pd.read_csv(os.path.join(experiment_dir,'23-08-30_IGKW_object_save_final',\n",
    "                                          's_0','fold_all','results','test_results_best.csv'))\n",
    "\n",
    "\n",
    "full_results = pd.read_csv(os.path.join(experiment_dir,'23-08-30_PYHE_big_dataset_long',\n",
    "                 's_0','fold_all','results','test_results_best.csv'))"
   ]
  },
  {
   "cell_type": "code",
   "execution_count": 10,
   "metadata": {},
   "outputs": [],
   "source": [
    "experiment_dir = '/home/kw350/software/gdl/meld_classifier_GDL/scripts/experiments_folder/'\n",
    "experiments = ['23-09-30_BMXI_big_dataset_long','23-08-30_IGKW_object_save_final']\n",
    "models = ['best_model.pt']"
   ]
  },
  {
   "cell_type": "code",
   "execution_count": 38,
   "metadata": {},
   "outputs": [
    {
     "name": "stderr",
     "output_type": "stream",
     "text": [
      "Initialised Experiment 23-09-30_BMXI_big_dataset_long/s_0\n"
     ]
    },
    {
     "name": "stdout",
     "output_type": "stream",
     "text": [
      "/home/kw350/software/gdl/meld_classifier_GDL/scripts/experiments_folder/23-09-30_BMXI_big_dataset_long/s_0/fold_all\n"
     ]
    },
    {
     "data": {
      "text/plain": [
       "186"
      ]
     },
     "execution_count": 38,
     "metadata": {},
     "output_type": "execute_result"
    }
   ],
   "source": [
    "exp_i=0\n",
    "exp = experiment.Experiment.from_folder(os.path.join(experiment_dir,experiments[exp_i],'s_0','fold_all'))\n",
    "subjects = exp.data_parameters['test_ids']\n",
    "val_subjects = exp.data_parameters['train_ids']\n",
    "len(subjects)\n",
    "    "
   ]
  },
  {
   "cell_type": "code",
   "execution_count": null,
   "metadata": {},
   "outputs": [],
   "source": []
  },
  {
   "cell_type": "code",
   "execution_count": 33,
   "metadata": {},
   "outputs": [],
   "source": [
    "hdf5_file =os.path.join(experiment_dir, experiments[exp_i],'s_0','fold_all','results_best_model','predictions.hdf5')\n",
    "cohort = MeldCohort(hdf5_file_root=exp.data_parameters['hdf5_file_root'], dataset=exp.data_parameters['dataset'])\n",
    "icospheres = IcoSpheres()\n",
    "gt = GraphTools(\n",
    "            icospheres,\n",
    "            cohort=cohort,\n",
    "            distance_mask_medial_wall=True,\n",
    ")"
   ]
  },
  {
   "cell_type": "code",
   "execution_count": 40,
   "metadata": {},
   "outputs": [],
   "source": [
    "def get_scores(subjects,hdf5_file,cohort,thresh):\n",
    "    \n",
    "    subjects_dict = {}\n",
    "    sensitivity=[]\n",
    "    specificity=[]\n",
    "    for s, subject in enumerate(subjects):\n",
    "        if s % 100 == 0:\n",
    "            print(s)\n",
    "        subjects_dict[subject]={}\n",
    "        pred = load_prediction(subject,hdf5_file,)\n",
    "        subj = MeldSubject(subject, cohort=cohort)\n",
    "        if '_FCD_' in subject:\n",
    "            labels = []\n",
    "            boundary_zones=[]\n",
    "            for hemi in ['lh','rh']:\n",
    "                label = subj.load_feature_lesion_data(features=[],hemi=hemi)[1]\n",
    "                if label.sum() > 0:\n",
    "                    dists = gt.fast_geodesics(label.astype(np.float32)\n",
    "                    )[cohort.cortex_mask]\n",
    "                    borderzone = dists<20\n",
    "                else:\n",
    "                    borderzone = np.zeros(sum(cohort.cortex_mask),dtype=bool)\n",
    "                boundary_zones.append(borderzone)\n",
    "                labels.append(label[cohort.cortex_mask])\n",
    "            labels = np.concatenate(labels)\n",
    "            boundary_zones = np.concatenate(boundary_zones)\n",
    "        else:\n",
    "            labels = np.zeros(2*len(pred['rh']))\n",
    "            boundary_zones = np.zeros(2*len(pred['rh']),dtype=bool)\n",
    "        subjects_dict[subject]['input_labels'] = labels\n",
    "        subjects_dict[subject]['boundary_zones'] = boundary_zones\n",
    "        subjects_dict[subject]['result'] = np.concatenate([pred['lh'],\n",
    "                                                            pred['rh']])>thresh\n",
    "        pred = load_prediction(subject,hdf5_file,'prediction_clustered')\n",
    "        subjects_dict[subject]['sigmoid_pred'] = np.concatenate([pred['lh'],\n",
    "                                                            pred['rh']])\n",
    "        if subjects_dict[subject]['input_labels'].sum():\n",
    "            detected = subjects_dict[subject]['result'][subjects_dict[subject]['boundary_zones']]\n",
    "            sensitivity.append(detected.any())\n",
    "        else:\n",
    "            fp = subjects_dict[subject]['result'].sum()\n",
    "            specificity.append(fp>0)\n",
    "    return subjects_dict,sensitivity,specificity"
   ]
  },
  {
   "cell_type": "code",
   "execution_count": 41,
   "metadata": {},
   "outputs": [
    {
     "name": "stdout",
     "output_type": "stream",
     "text": [
      "0\n"
     ]
    },
    {
     "ename": "KeyboardInterrupt",
     "evalue": "",
     "output_type": "error",
     "traceback": [
      "\u001b[0;31m---------------------------------------------------------------------------\u001b[0m",
      "\u001b[0;31mKeyboardInterrupt\u001b[0m                         Traceback (most recent call last)",
      "\u001b[1;32m/home/kw350/software/gdl/meld_classifier_GDL/notebooks/test_results.ipynb Cell 10\u001b[0m in \u001b[0;36m<cell line: 8>\u001b[0;34m()\u001b[0m\n\u001b[1;32m     <a href='vscode-notebook-cell://ssh-remote%2Bcsd3/home/kw350/software/gdl/meld_classifier_GDL/notebooks/test_results.ipynb#X12sdnNjb2RlLXJlbW90ZQ%3D%3D?line=21'>22</a>\u001b[0m     borderzone \u001b[39m=\u001b[39m dists\u001b[39m<\u001b[39m\u001b[39m20\u001b[39m\n\u001b[1;32m     <a href='vscode-notebook-cell://ssh-remote%2Bcsd3/home/kw350/software/gdl/meld_classifier_GDL/notebooks/test_results.ipynb#X12sdnNjb2RlLXJlbW90ZQ%3D%3D?line=22'>23</a>\u001b[0m \u001b[39melse\u001b[39;00m:\n\u001b[0;32m---> <a href='vscode-notebook-cell://ssh-remote%2Bcsd3/home/kw350/software/gdl/meld_classifier_GDL/notebooks/test_results.ipynb#X12sdnNjb2RlLXJlbW90ZQ%3D%3D?line=23'>24</a>\u001b[0m     borderzone \u001b[39m=\u001b[39m np\u001b[39m.\u001b[39mzeros(\u001b[39msum\u001b[39;49m(cohort\u001b[39m.\u001b[39;49mcortex_mask),dtype\u001b[39m=\u001b[39m\u001b[39mbool\u001b[39m)\n\u001b[1;32m     <a href='vscode-notebook-cell://ssh-remote%2Bcsd3/home/kw350/software/gdl/meld_classifier_GDL/notebooks/test_results.ipynb#X12sdnNjb2RlLXJlbW90ZQ%3D%3D?line=24'>25</a>\u001b[0m boundary_zones\u001b[39m.\u001b[39mappend(borderzone)\n\u001b[1;32m     <a href='vscode-notebook-cell://ssh-remote%2Bcsd3/home/kw350/software/gdl/meld_classifier_GDL/notebooks/test_results.ipynb#X12sdnNjb2RlLXJlbW90ZQ%3D%3D?line=25'>26</a>\u001b[0m labels\u001b[39m.\u001b[39mappend(label[cohort\u001b[39m.\u001b[39mcortex_mask])\n",
      "\u001b[0;31mKeyboardInterrupt\u001b[0m: "
     ]
    }
   ],
   "source": [
    "thresh = 0.1568896532058716\n",
    "#object\n",
    "thresh = 0.14944605231285094\n",
    "\n",
    "subjects_dict = {}\n",
    "sensitivity=[]\n",
    "specificity=[]\n",
    "for s, subject in enumerate(subjects):\n",
    "    if s % 100 == 0:\n",
    "        print(s)\n",
    "    subjects_dict[subject]={}\n",
    "    pred = load_prediction(subject,hdf5_file,)\n",
    "    subj = MeldSubject(subject, cohort=cohort)\n",
    "    if '_FCD_' in subject:\n",
    "        labels = []\n",
    "        boundary_zones=[]\n",
    "        for hemi in ['lh','rh']:\n",
    "            label = subj.load_feature_lesion_data(features=[],hemi=hemi)[1]\n",
    "            if label.sum() > 0:\n",
    "                dists = gt.fast_geodesics(label.astype(np.float32)\n",
    "                )[cohort.cortex_mask]\n",
    "                borderzone = dists<20\n",
    "            else:\n",
    "                borderzone = np.zeros(sum(cohort.cortex_mask),dtype=bool)\n",
    "            boundary_zones.append(borderzone)\n",
    "            labels.append(label[cohort.cortex_mask])\n",
    "        labels = np.concatenate(labels)\n",
    "        boundary_zones = np.concatenate(boundary_zones)\n",
    "    else:\n",
    "        labels = np.zeros(2*len(pred['rh']))\n",
    "        boundary_zones = np.zeros(2*len(pred['rh']),dtype=bool)\n",
    "    subjects_dict[subject]['input_labels'] = labels\n",
    "    subjects_dict[subject]['boundary_zones'] = boundary_zones\n",
    "    subjects_dict[subject]['result'] = np.concatenate([pred['lh'],\n",
    "                                                           pred['rh']])>0.1568896532058716\n",
    "    pred = load_prediction(subject,hdf5_file,'prediction_clustered')\n",
    "    subjects_dict[subject]['sigmoid_pred'] = np.concatenate([pred['lh'],\n",
    "                                                           pred['rh']])\n",
    "    if subjects_dict[subject]['input_labels'].sum():\n",
    "        detected = subjects_dict[subject]['result'][subjects_dict[subject]['boundary_zones']]        \n",
    "        sensitivity.append(detected.any())\n",
    "    else:\n",
    "        fp = subjects_dict[subject]['result'].sum()\n",
    "        specificity.append(fp>0)\n",
    "    "
   ]
  },
  {
   "cell_type": "code",
   "execution_count": 36,
   "metadata": {},
   "outputs": [
    {
     "data": {
      "text/plain": [
       "(0.6730769230769231, 0.7305699481865284)"
      ]
     },
     "execution_count": 36,
     "metadata": {},
     "output_type": "execute_result"
    }
   ],
   "source": [
    "np.mean(sensitivity),1-np.mean(np.array(specificity)>0)"
   ]
  },
  {
   "cell_type": "code",
   "execution_count": 31,
   "metadata": {},
   "outputs": [
    {
     "data": {
      "text/plain": [
       "(0.7053571428571429, 0.5945945945945945)"
      ]
     },
     "execution_count": 31,
     "metadata": {},
     "output_type": "execute_result"
    }
   ],
   "source": [
    "np.mean(sensitivity),1-np.mean(np.array(specificity)>0)"
   ]
  },
  {
   "cell_type": "code",
   "execution_count": null,
   "metadata": {},
   "outputs": [],
   "source": []
  },
  {
   "cell_type": "code",
   "execution_count": 42,
   "metadata": {},
   "outputs": [
    {
     "name": "stdout",
     "output_type": "stream",
     "text": [
      "0\n",
      "100\n"
     ]
    }
   ],
   "source": [
    "comparison = {}\n",
    "threshes=[0.1568896532058716,0.14944605231285094]\n",
    "for mi,model in enumerate(models):\n",
    "    hdf5_file =os.path.join(experiment_dir, experiments[mi],'s_0','fold_all','results_best_model','predictions.hdf5')\n",
    "\n",
    "    subjects_dict, sensitivity, specificity = get_scores(subjects,hdf5_file,cohort,thresh=threshes[mi])\n",
    "\n",
    "    comparison[model] = [np.mean(sensitivity),1-np.mean(specificity)]\n",
    "    "
   ]
  },
  {
   "cell_type": "code",
   "execution_count": null,
   "metadata": {},
   "outputs": [],
   "source": [
    "len(subjects)"
   ]
  },
  {
   "cell_type": "code",
   "execution_count": 6,
   "metadata": {},
   "outputs": [],
   "source": [
    "control_predictions = []\n",
    "model=models[0]\n",
    "hdf5_file =os.path.join(experiment_dir, experiments[0],'s_0','fold_all','results','predictions'+model.split('.')[0]+'.hdf5')\n",
    "\n",
    "for s, subject in enumerate(subjects):\n",
    "    if '_C_':\n",
    "        pred = load_prediction(subject,hdf5_file,)\n",
    "        control_predictions.append(np.concatenate([pred['lh'],\n",
    "                                                              pred['rh']]))\n",
    "    "
   ]
  },
  {
   "cell_type": "code",
   "execution_count": 7,
   "metadata": {},
   "outputs": [],
   "source": [
    "control_predictions = np.concatenate(control_predictions)\n",
    "ids = np.random.choice(len(control_predictions),size=100000,replace=True)"
   ]
  },
  {
   "cell_type": "code",
   "execution_count": 11,
   "metadata": {},
   "outputs": [
    {
     "data": {
      "text/plain": [
       "<AxesSubplot:ylabel='Density'>"
      ]
     },
     "execution_count": 11,
     "metadata": {},
     "output_type": "execute_result"
    },
    {
     "data": {
      "image/png": "[encoded data removed]",
      "text/plain": [
       "<Figure size 432x288 with 1 Axes>"
      ]
     },
     "metadata": {
      "needs_background": "light"
     },
     "output_type": "display_data"
    }
   ],
   "source": [
    "sns.kdeplot(control_predictions[ids])"
   ]
  },
  {
   "cell_type": "code",
   "execution_count": 10,
   "metadata": {},
   "outputs": [],
   "source": []
  },
  {
   "cell_type": "code",
   "execution_count": null,
   "metadata": {},
   "outputs": [],
   "source": []
  }
 ],
 "metadata": {
  "kernelspec": {
   "display_name": "Python 3.9.10 ('meld_graph')",
   "language": "python",
   "name": "python3"
  },
  "language_info": {
   "codemirror_mode": {
    "name": "ipython",
    "version": 3
   },
   "file_extension": ".py",
   "mimetype": "text/x-python",
   "name": "python",
   "nbconvert_exporter": "python",
   "pygments_lexer": "ipython3",
   "version": "3.9.10"
  },
  "orig_nbformat": 4,
  "vscode": {
   "interpreter": {
    "hash": "c0176ae289e59992559f0c449061dac3c0e6a1074598f8b14680b865216cf195"
   }
  }
 },
 "nbformat": 4,
 "nbformat_minor": 2
}
