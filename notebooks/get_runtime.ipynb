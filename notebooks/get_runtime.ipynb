{
 "cells": [
  {
   "attachments": {},
   "cell_type": "markdown",
   "id": "35b22ed2",
   "metadata": {},
   "source": [
    "Notebook to plot images for figure 1 for MICCAI submission\n",
    "\n",
    "\n"
   ]
  },
  {
   "cell_type": "code",
   "execution_count": 5,
   "id": "9e509389",
   "metadata": {},
   "outputs": [],
   "source": [
    "import os\n",
    "import pandas as pd\n",
    "import glob"
   ]
  },
  {
   "cell_type": "code",
   "execution_count": 3,
   "id": "d30f5b49",
   "metadata": {},
   "outputs": [],
   "source": [
    "model = '/rds/project/kw350/rds-kw350-meld/experiments_graph/kw350/23-02-23_HKOJ_finetuning_distance_classification_mask'"
   ]
  },
  {
   "cell_type": "code",
   "execution_count": 8,
   "id": "2b1a1e47",
   "metadata": {},
   "outputs": [
    {
     "data": {
      "text/plain": [
       "['/rds/project/kw350/rds-kw350-meld/experiments_graph/kw350/23-02-23_HKOJ_finetuning_distance_classification_mask/s_0',\n",
       " '/rds/project/kw350/rds-kw350-meld/experiments_graph/kw350/23-02-23_HKOJ_finetuning_distance_classification_mask/s_1',\n",
       " '/rds/project/kw350/rds-kw350-meld/experiments_graph/kw350/23-02-23_HKOJ_finetuning_distance_classification_mask/s_2']"
      ]
     },
     "execution_count": 8,
     "metadata": {},
     "output_type": "execute_result"
    }
   ],
   "source": [
    "# find if pretunning\n",
    "folder_step = glob.glob(os.path.join(model,'s_*'))\n",
    "folder_step"
   ]
  },
  {
   "cell_type": "code",
   "execution_count": 15,
   "id": "5b4958ce",
   "metadata": {},
   "outputs": [],
   "source": [
    "fold=0\n",
    "values={}\n",
    "df=pd.DataFrame()\n",
    "for step, folder in enumerate(folder_step):\n",
    "    values['step']=step\n",
    "    log_file = os.path.join(folder,f'fold_0{fold}','train.log')\n",
    "    with open(log_file, 'rb') as fh:\n",
    "        # get first and last lines\n",
    "        first = next(fh).decode()\n",
    "        fh.seek(-1024, 2)\n",
    "        last = fh.readlines()[-1].decode()\n",
    "        # extract just time\n",
    "        values['start_time'] = first.split(',')[0]\n",
    "        values['end_time'] = last.split(',')[0]\n",
    "        #add to dataframe\n",
    "        df=pd.concat([df,pd.DataFrame([values])]) \n"
   ]
  },
  {
   "cell_type": "code",
   "execution_count": 21,
   "id": "15940e2d",
   "metadata": {},
   "outputs": [],
   "source": [
    "# convert in time\n",
    "df['start_time'] = pd.to_datetime(df['start_time'])\n",
    "df['end_time'] = pd.to_datetime(df['end_time'])"
   ]
  },
  {
   "cell_type": "code",
   "execution_count": 32,
   "id": "f6bc5e8c",
   "metadata": {},
   "outputs": [
    {
     "data": {
      "text/html": [
       "<div>\n",
       "<style scoped>\n",
       "    .dataframe tbody tr th:only-of-type {\n",
       "        vertical-align: middle;\n",
       "    }\n",
       "\n",
       "    .dataframe tbody tr th {\n",
       "        vertical-align: top;\n",
       "    }\n",
       "\n",
       "    .dataframe thead th {\n",
       "        text-align: right;\n",
       "    }\n",
       "</style>\n",
       "<table border=\"1\" class=\"dataframe\">\n",
       "  <thead>\n",
       "    <tr style=\"text-align: right;\">\n",
       "      <th></th>\n",
       "      <th>step</th>\n",
       "      <th>start_time</th>\n",
       "      <th>end_time</th>\n",
       "      <th>col</th>\n",
       "      <th>difference</th>\n",
       "      <th>difference (s)</th>\n",
       "    </tr>\n",
       "  </thead>\n",
       "  <tbody>\n",
       "    <tr>\n",
       "      <th>0</th>\n",
       "      <td>0</td>\n",
       "      <td>2023-02-24 00:16:08</td>\n",
       "      <td>2023-02-24 03:26:17</td>\n",
       "      <td>2023-02-24 00:16:08</td>\n",
       "      <td>11409.0</td>\n",
       "      <td>11409.0</td>\n",
       "    </tr>\n",
       "    <tr>\n",
       "      <th>0</th>\n",
       "      <td>1</td>\n",
       "      <td>2023-02-24 04:26:21</td>\n",
       "      <td>2023-02-24 05:44:00</td>\n",
       "      <td>2023-02-24 04:26:21</td>\n",
       "      <td>4659.0</td>\n",
       "      <td>4659.0</td>\n",
       "    </tr>\n",
       "    <tr>\n",
       "      <th>0</th>\n",
       "      <td>2</td>\n",
       "      <td>2023-02-24 05:55:31</td>\n",
       "      <td>2023-02-24 10:52:37</td>\n",
       "      <td>2023-02-24 05:55:31</td>\n",
       "      <td>17826.0</td>\n",
       "      <td>17826.0</td>\n",
       "    </tr>\n",
       "  </tbody>\n",
       "</table>\n",
       "</div>"
      ],
      "text/plain": [
       "   step          start_time            end_time                 col  \\\n",
       "0     0 2023-02-24 00:16:08 2023-02-24 03:26:17 2023-02-24 00:16:08   \n",
       "0     1 2023-02-24 04:26:21 2023-02-24 05:44:00 2023-02-24 04:26:21   \n",
       "0     2 2023-02-24 05:55:31 2023-02-24 10:52:37 2023-02-24 05:55:31   \n",
       "\n",
       "   difference  difference (s)  \n",
       "0     11409.0         11409.0  \n",
       "0      4659.0          4659.0  \n",
       "0     17826.0         17826.0  "
      ]
     },
     "execution_count": 32,
     "metadata": {},
     "output_type": "execute_result"
    }
   ],
   "source": [
    "df['difference (s)'] = (df['end_time'] - df['start_time']).dt.total_seconds()\n",
    "df"
   ]
  },
  {
   "cell_type": "code",
   "execution_count": 35,
   "id": "34c26166",
   "metadata": {},
   "outputs": [
    {
     "name": "stdout",
     "output_type": "stream",
     "text": [
      "run time for model with 3 steps : 33894.0 sec\n",
      "run time for model with 3 steps : 564.9 min\n",
      "run time for model with 3 steps : 9.415 hours\n"
     ]
    }
   ],
   "source": [
    "total_time = df['difference (s)'].sum()\n",
    "print(f'run time for model with {len(df[\"difference (s)\"])} steps : {total_time} sec')\n",
    "print(f'run time for model with {len(df[\"difference (s)\"])} steps : {total_time/60} min')\n",
    "print(f'run time for model with {len(df[\"difference (s)\"])} steps : {total_time/60/60} hours')"
   ]
  },
  {
   "cell_type": "code",
   "execution_count": 30,
   "id": "3a09a2fa",
   "metadata": {},
   "outputs": [
    {
     "data": {
      "text/plain": [
       "9.4"
      ]
     },
     "execution_count": 30,
     "metadata": {},
     "output_type": "execute_result"
    }
   ],
   "source": [
    "564/60"
   ]
  }
 ],
 "metadata": {
  "kernelspec": {
   "display_name": "Python 3.9.10 ('meld_graph')",
   "language": "python",
   "name": "python3"
  },
  "language_info": {
   "codemirror_mode": {
    "name": "ipython",
    "version": 3
   },
   "file_extension": ".py",
   "mimetype": "text/x-python",
   "name": "python",
   "nbconvert_exporter": "python",
   "pygments_lexer": "ipython3",
   "version": "3.9.10"
  },
  "vscode": {
   "interpreter": {
    "hash": "c0176ae289e59992559f0c449061dac3c0e6a1074598f8b14680b865216cf195"
   }
  }
 },
 "nbformat": 4,
 "nbformat_minor": 5
}
