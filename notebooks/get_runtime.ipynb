{
 "cells": [
  {
   "attachments": {},
   "cell_type": "markdown",
   "id": "35b22ed2",
   "metadata": {},
   "source": [
    "Notebook to plot images for figure 1 for MICCAI submission\n",
    "\n",
    "\n"
   ]
  },
  {
   "cell_type": "code",
   "execution_count": 5,
   "id": "9e509389",
   "metadata": {},
   "outputs": [],
   "source": [
    "import os\n",
    "import pandas as pd\n",
    "import glob"
   ]
  },
  {
   "cell_type": "code",
   "execution_count": 3,
   "id": "d30f5b49",
   "metadata": {},
   "outputs": [],
   "source": [
    "model = '/rds/project/kw350/rds-kw350-meld/experiments_graph/kw350/23-02-23_HKOJ_finetuning_distance_classification_mask'"
   ]
  },
  {
   "cell_type": "code",
   "execution_count": 36,
   "id": "2b1a1e47",
   "metadata": {},
   "outputs": [
    {
     "name": "stdout",
     "output_type": "stream",
     "text": [
      "['/rds/project/kw350/rds-kw350-meld/experiments_graph/kw350/23-02-23_HKOJ_finetuning_distance_classification_mask/s_0', '/rds/project/kw350/rds-kw350-meld/experiments_graph/kw350/23-02-23_HKOJ_finetuning_distance_classification_mask/s_1', '/rds/project/kw350/rds-kw350-meld/experiments_graph/kw350/23-02-23_HKOJ_finetuning_distance_classification_mask/s_2']\n",
      "run time for model with 3 steps : 33894.0 sec\n",
      "run time for model with 3 steps : 564.9 min\n",
      "run time for model with 3 steps : 9.415 hours\n"
     ]
    }
   ],
   "source": [
    "# find if pretunning\n",
    "folder_step = glob.glob(os.path.join(model,'s_*'))\n",
    "print(folder_step)\n",
    "\n",
    "fold=0\n",
    "values={}\n",
    "df=pd.DataFrame()\n",
    "for step, folder in enumerate(folder_step):\n",
    "    values['step']=step\n",
    "    log_file = os.path.join(folder,f'fold_0{fold}','train.log')\n",
    "    with open(log_file, 'rb') as fh:\n",
    "        # get first and last lines\n",
    "        first = next(fh).decode()\n",
    "        fh.seek(-1024, 2)\n",
    "        last = fh.readlines()[-1].decode()\n",
    "        # extract just time\n",
    "        values['start_time'] = first.split(',')[0]\n",
    "        values['end_time'] = last.split(',')[0]\n",
    "        #add to dataframe\n",
    "        df=pd.concat([df,pd.DataFrame([values])]) \n",
    "\n",
    "# convert in time\n",
    "df['start_time'] = pd.to_datetime(df['start_time'])\n",
    "df['end_time'] = pd.to_datetime(df['end_time'])\n",
    "#find difference for each step\n",
    "df['difference (s)'] = (df['end_time'] - df['start_time']).dt.total_seconds()\n",
    "\n",
    "#sum\n",
    "total_time = df['difference (s)'].sum()\n",
    "print(f'run time for model with {len(df[\"difference (s)\"])} steps : {total_time} sec')\n",
    "print(f'run time for model with {len(df[\"difference (s)\"])} steps : {total_time/60} min')\n",
    "print(f'run time for model with {len(df[\"difference (s)\"])} steps : {total_time/60/60} hours')\n"
   ]
  }
 ],
 "metadata": {
  "kernelspec": {
   "display_name": "Python 3.9.10 ('meld_graph')",
   "language": "python",
   "name": "python3"
  },
  "language_info": {
   "codemirror_mode": {
    "name": "ipython",
    "version": 3
   },
   "file_extension": ".py",
   "mimetype": "text/x-python",
   "name": "python",
   "nbconvert_exporter": "python",
   "pygments_lexer": "ipython3",
   "version": "3.9.10"
  },
  "vscode": {
   "interpreter": {
    "hash": "c0176ae289e59992559f0c449061dac3c0e6a1074598f8b14680b865216cf195"
   }
  }
 },
 "nbformat": 4,
 "nbformat_minor": 5
}
