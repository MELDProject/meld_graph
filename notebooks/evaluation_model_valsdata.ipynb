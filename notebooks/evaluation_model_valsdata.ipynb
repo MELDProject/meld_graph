{
 "cells": [
  {
   "cell_type": "code",
   "execution_count": 3,
   "id": "4ad09881",
   "metadata": {},
   "outputs": [
    {
     "name": "stdout",
     "output_type": "stream",
     "text": [
      "Setting MELD_DATA_PATH to /rds/project/kw350/rds-kw350-meld/meld_data/Data\n",
      "Setting BASE_PATH to /rds/project/kw350/rds-kw350-meld/meld_data/Data\n",
      "Setting EXPERIMENT_PATH to /rds/project/kw350/rds-kw350-meld/experiments/co-ripa1/\n",
      "Setting FS_SUBJECTS_PATH to \n",
      "Setting EXPERIMENT_PATH to /rds/project/kw350/rds-kw350-meld/experiments_graph/co-ripa1\n"
     ]
    }
   ],
   "source": [
    "import meld_graph\n",
    "import meld_graph.models\n",
    "import meld_graph.experiment\n",
    "import meld_graph.dataset\n",
    "import meld_graph.data_preprocessing\n",
    "import meld_graph.evaluation\n",
    "\n",
    "\n",
    "import importlib\n",
    "importlib.reload(meld_graph)\n",
    "importlib.reload(meld_graph.models)\n",
    "importlib.reload(meld_graph.dataset)\n",
    "importlib.reload(meld_graph.experiment)\n",
    "importlib.reload(meld_graph.data_preprocessing)\n",
    "importlib.reload(meld_graph.evaluation)\n",
    "\n",
    "import logging\n",
    "import os\n",
    "import json\n",
    "\n",
    "from meld_graph.dataset import GraphDataset, Oversampler\n",
    "from meld_classifier.meld_cohort import MeldCohort, MeldSubject\n",
    "from meld_graph.training import Metrics\n",
    "import numpy as np\n",
    "from meld_graph.paths import EXPERIMENT_PATH\n",
    "\n",
    "from meld_graph.evaluation import Evaluator\n",
    "\n"
   ]
  },
  {
   "attachments": {},
   "cell_type": "markdown",
   "id": "8526dfb6",
   "metadata": {},
   "source": [
    "## Define models "
   ]
  },
  {
   "cell_type": "code",
   "execution_count": 29,
   "metadata": {},
   "outputs": [],
   "source": [
    "# initialise models you want to run\n",
    "EXPERIMENT_PATH='/rds/project/kw350/rds-kw350-meld/experiments_graph/kw350'\n",
    "\n",
    "model_base_paths = {\n",
    "   'dcd': '/rds/project/kw350/rds-kw350-meld/experiments_graph/kw350/22-12-13_finetune/dcd/fold_00/',\n",
    "   'dc': '/rds/project/kw350/rds-kw350-meld/experiments_graph/kw350/22-12-13_finetune/dc/fold_00/',\n",
    "   'dcd_head': '/rds/project/kw350/rds-kw350-meld/experiments_graph/kw350/22-12-13_finetune/dcd_head/fold_00/',\n",
    "}"
   ]
  },
  {
   "attachments": {},
   "cell_type": "markdown",
   "id": "d2e70410",
   "metadata": {},
   "source": [
    "### Create dataset with vals data"
   ]
  },
  {
   "cell_type": "code",
   "execution_count": 5,
   "id": "3a361f8e",
   "metadata": {},
   "outputs": [
    {
     "name": "stderr",
     "output_type": "stream",
     "text": [
      "Initialised Experiment 22-12-13_finetune/dcd\n",
      "Loading and preprocessing test data\n"
     ]
    },
    {
     "name": "stdout",
     "output_type": "stream",
     "text": [
      "dataset using distance_maps\n"
     ]
    },
    {
     "name": "stderr",
     "output_type": "stream",
     "text": [
      "Z-scoring data for MELD_H17_3T_FCD_0092\n",
      "Z-scoring data for MELD_H5_3T_C_0005\n",
      "Z-scoring data for MELD_H2_15T_C_0002\n",
      "Z-scoring data for MELD_H4_15T_FCD_0005\n",
      "Z-scoring data for MELD_H4_3T_FCD_0008\n",
      "Z-scoring data for MELD_H16_3T_FCD_042\n",
      "Z-scoring data for MELD_H26_15T_FCD_0006\n",
      "Z-scoring data for MELD_H4_3T_FCD_0041\n",
      "Z-scoring data for MELD_H17_3T_FCD_0069\n",
      "Z-scoring data for MELD_H14_3T_FCD_0028\n",
      "Z-scoring data for MELD_H3_3T_C_0029\n",
      "Z-scoring data for MELD_H3_3T_C_0025\n",
      "Z-scoring data for MELD_H17_3T_FCD_0129\n",
      "Z-scoring data for MELD_H21_3T_FCD_0022\n",
      "Z-scoring data for MELD_H15_3T_C_0017\n",
      "Z-scoring data for MELD_H4_15T_FCD_0022\n",
      "Z-scoring data for MELD_H24_3T_FCD_0009\n",
      "Z-scoring data for MELD_H12_3T_FCD_0029\n",
      "Z-scoring data for MELD_H3_3T_C_0022\n",
      "Z-scoring data for MELD_H10_3T_FCD_0006\n",
      "Z-scoring data for MELD_H17_3T_FCD_0037\n",
      "Z-scoring data for MELD_H3_3T_C_0027\n",
      "Z-scoring data for MELD_H5_3T_FCD_0016\n",
      "Z-scoring data for MELD_H17_3T_FCD_0063\n",
      "Z-scoring data for MELD_H5_3T_FCD_0023\n",
      "Z-scoring data for MELD_H11_3T_FCD_0026\n",
      "Z-scoring data for MELD_H17_3T_FCD_0118\n",
      "Z-scoring data for MELD_H2_3T_FCD_0002\n",
      "Z-scoring data for MELD_H4_15T_C_0028\n",
      "Z-scoring data for MELD_H14_3T_FCD_0006\n",
      "Z-scoring data for MELD_H12_3T_FCD_0019\n",
      "Z-scoring data for MELD_H14_3T_FCD_0005\n",
      "Z-scoring data for MELD_H2_15T_FCD_0002\n",
      "Z-scoring data for MELD_H21_3T_FCD_0020\n",
      "Z-scoring data for MELD_H24_3T_FCD_0027\n",
      "Z-scoring data for MELD_H19_3T_C_010\n",
      "Z-scoring data for MELD_H10_3T_C_0004\n",
      "Z-scoring data for MELD_H3_3T_C_0064\n",
      "Z-scoring data for MELD_H17_3T_FCD_0123\n",
      "Z-scoring data for MELD_H21_3T_FCD_0045\n",
      "Z-scoring data for MELD_H3_3T_C_0002\n",
      "Z-scoring data for MELD_H17_3T_FCD_0109\n",
      "Z-scoring data for MELD_H15_3T_C_0021\n",
      "Z-scoring data for MELD_H11_3T_FCD_0038\n",
      "Z-scoring data for MELD_H17_3T_FCD_0059\n"
     ]
    }
   ],
   "source": [
    "model_base_path=model_base_paths['dcd']\n",
    "checkpoint_path=os.path.join(EXPERIMENT_PATH, model_base_path)\n",
    "exp = meld_graph.experiment.Experiment.from_folder(checkpoint_path)\n",
    "\n",
    "subjects = exp.data_parameters['val_ids']\n",
    "\n",
    "cohort= MeldCohort(hdf5_file_root='{site_code}_{group}_featurematrix_combat_6.hdf5', dataset='MELD_dataset_V6.csv')\n",
    "\n",
    "features= exp.data_parameters['features']\n",
    "\n",
    "# initiate params\n",
    "params = {                \n",
    "          \"features\":features,\n",
    "          \"augment_data\": {}, \n",
    "          \"lesion_bias\":0,\n",
    "          \"lobes\": False,\n",
    "          \"synthetic_data\": {\n",
    "              'run_synthetic': False,\n",
    "            },\n",
    "          \"number_of_folds\": 10,\n",
    "          \"preprocessing_parameters\": {\n",
    "              \"scaling\": None, \n",
    "              \"zscore\": '../data/feature_means.json',\n",
    "            },\n",
    "          \"combine_hemis\": None,\n",
    "          }\n",
    "\n",
    "#load dataset\n",
    "dataset = GraphDataset(subjects, cohort, params, mode='test')\n",
    "\n"
   ]
  },
  {
   "cell_type": "code",
   "execution_count": 7,
   "id": "2894ffeb",
   "metadata": {},
   "outputs": [
    {
     "data": {
      "text/plain": [
       "45"
      ]
     },
     "execution_count": 7,
     "metadata": {},
     "output_type": "execute_result"
    }
   ],
   "source": [
    "len(dataset.subject_ids)"
   ]
  },
  {
   "attachments": {},
   "cell_type": "markdown",
   "id": "b356d112",
   "metadata": {},
   "source": [
    "### Load models and predict"
   ]
  },
  {
   "cell_type": "code",
   "execution_count": 27,
   "id": "a2f2c9e9",
   "metadata": {},
   "outputs": [],
   "source": [
    "use_preload_dataset = True \n",
    "output_path = '/rds/project/kw350/rds-kw350-meld/experiments_graph/co-ripa1/22-12-13_evaluation_real_valsdata'"
   ]
  },
  {
   "cell_type": "code",
   "execution_count": 28,
   "id": "fe84c93a",
   "metadata": {},
   "outputs": [
    {
     "name": "stderr",
     "output_type": "stream",
     "text": [
      "Initialised Experiment 22-12-13_finetune/dcd_head\n",
      "Creating model\n",
      "Loading model weights from checkpoint /rds/project/kw350/rds-kw350-meld/experiments_graph/kw350/22-12-13_finetune/dcd_head/fold_00/best_model.pt\n",
      "loading data and predicting model\n",
      "saving prediction for MELD_H17_3T_FCD_0092\n",
      "saving distance_map for MELD_H17_3T_FCD_0092\n",
      "saving prediction for MELD_H5_3T_C_0005\n",
      "saving distance_map for MELD_H5_3T_C_0005\n",
      "saving prediction for MELD_H2_15T_C_0002\n",
      "saving distance_map for MELD_H2_15T_C_0002\n",
      "saving prediction for MELD_H4_15T_FCD_0005\n",
      "saving distance_map for MELD_H4_15T_FCD_0005\n",
      "saving prediction for MELD_H4_3T_FCD_0008\n",
      "saving distance_map for MELD_H4_3T_FCD_0008\n",
      "saving prediction for MELD_H16_3T_FCD_042\n",
      "saving distance_map for MELD_H16_3T_FCD_042\n",
      "saving prediction for MELD_H26_15T_FCD_0006\n",
      "saving distance_map for MELD_H26_15T_FCD_0006\n",
      "saving prediction for MELD_H4_3T_FCD_0041\n",
      "saving distance_map for MELD_H4_3T_FCD_0041\n",
      "saving prediction for MELD_H17_3T_FCD_0069\n",
      "saving distance_map for MELD_H17_3T_FCD_0069\n",
      "saving prediction for MELD_H14_3T_FCD_0028\n",
      "saving distance_map for MELD_H14_3T_FCD_0028\n",
      "saving prediction for MELD_H3_3T_C_0029\n",
      "saving distance_map for MELD_H3_3T_C_0029\n",
      "saving prediction for MELD_H3_3T_C_0025\n",
      "saving distance_map for MELD_H3_3T_C_0025\n",
      "saving prediction for MELD_H17_3T_FCD_0129\n",
      "saving distance_map for MELD_H17_3T_FCD_0129\n",
      "saving prediction for MELD_H21_3T_FCD_0022\n",
      "saving distance_map for MELD_H21_3T_FCD_0022\n",
      "saving prediction for MELD_H15_3T_C_0017\n",
      "saving distance_map for MELD_H15_3T_C_0017\n",
      "saving prediction for MELD_H4_15T_FCD_0022\n",
      "saving distance_map for MELD_H4_15T_FCD_0022\n",
      "saving prediction for MELD_H24_3T_FCD_0009\n",
      "saving distance_map for MELD_H24_3T_FCD_0009\n",
      "saving prediction for MELD_H12_3T_FCD_0029\n",
      "saving distance_map for MELD_H12_3T_FCD_0029\n",
      "saving prediction for MELD_H3_3T_C_0022\n",
      "saving distance_map for MELD_H3_3T_C_0022\n",
      "saving prediction for MELD_H10_3T_FCD_0006\n",
      "saving distance_map for MELD_H10_3T_FCD_0006\n",
      "saving prediction for MELD_H17_3T_FCD_0037\n",
      "saving distance_map for MELD_H17_3T_FCD_0037\n",
      "saving prediction for MELD_H3_3T_C_0027\n",
      "saving distance_map for MELD_H3_3T_C_0027\n",
      "saving prediction for MELD_H5_3T_FCD_0016\n",
      "saving distance_map for MELD_H5_3T_FCD_0016\n",
      "saving prediction for MELD_H17_3T_FCD_0063\n",
      "saving distance_map for MELD_H17_3T_FCD_0063\n",
      "saving prediction for MELD_H5_3T_FCD_0023\n",
      "saving distance_map for MELD_H5_3T_FCD_0023\n",
      "saving prediction for MELD_H11_3T_FCD_0026\n",
      "saving distance_map for MELD_H11_3T_FCD_0026\n",
      "saving prediction for MELD_H17_3T_FCD_0118\n",
      "saving distance_map for MELD_H17_3T_FCD_0118\n",
      "saving prediction for MELD_H2_3T_FCD_0002\n",
      "saving distance_map for MELD_H2_3T_FCD_0002\n",
      "saving prediction for MELD_H4_15T_C_0028\n",
      "saving distance_map for MELD_H4_15T_C_0028\n",
      "saving prediction for MELD_H14_3T_FCD_0006\n",
      "saving distance_map for MELD_H14_3T_FCD_0006\n",
      "saving prediction for MELD_H12_3T_FCD_0019\n",
      "saving distance_map for MELD_H12_3T_FCD_0019\n",
      "saving prediction for MELD_H14_3T_FCD_0005\n",
      "saving distance_map for MELD_H14_3T_FCD_0005\n",
      "saving prediction for MELD_H2_15T_FCD_0002\n",
      "saving distance_map for MELD_H2_15T_FCD_0002\n",
      "saving prediction for MELD_H21_3T_FCD_0020\n",
      "saving distance_map for MELD_H21_3T_FCD_0020\n",
      "saving prediction for MELD_H24_3T_FCD_0027\n",
      "saving distance_map for MELD_H24_3T_FCD_0027\n",
      "saving prediction for MELD_H19_3T_C_010\n",
      "saving distance_map for MELD_H19_3T_C_010\n",
      "saving prediction for MELD_H10_3T_C_0004\n",
      "saving distance_map for MELD_H10_3T_C_0004\n",
      "saving prediction for MELD_H3_3T_C_0064\n",
      "saving distance_map for MELD_H3_3T_C_0064\n",
      "saving prediction for MELD_H17_3T_FCD_0123\n",
      "saving distance_map for MELD_H17_3T_FCD_0123\n",
      "saving prediction for MELD_H21_3T_FCD_0045\n",
      "saving distance_map for MELD_H21_3T_FCD_0045\n",
      "saving prediction for MELD_H3_3T_C_0002\n",
      "saving distance_map for MELD_H3_3T_C_0002\n",
      "saving prediction for MELD_H17_3T_FCD_0109\n",
      "saving distance_map for MELD_H17_3T_FCD_0109\n",
      "saving prediction for MELD_H15_3T_C_0021\n",
      "saving distance_map for MELD_H15_3T_C_0021\n",
      "saving prediction for MELD_H11_3T_FCD_0038\n",
      "saving distance_map for MELD_H11_3T_FCD_0038\n",
      "saving prediction for MELD_H17_3T_FCD_0059\n",
      "saving distance_map for MELD_H17_3T_FCD_0059\n",
      "/rds/user/co-ripa1/hpc-work/scripts/meld_classifier_GDL/meld_graph/evaluation.py:337: UserWarning: There are no gridspecs with layoutgrids. Possibly did not call parent GridSpec with the \"figure\" keyword\n",
      "  fig.savefig(filename, bbox_inches='tight')\n"
     ]
    }
   ],
   "source": [
    "from pyexpat import model\n",
    "\n",
    "if use_preload_dataset:    \n",
    "    cohort = None\n",
    "    subjects = None\n",
    "else:\n",
    "    dataset = None\n",
    "\n",
    "for model_name in model_base_paths.keys(): \n",
    "    \n",
    "    #load experiment already trained using checkpoint path\n",
    "    model_base_path=model_base_paths[model_name]\n",
    "    checkpoint_path=os.path.join(EXPERIMENT_PATH, model_base_path)\n",
    "    exp = meld_graph.experiment.Experiment.from_folder(checkpoint_path)\n",
    "\n",
    "    # Run the evaluation on the test data and save into directory provided\n",
    "    save_dir=os.path.join(output_path, model_name)\n",
    "\n",
    "    eva = Evaluator(experiment = exp,\n",
    "                    checkpoint_path = checkpoint_path,\n",
    "                    save_dir = save_dir ,\n",
    "                    make_images = True,\n",
    "                    dataset=dataset,\n",
    "                    cohort=cohort,\n",
    "                    subject_ids = subjects,\n",
    "                    mode = 'test'\n",
    "                )\n",
    "\n",
    "    # evaluate (predict , stats and plot) or just run individually each step\n",
    "    # eva.evaluate()\n",
    "    \n",
    "    # # load data and predict\n",
    "    eva.load_predict_data()\n",
    "    # # calculate stats \n",
    "    eva.stat_subjects()\n",
    "    #  # make images \n",
    "    eva.plot_subjects_prediction()\n",
    "\n",
    "    "
   ]
  },
  {
   "cell_type": "markdown",
   "id": "9c2c348e",
   "metadata": {},
   "source": [
    "### Compare models"
   ]
  },
  {
   "cell_type": "code",
   "execution_count": 30,
   "id": "6f6b76e1",
   "metadata": {},
   "outputs": [],
   "source": [
    "# load results \n",
    "import pandas as pd\n",
    "\n",
    "df={}\n",
    "predicted={}\n",
    "for model_name in model_base_paths.keys():  \n",
    "    \n",
    "    results_file = os.path.join(output_path,model_name, 'results', 'test_results.csv')\n",
    "    df[model_name] = pd.read_csv(results_file) \n",
    "    \n",
    "    "
   ]
  },
  {
   "cell_type": "code",
   "execution_count": 13,
   "id": "f873ac1a",
   "metadata": {},
   "outputs": [
    {
     "data": {
      "text/plain": [
       "Index(['ID', 'group', 'detected', 'tp', 'fp', 'fn', 'tn', 'dice lesional',\n",
       "       'dice non-lesional'],\n",
       "      dtype='object')"
      ]
     },
     "execution_count": 13,
     "metadata": {},
     "output_type": "execute_result"
    }
   ],
   "source": [
    "df[model_name].keys()"
   ]
  },
  {
   "cell_type": "code",
   "execution_count": 33,
   "id": "e68f1e4a",
   "metadata": {},
   "outputs": [
    {
     "name": "stdout",
     "output_type": "stream",
     "text": [
      "Model dcd: \n",
      "mean dice lesional patient : 0.076969637953125\n",
      "mean dice lesional all : 0.34362285365555556\n",
      "mean dice non lesional all : 0.9958684039999999\n",
      "sensitivity patient : 0.28125\n",
      "specificity controls : 1.0\n",
      "\n",
      "\n",
      "Model dc: \n",
      "mean dice lesional patient : 0.13545142465624999\n",
      "mean dice lesional all : 0.3629876797555555\n",
      "mean dice non lesional all : 0.9959633835555555\n",
      "sensitivity patient : 0.3125\n",
      "specificity controls : 0.9230769230769231\n",
      "\n",
      "\n",
      "Model dcd_head: \n",
      "mean dice lesional patient : 0.12087076096875\n",
      "mean dice lesional all : 0.3748414300222222\n",
      "mean dice non lesional all : 0.995927800888889\n",
      "sensitivity patient : 0.375\n",
      "specificity controls : 1.0\n",
      "\n",
      "\n"
     ]
    }
   ],
   "source": [
    "# stats\n",
    "import pandas as pd\n",
    "\n",
    "for model_name in model_base_paths.keys():  \n",
    "   \n",
    "    dfsub = df[model_name]    \n",
    "\n",
    "    print(f'Model {model_name}: ')\n",
    "    \n",
    "    mean_dice_les = dfsub[dfsub['group']==True]['dice lesional'].mean()\n",
    "    print(f'mean dice lesional patient : {mean_dice_les}')\n",
    "\n",
    "    mean_dice_les_all = dfsub['dice lesional'].mean()\n",
    "    print(f'mean dice lesional all : {mean_dice_les_all}')\n",
    "\n",
    "    mean_dice_nonles_all = dfsub['dice non-lesional'].mean()\n",
    "    print(f'mean dice non lesional all : {mean_dice_nonles_all}')\n",
    "\n",
    "    sensitivity = len(dfsub[(dfsub['group']==True) & (dfsub['tp']>0)])/len(dfsub[(dfsub['group']==True)])\n",
    "    print(f'sensitivity patient : {sensitivity}')\n",
    "\n",
    "    specificity = len(dfsub[(dfsub['group']==False) & (dfsub['fp']==0)])/len(dfsub[(dfsub['group']==False)])\n",
    "    print(f'specificity controls : {specificity}')\n",
    "\n",
    "    print(f'\\n')"
   ]
  }
 ],
 "metadata": {
  "kernelspec": {
   "display_name": "Python 3.9.10 ('meld_graph')",
   "language": "python",
   "name": "python3"
  },
  "language_info": {
   "codemirror_mode": {
    "name": "ipython",
    "version": 3
   },
   "file_extension": ".py",
   "mimetype": "text/x-python",
   "name": "python",
   "nbconvert_exporter": "python",
   "pygments_lexer": "ipython3",
   "version": "3.9.10"
  },
  "vscode": {
   "interpreter": {
    "hash": "c0176ae289e59992559f0c449061dac3c0e6a1074598f8b14680b865216cf195"
   }
  }
 },
 "nbformat": 4,
 "nbformat_minor": 5
}
