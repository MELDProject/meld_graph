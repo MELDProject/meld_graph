{
 "cells": [
  {
   "cell_type": "code",
   "execution_count": 1,
   "metadata": {},
   "outputs": [
    {
     "name": "stdout",
     "output_type": "stream",
     "text": [
      "Setting EXPERIMENT_PATH to /rds/project/kw350/rds-kw350-meld/experiments_graph/kw350\n",
      "Setting MELD_DATA_PATH to /rds/project/kw350/rds-kw350-meld/meld_data/Data\n",
      "Setting BASE_PATH to /rds/project/kw350/rds-kw350-meld/meld_data/Data\n",
      "Setting EXPERIMENT_PATH to /rds/project/kw350/rds-kw350-meld/experiments/co-ripa1/\n",
      "Setting FS_SUBJECTS_PATH to \n"
     ]
    }
   ],
   "source": [
    "import meld_graph.experiment\n",
    "import os\n",
    "import numpy as np\n",
    "import h5py\n",
    "import matplotlib_surface_plotting as msp\n",
    "import matplotlib.pyplot as plt\n",
    "from matplotlib.gridspec import GridSpec\n",
    "import nibabel as nb\n",
    "from meld_classifier.paths import BASE_PATH\n",
    "from meld_classifier.meld_cohort import MeldCohort,MeldSubject\n",
    "def load_prediction(subject,hdf5,dset='prediction'):\n",
    "    results={}\n",
    "    with h5py.File(hdf5, \"r\") as f:\n",
    "        for hemi in ['lh','rh']:\n",
    "            results[hemi] = f[subject][hemi][dset][:]\n",
    "    return results\n"
   ]
  },
  {
   "cell_type": "code",
   "execution_count": 2,
   "metadata": {},
   "outputs": [],
   "source": [
    "cohort = MeldCohort(hdf5_file_root='{site_code}_{group}_featurematrix_combat_6.hdf5',\n",
    "               dataset='MELD_dataset_V6.csv')\n"
   ]
  },
  {
   "attachments": {},
   "cell_type": "markdown",
   "metadata": {},
   "source": [
    "#### initialise models"
   ]
  },
  {
   "cell_type": "code",
   "execution_count": 3,
   "metadata": {},
   "outputs": [],
   "source": [
    "full_model ='/rds/project/kw350/rds-kw350-meld/experiments_graph/kw350/23-02-22_DEDL_finetuning_classification_mask_large/s_2'\n",
    "full_model_finetunning ='/rds/project/kw350/rds-kw350-meld/experiments_graph/kw350/23-02-22_DEDL_finetuning/s_2'\n",
    "full_model_distance ='/rds/project/kw350/rds-kw350-meld/experiments_graph/kw350/23-02-22_DHAM_distance/s_0'\n",
    "full_model_classification ='/rds/project/kw350/rds-kw350-meld/experiments_graph/kw350/23-02-22_DHAM_classification/s_0/'\n",
    "full_model_largeaugmentation ='/rds/project/kw350/rds-kw350-meld/experiments_graph/kw350/23-02-22_DHAM_large_augmentation/s_0/'\n",
    "full_model_maskaugmentation ='/rds/project/kw350/rds-kw350-meld/experiments_graph/kw350/23-02-22_DHAM_mask_augmentation/s_0/'\n",
    "nnunet = '/rds/project/kw350/rds-kw350-meld/experiments_graph/kw350/23-02-22_DHAM_nnunet/s_0/'\n"
   ]
  },
  {
   "cell_type": "code",
   "execution_count": 4,
   "metadata": {},
   "outputs": [
    {
     "data": {
      "text/plain": [
       "{'full_model_fold0': '/rds/project/kw350/rds-kw350-meld/experiments_graph/kw350/23-02-22_DEDL_finetuning_classification_mask_large/s_2/fold_00/results',\n",
       " '+finetunning_fold0': '/rds/project/kw350/rds-kw350-meld/experiments_graph/kw350/23-02-22_DEDL_finetuning/s_2/fold_00/results',\n",
       " '+distance_fold0': '/rds/project/kw350/rds-kw350-meld/experiments_graph/kw350/23-02-22_DHAM_distance/s_0/fold_00/results',\n",
       " '+classification_fold0': '/rds/project/kw350/rds-kw350-meld/experiments_graph/kw350/23-02-22_DHAM_classification/s_0/fold_00/results',\n",
       " '+large_augmentation_fold0': '/rds/project/kw350/rds-kw350-meld/experiments_graph/kw350/23-02-22_DHAM_large_augmentation/s_0/fold_00/results',\n",
       " '+mask_augmentation_fold0': '/rds/project/kw350/rds-kw350-meld/experiments_graph/kw350/23-02-22_DHAM_mask_augmentation/s_0/fold_00/results',\n",
       " 'nnunet_fold0': '/rds/project/kw350/rds-kw350-meld/experiments_graph/kw350/23-02-22_DHAM_nnunet/s_0/fold_00/results',\n",
       " 'full_model_fold1': '/rds/project/kw350/rds-kw350-meld/experiments_graph/kw350/23-02-22_DEDL_finetuning_classification_mask_large/s_2/fold_01/results',\n",
       " '+finetunning_fold1': '/rds/project/kw350/rds-kw350-meld/experiments_graph/kw350/23-02-22_DEDL_finetuning/s_2/fold_01/results',\n",
       " '+distance_fold1': '/rds/project/kw350/rds-kw350-meld/experiments_graph/kw350/23-02-22_DHAM_distance/s_0/fold_01/results',\n",
       " '+classification_fold1': '/rds/project/kw350/rds-kw350-meld/experiments_graph/kw350/23-02-22_DHAM_classification/s_0/fold_01/results',\n",
       " '+large_augmentation_fold1': '/rds/project/kw350/rds-kw350-meld/experiments_graph/kw350/23-02-22_DHAM_large_augmentation/s_0/fold_01/results',\n",
       " '+mask_augmentation_fold1': '/rds/project/kw350/rds-kw350-meld/experiments_graph/kw350/23-02-22_DHAM_mask_augmentation/s_0/fold_01/results',\n",
       " 'nnunet_fold1': '/rds/project/kw350/rds-kw350-meld/experiments_graph/kw350/23-02-22_DHAM_nnunet/s_0/fold_01/results',\n",
       " 'full_model_fold2': '/rds/project/kw350/rds-kw350-meld/experiments_graph/kw350/23-02-22_DEDL_finetuning_classification_mask_large/s_2/fold_02/results',\n",
       " '+finetunning_fold2': '/rds/project/kw350/rds-kw350-meld/experiments_graph/kw350/23-02-22_DEDL_finetuning/s_2/fold_02/results',\n",
       " '+distance_fold2': '/rds/project/kw350/rds-kw350-meld/experiments_graph/kw350/23-02-22_DHAM_distance/s_0/fold_02/results',\n",
       " '+classification_fold2': '/rds/project/kw350/rds-kw350-meld/experiments_graph/kw350/23-02-22_DHAM_classification/s_0/fold_02/results',\n",
       " '+large_augmentation_fold2': '/rds/project/kw350/rds-kw350-meld/experiments_graph/kw350/23-02-22_DHAM_large_augmentation/s_0/fold_02/results',\n",
       " '+mask_augmentation_fold2': '/rds/project/kw350/rds-kw350-meld/experiments_graph/kw350/23-02-22_DHAM_mask_augmentation/s_0/fold_02/results',\n",
       " 'nnunet_fold2': '/rds/project/kw350/rds-kw350-meld/experiments_graph/kw350/23-02-22_DHAM_nnunet/s_0/fold_02/results',\n",
       " 'full_model_fold3': '/rds/project/kw350/rds-kw350-meld/experiments_graph/kw350/23-02-22_DEDL_finetuning_classification_mask_large/s_2/fold_03/results',\n",
       " '+finetunning_fold3': '/rds/project/kw350/rds-kw350-meld/experiments_graph/kw350/23-02-22_DEDL_finetuning/s_2/fold_03/results',\n",
       " '+distance_fold3': '/rds/project/kw350/rds-kw350-meld/experiments_graph/kw350/23-02-22_DHAM_distance/s_0/fold_03/results',\n",
       " '+classification_fold3': '/rds/project/kw350/rds-kw350-meld/experiments_graph/kw350/23-02-22_DHAM_classification/s_0/fold_03/results',\n",
       " '+large_augmentation_fold3': '/rds/project/kw350/rds-kw350-meld/experiments_graph/kw350/23-02-22_DHAM_large_augmentation/s_0/fold_03/results',\n",
       " '+mask_augmentation_fold3': '/rds/project/kw350/rds-kw350-meld/experiments_graph/kw350/23-02-22_DHAM_mask_augmentation/s_0/fold_03/results',\n",
       " 'nnunet_fold3': '/rds/project/kw350/rds-kw350-meld/experiments_graph/kw350/23-02-22_DHAM_nnunet/s_0/fold_03/results',\n",
       " 'full_model_fold4': '/rds/project/kw350/rds-kw350-meld/experiments_graph/kw350/23-02-22_DEDL_finetuning_classification_mask_large/s_2/fold_04/results',\n",
       " '+finetunning_fold4': '/rds/project/kw350/rds-kw350-meld/experiments_graph/kw350/23-02-22_DEDL_finetuning/s_2/fold_04/results',\n",
       " '+distance_fold4': '/rds/project/kw350/rds-kw350-meld/experiments_graph/kw350/23-02-22_DHAM_distance/s_0/fold_04/results',\n",
       " '+classification_fold4': '/rds/project/kw350/rds-kw350-meld/experiments_graph/kw350/23-02-22_DHAM_classification/s_0/fold_04/results',\n",
       " '+large_augmentation_fold4': '/rds/project/kw350/rds-kw350-meld/experiments_graph/kw350/23-02-22_DHAM_large_augmentation/s_0/fold_04/results',\n",
       " '+mask_augmentation_fold4': '/rds/project/kw350/rds-kw350-meld/experiments_graph/kw350/23-02-22_DHAM_mask_augmentation/s_0/fold_04/results',\n",
       " 'nnunet_fold4': '/rds/project/kw350/rds-kw350-meld/experiments_graph/kw350/23-02-22_DHAM_nnunet/s_0/fold_04/results'}"
      ]
     },
     "execution_count": 4,
     "metadata": {},
     "output_type": "execute_result"
    }
   ],
   "source": [
    "folds = np.arange(5)\n",
    "\n",
    "save_dirs = {}\n",
    "for fold in np.arange(5):\n",
    "    save_dirs[f'full_model_fold{fold}'] = os.path.join(full_model, f'fold_0{fold}', 'results')\n",
    "    save_dirs[f'+finetunning_fold{fold}'] = os.path.join(full_model_finetunning, f'fold_0{fold}', 'results')\n",
    "    save_dirs[f'+distance_fold{fold}'] = os.path.join(full_model_distance, f'fold_0{fold}', 'results')\n",
    "    save_dirs[f'+classification_fold{fold}'] = os.path.join(full_model_classification, f'fold_0{fold}', 'results')\n",
    "    save_dirs[f'+large_augmentation_fold{fold}'] = os.path.join(full_model_largeaugmentation, f'fold_0{fold}', 'results')\n",
    "    save_dirs[f'+mask_augmentation_fold{fold}'] = os.path.join(full_model_maskaugmentation, f'fold_0{fold}', 'results')\n",
    "    save_dirs[f'nnunet_fold{fold}'] = os.path.join(nnunet, f'fold_0{fold}', 'results')\n",
    "save_dirs"
   ]
  },
  {
   "attachments": {},
   "cell_type": "markdown",
   "metadata": {},
   "source": [
    "#### compute AUC on test dataset "
   ]
  },
  {
   "cell_type": "code",
   "execution_count": 5,
   "metadata": {},
   "outputs": [],
   "source": [
    "n_vert = len(cohort.cortex_label)*2"
   ]
  },
  {
   "cell_type": "code",
   "execution_count": 6,
   "metadata": {},
   "outputs": [],
   "source": [
    "with h5py.File(os.path.join(save_dirs['full_model_fold0'], 'predictions.hdf5'), \"r\") as f:\n",
    "    subjects = list(f.keys())\n"
   ]
  },
  {
   "cell_type": "code",
   "execution_count": 7,
   "metadata": {},
   "outputs": [],
   "source": [
    "def roc_curves(subject_dictionary,roc_dictionary,roc_curves_thresholds):\n",
    "    \"\"\"calculate performance at multiple thresholds\"\"\"\n",
    "    \n",
    "    for t_i,threshold in enumerate(roc_curves_thresholds):\n",
    "        predicted = subject_dictionary['result']>= threshold\n",
    "        # if we want tpr vs fpr curve too\n",
    "        # tp,fp,fn, tn = tp_fp_fn_tn(predicted, subject_dictionary['input_labels'])\n",
    "        #store sensitivity and sensitivity_plus for each patient (has a label)\n",
    "        if subject_dictionary['input_labels'].sum()>0:\n",
    "            roc_dictionary['sensitivity'][t_i] += np.logical_and(predicted, subject_dictionary['input_labels']).any()\n",
    "            roc_dictionary['sensitivity_plus'][t_i] += np.logical_and(predicted, subject_dictionary['borderzone']).any()\n",
    "        #store specificity for controls (no label)\n",
    "        else:\n",
    "            roc_dictionary['specificity'][t_i] += ~predicted.any()"
   ]
  },
  {
   "cell_type": "code",
   "execution_count": 8,
   "metadata": {},
   "outputs": [
    {
     "name": "stdout",
     "output_type": "stream",
     "text": [
      "full_model_fold0\n",
      "0\n",
      "100\n",
      "200\n",
      "300\n",
      "400\n",
      "+finetunning_fold0\n",
      "0\n",
      "100\n",
      "200\n",
      "300\n",
      "400\n",
      "+distance_fold0\n",
      "0\n",
      "100\n",
      "200\n",
      "300\n",
      "400\n",
      "+classification_fold0\n",
      "0\n",
      "100\n",
      "200\n",
      "300\n",
      "400\n",
      "+large_augmentation_fold0\n",
      "0\n",
      "100\n",
      "200\n",
      "300\n",
      "400\n",
      "+mask_augmentation_fold0\n",
      "0\n",
      "100\n",
      "200\n",
      "300\n",
      "400\n",
      "nnunet_fold0\n",
      "0\n",
      "100\n",
      "200\n",
      "300\n",
      "400\n",
      "full_model_fold1\n",
      "0\n",
      "100\n",
      "200\n",
      "300\n",
      "400\n",
      "+finetunning_fold1\n",
      "0\n",
      "100\n",
      "200\n",
      "300\n",
      "400\n",
      "+distance_fold1\n",
      "0\n",
      "100\n",
      "200\n",
      "300\n",
      "400\n",
      "+classification_fold1\n",
      "0\n",
      "100\n",
      "200\n",
      "300\n",
      "400\n",
      "+large_augmentation_fold1\n",
      "0\n",
      "100\n",
      "200\n",
      "300\n",
      "400\n",
      "+mask_augmentation_fold1\n",
      "0\n",
      "100\n",
      "200\n",
      "300\n",
      "400\n",
      "nnunet_fold1\n",
      "0\n",
      "100\n",
      "200\n",
      "300\n",
      "400\n",
      "full_model_fold2\n",
      "0\n",
      "100\n",
      "200\n",
      "300\n",
      "400\n",
      "+finetunning_fold2\n",
      "0\n",
      "100\n",
      "200\n",
      "300\n",
      "400\n",
      "+distance_fold2\n",
      "0\n",
      "100\n",
      "200\n",
      "300\n",
      "400\n",
      "+classification_fold2\n",
      "0\n",
      "100\n",
      "200\n",
      "300\n",
      "400\n",
      "+large_augmentation_fold2\n",
      "0\n",
      "100\n",
      "200\n",
      "300\n",
      "400\n",
      "+mask_augmentation_fold2\n",
      "0\n",
      "100\n",
      "200\n",
      "300\n",
      "400\n",
      "nnunet_fold2\n",
      "0\n",
      "100\n",
      "200\n",
      "300\n",
      "400\n",
      "full_model_fold3\n",
      "0\n",
      "100\n",
      "200\n",
      "300\n",
      "400\n",
      "+finetunning_fold3\n",
      "0\n",
      "100\n",
      "200\n",
      "300\n",
      "400\n",
      "+distance_fold3\n",
      "0\n",
      "100\n",
      "200\n",
      "300\n",
      "400\n",
      "+classification_fold3\n",
      "0\n",
      "100\n",
      "200\n",
      "300\n",
      "400\n",
      "+large_augmentation_fold3\n",
      "0\n",
      "100\n",
      "200\n",
      "300\n",
      "400\n",
      "+mask_augmentation_fold3\n",
      "0\n",
      "100\n",
      "200\n",
      "300\n",
      "400\n",
      "nnunet_fold3\n",
      "0\n",
      "100\n",
      "200\n",
      "300\n",
      "400\n",
      "full_model_fold4\n",
      "0\n",
      "100\n",
      "200\n",
      "300\n",
      "400\n",
      "+finetunning_fold4\n",
      "0\n",
      "100\n",
      "200\n",
      "300\n",
      "400\n",
      "+distance_fold4\n",
      "0\n",
      "100\n",
      "200\n",
      "300\n",
      "400\n",
      "+classification_fold4\n",
      "0\n",
      "100\n",
      "200\n",
      "300\n",
      "400\n",
      "+large_augmentation_fold4\n",
      "0\n",
      "100\n",
      "200\n",
      "300\n",
      "400\n",
      "+mask_augmentation_fold4\n",
      "0\n",
      "100\n",
      "200\n",
      "300\n",
      "400\n",
      "nnunet_fold4\n",
      "0\n",
      "100\n",
      "200\n",
      "300\n",
      "400\n"
     ]
    }
   ],
   "source": [
    "#number of tresholds to evaluate ROC curve, between 0 & 1.\n",
    "n_thresh=101\n",
    "roc_curves_thresholds=np.linspace(0,1,n_thresh)\n",
    "roc_dictionary_base={'sensitivity':np.zeros(n_thresh),\n",
    "'sensitivity_plus':np.zeros(n_thresh),\n",
    "'specificity':np.ones(n_thresh)}\n",
    "roc_dictionary={}\n",
    "for model_name in save_dirs.keys():\n",
    "    print(model_name)\n",
    "    roc_dictionary[model_name]={'sensitivity':np.zeros(n_thresh),\n",
    "'sensitivity_plus':np.zeros(n_thresh),\n",
    "'specificity':np.ones(n_thresh)}\n",
    "\n",
    "\n",
    "\n",
    "    for si,subj in enumerate(subjects):\n",
    "        if si%100==0:\n",
    "            print(si)\n",
    "        s = MeldSubject(subj,cohort=cohort)\n",
    "        labels_hemis = {}\n",
    "        dists={}\n",
    "        subject_results = np.zeros(n_vert)\n",
    "        labels = np.zeros(n_vert)\n",
    "        for hemi in ['lh','rh']:\n",
    "            dists[hemi], labels_hemis[hemi] = s.load_feature_lesion_data(\n",
    "                        features=['.on_lh.boundary_zone.mgh'], hemi=hemi, features_to_ignore=[]\n",
    "                    )\n",
    "            if np.sum(dists[hemi])==0:\n",
    "                dists[hemi] +=200\n",
    "        labels = np.hstack([labels_hemis['lh'][cohort.cortex_mask],labels_hemis['rh'][cohort.cortex_mask]])\n",
    "        borderzones = np.vstack([dists['lh'][cohort.cortex_mask,:],dists['rh'][cohort.cortex_mask,:]]).ravel()<20\n",
    "        save_dir = save_dirs[model_name]\n",
    "        pred_file = os.path.join(save_dir, 'predictions.hdf5')\n",
    "        result_hemis = load_prediction(subj,pred_file, dset='prediction')\n",
    "        subject_results = np.hstack([result_hemis['lh'],result_hemis['rh']])\n",
    "        subject_dictionary={'input_labels':labels,'borderzone':borderzones,'result':subject_results}\n",
    "        roc_curves(subject_dictionary,roc_dictionary[model_name],roc_curves_thresholds)\n",
    "    "
   ]
  },
  {
   "cell_type": "code",
   "execution_count": 9,
   "metadata": {},
   "outputs": [],
   "source": [
    "def optimal_threshold(b,roc_curves_thresholds):\n",
    "    sensitivity_curve = b['sensitivity_plus']/max(b['sensitivity_plus'])\n",
    "    specificity_curve = b['specificity']/max(b['specificity'])\n",
    "    youden = sensitivity_curve + specificity_curve\n",
    "    optimal_thresh = np.max(np.where(youden==np.max(youden)))\n",
    "    return sensitivity_curve,specificity_curve,optimal_thresh"
   ]
  },
  {
   "cell_type": "code",
   "execution_count": 10,
   "metadata": {},
   "outputs": [],
   "source": [
    "import sklearn.metrics as metrics\n",
    "\n",
    "def return_auc(roc_dictionary,roc_curves_thresholds):\n",
    "    aucs={}\n",
    "    for mi,model in enumerate(roc_dictionary.keys()):\n",
    "        sensitivity_curve,specificity_curve,optimal_thresh= optimal_threshold(roc_dictionary[model],\n",
    "        roc_curves_thresholds=roc_curves_thresholds)\n",
    "        aucs[model] = metrics.auc(1-specificity_curve,sensitivity_curve)\n",
    "    return aucs"
   ]
  },
  {
   "cell_type": "code",
   "execution_count": 11,
   "metadata": {},
   "outputs": [],
   "source": [
    "## save aucs on test data\n",
    "aucs_test = return_auc(roc_dictionary,roc_curves_thresholds)"
   ]
  },
  {
   "attachments": {},
   "cell_type": "markdown",
   "metadata": {},
   "source": [
    "#### load AUC on val dataset "
   ]
  },
  {
   "cell_type": "code",
   "execution_count": 12,
   "metadata": {},
   "outputs": [],
   "source": [
    "# load aucs on val data\n",
    "import pickle\n",
    "\n",
    "aucs_val = {}\n",
    "labels= [] \n",
    "for model in save_dirs.keys():\n",
    "    \n",
    "    for fold in np.arange(5):\n",
    "        fname = os.path.join(save_dirs[model],'roc_auc.pickle')\n",
    "        with open(fname, 'rb') as handle:\n",
    "            b = pickle.load(handle)\n",
    "        # optimal_threshold(b)  \n",
    "        aucs_val[model] = b['auc_plus']\n"
   ]
  },
  {
   "attachments": {},
   "cell_type": "markdown",
   "metadata": {},
   "source": [
    "#### correlate AUCS from val and test datasets"
   ]
  },
  {
   "cell_type": "code",
   "execution_count": 37,
   "metadata": {},
   "outputs": [
    {
     "data": {
      "text/plain": [
       "Text(0.5, 1.0, 'correlation R=0.4469159585658159')"
      ]
     },
     "execution_count": 37,
     "metadata": {},
     "output_type": "execute_result"
    },
    {
     "data": {
      "image/png": "[encoded data removed]",
      "text/plain": [
       "<Figure size 432x288 with 1 Axes>"
      ]
     },
     "metadata": {
      "needs_background": "light"
     },
     "output_type": "display_data"
    }
   ],
   "source": [
    "## correlate values\n",
    "def assign_color_marker(model_name):\n",
    "    if '0' in model_name:\n",
    "        m=\"o\"\n",
    "    elif '1' in model_name:\n",
    "        m=\"v\"\n",
    "    elif '2' in model_name:\n",
    "        m=\"1\"\n",
    "    elif '3' in model_name:\n",
    "        m=\"P\"\n",
    "    elif '4' in model_name:\n",
    "        m=\"*\"\n",
    "    else:\n",
    "        pass\n",
    "    if 'full_model' in model:\n",
    "        c='green'\n",
    "    elif '+finetunning' in model:\n",
    "        c='red'\n",
    "    elif '+distance' in model:\n",
    "        c='blue'\n",
    "    elif '+classification' in model:\n",
    "        c='violet'\n",
    "    elif '+large_augmentation' in model:\n",
    "        c='grey'\n",
    "    elif '+mask_augmentation' in model:\n",
    "        c='cyan'\n",
    "    elif 'nnunet' in model:\n",
    "        c='orange'\n",
    "    else:\n",
    "        pass\n",
    "    return c, m\n",
    "\n",
    "aucs_val_array=[]\n",
    "aucs_test_array=[]\n",
    "markers = []\n",
    "colors=[]\n",
    "models_name=[]\n",
    "for model in save_dirs.keys():\n",
    "    models_name.append(model)\n",
    "    aucs_val_array.append(aucs_val[model])\n",
    "    aucs_test_array.append(aucs_test[model])\n",
    "    c,m= assign_color_marker(model)\n",
    "    markers.append(m)\n",
    "    colors.append(c)\n",
    "\n",
    "cor = np.corrcoef(aucs_val_array, aucs_test_array)[0,1]\n",
    "\n",
    "aucs_val_array=np.array(aucs_val_array)\n",
    "aucs_test_array=np.array(aucs_test_array)\n",
    "colors=np.array(colors)\n",
    "markers=np.array(markers)\n",
    "for f in np.arange(5):\n",
    "    mask_fold = np.array([True if f'fold{f}' in model_name else False for model_name in models_name]).astype(bool)\n",
    "    plt.scatter(aucs_val_array[mask_fold], aucs_test_array[mask_fold], c=colors[mask_fold], marker=markers[mask_fold][0], label=f'fold {f}')\n",
    "plt.legend()\n",
    "plt.title(f'correlation R={cor}')\n",
    "\n"
   ]
  },
  {
   "cell_type": "code",
   "execution_count": 33,
   "metadata": {},
   "outputs": [
    {
     "ename": "TypeError",
     "evalue": "only integer scalar arrays can be converted to a scalar index",
     "output_type": "error",
     "traceback": [
      "\u001b[0;31m---------------------------------------------------------------------------\u001b[0m",
      "\u001b[0;31mTypeError\u001b[0m                                 Traceback (most recent call last)",
      "\u001b[1;32m/rds/user/co-ripa1/hpc-work/scripts/meld_classifier_GDL/notebooks/correlate_auc_val_test.ipynb Cell 18\u001b[0m in \u001b[0;36m<module>\u001b[0;34m\u001b[0m\n\u001b[0;32m----> <a href='vscode-notebook-cell://ssh-remote%2Blogin-e-16.hpc.cam.ac.uk/rds/user/co-ripa1/hpc-work/scripts/meld_classifier_GDL/notebooks/correlate_auc_val_test.ipynb#X31sdnNjb2RlLXJlbW90ZQ%3D%3D?line=0'>1</a>\u001b[0m aucs_val_array[mask_fold]\n",
      "\u001b[0;31mTypeError\u001b[0m: only integer scalar arrays can be converted to a scalar index"
     ]
    }
   ],
   "source": [
    "aucs_val_array[mask_fold]"
   ]
  },
  {
   "cell_type": "code",
   "execution_count": 34,
   "metadata": {},
   "outputs": [
    {
     "data": {
      "text/plain": [
       "[0.8032309322033898,\n",
       " 0.727489406779661,\n",
       " 0.7245762711864407,\n",
       " 0.7441737288135593,\n",
       " 0.7015360169491525,\n",
       " 0.715042372881356,\n",
       " 0.6800847457627118,\n",
       " 0.7426470588235294,\n",
       " 0.64828431372549,\n",
       " 0.765686274509804,\n",
       " 0.7541666666666668,\n",
       " 0.7524509803921569,\n",
       " 0.7198529411764705,\n",
       " 0.7053921568627449,\n",
       " 0.6776942355889726,\n",
       " 0.568922305764411,\n",
       " 0.706516290726817,\n",
       " 0.713032581453634,\n",
       " 0.605764411027569,\n",
       " 0.6182957393483709,\n",
       " 0.6583959899749373,\n",
       " 0.721236559139785,\n",
       " 0.6618279569892472,\n",
       " 0.7440860215053763,\n",
       " 0.7215053763440861,\n",
       " 0.6268817204301075,\n",
       " 0.6696236559139785,\n",
       " 0.6653225806451614,\n",
       " 0.6805885144755576,\n",
       " 0.536782154722354,\n",
       " 0.673469387755102,\n",
       " 0.6841480778357856,\n",
       " 0.6575700047460844,\n",
       " 0.6568580920740389,\n",
       " 0.6260085429520647]"
      ]
     },
     "execution_count": 34,
     "metadata": {},
     "output_type": "execute_result"
    }
   ],
   "source": [
    "aucs_val_array"
   ]
  },
  {
   "cell_type": "code",
   "execution_count": 32,
   "metadata": {},
   "outputs": [
    {
     "data": {
      "text/plain": [
       "array([ True,  True,  True,  True,  True,  True,  True, False, False,\n",
       "       False, False, False, False, False, False, False, False, False,\n",
       "       False, False, False, False, False, False, False, False, False,\n",
       "       False, False, False, False, False, False, False, False])"
      ]
     },
     "execution_count": 32,
     "metadata": {},
     "output_type": "execute_result"
    }
   ],
   "source": [
    "mask_fold"
   ]
  },
  {
   "cell_type": "code",
   "execution_count": 27,
   "metadata": {},
   "outputs": [
    {
     "data": {
      "text/plain": [
       "False"
      ]
     },
     "execution_count": 27,
     "metadata": {},
     "output_type": "execute_result"
    }
   ],
   "source": []
  },
  {
   "cell_type": "code",
   "execution_count": 28,
   "metadata": {},
   "outputs": [
    {
     "data": {
      "text/plain": [
       "['full_model_fold0',\n",
       " '+finetunning_fold0',\n",
       " '+distance_fold0',\n",
       " '+classification_fold0',\n",
       " '+large_augmentation_fold0',\n",
       " '+mask_augmentation_fold0',\n",
       " 'nnunet_fold0',\n",
       " 'full_model_fold1',\n",
       " '+finetunning_fold1',\n",
       " '+distance_fold1',\n",
       " '+classification_fold1',\n",
       " '+large_augmentation_fold1',\n",
       " '+mask_augmentation_fold1',\n",
       " 'nnunet_fold1',\n",
       " 'full_model_fold2',\n",
       " '+finetunning_fold2',\n",
       " '+distance_fold2',\n",
       " '+classification_fold2',\n",
       " '+large_augmentation_fold2',\n",
       " '+mask_augmentation_fold2',\n",
       " 'nnunet_fold2',\n",
       " 'full_model_fold3',\n",
       " '+finetunning_fold3',\n",
       " '+distance_fold3',\n",
       " '+classification_fold3',\n",
       " '+large_augmentation_fold3',\n",
       " '+mask_augmentation_fold3',\n",
       " 'nnunet_fold3',\n",
       " 'full_model_fold4',\n",
       " '+finetunning_fold4',\n",
       " '+distance_fold4',\n",
       " '+classification_fold4',\n",
       " '+large_augmentation_fold4',\n",
       " '+mask_augmentation_fold4',\n",
       " 'nnunet_fold4']"
      ]
     },
     "execution_count": 28,
     "metadata": {},
     "output_type": "execute_result"
    }
   ],
   "source": [
    "models_name"
   ]
  },
  {
   "cell_type": "code",
   "execution_count": 35,
   "metadata": {},
   "outputs": [
    {
     "data": {
      "text/plain": [
       "[0.8032309322033898,\n",
       " 0.727489406779661,\n",
       " 0.7245762711864407,\n",
       " 0.7441737288135593,\n",
       " 0.7015360169491525,\n",
       " 0.715042372881356,\n",
       " 0.6800847457627118,\n",
       " 0.7426470588235294,\n",
       " 0.64828431372549,\n",
       " 0.765686274509804,\n",
       " 0.7541666666666668,\n",
       " 0.7524509803921569,\n",
       " 0.7198529411764705,\n",
       " 0.7053921568627449,\n",
       " 0.6776942355889726,\n",
       " 0.568922305764411,\n",
       " 0.706516290726817,\n",
       " 0.713032581453634,\n",
       " 0.605764411027569,\n",
       " 0.6182957393483709,\n",
       " 0.6583959899749373,\n",
       " 0.721236559139785,\n",
       " 0.6618279569892472,\n",
       " 0.7440860215053763,\n",
       " 0.7215053763440861,\n",
       " 0.6268817204301075,\n",
       " 0.6696236559139785,\n",
       " 0.6653225806451614,\n",
       " 0.6805885144755576,\n",
       " 0.536782154722354,\n",
       " 0.673469387755102,\n",
       " 0.6841480778357856,\n",
       " 0.6575700047460844,\n",
       " 0.6568580920740389,\n",
       " 0.6260085429520647]"
      ]
     },
     "execution_count": 35,
     "metadata": {},
     "output_type": "execute_result"
    }
   ],
   "source": [
    "aucs_val_array"
   ]
  },
  {
   "cell_type": "code",
   "execution_count": 31,
   "metadata": {},
   "outputs": [
    {
     "data": {
      "text/plain": [
       "'/rds/project/kw350/rds-kw350-meld/experiments_graph/kw350/23-02-22_DHAM_nnunet/s_0/fold_04/results'"
      ]
     },
     "execution_count": 31,
     "metadata": {},
     "output_type": "execute_result"
    }
   ],
   "source": [
    "save_dir"
   ]
  }
 ],
 "metadata": {
  "kernelspec": {
   "display_name": "meld_graph",
   "language": "python",
   "name": "python3"
  },
  "language_info": {
   "codemirror_mode": {
    "name": "ipython",
    "version": 3
   },
   "file_extension": ".py",
   "mimetype": "text/x-python",
   "name": "python",
   "nbconvert_exporter": "python",
   "pygments_lexer": "ipython3",
   "version": "3.9.10"
  },
  "orig_nbformat": 4,
  "vscode": {
   "interpreter": {
    "hash": "c0176ae289e59992559f0c449061dac3c0e6a1074598f8b14680b865216cf195"
   }
  }
 },
 "nbformat": 4,
 "nbformat_minor": 2
}
