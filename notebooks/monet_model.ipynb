{
 "cells": [
  {
   "cell_type": "markdown",
   "metadata": {},
   "source": [
    "install pytorch-geometric\n",
    "on mac: using pip wheel installation instructions, with python 3.9 and pytorch via conda (https://pytorch-geometric.readthedocs.io/en/latest/notes/installation.html)\n",
    "\n",
    "loading data: \n",
    "ultimately: build on-disk dataset w/ pytorch \n",
    "atm: build dataset on the fly with synthetic dataset + data loader"
   ]
  },
  {
   "cell_type": "code",
   "execution_count": 1,
   "metadata": {},
   "outputs": [],
   "source": [
    "import numpy as np\n",
    "# coords used in segmentation paper (polar is 2d, how?)\n",
    "#relative_polar = np.load('/Users/hannah.spitzer/projects/MELD/Benchmarking-Surface-DL/Segmentation_UGSCNN/GraphMethods/data/relative_coords_polar_3.npy')\n",
    "#relative_coord = np.load('/Users/hannah.spitzer/projects/MELD/Benchmarking-Surface-DL/Segmentation_UGSCNN/GraphMethods/data/relative_coords_3.npy')\n",
    "#edge_index_seg = np.load('/Users/hannah.spitzer/projects/MELD/Benchmarking-Surface-DL/Segmentation_UGSCNN/GraphMethods/data/edge_index_3.npy')"
   ]
  },
  {
   "cell_type": "code",
   "execution_count": 2,
   "metadata": {},
   "outputs": [
    {
     "name": "stdout",
     "output_type": "stream",
     "text": [
      "Setting MELD_DATA_PATH to /home/co-spit1/meld_data\n",
      "Setting BASE_PATH to /home/co-spit1/meld_data\n",
      "Setting EXPERIMENT_PATH to /home/co-spit1/meld_experiments\n",
      "Setting FS_SUBJECTS_PATH to /home/co-spit1/meld_data/output/fs_outputs\n",
      "Setting EXPERIMENT_PATH to /rds/project/kw350/rds-kw350-meld/experiments_graph/co-spit1\n"
     ]
    }
   ],
   "source": [
    "import importlib\n",
    "import meld_graph\n",
    "import meld_graph.models\n",
    "import meld_graph.experiment\n",
    "import meld_graph.dataset\n",
    "importlib.reload(meld_graph)\n",
    "importlib.reload(meld_graph.models)\n",
    "importlib.reload(meld_graph.dataset)\n",
    "importlib.reload(meld_graph.experiment)\n",
    "\n",
    "import logging\n",
    "logging.basicConfig(level=logging.INFO)"
   ]
  },
  {
   "cell_type": "code",
   "execution_count": 3,
   "metadata": {},
   "outputs": [],
   "source": [
    "network_parameters = {\n",
    "    'network_type': 'MoNet',\n",
    "    'model_parameters': {\n",
    "        'layer_sizes': [16,10],\n",
    "        'dim': 2, # pseudo-coord dim\n",
    "    },\n",
    "    'training_parameters': {\n",
    "        \"max_patience\": 10,\n",
    "        \"num_epochs\": 100,\n",
    "        'lr': 1e-4,\n",
    "        'loss': 'cross_entropy',\n",
    "        \"batch_size\": 1,\n",
    "        \"shuffle_each_epoch\": True,\n",
    "    }\n",
    "}\n",
    "\n",
    "data_parameters = {\n",
    "    'hdf5_file_root': \"{site_code}_{group}_featurematrix.hdf5\",\n",
    "    'site_codes': ['H4'],\n",
    "    'scanners': ['15T', '3T'],\n",
    "    'dataset': 'MELD_dataset_V6.csv',\n",
    "    'group': 'both',\n",
    "    \"features_to_exclude\": [],\n",
    "    \"subject_features_to_exclude\": [],\n",
    "    \"features\": ['.on_lh.curv.mgh',\n",
    "        '.on_lh.gm_FLAIR_0.25.mgh',\n",
    "        '.on_lh.gm_FLAIR_0.5.mgh',\n",
    "        '.on_lh.gm_FLAIR_0.75.mgh',\n",
    "        '.on_lh.gm_FLAIR_0.mgh',\n",
    "        '.on_lh.pial.K_filtered.sm20.mgh',\n",
    "        '.on_lh.sulc.mgh',\n",
    "        '.on_lh.thickness.mgh',\n",
    "        '.on_lh.w-g.pct.mgh',\n",
    "        '.on_lh.wm_FLAIR_0.5.mgh',\n",
    "        '.on_lh.wm_FLAIR_1.mgh'],\n",
    "    \"features_to_replace_with_0\": [], # specify this if manually specifying features\n",
    "    \"number_of_folds\": 10,\n",
    "    \"fold_n\": 0,\n",
    "    \"preprocessing_parameters\": {\n",
    "        \"scaling\": \"scaling_params_GDL.json\"\n",
    "    },\n",
    "    \"combine_hemis\": \"stack\",  # \"currently just stack is implemented\"\n",
    "}\n",
    "\n"
   ]
  },
  {
   "cell_type": "code",
   "execution_count": 4,
   "metadata": {},
   "outputs": [
    {
     "name": "stderr",
     "output_type": "stream",
     "text": [
      "INFO:meld_graph.experiment:getting train val test split\n",
      "INFO:meld_classifier.meld_cohort:total number of subjects: 88\n",
      "INFO:meld_classifier.meld_cohort:total number of subjects after restricting to subjects from MELD_dataset_V6.csv: 86\n",
      "INFO:meld_classifier.meld_cohort:total number of subjects: 1158\n",
      "INFO:meld_classifier.meld_cohort:total number of subjects after restricting to subjects from MELD_dataset_V6.csv: 945\n",
      "INFO:meld_classifier.meld_cohort:total number after filtering by scanner ['3T', '15T'], features, lesional_only True: 911\n",
      "INFO:meld_classifier.meld_cohort:full_feature_list: ['.inter_z.asym.on_lh.curv.mgh', '.inter_z.asym.on_lh.intra_z.gm_FLAIR_0.25.sm10.mgh', '.inter_z.asym.on_lh.intra_z.gm_FLAIR_0.5.sm10.mgh', '.inter_z.asym.on_lh.intra_z.gm_FLAIR_0.75.sm10.mgh', '.inter_z.asym.on_lh.intra_z.gm_FLAIR_0.sm10.mgh', '.inter_z.asym.on_lh.intra_z.pial.K_filtered.sm20.mgh', '.inter_z.asym.on_lh.intra_z.thickness.sm10.mgh', '.inter_z.asym.on_lh.intra_z.w-g.pct.sm10.mgh', '.inter_z.asym.on_lh.intra_z.wm_FLAIR_0.5.sm10.mgh', '.inter_z.asym.on_lh.intra_z.wm_FLAIR_1.sm10.mgh', '.inter_z.asym.on_lh.sulc.mgh', '.inter_z.on_lh.curv.mgh', '.inter_z.on_lh.intra_z.gm_FLAIR_0.25.sm10.mgh', '.inter_z.on_lh.intra_z.gm_FLAIR_0.5.sm10.mgh', '.inter_z.on_lh.intra_z.gm_FLAIR_0.75.sm10.mgh', '.inter_z.on_lh.intra_z.gm_FLAIR_0.sm10.mgh', '.inter_z.on_lh.intra_z.pial.K_filtered.sm20.mgh', '.inter_z.on_lh.intra_z.thickness.sm10.mgh', '.inter_z.on_lh.intra_z.w-g.pct.sm10.mgh', '.inter_z.on_lh.intra_z.wm_FLAIR_0.5.sm10.mgh', '.inter_z.on_lh.intra_z.wm_FLAIR_1.sm10.mgh', '.inter_z.on_lh.sulc.mgh', '.on_lh.curv.mgh', '.on_lh.gm_FLAIR_0.25.mgh', '.on_lh.gm_FLAIR_0.5.mgh', '.on_lh.gm_FLAIR_0.75.mgh', '.on_lh.gm_FLAIR_0.mgh', '.on_lh.pial.K_filtered.sm20.mgh', '.on_lh.sulc.mgh', '.on_lh.thickness.mgh', '.on_lh.w-g.pct.mgh', '.on_lh.wm_FLAIR_0.5.mgh', '.on_lh.wm_FLAIR_1.mgh']\n",
      "INFO:meld_classifier.meld_cohort:total number after filtering by scanner ['15T', '3T'], features, lesional_only True: 86\n",
      "/home/co-spit1/.conda/envs/meld_graph/lib/python3.9/site-packages/numpy/core/numeric.py:1211: VisibleDeprecationWarning: Creating an ndarray from ragged nested sequences (which is a list-or-tuple of lists-or-tuples-or ndarrays with different lengths or shapes) is deprecated. If you meant to do this, you must specify 'dtype=object' when creating the ndarray.\n",
      "  a = asanyarray(a)\n",
      "INFO:meld_graph.experiment:experiment_path is None, could not save parameters\n",
      "INFO:meld_classifier.meld_cohort:total number of subjects: 1158\n",
      "INFO:meld_classifier.meld_cohort:total number of subjects after restricting to subjects from MELD_dataset_V6.csv: 945\n",
      "INFO:meld_classifier.meld_cohort:total number after filtering by scanner ['3T', '15T'], features, lesional_only False: 945\n",
      "INFO:meld_graph.dataset:Loading and preprocessing data\n",
      "INFO:meld_graph.data_preprocessing:Scale data using file /home/co-spit1/meld_data/scaling_params_GDL.json\n",
      "INFO:meld_graph.data_preprocessing:Scale data using file /home/co-spit1/meld_data/scaling_params_GDL.json\n"
     ]
    }
   ],
   "source": [
    "exp = meld_graph.experiment.Experiment(network_parameters, data_parameters, save=False)\n",
    "_ = exp.get_train_val_test_ids()\n",
    "exp.data_parameters['train_ids'] = exp.data_parameters['train_ids'][:2]\n",
    "exp.data_parameters['val_ids'] = exp.data_parameters['val_ids'][:2]\n",
    "ds = meld_graph.dataset.GraphDataset.from_experiment(exp, mode='train')"
   ]
  },
  {
   "cell_type": "code",
   "execution_count": null,
   "metadata": {},
   "outputs": [
    {
     "name": "stderr",
     "output_type": "stream",
     "text": [
      "/home/co-spit1/.conda/envs/meld_graph/lib/python3.9/site-packages/torch/cuda/__init__.py:143: UserWarning: \n",
      "NVIDIA A100-SXM-80GB with CUDA capability sm_80 is not compatible with the current PyTorch installation.\n",
      "The current PyTorch install supports CUDA capabilities sm_37 sm_50 sm_60 sm_61 sm_70 sm_75 compute_37.\n",
      "If you want to use the NVIDIA A100-SXM-80GB GPU with PyTorch, please check the instructions at https://pytorch.org/get-started/locally/\n",
      "\n",
      "  warnings.warn(incompatible_device_warn.format(device_name, capability, \" \".join(arch_list), device_name))\n"
     ]
    }
   ],
   "source": [
    "exp.train()"
   ]
  },
  {
   "cell_type": "code",
   "execution_count": 11,
   "metadata": {},
   "outputs": [
    {
     "name": "stdout",
     "output_type": "stream",
     "text": [
      "\u001b[0;31mInit signature:\u001b[0m\n",
      "\u001b[0mMeldCohort\u001b[0m\u001b[0;34m(\u001b[0m\u001b[0;34m\u001b[0m\n",
      "\u001b[0;34m\u001b[0m    \u001b[0mhdf5_file_root\u001b[0m\u001b[0;34m=\u001b[0m\u001b[0;34m'{site_code}_{group}_featurematrix_combat.hdf5'\u001b[0m\u001b[0;34m,\u001b[0m\u001b[0;34m\u001b[0m\n",
      "\u001b[0;34m\u001b[0m    \u001b[0mdataset\u001b[0m\u001b[0;34m=\u001b[0m\u001b[0;32mNone\u001b[0m\u001b[0;34m,\u001b[0m\u001b[0;34m\u001b[0m\n",
      "\u001b[0;34m\u001b[0m    \u001b[0mdata_dir\u001b[0m\u001b[0;34m=\u001b[0m\u001b[0;34m''\u001b[0m\u001b[0;34m,\u001b[0m\u001b[0;34m\u001b[0m\n",
      "\u001b[0;34m\u001b[0m\u001b[0;34m)\u001b[0m\u001b[0;34m\u001b[0m\u001b[0;34m\u001b[0m\u001b[0m\n",
      "\u001b[0;31mDocstring:\u001b[0m      Class to define cohort-level parameters such as subject ids, mesh\n",
      "\u001b[0;31mFile:\u001b[0m           ~/projects/MELD/meld_classifier/meld_classifier/meld_cohort.py\n",
      "\u001b[0;31mType:\u001b[0m           type\n",
      "\u001b[0;31mSubclasses:\u001b[0m     \n"
     ]
    }
   ],
   "source": [
    "from meld_classifier.meld_cohort import MeldCohort\n",
    "\n",
    "cohort = MeldCohort(hdf5_file_root='{site_code}_{group}_featurematrix_combat6.hdf5', )"
   ]
  },
  {
   "cell_type": "code",
   "execution_count": null,
   "metadata": {},
   "outputs": [],
   "source": []
  }
 ],
 "metadata": {
  "interpreter": {
   "hash": "e336a35d61f60f865ab0873d0d0cc82dcfe64a783bf2c2b281a1493d54951c12"
  },
  "kernelspec": {
   "display_name": "Python 3 (ipykernel)",
   "language": "python",
   "name": "python3"
  },
  "language_info": {
   "codemirror_mode": {
    "name": "ipython",
    "version": 3
   },
   "file_extension": ".py",
   "mimetype": "text/x-python",
   "name": "python",
   "nbconvert_exporter": "python",
   "pygments_lexer": "ipython3",
   "version": "3.9.7"
  }
 },
 "nbformat": 4,
 "nbformat_minor": 2
}
