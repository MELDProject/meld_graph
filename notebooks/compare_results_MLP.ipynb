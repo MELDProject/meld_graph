{
 "cells": [
  {
   "cell_type": "markdown",
   "metadata": {},
   "source": [
    "### Compare final results with MLP"
   ]
  },
  {
   "cell_type": "code",
   "execution_count": 1,
   "metadata": {},
   "outputs": [
    {
     "name": "stdout",
     "output_type": "stream",
     "text": [
      "Setting MELD_DATA_PATH to /rds/project/kw350/rds-kw350-meld/meld_data/Data\n",
      "Setting BASE_PATH to /rds/project/kw350/rds-kw350-meld/meld_data/Data\n",
      "Setting EXPERIMENT_PATH to /rds/project/kw350/rds-kw350-meld/experiments/co-ripa1/\n",
      "Setting FS_SUBJECTS_PATH to \n",
      "Setting EXPERIMENT_PATH to /rds/project/kw350/rds-kw350-meld/experiments_graph/kw350\n"
     ]
    }
   ],
   "source": [
    "#imports\n",
    "import os\n",
    "import numpy as np\n",
    "import h5py\n",
    "import matplotlib.pyplot as plt\n",
    "import seaborn as sns\n",
    "from meld_graph.training import tp_fp_fn_tn, dice_coeff\n",
    "from meld_classifier.meld_cohort import MeldSubject,MeldCohort\n",
    "from meld_graph.icospheres import IcoSpheres\n",
    "from meld_graph.graph_tools import GraphTools\n",
    "import itertools\n",
    "import pandas as pd\n",
    "from meld_graph.evaluation import load_prediction\n",
    "from meld_graph import experiment"
   ]
  },
  {
   "cell_type": "markdown",
   "metadata": {},
   "source": [
    "### load per-vertex results"
   ]
  },
  {
   "cell_type": "code",
   "execution_count": 7,
   "metadata": {},
   "outputs": [
    {
     "name": "stdout",
     "output_type": "stream",
     "text": [
      "51\n"
     ]
    }
   ],
   "source": [
    "# On test dataset\n",
    "# ref = '/rds/project/kw350/rds-kw350-meld/experiments/co-ripa1/iteration_21-09-15/ensemble_21-09-15/fold_all/results'\n",
    "\n",
    "# with h5py.File(os.path.join(ref, 'predictions_ensemble_iteration.hdf5'), \"r\") as f:\n",
    "#     subjects = list(f.keys())\n",
    "# subjects.remove('MELD_H4_3T_FCD_0011') # because does not exist in graph model\n",
    "# cohort = MeldCohort(hdf5_file_root='{site_code}_{group}_featurematrix_combat_6.hdf5',\n",
    "#                dataset='MELD_dataset_V6.csv')\n",
    "# print(len(subjects))\n",
    "\n",
    "\n",
    "# On wittheld sites\n",
    "ref = '/rds/project/kw350/rds-kw350-meld/experiments/co-ripa1/predict_NewSiteH27H28_21-09-20/fold_all/results'\n",
    "\n",
    "with h5py.File(os.path.join(ref, 'predictions_ensemble_iteration.hdf5'), \"r\") as f:\n",
    "    subjects = list(f.keys())\n",
    "cohort= MeldCohort(hdf5_file_root='{site_code}_{group}_featurematrix_combat_NewSite.hdf5', dataset='MELD_dataset_NewSiteH27H28.csv')\n",
    "print(len(subjects))"
   ]
  },
  {
   "cell_type": "code",
   "execution_count": 8,
   "metadata": {},
   "outputs": [
    {
     "name": "stdout",
     "output_type": "stream",
     "text": [
      "0\n"
     ]
    },
    {
     "data": {
      "text/html": [
       "<div>\n",
       "<style scoped>\n",
       "    .dataframe tbody tr th:only-of-type {\n",
       "        vertical-align: middle;\n",
       "    }\n",
       "\n",
       "    .dataframe tbody tr th {\n",
       "        vertical-align: top;\n",
       "    }\n",
       "\n",
       "    .dataframe thead th {\n",
       "        text-align: right;\n",
       "    }\n",
       "</style>\n",
       "<table border=\"1\" class=\"dataframe\">\n",
       "  <thead>\n",
       "    <tr style=\"text-align: right;\">\n",
       "      <th></th>\n",
       "      <th>index</th>\n",
       "      <th>ID</th>\n",
       "      <th>group</th>\n",
       "      <th>model</th>\n",
       "      <th>number TP clusters</th>\n",
       "      <th>number FP clusters</th>\n",
       "      <th>detected</th>\n",
       "    </tr>\n",
       "  </thead>\n",
       "  <tbody>\n",
       "    <tr>\n",
       "      <th>0</th>\n",
       "      <td>0</td>\n",
       "      <td>MELD_H27_3T_C_0018</td>\n",
       "      <td>False</td>\n",
       "      <td>per vertex</td>\n",
       "      <td>0</td>\n",
       "      <td>1</td>\n",
       "      <td>NaN</td>\n",
       "    </tr>\n",
       "    <tr>\n",
       "      <th>1</th>\n",
       "      <td>0</td>\n",
       "      <td>MELD_H27_3T_C_0019</td>\n",
       "      <td>False</td>\n",
       "      <td>per vertex</td>\n",
       "      <td>0</td>\n",
       "      <td>1</td>\n",
       "      <td>NaN</td>\n",
       "    </tr>\n",
       "    <tr>\n",
       "      <th>2</th>\n",
       "      <td>0</td>\n",
       "      <td>MELD_H27_3T_C_0020</td>\n",
       "      <td>False</td>\n",
       "      <td>per vertex</td>\n",
       "      <td>0</td>\n",
       "      <td>0</td>\n",
       "      <td>NaN</td>\n",
       "    </tr>\n",
       "    <tr>\n",
       "      <th>3</th>\n",
       "      <td>0</td>\n",
       "      <td>MELD_H27_3T_C_0021</td>\n",
       "      <td>False</td>\n",
       "      <td>per vertex</td>\n",
       "      <td>0</td>\n",
       "      <td>5</td>\n",
       "      <td>NaN</td>\n",
       "    </tr>\n",
       "    <tr>\n",
       "      <th>4</th>\n",
       "      <td>0</td>\n",
       "      <td>MELD_H27_3T_C_0022</td>\n",
       "      <td>False</td>\n",
       "      <td>per vertex</td>\n",
       "      <td>0</td>\n",
       "      <td>0</td>\n",
       "      <td>NaN</td>\n",
       "    </tr>\n",
       "  </tbody>\n",
       "</table>\n",
       "</div>"
      ],
      "text/plain": [
       "   index                  ID  group       model  number TP clusters  \\\n",
       "0      0  MELD_H27_3T_C_0018  False  per vertex                   0   \n",
       "1      0  MELD_H27_3T_C_0019  False  per vertex                   0   \n",
       "2      0  MELD_H27_3T_C_0020  False  per vertex                   0   \n",
       "3      0  MELD_H27_3T_C_0021  False  per vertex                   0   \n",
       "4      0  MELD_H27_3T_C_0022  False  per vertex                   0   \n",
       "\n",
       "   number FP clusters detected  \n",
       "0                   1      NaN  \n",
       "1                   1      NaN  \n",
       "2                   0      NaN  \n",
       "3                   5      NaN  \n",
       "4                   0      NaN  "
      ]
     },
     "execution_count": 8,
     "metadata": {},
     "output_type": "execute_result"
    }
   ],
   "source": [
    "df_old=pd.DataFrame()\n",
    "subjects_dictionary={}\n",
    "values={}\n",
    "for si,subj in enumerate(subjects):\n",
    "    if si%100==0:\n",
    "        print(si)\n",
    "    values['ID']=subj\n",
    "    s = MeldSubject(subj,cohort=cohort)\n",
    "    values['group']= True if s.group=='patient' else False\n",
    "    labels_hemis = {}\n",
    "    dists={}\n",
    "    labels = np.zeros(len(cohort.cortex_label)*2)\n",
    "    for hemi in ['lh','rh']:\n",
    "        dists[hemi], labels_hemis[hemi] = s.load_feature_lesion_data(\n",
    "                    features=['.on_lh.boundary_zone.mgh'], hemi=hemi, features_to_ignore=[]\n",
    "                )\n",
    "        if np.sum(dists[hemi])==0:\n",
    "            dists[hemi] +=200\n",
    "    labels = np.hstack([labels_hemis['lh'][cohort.cortex_mask],labels_hemis['rh'][cohort.cortex_mask]])\n",
    "    borderzones = np.vstack([dists['lh'][cohort.cortex_mask,:],dists['rh'][cohort.cortex_mask,:]]).ravel()<20\n",
    "    \n",
    "    #load pred from old classifier\n",
    "    pred_file_old = os.path.join(ref, 'predictions_ensemble_iteration.hdf5')\n",
    "    result_hemis_old = load_prediction(subj,pred_file_old, dset='prediction')\n",
    "    result_old = np.hstack([result_hemis_old['lh'],result_hemis_old['rh']])\n",
    "    values['model']='per vertex'\n",
    "    \n",
    "    #add detection with borderzone\n",
    "    if labels.sum()>0:\n",
    "        values['detected'] = np.logical_and(result_old, borderzones).any()\n",
    "        values['number TP clusters'] = len(set(result_old[borderzones.astype('bool')]))-1\n",
    "    else:\n",
    "        values['number TP clusters'] = 0\n",
    "    # add number of FP clusters : total clusters - TP clusters\n",
    "    values['number FP clusters']=len(set(result_hemis_old['lh']))+len(set(result_hemis_old['rh']))-2-values['number TP clusters']\n",
    "    df_old=pd.concat([df_old,pd.DataFrame([values])])\n",
    "df_old = df_old.reset_index()\n",
    "df_old.head()"
   ]
  },
  {
   "cell_type": "code",
   "execution_count": 14,
   "metadata": {},
   "outputs": [
    {
     "data": {
      "text/plain": [
       "group\n",
       "False    18\n",
       "True     33\n",
       "Name: ID, dtype: int64"
      ]
     },
     "execution_count": 14,
     "metadata": {},
     "output_type": "execute_result"
    }
   ],
   "source": [
    "df_old.groupby('group')['ID'].count()"
   ]
  },
  {
   "cell_type": "code",
   "execution_count": 9,
   "metadata": {},
   "outputs": [
    {
     "name": "stdout",
     "output_type": "stream",
     "text": [
      "0.79 0.17 0.42\n"
     ]
    }
   ],
   "source": [
    "sensitivity = np.mean(df_old['detected'][df_old['group']])\n",
    "specificity = (df_old['number FP clusters'][df_old['group']==0]>0).mean()\n",
    "total_detected = np.sum(df_old['number TP clusters'][df_old['group']])\n",
    "total_predicted = np.sum(df_old['number FP clusters'][df_old['group']])\n",
    "ppv = total_detected / (total_predicted + total_detected)\n",
    "print(np.round(sensitivity,2),np.round(1-specificity,2),np.round(ppv,2))"
   ]
  },
  {
   "cell_type": "markdown",
   "metadata": {},
   "source": [
    "### load results for meld graph model"
   ]
  },
  {
   "cell_type": "code",
   "execution_count": 37,
   "metadata": {},
   "outputs": [],
   "source": [
    "# for test dataset\n",
    "experiment_dir = '/rds/project/kw350/rds-kw350-meld/experiments_graph/kw350'\n",
    "# model = '23-10-30_FOPF_dcop'\n",
    "model = '23-10-30_MSBS_dcop_with_combat'\n",
    "df_model = pd.read_csv(os.path.join(experiment_dir,model,\n",
    "                                          's_0','fold_all','results_best_model','test_results.csv'))\n",
    "\n",
    "# # for withheld sites\n",
    "# experiment_dir = '/rds/project/kw350/rds-kw350-meld/experiments_graph/kw350'\n",
    "# # model = '23-10-30_FOPF_dcop'\n",
    "# model = '23-10-30_MSBS_dcop_with_combat'\n",
    "\n",
    "# df_model_h27 = pd.read_csv(os.path.join(experiment_dir,model,'s_0','fold_all', 'test_H27','results_best_model','test_results.csv'))\n",
    "# df_model_h28 = pd.read_csv(os.path.join(experiment_dir,model,'s_0','fold_all', 'test_H28','results_best_model','test_results.csv'))\n",
    "# df_model = pd.concat([df_model_h27,df_model_h28])"
   ]
  },
  {
   "cell_type": "code",
   "execution_count": 38,
   "metadata": {},
   "outputs": [
    {
     "data": {
      "text/plain": [
       "group\n",
       "False    193\n",
       "True     260\n",
       "Name: ID, dtype: int64"
      ]
     },
     "execution_count": 38,
     "metadata": {},
     "output_type": "execute_result"
    }
   ],
   "source": [
    "df_model.groupby('group')['ID'].count()"
   ]
  },
  {
   "cell_type": "code",
   "execution_count": 39,
   "metadata": {},
   "outputs": [
    {
     "data": {
      "text/html": [
       "<div>\n",
       "<style scoped>\n",
       "    .dataframe tbody tr th:only-of-type {\n",
       "        vertical-align: middle;\n",
       "    }\n",
       "\n",
       "    .dataframe tbody tr th {\n",
       "        vertical-align: top;\n",
       "    }\n",
       "\n",
       "    .dataframe thead th {\n",
       "        text-align: right;\n",
       "    }\n",
       "</style>\n",
       "<table border=\"1\" class=\"dataframe\">\n",
       "  <thead>\n",
       "    <tr style=\"text-align: right;\">\n",
       "      <th></th>\n",
       "      <th>ID</th>\n",
       "      <th>group</th>\n",
       "      <th>detected</th>\n",
       "      <th>number FP clusters</th>\n",
       "      <th>number TP clusters</th>\n",
       "      <th>model</th>\n",
       "    </tr>\n",
       "  </thead>\n",
       "  <tbody>\n",
       "    <tr>\n",
       "      <th>0</th>\n",
       "      <td>MELD_H2_15T_FCD_0001</td>\n",
       "      <td>True</td>\n",
       "      <td>False</td>\n",
       "      <td>0</td>\n",
       "      <td>0</td>\n",
       "      <td>graph</td>\n",
       "    </tr>\n",
       "    <tr>\n",
       "      <th>1</th>\n",
       "      <td>MELD_H2_15T_FCD_0003</td>\n",
       "      <td>True</td>\n",
       "      <td>False</td>\n",
       "      <td>1</td>\n",
       "      <td>0</td>\n",
       "      <td>graph</td>\n",
       "    </tr>\n",
       "    <tr>\n",
       "      <th>2</th>\n",
       "      <td>MELD_H2_15T_FCD_0005</td>\n",
       "      <td>True</td>\n",
       "      <td>False</td>\n",
       "      <td>0</td>\n",
       "      <td>0</td>\n",
       "      <td>graph</td>\n",
       "    </tr>\n",
       "    <tr>\n",
       "      <th>3</th>\n",
       "      <td>MELD_H2_15T_FCD_0007</td>\n",
       "      <td>True</td>\n",
       "      <td>True</td>\n",
       "      <td>0</td>\n",
       "      <td>1</td>\n",
       "      <td>graph</td>\n",
       "    </tr>\n",
       "    <tr>\n",
       "      <th>4</th>\n",
       "      <td>MELD_H2_15T_FCD_0008</td>\n",
       "      <td>True</td>\n",
       "      <td>True</td>\n",
       "      <td>0</td>\n",
       "      <td>1</td>\n",
       "      <td>graph</td>\n",
       "    </tr>\n",
       "  </tbody>\n",
       "</table>\n",
       "</div>"
      ],
      "text/plain": [
       "                     ID  group  detected  number FP clusters  \\\n",
       "0  MELD_H2_15T_FCD_0001   True     False                   0   \n",
       "1  MELD_H2_15T_FCD_0003   True     False                   1   \n",
       "2  MELD_H2_15T_FCD_0005   True     False                   0   \n",
       "3  MELD_H2_15T_FCD_0007   True      True                   0   \n",
       "4  MELD_H2_15T_FCD_0008   True      True                   0   \n",
       "\n",
       "   number TP clusters  model  \n",
       "0                   0  graph  \n",
       "1                   0  graph  \n",
       "2                   0  graph  \n",
       "3                   1  graph  \n",
       "4                   1  graph  "
      ]
     },
     "execution_count": 39,
     "metadata": {},
     "output_type": "execute_result"
    }
   ],
   "source": [
    "df_model['model'] = ['graph' for x in df_model.iterrows()]\n",
    "df_model = df_model[['ID','group','detected','number FP clusters','number TP clusters', 'model']]\n",
    "df_model.head()"
   ]
  },
  {
   "cell_type": "code",
   "execution_count": 40,
   "metadata": {},
   "outputs": [
    {
     "name": "stdout",
     "output_type": "stream",
     "text": [
      "0.65 0.65 0.66\n"
     ]
    }
   ],
   "source": [
    "sensitivity = np.mean(df_model['detected'][df_model['group']])\n",
    "specificity = (df_model['number FP clusters'][df_model['group']==0]>0).mean()\n",
    "total_detected = np.sum(df_model['number TP clusters'][df_model['group']])\n",
    "total_predicted = np.sum(df_model['number FP clusters'][df_model['group']])\n",
    "ppv = total_detected / (total_predicted + total_detected)\n",
    "print(np.round(sensitivity,2),np.round(1-specificity,2),np.round(ppv,2))"
   ]
  },
  {
   "cell_type": "code",
   "execution_count": 10,
   "metadata": {},
   "outputs": [
    {
     "data": {
      "text/html": [
       "<div>\n",
       "<style scoped>\n",
       "    .dataframe tbody tr th:only-of-type {\n",
       "        vertical-align: middle;\n",
       "    }\n",
       "\n",
       "    .dataframe tbody tr th {\n",
       "        vertical-align: top;\n",
       "    }\n",
       "\n",
       "    .dataframe thead th {\n",
       "        text-align: right;\n",
       "    }\n",
       "</style>\n",
       "<table border=\"1\" class=\"dataframe\">\n",
       "  <thead>\n",
       "    <tr style=\"text-align: right;\">\n",
       "      <th></th>\n",
       "      <th>index</th>\n",
       "      <th>ID</th>\n",
       "      <th>group</th>\n",
       "      <th>model</th>\n",
       "      <th>detected</th>\n",
       "      <th>number TP clusters</th>\n",
       "      <th>number FP clusters</th>\n",
       "    </tr>\n",
       "  </thead>\n",
       "  <tbody>\n",
       "    <tr>\n",
       "      <th>0</th>\n",
       "      <td>0.0</td>\n",
       "      <td>MELD2_H7_3T_FCD_001</td>\n",
       "      <td>True</td>\n",
       "      <td>per vertex</td>\n",
       "      <td>False</td>\n",
       "      <td>0</td>\n",
       "      <td>3</td>\n",
       "    </tr>\n",
       "    <tr>\n",
       "      <th>1</th>\n",
       "      <td>0.0</td>\n",
       "      <td>MELD2_H7_3T_FCD_004</td>\n",
       "      <td>True</td>\n",
       "      <td>per vertex</td>\n",
       "      <td>False</td>\n",
       "      <td>0</td>\n",
       "      <td>1</td>\n",
       "    </tr>\n",
       "    <tr>\n",
       "      <th>2</th>\n",
       "      <td>0.0</td>\n",
       "      <td>MELD2_H7_3T_FCD_005</td>\n",
       "      <td>True</td>\n",
       "      <td>per vertex</td>\n",
       "      <td>False</td>\n",
       "      <td>0</td>\n",
       "      <td>0</td>\n",
       "    </tr>\n",
       "    <tr>\n",
       "      <th>3</th>\n",
       "      <td>0.0</td>\n",
       "      <td>MELD2_H7_3T_FCD_009</td>\n",
       "      <td>True</td>\n",
       "      <td>per vertex</td>\n",
       "      <td>True</td>\n",
       "      <td>2</td>\n",
       "      <td>2</td>\n",
       "    </tr>\n",
       "    <tr>\n",
       "      <th>4</th>\n",
       "      <td>0.0</td>\n",
       "      <td>MELD_H10_3T_C_0005</td>\n",
       "      <td>False</td>\n",
       "      <td>per vertex</td>\n",
       "      <td>True</td>\n",
       "      <td>0</td>\n",
       "      <td>0</td>\n",
       "    </tr>\n",
       "  </tbody>\n",
       "</table>\n",
       "</div>"
      ],
      "text/plain": [
       "   index                   ID  group       model  detected  \\\n",
       "0    0.0  MELD2_H7_3T_FCD_001   True  per vertex     False   \n",
       "1    0.0  MELD2_H7_3T_FCD_004   True  per vertex     False   \n",
       "2    0.0  MELD2_H7_3T_FCD_005   True  per vertex     False   \n",
       "3    0.0  MELD2_H7_3T_FCD_009   True  per vertex      True   \n",
       "4    0.0   MELD_H10_3T_C_0005  False  per vertex      True   \n",
       "\n",
       "   number TP clusters  number FP clusters  \n",
       "0                   0                   3  \n",
       "1                   0                   1  \n",
       "2                   0                   0  \n",
       "3                   2                   2  \n",
       "4                   0                   0  "
      ]
     },
     "execution_count": 10,
     "metadata": {},
     "output_type": "execute_result"
    }
   ],
   "source": [
    "## Concat results\n",
    "\n",
    "df = pd.concat([df_old, df_model], ignore_index=True)\n",
    "df.head()"
   ]
  }
 ],
 "metadata": {
  "kernelspec": {
   "display_name": "Python 3.9.10 ('meld_graph')",
   "language": "python",
   "name": "python3"
  },
  "language_info": {
   "codemirror_mode": {
    "name": "ipython",
    "version": 3
   },
   "file_extension": ".py",
   "mimetype": "text/x-python",
   "name": "python",
   "nbconvert_exporter": "python",
   "pygments_lexer": "ipython3",
   "version": "3.9.10"
  },
  "vscode": {
   "interpreter": {
    "hash": "c0176ae289e59992559f0c449061dac3c0e6a1074598f8b14680b865216cf195"
   }
  }
 },
 "nbformat": 4,
 "nbformat_minor": 2
}
