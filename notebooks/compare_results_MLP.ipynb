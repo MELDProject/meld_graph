{
 "cells": [
  {
   "cell_type": "markdown",
   "metadata": {},
   "source": [
    "## Notebook to compare final results MELD graph vs MELD per vertex\n",
    "## Results on test cohort and withheld sites H27 H28 H101"
   ]
  },
  {
   "cell_type": "code",
   "execution_count": 1,
   "metadata": {},
   "outputs": [
    {
     "name": "stdout",
     "output_type": "stream",
     "text": [
      "Setting MELD_DATA_PATH to /rds/project/kw350/rds-kw350-meld/meld_data/Data\n",
      "Setting BASE_PATH to /rds/project/kw350/rds-kw350-meld/meld_data/Data\n",
      "Setting EXPERIMENT_PATH to /rds/project/kw350/rds-kw350-meld/experiments/co-ripa1/\n",
      "Setting FS_SUBJECTS_PATH to /rds/project/kw350/rds-kw350-meld/meld_data/Data\n",
      "Setting BASE_PATH to /rds/project/kw350/rds-kw350-meld/meld_data/Data\n",
      "Setting EXPERIMENT_PATH to /rds/project/kw350/rds-kw350-meld/experiments_graph/kw350\n"
     ]
    }
   ],
   "source": [
    "#imports\n",
    "import os\n",
    "import numpy as np\n",
    "import h5py\n",
    "import matplotlib.pyplot as plt\n",
    "import seaborn as sns\n",
    "import sys\n",
    "sys.path.append('/home/co-ripa1/rds/hpc-work/scripts/meld_classifier')\n",
    "from meld_classifier.meld_cohort import MeldSubject,MeldCohort\n",
    "from meld_graph.training import tp_fp_fn_tn, dice_coeff\n",
    "from meld_graph.icospheres import IcoSpheres\n",
    "from meld_graph.graph_tools import GraphTools\n",
    "import itertools\n",
    "import pandas as pd\n",
    "from meld_graph.evaluation import load_prediction\n",
    "from meld_graph import experiment"
   ]
  },
  {
   "cell_type": "markdown",
   "metadata": {},
   "source": [
    "### load per-vertex results"
   ]
  },
  {
   "cell_type": "code",
   "execution_count": 118,
   "metadata": {},
   "outputs": [],
   "source": [
    "#dataset one of ['test','indi_test']\n",
    "dataset = 'indi_test'\n",
    "#for H101 boundaries\n",
    "cohort2= MeldCohort(hdf5_file_root='{site_code}_{group}_featurematrix_combat_fastsurfer_harmonised_NewSite.hdf5', \n",
    "                           dataset='MELD_dataset_NewSiteH27H28H101_nc.csv')"
   ]
  },
  {
   "cell_type": "code",
   "execution_count": 119,
   "metadata": {},
   "outputs": [],
   "source": [
    "def load_cohort_mlp(dataset):\n",
    "    # Load the MELD cohort\n",
    "    if dataset == 'test':\n",
    "        ref = '/rds/project/kw350/rds-kw350-meld/experiments/co-ripa1/iteration_21-09-15/ensemble_21-09-15/fold_all/results'\n",
    "        with h5py.File(os.path.join(ref, 'predictions_ensemble_iteration.hdf5'), \"r\") as f:\n",
    "            subjects = list(f.keys())\n",
    "        subjects.remove('MELD_H4_3T_FCD_0011') # because does not exist in graph model\n",
    "        cohort = MeldCohort(hdf5_file_root='{site_code}_{group}_featurematrix_combat_6.hdf5',\n",
    "                dataset='MELD_dataset_V6.csv')\n",
    "    elif dataset == 'indi_test':\n",
    "        refh27h28 = '/rds/project/kw350/rds-kw350-meld/experiments/co-ripa1/predict_NewSiteH27H28_21-09-20/fold_all/results'\n",
    "        refh101 = '/rds/project/kw350/rds-kw350-meld/experiments/co-ripa1/predict_NewSiteH101_24-02-20/results'\n",
    "        with h5py.File(os.path.join(refh27h28, 'predictions_ensemble_iteration.hdf5'), \"r\") as f:\n",
    "            subjects = list(f.keys())\n",
    "        with h5py.File(os.path.join(refh101, 'predictions_ensemble_iteration.hdf5'), \"r\") as f:\n",
    "            subjects = subjects + list(f.keys())\n",
    "        cohort= MeldCohort(hdf5_file_root='{site_code}_{group}_featurematrix_combat_6_kernels_robustCombat_NewSite.hdf5', dataset='MELD_dataset_NewSiteH27H28H101.csv')\n",
    "    else:\n",
    "        raise ValueError('Unknown dataset')\n",
    "    return cohort, subjects"
   ]
  },
  {
   "cell_type": "code",
   "execution_count": 120,
   "metadata": {},
   "outputs": [],
   "source": [
    "cohort, subjects =  load_cohort_mlp(dataset)\n",
    "refh27h28 = '/rds/project/kw350/rds-kw350-meld/experiments/co-ripa1/predict_NewSiteH27H28_21-09-20/fold_all/results'\n",
    "refh101 = '/rds/project/kw350/rds-kw350-meld/experiments/co-ripa1/predict_NewSiteH101_24-02-20/results'\n",
    "ref = '/rds/project/kw350/rds-kw350-meld/experiments/co-ripa1/iteration_21-09-15/ensemble_21-09-15/fold_all/results'\n"
   ]
  },
  {
   "cell_type": "code",
   "execution_count": 121,
   "metadata": {},
   "outputs": [
    {
     "name": "stdout",
     "output_type": "stream",
     "text": [
      "0\n",
      "100\n",
      "200\n"
     ]
    },
    {
     "data": {
      "text/html": [
       "<div>\n",
       "<style scoped>\n",
       "    .dataframe tbody tr th:only-of-type {\n",
       "        vertical-align: middle;\n",
       "    }\n",
       "\n",
       "    .dataframe tbody tr th {\n",
       "        vertical-align: top;\n",
       "    }\n",
       "\n",
       "    .dataframe thead th {\n",
       "        text-align: right;\n",
       "    }\n",
       "</style>\n",
       "<table border=\"1\" class=\"dataframe\">\n",
       "  <thead>\n",
       "    <tr style=\"text-align: right;\">\n",
       "      <th></th>\n",
       "      <th>index</th>\n",
       "      <th>ID</th>\n",
       "      <th>group</th>\n",
       "      <th>model</th>\n",
       "      <th>number TP clusters</th>\n",
       "      <th>number FP clusters</th>\n",
       "      <th>detected</th>\n",
       "      <th>size_pred</th>\n",
       "    </tr>\n",
       "  </thead>\n",
       "  <tbody>\n",
       "    <tr>\n",
       "      <th>0</th>\n",
       "      <td>0</td>\n",
       "      <td>MELD_H27_3T_C_0018</td>\n",
       "      <td>False</td>\n",
       "      <td>per vertex</td>\n",
       "      <td>0</td>\n",
       "      <td>1</td>\n",
       "      <td>NaN</td>\n",
       "      <td>NaN</td>\n",
       "    </tr>\n",
       "    <tr>\n",
       "      <th>1</th>\n",
       "      <td>0</td>\n",
       "      <td>MELD_H27_3T_C_0019</td>\n",
       "      <td>False</td>\n",
       "      <td>per vertex</td>\n",
       "      <td>0</td>\n",
       "      <td>1</td>\n",
       "      <td>NaN</td>\n",
       "      <td>NaN</td>\n",
       "    </tr>\n",
       "    <tr>\n",
       "      <th>2</th>\n",
       "      <td>0</td>\n",
       "      <td>MELD_H27_3T_C_0020</td>\n",
       "      <td>False</td>\n",
       "      <td>per vertex</td>\n",
       "      <td>0</td>\n",
       "      <td>0</td>\n",
       "      <td>NaN</td>\n",
       "      <td>NaN</td>\n",
       "    </tr>\n",
       "    <tr>\n",
       "      <th>3</th>\n",
       "      <td>0</td>\n",
       "      <td>MELD_H27_3T_C_0021</td>\n",
       "      <td>False</td>\n",
       "      <td>per vertex</td>\n",
       "      <td>0</td>\n",
       "      <td>5</td>\n",
       "      <td>NaN</td>\n",
       "      <td>NaN</td>\n",
       "    </tr>\n",
       "    <tr>\n",
       "      <th>4</th>\n",
       "      <td>0</td>\n",
       "      <td>MELD_H27_3T_C_0022</td>\n",
       "      <td>False</td>\n",
       "      <td>per vertex</td>\n",
       "      <td>0</td>\n",
       "      <td>0</td>\n",
       "      <td>NaN</td>\n",
       "      <td>NaN</td>\n",
       "    </tr>\n",
       "  </tbody>\n",
       "</table>\n",
       "</div>"
      ],
      "text/plain": [
       "   index                  ID  group       model  number TP clusters  \\\n",
       "0      0  MELD_H27_3T_C_0018  False  per vertex                   0   \n",
       "1      0  MELD_H27_3T_C_0019  False  per vertex                   0   \n",
       "2      0  MELD_H27_3T_C_0020  False  per vertex                   0   \n",
       "3      0  MELD_H27_3T_C_0021  False  per vertex                   0   \n",
       "4      0  MELD_H27_3T_C_0022  False  per vertex                   0   \n",
       "\n",
       "   number FP clusters detected  size_pred  \n",
       "0                   1      NaN        NaN  \n",
       "1                   1      NaN        NaN  \n",
       "2                   0      NaN        NaN  \n",
       "3                   5      NaN        NaN  \n",
       "4                   0      NaN        NaN  "
      ]
     },
     "execution_count": 121,
     "metadata": {},
     "output_type": "execute_result"
    }
   ],
   "source": [
    "#load the predictions\n",
    "df_old=pd.DataFrame()\n",
    "subjects_dictionary={}\n",
    "#values becomes each row of the dataframe\n",
    "values={}\n",
    "for si,subj in enumerate(subjects):\n",
    "    if si%100==0:\n",
    "        print(si)\n",
    "    values['ID']=subj\n",
    "    #load the subject\n",
    "    if \"H101\" in subj:\n",
    "        s = MeldSubject(subj,cohort=cohort2)\n",
    "    else:\n",
    "        s = MeldSubject(subj,cohort=cohort)\n",
    "    #add the group\n",
    "    values['group']= True if s.group=='patient' else False\n",
    "    labels_hemis = {}\n",
    "    dists={}\n",
    "    labels = np.zeros(len(cohort.cortex_label)*2)\n",
    "    #load the borderzone\n",
    "    for hemi in ['lh','rh']:\n",
    "        dists[hemi], labels_hemis[hemi] = s.load_feature_lesion_data(\n",
    "                    features=['.on_lh.boundary_zone.mgh'], hemi=hemi, features_to_ignore=[]\n",
    "                )\n",
    "        if np.sum(dists[hemi])==0:\n",
    "            dists[hemi] +=200\n",
    "    labels = np.hstack([labels_hemis['lh'][cohort.cortex_mask],labels_hemis['rh'][cohort.cortex_mask]])\n",
    "    borderzones = np.vstack([dists['lh'][cohort.cortex_mask,:],dists['rh'][cohort.cortex_mask,:]]).ravel()<20\n",
    "    #load pred from old classifier\n",
    "    if 'H101' in subj:\n",
    "        pred_file_old = os.path.join(refh101, 'predictions_ensemble_iteration.hdf5')\n",
    "    elif ('H27' in subj) or ('H28' in subj):\n",
    "        pred_file_old = os.path.join(refh27h28, 'predictions_ensemble_iteration.hdf5')\n",
    "    else:\n",
    "        pred_file_old = os.path.join(ref, 'predictions_ensemble_iteration.hdf5')\n",
    "\n",
    "    result_hemis_old = load_prediction(subj,pred_file_old, dset='prediction')\n",
    "    result_old = np.hstack([result_hemis_old['lh'],result_hemis_old['rh']])\n",
    "    values['model']='per vertex'\n",
    "    \n",
    "    #add detection with borderzone\n",
    "    if labels.sum()>0:\n",
    "        values['detected'] = np.logical_and(result_old, borderzones).any()\n",
    "        # add number of TP clusters - number of clusters that are in the borderzone\n",
    "        clusters_in_borderzone = set(result_old[borderzones.astype('bool')])\n",
    "        #remove the 0 cluster\n",
    "        if 0 in clusters_in_borderzone:\n",
    "            clusters_in_borderzone.remove(0)\n",
    "        values['number TP clusters'] = len(clusters_in_borderzone)\n",
    "        values['size_pred'] = len(result_old[borderzones.astype('bool')])\n",
    "    else:\n",
    "        values['number TP clusters'] = 0\n",
    "    # add number of FP clusters : total clusters - TP clusters\n",
    "    values['number FP clusters']=len(set(result_hemis_old['lh']))+len(set(result_hemis_old['rh']))-2-values['number TP clusters']\n",
    "    df_old=pd.concat([df_old,pd.DataFrame([values])])\n",
    "df_old = df_old.reset_index()\n",
    "df_old.head()"
   ]
  },
  {
   "cell_type": "code",
   "execution_count": 122,
   "metadata": {},
   "outputs": [],
   "source": [
    "def df_stats(df):\n",
    "    sensitivity = np.mean(df['detected'][df['group']])\n",
    "    specificity = (df['number FP clusters'][df['group']==0]==0).mean()\n",
    "    total_detected = np.sum(df['number TP clusters'][df['group']])\n",
    "    total_predicted = np.sum(df['number FP clusters'][df['group']])\n",
    "    ppv = total_detected / (total_predicted + total_detected)\n",
    "    return np.round(sensitivity,2),np.round(specificity,2),np.round(ppv,2)\n",
    "\n",
    "# bootstrapped confidence intervals\n",
    "def bootstrap_CI(df, n=10000, func=df_stats):\n",
    "    \"\"\"Calculate confidence intervals for a given function\"\"\"\n",
    "    bootstrapped = []\n",
    "    for i in range(n):\n",
    "        bootstrapped.append(func(df.sample(len(df), replace=True)))\n",
    "    return np.percentile(np.array(bootstrapped), [2.5, 97.5],axis=0)"
   ]
  },
  {
   "cell_type": "code",
   "execution_count": 123,
   "metadata": {},
   "outputs": [
    {
     "name": "stdout",
     "output_type": "stream",
     "text": [
      "all together\n",
      "0.77 0.47 0.46\n",
      "[[0.69 0.37 0.4 ]\n",
      " [0.84 0.56 0.53]]\n",
      "H27\n",
      "0.94 0.17 0.52\n",
      "H28\n",
      "0.62 nan 0.32\n",
      "H101\n",
      "0.76 0.53 0.49\n"
     ]
    }
   ],
   "source": [
    "print('all together')\n",
    "dfsub = df_old.copy()\n",
    "dfsub_mlp = dfsub.copy()\n",
    "sensitivity, specificity, ppv = df_stats(dfsub)\n",
    "print(sensitivity,specificity,ppv)\n",
    "print(bootstrap_CI(dfsub))\n",
    "try:\n",
    "    for site in ['H27', 'H28', 'H101']:\n",
    "        print(site)\n",
    "        dfsub = df_old[df_old['ID'].str.contains(site)]\n",
    "        sensitivity, specificity, ppv = df_stats(dfsub)\n",
    "        print(sensitivity,specificity,ppv)\n",
    "except:\n",
    "    pass\n"
   ]
  },
  {
   "cell_type": "markdown",
   "metadata": {},
   "source": [
    "### load results for meld graph model"
   ]
  },
  {
   "cell_type": "code",
   "execution_count": 124,
   "metadata": {},
   "outputs": [],
   "source": [
    "def load_cohort_graph(dataset,model,no_combat=False):\n",
    "\n",
    "    # Load the MELD cohort\n",
    "    nc = ''\n",
    "    if no_combat:\n",
    "        nc = '_nc'\n",
    "    if dataset == 'test':\n",
    "        experiment_dir = '/rds/project/kw350/rds-kw350-meld/experiments_graph/kw350'\n",
    "        \n",
    "        pred_file = os.path.join(experiment_dir,model,'s_0','fold_all','results_best_model', 'predictions.hdf5')\n",
    "        cohort= MeldCohort(hdf5_file_root='{site_code}_{group}_featurematrix_combat_6_kernels_noCombat.hdf5',\n",
    "                            dataset='MELD_dataset_v6.csv')\n",
    "    elif dataset == 'indi_test':\n",
    "        experiment_dir = '/rds/project/kw350/rds-kw350-meld/experiments_graph/kw350'\n",
    "        pred_file = os.path.join(experiment_dir,model,'s_0','fold_all',\n",
    "                                  'test_H27H28H101{}'.format(nc),'results_best_model', 'predictions.hdf5')\n",
    "        cohort= MeldCohort(hdf5_file_root='{site_code}_{group}_featurematrix_combat_6_kernels_robustCombat_NewSite.hdf5', \n",
    "                           dataset='MELD_dataset_NewSiteH27H28H101{}.csv'.format(nc))\n",
    "            \n",
    "    else:\n",
    "        raise ValueError('Unknown dataset')\n",
    "    with h5py.File(pred_file, \"r\") as f:\n",
    "        subjects = list(f.keys())\n",
    "    return cohort, subjects,pred_file"
   ]
  },
  {
   "cell_type": "code",
   "execution_count": 128,
   "metadata": {},
   "outputs": [],
   "source": [
    "#  #for test dataset\n",
    "model = '23-10-30_LVHZ_dcp'\n",
    "#model='23-10-30_MSBS_dcop_with_combat'\n",
    "# # model ='24-01-04_best_dcop_with_combat'\n",
    "\n",
    "cohort, subjects, pred_file = load_cohort_graph(dataset,model,\n",
    "no_combat=False)"
   ]
  },
  {
   "cell_type": "code",
   "execution_count": 129,
   "metadata": {},
   "outputs": [
    {
     "name": "stdout",
     "output_type": "stream",
     "text": [
      "0\n",
      "100\n",
      "200\n"
     ]
    },
    {
     "data": {
      "text/html": [
       "<div>\n",
       "<style scoped>\n",
       "    .dataframe tbody tr th:only-of-type {\n",
       "        vertical-align: middle;\n",
       "    }\n",
       "\n",
       "    .dataframe tbody tr th {\n",
       "        vertical-align: top;\n",
       "    }\n",
       "\n",
       "    .dataframe thead th {\n",
       "        text-align: right;\n",
       "    }\n",
       "</style>\n",
       "<table border=\"1\" class=\"dataframe\">\n",
       "  <thead>\n",
       "    <tr style=\"text-align: right;\">\n",
       "      <th></th>\n",
       "      <th>index</th>\n",
       "      <th>ID</th>\n",
       "      <th>group</th>\n",
       "      <th>model</th>\n",
       "      <th>number TP clusters</th>\n",
       "      <th>number FP clusters</th>\n",
       "      <th>detected</th>\n",
       "      <th>size_pred</th>\n",
       "    </tr>\n",
       "  </thead>\n",
       "  <tbody>\n",
       "    <tr>\n",
       "      <th>0</th>\n",
       "      <td>0</td>\n",
       "      <td>MELD_H101_3T_C_00002</td>\n",
       "      <td>False</td>\n",
       "      <td>graph</td>\n",
       "      <td>0</td>\n",
       "      <td>0</td>\n",
       "      <td>NaN</td>\n",
       "      <td>NaN</td>\n",
       "    </tr>\n",
       "    <tr>\n",
       "      <th>1</th>\n",
       "      <td>0</td>\n",
       "      <td>MELD_H101_3T_C_00005</td>\n",
       "      <td>False</td>\n",
       "      <td>graph</td>\n",
       "      <td>0</td>\n",
       "      <td>1</td>\n",
       "      <td>NaN</td>\n",
       "      <td>NaN</td>\n",
       "    </tr>\n",
       "    <tr>\n",
       "      <th>2</th>\n",
       "      <td>0</td>\n",
       "      <td>MELD_H101_3T_C_00008</td>\n",
       "      <td>False</td>\n",
       "      <td>graph</td>\n",
       "      <td>0</td>\n",
       "      <td>1</td>\n",
       "      <td>NaN</td>\n",
       "      <td>NaN</td>\n",
       "    </tr>\n",
       "    <tr>\n",
       "      <th>3</th>\n",
       "      <td>0</td>\n",
       "      <td>MELD_H101_3T_C_00011</td>\n",
       "      <td>False</td>\n",
       "      <td>graph</td>\n",
       "      <td>0</td>\n",
       "      <td>0</td>\n",
       "      <td>NaN</td>\n",
       "      <td>NaN</td>\n",
       "    </tr>\n",
       "    <tr>\n",
       "      <th>4</th>\n",
       "      <td>0</td>\n",
       "      <td>MELD_H101_3T_C_00012</td>\n",
       "      <td>False</td>\n",
       "      <td>graph</td>\n",
       "      <td>0</td>\n",
       "      <td>2</td>\n",
       "      <td>NaN</td>\n",
       "      <td>NaN</td>\n",
       "    </tr>\n",
       "  </tbody>\n",
       "</table>\n",
       "</div>"
      ],
      "text/plain": [
       "   index                    ID  group  model  number TP clusters  \\\n",
       "0      0  MELD_H101_3T_C_00002  False  graph                   0   \n",
       "1      0  MELD_H101_3T_C_00005  False  graph                   0   \n",
       "2      0  MELD_H101_3T_C_00008  False  graph                   0   \n",
       "3      0  MELD_H101_3T_C_00011  False  graph                   0   \n",
       "4      0  MELD_H101_3T_C_00012  False  graph                   0   \n",
       "\n",
       "   number FP clusters detected  size_pred  \n",
       "0                   0      NaN        NaN  \n",
       "1                   1      NaN        NaN  \n",
       "2                   1      NaN        NaN  \n",
       "3                   0      NaN        NaN  \n",
       "4                   2      NaN        NaN  "
      ]
     },
     "execution_count": 129,
     "metadata": {},
     "output_type": "execute_result"
    }
   ],
   "source": [
    "df=pd.DataFrame()\n",
    "subjects_dictionary={}\n",
    "values={}\n",
    "for si,subj in enumerate(subjects):\n",
    "    if si%100==0:\n",
    "        print(si)\n",
    "    values['ID']=subj\n",
    "    if \"H101\" in subj:\n",
    "        s = MeldSubject(subj,cohort=cohort2)\n",
    "    else:\n",
    "        s = MeldSubject(subj,cohort=cohort)\n",
    "    values['group']= True if s.group=='patient' else False\n",
    "    labels_hemis = {}\n",
    "    dists={}\n",
    "    labels = np.zeros(len(cohort.cortex_label)*2)\n",
    "    for hemi in ['lh','rh']:\n",
    "        dists[hemi], labels_hemis[hemi] = s.load_feature_lesion_data(\n",
    "                    features=['.on_lh.boundary_zone.mgh'], hemi=hemi, features_to_ignore=[]\n",
    "                )\n",
    "        if np.sum(dists[hemi])==0:\n",
    "            dists[hemi] +=200\n",
    "    labels = np.hstack([labels_hemis['lh'][cohort.cortex_mask],labels_hemis['rh'][cohort.cortex_mask]])\n",
    "    borderzones = np.vstack([dists['lh'][cohort.cortex_mask,:],dists['rh'][cohort.cortex_mask,:]]).ravel()<20\n",
    "    #load pred from graph classifier\n",
    "\n",
    "    result_hemis = load_prediction(subj,pred_file, dset='prediction_clustered')\n",
    "    result = np.hstack([result_hemis['lh'],result_hemis['rh']])\n",
    "    values['model']='graph'\n",
    "    \n",
    "    #add detection with borderzone\n",
    "    if labels.sum()>0:\n",
    "        values['detected'] = np.logical_and(result, borderzones).any()\n",
    "        clusters_in_borderzone = set(result[borderzones.astype('bool')])\n",
    "        #remove the 0 cluster\n",
    "        if 0 in clusters_in_borderzone:\n",
    "            clusters_in_borderzone.remove(0)\n",
    "        values['number TP clusters'] = len(clusters_in_borderzone)\n",
    "        values['size_pred'] = len(result[borderzones.astype('bool')])\n",
    "    else:\n",
    "        values['number TP clusters'] = 0\n",
    "    # add number of FP clusters : total clusters - TP clusters\n",
    "    values['number FP clusters']=len(set(result_hemis['lh']))+len(set(result_hemis['rh']))-2-values['number TP clusters']\n",
    "    df=pd.concat([df,pd.DataFrame([values])])\n",
    "    \n",
    "    \n",
    "df = df.reset_index()\n",
    "df.head()"
   ]
  },
  {
   "cell_type": "code",
   "execution_count": 130,
   "metadata": {},
   "outputs": [
    {
     "name": "stdout",
     "output_type": "stream",
     "text": [
      "all together\n",
      "0.73 0.56 0.77\n",
      "[[0.65 0.47 0.7 ]\n",
      " [0.81 0.66 0.84]]\n",
      "H27\n",
      "0.82 0.44 0.74\n",
      "H28\n",
      "0.69 nan 0.61\n",
      "H101\n",
      "0.72 0.59 0.81\n"
     ]
    }
   ],
   "source": [
    "print('all together')\n",
    "dfsub = df.copy()\n",
    "sensitivity, specificity, ppv = df_stats(dfsub)\n",
    "\n",
    "print(sensitivity,specificity,ppv)\n",
    "print(bootstrap_CI(dfsub))\n",
    "try:\n",
    "    for site in ['H27', 'H28', 'H101']:\n",
    "        print(site)\n",
    "        dfsub = df[df['ID'].str.contains(site)]\n",
    "        sensitivity, specificity, ppv = df_stats(dfsub)\n",
    "        print(sensitivity,specificity,ppv)\n",
    "except:\n",
    "    pass"
   ]
  },
  {
   "cell_type": "code",
   "execution_count": 112,
   "metadata": {},
   "outputs": [
    {
     "name": "stderr",
     "output_type": "stream",
     "text": [
      "/tmp/ipykernel_238123/17189270.py:6: RuntimeWarning: invalid value encountered in long_scalars\n",
      "  ppv = total_detected / (total_predicted + total_detected)\n"
     ]
    },
    {
     "data": {
      "text/plain": [
       "nan"
      ]
     },
     "execution_count": 112,
     "metadata": {},
     "output_type": "execute_result"
    }
   ],
   "source": [
    "dfsub = df[df['ID'].str.contains('H101')]\n",
    "sensitivity, specificity, ppv = df_stats(dfsub)\n",
    "sensitivity"
   ]
  },
  {
   "cell_type": "code",
   "execution_count": 131,
   "metadata": {},
   "outputs": [
    {
     "name": "stdout",
     "output_type": "stream",
     "text": [
      "0.77 0.47 0.46\n",
      "0.73 0.56 0.77\n"
     ]
    }
   ],
   "source": [
    "# Compare models with permutation\n",
    "def permute_models(df):\n",
    "    for index, row in df.iterrows():\n",
    "        # Randomly permute the data from column 0 and 1\n",
    "        permuted_indices = np.random.permutation(2)\n",
    "        if (permuted_indices == [1,0]).all():\n",
    "            df.at[index, 'detected_MLP'], df.at[index, 'detected_Graph'] = \\\n",
    "            row[['detected_MLP', 'detected_Graph']].values[permuted_indices]\n",
    "            df.at[index, 'number TP clusters_MLP'], df.at[index, 'number TP clusters_Graph'] = \\\n",
    "            row[['number TP clusters_MLP', 'number TP clusters_Graph']].values[permuted_indices]\n",
    "            df.at[index, 'number FP clusters_MLP'], df.at[index, 'number FP clusters_Graph'] = \\\n",
    "            row[['number FP clusters_MLP', 'number FP clusters_Graph']].values[permuted_indices]\n",
    "    return df\n",
    "\n",
    "df_mlp = df_old.copy()\n",
    "sensitivity_mlp_orig, specificity_mlp_orig, ppv_mlp_orig = df_stats(df_mlp)\n",
    "print(sensitivity_mlp_orig, specificity_mlp_orig, ppv_mlp_orig)\n",
    "df_graph = df.copy()\n",
    "sensitivity_graph_orig, specificity_graph_orig, ppv_graph_orig = df_stats(df_graph)\n",
    "print(sensitivity_graph_orig, specificity_graph_orig, ppv_graph_orig)\n",
    "#compute difference\n",
    "diff_sensitivity_orig = sensitivity_mlp_orig - sensitivity_graph_orig\n",
    "diff_specificity_orig = specificity_mlp_orig - specificity_graph_orig\n",
    "diff_ppv_orig = ppv_mlp_orig - ppv_graph_orig\n",
    "\n",
    "#combine results for MLP and Graph \n",
    "df_comp = df_mlp[['ID','group','detected','number TP clusters','number FP clusters']].merge(df_graph[['ID','group','detected','number TP clusters','number FP clusters']], how='left', on=['ID','group'], suffixes=['_MLP','_Graph'])\n",
    "\n",
    "diffs_sensitivity = []\n",
    "diffs_specificity = []\n",
    "diffs_ppv = []\n",
    "for i in range(0,1000):\n",
    "    # shuffle models\n",
    "    df_shuffle = permute_models(df_comp.copy())\n",
    "    \n",
    "    # compute metrics again\n",
    "    df_shuffle_mlp = pd.DataFrame()\n",
    "    df_shuffle_mlp[['group','detected','number TP clusters','number FP clusters']] = df_shuffle[['group','detected_MLP','number TP clusters_MLP','number FP clusters_MLP']].copy()\n",
    "    sensitivity_mlp, specificity_mlp, ppv_mlp = df_stats(df_shuffle_mlp)\n",
    "    # print(sensitivity_mlp,specificity_mlp, ppv_mlp)\n",
    "    \n",
    "    df_shuffle_graph = pd.DataFrame()\n",
    "    df_shuffle_graph[['group','detected','number TP clusters','number FP clusters']] = df_shuffle[['group','detected_Graph','number TP clusters_Graph','number FP clusters_Graph']].copy()\n",
    "    sensitivity_graph, specificity_graph, ppv_graph = df_stats(df_shuffle_graph)\n",
    "    # print(sensitivity_graph,specificity_graph, ppv_graph)\n",
    "    \n",
    "    # find differences\n",
    "    diffs_sensitivity.append(sensitivity_mlp - sensitivity_graph)\n",
    "    diffs_specificity.append(specificity_mlp - specificity_graph)\n",
    "    diffs_ppv.append(ppv_mlp - ppv_graph)\n"
   ]
  },
  {
   "cell_type": "code",
   "execution_count": 132,
   "metadata": {},
   "outputs": [
    {
     "name": "stdout",
     "output_type": "stream",
     "text": [
      "0.181 0.04 0.0\n"
     ]
    },
    {
     "data": {
      "text/plain": [
       "<matplotlib.legend.Legend at 0x2b21cc126a60>"
      ]
     },
     "execution_count": 132,
     "metadata": {},
     "output_type": "execute_result"
    },
    {
     "data": {
      "image/png": "[encoded data removed]",
      "text/plain": [
       "<Figure size 432x288 with 1 Axes>"
      ]
     },
     "metadata": {
      "needs_background": "light"
     },
     "output_type": "display_data"
    },
    {
     "data": {
      "image/png": "[encoded data removed]",
      "text/plain": [
       "<Figure size 432x288 with 1 Axes>"
      ]
     },
     "metadata": {
      "needs_background": "light"
     },
     "output_type": "display_data"
    },
    {
     "data": {
      "image/png": "[encoded data removed]",
      "text/plain": [
       "<Figure size 432x288 with 1 Axes>"
      ]
     },
     "metadata": {
      "needs_background": "light"
     },
     "output_type": "display_data"
    }
   ],
   "source": [
    "#compute pvalue\n",
    "p_sensitivity = sum(abs(diff) > abs(diff_sensitivity_orig) for diff in diffs_sensitivity) / len(diffs_sensitivity)\n",
    "p_specificity = sum(abs(diff) > abs(diff_specificity_orig) for diff in diffs_specificity) / len(diffs_specificity)\n",
    "p_ppv = sum(abs(diff) > abs(diff_ppv_orig) for diff in diffs_ppv) / len(diffs_ppv)\n",
    "print(p_sensitivity, p_specificity, p_ppv)\n",
    "\n",
    "#plot results shuffle\n",
    "plt.figure()\n",
    "plt.hist(diffs_sensitivity, label='permutations between model')\n",
    "#add results orig\n",
    "plt.plot([diff_sensitivity_orig,diff_sensitivity_orig], [0,200], label='original value', color='green')\n",
    "#add 5% significance lines\n",
    "lines5 = np.percentile(diffs_sensitivity, [2.5, 97.5])\n",
    "plt.plot([lines5[0],lines5[0]], [0,200], label='0.05 significance', color='red')\n",
    "plt.plot([lines5[1],lines5[1]], [0,200], label='0.05 significance', color='red')\n",
    "plt.title('Difference in sensitivity between models')\n",
    "plt.legend()\n",
    "\n",
    "plt.figure()\n",
    "plt.hist(diffs_specificity, label='permutations between model')\n",
    "#add results orig\n",
    "plt.plot([diff_specificity_orig,diff_specificity_orig], [0,200], label='original value', color='green')\n",
    "#add 5% significance lines\n",
    "lines5 = np.percentile(diffs_specificity, [2.5, 97.5])\n",
    "plt.plot([lines5[0],lines5[0]], [0,200], label='0.05 significance', color='red')\n",
    "plt.plot([lines5[1],lines5[1]], [0,200], label='0.05 significance', color='red')\n",
    "plt.title('Difference in specificity between models')\n",
    "plt.legend()\n",
    "\n",
    "plt.figure()\n",
    "plt.hist(diffs_ppv, label='permutations between model')\n",
    "#add results orig\n",
    "plt.plot([diff_ppv_orig,diff_ppv_orig], [0,200], label='original value', color='green')\n",
    "#add 5% significance lines\n",
    "lines5 = np.percentile(diffs_ppv, [2.5, 97.5])\n",
    "plt.plot([lines5[0],lines5[0]], [0,200], label='0.05 significance', color='red')\n",
    "plt.plot([lines5[1],lines5[1]], [0,200], label='0.05 significance', color='red')\n",
    "plt.title('Difference in ppv between models')\n",
    "plt.legend()\n"
   ]
  },
  {
   "cell_type": "code",
   "execution_count": 24,
   "metadata": {},
   "outputs": [
    {
     "name": "stdout",
     "output_type": "stream",
     "text": [
      "MLP\n",
      "0.5 group\n",
      "False    1.0\n",
      "True     1.0\n",
      "Name: number FP clusters, dtype: float64\n",
      "0.25 group\n",
      "False    0.0\n",
      "True     0.0\n",
      "Name: number FP clusters, dtype: float64\n",
      "0.75 group\n",
      "False    1.0\n",
      "True     2.0\n",
      "Name: number FP clusters, dtype: float64\n",
      "1 group\n",
      "False    16.0\n",
      "True      7.0\n",
      "Name: number FP clusters, dtype: float64\n",
      "MELD graph\n",
      "0.5 group\n",
      "False    1.0\n",
      "True     0.0\n",
      "Name: number FP clusters, dtype: float64\n",
      "0.25 group\n",
      "False    1.0\n",
      "True     0.0\n",
      "Name: number FP clusters, dtype: float64\n",
      "0.75 group\n",
      "False    1.0\n",
      "True     0.0\n",
      "Name: number FP clusters, dtype: float64\n",
      "1 group\n",
      "False    2.0\n",
      "True     5.0\n",
      "Name: number FP clusters, dtype: float64\n"
     ]
    },
    {
     "name": "stderr",
     "output_type": "stream",
     "text": [
      "/tmp/ipykernel_19331/2028796310.py:5: FutureWarning: Dropping invalid columns in DataFrameGroupBy.quantile is deprecated. In a future version, a TypeError will be raised. Before calling .quantile, select only columns which should be valid for the function.\n",
      "  print(quantile,dfsub_mlp.groupby('group').quantile(quantile)['number FP clusters'])\n",
      "/tmp/ipykernel_19331/2028796310.py:5: FutureWarning: Dropping invalid columns in DataFrameGroupBy.quantile is deprecated. In a future version, a TypeError will be raised. Before calling .quantile, select only columns which should be valid for the function.\n",
      "  print(quantile,dfsub_mlp.groupby('group').quantile(quantile)['number FP clusters'])\n",
      "/tmp/ipykernel_19331/2028796310.py:5: FutureWarning: Dropping invalid columns in DataFrameGroupBy.quantile is deprecated. In a future version, a TypeError will be raised. Before calling .quantile, select only columns which should be valid for the function.\n",
      "  print(quantile,dfsub_mlp.groupby('group').quantile(quantile)['number FP clusters'])\n",
      "/tmp/ipykernel_19331/2028796310.py:5: FutureWarning: Dropping invalid columns in DataFrameGroupBy.quantile is deprecated. In a future version, a TypeError will be raised. Before calling .quantile, select only columns which should be valid for the function.\n",
      "  print(quantile,dfsub_mlp.groupby('group').quantile(quantile)['number FP clusters'])\n",
      "/tmp/ipykernel_19331/2028796310.py:10: FutureWarning: Dropping invalid columns in DataFrameGroupBy.quantile is deprecated. In a future version, a TypeError will be raised. Before calling .quantile, select only columns which should be valid for the function.\n",
      "  print(quantile,df.groupby('group').quantile(quantile)['number FP clusters'])\n",
      "/tmp/ipykernel_19331/2028796310.py:10: FutureWarning: Dropping invalid columns in DataFrameGroupBy.quantile is deprecated. In a future version, a TypeError will be raised. Before calling .quantile, select only columns which should be valid for the function.\n",
      "  print(quantile,df.groupby('group').quantile(quantile)['number FP clusters'])\n",
      "/tmp/ipykernel_19331/2028796310.py:10: FutureWarning: Dropping invalid columns in DataFrameGroupBy.quantile is deprecated. In a future version, a TypeError will be raised. Before calling .quantile, select only columns which should be valid for the function.\n",
      "  print(quantile,df.groupby('group').quantile(quantile)['number FP clusters'])\n",
      "/tmp/ipykernel_19331/2028796310.py:10: FutureWarning: Dropping invalid columns in DataFrameGroupBy.quantile is deprecated. In a future version, a TypeError will be raised. Before calling .quantile, select only columns which should be valid for the function.\n",
      "  print(quantile,df.groupby('group').quantile(quantile)['number FP clusters'])\n"
     ]
    }
   ],
   "source": [
    "#number clusters\n",
    "\n",
    "print('MLP')\n",
    "for quantile in [.5,.25,.75,1]:\n",
    "    print(quantile,dfsub_mlp.groupby('group').quantile(quantile)['number FP clusters'])\n",
    "\n",
    "\n",
    "print('MELD graph')\n",
    "for quantile in [.5,.25,.75,1]:\n",
    "    print(quantile,df.groupby('group').quantile(quantile)['number FP clusters'])\n",
    "\n"
   ]
  },
  {
   "cell_type": "markdown",
   "metadata": {},
   "source": [
    "### add breakdown on test dataset"
   ]
  },
  {
   "cell_type": "code",
   "execution_count": 3,
   "metadata": {},
   "outputs": [],
   "source": [
    "# for test dataset\n",
    "experiment_dir = '/rds/project/kw350/rds-kw350-meld/experiments_graph/kw350'\n",
    "model = '23-10-30_LVHZ_dcp'\n",
    "df_model = pd.read_csv(os.path.join(experiment_dir,model,\n",
    "                                          's_0','fold_all','results_best_model','test_results.csv'))\n",
    "\n",
    "cohort= MeldCohort(hdf5_file_root='{site_code}_{group}_featurematrix_combat_6_kernels.hdf5', dataset='MELD_dataset_NewSiteH27H28H101.csv')\n"
   ]
  },
  {
   "cell_type": "code",
   "execution_count": 4,
   "metadata": {},
   "outputs": [
    {
     "data": {
      "text/html": [
       "<div>\n",
       "<style scoped>\n",
       "    .dataframe tbody tr th:only-of-type {\n",
       "        vertical-align: middle;\n",
       "    }\n",
       "\n",
       "    .dataframe tbody tr th {\n",
       "        vertical-align: top;\n",
       "    }\n",
       "\n",
       "    .dataframe thead th {\n",
       "        text-align: right;\n",
       "    }\n",
       "</style>\n",
       "<table border=\"1\" class=\"dataframe\">\n",
       "  <thead>\n",
       "    <tr style=\"text-align: right;\">\n",
       "      <th></th>\n",
       "      <th>ID</th>\n",
       "      <th>group</th>\n",
       "      <th>detected</th>\n",
       "      <th>number FP clusters</th>\n",
       "      <th>number TP clusters</th>\n",
       "      <th>tp</th>\n",
       "      <th>fp</th>\n",
       "      <th>fn</th>\n",
       "      <th>tn</th>\n",
       "      <th>dice lesional</th>\n",
       "      <th>dice non-lesional</th>\n",
       "      <th>Age at preoperative</th>\n",
       "      <th>Sex</th>\n",
       "      <th>Histology</th>\n",
       "      <th>Site</th>\n",
       "      <th>Scanner</th>\n",
       "      <th>FLAIR</th>\n",
       "      <th>Seizure free</th>\n",
       "      <th>Ever reported MRI negative</th>\n",
       "    </tr>\n",
       "  </thead>\n",
       "  <tbody>\n",
       "    <tr>\n",
       "      <th>0</th>\n",
       "      <td>MELD_H2_15T_FCD_0001</td>\n",
       "      <td>True</td>\n",
       "      <td>False</td>\n",
       "      <td>0</td>\n",
       "      <td>0</td>\n",
       "      <td>0</td>\n",
       "      <td>0</td>\n",
       "      <td>271</td>\n",
       "      <td>293533</td>\n",
       "      <td>3.690037e-18</td>\n",
       "      <td>0.999539</td>\n",
       "      <td>20.0</td>\n",
       "      <td>1.0</td>\n",
       "      <td>NaN</td>\n",
       "      <td>H2</td>\n",
       "      <td>15T</td>\n",
       "      <td>False</td>\n",
       "      <td>1.0</td>\n",
       "      <td>0.0</td>\n",
       "    </tr>\n",
       "    <tr>\n",
       "      <th>1</th>\n",
       "      <td>MELD_H2_15T_FCD_0003</td>\n",
       "      <td>True</td>\n",
       "      <td>True</td>\n",
       "      <td>1</td>\n",
       "      <td>1</td>\n",
       "      <td>3826</td>\n",
       "      <td>24434</td>\n",
       "      <td>74</td>\n",
       "      <td>265470</td>\n",
       "      <td>2.379353e-01</td>\n",
       "      <td>0.955877</td>\n",
       "      <td>10.0</td>\n",
       "      <td>0.0</td>\n",
       "      <td>NaN</td>\n",
       "      <td>H2</td>\n",
       "      <td>15T</td>\n",
       "      <td>False</td>\n",
       "      <td>NaN</td>\n",
       "      <td>0.0</td>\n",
       "    </tr>\n",
       "    <tr>\n",
       "      <th>2</th>\n",
       "      <td>MELD_H2_15T_FCD_0005</td>\n",
       "      <td>True</td>\n",
       "      <td>False</td>\n",
       "      <td>2</td>\n",
       "      <td>0</td>\n",
       "      <td>0</td>\n",
       "      <td>20027</td>\n",
       "      <td>262</td>\n",
       "      <td>273515</td>\n",
       "      <td>4.928779e-20</td>\n",
       "      <td>0.964237</td>\n",
       "      <td>20.0</td>\n",
       "      <td>1.0</td>\n",
       "      <td>NaN</td>\n",
       "      <td>H2</td>\n",
       "      <td>15T</td>\n",
       "      <td>False</td>\n",
       "      <td>NaN</td>\n",
       "      <td>0.0</td>\n",
       "    </tr>\n",
       "    <tr>\n",
       "      <th>3</th>\n",
       "      <td>MELD_H2_15T_FCD_0007</td>\n",
       "      <td>True</td>\n",
       "      <td>True</td>\n",
       "      <td>0</td>\n",
       "      <td>1</td>\n",
       "      <td>2058</td>\n",
       "      <td>3928</td>\n",
       "      <td>205</td>\n",
       "      <td>287613</td>\n",
       "      <td>4.989696e-01</td>\n",
       "      <td>0.992866</td>\n",
       "      <td>4.0</td>\n",
       "      <td>1.0</td>\n",
       "      <td>FCD_2B</td>\n",
       "      <td>H2</td>\n",
       "      <td>15T</td>\n",
       "      <td>False</td>\n",
       "      <td>1.0</td>\n",
       "      <td>0.0</td>\n",
       "    </tr>\n",
       "    <tr>\n",
       "      <th>4</th>\n",
       "      <td>MELD_H2_15T_FCD_0008</td>\n",
       "      <td>True</td>\n",
       "      <td>True</td>\n",
       "      <td>0</td>\n",
       "      <td>1</td>\n",
       "      <td>103</td>\n",
       "      <td>52023</td>\n",
       "      <td>867</td>\n",
       "      <td>240811</td>\n",
       "      <td>3.879765e-03</td>\n",
       "      <td>0.901050</td>\n",
       "      <td>10.0</td>\n",
       "      <td>1.0</td>\n",
       "      <td>NaN</td>\n",
       "      <td>H2</td>\n",
       "      <td>15T</td>\n",
       "      <td>False</td>\n",
       "      <td>NaN</td>\n",
       "      <td>0.0</td>\n",
       "    </tr>\n",
       "  </tbody>\n",
       "</table>\n",
       "</div>"
      ],
      "text/plain": [
       "                     ID  group  detected  number FP clusters  \\\n",
       "0  MELD_H2_15T_FCD_0001   True     False                   0   \n",
       "1  MELD_H2_15T_FCD_0003   True      True                   1   \n",
       "2  MELD_H2_15T_FCD_0005   True     False                   2   \n",
       "3  MELD_H2_15T_FCD_0007   True      True                   0   \n",
       "4  MELD_H2_15T_FCD_0008   True      True                   0   \n",
       "\n",
       "   number TP clusters    tp     fp   fn      tn  dice lesional  \\\n",
       "0                   0     0      0  271  293533   3.690037e-18   \n",
       "1                   1  3826  24434   74  265470   2.379353e-01   \n",
       "2                   0     0  20027  262  273515   4.928779e-20   \n",
       "3                   1  2058   3928  205  287613   4.989696e-01   \n",
       "4                   1   103  52023  867  240811   3.879765e-03   \n",
       "\n",
       "   dice non-lesional  Age at preoperative  Sex Histology Site Scanner  FLAIR  \\\n",
       "0           0.999539                 20.0  1.0       NaN   H2     15T  False   \n",
       "1           0.955877                 10.0  0.0       NaN   H2     15T  False   \n",
       "2           0.964237                 20.0  1.0       NaN   H2     15T  False   \n",
       "3           0.992866                  4.0  1.0    FCD_2B   H2     15T  False   \n",
       "4           0.901050                 10.0  1.0       NaN   H2     15T  False   \n",
       "\n",
       "   Seizure free  Ever reported MRI negative  \n",
       "0           1.0                         0.0  \n",
       "1           NaN                         0.0  \n",
       "2           NaN                         0.0  \n",
       "3           1.0                         0.0  \n",
       "4           NaN                         0.0  "
      ]
     },
     "execution_count": 4,
     "metadata": {},
     "output_type": "execute_result"
    }
   ],
   "source": [
    "# add demographic\n",
    "age_array=[]\n",
    "sex_array=[]\n",
    "histo_array=[]\n",
    "site_array=[]\n",
    "scanner_array=[]\n",
    "flair_array=[]\n",
    "group_array=[]\n",
    "sf_array=[]\n",
    "mri_negative_array=[]\n",
    "for subject in df_model['ID']:\n",
    "    subj = MeldSubject(subject, cohort)\n",
    "    age, sex, histo, site, sf, mri_negative = subj.get_demographic_features([\"Age at preoperative\", \"Sex\", \"Histology\", \"Site\", \"Seizure free\", \"Ever reported MRI negative\"])\n",
    "    scanner_array.append(subj.scanner)\n",
    "    age_array.append(age)\n",
    "    sex_array.append(sex)\n",
    "    histo_array.append(histo)\n",
    "    site_array.append(site)\n",
    "    sf_array.append(sf)\n",
    "    flair_array.append(subj.has_flair)\n",
    "    mri_negative_array.append(mri_negative)\n",
    "\n",
    "    \n",
    "df_model['Age at preoperative']=age_array\n",
    "df_model['Sex']=sex_array\n",
    "df_model['Histology']=histo_array\n",
    "df_model['Site']=site_array\n",
    "df_model['Scanner']=scanner_array\n",
    "df_model['FLAIR']=flair_array\n",
    "df_model['Seizure free']=sf_array\n",
    "df_model['Ever reported MRI negative'] = mri_negative_array\n",
    "\n",
    "df_model.head()"
   ]
  },
  {
   "cell_type": "code",
   "execution_count": 52,
   "metadata": {},
   "outputs": [],
   "source": [
    "pat = df_model[df_model['group']==True]"
   ]
  },
  {
   "cell_type": "code",
   "execution_count": 95,
   "metadata": {},
   "outputs": [],
   "source": [
    "def compute_pval(df_var,diff_orig, var='Seizure free'):\n",
    "    diffs = []\n",
    "    for i in range(0,1000):\n",
    "        df_shuffle = df_var.copy()\n",
    "        np.random.shuffle(df_shuffle[var].values)\n",
    "        disp_df_shuffle=pd.DataFrame(100*df_shuffle.groupby([var]).mean()['detected']).round(1)\n",
    "        diffs.append(disp_df_shuffle['detected'].values[1]-disp_df_shuffle['detected'].values[0])\n",
    "\n",
    "    pval = sum(abs(diff) > abs(diff_orig) for diff in diffs) / len(diffs)\n",
    "    print(pval)\n",
    "    \n",
    "    #plot results shuffle\n",
    "    plt.figure()\n",
    "    plt.hist(diffs, label='permutations between group')\n",
    "    #add results orig\n",
    "    plt.plot([diff_orig,diff_orig], [0,200], label='original value', color='green')\n",
    "    #add 5% significance lines\n",
    "    lines5 = np.percentile(diffs, [2.5, 97.5])\n",
    "    plt.plot([lines5[0],lines5[0]], [0,200], label='0.05 significance', color='red')\n",
    "    plt.plot([lines5[1],lines5[1]], [0,200], label='0.05 significance', color='red')\n",
    "    plt.title(f'Difference between group {var}')\n",
    "    plt.legend()\n",
    "    \n",
    "    return pval"
   ]
  },
  {
   "cell_type": "code",
   "execution_count": 51,
   "metadata": {},
   "outputs": [
    {
     "data": {
      "text/html": [
       "<div>\n",
       "<style scoped>\n",
       "    .dataframe tbody tr th:only-of-type {\n",
       "        vertical-align: middle;\n",
       "    }\n",
       "\n",
       "    .dataframe tbody tr th {\n",
       "        vertical-align: top;\n",
       "    }\n",
       "\n",
       "    .dataframe thead th {\n",
       "        text-align: right;\n",
       "    }\n",
       "</style>\n",
       "<table border=\"1\" class=\"dataframe\">\n",
       "  <thead>\n",
       "    <tr style=\"text-align: right;\">\n",
       "      <th></th>\n",
       "      <th>detected</th>\n",
       "      <th>count</th>\n",
       "    </tr>\n",
       "    <tr>\n",
       "      <th>Scanner</th>\n",
       "      <th></th>\n",
       "      <th></th>\n",
       "    </tr>\n",
       "  </thead>\n",
       "  <tbody>\n",
       "    <tr>\n",
       "      <th>15T</th>\n",
       "      <td>62.5</td>\n",
       "      <td>56</td>\n",
       "    </tr>\n",
       "    <tr>\n",
       "      <th>3T</th>\n",
       "      <td>72.5</td>\n",
       "      <td>204</td>\n",
       "    </tr>\n",
       "  </tbody>\n",
       "</table>\n",
       "</div>"
      ],
      "text/plain": [
       "         detected  count\n",
       "Scanner                 \n",
       "15T          62.5     56\n",
       "3T           72.5    204"
      ]
     },
     "execution_count": 51,
     "metadata": {},
     "output_type": "execute_result"
    }
   ],
   "source": [
    "disp_df=pd.DataFrame(100*pat.groupby('Scanner').mean()['detected']).round(1)\n",
    "disp_df['count'] = pat.groupby('Scanner').count()['detected']\n",
    "disp_df"
   ]
  },
  {
   "cell_type": "code",
   "execution_count": 7,
   "metadata": {},
   "outputs": [
    {
     "data": {
      "text/html": [
       "<div>\n",
       "<style scoped>\n",
       "    .dataframe tbody tr th:only-of-type {\n",
       "        vertical-align: middle;\n",
       "    }\n",
       "\n",
       "    .dataframe tbody tr th {\n",
       "        vertical-align: top;\n",
       "    }\n",
       "\n",
       "    .dataframe thead th {\n",
       "        text-align: right;\n",
       "    }\n",
       "</style>\n",
       "<table border=\"1\" class=\"dataframe\">\n",
       "  <thead>\n",
       "    <tr style=\"text-align: right;\">\n",
       "      <th></th>\n",
       "      <th></th>\n",
       "      <th>detected</th>\n",
       "      <th>count</th>\n",
       "    </tr>\n",
       "    <tr>\n",
       "      <th>Scanner</th>\n",
       "      <th>FLAIR</th>\n",
       "      <th></th>\n",
       "      <th></th>\n",
       "    </tr>\n",
       "  </thead>\n",
       "  <tbody>\n",
       "    <tr>\n",
       "      <th rowspan=\"2\" valign=\"top\">15T</th>\n",
       "      <th>False</th>\n",
       "      <td>58.3</td>\n",
       "      <td>36</td>\n",
       "    </tr>\n",
       "    <tr>\n",
       "      <th>True</th>\n",
       "      <td>70.0</td>\n",
       "      <td>20</td>\n",
       "    </tr>\n",
       "    <tr>\n",
       "      <th rowspan=\"2\" valign=\"top\">3T</th>\n",
       "      <th>False</th>\n",
       "      <td>71.9</td>\n",
       "      <td>114</td>\n",
       "    </tr>\n",
       "    <tr>\n",
       "      <th>True</th>\n",
       "      <td>73.3</td>\n",
       "      <td>90</td>\n",
       "    </tr>\n",
       "  </tbody>\n",
       "</table>\n",
       "</div>"
      ],
      "text/plain": [
       "               detected  count\n",
       "Scanner FLAIR                 \n",
       "15T     False      58.3     36\n",
       "        True       70.0     20\n",
       "3T      False      71.9    114\n",
       "        True       73.3     90"
      ]
     },
     "execution_count": 7,
     "metadata": {},
     "output_type": "execute_result"
    }
   ],
   "source": [
    "disp_df=pd.DataFrame(100*pat.groupby(['Scanner','FLAIR']).mean()['detected']).round(1)\n",
    "disp_df['count'] = pat.groupby(['Scanner','FLAIR']).count()['detected']\n",
    "disp_df"
   ]
  },
  {
   "cell_type": "code",
   "execution_count": 96,
   "metadata": {},
   "outputs": [
    {
     "name": "stdout",
     "output_type": "stream",
     "text": [
      "              detected  count\n",
      "Seizure free                 \n",
      "0.0               64.7     51\n",
      "1.0               79.2    106\n",
      "0.077\n",
      "-14.5 0.077\n"
     ]
    },
    {
     "data": {
      "image/png": "[encoded data removed]",
      "text/plain": [
       "<Figure size 432x288 with 1 Axes>"
      ]
     },
     "metadata": {
      "needs_background": "light"
     },
     "output_type": "display_data"
    }
   ],
   "source": [
    "disp_df=pd.DataFrame(100*pat.groupby(['Seizure free']).mean()['detected']).round(1)\n",
    "disp_df['count'] = pat.groupby(['Seizure free']).count()['detected']\n",
    "print(disp_df)\n",
    "\n",
    "#get difference and pval\n",
    "diff_orig = disp_df['detected'].values[0]-disp_df['detected'].values[1]\n",
    "var='Seizure free'\n",
    "pval= compute_pval(pat[['detected',var]], diff_orig, var=var)\n",
    "print(diff_orig, pval)\n"
   ]
  },
  {
   "cell_type": "code",
   "execution_count": 97,
   "metadata": {},
   "outputs": [
    {
     "name": "stdout",
     "output_type": "stream",
     "text": [
      "     detected  count\n",
      "Sex                 \n",
      "0.0      64.0    125\n",
      "1.0      76.3    135\n",
      "0.032\n",
      "-12.299999999999997 0.032\n"
     ]
    },
    {
     "data": {
      "image/png": "[encoded data removed]",
      "text/plain": [
       "<Figure size 432x288 with 1 Axes>"
      ]
     },
     "metadata": {
      "needs_background": "light"
     },
     "output_type": "display_data"
    }
   ],
   "source": [
    "disp_df=pd.DataFrame(100*pat.groupby(['Sex']).mean()['detected']).round(1)\n",
    "disp_df['count'] = pat.groupby(['Sex']).count()['detected']\n",
    "print(disp_df)\n",
    "\n",
    "#get difference and pval\n",
    "diff_orig = disp_df['detected'].values[0]-disp_df['detected'].values[1]\n",
    "var='Sex'\n",
    "pval= compute_pval(pat[['detected',var]], diff_orig, var=var)\n",
    "print(diff_orig, pval)"
   ]
  },
  {
   "cell_type": "code",
   "execution_count": 98,
   "metadata": {},
   "outputs": [
    {
     "name": "stderr",
     "output_type": "stream",
     "text": [
      "/tmp/ipykernel_238123/2762467530.py:1: SettingWithCopyWarning: \n",
      "A value is trying to be set on a copy of a slice from a DataFrame.\n",
      "Try using .loc[row_indexer,col_indexer] = value instead\n",
      "\n",
      "See the caveats in the documentation: https://pandas.pydata.org/pandas-docs/stable/user_guide/indexing.html#returning-a-view-versus-a-copy\n",
      "  pat['Histology'] = pat['Histology'].fillna('not available')\n"
     ]
    },
    {
     "name": "stdout",
     "output_type": "stream",
     "text": [
      "               % Detected  n patients\n",
      "Histology                            \n",
      "FCD_1                84.6          13\n",
      "FCD_2A               75.4          57\n",
      "FCD_2B               76.3          93\n",
      "FCD_3                75.0           8\n",
      "not available        58.4          89\n",
      "0.468\n",
      "FCD_2A\n",
      "-9.199999999999989 0.468\n",
      "0.491\n",
      "FCD_2B\n",
      "-8.299999999999997 0.491\n",
      "0.601\n",
      "FCD_3\n",
      "-9.599999999999994 0.601\n",
      "0.077\n",
      "not available\n",
      "-26.199999999999996 0.077\n"
     ]
    },
    {
     "data": {
      "image/png": "[encoded data removed]",
      "text/plain": [
       "<Figure size 432x288 with 1 Axes>"
      ]
     },
     "metadata": {
      "needs_background": "light"
     },
     "output_type": "display_data"
    },
    {
     "data": {
      "image/png": "[encoded data removed]",
      "text/plain": [
       "<Figure size 432x288 with 1 Axes>"
      ]
     },
     "metadata": {
      "needs_background": "light"
     },
     "output_type": "display_data"
    },
    {
     "data": {
      "image/png": "[encoded data removed]",
      "text/plain": [
       "<Figure size 432x288 with 1 Axes>"
      ]
     },
     "metadata": {
      "needs_background": "light"
     },
     "output_type": "display_data"
    },
    {
     "data": {
      "image/png": "[encoded data removed]",
      "text/plain": [
       "<Figure size 432x288 with 1 Axes>"
      ]
     },
     "metadata": {
      "needs_background": "light"
     },
     "output_type": "display_data"
    }
   ],
   "source": [
    "pat['Histology'] = pat['Histology'].fillna('not available')\n",
    "disp_df=pd.DataFrame(100*pat.groupby(['Histology']).mean()['detected']).round(1)\n",
    "disp_df['n patients'] = pat.groupby(['Histology']).count()['detected']\n",
    "print(disp_df.rename(columns={'detected':'% Detected'}))\n",
    "\n",
    "#get difference and pval\n",
    "for i,histo in enumerate(['FCD_2A', 'FCD_2B', 'FCD_3', 'not available']):\n",
    "    diff_orig = disp_df['detected'].values[i+1]-disp_df['detected'].values[0]\n",
    "    var='Histology'\n",
    "    subdf = pat[(pat['Histology']=='FCD_1') | (pat['Histology']==histo)].copy()\n",
    "    pval= compute_pval(subdf[['detected',var]], diff_orig, var=var)\n",
    "    print(histo)\n",
    "    print(diff_orig, pval)"
   ]
  },
  {
   "cell_type": "code",
   "execution_count": 99,
   "metadata": {},
   "outputs": [
    {
     "name": "stdout",
     "output_type": "stream",
     "text": [
      "                            detected  count\n",
      "Ever reported MRI negative                 \n",
      "0.0                             72.8    180\n",
      "1.0                             65.0     80\n",
      "0.174\n",
      "7.799999999999997 0.174\n"
     ]
    },
    {
     "data": {
      "image/png": "[encoded data removed]",
      "text/plain": [
       "<Figure size 432x288 with 1 Axes>"
      ]
     },
     "metadata": {
      "needs_background": "light"
     },
     "output_type": "display_data"
    }
   ],
   "source": [
    "disp_df=pd.DataFrame(100*pat.groupby(['Ever reported MRI negative']).mean()['detected']).round(1)\n",
    "disp_df['count'] = pat.groupby(['Ever reported MRI negative']).count()['detected']\n",
    "print(disp_df)\n",
    "\n",
    "#get difference and pval\n",
    "diff_orig = disp_df['detected'].values[0]-disp_df['detected'].values[1]\n",
    "var='Ever reported MRI negative'\n",
    "pval= compute_pval(pat[['detected',var]], diff_orig, var=var)\n",
    "print(diff_orig, pval)"
   ]
  },
  {
   "cell_type": "code",
   "execution_count": 100,
   "metadata": {},
   "outputs": [
    {
     "name": "stderr",
     "output_type": "stream",
     "text": [
      "/tmp/ipykernel_238123/4152983771.py:1: SettingWithCopyWarning: \n",
      "A value is trying to be set on a copy of a slice from a DataFrame.\n",
      "Try using .loc[row_indexer,col_indexer] = value instead\n",
      "\n",
      "See the caveats in the documentation: https://pandas.pydata.org/pandas-docs/stable/user_guide/indexing.html#returning-a-view-versus-a-copy\n",
      "  pat['paediatric'] = pat['Age at preoperative']<18\n"
     ]
    },
    {
     "name": "stdout",
     "output_type": "stream",
     "text": [
      "            detected  count\n",
      "paediatric                 \n",
      "False           69.5    131\n",
      "True            71.3    129\n",
      "0.697\n",
      "-1.7999999999999972 0.697\n"
     ]
    },
    {
     "data": {
      "image/png": "[encoded data removed]",
      "text/plain": [
       "<Figure size 432x288 with 1 Axes>"
      ]
     },
     "metadata": {
      "needs_background": "light"
     },
     "output_type": "display_data"
    }
   ],
   "source": [
    "pat['paediatric'] = pat['Age at preoperative']<18\n",
    "disp_df=pd.DataFrame(100*pat.groupby(['paediatric']).mean()['detected']).round(1)\n",
    "disp_df['count'] = pat.groupby(['paediatric']).count()['detected']\n",
    "print(disp_df)\n",
    "\n",
    "#get difference and pval\n",
    "diff_orig = disp_df['detected'].values[0]-disp_df['detected'].values[1]\n",
    "var='paediatric'\n",
    "pval= compute_pval(pat[['detected',var]], diff_orig, var=var)\n",
    "print(diff_orig, pval)"
   ]
  },
  {
   "cell_type": "code",
   "execution_count": 29,
   "metadata": {},
   "outputs": [
    {
     "name": "stderr",
     "output_type": "stream",
     "text": [
      "/tmp/ipykernel_278813/3171424778.py:1: SettingWithCopyWarning: \n",
      "A value is trying to be set on a copy of a slice from a DataFrame.\n",
      "Try using .loc[row_indexer,col_indexer] = value instead\n",
      "\n",
      "See the caveats in the documentation: https://pandas.pydata.org/pandas-docs/stable/user_guide/indexing.html#returning-a-view-versus-a-copy\n",
      "  pat['Histology'] = pat['Histology'].fillna('not available')\n",
      "/tmp/ipykernel_278813/3171424778.py:2: SettingWithCopyWarning: \n",
      "A value is trying to be set on a copy of a slice from a DataFrame.\n",
      "Try using .loc[row_indexer,col_indexer] = value instead\n",
      "\n",
      "See the caveats in the documentation: https://pandas.pydata.org/pandas-docs/stable/user_guide/indexing.html#returning-a-view-versus-a-copy\n",
      "  pat['Histology']= pat['Histology']=='not available'\n"
     ]
    },
    {
     "data": {
      "text/html": [
       "<div>\n",
       "<style scoped>\n",
       "    .dataframe tbody tr th:only-of-type {\n",
       "        vertical-align: middle;\n",
       "    }\n",
       "\n",
       "    .dataframe tbody tr th {\n",
       "        vertical-align: top;\n",
       "    }\n",
       "\n",
       "    .dataframe thead th {\n",
       "        text-align: right;\n",
       "    }\n",
       "</style>\n",
       "<table border=\"1\" class=\"dataframe\">\n",
       "  <thead>\n",
       "    <tr style=\"text-align: right;\">\n",
       "      <th></th>\n",
       "      <th>% Detected</th>\n",
       "      <th>n patients</th>\n",
       "    </tr>\n",
       "    <tr>\n",
       "      <th>Histology</th>\n",
       "      <th></th>\n",
       "      <th></th>\n",
       "    </tr>\n",
       "  </thead>\n",
       "  <tbody>\n",
       "    <tr>\n",
       "      <th>False</th>\n",
       "      <td>76.6</td>\n",
       "      <td>171</td>\n",
       "    </tr>\n",
       "    <tr>\n",
       "      <th>True</th>\n",
       "      <td>58.4</td>\n",
       "      <td>89</td>\n",
       "    </tr>\n",
       "  </tbody>\n",
       "</table>\n",
       "</div>"
      ],
      "text/plain": [
       "           % Detected  n patients\n",
       "Histology                        \n",
       "False            76.6         171\n",
       "True             58.4          89"
      ]
     },
     "execution_count": 29,
     "metadata": {},
     "output_type": "execute_result"
    }
   ],
   "source": [
    "pat['Histology'] = pat['Histology'].fillna('not available')\n",
    "pat['Histology']= pat['Histology']=='not available'\n",
    "disp_df=pd.DataFrame(100*pat.groupby(['Histology']).mean()['detected']).round(1)\n",
    "disp_df['n patients'] = pat.groupby(['Histology']).count()['detected']\n",
    "disp_df.rename(columns={'detected':'% Detected'})"
   ]
  }
 ],
 "metadata": {
  "kernelspec": {
   "display_name": "Python 3",
   "language": "python",
   "name": "python3"
  },
  "language_info": {
   "codemirror_mode": {
    "name": "ipython",
    "version": 3
   },
   "file_extension": ".py",
   "mimetype": "text/x-python",
   "name": "python",
   "nbconvert_exporter": "python",
   "pygments_lexer": "ipython3",
   "version": "3.9.10"
  },
  "vscode": {
   "interpreter": {
    "hash": "26e275ceef4766aa0e798dd77381c3d2e5e3e504ec96375b0267e7506358c3a2"
   }
  }
 },
 "nbformat": 4,
 "nbformat_minor": 2
}
