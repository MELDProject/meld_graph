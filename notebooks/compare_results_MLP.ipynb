{
 "cells": [
  {
   "cell_type": "markdown",
   "metadata": {},
   "source": [
    "## Notebook to compare final results MELD graph vs MELD per vertex\n",
    "Results on test cohort and independant sites"
   ]
  },
  {
   "cell_type": "code",
   "execution_count": null,
   "metadata": {},
   "outputs": [],
   "source": [
    "#imports\n",
    "import os\n",
    "import numpy as np\n",
    "import h5py\n",
    "import matplotlib.pyplot as plt\n",
    "import seaborn as sns\n",
    "import sys\n",
    "from meld_classifier.meld_cohort import MeldSubject,MeldCohort\n",
    "from meld_graph.training import tp_fp_fn_tn, dice_coeff\n",
    "from meld_graph.icospheres import IcoSpheres\n",
    "from meld_graph.graph_tools import GraphTools\n",
    "import itertools\n",
    "import pandas as pd\n",
    "from meld_graph.evaluation import load_prediction\n",
    "from meld_graph import experiment"
   ]
  },
  {
   "cell_type": "markdown",
   "metadata": {},
   "source": [
    "## Compare results MLP and Graph model"
   ]
  },
  {
   "cell_type": "code",
   "execution_count": 2,
   "metadata": {},
   "outputs": [],
   "source": [
    "\n",
    "def df_stats(df, metrics=['sensitivity','specificity', 'ppv', 'IOU', 'IOU+']):\n",
    "    metric_results = []\n",
    "    for metric in metrics:\n",
    "        if metric == 'sensitivity':\n",
    "            sensitivity = np.mean(df['detected'][df['group']])\n",
    "            metric_results.append(round(sensitivity,2))\n",
    "        elif metric == 'specificity':\n",
    "            specificity = (df['number FP clusters'][df['group']==False]==0).mean()\n",
    "            metric_results.append(round(specificity,2))\n",
    "        elif metric == 'ppv':\n",
    "            total_detected = np.sum(df['number TP clusters'][df['group']])\n",
    "            total_predicted = np.sum(df['number FP clusters'][df['group']])\n",
    "            ppv = total_detected / (total_predicted + total_detected)\n",
    "            metric_results.append(round(ppv,2))\n",
    "        elif metric == 'IOU':\n",
    "            iou = np.mean(df[(df['group'])&(df['detected'])]['IOU'])\n",
    "            metric_results.append(round(iou,2))\n",
    "        elif metric == 'IOU+':\n",
    "            iou_plus = np.mean(df[(df['group'])&(df['detected'])]['IOU_plus'])\n",
    "            metric_results.append(round(iou_plus,2))\n",
    "        else:\n",
    "            print(f'Metric {metric} does not exist')\n",
    "            pass\n",
    "    return metric_results\n",
    "\n",
    "# bootstrapped confidence intervals\n",
    "def bootstrap_CI(df, n=10000, func=df_stats):\n",
    "    \"\"\"Calculate confidence intervals for a given function\"\"\"\n",
    "    bootstrapped = []\n",
    "    for i in range(n):\n",
    "        bootstrapped.append(func(df.sample(len(df), replace=True)))\n",
    "    return np.percentile(np.array(bootstrapped), [2.5, 97.5],axis=0)\n",
    "\n",
    "def get_pvalue(stat, distribution):\n",
    "    p_pos = np.mean(distribution > stat)\n",
    "    p_neg = np.mean(distribution < stat)\n",
    "    p = min(p_pos,p_neg)*2\n",
    "    return p"
   ]
  },
  {
   "cell_type": "markdown",
   "metadata": {},
   "source": [
    "### load per-vertex results"
   ]
  },
  {
   "cell_type": "code",
   "execution_count": 3,
   "metadata": {},
   "outputs": [],
   "source": [
    "def load_cohort_mlp(dataset):\n",
    "    # Load the MELD cohort\n",
    "    if dataset == 'test':\n",
    "        ref = 'experiments/co-ripa1/iteration_21-09-15/ensemble_21-09-15/fold_all/results'\n",
    "        with h5py.File(os.path.join(ref, 'predictions_ensemble_iteration.hdf5'), \"r\") as f:\n",
    "            subjects = list(f.keys())\n",
    "        subjects.remove('MELD_H4_3T_FCD_0011') # because does not exist in graph model\n",
    "        cohort = MeldCohort(hdf5_file_root='{site_code}_{group}_featurematrix_combat_6.hdf5',\n",
    "                dataset='MELD_dataset_V6.csv')\n",
    "    elif dataset == 'indi_test':\n",
    "        refh27h28 = 'experiments/co-ripa1/predict_NewSiteH27H28_21-09-20/fold_all/results'\n",
    "        refh101 = 'experiments/co-ripa1/predict_NewSiteH101_24-02-20/results'\n",
    "        with h5py.File(os.path.join(refh27h28, 'predictions_ensemble_iteration.hdf5'), \"r\") as f:\n",
    "            subjects = list(f.keys())\n",
    "        with h5py.File(os.path.join(refh101, 'predictions_ensemble_iteration.hdf5'), \"r\") as f:\n",
    "            subjects = subjects + list(f.keys())\n",
    "        cohort= MeldCohort(hdf5_file_root='{site_code}_{group}_featurematrix_combat_6_kernels_robustCombat_NewSite.hdf5', dataset='MELD_dataset_NewSiteH27H28H101.csv')\n",
    "    else:\n",
    "        raise ValueError('Unknown dataset')\n",
    "    return cohort, subjects"
   ]
  },
  {
   "cell_type": "code",
   "execution_count": 4,
   "metadata": {},
   "outputs": [],
   "source": [
    "#dataset one of ['test','indi_test']\n",
    "dataset = 'indi_test'\n",
    "\n",
    "#for H101 boundaries\n",
    "cohort2= MeldCohort(hdf5_file_root='{site_code}_{group}_featurematrix_combat_fastsurfer_harmonised_NewSite.hdf5', \n",
    "                           dataset='MELD_dataset_NewSiteH27H28H101_nc.csv')\n",
    "\n",
    "cohort, subjects =  load_cohort_mlp(dataset)\n",
    "refh27h28 = 'experiments/co-ripa1/predict_NewSiteH27H28_21-09-20/fold_all/results'\n",
    "refh101 = 'experiments/co-ripa1/predict_NewSiteH101_24-02-20/results'\n",
    "ref = 'experiments/co-ripa1/iteration_21-09-15/ensemble_21-09-15/fold_all/results'\n"
   ]
  },
  {
   "cell_type": "code",
   "execution_count": null,
   "metadata": {},
   "outputs": [],
   "source": [
    "#load the predictions\n",
    "df_mlp=pd.DataFrame()\n",
    "subjects_dictionary={}\n",
    "#values becomes each row of the dataframe\n",
    "\n",
    "for si,subj in enumerate(subjects):\n",
    "    values={}\n",
    "    if si%100==0:\n",
    "        print(si)\n",
    "    values['ID']=subj\n",
    "    #load the subject\n",
    "    if \"H101\" in subj:\n",
    "        s = MeldSubject(subj,cohort=cohort2)\n",
    "    else:\n",
    "        s = MeldSubject(subj,cohort=cohort)\n",
    "    #add the group\n",
    "    values['group']= True if s.group=='patient' else False\n",
    "    labels_hemis = {}\n",
    "    dists={}\n",
    "    labels = np.zeros(len(cohort.cortex_label)*2)\n",
    "    #load the borderzone\n",
    "    for hemi in ['lh','rh']:\n",
    "        dists[hemi], labels_hemis[hemi] = s.load_feature_lesion_data(\n",
    "                    features=['.on_lh.boundary_zone.mgh'], hemi=hemi, features_to_ignore=[]\n",
    "                )\n",
    "        if np.sum(dists[hemi])==0:\n",
    "            dists[hemi] +=200\n",
    "    labels = np.hstack([labels_hemis['lh'][cohort.cortex_mask],labels_hemis['rh'][cohort.cortex_mask]])\n",
    "    borderzones = np.vstack([dists['lh'][cohort.cortex_mask,:],dists['rh'][cohort.cortex_mask,:]]).ravel()<20\n",
    "    #load pred from old classifier\n",
    "    if 'H101' in subj:\n",
    "        pred_file_old = os.path.join(refh101, 'predictions_ensemble_iteration.hdf5')\n",
    "    elif ('H27' in subj) or ('H28' in subj):\n",
    "        pred_file_old = os.path.join(refh27h28, 'predictions_ensemble_iteration.hdf5')\n",
    "    else:\n",
    "        pred_file_old = os.path.join(ref, 'predictions_ensemble_iteration.hdf5')\n",
    "\n",
    "    result_hemis_old = load_prediction(subj,pred_file_old, dset='prediction')\n",
    "    result_old = np.hstack([result_hemis_old['lh'],result_hemis_old['rh']])\n",
    "    values['model']='per vertex'\n",
    "    \n",
    "    #add detection with borderzone\n",
    "    if labels.sum()>0:\n",
    "        values['detected'] = np.logical_and(result_old, borderzones).any()\n",
    "        # add number of TP clusters - number of clusters that are in the borderzone\n",
    "        clusters_in_borderzone = set(result_old[borderzones.astype('bool')])\n",
    "        #remove the 0 cluster\n",
    "        if 0 in clusters_in_borderzone:\n",
    "            clusters_in_borderzone.remove(0)\n",
    "        values['number TP clusters'] = len(clusters_in_borderzone)\n",
    "        values['size_pred'] = len(result_old[borderzones.astype('bool')])\n",
    "        values['IOU'] = (np.logical_and(result_old, labels)).sum() / (np.logical_or(result_old, labels)).sum()\n",
    "        values['IOU_plus'] = (np.logical_and(result_old, borderzones)).sum() / (np.logical_or(result_old, borderzones)).sum()\n",
    "    else:\n",
    "        values['number TP clusters'] = 0\n",
    "        values['size_pred'] = np.nan\n",
    "        values['IOU'] = np.nan\n",
    "        values['IOU_plus'] = np.nan\n",
    "    # add number of FP clusters : total clusters - TP clusters\n",
    "    values['number FP clusters']=len(set(result_hemis_old['lh']))+len(set(result_hemis_old['rh']))-2-values['number TP clusters']\n",
    "    df_mlp=pd.concat([df_mlp,pd.DataFrame([values])])\n",
    "df_mlp = df_mlp.reset_index()\n",
    "df_mlp.head()"
   ]
  },
  {
   "cell_type": "code",
   "execution_count": 6,
   "metadata": {},
   "outputs": [
    {
     "name": "stdout",
     "output_type": "stream",
     "text": [
      "all together\n",
      "217\n",
      "sensitivity specificity ppv iou iou+\n",
      "0.77 0.47 0.46 0.27 0.08\n",
      "[[0.69 0.37 0.4  0.23 0.07]\n",
      " [0.84 0.56 0.53 0.3  0.1 ]]\n",
      "H27\n",
      "sensitivity specificity ppv iou iou+\n",
      "0.94 0.17 0.52 0.3 0.13\n",
      "H28\n",
      "sensitivity specificity ppv iou iou+\n",
      "0.62 nan 0.32 0.19 0.07\n",
      "H101\n",
      "sensitivity specificity ppv iou iou+\n",
      "0.76 0.53 0.49 0.27 0.08\n"
     ]
    }
   ],
   "source": [
    "# results MLP model\n",
    "print('all together')\n",
    "dfsub = df_mlp.copy()\n",
    "# dfsub_mlp = dfsub.copy()\n",
    "print(len(dfsub))\n",
    "sensitivity_mlp, specificity_mlp, ppv_mlp, iou_mlp, iou_plus_mlp = df_stats(dfsub)\n",
    "print('sensitivity specificity ppv iou iou+')\n",
    "print(sensitivity_mlp,specificity_mlp, ppv_mlp, iou_mlp, iou_plus_mlp)\n",
    "CI_mlp = bootstrap_CI(dfsub)\n",
    "print(CI_mlp)\n",
    "\n",
    "if dataset=='indi_test':\n",
    "    try:\n",
    "        for site in ['H27', 'H28', 'H101']:\n",
    "            print(site)\n",
    "            dfsub = df_mlp[df_mlp['ID'].str.contains(site)]\n",
    "            sensitivity, specificity, ppv, iou, iou_plus = df_stats(dfsub)\n",
    "            print('sensitivity specificity ppv iou iou+')\n",
    "            print(sensitivity,specificity,ppv, iou, iou_plus)\n",
    "    except:\n",
    "        pass"
   ]
  },
  {
   "cell_type": "markdown",
   "metadata": {},
   "source": [
    "### load results for meld graph model"
   ]
  },
  {
   "cell_type": "code",
   "execution_count": 7,
   "metadata": {},
   "outputs": [],
   "source": [
    "def load_cohort_graph(dataset,model,no_combat=False):\n",
    "\n",
    "    # Load the MELD cohort\n",
    "    nc = ''\n",
    "    if no_combat:\n",
    "        nc = '_nc'\n",
    "    if dataset == 'test':\n",
    "        experiment_dir = 'experiments_graph/kw350'\n",
    "        #old threshold system (0.5 or 0.01)\n",
    "        pred_file = os.path.join(experiment_dir,model,'s_0','fold_all','results_best_model', 'predictions.hdf5')\n",
    "        #new threshold system (0.5 or slope 0.2 to 0.01)\n",
    "        pred_file = os.path.join(experiment_dir,model,'s_0','fold_all_newthreshold', 'results_best_model', 'predictions.hdf5')\n",
    "        cohort= MeldCohort(hdf5_file_root='{site_code}_{group}_featurematrix_combat_6_kernels_noCombat.hdf5',\n",
    "                            dataset='MELD_dataset_v6.csv')\n",
    "    elif dataset == 'indi_test':\n",
    "        experiment_dir = 'experiments_graph/kw350'\n",
    "        #old threshold system (0.5 or 0.01)\n",
    "        # pred_file = os.path.join(experiment_dir,model,'s_0','fold_all',\n",
    "        #                           'test_H27H28H101{}'.format(nc),'results_best_model', 'predictions.hdf5')\n",
    "        #new threshold system (0.5 or slope 0.2 to 0.01)\n",
    "        pred_file = os.path.join(experiment_dir,model,'s_0','fold_all_newthreshold',\n",
    "                                  'test_H27H28H101{}'.format(nc),'results_best_model', 'predictions.hdf5')\n",
    "        cohort= MeldCohort(hdf5_file_root='{site_code}_{group}_featurematrix_combat_6_kernels_robustCombat_NewSite.hdf5', \n",
    "                           dataset='MELD_dataset_NewSiteH27H28H101{}.csv'.format(nc))\n",
    "    else:\n",
    "        raise ValueError('Unknown dataset')\n",
    "    with h5py.File(pred_file, \"r\") as f:\n",
    "        subjects = list(f.keys())\n",
    "    return cohort, subjects,pred_file"
   ]
  },
  {
   "cell_type": "code",
   "execution_count": 8,
   "metadata": {},
   "outputs": [],
   "source": [
    "#  #for test dataset\n",
    "model = '23-10-30_LVHZ_dcp'\n",
    "\n",
    "#for H101 boundaries\n",
    "cohort2= MeldCohort(hdf5_file_root='{site_code}_{group}_featurematrix_combat_fastsurfer_harmonised_NewSite.hdf5', \n",
    "                           dataset='MELD_dataset_NewSiteH27H28H101_nc.csv')\n",
    "\n",
    "dataset = 'indi_test'\n",
    "\n",
    "cohort, subjects, pred_file = load_cohort_graph(dataset,model,no_combat=False)"
   ]
  },
  {
   "cell_type": "code",
   "execution_count": null,
   "metadata": {},
   "outputs": [],
   "source": [
    "df_graph=pd.DataFrame()\n",
    "subjects_dictionary={}\n",
    "\n",
    "for si,subj in enumerate(subjects):\n",
    "    values={}\n",
    "    if si%100==0:\n",
    "        print(si)\n",
    "    values['ID']=subj\n",
    "    if \"H101\" in subj:\n",
    "        s = MeldSubject(subj,cohort=cohort2)\n",
    "    else:\n",
    "        s = MeldSubject(subj,cohort=cohort)\n",
    "    values['group']= True if s.group=='patient' else False\n",
    "    labels_hemis = {}\n",
    "    dists={}\n",
    "    labels = np.zeros(len(cohort.cortex_label)*2)\n",
    "    for hemi in ['lh','rh']:\n",
    "        dists[hemi], labels_hemis[hemi] = s.load_feature_lesion_data(\n",
    "                    features=['.on_lh.boundary_zone.mgh'], hemi=hemi, features_to_ignore=[]\n",
    "                )\n",
    "        if np.sum(dists[hemi])==0:\n",
    "            dists[hemi] +=200\n",
    "    labels = np.hstack([labels_hemis['lh'][cohort.cortex_mask],labels_hemis['rh'][cohort.cortex_mask]])\n",
    "    borderzones = np.vstack([dists['lh'][cohort.cortex_mask,:],dists['rh'][cohort.cortex_mask,:]]).ravel()<20\n",
    "    #load pred from graph classifier\n",
    "\n",
    "    result_hemis = load_prediction(subj,pred_file, dset='prediction_clustered')\n",
    "    result = np.hstack([result_hemis['lh'],result_hemis['rh']])\n",
    "    values['model']='graph'\n",
    "    \n",
    "    result_raw_hemis = load_prediction(subj,pred_file, dset='prediction')\n",
    "    values['max_pred'] = max(np.hstack([result_raw_hemis['lh'],result_raw_hemis['rh']]))\n",
    "    values['size_cluster'] = (result>0).sum()\n",
    "    #add detection with borderzone\n",
    "    if labels.sum()>0:\n",
    "        values['detected'] = np.logical_and(result, borderzones).any()\n",
    "        clusters_in_borderzone = set(result[borderzones.astype('bool')])\n",
    "        #remove the 0 cluster\n",
    "        if 0 in clusters_in_borderzone:\n",
    "            clusters_in_borderzone.remove(0)\n",
    "        values['number TP clusters'] = len(clusters_in_borderzone)\n",
    "        values['size_pred'] = len(result[borderzones.astype('bool')])\n",
    "        values['IOU'] = (np.logical_and(result, labels)).sum() / (np.logical_or(result, labels)).sum() \n",
    "        values['IOU_plus'] = (np.logical_and(result, borderzones)).sum() / (np.logical_or(result, borderzones)).sum() \n",
    "    \n",
    "    else:\n",
    "        values['number TP clusters'] = 0\n",
    "        values['IOU'] = np.nan\n",
    "        values['IOU_plus'] = np.nan\n",
    "    \n",
    "    # add number of FP clusters : total clusters - TP clusters\n",
    "    values['number FP clusters']=len(set(result_hemis['lh']))+len(set(result_hemis['rh']))-2-values['number TP clusters']\n",
    "    df_graph=pd.concat([df_graph,pd.DataFrame([values])])\n",
    "    \n",
    "    \n",
    "df_graph = df_graph.reset_index()\n",
    "df_graph.head()"
   ]
  },
  {
   "cell_type": "code",
   "execution_count": 10,
   "metadata": {},
   "outputs": [
    {
     "name": "stdout",
     "output_type": "stream",
     "text": [
      "all together\n",
      "217\n",
      "sensitivity specificity ppv iou iou+\n",
      "0.72 0.56 0.76 0.35 0.26\n",
      "[[0.63 0.47 0.68 0.31 0.22]\n",
      " [0.79 0.66 0.85 0.4  0.29]]\n",
      "H27\n",
      "sensitivity specificity ppv iou iou+\n",
      "0.82 0.44 0.82 0.33 0.33\n",
      "H28\n",
      "sensitivity specificity ppv iou iou+\n",
      "0.62 nan 0.56 0.38 0.22\n",
      "H101\n",
      "sensitivity specificity ppv iou iou+\n",
      "0.71 0.59 0.8 0.35 0.25\n"
     ]
    }
   ],
   "source": [
    "# results Graph model\n",
    "\n",
    "print('all together')\n",
    "dfsub = df_graph.copy()\n",
    "print(len(dfsub))\n",
    "sensitivity_graph, specificity_graph, ppv_graph, iou_graph, iou_plus_graph = df_stats(dfsub)\n",
    "print('sensitivity specificity ppv iou iou+')\n",
    "print(sensitivity_graph,specificity_graph, ppv_graph, iou_graph, iou_plus_graph)\n",
    "CI_graph = bootstrap_CI(dfsub)\n",
    "print(CI_graph)\n",
    "\n",
    "if dataset=='indi_test':\n",
    "    try:\n",
    "        for site in ['H27', 'H28', 'H101']:\n",
    "            print(site)\n",
    "            dfsub = df_graph[df_graph['ID'].str.contains(site)]\n",
    "            sensitivity, specificity, ppv, iou, iou_plus = df_stats(dfsub)\n",
    "            print('sensitivity specificity ppv iou iou+')\n",
    "            print(sensitivity,specificity,ppv, iou, iou_plus)\n",
    "    except:\n",
    "        pass"
   ]
  },
  {
   "cell_type": "code",
   "execution_count": 20,
   "metadata": {},
   "outputs": [],
   "source": [
    "# plot size of cluster in function of max prediction\n",
    "\n",
    "plt.scatter(df_graph[(df_graph['group'])&(df_graph['detected'])]['max_pred'].values, df_graph[(df_graph['group'])&(df_graph['detected'])]['size_cluster'].values, label='TP')\n",
    "plt.scatter(df_graph[(df_graph['group'])&~(df_graph['detected'])]['max_pred'].values, df_graph[(df_graph['group'])&~(df_graph['detected'])]['size_cluster'].values, label='FP')\n",
    "# plt.scatter(df[(df['group'])]['max_pred'].values, df[(df['group'])]['size_cluster'].values)\n",
    "plt.legend()\n",
    "plt.ylabel('size cluster (nvertices)')\n",
    "plt.xlabel('max prediction')"
   ]
  },
  {
   "cell_type": "markdown",
   "metadata": {},
   "source": [
    "## compare models performances with stats"
   ]
  },
  {
   "cell_type": "code",
   "execution_count": 26,
   "metadata": {},
   "outputs": [
    {
     "name": "stdout",
     "output_type": "stream",
     "text": [
      "0.77 0.47 0.46\n",
      "0.72 0.56 0.76\n",
      "0.084 0.042 0.0\n"
     ]
    },
    {
     "data": {
      "text/plain": [
       "<matplotlib.legend.Legend at 0x149c8b59b640>"
      ]
     },
     "execution_count": 26,
     "metadata": {},
     "output_type": "execute_result"
    },
    {
     "data": {
      "image/png": "[encoded data removed]",
      "text/plain": [
       "<Figure size 432x288 with 1 Axes>"
      ]
     },
     "metadata": {
      "needs_background": "light"
     },
     "output_type": "display_data"
    },
    {
     "data": {
      "image/png": "[encoded data removed]",
      "text/plain": [
       "<Figure size 432x288 with 1 Axes>"
      ]
     },
     "metadata": {
      "needs_background": "light"
     },
     "output_type": "display_data"
    },
    {
     "data": {
      "image/png": "[encoded data removed]",
      "text/plain": [
       "<Figure size 432x288 with 1 Axes>"
      ]
     },
     "metadata": {
      "needs_background": "light"
     },
     "output_type": "display_data"
    }
   ],
   "source": [
    "# Compare models with permutation\n",
    "def permute_models(df):\n",
    "    for index, row in df.iterrows():\n",
    "        # Randomly permute the data from column 0 and 1\n",
    "        permuted_indices = np.random.permutation(2)\n",
    "        if (permuted_indices == [1,0]).all():\n",
    "            df.at[index, 'detected_MLP'], df.at[index, 'detected_Graph'] = \\\n",
    "            row[['detected_MLP', 'detected_Graph']].values[permuted_indices]\n",
    "            df.at[index, 'number TP clusters_MLP'], df.at[index, 'number TP clusters_Graph'] = \\\n",
    "            row[['number TP clusters_MLP', 'number TP clusters_Graph']].values[permuted_indices]\n",
    "            df.at[index, 'number FP clusters_MLP'], df.at[index, 'number FP clusters_Graph'] = \\\n",
    "            row[['number FP clusters_MLP', 'number FP clusters_Graph']].values[permuted_indices]\n",
    "    return df\n",
    "\n",
    "\n",
    "sensitivity_mlp_orig, specificity_mlp_orig, ppv_mlp_orig = df_stats(df_mlp, metrics=['sensitivity', 'specificity', 'ppv'])\n",
    "print(sensitivity_mlp_orig, specificity_mlp_orig, ppv_mlp_orig)\n",
    "sensitivity_graph_orig, specificity_graph_orig, ppv_graph_orig = df_stats(df_graph,  metrics=['sensitivity', 'specificity', 'ppv'])\n",
    "print(sensitivity_graph_orig, specificity_graph_orig, ppv_graph_orig)\n",
    "#compute difference\n",
    "diff_sensitivity_orig = sensitivity_mlp_orig - sensitivity_graph_orig\n",
    "diff_specificity_orig = specificity_mlp_orig - specificity_graph_orig\n",
    "diff_ppv_orig = ppv_mlp_orig - ppv_graph_orig\n",
    "\n",
    "#combine results for MLP and Graph \n",
    "df_comp = df_mlp[['ID','group','detected','number TP clusters','number FP clusters']].merge(df_graph[['ID','group','detected','number TP clusters','number FP clusters']], how='left', on=['ID','group'], suffixes=['_MLP','_Graph'])\n",
    "\n",
    "diffs_sensitivity = []\n",
    "diffs_specificity = []\n",
    "diffs_ppv = []\n",
    "for i in range(0,1000):\n",
    "    # shuffle models\n",
    "    df_shuffle = permute_models(df_comp.copy())\n",
    "    \n",
    "    # compute metrics again\n",
    "    df_shuffle_mlp = pd.DataFrame()\n",
    "    df_shuffle_mlp[['group','detected','number TP clusters','number FP clusters']] = df_shuffle[['group','detected_MLP','number TP clusters_MLP','number FP clusters_MLP']].copy()\n",
    "    sensitivity_mlp_i, specificity_mlp_i, ppv_mlp_i = df_stats(df_shuffle_mlp, metrics=['sensitivity', 'specificity', 'ppv'])\n",
    "    \n",
    "    df_shuffle_graph = pd.DataFrame()\n",
    "    df_shuffle_graph[['group','detected','number TP clusters','number FP clusters']] = df_shuffle[['group','detected_Graph','number TP clusters_Graph','number FP clusters_Graph']].copy()\n",
    "    sensitivity_graph_i, specificity_graph_i, ppv_graph_i= df_stats(df_shuffle_graph, metrics=['sensitivity', 'specificity', 'ppv'])\n",
    "    \n",
    "    # find differences\n",
    "    diffs_sensitivity.append(sensitivity_mlp_i - sensitivity_graph_i)\n",
    "    diffs_specificity.append(specificity_mlp_i - specificity_graph_i)\n",
    "    diffs_ppv.append(ppv_mlp_i - ppv_graph_i)\n",
    "\n",
    "#compute pvalue\n",
    "p_sensitivity = get_pvalue(diff_sensitivity_orig, diffs_sensitivity)\n",
    "p_specificity = get_pvalue(diff_specificity_orig, diffs_specificity)\n",
    "p_ppv = get_pvalue(diff_ppv_orig, diffs_ppv)\n",
    "print(p_sensitivity, p_specificity, p_ppv)\n",
    "\n",
    "#plot results shuffle\n",
    "plt.figure()\n",
    "plt.hist(diffs_sensitivity, label='permutations between model')\n",
    "#add results orig\n",
    "plt.plot([diff_sensitivity_orig,diff_sensitivity_orig], [0,200], label='original value', color='green')\n",
    "#add 5% significance lines\n",
    "lines5 = np.percentile(diffs_sensitivity, [2.5, 97.5])\n",
    "plt.plot([lines5[0],lines5[0]], [0,200], label='0.05 significance', color='red')\n",
    "plt.plot([lines5[1],lines5[1]], [0,200], label='0.05 significance', color='red')\n",
    "plt.title('Difference in sensitivity between models')\n",
    "plt.legend()\n",
    "\n",
    "plt.figure()\n",
    "plt.hist(diffs_specificity, label='permutations between model')\n",
    "#add results orig\n",
    "plt.plot([diff_specificity_orig,diff_specificity_orig], [0,200], label='original value', color='green')\n",
    "#add 5% significance lines\n",
    "lines5 = np.percentile(diffs_specificity, [2.5, 97.5])\n",
    "plt.plot([lines5[0],lines5[0]], [0,200], label='0.05 significance', color='red')\n",
    "plt.plot([lines5[1],lines5[1]], [0,200], label='0.05 significance', color='red')\n",
    "plt.title('Difference in specificity between models')\n",
    "plt.legend()\n",
    "\n",
    "plt.figure()\n",
    "plt.hist(diffs_ppv, label='permutations between model')\n",
    "#add results orig\n",
    "plt.plot([diff_ppv_orig,diff_ppv_orig], [0,200], label='original value', color='green')\n",
    "#add 5% significance lines\n",
    "lines5 = np.percentile(diffs_ppv, [2.5, 97.5])\n",
    "plt.plot([lines5[0],lines5[0]], [0,200], label='0.05 significance', color='red')\n",
    "plt.plot([lines5[1],lines5[1]], [0,200], label='0.05 significance', color='red')\n",
    "plt.title('Difference in ppv between models')\n",
    "plt.legend()\n",
    "\n"
   ]
  },
  {
   "cell_type": "markdown",
   "metadata": {},
   "source": [
    "### Compare models IOU on patients detected by both"
   ]
  },
  {
   "cell_type": "code",
   "execution_count": 29,
   "metadata": {},
   "outputs": [
    {
     "name": "stdout",
     "output_type": "stream",
     "text": [
      "number patients detected by both models: 78 \n",
      "\n",
      "iou\n",
      "MLP iou: 0.29 [0.25 0.33]\n",
      "MLP iou+:  0.09 [0.08 0.11]\n",
      "\n",
      "\n",
      "iou\n",
      "Graph iou: 0.36 [0.31 0.41]\n",
      "Graph iou+:  0.25 [0.21 0.28]\n",
      "\n",
      "\n"
     ]
    }
   ],
   "source": [
    "## compare IOU for patients detected in both model\n",
    "from functools import partial\n",
    "df_merge = pd.merge(df_mlp, df_graph, how='inner', on=['ID', 'group'])\n",
    "df_merge.head()\n",
    "\n",
    "patients_detected = df_merge[df_merge['group']& df_merge['detected_x']&df_merge['detected_y']]['ID'].values\n",
    "print(f'number patients detected by both models: {len(patients_detected)} \\n')\n",
    "\n",
    "for (df, model, suffix) in zip([df_mlp,df_graph],['MLP', 'Graph'],['x','y']):\n",
    "    subdf = df[df['ID'].isin(patients_detected)].copy()\n",
    "    iou = np.mean(subdf[f'IOU'])\n",
    "    iou_plus = np.mean(subdf[f'IOU_plus'])\n",
    "    iou_CI = bootstrap_CI(subdf, func=partial(df_stats, metrics=['IOU', 'IOU+']))\n",
    "    print('iou')\n",
    "    print(f'{model} iou: {round(iou,2)} {iou_CI[:,0]}')\n",
    "    print(f'{model} iou+:  {round(iou_plus,2)} {iou_CI[:,1]}')\n",
    "    print('\\n')\n",
    "    \n"
   ]
  },
  {
   "cell_type": "code",
   "execution_count": 30,
   "metadata": {},
   "outputs": [
    {
     "name": "stdout",
     "output_type": "stream",
     "text": [
      "0.29\n",
      "0.36\n",
      "0.0\n"
     ]
    },
    {
     "data": {
      "text/plain": [
       "<matplotlib.legend.Legend at 0x149c8f5d9940>"
      ]
     },
     "execution_count": 30,
     "metadata": {},
     "output_type": "execute_result"
    },
    {
     "data": {
      "image/png": "[encoded data removed]",
      "text/plain": [
       "<Figure size 432x288 with 1 Axes>"
      ]
     },
     "metadata": {
      "needs_background": "light"
     },
     "output_type": "display_data"
    }
   ],
   "source": [
    "# get the stats\n",
    "\n",
    "def permute_models_iou(df, metrics=[]):\n",
    "    for index, row in df.iterrows():\n",
    "        # Randomly permute the data from column 0 and 1\n",
    "        permuted_indices = np.random.permutation(2)\n",
    "        if (permuted_indices == [1,0]).all():\n",
    "            df.at[index, 'detected_MLP'], df.at[index, 'detected_Graph'] = \\\n",
    "            row[['detected_MLP', 'detected_Graph']].values[permuted_indices]\n",
    "            df.at[index, 'IOU_MLP'], df.at[index, 'IOU_Graph'] = \\\n",
    "            row[['IOU_MLP', 'IOU_Graph']].values[permuted_indices]\n",
    "    return df\n",
    "\n",
    "subdf_mlp = df_mlp[df_mlp['ID'].isin(patients_detected)].copy()\n",
    "subdf_graph = df_graph[df_graph['ID'].isin(patients_detected)].copy()\n",
    "\n",
    "iou_mlp_orig = df_stats(subdf_mlp, metrics=['IOU'])[0]\n",
    "print(iou_mlp_orig)\n",
    "iou_graph_orig= df_stats(subdf_graph,  metrics=['IOU'])[0]\n",
    "print(iou_graph_orig)\n",
    "#compute difference\n",
    "diff_iou_orig = iou_mlp_orig - iou_graph_orig\n",
    "\n",
    "#combine results for MLP and Graph \n",
    "df_comp = subdf_mlp[['ID','group','detected','IOU']].merge(subdf_graph[['ID','group','detected','IOU']], how='left', on=['ID','group'], suffixes=['_MLP','_Graph'])\n",
    "\n",
    "diffs_iou = []\n",
    "for i in range(0,1000):\n",
    "    # shuffle models\n",
    "    df_shuffle = permute_models_iou(df_comp.copy())\n",
    "    \n",
    "    # compute metrics again\n",
    "    df_shuffle_mlp = pd.DataFrame()\n",
    "    df_shuffle_mlp[['group', 'detected','IOU']] = df_shuffle[['group','detected_MLP','IOU_MLP']].copy()\n",
    "    iou_mlp = df_stats(df_shuffle_mlp, metrics=['IOU'])[0]\n",
    "    \n",
    "    df_shuffle_graph = pd.DataFrame()\n",
    "    df_shuffle_graph[['group','detected','IOU']] = df_shuffle[['group', 'detected_Graph','IOU_Graph']].copy()\n",
    "    iou_graph= df_stats(df_shuffle_graph, metrics=['IOU'])[0]\n",
    "\n",
    "    # find differences\n",
    "    diffs_iou.append(iou_mlp - iou_graph)\n",
    "\n",
    "#compute pvalue\n",
    "p_iou = get_pvalue(diff_iou_orig, diffs_iou)\n",
    "print(p_iou)\n",
    "\n",
    "#plot results shuffle\n",
    "plt.figure()\n",
    "plt.hist(diffs_iou, label='permutations between model')\n",
    "#add results orig\n",
    "plt.plot([diff_iou_orig,diff_iou_orig], [0,200], label='original value', color='green')\n",
    "#add 5% significance lines\n",
    "lines5 = np.percentile(diffs_iou, [2.5, 97.5])\n",
    "plt.plot([lines5[0],lines5[0]], [0,200], label='0.05 significance', color='red')\n",
    "plt.plot([lines5[1],lines5[1]], [0,200], label='0.05 significance', color='red')\n",
    "plt.title('Difference in IOU between models')\n",
    "plt.legend()"
   ]
  },
  {
   "cell_type": "markdown",
   "metadata": {},
   "source": [
    "## plot reduction number of clusters and increase ppv"
   ]
  },
  {
   "cell_type": "code",
   "execution_count": 11,
   "metadata": {},
   "outputs": [
    {
     "name": "stdout",
     "output_type": "stream",
     "text": [
      "MLP\n",
      "Controls median (IQR), max : 1.0 (0.0-1.0), 16.0\n",
      "Patients median (IQR), max : 1.0 (0.0-2.0), 7.0\n",
      "Graph\n",
      "Controls median (IQR), max : 0.0 (0.0-1.0), 2.0\n",
      "Patients median (IQR), max : 0.0 (0.0-0.0), 3.0\n"
     ]
    }
   ],
   "source": [
    "#number clusters\n",
    "\n",
    "for (model, df_model) in zip(['MLP','Graph'],[df_mlp,df_graph]):\n",
    "    print(model)\n",
    "    for group in [False,True]:\n",
    "        num_fp = df_model[df_model['group']==group]['number FP clusters'].values\n",
    "        results = np.quantile(num_fp, [.5,.25,.75,1])\n",
    "        group_name = 'Patients' if group==True else 'Controls'\n",
    "        print(f'{group_name} median (IQR), max : {results[0]} ({results[1]}-{results[2]}), {results[3]}')"
   ]
  },
  {
   "cell_type": "code",
   "execution_count": 57,
   "metadata": {},
   "outputs": [
    {
     "name": "stderr",
     "output_type": "stream",
     "text": [
      "/tmp/ipykernel_2284871/3694068693.py:55: MatplotlibDeprecationWarning: Support for passing numbers through unit converters is deprecated since 3.5 and support will be removed two minor releases later; use Axis.convert_units instead.\n",
      "  axs[i].scatter(x, y, marker='o')\n"
     ]
    },
    {
     "data": {
      "image/png": "[encoded data removed]",
      "text/plain": [
       "<Figure size 720x360 with 2 Axes>"
      ]
     },
     "metadata": {
      "needs_background": "light"
     },
     "output_type": "display_data"
    }
   ],
   "source": [
    "### plot number clusters\n",
    "\n",
    "## Concat results\n",
    "\n",
    "df = pd.concat([df_mlp, df_graph], ignore_index=True)\n",
    "df.head()\n",
    "\n",
    "import ptitprince as pt\n",
    "import matplotlib.gridspec as gridspec\n",
    "\n",
    "def get_connection(df):\n",
    "    connects=[]\n",
    "    for subject in np.unique(df['ID']):\n",
    "        subdf=df[df['ID']==subject]\n",
    "        connects.append([subdf[subdf['model']=='per vertex'].index[0],\n",
    "                        subdf[subdf['model']=='graph'].index[0]])\n",
    "    return connects\n",
    "\n",
    "def connectpoints(x,y,p1,p2,colors):\n",
    "    x1, x2 = x[p1], x[p2]\n",
    "    y1, y2 = y[p1], y[p2]\n",
    "    plt.scatter([x1,x2],[y1,y2], c=colors)\n",
    "    plt.plot([x1,x2],[y1,y2], 'grey', linewidth=0.3)\n",
    "    \n",
    "\n",
    "fig = plt.figure(figsize=(10,5))\n",
    "gs1 = gridspec.GridSpec(1, 2)\n",
    "axs = []\n",
    "\n",
    "ort='v'\n",
    "pal={'per vertex':'mediumorchid', 'graph':'royalblue'}\n",
    "\n",
    "for i,group in enumerate([False,True]):\n",
    "    axs.append(fig.add_subplot(gs1[i]))\n",
    "    subdf=df[df['group']==group]\n",
    "    subdf.reset_index(drop=True, inplace=True)\n",
    "    if group == True:\n",
    "        y_var = 'number FP clusters'\n",
    "        ax_label = 'Number of false positives in patients'\n",
    "    else:\n",
    "        y_var = 'number FP clusters'\n",
    "        ax_label = 'Number of clusters in controls'\n",
    "    axs[i]=pt.RainCloud(x='model', y=y_var, palette = pal, data=subdf, bw= .2, cut=0, \n",
    "                            scale=\"area\", width_viol=.6, orient=ort, jitter = 0.1, dodge=False)\n",
    "    # axs[i].set_title('group)\n",
    "    axs[i].set_title(ax_label, fontsize='14')\n",
    "    locs, labels = plt.xticks()  # Get the current locations and labels.\n",
    "    axs[i].set_xticks(locs, labels=['MLP','MELD Graph'], fontsize='14')\n",
    "    axs[i].set_xlabel(\"\")\n",
    "    axs[i].set_ylabel(\"\")\n",
    "    #plot connections\n",
    "    connects=get_connection(subdf)\n",
    "    x=subdf['model'].to_numpy()\n",
    "    y=subdf['number FP clusters'].to_numpy()\n",
    "    axs[i].scatter(x, y, marker='o')\n",
    "    axs[i].set_xlim([-0.5,1.5])\n",
    "    for connect in connects:\n",
    "        connectpoints(x,y,connect[0],connect[1], colors = [pal['per vertex'],pal['graph']])\n",
    "    plt.tight_layout()\n",
    "    \n"
   ]
  },
  {
   "cell_type": "code",
   "execution_count": 62,
   "metadata": {},
   "outputs": [
    {
     "data": {
      "text/plain": [
       "Text(0, 0.5, 'PPV')"
      ]
     },
     "execution_count": 62,
     "metadata": {},
     "output_type": "execute_result"
    },
    {
     "data": {
      "image/png": "[encoded data removed]",
      "text/plain": [
       "<Figure size 360x360 with 1 Axes>"
      ]
     },
     "metadata": {
      "needs_background": "light"
     },
     "output_type": "display_data"
    }
   ],
   "source": [
    "import ptitprince as pt\n",
    "import matplotlib.gridspec as gridspec\n",
    "\n",
    "fig = plt.figure(figsize=(5,5))\n",
    "axs = []\n",
    "\n",
    "plt.scatter(1,ppv_mlp,color='mediumorchid')\n",
    "plt.plot((1,1),(CI_mlp[0,2],CI_mlp[1,2]),'-',color='mediumorchid')\n",
    "plt.plot((1-0.1,1+0.1), (CI_mlp[0,2],CI_mlp[0,2]),'-',color='mediumorchid')\n",
    "plt.plot((1-0.1,1+0.1),(CI_mlp[1,2],CI_mlp[1,2]),'-',color='mediumorchid')\n",
    "\n",
    "plt.scatter(2,ppv_graph,color='royalblue')\n",
    "plt.plot((2,2),(CI_graph[0,2],CI_graph[1,2]),'-',color='royalblue')\n",
    "plt.plot((2-0.1,2+0.1), (CI_graph[0,2],CI_graph[0,2]),'-',color='royalblue')\n",
    "plt.plot((2-0.1,2+0.1),(CI_graph[1,2],CI_graph[1,2]),'-',color='royalblue')\n",
    "\n",
    "\n",
    "plt.title('Patients', fontsize='14')\n",
    "locs, labels = plt.xticks()  # Get the current locations and labels.\n",
    "plt.xticks([1,2], labels=['MLP','MELD Graph'], fontsize='14')\n",
    "plt.xlim([0.5,2.5])\n",
    "plt.ylim([0,1])\n",
    "plt.ylabel(\"PPV\", fontsize='14')"
   ]
  },
  {
   "cell_type": "markdown",
   "metadata": {},
   "source": [
    "## Analyse MELD graph results"
   ]
  },
  {
   "cell_type": "markdown",
   "metadata": {},
   "source": [
    "### add breakdown on test dataset"
   ]
  },
  {
   "cell_type": "code",
   "execution_count": 13,
   "metadata": {},
   "outputs": [],
   "source": [
    "#for test dataset\n",
    "model = '23-10-30_LVHZ_dcp'\n",
    "\n",
    "dataset = 'test'\n",
    "\n",
    "cohort, subjects, pred_file = load_cohort_graph(dataset,model,no_combat=False)"
   ]
  },
  {
   "cell_type": "code",
   "execution_count": null,
   "metadata": {},
   "outputs": [],
   "source": [
    "df_model = df_graph.copy()\n",
    "\n",
    "# add demographic\n",
    "age_array=[]\n",
    "sex_array=[]\n",
    "histo_array=[]\n",
    "site_array=[]\n",
    "scanner_array=[]\n",
    "flair_array=[]\n",
    "group_array=[]\n",
    "sf_array=[]\n",
    "mri_negative_array=[]\n",
    "surgery_array=[]\n",
    "for subject in df_model['ID']:\n",
    "    subj = MeldSubject(subject, cohort)\n",
    "    age, sex, histo, site, sf, mri_negative, surgery = subj.get_demographic_features([\"Age at preoperative\", \"Sex\", \"Histology\", \"Site\", \"Seizure free\", \"Ever reported MRI negative\", \"Surgery\"])\n",
    "    scanner_array.append(subj.scanner)\n",
    "    age_array.append(age)\n",
    "    sex_array.append(sex)\n",
    "    histo_array.append(histo)\n",
    "    site_array.append(site)\n",
    "    sf_array.append(sf)\n",
    "    flair_array.append(subj.has_flair)\n",
    "    mri_negative_array.append(mri_negative)\n",
    "    surgery_array.append(surgery)\n",
    "\n",
    "    \n",
    "df_model['Age at preoperative']=age_array\n",
    "df_model['Sex']=sex_array\n",
    "df_model['Histology']=histo_array\n",
    "df_model['Site']=site_array\n",
    "df_model['Scanner']=scanner_array\n",
    "df_model['FLAIR']=flair_array\n",
    "df_model['Seizure free']=sf_array\n",
    "df_model['Ever reported MRI negative'] = mri_negative_array\n",
    "df_model['Operated'] = surgery_array\n",
    "\n",
    "df_model.head()"
   ]
  },
  {
   "cell_type": "code",
   "execution_count": 28,
   "metadata": {},
   "outputs": [],
   "source": [
    "pat = df_model[df_model['group']==True].copy()\n",
    "\n",
    "pat.detected = pat.detected.astype(int)"
   ]
  },
  {
   "cell_type": "code",
   "execution_count": 15,
   "metadata": {},
   "outputs": [],
   "source": [
    "def compute_pval(df_var,diff_orig, var='Seizure free'):\n",
    "    diffs = []\n",
    "    for i in range(0,1000):\n",
    "        df_shuffle = df_var.copy()\n",
    "        np.random.shuffle(df_shuffle[var].values)\n",
    "        disp_df_shuffle=pd.DataFrame(100*df_shuffle.groupby([var]).mean()['detected']).round(1)\n",
    "        diffs.append(disp_df_shuffle['detected'].values[1]-disp_df_shuffle['detected'].values[0])\n",
    "\n",
    "    pval = get_pvalue(diff_orig, diffs)\n",
    "    print(pval)\n",
    "    \n",
    "    #plot results shuffle\n",
    "    plt.figure()\n",
    "    plt.hist(diffs, label='permutations between group')\n",
    "    #add results orig\n",
    "    plt.plot([diff_orig,diff_orig], [0,200], label='original value', color='green')\n",
    "    #add 5% significance lines\n",
    "    lines5 = np.percentile(diffs, [2.5, 97.5])\n",
    "    plt.plot([lines5[0],lines5[0]], [0,200], label='0.05 significance', color='red')\n",
    "    plt.plot([lines5[1],lines5[1]], [0,200], label='0.05 significance', color='red')\n",
    "    plt.title(f'Difference between group {var}')\n",
    "    plt.legend()\n",
    "    \n",
    "    return pval"
   ]
  },
  {
   "cell_type": "code",
   "execution_count": 29,
   "metadata": {},
   "outputs": [
    {
     "data": {
      "text/html": [
       "<div>\n",
       "<style scoped>\n",
       "    .dataframe tbody tr th:only-of-type {\n",
       "        vertical-align: middle;\n",
       "    }\n",
       "\n",
       "    .dataframe tbody tr th {\n",
       "        vertical-align: top;\n",
       "    }\n",
       "\n",
       "    .dataframe thead th {\n",
       "        text-align: right;\n",
       "    }\n",
       "</style>\n",
       "<table border=\"1\" class=\"dataframe\">\n",
       "  <thead>\n",
       "    <tr style=\"text-align: right;\">\n",
       "      <th></th>\n",
       "      <th>detected</th>\n",
       "      <th>count</th>\n",
       "    </tr>\n",
       "    <tr>\n",
       "      <th>Scanner</th>\n",
       "      <th></th>\n",
       "      <th></th>\n",
       "    </tr>\n",
       "  </thead>\n",
       "  <tbody>\n",
       "    <tr>\n",
       "      <th>15T</th>\n",
       "      <td>60.7</td>\n",
       "      <td>56</td>\n",
       "    </tr>\n",
       "    <tr>\n",
       "      <th>3T</th>\n",
       "      <td>72.1</td>\n",
       "      <td>204</td>\n",
       "    </tr>\n",
       "  </tbody>\n",
       "</table>\n",
       "</div>"
      ],
      "text/plain": [
       "         detected  count\n",
       "Scanner                 \n",
       "15T          60.7     56\n",
       "3T           72.1    204"
      ]
     },
     "execution_count": 29,
     "metadata": {},
     "output_type": "execute_result"
    }
   ],
   "source": [
    "disp_df=pd.DataFrame(100*pat.groupby('Scanner').mean()['detected']).round(1)\n",
    "disp_df['count'] = pat.groupby('Scanner').count()['detected']\n",
    "disp_df"
   ]
  },
  {
   "cell_type": "code",
   "execution_count": 30,
   "metadata": {},
   "outputs": [
    {
     "data": {
      "text/html": [
       "<div>\n",
       "<style scoped>\n",
       "    .dataframe tbody tr th:only-of-type {\n",
       "        vertical-align: middle;\n",
       "    }\n",
       "\n",
       "    .dataframe tbody tr th {\n",
       "        vertical-align: top;\n",
       "    }\n",
       "\n",
       "    .dataframe thead th {\n",
       "        text-align: right;\n",
       "    }\n",
       "</style>\n",
       "<table border=\"1\" class=\"dataframe\">\n",
       "  <thead>\n",
       "    <tr style=\"text-align: right;\">\n",
       "      <th></th>\n",
       "      <th></th>\n",
       "      <th>detected</th>\n",
       "      <th>count</th>\n",
       "    </tr>\n",
       "    <tr>\n",
       "      <th>Scanner</th>\n",
       "      <th>FLAIR</th>\n",
       "      <th></th>\n",
       "      <th></th>\n",
       "    </tr>\n",
       "  </thead>\n",
       "  <tbody>\n",
       "    <tr>\n",
       "      <th rowspan=\"2\" valign=\"top\">15T</th>\n",
       "      <th>False</th>\n",
       "      <td>55.6</td>\n",
       "      <td>36</td>\n",
       "    </tr>\n",
       "    <tr>\n",
       "      <th>True</th>\n",
       "      <td>70.0</td>\n",
       "      <td>20</td>\n",
       "    </tr>\n",
       "    <tr>\n",
       "      <th rowspan=\"2\" valign=\"top\">3T</th>\n",
       "      <th>False</th>\n",
       "      <td>71.1</td>\n",
       "      <td>114</td>\n",
       "    </tr>\n",
       "    <tr>\n",
       "      <th>True</th>\n",
       "      <td>73.3</td>\n",
       "      <td>90</td>\n",
       "    </tr>\n",
       "  </tbody>\n",
       "</table>\n",
       "</div>"
      ],
      "text/plain": [
       "               detected  count\n",
       "Scanner FLAIR                 \n",
       "15T     False      55.6     36\n",
       "        True       70.0     20\n",
       "3T      False      71.1    114\n",
       "        True       73.3     90"
      ]
     },
     "execution_count": 30,
     "metadata": {},
     "output_type": "execute_result"
    }
   ],
   "source": [
    "disp_df=pd.DataFrame(100*pat.groupby(['Scanner','FLAIR']).mean()['detected']).round(1)\n",
    "disp_df['count'] = pat.groupby(['Scanner','FLAIR']).count()['detected']\n",
    "disp_df"
   ]
  },
  {
   "cell_type": "code",
   "execution_count": 35,
   "metadata": {},
   "outputs": [
    {
     "name": "stdout",
     "output_type": "stream",
     "text": [
      "0.382\n",
      "-5.400000000000006 0.382\n"
     ]
    },
    {
     "data": {
      "image/png": "[encoded data removed]",
      "text/plain": [
       "<Figure size 432x288 with 1 Axes>"
      ]
     },
     "metadata": {
      "needs_background": "light"
     },
     "output_type": "display_data"
    }
   ],
   "source": [
    "disp_df=pd.DataFrame(100*pat.groupby(['FLAIR']).mean()['detected']).round(1)\n",
    "disp_df['count'] = pat.groupby(['FLAIR']).count()['detected']\n",
    "disp_df\n",
    "\n",
    "#get difference and pval\n",
    "diff_orig = disp_df['detected'].values[0]-disp_df['detected'].values[1]\n",
    "var='FLAIR'\n",
    "pval= compute_pval(pat[['detected',var]], diff_orig, var=var)\n",
    "print(diff_orig, pval)\n"
   ]
  },
  {
   "cell_type": "code",
   "execution_count": 34,
   "metadata": {},
   "outputs": [
    {
     "name": "stdout",
     "output_type": "stream",
     "text": [
      "              detected  count\n",
      "Seizure free                 \n",
      "0.0               62.7     51\n",
      "1.0               79.2    106\n",
      "0.034\n",
      "-16.5 0.034\n"
     ]
    },
    {
     "data": {
      "image/png": "[encoded data removed]",
      "text/plain": [
       "<Figure size 432x288 with 1 Axes>"
      ]
     },
     "metadata": {
      "needs_background": "light"
     },
     "output_type": "display_data"
    }
   ],
   "source": [
    "disp_df=pd.DataFrame(100*pat.groupby(['Seizure free']).mean()['detected']).round(1)\n",
    "disp_df['count'] = pat.groupby(['Seizure free']).count()['detected']\n",
    "print(disp_df)\n",
    "\n",
    "#get difference and pval\n",
    "diff_orig = disp_df['detected'].values[0]-disp_df['detected'].values[1]\n",
    "var='Seizure free'\n",
    "pval= compute_pval(pat[['detected',var]], diff_orig, var=var)\n",
    "print(diff_orig, pval)\n"
   ]
  },
  {
   "cell_type": "code",
   "execution_count": 36,
   "metadata": {},
   "outputs": [
    {
     "name": "stdout",
     "output_type": "stream",
     "text": [
      "     detected  count\n",
      "Sex                 \n",
      "0.0      62.4    125\n",
      "1.0      76.3    135\n",
      "0.016\n",
      "-13.899999999999999 0.016\n"
     ]
    },
    {
     "data": {
      "image/png": "[encoded data removed]",
      "text/plain": [
       "<Figure size 432x288 with 1 Axes>"
      ]
     },
     "metadata": {
      "needs_background": "light"
     },
     "output_type": "display_data"
    }
   ],
   "source": [
    "disp_df=pd.DataFrame(100*pat.groupby(['Sex']).mean()['detected']).round(1)\n",
    "disp_df['count'] = pat.groupby(['Sex']).count()['detected']\n",
    "print(disp_df)\n",
    "\n",
    "#get difference and pval\n",
    "diff_orig = disp_df['detected'].values[0]-disp_df['detected'].values[1]\n",
    "var='Sex'\n",
    "pval= compute_pval(pat[['detected',var]], diff_orig, var=var)\n",
    "print(diff_orig, pval)"
   ]
  },
  {
   "cell_type": "code",
   "execution_count": 38,
   "metadata": {},
   "outputs": [
    {
     "name": "stdout",
     "output_type": "stream",
     "text": [
      "               % Detected  n patients  n patients detect\n",
      "Histology                                               \n",
      "FCD_1                84.6          13                 11\n",
      "FCD_2A               75.4          57                 43\n",
      "FCD_2B               76.3          93                 71\n",
      "FCD_3                75.0           8                  6\n",
      "not available        47.8          23                 11\n",
      "not operated         59.1          66                 39\n",
      "FCD_1\n",
      "0.104\n",
      "FCD_2A\n",
      "0.194\n",
      "FCD_2B\n",
      "0.074\n",
      "FCD_3\n",
      "0.542\n",
      "not available\n",
      "0.01\n",
      "not operated\n",
      "0.024\n",
      "[0.312 0.388 0.296 0.542 0.06  0.12 ]\n"
     ]
    }
   ],
   "source": [
    "pat['Operated'] = pat['Operated'].fillna(666)\n",
    "pat['Histology'] = pat['Histology'].fillna('not available')\n",
    "pat.loc[(pat['Histology']=='not available')&(pat['Operated']==0), 'Histology'] = 'not operated'\n",
    "disp_df=pd.DataFrame(100*pat.groupby(['Histology']).mean()['detected']).round(1)\n",
    "disp_df['n patients'] = pat.groupby(['Histology']).count()['detected']\n",
    "disp_df['n patients detected'] = pat.groupby(['Histology']).sum()['detected']\n",
    "print(disp_df.rename(columns={'detected':'% Detected'}))\n",
    "\n",
    "#get difference and pval\n",
    "var='Histology'\n",
    "histos = ['FCD_1', 'FCD_2A', 'FCD_2B', 'FCD_3', 'not available', 'not operated']\n",
    "diff_orig_histos = np.zeros(len(histos))\n",
    "for h,histo in enumerate(histos):\n",
    "    diff_orig_histos[h]=disp_df['detected'].values[h]\n",
    "\n",
    "diffs_histos = np.zeros((len(histos), 1000))\n",
    "for i in range(0,1000):\n",
    "    df_shuffle = pat[['detected',var]].copy()\n",
    "    np.random.shuffle(df_shuffle[var].values)\n",
    "    for h,histo in enumerate(histos):\n",
    "        disp_df_shuffle=pd.DataFrame(100*df_shuffle.groupby([var]).mean()['detected']).round(1)\n",
    "        diffs_histos[h,i] = disp_df_shuffle['detected'].values[h]\n",
    "pvals_histos= np.zeros(len(histos))\n",
    "for h,histo in enumerate(histos):\n",
    "    pval = get_pvalue(diff_orig_histos[h], diffs_histos[h,:])\n",
    "    print(histo)\n",
    "    print(pval)\n",
    "    pvals_histos[h]=pval\n",
    "    \n",
    "import statsmodels.stats.multitest as multi\n",
    "pvals_histos_cor = multi.multipletests(pvals_histos.flatten(), alpha=0.05, method='holm')[1]\n",
    "print(pvals_histos_cor)"
   ]
  },
  {
   "cell_type": "code",
   "execution_count": 39,
   "metadata": {},
   "outputs": [
    {
     "name": "stdout",
     "output_type": "stream",
     "text": [
      "                            detected  count\n",
      "Ever reported MRI negative                 \n",
      "0.0                             72.2    180\n",
      "1.0                             63.7     80\n",
      "0.178\n",
      "8.5 0.178\n"
     ]
    },
    {
     "data": {
      "image/png": "[encoded data removed]",
      "text/plain": [
       "<Figure size 432x288 with 1 Axes>"
      ]
     },
     "metadata": {
      "needs_background": "light"
     },
     "output_type": "display_data"
    }
   ],
   "source": [
    "disp_df=pd.DataFrame(100*pat.groupby(['Ever reported MRI negative']).mean()['detected']).round(1)\n",
    "disp_df['count'] = pat.groupby(['Ever reported MRI negative']).count()['detected']\n",
    "print(disp_df)\n",
    "\n",
    "#get difference and pval\n",
    "diff_orig = disp_df['detected'].values[0]-disp_df['detected'].values[1]\n",
    "var='Ever reported MRI negative'\n",
    "pval= compute_pval(pat[['detected',var]], diff_orig, var=var)\n",
    "print(diff_orig, pval)"
   ]
  },
  {
   "cell_type": "code",
   "execution_count": 40,
   "metadata": {},
   "outputs": [
    {
     "name": "stdout",
     "output_type": "stream",
     "text": [
      "            detected  count\n",
      "paediatric                 \n",
      "False           67.9    131\n",
      "True            71.3    129\n",
      "0.532\n",
      "-3.3999999999999915 0.532\n"
     ]
    },
    {
     "data": {
      "image/png": "[encoded data removed]",
      "text/plain": [
       "<Figure size 432x288 with 1 Axes>"
      ]
     },
     "metadata": {
      "needs_background": "light"
     },
     "output_type": "display_data"
    }
   ],
   "source": [
    "pat['paediatric'] = pat['Age at preoperative']<18\n",
    "disp_df=pd.DataFrame(100*pat.groupby(['paediatric']).mean()['detected']).round(1)\n",
    "disp_df['count'] = pat.groupby(['paediatric']).count()['detected']\n",
    "print(disp_df)\n",
    "\n",
    "#get difference and pval\n",
    "diff_orig = disp_df['detected'].values[0]-disp_df['detected'].values[1]\n",
    "var='paediatric'\n",
    "pval= compute_pval(pat[['detected',var]], diff_orig, var=var)\n",
    "print(diff_orig, pval)"
   ]
  },
  {
   "cell_type": "code",
   "execution_count": 41,
   "metadata": {},
   "outputs": [
    {
     "name": "stdout",
     "output_type": "stream",
     "text": [
      "            detected  count\n",
      "SF_&_histo                 \n",
      "False           62.3    162\n",
      "True            81.6     98\n",
      "0.0\n",
      "-19.299999999999997 0.0\n"
     ]
    },
    {
     "data": {
      "image/png": "[encoded data removed]",
      "text/plain": [
       "<Figure size 432x288 with 1 Axes>"
      ]
     },
     "metadata": {
      "needs_background": "light"
     },
     "output_type": "display_data"
    }
   ],
   "source": [
    "# FCD histology + SF\n",
    "pat['Histology'] = pat['Histology'].fillna('not available')\n",
    "pat['Histology_confirmed']= pat['Histology']!='not available'\n",
    "\n",
    "pat['SF_&_histo'] = pat['Histology_confirmed'] & pat['Seizure free']\n",
    "\n",
    "disp_df=pd.DataFrame(100*pat.groupby(['SF_&_histo']).mean()['detected']).round(1)\n",
    "disp_df['count'] = pat.groupby(['SF_&_histo']).count()['detected']\n",
    "print(disp_df)\n",
    "\n",
    "#get difference and pval\n",
    "diff_orig = disp_df['detected'].values[0]-disp_df['detected'].values[1]\n",
    "var='SF_&_histo'\n",
    "pval= compute_pval(pat[['detected',var]], diff_orig, var=var)\n",
    "print(diff_orig, pval)"
   ]
  },
  {
   "cell_type": "code",
   "execution_count": 42,
   "metadata": {},
   "outputs": [
    {
     "name": "stdout",
     "output_type": "stream",
     "text": [
      "Ever reported MRI negative  Histology    \n",
      "0.0                         FCD_1             5\n",
      "                            FCD_2A           33\n",
      "                            FCD_2B           69\n",
      "                            FCD_3             6\n",
      "                            not available    12\n",
      "                            not operated     55\n",
      "1.0                         FCD_1             8\n",
      "                            FCD_2A           24\n",
      "                            FCD_2B           24\n",
      "                            FCD_3             2\n",
      "                            not available    11\n",
      "                            not operated     11\n",
      "Name: ID, dtype: int64\n",
      "Ever reported MRI negative  Histology_confirmed\n",
      "0.0                         False                   12\n",
      "                            True                   168\n",
      "1.0                         False                   11\n",
      "                            True                    69\n",
      "Name: ID, dtype: int64\n",
      "                                                detected  count\n",
      "Ever reported MRI negative Histology_confirmed                 \n",
      "0.0                        False                    66.7     12\n",
      "                           True                     72.6    168\n",
      "1.0                        False                    27.3     11\n",
      "                           True                     69.6     69\n"
     ]
    }
   ],
   "source": [
    "# number of MRI negative & Histo confirm\n",
    "\n",
    "print(pat.groupby(['Ever reported MRI negative', 'Histology'])['ID'].count())\n",
    "\n",
    "pat['Histology'] = pat['Histology'].fillna('not available')\n",
    "pat['Histology_confirmed']= pat['Histology']!='not available'\n",
    "pat['MRIneg_&_histo'] = pat['Histology_confirmed'] & pat['Ever reported MRI negative']\n",
    "\n",
    "print(pat.groupby(['Ever reported MRI negative', 'Histology_confirmed'])['ID'].count())\n",
    "\n",
    "disp_df=pd.DataFrame(100*pat.groupby(['Ever reported MRI negative','Histology_confirmed']).mean()['detected']).round(1)\n",
    "disp_df['count'] = pat.groupby(['Ever reported MRI negative','Histology_confirmed']).count()['detected']\n",
    "print(disp_df)"
   ]
  }
 ],
 "metadata": {
  "kernelspec": {
   "display_name": "Python 3.9.10 ('meld_graph')",
   "language": "python",
   "name": "python3"
  },
  "language_info": {
   "codemirror_mode": {
    "name": "ipython",
    "version": 3
   },
   "file_extension": ".py",
   "mimetype": "text/x-python",
   "name": "python",
   "nbconvert_exporter": "python",
   "pygments_lexer": "ipython3",
   "version": "3.9.10"
  },
  "vscode": {
   "interpreter": {
    "hash": "c0176ae289e59992559f0c449061dac3c0e6a1074598f8b14680b865216cf195"
   }
  }
 },
 "nbformat": 4,
 "nbformat_minor": 2
}
