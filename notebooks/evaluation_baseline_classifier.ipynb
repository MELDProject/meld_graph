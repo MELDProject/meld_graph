{
 "cells": [
  {
   "cell_type": "code",
   "execution_count": 9,
   "id": "3a6574c3",
   "metadata": {},
   "outputs": [],
   "source": [
    "#load predictions\n",
    "import os\n",
    "import h5py\n",
    "import numpy as np\n",
    "from meld_classifier.meld_cohort import MeldCohort, MeldSubject\n",
    "import torch\n",
    "import pandas as pd\n"
   ]
  },
  {
   "cell_type": "code",
   "execution_count": 2,
   "id": "9604b6c7",
   "metadata": {},
   "outputs": [],
   "source": [
    "predictions_file_1 = os.path.join('/rds/project/kw350',\n",
    "             'rds-kw350-meld/experiments',\n",
    "             'co-ripa1/iteration_21-09-15/ensemble_21-09-15',\n",
    "             'fold_all/results/',\n",
    "             'predictions_ensemble_iteration.hdf5')\n",
    "\n",
    "predictions_file_2 = os.path.join('/rds/project/kw350/rds-kw350-meld/experiments/co-ripa1',\n",
    "                                       'iteration_21-09-17/ensemble_21-09-20/fold_all/',\n",
    "                                       'results','predictions_ensemble_iteration.hdf5')"
   ]
  },
  {
   "cell_type": "code",
   "execution_count": 4,
   "id": "ded03fb7",
   "metadata": {},
   "outputs": [],
   "source": [
    "def load_prediction(subject,hdf5):\n",
    "    results={}\n",
    "    with h5py.File(hdf5, \"r\") as f:\n",
    "        for hemi in ['lh','rh']:\n",
    "            results[hemi] = f[subject][hemi]['prediction'][:]\n",
    "    return results"
   ]
  },
  {
   "cell_type": "code",
   "execution_count": 5,
   "id": "6ee17c6a",
   "metadata": {},
   "outputs": [
    {
     "data": {
      "text/plain": [
       "45"
      ]
     },
     "execution_count": 5,
     "metadata": {},
     "output_type": "execute_result"
    }
   ],
   "source": [
    "## initialise subjects as being the val data \n",
    "\n",
    "subjects = ['MELD_H17_3T_FCD_0092','MELD_H5_3T_C_0005','MELD_H2_15T_C_0002','MELD_H4_15T_FCD_0005',\n",
    "'MELD_H4_3T_FCD_0008','MELD_H16_3T_FCD_042','MELD_H26_15T_FCD_0006','MELD_H4_3T_FCD_0041','MELD_H17_3T_FCD_0069',\n",
    " 'MELD_H14_3T_FCD_0028','MELD_H3_3T_C_0029','MELD_H3_3T_C_0025','MELD_H17_3T_FCD_0129','MELD_H21_3T_FCD_0022',\n",
    " 'MELD_H15_3T_C_0017','MELD_H4_15T_FCD_0022','MELD_H24_3T_FCD_0009','MELD_H12_3T_FCD_0029','MELD_H3_3T_C_0022',\n",
    " 'MELD_H10_3T_FCD_0006', 'MELD_H17_3T_FCD_0037','MELD_H3_3T_C_0027','MELD_H5_3T_FCD_0016','MELD_H17_3T_FCD_0063','MELD_H5_3T_FCD_0023','MELD_H11_3T_FCD_0026',\n",
    " 'MELD_H17_3T_FCD_0118','MELD_H2_3T_FCD_0002','MELD_H4_15T_C_0028','MELD_H14_3T_FCD_0006','MELD_H12_3T_FCD_0019','MELD_H14_3T_FCD_0005','MELD_H2_15T_FCD_0002',\n",
    " 'MELD_H21_3T_FCD_0020','MELD_H24_3T_FCD_0027','MELD_H19_3T_C_010', 'MELD_H10_3T_C_0004','MELD_H3_3T_C_0064',\n",
    " 'MELD_H17_3T_FCD_0123','MELD_H21_3T_FCD_0045','MELD_H3_3T_C_0002','MELD_H17_3T_FCD_0109',\n",
    " 'MELD_H15_3T_C_0021','MELD_H11_3T_FCD_0038','MELD_H17_3T_FCD_0059']\n",
    " \n",
    "len(subjects)\n"
   ]
  },
  {
   "cell_type": "code",
   "execution_count": 6,
   "id": "f4fc2cad",
   "metadata": {},
   "outputs": [],
   "source": [
    "c = MeldCohort(hdf5_file_root='{site_code}_{group}_featurematrix_combat_6.hdf5',\n",
    "               dataset='MELD_dataset_V6.csv')\n",
    "\n",
    "            "
   ]
  },
  {
   "cell_type": "code",
   "execution_count": 7,
   "id": "c13a8c7c",
   "metadata": {},
   "outputs": [
    {
     "name": "stdout",
     "output_type": "stream",
     "text": [
      "Setting EXPERIMENT_PATH to /rds/project/kw350/rds-kw350-meld/experiments_graph/co-ripa1\n"
     ]
    }
   ],
   "source": [
    "from meld_graph.training import tp_fp_fn_tn, get_sensitivity, dice_coeff"
   ]
  },
  {
   "cell_type": "code",
   "execution_count": 13,
   "id": "57df8d71",
   "metadata": {},
   "outputs": [
    {
     "name": "stdout",
     "output_type": "stream",
     "text": [
      "MELD_H17_3T_FCD_0092\n",
      "0.0\n",
      "MELD_H5_3T_C_0005\n",
      "MELD_H2_15T_C_0002\n",
      "MELD_H4_15T_FCD_0005\n",
      "MELD_H4_3T_FCD_0008\n",
      "MELD_H16_3T_FCD_042\n",
      "MELD_H26_15T_FCD_0006\n",
      "MELD_H4_3T_FCD_0041\n",
      "MELD_H17_3T_FCD_0069\n",
      "MELD_H14_3T_FCD_0028\n",
      "MELD_H3_3T_C_0029\n",
      "MELD_H3_3T_C_0025\n",
      "MELD_H17_3T_FCD_0129\n",
      "MELD_H21_3T_FCD_0022\n",
      "MELD_H15_3T_C_0017\n",
      "MELD_H4_15T_FCD_0022\n",
      "MELD_H24_3T_FCD_0009\n",
      "MELD_H12_3T_FCD_0029\n",
      "MELD_H3_3T_C_0022\n",
      "MELD_H10_3T_FCD_0006\n",
      "MELD_H17_3T_FCD_0037\n",
      "MELD_H3_3T_C_0027\n",
      "MELD_H5_3T_FCD_0016\n",
      "MELD_H17_3T_FCD_0063\n",
      "MELD_H5_3T_FCD_0023\n",
      "MELD_H11_3T_FCD_0026\n",
      "MELD_H17_3T_FCD_0118\n",
      "MELD_H2_3T_FCD_0002\n",
      "MELD_H4_15T_C_0028\n",
      "MELD_H14_3T_FCD_0006\n",
      "MELD_H12_3T_FCD_0019\n",
      "MELD_H14_3T_FCD_0005\n",
      "MELD_H2_15T_FCD_0002\n",
      "MELD_H21_3T_FCD_0020\n",
      "MELD_H24_3T_FCD_0027\n",
      "MELD_H19_3T_C_010\n",
      "MELD_H10_3T_C_0004\n",
      "MELD_H3_3T_C_0064\n",
      "MELD_H17_3T_FCD_0123\n",
      "MELD_H21_3T_FCD_0045\n",
      "MELD_H3_3T_C_0002\n",
      "MELD_H17_3T_FCD_0109\n",
      "MELD_H15_3T_C_0021\n",
      "MELD_H11_3T_FCD_0038\n",
      "MELD_H17_3T_FCD_0059\n"
     ]
    }
   ],
   "source": [
    "#### compute for multiple threshold with function from training\n",
    "\n",
    "features=['']\n",
    "\n",
    "df = pd.DataFrame()\n",
    "values={}\n",
    "for si,subject in enumerate(subjects):\n",
    "    print(subject)\n",
    "    if si%100==0:\n",
    "        print(si/len(subjects))\n",
    "        \n",
    "    results=[]\n",
    "    try:\n",
    "        hdf_predictions = os.path.join('/rds/project/kw350/rds-kw350-meld/experiments/co-ripa1',\n",
    "                                       'iteration_21-09-15/ensemble_21-09-15/fold_all/',\n",
    "                                       'results','predictions_ensemble_iteration.hdf5')\n",
    "        result_hemis = load_prediction(subject,hdf_predictions)\n",
    "        results=result_hemis\n",
    "    except KeyError:\n",
    "        hdf_predictions = os.path.join('/rds/project/kw350/rds-kw350-meld/experiments/co-ripa1',\n",
    "                                       'iteration_21-09-17/ensemble_21-09-20/fold_all/',\n",
    "                                       'results','predictions_ensemble_iteration.hdf5')\n",
    "        result_hemis = load_prediction(subject,hdf_predictions)\n",
    "        results=result_hemis\n",
    "          \n",
    "    subj = MeldSubject(subject,cohort=c)\n",
    "    detected = False\n",
    "    stats_stored = np.zeros((len(results),4))\n",
    "    dices = np.zeros((len(results),2))\n",
    "    values['ID']=subject\n",
    "    values['group']=subj.group\n",
    "    pred={}\n",
    "    target={}\n",
    "    \n",
    "    for hemi in ['lh','rh']:\n",
    "        _, label = subj.load_feature_lesion_data(\n",
    "            features, hemi=hemi, features_to_ignore=[])\n",
    "        \n",
    "        pred[hemi] = results[hemi].astype('bool')\n",
    "        target[hemi] = label[c.cortex_mask]\n",
    "    \n",
    "    preds = torch.as_tensor(np.array(np.hstack([pred['lh'], pred['rh']]))).long()\n",
    "    targets = torch.as_tensor(np.array(np.hstack([target['lh'], target['rh']]))).long()\n",
    "    stats_stored=tp_fp_fn_tn(targets,preds)\n",
    "    dices = dice_coeff(torch.nn.functional.one_hot(preds, num_classes=2),targets)\n",
    "    values['tp'] = np.array(stats_stored)[0].astype('float')\n",
    "    values['size pred'] = np.array((preds>0).sum()).astype('float')\n",
    "    values['dice lesion'] = np.array(dices)[1].astype('float')\n",
    "    values['dice non lesion'] = np.array(dices)[0].astype('float')\n",
    "    df=pd.concat([df, pd.DataFrame([values])])\n",
    "\n",
    "\n",
    "\n",
    "    "
   ]
  },
  {
   "cell_type": "code",
   "execution_count": 14,
   "id": "a7d6f90f",
   "metadata": {},
   "outputs": [
    {
     "data": {
      "text/html": [
       "<div>\n",
       "<style scoped>\n",
       "    .dataframe tbody tr th:only-of-type {\n",
       "        vertical-align: middle;\n",
       "    }\n",
       "\n",
       "    .dataframe tbody tr th {\n",
       "        vertical-align: top;\n",
       "    }\n",
       "\n",
       "    .dataframe thead th {\n",
       "        text-align: right;\n",
       "    }\n",
       "</style>\n",
       "<table border=\"1\" class=\"dataframe\">\n",
       "  <thead>\n",
       "    <tr style=\"text-align: right;\">\n",
       "      <th></th>\n",
       "      <th>ID</th>\n",
       "      <th>group</th>\n",
       "      <th>tp</th>\n",
       "      <th>size pred</th>\n",
       "      <th>dice lesion</th>\n",
       "      <th>dice non lesion</th>\n",
       "    </tr>\n",
       "  </thead>\n",
       "  <tbody>\n",
       "    <tr>\n",
       "      <th>0</th>\n",
       "      <td>MELD_H17_3T_FCD_0092</td>\n",
       "      <td>patient</td>\n",
       "      <td>838.0</td>\n",
       "      <td>2150.0</td>\n",
       "      <td>2.114826e-01</td>\n",
       "      <td>0.989220</td>\n",
       "    </tr>\n",
       "    <tr>\n",
       "      <th>0</th>\n",
       "      <td>MELD_H5_3T_C_0005</td>\n",
       "      <td>control</td>\n",
       "      <td>0.0</td>\n",
       "      <td>233.0</td>\n",
       "      <td>4.291846e-18</td>\n",
       "      <td>0.999603</td>\n",
       "    </tr>\n",
       "    <tr>\n",
       "      <th>0</th>\n",
       "      <td>MELD_H2_15T_C_0002</td>\n",
       "      <td>control</td>\n",
       "      <td>0.0</td>\n",
       "      <td>0.0</td>\n",
       "      <td>1.000000e+00</td>\n",
       "      <td>1.000000</td>\n",
       "    </tr>\n",
       "    <tr>\n",
       "      <th>0</th>\n",
       "      <td>MELD_H4_15T_FCD_0005</td>\n",
       "      <td>patient</td>\n",
       "      <td>1520.0</td>\n",
       "      <td>3701.0</td>\n",
       "      <td>4.296212e-01</td>\n",
       "      <td>0.993048</td>\n",
       "    </tr>\n",
       "    <tr>\n",
       "      <th>0</th>\n",
       "      <td>MELD_H4_3T_FCD_0008</td>\n",
       "      <td>patient</td>\n",
       "      <td>0.0</td>\n",
       "      <td>1813.0</td>\n",
       "      <td>3.011141e-19</td>\n",
       "      <td>0.994316</td>\n",
       "    </tr>\n",
       "  </tbody>\n",
       "</table>\n",
       "</div>"
      ],
      "text/plain": [
       "                     ID    group      tp size pred   dice lesion  \\\n",
       "0  MELD_H17_3T_FCD_0092  patient   838.0    2150.0  2.114826e-01   \n",
       "0     MELD_H5_3T_C_0005  control     0.0     233.0  4.291846e-18   \n",
       "0    MELD_H2_15T_C_0002  control     0.0       0.0  1.000000e+00   \n",
       "0  MELD_H4_15T_FCD_0005  patient  1520.0    3701.0  4.296212e-01   \n",
       "0   MELD_H4_3T_FCD_0008  patient     0.0    1813.0  3.011141e-19   \n",
       "\n",
       "   dice non lesion  \n",
       "0         0.989220  \n",
       "0         0.999603  \n",
       "0         1.000000  \n",
       "0         0.993048  \n",
       "0         0.994316  "
      ]
     },
     "execution_count": 14,
     "metadata": {},
     "output_type": "execute_result"
    }
   ],
   "source": [
    "df.head()"
   ]
  },
  {
   "cell_type": "code",
   "execution_count": 16,
   "id": "57189ace",
   "metadata": {},
   "outputs": [
    {
     "name": "stdout",
     "output_type": "stream",
     "text": [
      "mean dice lesional patient : 0.2306703891372308\n",
      "mean dice lesional all : 0.31958783227536414\n",
      "mean dice non lesional all : 0.9953771008385552\n",
      "sensitivity patient : 0.59375\n",
      "specificity controls : 0.5384615384615384\n"
     ]
    }
   ],
   "source": [
    "mean_dice_les = df[df['group']=='patient']['dice lesion'].mean()\n",
    "print(f'mean dice lesional patient : {mean_dice_les}')\n",
    "\n",
    "mean_dice_les_all = df['dice lesion'].mean()\n",
    "print(f'mean dice lesional all : {mean_dice_les_all}')\n",
    "\n",
    "mean_dice_nonles_all = df['dice non lesion'].mean()\n",
    "print(f'mean dice non lesional all : {mean_dice_nonles_all}')\n",
    "\n",
    "sensitivity = len(df[(df['group']=='patient') & (df['tp']>0)])/len(df[(df['group']=='patient')])\n",
    "print(f'sensitivity patient : {sensitivity}')\n",
    "\n",
    "specificity = len(df[(df['group']=='control') & (df['size pred']==0)])/len(df[(df['group']=='control')])\n",
    "print(f'specificity controls : {specificity}')"
   ]
  },
  {
   "cell_type": "markdown",
   "id": "d4a8ce17",
   "metadata": {},
   "source": []
  }
 ],
 "metadata": {
  "kernelspec": {
   "display_name": "Python 3.9.10 ('meld_graph')",
   "language": "python",
   "name": "python3"
  },
  "language_info": {
   "codemirror_mode": {
    "name": "ipython",
    "version": 3
   },
   "file_extension": ".py",
   "mimetype": "text/x-python",
   "name": "python",
   "nbconvert_exporter": "python",
   "pygments_lexer": "ipython3",
   "version": "3.9.10"
  },
  "vscode": {
   "interpreter": {
    "hash": "c0176ae289e59992559f0c449061dac3c0e6a1074598f8b14680b865216cf195"
   }
  }
 },
 "nbformat": 4,
 "nbformat_minor": 5
}
