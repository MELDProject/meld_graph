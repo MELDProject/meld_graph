{
 "cells": [
  {
   "cell_type": "markdown",
   "metadata": {},
   "source": [
    "#### Notebook to analyse model on dataset of only patients MRI-negative and Histology confirmed\n",
    "\n",
    "Support used for JAMA revisions"
   ]
  },
  {
   "cell_type": "code",
   "execution_count": 1,
   "metadata": {},
   "outputs": [
    {
     "name": "stdout",
     "output_type": "stream",
     "text": [
      "Setting MELD_DATA_PATH to /rds/project/kw350/rds-kw350-meld/meld_data/Data\n",
      "Setting BASE_PATH to /rds/project/kw350/rds-kw350-meld/meld_data/Data\n",
      "Setting EXPERIMENT_PATH to /rds/project/kw350/rds-kw350-meld/experiments/co-ripa1/\n",
      "Setting FS_SUBJECTS_PATH to /rds/project/kw350/rds-kw350-meld/meld_data/Data\n",
      "Setting BASE_PATH to /rds/project/kw350/rds-kw350-meld/meld_data/Data\n"
     ]
    }
   ],
   "source": [
    "import os\n",
    "import pandas as pd \n",
    "import sys\n",
    "sys.path.append('/home/co-ripa1/rds/hpc-work/scripts/meld_classifier')\n",
    "import meld_classifier.paths as paths\n"
   ]
  },
  {
   "cell_type": "markdown",
   "metadata": {},
   "source": [
    "## Create the dataset"
   ]
  },
  {
   "cell_type": "code",
   "execution_count": 21,
   "metadata": {},
   "outputs": [],
   "source": [
    "# get the original dataset with train and test split\n",
    "orig_df = pd.read_csv(os.path.join(paths.BASE_PATH, 'MELD_dataset_V6.csv'), index_col=0)\n",
    "\n",
    "#get the list of patients mri neg and histo confirmed\n",
    "patients_mrineghisto=  pd.read_csv(os.path.join(paths.BASE_PATH, 'list_patients_mrineg_histo.csv'))['ID']"
   ]
  },
  {
   "cell_type": "code",
   "execution_count": 26,
   "metadata": {},
   "outputs": [
    {
     "data": {
      "text/html": [
       "<div>\n",
       "<style scoped>\n",
       "    .dataframe tbody tr th:only-of-type {\n",
       "        vertical-align: middle;\n",
       "    }\n",
       "\n",
       "    .dataframe tbody tr th {\n",
       "        vertical-align: top;\n",
       "    }\n",
       "\n",
       "    .dataframe thead th {\n",
       "        text-align: right;\n",
       "    }\n",
       "</style>\n",
       "<table border=\"1\" class=\"dataframe\">\n",
       "  <thead>\n",
       "    <tr style=\"text-align: right;\">\n",
       "      <th></th>\n",
       "      <th>subject_id</th>\n",
       "      <th>split</th>\n",
       "    </tr>\n",
       "  </thead>\n",
       "  <tbody>\n",
       "    <tr>\n",
       "      <th>0</th>\n",
       "      <td>MELD2_H7_3T_FCD_007</td>\n",
       "      <td>trainval</td>\n",
       "    </tr>\n",
       "    <tr>\n",
       "      <th>1</th>\n",
       "      <td>MELD2_H7_3T_FCD_008</td>\n",
       "      <td>trainval</td>\n",
       "    </tr>\n",
       "    <tr>\n",
       "      <th>2</th>\n",
       "      <td>MELD_H10_3T_FCD_0001</td>\n",
       "      <td>trainval</td>\n",
       "    </tr>\n",
       "    <tr>\n",
       "      <th>3</th>\n",
       "      <td>MELD_H10_3T_FCD_0002</td>\n",
       "      <td>test</td>\n",
       "    </tr>\n",
       "    <tr>\n",
       "      <th>4</th>\n",
       "      <td>MELD_H10_3T_FCD_0003</td>\n",
       "      <td>trainval</td>\n",
       "    </tr>\n",
       "    <tr>\n",
       "      <th>...</th>\n",
       "      <td>...</td>\n",
       "      <td>...</td>\n",
       "    </tr>\n",
       "    <tr>\n",
       "      <th>130</th>\n",
       "      <td>MELD_H4_15T_FCD_0004</td>\n",
       "      <td>trainval</td>\n",
       "    </tr>\n",
       "    <tr>\n",
       "      <th>131</th>\n",
       "      <td>MELD_H4_15T_FCD_0005</td>\n",
       "      <td>trainval</td>\n",
       "    </tr>\n",
       "    <tr>\n",
       "      <th>132</th>\n",
       "      <td>MELD_H4_15T_FCD_0010</td>\n",
       "      <td>trainval</td>\n",
       "    </tr>\n",
       "    <tr>\n",
       "      <th>133</th>\n",
       "      <td>MELD_H4_3T_FCD_0007</td>\n",
       "      <td>test</td>\n",
       "    </tr>\n",
       "    <tr>\n",
       "      <th>134</th>\n",
       "      <td>MELD_H5_3T_FCD_0010</td>\n",
       "      <td>trainval</td>\n",
       "    </tr>\n",
       "  </tbody>\n",
       "</table>\n",
       "<p>135 rows × 2 columns</p>\n",
       "</div>"
      ],
      "text/plain": [
       "               subject_id     split\n",
       "0     MELD2_H7_3T_FCD_007  trainval\n",
       "1     MELD2_H7_3T_FCD_008  trainval\n",
       "2    MELD_H10_3T_FCD_0001  trainval\n",
       "3    MELD_H10_3T_FCD_0002      test\n",
       "4    MELD_H10_3T_FCD_0003  trainval\n",
       "..                    ...       ...\n",
       "130  MELD_H4_15T_FCD_0004  trainval\n",
       "131  MELD_H4_15T_FCD_0005  trainval\n",
       "132  MELD_H4_15T_FCD_0010  trainval\n",
       "133   MELD_H4_3T_FCD_0007      test\n",
       "134   MELD_H5_3T_FCD_0010  trainval\n",
       "\n",
       "[135 rows x 2 columns]"
      ]
     },
     "execution_count": 26,
     "metadata": {},
     "output_type": "execute_result"
    }
   ],
   "source": [
    "# Extract only patients mrineg and histo confirmed\n",
    "\n",
    "new_df = orig_df[orig_df['subject_id'].isin(patients_mrineghisto)]\n",
    "new_df = new_df.loc[:, ~new_df.columns.str.contains('^Unnamed')]\n",
    "new_df = new_df.reset_index(drop=True)\n",
    "new_df\n",
    "\n"
   ]
  },
  {
   "cell_type": "code",
   "execution_count": 28,
   "metadata": {},
   "outputs": [],
   "source": [
    "#save\n",
    "new_df.to_csv(os.path.join(paths.BASE_PATH, 'MELD_dataset_V6_mrineg&histo.csv'))"
   ]
  },
  {
   "cell_type": "markdown",
   "metadata": {},
   "source": [
    "## Analyse the performances"
   ]
  },
  {
   "cell_type": "code",
   "execution_count": 2,
   "metadata": {},
   "outputs": [
    {
     "name": "stdout",
     "output_type": "stream",
     "text": [
      "Setting EXPERIMENT_PATH to /rds/project/kw350/rds-kw350-meld/experiments_graph/kw350\n"
     ]
    }
   ],
   "source": [
    "sys.path.append('/home/co-ripa1/rds/hpc-work/scripts/meld_classifier')\n",
    "from meld_classifier.meld_cohort import MeldCohort,MeldSubject\n",
    "import h5py\n",
    "import pandas as pd\n",
    "import numpy as np\n",
    "from meld_graph.evaluation import load_prediction"
   ]
  },
  {
   "cell_type": "code",
   "execution_count": 4,
   "metadata": {},
   "outputs": [],
   "source": [
    "experiment_dir = '/rds/project/kw350/rds-kw350-meld/experiments_graph/co-ripa1'\n",
    "model ='24-08-01_MRIN_dcp'   \n",
    "pred_file = os.path.join(experiment_dir,model,'s_0','fold_all','results_best_model', 'predictions.hdf5')\n",
    "cohort= MeldCohort(hdf5_file_root='{site_code}_{group}_featurematrix_combat_6_kernels_noCombat.hdf5',\n",
    "                            dataset='MELD_dataset_v6.csv')\n",
    "\n",
    "with h5py.File(pred_file, \"r\") as f:\n",
    "    subjects = list(f.keys())"
   ]
  },
  {
   "cell_type": "code",
   "execution_count": 5,
   "metadata": {},
   "outputs": [
    {
     "name": "stdout",
     "output_type": "stream",
     "text": [
      "0\n"
     ]
    },
    {
     "data": {
      "text/html": [
       "<div>\n",
       "<style scoped>\n",
       "    .dataframe tbody tr th:only-of-type {\n",
       "        vertical-align: middle;\n",
       "    }\n",
       "\n",
       "    .dataframe tbody tr th {\n",
       "        vertical-align: top;\n",
       "    }\n",
       "\n",
       "    .dataframe thead th {\n",
       "        text-align: right;\n",
       "    }\n",
       "</style>\n",
       "<table border=\"1\" class=\"dataframe\">\n",
       "  <thead>\n",
       "    <tr style=\"text-align: right;\">\n",
       "      <th></th>\n",
       "      <th>index</th>\n",
       "      <th>ID</th>\n",
       "      <th>group</th>\n",
       "      <th>model</th>\n",
       "      <th>detected</th>\n",
       "      <th>number TP clusters</th>\n",
       "      <th>size_pred</th>\n",
       "      <th>IOU</th>\n",
       "      <th>IOU_plus</th>\n",
       "      <th>number FP clusters</th>\n",
       "    </tr>\n",
       "  </thead>\n",
       "  <tbody>\n",
       "    <tr>\n",
       "      <th>0</th>\n",
       "      <td>0</td>\n",
       "      <td>MELD_H10_3T_FCD_0002</td>\n",
       "      <td>True</td>\n",
       "      <td>graph</td>\n",
       "      <td>True</td>\n",
       "      <td>1</td>\n",
       "      <td>17009</td>\n",
       "      <td>0.599766</td>\n",
       "      <td>0.221706</td>\n",
       "      <td>0</td>\n",
       "    </tr>\n",
       "    <tr>\n",
       "      <th>1</th>\n",
       "      <td>0</td>\n",
       "      <td>MELD_H10_3T_FCD_0009</td>\n",
       "      <td>True</td>\n",
       "      <td>graph</td>\n",
       "      <td>False</td>\n",
       "      <td>0</td>\n",
       "      <td>20338</td>\n",
       "      <td>0.000000</td>\n",
       "      <td>0.000000</td>\n",
       "      <td>1</td>\n",
       "    </tr>\n",
       "    <tr>\n",
       "      <th>2</th>\n",
       "      <td>0</td>\n",
       "      <td>MELD_H10_3T_FCD_0016</td>\n",
       "      <td>True</td>\n",
       "      <td>graph</td>\n",
       "      <td>True</td>\n",
       "      <td>1</td>\n",
       "      <td>29340</td>\n",
       "      <td>0.397996</td>\n",
       "      <td>0.149250</td>\n",
       "      <td>0</td>\n",
       "    </tr>\n",
       "    <tr>\n",
       "      <th>3</th>\n",
       "      <td>0</td>\n",
       "      <td>MELD_H11_3T_FCD_0002</td>\n",
       "      <td>True</td>\n",
       "      <td>graph</td>\n",
       "      <td>True</td>\n",
       "      <td>1</td>\n",
       "      <td>14438</td>\n",
       "      <td>0.035077</td>\n",
       "      <td>0.193221</td>\n",
       "      <td>2</td>\n",
       "    </tr>\n",
       "    <tr>\n",
       "      <th>4</th>\n",
       "      <td>0</td>\n",
       "      <td>MELD_H11_3T_FCD_0006</td>\n",
       "      <td>True</td>\n",
       "      <td>graph</td>\n",
       "      <td>True</td>\n",
       "      <td>1</td>\n",
       "      <td>6713</td>\n",
       "      <td>0.031262</td>\n",
       "      <td>0.220445</td>\n",
       "      <td>1</td>\n",
       "    </tr>\n",
       "  </tbody>\n",
       "</table>\n",
       "</div>"
      ],
      "text/plain": [
       "   index                    ID  group  model  detected  number TP clusters  \\\n",
       "0      0  MELD_H10_3T_FCD_0002   True  graph      True                   1   \n",
       "1      0  MELD_H10_3T_FCD_0009   True  graph     False                   0   \n",
       "2      0  MELD_H10_3T_FCD_0016   True  graph      True                   1   \n",
       "3      0  MELD_H11_3T_FCD_0002   True  graph      True                   1   \n",
       "4      0  MELD_H11_3T_FCD_0006   True  graph      True                   1   \n",
       "\n",
       "   size_pred       IOU  IOU_plus  number FP clusters  \n",
       "0      17009  0.599766  0.221706                   0  \n",
       "1      20338  0.000000  0.000000                   1  \n",
       "2      29340  0.397996  0.149250                   0  \n",
       "3      14438  0.035077  0.193221                   2  \n",
       "4       6713  0.031262  0.220445                   1  "
      ]
     },
     "execution_count": 5,
     "metadata": {},
     "output_type": "execute_result"
    }
   ],
   "source": [
    "df=pd.DataFrame()\n",
    "subjects_dictionary={}\n",
    "values={}\n",
    "for si,subj in enumerate(subjects):\n",
    "    if si%100==0:\n",
    "        print(si)\n",
    "    values['ID']=subj\n",
    "    if \"H101\" in subj:\n",
    "        s = MeldSubject(subj,cohort=cohort2)\n",
    "    else:\n",
    "        s = MeldSubject(subj,cohort=cohort)\n",
    "    values['group']= True if s.group=='patient' else False\n",
    "    labels_hemis = {}\n",
    "    dists={}\n",
    "    labels = np.zeros(len(cohort.cortex_label)*2)\n",
    "    for hemi in ['lh','rh']:\n",
    "        dists[hemi], labels_hemis[hemi] = s.load_feature_lesion_data(\n",
    "                    features=['.on_lh.boundary_zone.mgh'], hemi=hemi, features_to_ignore=[]\n",
    "                )\n",
    "        if np.sum(dists[hemi])==0:\n",
    "            dists[hemi] +=200\n",
    "    labels = np.hstack([labels_hemis['lh'][cohort.cortex_mask],labels_hemis['rh'][cohort.cortex_mask]])\n",
    "    borderzones = np.vstack([dists['lh'][cohort.cortex_mask,:],dists['rh'][cohort.cortex_mask,:]]).ravel()<20\n",
    "    #load pred from graph classifier\n",
    "\n",
    "    result_hemis = load_prediction(subj,pred_file, dset='prediction_clustered')\n",
    "    result = np.hstack([result_hemis['lh'],result_hemis['rh']])\n",
    "    values['model']='graph'\n",
    "    \n",
    "    #add detection with borderzone\n",
    "    if labels.sum()>0:\n",
    "        values['detected'] = np.logical_and(result, borderzones).any()\n",
    "        clusters_in_borderzone = set(result[borderzones.astype('bool')])\n",
    "        #remove the 0 cluster\n",
    "        if 0 in clusters_in_borderzone:\n",
    "            clusters_in_borderzone.remove(0)\n",
    "        values['number TP clusters'] = len(clusters_in_borderzone)\n",
    "        values['size_pred'] = len(result[borderzones.astype('bool')])\n",
    "        values['IOU'] = (np.logical_and(result, labels)).sum() / (np.logical_or(result, labels)).sum() \n",
    "        values['IOU_plus'] = (np.logical_and(result, borderzones)).sum() / (np.logical_or(result, borderzones)).sum() \n",
    "    \n",
    "    else:\n",
    "        values['number TP clusters'] = 0\n",
    "        values['IOU'] = np.nan\n",
    "        values['IOU_plus'] = np.nan\n",
    "    \n",
    "    # add number of FP clusters : total clusters - TP clusters\n",
    "    values['number FP clusters']=len(set(result_hemis['lh']))+len(set(result_hemis['rh']))-2-values['number TP clusters']\n",
    "    df=pd.concat([df,pd.DataFrame([values])])\n",
    "    \n",
    "    \n",
    "df = df.reset_index()\n",
    "df.head()"
   ]
  },
  {
   "cell_type": "code",
   "execution_count": 8,
   "metadata": {},
   "outputs": [],
   "source": [
    "def df_stats(df):\n",
    "    sensitivity = np.mean(df['detected'][df['group']])\n",
    "    specificity = (df['number FP clusters'][df['group']==0]==0).mean()\n",
    "    total_detected = np.sum(df['number TP clusters'][df['group']])\n",
    "    total_predicted = np.sum(df['number FP clusters'][df['group']])\n",
    "    ppv = total_detected / (total_predicted + total_detected)\n",
    "    return np.round(sensitivity,2),np.round(specificity,2),np.round(ppv,2)\n",
    "\n",
    "# bootstrapped confidence intervals\n",
    "def bootstrap_CI(df, n=10000, func=df_stats):\n",
    "    \"\"\"Calculate confidence intervals for a given function\"\"\"\n",
    "    bootstrapped = []\n",
    "    for i in range(n):\n",
    "        bootstrapped.append(func(df.sample(len(df), replace=True)))\n",
    "    return np.percentile(np.array(bootstrapped), [2.5, 97.5],axis=0)"
   ]
  },
  {
   "cell_type": "code",
   "execution_count": 9,
   "metadata": {},
   "outputs": [
    {
     "name": "stdout",
     "output_type": "stream",
     "text": [
      "all together\n",
      "sensitivity specificity ppv\n",
      "0.78 nan 0.43\n",
      "[[0.67  nan 0.36]\n",
      " [0.88  nan 0.51]]\n"
     ]
    }
   ],
   "source": [
    "print('all together')\n",
    "dfsub = df.copy()\n",
    "sensitivity, specificity, ppv = df_stats(dfsub)\n",
    "print('sensitivity specificity ppv')\n",
    "print(sensitivity,specificity,ppv)\n",
    "print(bootstrap_CI(dfsub))"
   ]
  },
  {
   "cell_type": "code",
   "execution_count": 11,
   "metadata": {},
   "outputs": [
    {
     "data": {
      "text/plain": [
       "58"
      ]
     },
     "execution_count": 11,
     "metadata": {},
     "output_type": "execute_result"
    }
   ],
   "source": [
    "len(df['ID'])"
   ]
  }
 ],
 "metadata": {
  "kernelspec": {
   "display_name": "Python 3.9.10 ('meld_graph')",
   "language": "python",
   "name": "python3"
  },
  "language_info": {
   "codemirror_mode": {
    "name": "ipython",
    "version": 3
   },
   "file_extension": ".py",
   "mimetype": "text/x-python",
   "name": "python",
   "nbconvert_exporter": "python",
   "pygments_lexer": "ipython3",
   "version": "3.9.10"
  },
  "vscode": {
   "interpreter": {
    "hash": "c0176ae289e59992559f0c449061dac3c0e6a1074598f8b14680b865216cf195"
   }
  }
 },
 "nbformat": 4,
 "nbformat_minor": 2
}
