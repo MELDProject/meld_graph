{
 "cells": [
  {
   "cell_type": "markdown",
   "metadata": {},
   "source": [
    "#### Notebook to analyse model trained on only patients MRI-negative and histology confirmed\n",
    "\n",
    "Support used for JAMA revisions"
   ]
  },
  {
   "cell_type": "code",
   "execution_count": null,
   "metadata": {},
   "outputs": [],
   "source": [
    "import os\n",
    "import pandas as pd \n",
    "import sys\n",
    "import meld_classifier.paths as paths\n"
   ]
  },
  {
   "cell_type": "markdown",
   "metadata": {},
   "source": [
    "## Create the dataset"
   ]
  },
  {
   "cell_type": "code",
   "execution_count": 8,
   "metadata": {},
   "outputs": [],
   "source": [
    "# get the original dataset with train and test split\n",
    "orig_df = pd.read_csv(os.path.join(paths.BASE_PATH, 'MELD_dataset_V6.csv'), index_col=0)\n",
    "\n",
    "#get the list of patients mri neg and histo confirmed\n",
    "patients_mrineghisto=  pd.read_csv(os.path.join(paths.BASE_PATH, 'list_patients_mrineg_histo.csv'))['ID']"
   ]
  },
  {
   "cell_type": "code",
   "execution_count": 3,
   "metadata": {},
   "outputs": [
    {
     "name": "stdout",
     "output_type": "stream",
     "text": [
      "508\n"
     ]
    },
    {
     "data": {
      "text/html": [
       "<div>\n",
       "<style scoped>\n",
       "    .dataframe tbody tr th:only-of-type {\n",
       "        vertical-align: middle;\n",
       "    }\n",
       "\n",
       "    .dataframe tbody tr th {\n",
       "        vertical-align: top;\n",
       "    }\n",
       "\n",
       "    .dataframe thead th {\n",
       "        text-align: right;\n",
       "    }\n",
       "</style>\n",
       "<table border=\"1\" class=\"dataframe\">\n",
       "  <thead>\n",
       "    <tr style=\"text-align: right;\">\n",
       "      <th></th>\n",
       "      <th>subject_id</th>\n",
       "      <th>split</th>\n",
       "    </tr>\n",
       "  </thead>\n",
       "  <tbody>\n",
       "    <tr>\n",
       "      <th>0</th>\n",
       "      <td>MELD2_H7_3T_FCD_007</td>\n",
       "      <td>trainval</td>\n",
       "    </tr>\n",
       "    <tr>\n",
       "      <th>1</th>\n",
       "      <td>MELD2_H7_3T_FCD_008</td>\n",
       "      <td>trainval</td>\n",
       "    </tr>\n",
       "    <tr>\n",
       "      <th>2</th>\n",
       "      <td>MELD_H10_3T_C_0002</td>\n",
       "      <td>trainval</td>\n",
       "    </tr>\n",
       "    <tr>\n",
       "      <th>3</th>\n",
       "      <td>MELD_H10_3T_C_0003</td>\n",
       "      <td>trainval</td>\n",
       "    </tr>\n",
       "    <tr>\n",
       "      <th>4</th>\n",
       "      <td>MELD_H10_3T_C_0004</td>\n",
       "      <td>trainval</td>\n",
       "    </tr>\n",
       "    <tr>\n",
       "      <th>...</th>\n",
       "      <td>...</td>\n",
       "      <td>...</td>\n",
       "    </tr>\n",
       "    <tr>\n",
       "      <th>503</th>\n",
       "      <td>MELD_H9_3T_C_0003</td>\n",
       "      <td>trainval</td>\n",
       "    </tr>\n",
       "    <tr>\n",
       "      <th>504</th>\n",
       "      <td>MELD_H9_3T_C_0004</td>\n",
       "      <td>trainval</td>\n",
       "    </tr>\n",
       "    <tr>\n",
       "      <th>505</th>\n",
       "      <td>MELD_H9_3T_C_0005</td>\n",
       "      <td>test</td>\n",
       "    </tr>\n",
       "    <tr>\n",
       "      <th>506</th>\n",
       "      <td>MELD_H9_3T_C_0007</td>\n",
       "      <td>test</td>\n",
       "    </tr>\n",
       "    <tr>\n",
       "      <th>507</th>\n",
       "      <td>MELD_H9_3T_C_0009</td>\n",
       "      <td>test</td>\n",
       "    </tr>\n",
       "  </tbody>\n",
       "</table>\n",
       "<p>508 rows × 2 columns</p>\n",
       "</div>"
      ],
      "text/plain": [
       "              subject_id     split\n",
       "0    MELD2_H7_3T_FCD_007  trainval\n",
       "1    MELD2_H7_3T_FCD_008  trainval\n",
       "2     MELD_H10_3T_C_0002  trainval\n",
       "3     MELD_H10_3T_C_0003  trainval\n",
       "4     MELD_H10_3T_C_0004  trainval\n",
       "..                   ...       ...\n",
       "503    MELD_H9_3T_C_0003  trainval\n",
       "504    MELD_H9_3T_C_0004  trainval\n",
       "505    MELD_H9_3T_C_0005      test\n",
       "506    MELD_H9_3T_C_0007      test\n",
       "507    MELD_H9_3T_C_0009      test\n",
       "\n",
       "[508 rows x 2 columns]"
      ]
     },
     "execution_count": 3,
     "metadata": {},
     "output_type": "execute_result"
    }
   ],
   "source": [
    "# Extract only patients mrineg and histo confirmed, and controls \n",
    "\n",
    "new_df = orig_df[(orig_df['subject_id'].str.contains('_C_')) | (orig_df['subject_id'].isin(patients_mrineghisto))]\n",
    "new_df = new_df.loc[:, ~new_df.columns.str.contains('^Unnamed')]\n",
    "new_df = new_df.reset_index(drop=True)\n",
    "print(len(new_df))\n",
    "new_df\n",
    "\n"
   ]
  },
  {
   "cell_type": "code",
   "execution_count": 7,
   "metadata": {},
   "outputs": [
    {
     "data": {
      "text/plain": [
       "135"
      ]
     },
     "execution_count": 7,
     "metadata": {},
     "output_type": "execute_result"
    }
   ],
   "source": [
    "(new_df['subject_id'].str.contains('_FCD_')).sum()"
   ]
  },
  {
   "cell_type": "code",
   "execution_count": 14,
   "metadata": {},
   "outputs": [],
   "source": [
    "#save\n",
    "new_df.to_csv(os.path.join(paths.BASE_PATH, 'MELD_dataset_V6_mrineg&histo.csv'))"
   ]
  },
  {
   "cell_type": "markdown",
   "metadata": {},
   "source": [
    "## Analyse the performances"
   ]
  },
  {
   "cell_type": "code",
   "execution_count": 4,
   "metadata": {},
   "outputs": [
    {
     "name": "stdout",
     "output_type": "stream",
     "text": [
      "Setting EXPERIMENT_PATH to /rds/project/kw350/rds-kw350-meld/experiments_graph/kw350\n"
     ]
    }
   ],
   "source": [
    "from meld_classifier.meld_cohort import MeldCohort,MeldSubject\n",
    "import h5py\n",
    "import pandas as pd\n",
    "import numpy as np\n",
    "from meld_graph.evaluation import load_prediction"
   ]
  },
  {
   "cell_type": "code",
   "execution_count": 5,
   "metadata": {},
   "outputs": [],
   "source": [
    "def get_results_graph(subjects, cohort, pred_file ):\n",
    "    df=pd.DataFrame()\n",
    "    subjects_dictionary={}\n",
    "    values={}\n",
    "    for si,subj in enumerate(subjects):\n",
    "        if si%100==0:\n",
    "            print(si)\n",
    "        values['ID']=subj\n",
    "        if \"H101\" in subj:\n",
    "            s = MeldSubject(subj,cohort=cohort2)\n",
    "        else:\n",
    "            s = MeldSubject(subj,cohort=cohort)\n",
    "        values['group']= True if s.group=='patient' else False\n",
    "        labels_hemis = {}\n",
    "        dists={}\n",
    "        labels = np.zeros(len(cohort.cortex_label)*2)\n",
    "        for hemi in ['lh','rh']:\n",
    "            dists[hemi], labels_hemis[hemi] = s.load_feature_lesion_data(\n",
    "                        features=['.on_lh.boundary_zone.mgh'], hemi=hemi, features_to_ignore=[]\n",
    "                    )\n",
    "            if np.sum(dists[hemi])==0:\n",
    "                dists[hemi] +=200\n",
    "        labels = np.hstack([labels_hemis['lh'][cohort.cortex_mask],labels_hemis['rh'][cohort.cortex_mask]])\n",
    "        borderzones = np.vstack([dists['lh'][cohort.cortex_mask,:],dists['rh'][cohort.cortex_mask,:]]).ravel()<20\n",
    "        #load pred from graph classifier\n",
    "\n",
    "        result_hemis = load_prediction(subj,pred_file, dset='prediction_clustered')\n",
    "        result = np.hstack([result_hemis['lh'],result_hemis['rh']])\n",
    "        values['model']='graph'\n",
    "        \n",
    "        #add detection with borderzone\n",
    "        if labels.sum()>0:\n",
    "            values['detected'] = np.logical_and(result, borderzones).any()\n",
    "            clusters_in_borderzone = set(result[borderzones.astype('bool')])\n",
    "            #remove the 0 cluster\n",
    "            if 0 in clusters_in_borderzone:\n",
    "                clusters_in_borderzone.remove(0)\n",
    "            values['number TP clusters'] = len(clusters_in_borderzone)\n",
    "            values['size_pred'] = len(result[borderzones.astype('bool')])\n",
    "            values['IOU'] = (np.logical_and(result, labels)).sum() / (np.logical_or(result, labels)).sum() \n",
    "            values['IOU_plus'] = (np.logical_and(result, borderzones)).sum() / (np.logical_or(result, borderzones)).sum() \n",
    "        \n",
    "        else:\n",
    "            values['number TP clusters'] = 0\n",
    "            values['IOU'] = np.nan\n",
    "            values['IOU_plus'] = np.nan\n",
    "        \n",
    "        # add number of FP clusters : total clusters - TP clusters\n",
    "        values['number FP clusters']=len(set(result_hemis['lh']))+len(set(result_hemis['rh']))-2-values['number TP clusters']\n",
    "        df=pd.concat([df,pd.DataFrame([values])])\n",
    "        \n",
    "    df = df.reset_index()\n",
    "    return df"
   ]
  },
  {
   "cell_type": "code",
   "execution_count": 6,
   "metadata": {},
   "outputs": [],
   "source": [
    "\n",
    "def df_stats(df, metrics=['sensitivity','specificity', 'ppv', 'IOU', 'IOU+']):\n",
    "    metric_results = []\n",
    "    for metric in metrics:\n",
    "        if metric == 'sensitivity':\n",
    "            sensitivity = np.mean(df['detected'][df['group']])\n",
    "            metric_results.append(round(sensitivity,2))\n",
    "        elif metric == 'specificity':\n",
    "            specificity = (df['number FP clusters'][df['group']==False]==0).mean()\n",
    "            metric_results.append(round(specificity,2))\n",
    "        elif metric == 'ppv':\n",
    "            total_detected = np.sum(df['number TP clusters'][df['group']])\n",
    "            total_predicted = np.sum(df['number FP clusters'][df['group']])\n",
    "            ppv = total_detected / (total_predicted + total_detected)\n",
    "            metric_results.append(round(ppv,2))\n",
    "        elif metric == 'IOU':\n",
    "            iou = np.mean(df[(df['group'])&(df['detected'])]['IOU'])\n",
    "            metric_results.append(round(iou,2))\n",
    "        elif metric == 'IOU+':\n",
    "            iou_plus = np.mean(df[(df['group'])&(df['detected'])]['IOU_plus'])\n",
    "            metric_results.append(round(iou_plus,2))\n",
    "        else:\n",
    "            print(f'Metric {metric} does not exist')\n",
    "            pass\n",
    "    return metric_results\n",
    "\n",
    "# bootstrapped confidence intervals\n",
    "def bootstrap_CI(df, n=10000, func=df_stats):\n",
    "    \"\"\"Calculate confidence intervals for a given function\"\"\"\n",
    "    bootstrapped = []\n",
    "    for i in range(n):\n",
    "        bootstrapped.append(func(df.sample(len(df), replace=True)))\n",
    "    return np.percentile(np.array(bootstrapped), [2.5, 97.5],axis=0)\n",
    "\n",
    "def get_pvalue(stat, distribution):\n",
    "    p_pos = np.mean(distribution > stat)\n",
    "    p_neg = np.mean(distribution < stat)\n",
    "    p = min(p_pos,p_neg)*2\n",
    "    return p"
   ]
  },
  {
   "cell_type": "code",
   "execution_count": 9,
   "metadata": {},
   "outputs": [
    {
     "name": "stdout",
     "output_type": "stream",
     "text": [
      "0\n",
      "100\n",
      "200\n",
      "251\n",
      "sensitivity specificity ppv iou iou+\n",
      "0.67 0.54 0.58 0.22 0.23\n",
      "[[0.55 0.47 0.46 0.17 0.18]\n",
      " [0.79 0.61 0.72 0.27 0.29]]\n"
     ]
    }
   ],
   "source": [
    "\n",
    "#load model trained on mrineg+histo only\n",
    "experiment_dir = ''\n",
    "model ='24-08-01_MRIN_dcp'   \n",
    "pred_file = os.path.join(experiment_dir,model,'s_0','fold_all','results_best_model', 'predictions.hdf5')\n",
    "cohort= MeldCohort(hdf5_file_root='{site_code}_{group}_featurematrix_combat_6_kernels_noCombat.hdf5',\n",
    "                            dataset='MELD_dataset_v6.csv')\n",
    "# load mrineg+histo patients in test \n",
    "with h5py.File(pred_file, \"r\") as f:\n",
    "    subjects = list(f.keys())\n",
    "#get results\n",
    "df_mrineg = get_results_graph(subjects, cohort, pred_file)\n",
    "# print results\n",
    "dfsub = df_mrineg.copy()\n",
    "print(len(dfsub))\n",
    "sensitivity_mlp, specificity_mlp, ppv_mlp, iou_mlp, iou_plus_mlp = df_stats(dfsub)\n",
    "print('sensitivity specificity ppv iou iou+')\n",
    "print(sensitivity_mlp,specificity_mlp, ppv_mlp, iou_mlp, iou_plus_mlp)\n",
    "CI_mlp = bootstrap_CI(dfsub)\n",
    "print(CI_mlp)\n"
   ]
  },
  {
   "cell_type": "code",
   "execution_count": 20,
   "metadata": {},
   "outputs": [
    {
     "data": {
      "text/plain": [
       "group      \n",
       "False  0.50    0.0\n",
       "       0.25    0.0\n",
       "       0.75    1.0\n",
       "       1.00    3.0\n",
       "True   0.50    0.0\n",
       "       0.25    0.0\n",
       "       0.75    1.0\n",
       "       1.00    4.0\n",
       "Name: number FP clusters, dtype: float64"
      ]
     },
     "execution_count": 20,
     "metadata": {},
     "output_type": "execute_result"
    }
   ],
   "source": [
    "df_mrineg.groupby('group')['number FP clusters'].quantile([0.5, 0.25, 0.75, 1])"
   ]
  },
  {
   "cell_type": "code",
   "execution_count": 10,
   "metadata": {},
   "outputs": [
    {
     "name": "stdout",
     "output_type": "stream",
     "text": [
      "0\n",
      "100\n",
      "200\n",
      "251\n",
      "sensitivity specificity ppv iou iou+\n",
      "0.72 0.6 0.72 0.25 0.21\n",
      "[[0.6  0.53 0.61 0.19 0.16]\n",
      " [0.84 0.67 0.84 0.31 0.27]]\n"
     ]
    }
   ],
   "source": [
    "#load main Graph model to compare\n",
    "experiment_dir = ''\n",
    "model ='23-10-30_LVHZ_dcp'   \n",
    "pred_file = os.path.join(experiment_dir,model,'s_0','fold_all_newthreshold','results_best_model', 'predictions.hdf5')\n",
    "\n",
    "#get results on same subjects\n",
    "df_graph = get_results_graph(subjects, cohort, pred_file)\n",
    "\n",
    "# print results\n",
    "dfsub = df_graph.copy()\n",
    "print(len(dfsub))\n",
    "sensitivity_mlp, specificity_mlp, ppv_mlp, iou_mlp, iou_plus_mlp = df_stats(dfsub)\n",
    "print('sensitivity specificity ppv iou iou+')\n",
    "print(sensitivity_mlp,specificity_mlp, ppv_mlp, iou_mlp, iou_plus_mlp)\n",
    "CI_mlp = bootstrap_CI(dfsub)\n",
    "print(CI_mlp)\n"
   ]
  },
  {
   "cell_type": "code",
   "execution_count": 22,
   "metadata": {},
   "outputs": [
    {
     "data": {
      "text/html": [
       "<div>\n",
       "<style scoped>\n",
       "    .dataframe tbody tr th:only-of-type {\n",
       "        vertical-align: middle;\n",
       "    }\n",
       "\n",
       "    .dataframe tbody tr th {\n",
       "        vertical-align: top;\n",
       "    }\n",
       "\n",
       "    .dataframe thead th {\n",
       "        text-align: right;\n",
       "    }\n",
       "</style>\n",
       "<table border=\"1\" class=\"dataframe\">\n",
       "  <thead>\n",
       "    <tr style=\"text-align: right;\">\n",
       "      <th></th>\n",
       "      <th>index</th>\n",
       "      <th>ID</th>\n",
       "      <th>model</th>\n",
       "      <th>number TP clusters</th>\n",
       "      <th>IOU</th>\n",
       "      <th>IOU_plus</th>\n",
       "      <th>number FP clusters</th>\n",
       "      <th>detected</th>\n",
       "      <th>size_pred</th>\n",
       "    </tr>\n",
       "    <tr>\n",
       "      <th>group</th>\n",
       "      <th></th>\n",
       "      <th></th>\n",
       "      <th></th>\n",
       "      <th></th>\n",
       "      <th></th>\n",
       "      <th></th>\n",
       "      <th></th>\n",
       "      <th></th>\n",
       "      <th></th>\n",
       "    </tr>\n",
       "  </thead>\n",
       "  <tbody>\n",
       "    <tr>\n",
       "      <th>False</th>\n",
       "      <td>193</td>\n",
       "      <td>193</td>\n",
       "      <td>193</td>\n",
       "      <td>193</td>\n",
       "      <td>0</td>\n",
       "      <td>0</td>\n",
       "      <td>193</td>\n",
       "      <td>176</td>\n",
       "      <td>176</td>\n",
       "    </tr>\n",
       "    <tr>\n",
       "      <th>True</th>\n",
       "      <td>58</td>\n",
       "      <td>58</td>\n",
       "      <td>58</td>\n",
       "      <td>58</td>\n",
       "      <td>58</td>\n",
       "      <td>58</td>\n",
       "      <td>58</td>\n",
       "      <td>58</td>\n",
       "      <td>58</td>\n",
       "    </tr>\n",
       "  </tbody>\n",
       "</table>\n",
       "</div>"
      ],
      "text/plain": [
       "       index   ID  model  number TP clusters  IOU  IOU_plus  \\\n",
       "group                                                         \n",
       "False    193  193    193                 193    0         0   \n",
       "True      58   58     58                  58   58        58   \n",
       "\n",
       "       number FP clusters  detected  size_pred  \n",
       "group                                           \n",
       "False                 193       176        176  \n",
       "True                   58        58         58  "
      ]
     },
     "execution_count": 22,
     "metadata": {},
     "output_type": "execute_result"
    }
   ],
   "source": [
    "df_graph.groupby('group').count()"
   ]
  },
  {
   "cell_type": "code",
   "execution_count": 21,
   "metadata": {},
   "outputs": [
    {
     "data": {
      "text/plain": [
       "group      \n",
       "False  0.50    0.0\n",
       "       0.25    0.0\n",
       "       0.75    1.0\n",
       "       1.00    2.0\n",
       "True   0.50    0.0\n",
       "       0.25    0.0\n",
       "       0.75    0.0\n",
       "       1.00    3.0\n",
       "Name: number FP clusters, dtype: float64"
      ]
     },
     "execution_count": 21,
     "metadata": {},
     "output_type": "execute_result"
    }
   ],
   "source": [
    "df_graph.groupby('group')['number FP clusters'].quantile([0.5, 0.25, 0.75, 1])"
   ]
  },
  {
   "cell_type": "code",
   "execution_count": 19,
   "metadata": {},
   "outputs": [
    {
     "name": "stdout",
     "output_type": "stream",
     "text": [
      "0.67 0.54 0.58 0.22\n",
      "0.72 0.6 0.72 0.25\n",
      "0.228 0.104 0.006\n"
     ]
    },
    {
     "data": {
      "text/plain": [
       "<matplotlib.legend.Legend at 0x153c48c2eb50>"
      ]
     },
     "execution_count": 19,
     "metadata": {},
     "output_type": "execute_result"
    },
    {
     "data": {
      "image/png": "[encoded data removed]",
      "text/plain": [
       "<Figure size 432x288 with 1 Axes>"
      ]
     },
     "metadata": {
      "needs_background": "light"
     },
     "output_type": "display_data"
    },
    {
     "data": {
      "image/png": "[encoded data removed]",
      "text/plain": [
       "<Figure size 432x288 with 1 Axes>"
      ]
     },
     "metadata": {
      "needs_background": "light"
     },
     "output_type": "display_data"
    },
    {
     "data": {
      "image/png": "[encoded data removed]",
      "text/plain": [
       "<Figure size 432x288 with 1 Axes>"
      ]
     },
     "metadata": {
      "needs_background": "light"
     },
     "output_type": "display_data"
    },
    {
     "data": {
      "image/png": "[encoded data removed]",
      "text/plain": [
       "<Figure size 432x288 with 1 Axes>"
      ]
     },
     "metadata": {
      "needs_background": "light"
     },
     "output_type": "display_data"
    }
   ],
   "source": [
    "# Compare models with permutation\n",
    "import matplotlib.pyplot as plt\n",
    "\n",
    "def permute_models(df):\n",
    "    for index, row in df.iterrows():\n",
    "        # Randomly permute the data from column 0 and 1\n",
    "        permuted_indices = np.random.permutation(2)\n",
    "        if (permuted_indices == [1,0]).all():\n",
    "            df.at[index, 'detected_mrineg'], df.at[index, 'detected_Graph'] = \\\n",
    "            row[['detected_mrineg', 'detected_Graph']].values[permuted_indices]\n",
    "            df.at[index, 'number TP clusters_mrineg'], df.at[index, 'number TP clusters_Graph'] = \\\n",
    "            row[['number TP clusters_mrineg', 'number TP clusters_Graph']].values[permuted_indices]\n",
    "            df.at[index, 'number FP clusters_mrineg'], df.at[index, 'number FP clusters_Graph'] = \\\n",
    "            row[['number FP clusters_mrineg', 'number FP clusters_Graph']].values[permuted_indices]\n",
    "            df.at[index, 'IOU_mrineg'], df.at[index, 'IOU_Graph'] = \\\n",
    "            row[['IOU_mrineg', 'IOU_Graph']].values[permuted_indices]\n",
    "    return df\n",
    "\n",
    "\n",
    "sensitivity_mrineg_orig, specificity_mrineg_orig, ppv_mrineg_orig, iou_mrineg_orig = df_stats(df_mrineg, \n",
    "                                                                             metrics=['sensitivity', 'specificity', 'ppv', 'IOU'])\n",
    "print(sensitivity_mrineg_orig, specificity_mrineg_orig, ppv_mrineg_orig, iou_mrineg_orig)\n",
    "sensitivity_graph_orig, specificity_graph_orig, ppv_graph_orig, iou_graph_orig = df_stats(df_graph,  \n",
    "                                                                                          metrics=['sensitivity', 'specificity', 'ppv', 'IOU'])\n",
    "print(sensitivity_graph_orig, specificity_graph_orig, ppv_graph_orig, iou_graph_orig)\n",
    "#compute difference\n",
    "diff_sensitivity_orig = sensitivity_mrineg_orig - sensitivity_graph_orig\n",
    "diff_specificity_orig = specificity_mrineg_orig - specificity_graph_orig\n",
    "diff_ppv_orig = ppv_mrineg_orig - ppv_graph_orig\n",
    "diff_iou_orig = iou_mrineg_orig - iou_graph_orig\n",
    "\n",
    "#combine results for mrineg and Graph \n",
    "df_comp = df_mrineg[['ID','group','detected','number TP clusters','number FP clusters', 'IOU']].merge(df_graph[['ID','group','detected','number TP clusters','number FP clusters', 'IOU']], how='left', on=['ID','group'], suffixes=['_mrineg','_Graph'])\n",
    "\n",
    "diffs_sensitivity = []\n",
    "diffs_specificity = []\n",
    "diffs_ppv = []\n",
    "diffs_iou = []\n",
    "for i in range(0,1000):\n",
    "    # shuffle models\n",
    "    df_shuffle = permute_models(df_comp.copy())\n",
    "    \n",
    "    # compute metrics again\n",
    "    df_shuffle_mrineg = pd.DataFrame()\n",
    "    df_shuffle_mrineg[['group','detected','number TP clusters','number FP clusters', 'IOU']] = df_shuffle[['group','detected_mrineg','number TP clusters_mrineg','number FP clusters_mrineg', 'IOU_mrineg']].copy()\n",
    "    sensitivity_mrineg_i, specificity_mrineg_i, ppv_mrineg_i, iou_mrineg_i = df_stats(df_shuffle_mrineg, \n",
    "                                                                        metrics=['sensitivity', 'specificity', 'ppv','IOU'])\n",
    "    \n",
    "    df_shuffle_graph = pd.DataFrame()\n",
    "    df_shuffle_graph[['group','detected','number TP clusters','number FP clusters', 'IOU']] = df_shuffle[['group','detected_Graph','number TP clusters_Graph','number FP clusters_Graph', 'IOU_Graph']].copy()\n",
    "    sensitivity_graph_i, specificity_graph_i, ppv_graph_i, iou_graph_i= df_stats(df_shuffle_graph, \n",
    "                                                                    metrics=['sensitivity', 'specificity', 'ppv', 'IOU'])\n",
    "    \n",
    "    # find differences\n",
    "    diffs_sensitivity.append(sensitivity_mrineg_i - sensitivity_graph_i)\n",
    "    diffs_specificity.append(specificity_mrineg_i - specificity_graph_i)\n",
    "    diffs_ppv.append(ppv_mrineg_i - ppv_graph_i)\n",
    "    diffs_iou.append(iou_mrineg_i - iou_graph_i)\n",
    "\n",
    "#compute pvalue\n",
    "p_sensitivity = get_pvalue(diff_sensitivity_orig, diffs_sensitivity)\n",
    "p_specificity = get_pvalue(diff_specificity_orig, diffs_specificity)\n",
    "p_ppv = get_pvalue(diff_ppv_orig, diffs_ppv)\n",
    "p_iou = get_pvalue(diff_iou_orig, diffs_iou)\n",
    "print(p_sensitivity, p_specificity, p_ppv)\n",
    "\n",
    "#plot results shuffle\n",
    "plt.figure()\n",
    "plt.hist(diffs_sensitivity, label='permutations between model')\n",
    "#add results orig\n",
    "plt.plot([diff_sensitivity_orig,diff_sensitivity_orig], [0,200], label='original value', color='green')\n",
    "#add 5% significance lines\n",
    "lines5 = np.percentile(diffs_sensitivity, [2.5, 97.5])\n",
    "plt.plot([lines5[0],lines5[0]], [0,200], label='0.05 significance', color='red')\n",
    "plt.plot([lines5[1],lines5[1]], [0,200], label='0.05 significance', color='red')\n",
    "plt.title('Difference in sensitivity between models')\n",
    "plt.legend()\n",
    "\n",
    "plt.figure()\n",
    "plt.hist(diffs_specificity, label='permutations between model')\n",
    "#add results orig\n",
    "plt.plot([diff_specificity_orig,diff_specificity_orig], [0,200], label='original value', color='green')\n",
    "#add 5% significance lines\n",
    "lines5 = np.percentile(diffs_specificity, [2.5, 97.5])\n",
    "plt.plot([lines5[0],lines5[0]], [0,200], label='0.05 significance', color='red')\n",
    "plt.plot([lines5[1],lines5[1]], [0,200], label='0.05 significance', color='red')\n",
    "plt.title('Difference in specificity between models')\n",
    "plt.legend()\n",
    "\n",
    "plt.figure()\n",
    "plt.hist(diffs_ppv, label='permutations between model')\n",
    "#add results orig\n",
    "plt.plot([diff_ppv_orig,diff_ppv_orig], [0,200], label='original value', color='green')\n",
    "#add 5% significance lines\n",
    "lines5 = np.percentile(diffs_ppv, [2.5, 97.5])\n",
    "plt.plot([lines5[0],lines5[0]], [0,200], label='0.05 significance', color='red')\n",
    "plt.plot([lines5[1],lines5[1]], [0,200], label='0.05 significance', color='red')\n",
    "plt.title('Difference in ppv between models')\n",
    "plt.legend()\n",
    "\n",
    "plt.figure()\n",
    "plt.hist(diffs_iou, label='permutations between model')\n",
    "#add results orig\n",
    "plt.plot([diff_iou_orig,diff_iou_orig], [0,200], label='original value', color='green')\n",
    "#add 5% significance lines\n",
    "lines5 = np.percentile(diffs_iou, [2.5, 97.5])\n",
    "plt.plot([lines5[0],lines5[0]], [0,200], label='0.05 significance', color='red')\n",
    "plt.plot([lines5[1],lines5[1]], [0,200], label='0.05 significance', color='red')\n",
    "plt.title('Difference in iou between models')\n",
    "plt.legend()\n",
    "\n"
   ]
  }
 ],
 "metadata": {
  "kernelspec": {
   "display_name": "Python 3.9.10 ('meld_graph')",
   "language": "python",
   "name": "python3"
  },
  "language_info": {
   "codemirror_mode": {
    "name": "ipython",
    "version": 3
   },
   "file_extension": ".py",
   "mimetype": "text/x-python",
   "name": "python",
   "nbconvert_exporter": "python",
   "pygments_lexer": "ipython3",
   "version": "3.9.10"
  },
  "vscode": {
   "interpreter": {
    "hash": "c0176ae289e59992559f0c449061dac3c0e6a1074598f8b14680b865216cf195"
   }
  }
 },
 "nbformat": 4,
 "nbformat_minor": 2
}
