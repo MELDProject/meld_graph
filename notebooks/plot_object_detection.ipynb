{
 "cells": [
  {
   "cell_type": "markdown",
   "metadata": {},
   "source": [
    "### Notebook to plot object detection results for few subjects"
   ]
  },
  {
   "cell_type": "code",
   "execution_count": null,
   "metadata": {},
   "outputs": [],
   "source": [
    "import meld_graph\n",
    "import meld_graph.models\n",
    "from meld_graph import experiment\n",
    "import meld_graph.dataset\n",
    "import meld_graph.data_preprocessing\n",
    "import meld_graph.evaluation\n",
    "\n",
    "import logging\n",
    "import os\n",
    "import json\n",
    "\n",
    "from meld_graph.dataset import GraphDataset, Oversampler\n",
    "from meld_classifier.meld_cohort import MeldCohort, MeldSubject\n",
    "from meld_graph.training import Metrics\n",
    "import numpy as np\n",
    "from meld_graph.paths import EXPERIMENT_PATH\n",
    "\n",
    "from meld_graph.evaluation import Evaluator\n",
    "from meld_graph.graph_tools import GraphTools\n",
    "from meld_graph.icospheres import IcoSpheres\n",
    "import pandas as pd\n",
    "import torch_geometric\n"
   ]
  },
  {
   "cell_type": "code",
   "execution_count": null,
   "metadata": {},
   "outputs": [],
   "source": [
    "def load_config(config_file):\n",
    "    \"\"\"load config.py file and return config object\"\"\"\n",
    "    import importlib.machinery, importlib.util\n",
    "    loader = importlib.machinery.SourceFileLoader(\"config\", config_file)\n",
    "    spec = importlib.util.spec_from_loader(loader.name, loader)\n",
    "    config = importlib.util.module_from_spec(spec)\n",
    "    loader.exec_module(config)\n",
    "    return config\n"
   ]
  },
  {
   "cell_type": "code",
   "execution_count": null,
   "metadata": {},
   "outputs": [],
   "source": [
    "fold =1\n",
    "config = load_config(f'../scripts/config_files/23-06-30_TRNW_object/fold_0{fold}/s_0.py')\n",
    "params = config.data_parameters\n",
    "\n",
    "\n",
    "cohort= MeldCohort(hdf5_file_root=params['hdf5_file_root'], dataset=params['dataset'])\n",
    "\n",
    "# initialise subjects manually in list or get from a csv dataset\n",
    "subject_ids, trainval_ids, test_ids  = cohort.read_subject_ids_from_dataset()\n",
    "\n",
    "subjects = ['MELD_H14_3T_FCD_0035',\n",
    " 'MELD_H4_15T_FCD_0002','MELD2_H7_3T_FCD_003','MELD_H4_15T_C_0004','MELD_H4_15T_C_0005'\n",
    "]\n",
    "exp = experiment.Experiment(config.network_parameters, config.data_parameters)\n",
    "\n",
    "\n",
    "#load dataset\n",
    "dataset = GraphDataset(subjects, cohort, params, mode='test')\n",
    "train_data_loader = torch_geometric.loader.DataLoader(\n",
    "            dataset,\n",
    "            #sampler=sampler,\n",
    "            shuffle=True,\n",
    "            batch_size=8,\n",
    "            num_workers=4,\n",
    "            persistent_workers=True,\n",
    "            prefetch_factor=2,\n",
    "        )\n",
    "\n",
    "\n",
    "exp.load_model(checkpoint_path=f'/rds/project/kw350/rds-kw350-meld/experiments_graph/kw350/23-06-30_TRNW_object/s_0/fold_0{fold}/best_model.pt',\n",
    "               force=True)\n",
    "\n",
    "for d in train_data_loader:\n",
    "    break\n",
    "\n",
    "\n",
    "import torch\n",
    "estimates = exp.model(d.x)"
   ]
  },
  {
   "cell_type": "code",
   "execution_count": null,
   "metadata": {},
   "outputs": [],
   "source": [
    "#plot this\n",
    "import matplotlib_surface_plotting as msp\n",
    "\n",
    "def calculate_circle_dataset(center,radius, spherical_coords):\n",
    "    \"\"\"calculate circle of radius around center\"\"\"\n",
    "    all_distances = np.linalg.norm(spherical_coords-center,axis=1)\n",
    "    circle = all_distances<radius\n",
    "    return circle,all_distances\n",
    "\n",
    "def plot_object_detection_output(xyzr, cohort, icospheres,fname):\n",
    "    sphere = icospheres.icospheres[7]\n",
    "    spherical_coords = sphere['coords']/100\n",
    "    mask,dists = calculate_circle_dataset(xyzr[:3],xyzr[3],\n",
    "                         spherical_coords)\n",
    "    msp.plot_surf(cohort.surf['coords'],\n",
    "              icospheres.icospheres[7]['faces'],\n",
    "              #dataset[0]['distance_map'].detach().numpy(),\n",
    "              mask,\n",
    "              cmap='turbo',rotate=[90,270],\n",
    "              filename=fname\n",
    "              )\n",
    "    return\n",
    "\n",
    "icospheres = IcoSpheres()\n",
    "\n",
    "for i in np.arange(10):\n",
    "    prediction = torch.exp(estimates['log_softmax'])[:,1].detach().numpy()\n",
    "    prediction = prediction.reshape((-1,163842,))\n",
    "    prediction = prediction[i]\n",
    "    label=dataset[i]['y'].detach().numpy()\n",
    "    if    label.sum()>0:\n",
    "\n",
    "        msp.plot_surf(cohort.surf['coords'],\n",
    "                    icospheres.icospheres[7]['faces'],\n",
    "                    #dataset[0]['distance_map'].detach().numpy(),\n",
    "                    prediction,\n",
    "                    cmap='viridis',rotate=[90,270],\n",
    "                    parcel=label,\n",
    "        filename=f'preds/sub_{i}.png'\n",
    "                    )\n",
    "\n",
    "        plot_object_detection_output(estimates['object_detection_linear'].detach().numpy()[i], cohort, \n",
    "        icospheres,fname=f'preds/sub_obj_{i}.png')\n"
   ]
  }
 ],
 "metadata": {
  "kernelspec": {
   "display_name": "Python 3.6.9 64-bit",
   "language": "python",
   "name": "python3"
  },
  "language_info": {
   "name": "python",
   "version": "3.6.9"
  },
  "orig_nbformat": 4,
  "vscode": {
   "interpreter": {
    "hash": "31f2aee4e71d21fbe5cf8b01ff0e069b9275f58929596ceb00d14d90e3e16cd6"
   }
  }
 },
 "nbformat": 4,
 "nbformat_minor": 2
}
