{
 "cells": [
  {
   "cell_type": "code",
   "execution_count": 1,
   "metadata": {},
   "outputs": [
    {
     "name": "stdout",
     "output_type": "stream",
     "text": [
      "Setting MELD_DATA_PATH to /rds/project/kw350/rds-kw350-meld/meld_data/Data\n",
      "Setting BASE_PATH to /rds/project/kw350/rds-kw350-meld/meld_data/Data\n",
      "Setting EXPERIMENT_PATH to /rds/project/kw350/rds-kw350-meld/experiments/co-ripa1/\n",
      "Setting FS_SUBJECTS_PATH to \n",
      "Setting EXPERIMENT_PATH to /rds/project/kw350/rds-kw350-meld/experiments_graph/co-ripa1\n"
     ]
    }
   ],
   "source": [
    "import os\n",
    "import numpy as np\n",
    "import torch\n",
    "import torch_geometric.data\n",
    "\n",
    "import meld_graph\n",
    "import meld_graph.training\n",
    "import meld_graph.models\n",
    "import meld_graph.experiment\n",
    "import meld_graph.dataset\n",
    "from meld_graph.paths import load_config\n",
    "from meld_graph.paths import EXPERIMENT_PATH\n",
    "from meld_graph.dataset import GraphDataset, Oversampler"
   ]
  },
  {
   "cell_type": "code",
   "execution_count": 33,
   "metadata": {},
   "outputs": [
    {
     "name": "stderr",
     "output_type": "stream",
     "text": [
      "Saving parameter files to /rds/project/kw350/rds-kw350-meld/experiments_graph/co-ripa1/23-05-19_MATH_test_histology_head/fold_00\n",
      "Initialised Experiment 23-05-19_MATH_test_histology_head\n"
     ]
    }
   ],
   "source": [
    "# create experiment\n",
    "config_file = '/rds/user/co-ripa1/hpc-work/scripts/meld_classifier_GDL/scripts/config_files/base_config_test.py'\n",
    "config = load_config(config_file)\n",
    "exp = meld_graph.experiment.Experiment(config.network_parameters, config.data_parameters)\n"
   ]
  },
  {
   "cell_type": "code",
   "execution_count": 41,
   "metadata": {},
   "outputs": [
    {
     "data": {
      "text/plain": [
       "<module 'meld_graph.training' from '/rds/user/co-ripa1/hpc-work/scripts/meld_classifier_GDL/meld_graph/training.py'>"
      ]
     },
     "execution_count": 41,
     "metadata": {},
     "output_type": "execute_result"
    }
   ],
   "source": [
    "import importlib\n",
    "importlib.reload(meld_graph.dataset)\n",
    "importlib.reload(meld_graph.data_preprocessing)\n",
    "importlib.reload(meld_graph.training)"
   ]
  },
  {
   "cell_type": "code",
   "execution_count": 42,
   "metadata": {},
   "outputs": [
    {
     "name": "stderr",
     "output_type": "stream",
     "text": [
      "Model already exists. Specify force=True to force reloading and initialisation\n",
      "Creating model\n"
     ]
    }
   ],
   "source": [
    "# create the trainer the model\n",
    "trainer = meld_graph.training.Trainer(exp)\n",
    "trainer.experiment.load_model()\n",
    "device = torch.device('cuda:0' if torch.cuda.is_available() else 'cpu')\n",
    "trainer.experiment.model.to(device)\n",
    "# trainer.train()\n"
   ]
  },
  {
   "cell_type": "code",
   "execution_count": 43,
   "metadata": {},
   "outputs": [
    {
     "name": "stderr",
     "output_type": "stream",
     "text": [
      "Loading and preprocessing train data\n",
      "Z-scoring data for MELD_H5_3T_FCD_0002\n",
      "Z-scoring data for MELD_H5_3T_C_0005\n",
      "Z-scoring data for MELD_H5_3T_C_0026\n",
      "Z-scoring data for MELD_H5_3T_FCD_0031\n",
      "Z-scoring data for MELD_H5_3T_FCD_0016\n",
      "Z-scoring data for MELD_H5_3T_FCD_0023\n",
      "Z-scoring data for MELD_H5_3T_C_0023\n",
      "Z-scoring data for MELD_H5_3T_C_0020\n",
      "Z-scoring data for MELD_H5_3T_C_0008\n",
      "Z-scoring data for MELD_H5_3T_C_0022\n",
      "Z-scoring data for MELD_H5_3T_FCD_0010\n",
      "Z-scoring data for MELD_H5_3T_C_0028\n",
      "Z-scoring data for MELD_H5_3T_C_0024\n",
      "Z-scoring data for MELD_H5_3T_FCD_0030\n",
      "Z-scoring data for MELD_H5_3T_FCD_0003\n",
      "Z-scoring data for MELD_H5_3T_C_0013\n"
     ]
    },
    {
     "name": "stdout",
     "output_type": "stream",
     "text": [
      "GraphDataset(32)\n"
     ]
    }
   ],
   "source": [
    "train_dset = GraphDataset.from_experiment(trainer.experiment, mode='train')\n",
    "print(train_dset)\n"
   ]
  },
  {
   "cell_type": "code",
   "execution_count": 44,
   "metadata": {},
   "outputs": [
    {
     "name": "stderr",
     "output_type": "stream",
     "text": [
      "Loading and preprocessing val data\n",
      "Z-scoring data for MELD_H5_3T_C_0003\n",
      "Z-scoring data for MELD_H5_3T_FCD_0019\n",
      "Z-scoring data for MELD_H5_3T_FCD_0008\n"
     ]
    },
    {
     "name": "stdout",
     "output_type": "stream",
     "text": [
      "GraphDataset(6)\n"
     ]
    }
   ],
   "source": [
    "val_dset = GraphDataset.from_experiment(trainer.experiment, mode='val')\n",
    "print(val_dset)"
   ]
  },
  {
   "cell_type": "code",
   "execution_count": 45,
   "metadata": {},
   "outputs": [],
   "source": [
    "sampler=None\n",
    "shuffle = trainer.params['shuffle_each_epoch']\n",
    "batch_size = trainer.params['batch_size']\n",
    "optimiser = torch.optim.SGD(trainer.experiment.model.parameters(), **trainer.params['optimiser_parameters'])\n",
    "optimiser = optimiser\n",
    "\n",
    "train_data_loader = torch_geometric.loader.DataLoader(\n",
    "             train_dset, sampler=sampler, \n",
    "             shuffle=shuffle,\n",
    "             batch_size= batch_size,\n",
    "             num_workers=0, persistent_workers=False, prefetch_factor=2\n",
    "             )"
   ]
  },
  {
   "cell_type": "code",
   "execution_count": 47,
   "metadata": {},
   "outputs": [],
   "source": [
    "cur_scores = trainer.train_epoch(train_data_loader, optimiser)"
   ]
  },
  {
   "cell_type": "code",
   "execution_count": 48,
   "metadata": {},
   "outputs": [
    {
     "data": {
      "text/plain": [
       "{'cross_entropy': 0.7883511781692505,\n",
       " 'dice': 0.9784323046915233,\n",
       " 'distance_regression': 0.28809136897325516,\n",
       " 'lesion_classification': 0.6396960318088531,\n",
       " 'histology_classification': 1.3424707651138306,\n",
       " 'ds6_cross_entropy': 0.008665163069963455,\n",
       " 'ds5_cross_entropy': 0.02071181684732437,\n",
       " 'ds4_cross_entropy': 0.041922105476260185,\n",
       " 'ds3_cross_entropy': 0.06115961913019419,\n",
       " 'ds2_cross_entropy': 0.1806270331144333,\n",
       " 'ds1_cross_entropy': 0.34350793808698654,\n",
       " 'ds6_dice': 0.014627989630064462,\n",
       " 'ds5_dice': 0.03026165576011408,\n",
       " 'ds4_dice': 0.05998166825156659,\n",
       " 'ds3_dice': 0.11645015981048346,\n",
       " 'ds2_dice': 0.22800071304664016,\n",
       " 'ds1_dice': 0.4208209812641144,\n",
       " 'ds6_distance_regression': 0.004387676890473813,\n",
       " 'ds5_distance_regression': 0.011066023958846927,\n",
       " 'ds4_distance_regression': 0.02937454916536808,\n",
       " 'ds3_distance_regression': 0.04111327417194843,\n",
       " 'ds2_distance_regression': 0.15398433804512024,\n",
       " 'ds1_distance_regression': 0.27838488668203354,\n",
       " 'ds6_lesion_classification': nan,\n",
       " 'ds5_lesion_classification': nan,\n",
       " 'ds4_lesion_classification': nan,\n",
       " 'ds3_lesion_classification': nan,\n",
       " 'ds2_lesion_classification': nan,\n",
       " 'ds1_lesion_classification': nan,\n",
       " 'ds6_histology_classification': nan,\n",
       " 'ds5_histology_classification': nan,\n",
       " 'ds4_histology_classification': nan,\n",
       " 'ds3_histology_classification': nan,\n",
       " 'ds2_histology_classification': nan,\n",
       " 'ds1_histology_classification': nan,\n",
       " 'loss': 6.0820892411586485,\n",
       " 'dice_lesion': 0.012188634369522333,\n",
       " 'dice_nonlesion': 0.17960039339959621,\n",
       " 'precision': 0.00599970710391686,\n",
       " 'recall': 0.8859575000782399,\n",
       " 'tp': 28309,\n",
       " 'fp': 4690088,\n",
       " 'fn': 3644,\n",
       " 'auroc': 0.37125110626220703,\n",
       " 'cl_precision': nan,\n",
       " 'cl_recall': 0.0,\n",
       " 'histo_0_precision': 0,\n",
       " 'histo_0_sensitivity': nan,\n",
       " 'histo_1_precision': 0,\n",
       " 'histo_1_sensitivity': 0.0,\n",
       " 'histo_2_precision': 0.16129032258064516,\n",
       " 'histo_2_sensitivity': 1.0,\n",
       " 'histo_3_precision': 0,\n",
       " 'histo_3_sensitivity': 0.0,\n",
       " 'histo_0_recall': 0,\n",
       " 'histo_1_recall': 0.0,\n",
       " 'histo_2_recall': 1.0,\n",
       " 'histo_3_recall': 0.0}"
      ]
     },
     "execution_count": 48,
     "metadata": {},
     "output_type": "execute_result"
    }
   ],
   "source": [
    "cur_scores"
   ]
  },
  {
   "cell_type": "code",
   "execution_count": 49,
   "metadata": {},
   "outputs": [
    {
     "name": "stderr",
     "output_type": "stream",
     "text": [
      "Model already exists. Specify force=True to force reloading and initialisation\n",
      "Creating model\n",
      "Loading and preprocessing train data\n",
      "Z-scoring data for MELD_H5_3T_FCD_0002\n",
      "Z-scoring data for MELD_H5_3T_C_0005\n",
      "Z-scoring data for MELD_H5_3T_C_0026\n",
      "Z-scoring data for MELD_H5_3T_FCD_0031\n",
      "Z-scoring data for MELD_H5_3T_FCD_0016\n",
      "Z-scoring data for MELD_H5_3T_FCD_0023\n",
      "Z-scoring data for MELD_H5_3T_C_0023\n",
      "Z-scoring data for MELD_H5_3T_C_0020\n",
      "Z-scoring data for MELD_H5_3T_C_0008\n",
      "Z-scoring data for MELD_H5_3T_C_0022\n",
      "Z-scoring data for MELD_H5_3T_FCD_0010\n",
      "Z-scoring data for MELD_H5_3T_C_0028\n",
      "Z-scoring data for MELD_H5_3T_C_0024\n",
      "Z-scoring data for MELD_H5_3T_FCD_0030\n",
      "Z-scoring data for MELD_H5_3T_FCD_0003\n",
      "Z-scoring data for MELD_H5_3T_C_0013\n",
      "Loading and preprocessing val data\n",
      "Z-scoring data for MELD_H5_3T_C_0003\n",
      "Z-scoring data for MELD_H5_3T_FCD_0019\n",
      "Z-scoring data for MELD_H5_3T_FCD_0008\n",
      "Stopping metric set to loss \n",
      "using max_epochs 100 for lr decay\n",
      "Epoch 0 :: learning rate 0.0001\n",
      "/home/co-ripa1/.conda/envs/meld_graph/lib/python3.9/site-packages/numpy/core/fromnumeric.py:3440: RuntimeWarning: Mean of empty slice.\n",
      "  return _methods._mean(a, axis=axis, dtype=dtype,\n",
      "/home/co-ripa1/.conda/envs/meld_graph/lib/python3.9/site-packages/numpy/core/_methods.py:189: RuntimeWarning: invalid value encountered in double_scalars\n",
      "  ret = ret.dtype.type(ret / rcount)\n",
      "/rds/user/co-ripa1/hpc-work/scripts/meld_classifier_GDL/meld_graph/training.py:446: RuntimeWarning: invalid value encountered in long_scalars\n",
      "  metrics['cl_precision'] = (cl_tp/(cl_tp+cl_fp)).item()\n",
      "/rds/user/co-ripa1/hpc-work/scripts/meld_classifier_GDL/meld_graph/training.py:455: RuntimeWarning: invalid value encountered in long_scalars\n",
      "  metrics[f'histo_{i}_precision'] = 0\n",
      "Epoch 0 :: time 79.7541093826294\n",
      "Epoch 0 :: memory usage 26844.07421875MB\n",
      "Epoch 0 :: Train cross_entropy 0.510, dice 0.949, distance_regression 0.405, lesion_classification 0.682, histology_classification 1.329, loss 5.516, dice_lesion 0.009, dice_nonlesion 0.985, precision 0.009, recall 0.014, tp 552.000, fp 61817.000, fn 39280.000, auroc 0.457, cl_precision nan, cl_recall 0.000, histo_0_precision 0.000, histo_0_sensitivity nan, histo_1_precision 0.100, histo_1_sensitivity 1.000, histo_2_precision 0.000, histo_2_sensitivity 0.000, histo_3_precision 0.000, histo_3_sensitivity 0.000, histo_0_recall 0.000, histo_1_recall 1.000, histo_2_recall 0.000, histo_3_recall 0.000\n",
      "Epoch 0 :: Val   cross_entropy 0.500, dice 0.936, distance_regression 0.426, lesion_classification 0.674, histology_classification 1.388, loss 5.529, dice_lesion 0.017, dice_nonlesion 0.985, precision 0.015, recall 0.020, tp 256.000, fp 16287.000, fn 12583.000, auroc 0.563, cl_precision nan, cl_recall 0.000, histo_0_precision 0.000, histo_0_sensitivity nan, histo_1_precision 0.167, histo_1_sensitivity 1.000, histo_2_precision 0.000, histo_2_sensitivity 0.000, histo_3_precision 0.000, histo_3_sensitivity 0.000, histo_0_recall 0.000, histo_1_recall 1.000, histo_2_recall 0.000, histo_3_recall 0.000\n",
      "Saved new best model to /rds/project/kw350/rds-kw350-meld/experiments_graph/co-ripa1/23-05-19_MATH_test_histology_head/fold_00/best_model.pt\n",
      "Epoch 1 :: learning rate 9.909954834128343e-05\n",
      "/home/co-ripa1/.conda/envs/meld_graph/lib/python3.9/site-packages/numpy/core/fromnumeric.py:3440: RuntimeWarning: Mean of empty slice.\n",
      "  return _methods._mean(a, axis=axis, dtype=dtype,\n",
      "/home/co-ripa1/.conda/envs/meld_graph/lib/python3.9/site-packages/numpy/core/_methods.py:189: RuntimeWarning: invalid value encountered in double_scalars\n",
      "  ret = ret.dtype.type(ret / rcount)\n",
      "/rds/user/co-ripa1/hpc-work/scripts/meld_classifier_GDL/meld_graph/training.py:455: RuntimeWarning: invalid value encountered in long_scalars\n",
      "  metrics[f'histo_{i}_precision'] = 0\n",
      "Epoch 1 :: time 86.65516328811646\n",
      "Epoch 1 :: memory usage 26844.30078125MB\n",
      "Epoch 1 :: Train cross_entropy 0.376, dice 0.913, distance_regression 0.389, lesion_classification 0.709, histology_classification 1.329, loss 5.274, dice_lesion 0.004, dice_nonlesion 0.989, precision 0.009, recall 0.006, tp 270.000, fp 28201.000, fn 48673.000, auroc 0.521, cl_precision 0.500, cl_recall 0.091, histo_0_precision 0.000, histo_0_sensitivity nan, histo_1_precision 0.050, histo_1_sensitivity 1.000, histo_2_precision 0.000, histo_2_sensitivity 0.000, histo_3_precision 0.000, histo_3_sensitivity 0.000, histo_0_recall 0.000, histo_1_recall 1.000, histo_2_recall 0.000, histo_3_recall 0.000\n",
      "/rds/user/co-ripa1/hpc-work/scripts/meld_classifier_GDL/meld_graph/training.py:446: RuntimeWarning: invalid value encountered in long_scalars\n",
      "  metrics['cl_precision'] = (cl_tp/(cl_tp+cl_fp)).item()\n",
      "Epoch 1 :: Val   cross_entropy 0.471, dice 0.934, distance_regression 0.427, lesion_classification 0.679, histology_classification 1.388, loss 5.413, dice_lesion 0.007, dice_nonlesion 0.991, precision 0.012, recall 0.005, tp 63.000, fp 5065.000, fn 12776.000, auroc 0.564, cl_precision nan, cl_recall 0.000, histo_0_precision 0.000, histo_0_sensitivity nan, histo_1_precision 0.167, histo_1_sensitivity 1.000, histo_2_precision 0.000, histo_2_sensitivity 0.000, histo_3_precision 0.000, histo_3_sensitivity 0.000, histo_0_recall 0.000, histo_1_recall 1.000, histo_2_recall 0.000, histo_3_recall 0.000\n",
      "Saved new best model to /rds/project/kw350/rds-kw350-meld/experiments_graph/co-ripa1/23-05-19_MATH_test_histology_head/fold_00/best_model.pt\n",
      "Epoch 2 :: learning rate 9.819818665965754e-05\n",
      "Epoch 2 :: time 76.01480603218079\n",
      "Epoch 2 :: memory usage 26844.3359375MB\n",
      "Epoch 2 :: Train cross_entropy 0.401, dice 0.932, distance_regression 0.391, lesion_classification 0.679, histology_classification 1.271, loss 5.177, dice_lesion 0.001, dice_nonlesion 0.993, precision 0.005, recall 0.000, tp 18.000, fp 3517.000, fn 44432.000, auroc 0.493, cl_precision 0.600, cl_recall 0.300, histo_0_precision 0.000, histo_0_sensitivity nan, histo_1_precision 0.105, histo_1_sensitivity 1.000, histo_2_precision 0.000, histo_2_sensitivity 0.000, histo_3_precision 0.000, histo_3_sensitivity 0.000, histo_0_recall 0.000, histo_1_recall 1.000, histo_2_recall 0.000, histo_3_recall 0.000\n",
      "Epoch 2 :: Val   cross_entropy 0.429, dice 0.930, distance_regression 0.427, lesion_classification 0.684, histology_classification 1.388, loss 5.307, dice_lesion 0.001, dice_nonlesion 0.993, precision 0.020, recall 0.001, tp 9.000, fp 444.000, fn 12830.000, auroc 0.574, cl_precision 0.000, cl_recall 0.000, histo_0_precision 0.000, histo_0_sensitivity nan, histo_1_precision 0.167, histo_1_sensitivity 1.000, histo_2_precision 0.000, histo_2_sensitivity 0.000, histo_3_precision 0.000, histo_3_sensitivity 0.000, histo_0_recall 0.000, histo_1_recall 1.000, histo_2_recall 0.000, histo_3_recall 0.000\n",
      "Saved new best model to /rds/project/kw350/rds-kw350-meld/experiments_graph/co-ripa1/23-05-19_MATH_test_histology_head/fold_00/best_model.pt\n",
      "Epoch 3 :: learning rate 9.729590473501306e-05\n",
      "Epoch 3 :: time 75.43065023422241\n",
      "Epoch 3 :: memory usage 27964.1875MB\n",
      "Epoch 3 :: Train cross_entropy 0.354, dice 0.936, distance_regression 0.404, lesion_classification 0.695, histology_classification 1.329, loss 5.172, dice_lesion 0.000, dice_nonlesion 0.994, precision 0.002, recall 0.000, tp 1.000, fp 477.000, fn 40921.000, auroc 0.466, cl_precision 0.444, cl_recall 0.400, histo_0_precision 0.000, histo_0_sensitivity nan, histo_1_precision 0.100, histo_1_sensitivity 1.000, histo_2_precision 0.000, histo_2_sensitivity 0.000, histo_3_precision 0.000, histo_3_sensitivity 0.000, histo_0_recall 0.000, histo_1_recall 1.000, histo_2_recall 0.000, histo_3_recall 0.000\n",
      "/rds/user/co-ripa1/hpc-work/scripts/meld_classifier_GDL/meld_graph/training.py:435: RuntimeWarning: invalid value encountered in long_scalars\n",
      "  metrics['precision'] = (tp/(tp+fp)).item()\n",
      "Epoch 3 :: Val   cross_entropy 0.376, dice 0.924, distance_regression 0.428, lesion_classification 0.694, histology_classification 1.388, loss 5.201, dice_lesion 0.000, dice_nonlesion 0.993, precision nan, recall 0.000, tp 0.000, fp 0.000, fn 12839.000, auroc 0.569, cl_precision 0.333, cl_recall 0.500, histo_0_precision 0.000, histo_0_sensitivity nan, histo_1_precision 0.167, histo_1_sensitivity 1.000, histo_2_precision 0.000, histo_2_sensitivity 0.000, histo_3_precision 0.000, histo_3_sensitivity 0.000, histo_0_recall 0.000, histo_1_recall 1.000, histo_2_recall 0.000, histo_3_recall 0.000\n",
      "Saved new best model to /rds/project/kw350/rds-kw350-meld/experiments_graph/co-ripa1/23-05-19_MATH_test_histology_head/fold_00/best_model.pt\n",
      "Epoch 4 :: learning rate 9.63926921258551e-05\n",
      "Epoch 4 :: time 74.69999265670776\n",
      "Epoch 4 :: memory usage 28639.06640625MB\n",
      "Epoch 4 :: Train cross_entropy 0.334, dice 0.910, distance_regression 0.378, lesion_classification 0.690, histology_classification 1.236, loss 4.988, dice_lesion 0.000, dice_nonlesion 0.992, precision 0.000, recall 0.000, tp 0.000, fp 8.000, fn 57400.000, auroc 0.479, cl_precision 0.727, cl_recall 0.667, histo_0_precision 0.000, histo_0_sensitivity nan, histo_1_precision 0.143, histo_1_sensitivity 1.000, histo_2_precision 0.800, histo_2_sensitivity 0.500, histo_3_precision 0.000, histo_3_sensitivity 0.000, histo_0_recall 0.000, histo_1_recall 1.000, histo_2_recall 0.500, histo_3_recall 0.000\n",
      "Epoch 4 :: Val   cross_entropy 0.318, dice 0.915, distance_regression 0.428, lesion_classification 0.700, histology_classification 1.388, loss 5.106, dice_lesion 0.000, dice_nonlesion 0.993, precision nan, recall 0.000, tp 0.000, fp 0.000, fn 12839.000, auroc 0.562, cl_precision 0.400, cl_recall 1.000, histo_0_precision 0.000, histo_0_sensitivity nan, histo_1_precision 0.200, histo_1_sensitivity 1.000, histo_2_precision 0.000, histo_2_sensitivity 0.000, histo_3_precision 0.000, histo_3_sensitivity 0.000, histo_0_recall 0.000, histo_1_recall 1.000, histo_2_recall 0.000, histo_3_recall 0.000\n",
      "Saved new best model to /rds/project/kw350/rds-kw350-meld/experiments_graph/co-ripa1/23-05-19_MATH_test_histology_head/fold_00/best_model.pt\n",
      "Epoch 5 :: learning rate 9.548853816214998e-05\n",
      "Epoch 5 :: time 73.13044476509094\n",
      "Epoch 5 :: memory usage 28639.08984375MB\n",
      "Epoch 5 :: Train cross_entropy 0.284, dice 0.929, distance_regression 0.407, lesion_classification 0.692, histology_classification 1.295, loss 4.976, dice_lesion 0.000, dice_nonlesion 0.994, precision nan, recall 0.000, tp 0.000, fp 0.000, fn 39632.000, auroc 0.406, cl_precision 0.500, cl_recall 0.889, histo_0_precision 0.000, histo_0_sensitivity nan, histo_1_precision 0.091, histo_1_sensitivity 1.000, histo_2_precision 0.333, histo_2_sensitivity 0.429, histo_3_precision 0.000, histo_3_sensitivity 0.000, histo_0_recall 0.000, histo_1_recall 1.000, histo_2_recall 0.429, histo_3_recall 0.000\n",
      "Epoch 5 :: Val   cross_entropy 0.256, dice 0.905, distance_regression 0.429, lesion_classification 0.704, histology_classification 1.388, loss 4.998, dice_lesion 0.000, dice_nonlesion 0.993, precision nan, recall 0.000, tp 0.000, fp 0.000, fn 12839.000, auroc 0.576, cl_precision 0.333, cl_recall 1.000, histo_0_precision 0.000, histo_0_sensitivity nan, histo_1_precision 0.000, histo_1_sensitivity 0.000, histo_2_precision 0.167, histo_2_sensitivity 1.000, histo_3_precision 0.000, histo_3_sensitivity 0.000, histo_0_recall 0.000, histo_1_recall 0.000, histo_2_recall 1.000, histo_3_recall 0.000\n",
      "Saved new best model to /rds/project/kw350/rds-kw350-meld/experiments_graph/co-ripa1/23-05-19_MATH_test_histology_head/fold_00/best_model.pt\n",
      "Epoch 6 :: learning rate 9.458343193786322e-05\n"
     ]
    },
    {
     "ename": "KeyboardInterrupt",
     "evalue": "",
     "output_type": "error",
     "traceback": [
      "\u001b[0;31m---------------------------------------------------------------------------\u001b[0m",
      "\u001b[0;31mKeyboardInterrupt\u001b[0m                         Traceback (most recent call last)",
      "\u001b[1;32m/rds/user/co-ripa1/hpc-work/scripts/meld_classifier_GDL/notebooks/develop_classification_histology_head.ipynb Cell 10\u001b[0m in \u001b[0;36m<module>\u001b[0;34m\u001b[0m\n\u001b[0;32m----> <a href='vscode-notebook-cell://ssh-remote%2Blogin-e-16.hpc.cam.ac.uk/rds/user/co-ripa1/hpc-work/scripts/meld_classifier_GDL/notebooks/develop_classification_histology_head.ipynb#X12sdnNjb2RlLXJlbW90ZQ%3D%3D?line=0'>1</a>\u001b[0m trainer\u001b[39m.\u001b[39;49mtrain(wandb_logging\u001b[39m=\u001b[39;49m\u001b[39mFalse\u001b[39;49;00m)\n",
      "File \u001b[0;32m/rds/user/co-ripa1/hpc-work/scripts/meld_classifier_GDL/meld_graph/training.py:689\u001b[0m, in \u001b[0;36mTrainer.train\u001b[0;34m(self, wandb_logging)\u001b[0m\n\u001b[1;32m    687\u001b[0m \u001b[39mself\u001b[39m\u001b[39m.\u001b[39mlog\u001b[39m.\u001b[39minfo(\u001b[39mf\u001b[39m\u001b[39m'\u001b[39m\u001b[39mEpoch \u001b[39m\u001b[39m{\u001b[39;00mepoch\u001b[39m}\u001b[39;00m\u001b[39m :: learning rate \u001b[39m\u001b[39m{\u001b[39;00mscheduler\u001b[39m.\u001b[39mget_last_lr()[\u001b[39m0\u001b[39m]\u001b[39m}\u001b[39;00m\u001b[39m'\u001b[39m)\n\u001b[1;32m    688\u001b[0m start \u001b[39m=\u001b[39m time\u001b[39m.\u001b[39mtime()\n\u001b[0;32m--> 689\u001b[0m cur_scores \u001b[39m=\u001b[39m \u001b[39mself\u001b[39;49m\u001b[39m.\u001b[39;49mtrain_epoch(train_data_loader, optimiser)\n\u001b[1;32m    690\u001b[0m \u001b[39mself\u001b[39m\u001b[39m.\u001b[39mlog\u001b[39m.\u001b[39minfo(\u001b[39mf\u001b[39m\u001b[39m'\u001b[39m\u001b[39mEpoch \u001b[39m\u001b[39m{\u001b[39;00mepoch\u001b[39m}\u001b[39;00m\u001b[39m :: time \u001b[39m\u001b[39m{\u001b[39;00mtime\u001b[39m.\u001b[39mtime()\u001b[39m-\u001b[39mstart\u001b[39m}\u001b[39;00m\u001b[39m'\u001b[39m)\n\u001b[1;32m    691\u001b[0m scheduler\u001b[39m.\u001b[39mstep()  \u001b[39m# update lr\u001b[39;00m\n",
      "File \u001b[0;32m/rds/user/co-ripa1/hpc-work/scripts/meld_classifier_GDL/meld_graph/training.py:505\u001b[0m, in \u001b[0;36mTrainer.train_epoch\u001b[0;34m(self, data_loader, optimiser)\u001b[0m\n\u001b[1;32m    503\u001b[0m model\u001b[39m.\u001b[39mtrain()\n\u001b[1;32m    504\u001b[0m optimiser\u001b[39m.\u001b[39mzero_grad()\n\u001b[0;32m--> 505\u001b[0m estimates \u001b[39m=\u001b[39m model(data\u001b[39m.\u001b[39;49mx)\n\u001b[1;32m    506\u001b[0m labels \u001b[39m=\u001b[39m data\u001b[39m.\u001b[39my\u001b[39m.\u001b[39msqueeze()\n\u001b[1;32m    507\u001b[0m distance_map \u001b[39m=\u001b[39m \u001b[39mgetattr\u001b[39m(data, \u001b[39m\"\u001b[39m\u001b[39mdistance_map\u001b[39m\u001b[39m\"\u001b[39m, \u001b[39mNone\u001b[39;00m)\n",
      "File \u001b[0;32m~/.conda/envs/meld_graph/lib/python3.9/site-packages/torch/nn/modules/module.py:1102\u001b[0m, in \u001b[0;36mModule._call_impl\u001b[0;34m(self, *input, **kwargs)\u001b[0m\n\u001b[1;32m   1098\u001b[0m \u001b[39m# If we don't have any hooks, we want to skip the rest of the logic in\u001b[39;00m\n\u001b[1;32m   1099\u001b[0m \u001b[39m# this function, and just call forward.\u001b[39;00m\n\u001b[1;32m   1100\u001b[0m \u001b[39mif\u001b[39;00m \u001b[39mnot\u001b[39;00m (\u001b[39mself\u001b[39m\u001b[39m.\u001b[39m_backward_hooks \u001b[39mor\u001b[39;00m \u001b[39mself\u001b[39m\u001b[39m.\u001b[39m_forward_hooks \u001b[39mor\u001b[39;00m \u001b[39mself\u001b[39m\u001b[39m.\u001b[39m_forward_pre_hooks \u001b[39mor\u001b[39;00m _global_backward_hooks\n\u001b[1;32m   1101\u001b[0m         \u001b[39mor\u001b[39;00m _global_forward_hooks \u001b[39mor\u001b[39;00m _global_forward_pre_hooks):\n\u001b[0;32m-> 1102\u001b[0m     \u001b[39mreturn\u001b[39;00m forward_call(\u001b[39m*\u001b[39;49m\u001b[39minput\u001b[39;49m, \u001b[39m*\u001b[39;49m\u001b[39m*\u001b[39;49mkwargs)\n\u001b[1;32m   1103\u001b[0m \u001b[39m# Do not call functions when jit is used\u001b[39;00m\n\u001b[1;32m   1104\u001b[0m full_backward_hooks, non_full_backward_hooks \u001b[39m=\u001b[39m [], []\n",
      "File \u001b[0;32m/rds/user/co-ripa1/hpc-work/scripts/meld_classifier_GDL/meld_graph/models.py:352\u001b[0m, in \u001b[0;36mMoNetUnet.forward\u001b[0;34m(self, data)\u001b[0m\n\u001b[1;32m    350\u001b[0m     x \u001b[39m=\u001b[39m torch\u001b[39m.\u001b[39mcat([x, skip_connections[skip_i]], dim\u001b[39m=\u001b[39m\u001b[39m1\u001b[39m)\n\u001b[1;32m    351\u001b[0m     \u001b[39mfor\u001b[39;00m cl \u001b[39min\u001b[39;00m block:\n\u001b[0;32m--> 352\u001b[0m         x \u001b[39m=\u001b[39m cl(x, device\u001b[39m=\u001b[39;49m\u001b[39mself\u001b[39;49m\u001b[39m.\u001b[39;49mdevice)\n\u001b[1;32m    353\u001b[0m         x \u001b[39m=\u001b[39m \u001b[39mself\u001b[39m\u001b[39m.\u001b[39mactivation_function(x)\n\u001b[1;32m    355\u001b[0m \u001b[39m# add distance head\u001b[39;00m\n",
      "File \u001b[0;32m~/.conda/envs/meld_graph/lib/python3.9/site-packages/torch/nn/modules/module.py:1102\u001b[0m, in \u001b[0;36mModule._call_impl\u001b[0;34m(self, *input, **kwargs)\u001b[0m\n\u001b[1;32m   1098\u001b[0m \u001b[39m# If we don't have any hooks, we want to skip the rest of the logic in\u001b[39;00m\n\u001b[1;32m   1099\u001b[0m \u001b[39m# this function, and just call forward.\u001b[39;00m\n\u001b[1;32m   1100\u001b[0m \u001b[39mif\u001b[39;00m \u001b[39mnot\u001b[39;00m (\u001b[39mself\u001b[39m\u001b[39m.\u001b[39m_backward_hooks \u001b[39mor\u001b[39;00m \u001b[39mself\u001b[39m\u001b[39m.\u001b[39m_forward_hooks \u001b[39mor\u001b[39;00m \u001b[39mself\u001b[39m\u001b[39m.\u001b[39m_forward_pre_hooks \u001b[39mor\u001b[39;00m _global_backward_hooks\n\u001b[1;32m   1101\u001b[0m         \u001b[39mor\u001b[39;00m _global_forward_hooks \u001b[39mor\u001b[39;00m _global_forward_pre_hooks):\n\u001b[0;32m-> 1102\u001b[0m     \u001b[39mreturn\u001b[39;00m forward_call(\u001b[39m*\u001b[39;49m\u001b[39minput\u001b[39;49m, \u001b[39m*\u001b[39;49m\u001b[39m*\u001b[39;49mkwargs)\n\u001b[1;32m   1103\u001b[0m \u001b[39m# Do not call functions when jit is used\u001b[39;00m\n\u001b[1;32m   1104\u001b[0m full_backward_hooks, non_full_backward_hooks \u001b[39m=\u001b[39m [], []\n",
      "File \u001b[0;32m/rds/user/co-ripa1/hpc-work/scripts/meld_classifier_GDL/meld_graph/spiralconv.py:37\u001b[0m, in \u001b[0;36mSpiralConv.forward\u001b[0;34m(self, x, device)\u001b[0m\n\u001b[1;32m     34\u001b[0m n_nodes, _ \u001b[39m=\u001b[39m \u001b[39mself\u001b[39m\u001b[39m.\u001b[39mindices\u001b[39m.\u001b[39msize()\n\u001b[1;32m     35\u001b[0m \u001b[39mif\u001b[39;00m x\u001b[39m.\u001b[39mdim() \u001b[39m==\u001b[39m \u001b[39m2\u001b[39m:\n\u001b[1;32m     36\u001b[0m     \u001b[39m# TODO figure out if this is correct\u001b[39;00m\n\u001b[0;32m---> 37\u001b[0m     x \u001b[39m=\u001b[39m torch\u001b[39m.\u001b[39;49mindex_select(x, \u001b[39m0\u001b[39;49m, \u001b[39mself\u001b[39;49m\u001b[39m.\u001b[39;49mindices\u001b[39m.\u001b[39;49mcontiguous()\u001b[39m.\u001b[39;49mto(device)\u001b[39m.\u001b[39;49mview(\u001b[39m-\u001b[39;49m\u001b[39m1\u001b[39;49m))\n\u001b[1;32m     38\u001b[0m     x \u001b[39m=\u001b[39m x\u001b[39m.\u001b[39mview(n_nodes, \u001b[39m-\u001b[39m\u001b[39m1\u001b[39m)\n\u001b[1;32m     39\u001b[0m \u001b[39melif\u001b[39;00m x\u001b[39m.\u001b[39mdim() \u001b[39m==\u001b[39m \u001b[39m3\u001b[39m:\n",
      "\u001b[0;31mKeyboardInterrupt\u001b[0m: "
     ]
    }
   ],
   "source": [
    "trainer.train(wandb_logging=False)"
   ]
  }
 ],
 "metadata": {
  "kernelspec": {
   "display_name": "meld_graph",
   "language": "python",
   "name": "python3"
  },
  "language_info": {
   "codemirror_mode": {
    "name": "ipython",
    "version": 3
   },
   "file_extension": ".py",
   "mimetype": "text/x-python",
   "name": "python",
   "nbconvert_exporter": "python",
   "pygments_lexer": "ipython3",
   "version": "3.9.10"
  },
  "orig_nbformat": 4
 },
 "nbformat": 4,
 "nbformat_minor": 2
}
