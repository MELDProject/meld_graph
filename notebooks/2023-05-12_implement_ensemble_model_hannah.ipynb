{
 "cells": [
  {
   "cell_type": "code",
   "execution_count": 1,
   "id": "8c18ce07",
   "metadata": {},
   "outputs": [
    {
     "name": "stdout",
     "output_type": "stream",
     "text": [
      "Setting EXPERIMENT_PATH to /rds/project/kw350/rds-kw350-meld/experiments_graph/co-spit1\n",
      "Setting MELD_DATA_PATH to /home/co-spit1/meld_data\n",
      "Setting BASE_PATH to /home/co-spit1/meld_data\n",
      "Setting EXPERIMENT_PATH to /home/co-spit1/meld_experiments/co-spit1\n",
      "Setting FS_SUBJECTS_PATH to /home/co-spit1/meld_data/output/fs_outputs\n"
     ]
    }
   ],
   "source": [
    "import meld_graph.experiment\n",
    "import os\n",
    "import numpy as np\n",
    "import h5py\n",
    "import matplotlib_surface_plotting as msp\n",
    "import matplotlib.pyplot as plt\n",
    "from matplotlib.gridspec import GridSpec\n",
    "import nibabel as nb\n",
    "from meld_classifier.paths import BASE_PATH\n",
    "from meld_classifier.meld_cohort import MeldCohort,MeldSubject\n",
    "\n",
    "from meld_graph.experiment import Experiment\n",
    "from meld_graph.dataset import GraphDataset\n",
    "import torch\n",
    "import torch_geometric\n"
   ]
  },
  {
   "cell_type": "code",
   "execution_count": 2,
   "id": "e9898142",
   "metadata": {},
   "outputs": [],
   "source": [
    "model_path1 = '/rds/project/kw350/rds-kw350-meld/experiments_graph/kw350/23-02-09_MYCZ_baseline/s_2/'\n",
    "\n",
    "cohort = MeldCohort(hdf5_file_root='{site_code}_{group}_featurematrix_combat_6.hdf5',\n",
    "               dataset='MELD_dataset_V6.csv')"
   ]
  },
  {
   "cell_type": "code",
   "execution_count": 3,
   "id": "b0f51c0c",
   "metadata": {},
   "outputs": [],
   "source": [
    "folds = np.arange(5)\n",
    "\n",
    "exp_dirs = [os.path.join(model_path1,f'fold_0{fold}') for fold in folds]"
   ]
  },
  {
   "cell_type": "code",
   "execution_count": 4,
   "id": "5de5c6d2",
   "metadata": {},
   "outputs": [
    {
     "name": "stderr",
     "output_type": "stream",
     "text": [
      "Initialised Experiment 23-02-09_MYCZ_baseline/s_2\n",
      "Initialised Experiment 23-02-09_MYCZ_baseline/s_2\n",
      "Initialised Experiment 23-02-09_MYCZ_baseline/s_2\n",
      "Initialised Experiment 23-02-09_MYCZ_baseline/s_2\n",
      "Initialised Experiment 23-02-09_MYCZ_baseline/s_2\n"
     ]
    }
   ],
   "source": [
    "exps = [Experiment.from_folder(exp_dir) for exp_dir in exp_dirs]"
   ]
  },
  {
   "cell_type": "code",
   "execution_count": 5,
   "id": "812fa654",
   "metadata": {},
   "outputs": [
    {
     "name": "stderr",
     "output_type": "stream",
     "text": [
      "Creating model\n",
      "Creating model\n",
      "Creating model\n",
      "Creating model\n",
      "Creating model\n"
     ]
    }
   ],
   "source": [
    "for exp in exps:\n",
    "    exp.load_model(os.path.join(exp.experiment_path, exp.experiment_name, f'fold_0{exp.fold}', 'best_model.pt'))"
   ]
  },
  {
   "cell_type": "code",
   "execution_count": 6,
   "id": "f2e789de",
   "metadata": {
    "scrolled": true
   },
   "outputs": [
    {
     "name": "stderr",
     "output_type": "stream",
     "text": [
      "Loading and preprocessing test data\n",
      "Z-scoring data for MELD_H17_3T_FCD_0035\n",
      "Z-scoring data for MELD_H21_15T_FCD_0039\n",
      "Z-scoring data for MELD_H2_3T_C_0024\n",
      "Z-scoring data for MELD_H19_3T_C_027\n",
      "Z-scoring data for MELD_H15_3T_C_0028\n",
      "Z-scoring data for MELD_H23_15T_FCD_0007\n",
      "Z-scoring data for MELD_H2_3T_C_0015\n",
      "Z-scoring data for MELD_H10_3T_C_0010\n",
      "Z-scoring data for MELD_H19_3T_C_022\n",
      "Z-scoring data for MELD_H14_3T_FCD_0019\n"
     ]
    }
   ],
   "source": [
    "train_ids, val_ids, test_ids = exp.get_train_val_test_ids()\n",
    "dataset = GraphDataset(val_ids[:10], cohort, exp.data_parameters, mode='test')"
   ]
  },
  {
   "cell_type": "code",
   "execution_count": 7,
   "id": "79323ee5",
   "metadata": {},
   "outputs": [],
   "source": [
    "data_loader = torch_geometric.loader.DataLoader(\n",
    "        dataset,\n",
    "        shuffle=False,\n",
    "        batch_size=1)"
   ]
  },
  {
   "cell_type": "code",
   "execution_count": 8,
   "id": "acbbb617",
   "metadata": {},
   "outputs": [],
   "source": [
    "from torch import nn"
   ]
  },
  {
   "cell_type": "code",
   "execution_count": 9,
   "id": "b3b97e2f",
   "metadata": {},
   "outputs": [],
   "source": [
    "class Ensemble(nn.Module):\n",
    "    \"\"\"\n",
    "    Ensemble models\n",
    "    \"\"\"\n",
    "    def __init__(self, models):\n",
    "        super(Ensemble, self).__init__()\n",
    "        self.models = nn.ModuleList(models)\n",
    "        \n",
    "    def forward(self, x):\n",
    "        \"\"\"\n",
    "        Forward pass\n",
    "        \"\"\"\n",
    "        estimates = [model(x) for model in self.models]\n",
    "        ensembled_estimates = {}\n",
    "        for key in ['log_softmax', 'hemi_log_softmax', 'non_lesion_logits']:\n",
    "            if key not in estimates[0].keys():\n",
    "                continue\n",
    "            if 'log_softmax' in key:\n",
    "                # there are the logged outputs -> before mean, need to do exp \n",
    "                vals = torch.stack([torch.exp(est[key]) for est in estimates], dim=2)\n",
    "                mean_val = torch.log(torch.mean(vals, dim=2))\n",
    "            else:\n",
    "                mean_val = torch.mean(torch.stack([est[key] for est in estimates], dim=2), dim=2)\n",
    "            ensembled_estimates[key] = mean_val\n",
    "        return ensembled_estimates\n",
    "\n",
    "ensemble = Ensemble([exp.model for exp in exps])"
   ]
  },
  {
   "cell_type": "code",
   "execution_count": 10,
   "id": "079e76a1",
   "metadata": {},
   "outputs": [],
   "source": [
    "# predict\n",
    "for i, data in enumerate(data_loader):\n",
    "    estimates = ensemble(data.x)\n",
    "    \n",
    "    # single folds for comparison\n",
    "    #estimates_folds = [exp.model(data.x) for exp in exps]\n",
    "    break"
   ]
  },
  {
   "cell_type": "code",
   "execution_count": 13,
   "id": "403ca8e0",
   "metadata": {},
   "outputs": [
    {
     "name": "stdout",
     "output_type": "stream",
     "text": [
      "tensor([[-0.6839, -0.7025],\n",
      "        [-0.7104, -0.6762],\n",
      "        [-0.7167, -0.6701],\n",
      "        ...,\n",
      "        [-0.6948, -0.6915],\n",
      "        [-0.7212, -0.6659],\n",
      "        [-0.7076, -0.6789]], grad_fn=<LogBackward0>)\n",
      "tensor([[-0.6839, -0.7025],\n",
      "        [-0.7104, -0.6762],\n",
      "        [-0.7167, -0.6701],\n",
      "        ...,\n",
      "        [-0.6948, -0.6915],\n",
      "        [-0.7212, -0.6659],\n",
      "        [-0.7076, -0.6789]], grad_fn=<LogBackward0>)\n"
     ]
    }
   ],
   "source": [
    "print(estimates['log_softmax'])\n",
    "\n",
    "estimates_exp = [torch.exp(f['log_softmax']) for f in estimates_folds]\n",
    "print(torch.log(torch.mean(torch.stack(estimates_exp, dim=2), dim=2)))"
   ]
  },
  {
   "cell_type": "code",
   "execution_count": 14,
   "id": "22ad40ed",
   "metadata": {},
   "outputs": [
    {
     "name": "stdout",
     "output_type": "stream",
     "text": [
      "tensor([[0.0771],\n",
      "        [0.1123],\n",
      "        [0.6275],\n",
      "        ...,\n",
      "        [0.2871],\n",
      "        [0.3094],\n",
      "        [0.3253]], grad_fn=<MeanBackward1>)\n",
      "tensor([[-0.0008],\n",
      "        [-0.0036],\n",
      "        [ 0.0858],\n",
      "        ...,\n",
      "        [ 0.5935],\n",
      "        [ 0.3564],\n",
      "        [ 0.5201]], grad_fn=<ViewBackward0>)\n"
     ]
    }
   ],
   "source": [
    "print(estimates['non_lesion_logits'])\n",
    "print(estimates_folds[1]['non_lesion_logits'])"
   ]
  },
  {
   "cell_type": "code",
   "execution_count": 11,
   "id": "81b0d974",
   "metadata": {},
   "outputs": [],
   "source": [
    "# try saving \n",
    "fname = 'ensemble_model.pt'\n",
    "torch.save(ensemble.state_dict(), fname)"
   ]
  },
  {
   "cell_type": "code",
   "execution_count": 12,
   "id": "0049ab0f",
   "metadata": {},
   "outputs": [],
   "source": [
    "# load model - function of experiment\n",
    "import copy\n",
    "def load_ensemble_model(self, checkpoint_path=None, force=False):\n",
    "    if self.model is not None and not force:\n",
    "        self.log.info(\"Model already exists. Specify force=True to force reloading and initialisation\")\n",
    "    # create model without checkpoint\n",
    "    self.load_model()\n",
    "    self.log.info('Creating ensemble model')\n",
    "    models = [copy.deepcopy(self.model) for _ in range(5)]  # TODO this assumes that we are always ensembling 5 models\n",
    "    ensemble_model = Ensemble(models)\n",
    "    self.model = ensemble_model\n",
    "    # load weights from checkpoint    \n",
    "    if checkpoint_path is not None and os.path.isfile(checkpoint_path):\n",
    "        # checkpoint contains both model architecture + weights\n",
    "        device = torch.device('cuda') if torch.cuda.is_available() else torch.device('cpu')\n",
    "        self.log.info(f\"Loading ensemble model weights from checkpoint {checkpoint_path}\")\n",
    "        self.model.load_state_dict(torch.load(checkpoint_path, map_location=device), strict=False)\n",
    "        self.model.eval()\n",
    "    \n"
   ]
  },
  {
   "cell_type": "code",
   "execution_count": 13,
   "id": "3c7295ed",
   "metadata": {},
   "outputs": [
    {
     "name": "stderr",
     "output_type": "stream",
     "text": [
      "Initialised Experiment 23-02-09_MYCZ_baseline/s_2\n",
      "Creating model\n",
      "Creating ensemble model\n",
      "Loading ensemble model weights from checkpoint ensemble_model.pt\n"
     ]
    }
   ],
   "source": [
    "exp = Experiment.from_folder(exp_dirs[0])\n",
    "load_ensemble_model(exp, checkpoint_path='ensemble_model.pt')"
   ]
  },
  {
   "cell_type": "code",
   "execution_count": 14,
   "id": "a29da1fa",
   "metadata": {},
   "outputs": [
    {
     "name": "stdout",
     "output_type": "stream",
     "text": [
      "models.0.encoder_conv_layers.0.0.layer.weight Parameter containing:\n",
      "tensor([[ 0.0970, -0.1243, -0.0667,  ...,  0.0817, -0.0645, -0.0773],\n",
      "        [ 0.1273,  0.0729,  0.1507,  ...,  0.1059,  0.0259,  0.1334],\n",
      "        [ 0.0711, -0.1097,  0.0649,  ..., -0.0778, -0.0976,  0.0843],\n",
      "        ...,\n",
      "        [-0.1498, -0.0035,  0.0912,  ...,  0.0214,  0.0946,  0.0228],\n",
      "        [-0.0873, -0.0023, -0.0966,  ...,  0.0932, -0.0044, -0.0792],\n",
      "        [-0.0366,  0.0820,  0.0872,  ..., -0.1319, -0.1302,  0.0937]],\n",
      "       requires_grad=True)\n",
      "models.1.encoder_conv_layers.0.0.layer.weight Parameter containing:\n",
      "tensor([[ 0.1487, -0.1123, -0.0906,  ..., -0.0787,  0.0127,  0.1028],\n",
      "        [-0.0862,  0.1353, -0.1198,  ...,  0.0290, -0.0596, -0.0157],\n",
      "        [-0.0119, -0.0816,  0.0578,  ...,  0.0009, -0.0595, -0.1305],\n",
      "        ...,\n",
      "        [-0.0145, -0.1298,  0.1177,  ..., -0.0879,  0.0247, -0.0711],\n",
      "        [ 0.1373,  0.0732, -0.0994,  ..., -0.1396, -0.0774,  0.0269],\n",
      "        [-0.0647, -0.0460,  0.0085,  ..., -0.1418,  0.1264, -0.0210]],\n",
      "       requires_grad=True)\n",
      "models.2.encoder_conv_layers.0.0.layer.weight Parameter containing:\n",
      "tensor([[-0.0922, -0.1350, -0.0714,  ...,  0.0857, -0.0259,  0.0438],\n",
      "        [ 0.0650,  0.0318, -0.0493,  ..., -0.1019, -0.0177,  0.0833],\n",
      "        [ 0.1073, -0.0682,  0.0089,  ...,  0.0524,  0.0551,  0.0415],\n",
      "        ...,\n",
      "        [-0.1438, -0.0213,  0.1074,  ..., -0.1299, -0.0640, -0.0559],\n",
      "        [ 0.0460,  0.0626,  0.0115,  ..., -0.0059, -0.1369,  0.0575],\n",
      "        [-0.0376, -0.0502,  0.0373,  ...,  0.1255,  0.1438,  0.1327]],\n",
      "       requires_grad=True)\n",
      "models.3.encoder_conv_layers.0.0.layer.weight Parameter containing:\n",
      "tensor([[ 0.0597,  0.0647,  0.0776,  ...,  0.1219,  0.0498,  0.0333],\n",
      "        [-0.0600, -0.0417,  0.0917,  ...,  0.0815, -0.1173, -0.1009],\n",
      "        [ 0.1397, -0.1454, -0.1347,  ...,  0.1392, -0.0987, -0.0897],\n",
      "        ...,\n",
      "        [-0.0611,  0.0477, -0.0329,  ...,  0.1110, -0.0331, -0.0229],\n",
      "        [ 0.0014, -0.1186,  0.0680,  ..., -0.0465, -0.1103, -0.0506],\n",
      "        [-0.1355,  0.0441,  0.0743,  ...,  0.1132,  0.0539,  0.1239]],\n",
      "       requires_grad=True)\n",
      "models.4.encoder_conv_layers.0.0.layer.weight Parameter containing:\n",
      "tensor([[ 0.1367,  0.0125,  0.0496,  ..., -0.1122,  0.0355,  0.0712],\n",
      "        [ 0.0398,  0.1386, -0.0897,  ..., -0.0124, -0.0820, -0.0072],\n",
      "        [ 0.1429,  0.1126,  0.1327,  ...,  0.1012,  0.1090, -0.0470],\n",
      "        ...,\n",
      "        [ 0.0943,  0.0632, -0.0158,  ..., -0.0906,  0.0223, -0.0619],\n",
      "        [ 0.0755, -0.0592,  0.0453,  ...,  0.0314, -0.1398,  0.0627],\n",
      "        [ 0.0725, -0.1344,  0.0878,  ...,  0.1075,  0.0030,  0.0868]],\n",
      "       requires_grad=True)\n"
     ]
    }
   ],
   "source": [
    "# check that have different weights in different models\n",
    "for name, param in exp.model.named_parameters():\n",
    "    if 'encoder_conv_layers.0.0.layer.weight' in name:\n",
    "        print(name, param)"
   ]
  },
  {
   "cell_type": "code",
   "execution_count": 15,
   "id": "341b703c",
   "metadata": {},
   "outputs": [],
   "source": [
    "# predict\n",
    "for i, data in enumerate(data_loader):\n",
    "    estimates2 = ensemble(data.x)\n",
    "    \n",
    "    break"
   ]
  },
  {
   "cell_type": "code",
   "execution_count": 19,
   "id": "c88e923a",
   "metadata": {},
   "outputs": [
    {
     "data": {
      "text/plain": [
       "tensor(True)"
      ]
     },
     "execution_count": 19,
     "metadata": {},
     "output_type": "execute_result"
    }
   ],
   "source": [
    "(estimates['log_softmax'] == estimates2['log_softmax']).all()"
   ]
  }
 ],
 "metadata": {
  "kernelspec": {
   "display_name": "Python 3 (ipykernel)",
   "language": "python",
   "name": "python3"
  },
  "language_info": {
   "codemirror_mode": {
    "name": "ipython",
    "version": 3
   },
   "file_extension": ".py",
   "mimetype": "text/x-python",
   "name": "python",
   "nbconvert_exporter": "python",
   "pygments_lexer": "ipython3",
   "version": "3.9.7"
  }
 },
 "nbformat": 4,
 "nbformat_minor": 5
}
