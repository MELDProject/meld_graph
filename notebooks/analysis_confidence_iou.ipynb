{
 "cells": [
  {
   "attachments": {},
   "cell_type": "markdown",
   "metadata": {},
   "source": [
    "## Notebook to analyse the iou in function of the confidence in the test cohort"
   ]
  },
  {
   "cell_type": "code",
   "execution_count": 1,
   "metadata": {},
   "outputs": [
    {
     "name": "stdout",
     "output_type": "stream",
     "text": [
      "Setting EXPERIMENT_PATH to /rds/project/kw350/rds-kw350-meld/experiments_graph/kw350\n",
      "Setting MELD_DATA_PATH to /rds/project/kw350/rds-kw350-meld/meld_data/Data\n",
      "Setting BASE_PATH to /rds/project/kw350/rds-kw350-meld/meld_data/Data\n",
      "Setting EXPERIMENT_PATH to /rds/project/kw350/rds-kw350-meld/experiments/co-ripa1/\n",
      "Setting FS_SUBJECTS_PATH to /rds/project/kw350/rds-kw350-meld/meld_data/Data\n",
      "Setting BASE_PATH to /rds/project/kw350/rds-kw350-meld/meld_data/Data\n"
     ]
    }
   ],
   "source": [
    "import os\n",
    "import sys\n",
    "import numpy as np\n",
    "sys.path.append('/home/co-ripa1/rds/hpc-work/scripts/meld_classifier')\n",
    "import h5py\n",
    "import matplotlib_surface_plotting as msp\n",
    "import matplotlib.pyplot as plt\n",
    "from matplotlib.gridspec import GridSpec\n",
    "import nibabel as nb\n",
    "import meld_graph.experiment\n",
    "from meld_classifier.paths import BASE_PATH\n",
    "from meld_classifier.meld_cohort import MeldCohort,MeldSubject\n",
    "import ptitprince as pt\n",
    "import seaborn as sns\n"
   ]
  },
  {
   "cell_type": "markdown",
   "metadata": {},
   "source": [
    "### Get IOU and confidence"
   ]
  },
  {
   "cell_type": "code",
   "execution_count": 3,
   "metadata": {},
   "outputs": [],
   "source": [
    "from meld_graph.dataset import GraphDataset\n",
    "from meld_graph.evaluation import Evaluator"
   ]
  },
  {
   "cell_type": "code",
   "execution_count": 4,
   "metadata": {},
   "outputs": [],
   "source": [
    "dataset = 'test'  # \"test\" or \"H101\""
   ]
  },
  {
   "cell_type": "code",
   "execution_count": 15,
   "metadata": {},
   "outputs": [
    {
     "name": "stderr",
     "output_type": "stream",
     "text": [
      "Initialised Experiment 23-10-30_LVHZ_dcp/s_0\n"
     ]
    },
    {
     "name": "stdout",
     "output_type": "stream",
     "text": [
      "/rds/project/kw350/rds-kw350-meld/experiments_graph/kw350/23-10-30_LVHZ_dcp/s_0/fold_all\n",
      "260\n"
     ]
    },
    {
     "name": "stderr",
     "output_type": "stream",
     "text": [
      "Loading and preprocessing test data\n"
     ]
    },
    {
     "name": "stdout",
     "output_type": "stream",
     "text": [
      "MELD2_H7_3T_FCD_001\n"
     ]
    },
    {
     "name": "stderr",
     "output_type": "stream",
     "text": [
      "Z-scoring data for MELD2_H7_3T_FCD_001\n"
     ]
    },
    {
     "name": "stdout",
     "output_type": "stream",
     "text": [
      "MELD2_H7_3T_FCD_004\n"
     ]
    },
    {
     "name": "stderr",
     "output_type": "stream",
     "text": [
      "Z-scoring data for MELD2_H7_3T_FCD_004\n"
     ]
    },
    {
     "name": "stdout",
     "output_type": "stream",
     "text": [
      "MELD2_H7_3T_FCD_005\n"
     ]
    },
    {
     "name": "stderr",
     "output_type": "stream",
     "text": [
      "Z-scoring data for MELD2_H7_3T_FCD_005\n"
     ]
    },
    {
     "name": "stdout",
     "output_type": "stream",
     "text": [
      "MELD2_H7_3T_FCD_009\n"
     ]
    },
    {
     "name": "stderr",
     "output_type": "stream",
     "text": [
      "Z-scoring data for MELD2_H7_3T_FCD_009\n"
     ]
    },
    {
     "name": "stdout",
     "output_type": "stream",
     "text": [
      "MELD_H10_3T_FCD_0002\n"
     ]
    },
    {
     "name": "stderr",
     "output_type": "stream",
     "text": [
      "Z-scoring data for MELD_H10_3T_FCD_0002\n"
     ]
    },
    {
     "name": "stdout",
     "output_type": "stream",
     "text": [
      "MELD_H10_3T_FCD_0009\n"
     ]
    },
    {
     "name": "stderr",
     "output_type": "stream",
     "text": [
      "Z-scoring data for MELD_H10_3T_FCD_0009\n"
     ]
    },
    {
     "name": "stdout",
     "output_type": "stream",
     "text": [
      "MELD_H10_3T_FCD_0013\n"
     ]
    },
    {
     "name": "stderr",
     "output_type": "stream",
     "text": [
      "Z-scoring data for MELD_H10_3T_FCD_0013\n"
     ]
    },
    {
     "name": "stdout",
     "output_type": "stream",
     "text": [
      "MELD_H10_3T_FCD_0014\n"
     ]
    },
    {
     "name": "stderr",
     "output_type": "stream",
     "text": [
      "Z-scoring data for MELD_H10_3T_FCD_0014\n"
     ]
    },
    {
     "name": "stdout",
     "output_type": "stream",
     "text": [
      "MELD_H10_3T_FCD_0016\n"
     ]
    },
    {
     "name": "stderr",
     "output_type": "stream",
     "text": [
      "Z-scoring data for MELD_H10_3T_FCD_0016\n"
     ]
    },
    {
     "name": "stdout",
     "output_type": "stream",
     "text": [
      "MELD_H11_3T_FCD_0002\n"
     ]
    },
    {
     "name": "stderr",
     "output_type": "stream",
     "text": [
      "Z-scoring data for MELD_H11_3T_FCD_0002\n",
      "Z-scoring data for MELD_H11_3T_FCD_0006\n"
     ]
    },
    {
     "name": "stdout",
     "output_type": "stream",
     "text": [
      "MELD_H11_3T_FCD_0006\n",
      "MELD_H11_3T_FCD_0007\n"
     ]
    },
    {
     "name": "stderr",
     "output_type": "stream",
     "text": [
      "Z-scoring data for MELD_H11_3T_FCD_0007\n"
     ]
    },
    {
     "name": "stdout",
     "output_type": "stream",
     "text": [
      "MELD_H11_3T_FCD_0009\n"
     ]
    },
    {
     "name": "stderr",
     "output_type": "stream",
     "text": [
      "Z-scoring data for MELD_H11_3T_FCD_0009\n"
     ]
    },
    {
     "name": "stdout",
     "output_type": "stream",
     "text": [
      "MELD_H11_3T_FCD_0010\n"
     ]
    },
    {
     "name": "stderr",
     "output_type": "stream",
     "text": [
      "Z-scoring data for MELD_H11_3T_FCD_0010\n"
     ]
    },
    {
     "name": "stdout",
     "output_type": "stream",
     "text": [
      "MELD_H11_3T_FCD_0011\n"
     ]
    },
    {
     "name": "stderr",
     "output_type": "stream",
     "text": [
      "Z-scoring data for MELD_H11_3T_FCD_0011\n"
     ]
    },
    {
     "name": "stdout",
     "output_type": "stream",
     "text": [
      "MELD_H11_3T_FCD_0015\n"
     ]
    },
    {
     "name": "stderr",
     "output_type": "stream",
     "text": [
      "Z-scoring data for MELD_H11_3T_FCD_0015\n",
      "Z-scoring data for MELD_H11_3T_FCD_0019\n"
     ]
    },
    {
     "name": "stdout",
     "output_type": "stream",
     "text": [
      "MELD_H11_3T_FCD_0019\n",
      "MELD_H11_3T_FCD_0020\n"
     ]
    },
    {
     "name": "stderr",
     "output_type": "stream",
     "text": [
      "Z-scoring data for MELD_H11_3T_FCD_0020\n",
      "Z-scoring data for MELD_H11_3T_FCD_0025\n"
     ]
    },
    {
     "name": "stdout",
     "output_type": "stream",
     "text": [
      "MELD_H11_3T_FCD_0025\n",
      "MELD_H11_3T_FCD_0027\n"
     ]
    },
    {
     "name": "stderr",
     "output_type": "stream",
     "text": [
      "Z-scoring data for MELD_H11_3T_FCD_0027\n"
     ]
    },
    {
     "name": "stdout",
     "output_type": "stream",
     "text": [
      "MELD_H11_3T_FCD_0028\n"
     ]
    },
    {
     "name": "stderr",
     "output_type": "stream",
     "text": [
      "Z-scoring data for MELD_H11_3T_FCD_0028\n",
      "Z-scoring data for MELD_H11_3T_FCD_0030\n"
     ]
    },
    {
     "name": "stdout",
     "output_type": "stream",
     "text": [
      "MELD_H11_3T_FCD_0030\n",
      "MELD_H11_3T_FCD_0031\n"
     ]
    },
    {
     "name": "stderr",
     "output_type": "stream",
     "text": [
      "Z-scoring data for MELD_H11_3T_FCD_0031\n"
     ]
    },
    {
     "name": "stdout",
     "output_type": "stream",
     "text": [
      "MELD_H11_3T_FCD_0040\n"
     ]
    },
    {
     "name": "stderr",
     "output_type": "stream",
     "text": [
      "Z-scoring data for MELD_H11_3T_FCD_0040\n",
      "Z-scoring data for MELD_H11_3T_FCD_0041\n"
     ]
    },
    {
     "name": "stdout",
     "output_type": "stream",
     "text": [
      "MELD_H11_3T_FCD_0041\n",
      "MELD_H11_3T_FCD_0042\n"
     ]
    },
    {
     "name": "stderr",
     "output_type": "stream",
     "text": [
      "Z-scoring data for MELD_H11_3T_FCD_0042\n"
     ]
    },
    {
     "name": "stdout",
     "output_type": "stream",
     "text": [
      "MELD_H11_3T_FCD_0044\n"
     ]
    },
    {
     "name": "stderr",
     "output_type": "stream",
     "text": [
      "Z-scoring data for MELD_H11_3T_FCD_0044\n",
      "Z-scoring data for MELD_H11_3T_FCD_0045\n"
     ]
    },
    {
     "name": "stdout",
     "output_type": "stream",
     "text": [
      "MELD_H11_3T_FCD_0045\n",
      "MELD_H12_3T_FCD_0003\n"
     ]
    },
    {
     "name": "stderr",
     "output_type": "stream",
     "text": [
      "Z-scoring data for MELD_H12_3T_FCD_0003\n"
     ]
    },
    {
     "name": "stdout",
     "output_type": "stream",
     "text": [
      "MELD_H12_3T_FCD_0006\n"
     ]
    },
    {
     "name": "stderr",
     "output_type": "stream",
     "text": [
      "Z-scoring data for MELD_H12_3T_FCD_0006\n"
     ]
    },
    {
     "name": "stdout",
     "output_type": "stream",
     "text": [
      "MELD_H12_3T_FCD_0007\n"
     ]
    },
    {
     "name": "stderr",
     "output_type": "stream",
     "text": [
      "Z-scoring data for MELD_H12_3T_FCD_0007\n",
      "Z-scoring data for MELD_H12_3T_FCD_0009\n"
     ]
    },
    {
     "name": "stdout",
     "output_type": "stream",
     "text": [
      "MELD_H12_3T_FCD_0009\n",
      "MELD_H12_3T_FCD_0011\n"
     ]
    },
    {
     "name": "stderr",
     "output_type": "stream",
     "text": [
      "Z-scoring data for MELD_H12_3T_FCD_0011\n"
     ]
    },
    {
     "name": "stdout",
     "output_type": "stream",
     "text": [
      "MELD_H12_3T_FCD_0014\n"
     ]
    },
    {
     "name": "stderr",
     "output_type": "stream",
     "text": [
      "Z-scoring data for MELD_H12_3T_FCD_0014\n"
     ]
    },
    {
     "name": "stdout",
     "output_type": "stream",
     "text": [
      "MELD_H12_3T_FCD_0016\n"
     ]
    },
    {
     "name": "stderr",
     "output_type": "stream",
     "text": [
      "Z-scoring data for MELD_H12_3T_FCD_0016\n"
     ]
    },
    {
     "name": "stdout",
     "output_type": "stream",
     "text": [
      "MELD_H12_3T_FCD_0018\n"
     ]
    },
    {
     "name": "stderr",
     "output_type": "stream",
     "text": [
      "Z-scoring data for MELD_H12_3T_FCD_0018\n"
     ]
    },
    {
     "name": "stdout",
     "output_type": "stream",
     "text": [
      "MELD_H12_3T_FCD_0030\n"
     ]
    },
    {
     "name": "stderr",
     "output_type": "stream",
     "text": [
      "Z-scoring data for MELD_H12_3T_FCD_0030\n"
     ]
    },
    {
     "name": "stdout",
     "output_type": "stream",
     "text": [
      "MELD_H14_3T_FCD_0009\n"
     ]
    },
    {
     "name": "stderr",
     "output_type": "stream",
     "text": [
      "Z-scoring data for MELD_H14_3T_FCD_0009\n"
     ]
    },
    {
     "name": "stdout",
     "output_type": "stream",
     "text": [
      "MELD_H14_3T_FCD_0011\n"
     ]
    },
    {
     "name": "stderr",
     "output_type": "stream",
     "text": [
      "Z-scoring data for MELD_H14_3T_FCD_0011\n",
      "Z-scoring data for MELD_H14_3T_FCD_0013\n"
     ]
    },
    {
     "name": "stdout",
     "output_type": "stream",
     "text": [
      "MELD_H14_3T_FCD_0013\n",
      "MELD_H14_3T_FCD_0016\n"
     ]
    },
    {
     "name": "stderr",
     "output_type": "stream",
     "text": [
      "Z-scoring data for MELD_H14_3T_FCD_0016\n"
     ]
    },
    {
     "name": "stdout",
     "output_type": "stream",
     "text": [
      "MELD_H14_3T_FCD_0017\n"
     ]
    },
    {
     "name": "stderr",
     "output_type": "stream",
     "text": [
      "Z-scoring data for MELD_H14_3T_FCD_0017\n"
     ]
    },
    {
     "name": "stdout",
     "output_type": "stream",
     "text": [
      "MELD_H14_3T_FCD_0021\n"
     ]
    },
    {
     "name": "stderr",
     "output_type": "stream",
     "text": [
      "Z-scoring data for MELD_H14_3T_FCD_0021\n"
     ]
    },
    {
     "name": "stdout",
     "output_type": "stream",
     "text": [
      "MELD_H14_3T_FCD_0022\n"
     ]
    },
    {
     "name": "stderr",
     "output_type": "stream",
     "text": [
      "Z-scoring data for MELD_H14_3T_FCD_0022\n",
      "Z-scoring data for MELD_H14_3T_FCD_0023\n"
     ]
    },
    {
     "name": "stdout",
     "output_type": "stream",
     "text": [
      "MELD_H14_3T_FCD_0023\n",
      "MELD_H14_3T_FCD_0024\n"
     ]
    },
    {
     "name": "stderr",
     "output_type": "stream",
     "text": [
      "Z-scoring data for MELD_H14_3T_FCD_0024\n"
     ]
    },
    {
     "name": "stdout",
     "output_type": "stream",
     "text": [
      "MELD_H14_3T_FCD_0025\n"
     ]
    },
    {
     "name": "stderr",
     "output_type": "stream",
     "text": [
      "Z-scoring data for MELD_H14_3T_FCD_0025\n",
      "Z-scoring data for MELD_H14_3T_FCD_0026\n"
     ]
    },
    {
     "name": "stdout",
     "output_type": "stream",
     "text": [
      "MELD_H14_3T_FCD_0026\n",
      "MELD_H14_3T_FCD_0029\n"
     ]
    },
    {
     "name": "stderr",
     "output_type": "stream",
     "text": [
      "Z-scoring data for MELD_H14_3T_FCD_0029\n"
     ]
    },
    {
     "name": "stdout",
     "output_type": "stream",
     "text": [
      "MELD_H14_3T_FCD_0030\n"
     ]
    },
    {
     "name": "stderr",
     "output_type": "stream",
     "text": [
      "Z-scoring data for MELD_H14_3T_FCD_0030\n"
     ]
    },
    {
     "name": "stdout",
     "output_type": "stream",
     "text": [
      "MELD_H14_3T_FCD_0031\n"
     ]
    },
    {
     "name": "stderr",
     "output_type": "stream",
     "text": [
      "Z-scoring data for MELD_H14_3T_FCD_0031\n"
     ]
    },
    {
     "name": "stdout",
     "output_type": "stream",
     "text": [
      "MELD_H14_3T_FCD_0034\n"
     ]
    },
    {
     "name": "stderr",
     "output_type": "stream",
     "text": [
      "Z-scoring data for MELD_H14_3T_FCD_0034\n"
     ]
    },
    {
     "name": "stdout",
     "output_type": "stream",
     "text": [
      "MELD_H14_3T_FCD_0035\n"
     ]
    },
    {
     "name": "stderr",
     "output_type": "stream",
     "text": [
      "Z-scoring data for MELD_H14_3T_FCD_0035\n"
     ]
    },
    {
     "name": "stdout",
     "output_type": "stream",
     "text": [
      "MELD_H14_3T_FCD_0037\n"
     ]
    },
    {
     "name": "stderr",
     "output_type": "stream",
     "text": [
      "Z-scoring data for MELD_H14_3T_FCD_0037\n"
     ]
    },
    {
     "name": "stdout",
     "output_type": "stream",
     "text": [
      "MELD_H14_3T_FCD_0039\n"
     ]
    },
    {
     "name": "stderr",
     "output_type": "stream",
     "text": [
      "Z-scoring data for MELD_H14_3T_FCD_0039\n"
     ]
    },
    {
     "name": "stdout",
     "output_type": "stream",
     "text": [
      "MELD_H14_3T_FCD_0040\n"
     ]
    },
    {
     "name": "stderr",
     "output_type": "stream",
     "text": [
      "Z-scoring data for MELD_H14_3T_FCD_0040\n"
     ]
    },
    {
     "name": "stdout",
     "output_type": "stream",
     "text": [
      "MELD_H14_3T_FCD_0042\n"
     ]
    },
    {
     "name": "stderr",
     "output_type": "stream",
     "text": [
      "Z-scoring data for MELD_H14_3T_FCD_0042\n"
     ]
    },
    {
     "name": "stdout",
     "output_type": "stream",
     "text": [
      "MELD_H15_3T_FCD_0003\n"
     ]
    },
    {
     "name": "stderr",
     "output_type": "stream",
     "text": [
      "Z-scoring data for MELD_H15_3T_FCD_0003\n"
     ]
    },
    {
     "name": "stdout",
     "output_type": "stream",
     "text": [
      "MELD_H15_3T_FCD_0004\n"
     ]
    },
    {
     "name": "stderr",
     "output_type": "stream",
     "text": [
      "Z-scoring data for MELD_H15_3T_FCD_0004\n"
     ]
    },
    {
     "name": "stdout",
     "output_type": "stream",
     "text": [
      "MELD_H15_3T_FCD_0007\n"
     ]
    },
    {
     "name": "stderr",
     "output_type": "stream",
     "text": [
      "Z-scoring data for MELD_H15_3T_FCD_0007\n",
      "Z-scoring data for MELD_H15_3T_FCD_0008\n"
     ]
    },
    {
     "name": "stdout",
     "output_type": "stream",
     "text": [
      "MELD_H15_3T_FCD_0008\n",
      "MELD_H15_3T_FCD_0010\n"
     ]
    },
    {
     "name": "stderr",
     "output_type": "stream",
     "text": [
      "Z-scoring data for MELD_H15_3T_FCD_0010\n"
     ]
    },
    {
     "name": "stdout",
     "output_type": "stream",
     "text": [
      "MELD_H16_3T_FCD_001\n"
     ]
    },
    {
     "name": "stderr",
     "output_type": "stream",
     "text": [
      "Z-scoring data for MELD_H16_3T_FCD_001\n",
      "Z-scoring data for MELD_H16_3T_FCD_003\n"
     ]
    },
    {
     "name": "stdout",
     "output_type": "stream",
     "text": [
      "MELD_H16_3T_FCD_003\n",
      "MELD_H16_3T_FCD_004\n"
     ]
    },
    {
     "name": "stderr",
     "output_type": "stream",
     "text": [
      "Z-scoring data for MELD_H16_3T_FCD_004\n"
     ]
    },
    {
     "name": "stdout",
     "output_type": "stream",
     "text": [
      "MELD_H16_3T_FCD_005\n"
     ]
    },
    {
     "name": "stderr",
     "output_type": "stream",
     "text": [
      "Z-scoring data for MELD_H16_3T_FCD_005\n",
      "Z-scoring data for MELD_H16_3T_FCD_008\n"
     ]
    },
    {
     "name": "stdout",
     "output_type": "stream",
     "text": [
      "MELD_H16_3T_FCD_008\n",
      "MELD_H16_3T_FCD_010\n"
     ]
    },
    {
     "name": "stderr",
     "output_type": "stream",
     "text": [
      "Z-scoring data for MELD_H16_3T_FCD_010\n",
      "Z-scoring data for MELD_H16_3T_FCD_013\n"
     ]
    },
    {
     "name": "stdout",
     "output_type": "stream",
     "text": [
      "MELD_H16_3T_FCD_013\n"
     ]
    },
    {
     "name": "stderr",
     "output_type": "stream",
     "text": [
      "Z-scoring data for MELD_H16_3T_FCD_015\n"
     ]
    },
    {
     "name": "stdout",
     "output_type": "stream",
     "text": [
      "MELD_H16_3T_FCD_015\n",
      "MELD_H16_3T_FCD_016\n"
     ]
    },
    {
     "name": "stderr",
     "output_type": "stream",
     "text": [
      "Z-scoring data for MELD_H16_3T_FCD_016\n",
      "Z-scoring data for MELD_H16_3T_FCD_017\n"
     ]
    },
    {
     "name": "stdout",
     "output_type": "stream",
     "text": [
      "MELD_H16_3T_FCD_017\n",
      "MELD_H16_3T_FCD_022\n"
     ]
    },
    {
     "name": "stderr",
     "output_type": "stream",
     "text": [
      "Z-scoring data for MELD_H16_3T_FCD_022\n"
     ]
    },
    {
     "name": "stdout",
     "output_type": "stream",
     "text": [
      "MELD_H16_3T_FCD_023\n"
     ]
    },
    {
     "name": "stderr",
     "output_type": "stream",
     "text": [
      "Z-scoring data for MELD_H16_3T_FCD_023\n",
      "Z-scoring data for MELD_H16_3T_FCD_026\n"
     ]
    },
    {
     "name": "stdout",
     "output_type": "stream",
     "text": [
      "MELD_H16_3T_FCD_026\n",
      "MELD_H16_3T_FCD_045\n"
     ]
    },
    {
     "name": "stderr",
     "output_type": "stream",
     "text": [
      "Z-scoring data for MELD_H16_3T_FCD_045\n",
      "Z-scoring data for MELD_H16_3T_FCD_048\n"
     ]
    },
    {
     "name": "stdout",
     "output_type": "stream",
     "text": [
      "MELD_H16_3T_FCD_048\n",
      "MELD_H17_15T_FCD_0011\n"
     ]
    },
    {
     "name": "stderr",
     "output_type": "stream",
     "text": [
      "Z-scoring data for MELD_H17_15T_FCD_0011\n"
     ]
    },
    {
     "name": "stdout",
     "output_type": "stream",
     "text": [
      "MELD_H17_15T_FCD_0017\n"
     ]
    },
    {
     "name": "stderr",
     "output_type": "stream",
     "text": [
      "Z-scoring data for MELD_H17_15T_FCD_0017\n"
     ]
    },
    {
     "name": "stdout",
     "output_type": "stream",
     "text": [
      "MELD_H17_15T_FCD_0102\n"
     ]
    },
    {
     "name": "stderr",
     "output_type": "stream",
     "text": [
      "Z-scoring data for MELD_H17_15T_FCD_0102\n"
     ]
    },
    {
     "name": "stdout",
     "output_type": "stream",
     "text": [
      "MELD_H17_15T_FCD_0104\n"
     ]
    },
    {
     "name": "stderr",
     "output_type": "stream",
     "text": [
      "Z-scoring data for MELD_H17_15T_FCD_0104\n"
     ]
    },
    {
     "name": "stdout",
     "output_type": "stream",
     "text": [
      "MELD_H17_15T_FCD_0139\n"
     ]
    },
    {
     "name": "stderr",
     "output_type": "stream",
     "text": [
      "Z-scoring data for MELD_H17_15T_FCD_0139\n"
     ]
    },
    {
     "name": "stdout",
     "output_type": "stream",
     "text": [
      "MELD_H17_3T_FCD_0001\n"
     ]
    },
    {
     "name": "stderr",
     "output_type": "stream",
     "text": [
      "Z-scoring data for MELD_H17_3T_FCD_0001\n"
     ]
    },
    {
     "name": "stdout",
     "output_type": "stream",
     "text": [
      "MELD_H17_3T_FCD_0014\n"
     ]
    },
    {
     "name": "stderr",
     "output_type": "stream",
     "text": [
      "Z-scoring data for MELD_H17_3T_FCD_0014\n"
     ]
    },
    {
     "name": "stdout",
     "output_type": "stream",
     "text": [
      "MELD_H17_3T_FCD_0018\n"
     ]
    },
    {
     "name": "stderr",
     "output_type": "stream",
     "text": [
      "Z-scoring data for MELD_H17_3T_FCD_0018\n"
     ]
    },
    {
     "name": "stdout",
     "output_type": "stream",
     "text": [
      "MELD_H17_3T_FCD_0022\n"
     ]
    },
    {
     "name": "stderr",
     "output_type": "stream",
     "text": [
      "Z-scoring data for MELD_H17_3T_FCD_0022\n"
     ]
    },
    {
     "name": "stdout",
     "output_type": "stream",
     "text": [
      "MELD_H17_3T_FCD_0039\n"
     ]
    },
    {
     "name": "stderr",
     "output_type": "stream",
     "text": [
      "Z-scoring data for MELD_H17_3T_FCD_0039\n"
     ]
    },
    {
     "name": "stdout",
     "output_type": "stream",
     "text": [
      "MELD_H17_3T_FCD_0043\n"
     ]
    },
    {
     "name": "stderr",
     "output_type": "stream",
     "text": [
      "Z-scoring data for MELD_H17_3T_FCD_0043\n"
     ]
    },
    {
     "name": "stdout",
     "output_type": "stream",
     "text": [
      "MELD_H17_3T_FCD_0044\n"
     ]
    },
    {
     "name": "stderr",
     "output_type": "stream",
     "text": [
      "Z-scoring data for MELD_H17_3T_FCD_0044\n"
     ]
    },
    {
     "name": "stdout",
     "output_type": "stream",
     "text": [
      "MELD_H17_3T_FCD_0053\n"
     ]
    },
    {
     "name": "stderr",
     "output_type": "stream",
     "text": [
      "Z-scoring data for MELD_H17_3T_FCD_0053\n"
     ]
    },
    {
     "name": "stdout",
     "output_type": "stream",
     "text": [
      "MELD_H17_3T_FCD_0054\n"
     ]
    },
    {
     "name": "stderr",
     "output_type": "stream",
     "text": [
      "Z-scoring data for MELD_H17_3T_FCD_0054\n"
     ]
    },
    {
     "name": "stdout",
     "output_type": "stream",
     "text": [
      "MELD_H17_3T_FCD_0057\n"
     ]
    },
    {
     "name": "stderr",
     "output_type": "stream",
     "text": [
      "Z-scoring data for MELD_H17_3T_FCD_0057\n"
     ]
    },
    {
     "name": "stdout",
     "output_type": "stream",
     "text": [
      "MELD_H17_3T_FCD_0061\n"
     ]
    },
    {
     "name": "stderr",
     "output_type": "stream",
     "text": [
      "Z-scoring data for MELD_H17_3T_FCD_0061\n"
     ]
    },
    {
     "name": "stdout",
     "output_type": "stream",
     "text": [
      "MELD_H17_3T_FCD_0067\n"
     ]
    },
    {
     "name": "stderr",
     "output_type": "stream",
     "text": [
      "Z-scoring data for MELD_H17_3T_FCD_0067\n",
      "Z-scoring data for MELD_H17_3T_FCD_0070\n"
     ]
    },
    {
     "name": "stdout",
     "output_type": "stream",
     "text": [
      "MELD_H17_3T_FCD_0070\n",
      "MELD_H17_3T_FCD_0076\n"
     ]
    },
    {
     "name": "stderr",
     "output_type": "stream",
     "text": [
      "Z-scoring data for MELD_H17_3T_FCD_0076\n",
      "Z-scoring data for MELD_H17_3T_FCD_0079\n"
     ]
    },
    {
     "name": "stdout",
     "output_type": "stream",
     "text": [
      "MELD_H17_3T_FCD_0079\n",
      "MELD_H17_3T_FCD_0084\n"
     ]
    },
    {
     "name": "stderr",
     "output_type": "stream",
     "text": [
      "Z-scoring data for MELD_H17_3T_FCD_0084\n"
     ]
    },
    {
     "name": "stdout",
     "output_type": "stream",
     "text": [
      "MELD_H17_3T_FCD_0086\n"
     ]
    },
    {
     "name": "stderr",
     "output_type": "stream",
     "text": [
      "Z-scoring data for MELD_H17_3T_FCD_0086\n"
     ]
    },
    {
     "name": "stdout",
     "output_type": "stream",
     "text": [
      "MELD_H17_3T_FCD_0090\n"
     ]
    },
    {
     "name": "stderr",
     "output_type": "stream",
     "text": [
      "Z-scoring data for MELD_H17_3T_FCD_0090\n"
     ]
    },
    {
     "name": "stdout",
     "output_type": "stream",
     "text": [
      "MELD_H17_3T_FCD_0091\n"
     ]
    },
    {
     "name": "stderr",
     "output_type": "stream",
     "text": [
      "Z-scoring data for MELD_H17_3T_FCD_0091\n"
     ]
    },
    {
     "name": "stdout",
     "output_type": "stream",
     "text": [
      "MELD_H17_3T_FCD_0094\n"
     ]
    },
    {
     "name": "stderr",
     "output_type": "stream",
     "text": [
      "Z-scoring data for MELD_H17_3T_FCD_0094\n"
     ]
    },
    {
     "name": "stdout",
     "output_type": "stream",
     "text": [
      "MELD_H17_3T_FCD_0098\n"
     ]
    },
    {
     "name": "stderr",
     "output_type": "stream",
     "text": [
      "Z-scoring data for MELD_H17_3T_FCD_0098\n"
     ]
    },
    {
     "name": "stdout",
     "output_type": "stream",
     "text": [
      "MELD_H17_3T_FCD_0112\n"
     ]
    },
    {
     "name": "stderr",
     "output_type": "stream",
     "text": [
      "Z-scoring data for MELD_H17_3T_FCD_0112\n"
     ]
    },
    {
     "name": "stdout",
     "output_type": "stream",
     "text": [
      "MELD_H17_3T_FCD_0116\n"
     ]
    },
    {
     "name": "stderr",
     "output_type": "stream",
     "text": [
      "Z-scoring data for MELD_H17_3T_FCD_0116\n"
     ]
    },
    {
     "name": "stdout",
     "output_type": "stream",
     "text": [
      "MELD_H17_3T_FCD_0120\n"
     ]
    },
    {
     "name": "stderr",
     "output_type": "stream",
     "text": [
      "Z-scoring data for MELD_H17_3T_FCD_0120\n"
     ]
    },
    {
     "name": "stdout",
     "output_type": "stream",
     "text": [
      "MELD_H17_3T_FCD_0127\n"
     ]
    },
    {
     "name": "stderr",
     "output_type": "stream",
     "text": [
      "Z-scoring data for MELD_H17_3T_FCD_0127\n"
     ]
    },
    {
     "name": "stdout",
     "output_type": "stream",
     "text": [
      "MELD_H17_3T_FCD_0135\n"
     ]
    },
    {
     "name": "stderr",
     "output_type": "stream",
     "text": [
      "Z-scoring data for MELD_H17_3T_FCD_0135\n"
     ]
    },
    {
     "name": "stdout",
     "output_type": "stream",
     "text": [
      "MELD_H17_3T_FCD_0143\n"
     ]
    },
    {
     "name": "stderr",
     "output_type": "stream",
     "text": [
      "Z-scoring data for MELD_H17_3T_FCD_0143\n"
     ]
    },
    {
     "name": "stdout",
     "output_type": "stream",
     "text": [
      "MELD_H18_3T_FCD_0001\n"
     ]
    },
    {
     "name": "stderr",
     "output_type": "stream",
     "text": [
      "Z-scoring data for MELD_H18_3T_FCD_0001\n",
      "Z-scoring data for MELD_H18_3T_FCD_0006\n"
     ]
    },
    {
     "name": "stdout",
     "output_type": "stream",
     "text": [
      "MELD_H18_3T_FCD_0006\n",
      "MELD_H18_3T_FCD_0008\n"
     ]
    },
    {
     "name": "stderr",
     "output_type": "stream",
     "text": [
      "Z-scoring data for MELD_H18_3T_FCD_0008\n"
     ]
    },
    {
     "name": "stdout",
     "output_type": "stream",
     "text": [
      "MELD_H18_3T_FCD_0009\n"
     ]
    },
    {
     "name": "stderr",
     "output_type": "stream",
     "text": [
      "Z-scoring data for MELD_H18_3T_FCD_0009\n"
     ]
    },
    {
     "name": "stdout",
     "output_type": "stream",
     "text": [
      "MELD_H18_3T_FCD_0101\n"
     ]
    },
    {
     "name": "stderr",
     "output_type": "stream",
     "text": [
      "Z-scoring data for MELD_H18_3T_FCD_0101\n"
     ]
    },
    {
     "name": "stdout",
     "output_type": "stream",
     "text": [
      "MELD_H18_3T_FCD_0109\n"
     ]
    },
    {
     "name": "stderr",
     "output_type": "stream",
     "text": [
      "Z-scoring data for MELD_H18_3T_FCD_0109\n",
      "Z-scoring data for MELD_H18_3T_FCD_0115\n"
     ]
    },
    {
     "name": "stdout",
     "output_type": "stream",
     "text": [
      "MELD_H18_3T_FCD_0115\n",
      "MELD_H18_3T_FCD_0124\n"
     ]
    },
    {
     "name": "stderr",
     "output_type": "stream",
     "text": [
      "Z-scoring data for MELD_H18_3T_FCD_0124\n"
     ]
    },
    {
     "name": "stdout",
     "output_type": "stream",
     "text": [
      "MELD_H21_15T_FCD_0036\n"
     ]
    },
    {
     "name": "stderr",
     "output_type": "stream",
     "text": [
      "Z-scoring data for MELD_H21_15T_FCD_0036\n"
     ]
    },
    {
     "name": "stdout",
     "output_type": "stream",
     "text": [
      "MELD_H21_15T_FCD_0038\n"
     ]
    },
    {
     "name": "stderr",
     "output_type": "stream",
     "text": [
      "Z-scoring data for MELD_H21_15T_FCD_0038\n"
     ]
    },
    {
     "name": "stdout",
     "output_type": "stream",
     "text": [
      "MELD_H21_15T_FCD_0040\n"
     ]
    },
    {
     "name": "stderr",
     "output_type": "stream",
     "text": [
      "Z-scoring data for MELD_H21_15T_FCD_0040\n"
     ]
    },
    {
     "name": "stdout",
     "output_type": "stream",
     "text": [
      "MELD_H21_15T_FCD_0043\n"
     ]
    },
    {
     "name": "stderr",
     "output_type": "stream",
     "text": [
      "Z-scoring data for MELD_H21_15T_FCD_0043\n"
     ]
    },
    {
     "name": "stdout",
     "output_type": "stream",
     "text": [
      "MELD_H21_15T_FCD_0047\n"
     ]
    },
    {
     "name": "stderr",
     "output_type": "stream",
     "text": [
      "Z-scoring data for MELD_H21_15T_FCD_0047\n"
     ]
    },
    {
     "name": "stdout",
     "output_type": "stream",
     "text": [
      "MELD_H21_15T_FCD_0049\n"
     ]
    },
    {
     "name": "stderr",
     "output_type": "stream",
     "text": [
      "Z-scoring data for MELD_H21_15T_FCD_0049\n"
     ]
    },
    {
     "name": "stdout",
     "output_type": "stream",
     "text": [
      "MELD_H21_15T_FCD_0050\n"
     ]
    },
    {
     "name": "stderr",
     "output_type": "stream",
     "text": [
      "Z-scoring data for MELD_H21_15T_FCD_0050\n"
     ]
    },
    {
     "name": "stdout",
     "output_type": "stream",
     "text": [
      "MELD_H21_15T_FCD_0051\n"
     ]
    },
    {
     "name": "stderr",
     "output_type": "stream",
     "text": [
      "Z-scoring data for MELD_H21_15T_FCD_0051\n"
     ]
    },
    {
     "name": "stdout",
     "output_type": "stream",
     "text": [
      "MELD_H21_15T_FCD_0052\n"
     ]
    },
    {
     "name": "stderr",
     "output_type": "stream",
     "text": [
      "Z-scoring data for MELD_H21_15T_FCD_0052\n"
     ]
    },
    {
     "name": "stdout",
     "output_type": "stream",
     "text": [
      "MELD_H21_3T_FCD_0007\n"
     ]
    },
    {
     "name": "stderr",
     "output_type": "stream",
     "text": [
      "Z-scoring data for MELD_H21_3T_FCD_0007\n"
     ]
    },
    {
     "name": "stdout",
     "output_type": "stream",
     "text": [
      "MELD_H21_3T_FCD_0008\n"
     ]
    },
    {
     "name": "stderr",
     "output_type": "stream",
     "text": [
      "Z-scoring data for MELD_H21_3T_FCD_0008\n"
     ]
    },
    {
     "name": "stdout",
     "output_type": "stream",
     "text": [
      "MELD_H21_3T_FCD_0009\n"
     ]
    },
    {
     "name": "stderr",
     "output_type": "stream",
     "text": [
      "Z-scoring data for MELD_H21_3T_FCD_0009\n"
     ]
    },
    {
     "name": "stdout",
     "output_type": "stream",
     "text": [
      "MELD_H21_3T_FCD_0013\n"
     ]
    },
    {
     "name": "stderr",
     "output_type": "stream",
     "text": [
      "Z-scoring data for MELD_H21_3T_FCD_0013\n"
     ]
    },
    {
     "name": "stdout",
     "output_type": "stream",
     "text": [
      "MELD_H21_3T_FCD_0016\n"
     ]
    },
    {
     "name": "stderr",
     "output_type": "stream",
     "text": [
      "Z-scoring data for MELD_H21_3T_FCD_0016\n"
     ]
    },
    {
     "name": "stdout",
     "output_type": "stream",
     "text": [
      "MELD_H21_3T_FCD_0017\n"
     ]
    },
    {
     "name": "stderr",
     "output_type": "stream",
     "text": [
      "Z-scoring data for MELD_H21_3T_FCD_0017\n"
     ]
    },
    {
     "name": "stdout",
     "output_type": "stream",
     "text": [
      "MELD_H21_3T_FCD_0018\n"
     ]
    },
    {
     "name": "stderr",
     "output_type": "stream",
     "text": [
      "Z-scoring data for MELD_H21_3T_FCD_0018\n"
     ]
    },
    {
     "name": "stdout",
     "output_type": "stream",
     "text": [
      "MELD_H21_3T_FCD_0030\n"
     ]
    },
    {
     "name": "stderr",
     "output_type": "stream",
     "text": [
      "Z-scoring data for MELD_H21_3T_FCD_0030\n"
     ]
    },
    {
     "name": "stdout",
     "output_type": "stream",
     "text": [
      "MELD_H21_3T_FCD_0033\n"
     ]
    },
    {
     "name": "stderr",
     "output_type": "stream",
     "text": [
      "Z-scoring data for MELD_H21_3T_FCD_0033\n"
     ]
    },
    {
     "name": "stdout",
     "output_type": "stream",
     "text": [
      "MELD_H21_3T_FCD_0034\n"
     ]
    },
    {
     "name": "stderr",
     "output_type": "stream",
     "text": [
      "Z-scoring data for MELD_H21_3T_FCD_0034\n"
     ]
    },
    {
     "name": "stdout",
     "output_type": "stream",
     "text": [
      "MELD_H21_3T_FCD_0035\n"
     ]
    },
    {
     "name": "stderr",
     "output_type": "stream",
     "text": [
      "Z-scoring data for MELD_H21_3T_FCD_0035\n"
     ]
    },
    {
     "name": "stdout",
     "output_type": "stream",
     "text": [
      "MELD_H21_3T_FCD_0046\n"
     ]
    },
    {
     "name": "stderr",
     "output_type": "stream",
     "text": [
      "Z-scoring data for MELD_H21_3T_FCD_0046\n"
     ]
    },
    {
     "name": "stdout",
     "output_type": "stream",
     "text": [
      "MELD_H21_3T_FCD_0048\n"
     ]
    },
    {
     "name": "stderr",
     "output_type": "stream",
     "text": [
      "Z-scoring data for MELD_H21_3T_FCD_0048\n"
     ]
    },
    {
     "name": "stdout",
     "output_type": "stream",
     "text": [
      "MELD_H23_15T_FCD_0003\n"
     ]
    },
    {
     "name": "stderr",
     "output_type": "stream",
     "text": [
      "Z-scoring data for MELD_H23_15T_FCD_0003\n"
     ]
    },
    {
     "name": "stdout",
     "output_type": "stream",
     "text": [
      "MELD_H23_15T_FCD_0004\n"
     ]
    },
    {
     "name": "stderr",
     "output_type": "stream",
     "text": [
      "Z-scoring data for MELD_H23_15T_FCD_0004\n"
     ]
    },
    {
     "name": "stdout",
     "output_type": "stream",
     "text": [
      "MELD_H23_15T_FCD_0005\n"
     ]
    },
    {
     "name": "stderr",
     "output_type": "stream",
     "text": [
      "Z-scoring data for MELD_H23_15T_FCD_0005\n"
     ]
    },
    {
     "name": "stdout",
     "output_type": "stream",
     "text": [
      "MELD_H23_15T_FCD_0011\n"
     ]
    },
    {
     "name": "stderr",
     "output_type": "stream",
     "text": [
      "Z-scoring data for MELD_H23_15T_FCD_0011\n"
     ]
    },
    {
     "name": "stdout",
     "output_type": "stream",
     "text": [
      "MELD_H23_15T_FCD_0013\n"
     ]
    },
    {
     "name": "stderr",
     "output_type": "stream",
     "text": [
      "Z-scoring data for MELD_H23_15T_FCD_0013\n"
     ]
    },
    {
     "name": "stdout",
     "output_type": "stream",
     "text": [
      "MELD_H23_15T_FCD_0015\n"
     ]
    },
    {
     "name": "stderr",
     "output_type": "stream",
     "text": [
      "Z-scoring data for MELD_H23_15T_FCD_0015\n"
     ]
    },
    {
     "name": "stdout",
     "output_type": "stream",
     "text": [
      "MELD_H23_15T_FCD_0020\n"
     ]
    },
    {
     "name": "stderr",
     "output_type": "stream",
     "text": [
      "Z-scoring data for MELD_H23_15T_FCD_0020\n"
     ]
    },
    {
     "name": "stdout",
     "output_type": "stream",
     "text": [
      "MELD_H23_15T_FCD_0021\n"
     ]
    },
    {
     "name": "stderr",
     "output_type": "stream",
     "text": [
      "Z-scoring data for MELD_H23_15T_FCD_0021\n"
     ]
    },
    {
     "name": "stdout",
     "output_type": "stream",
     "text": [
      "MELD_H23_15T_FCD_0022\n"
     ]
    },
    {
     "name": "stderr",
     "output_type": "stream",
     "text": [
      "Z-scoring data for MELD_H23_15T_FCD_0022\n"
     ]
    },
    {
     "name": "stdout",
     "output_type": "stream",
     "text": [
      "MELD_H23_15T_FCD_0023\n"
     ]
    },
    {
     "name": "stderr",
     "output_type": "stream",
     "text": [
      "Z-scoring data for MELD_H23_15T_FCD_0023\n"
     ]
    },
    {
     "name": "stdout",
     "output_type": "stream",
     "text": [
      "MELD_H23_15T_FCD_0025\n"
     ]
    },
    {
     "name": "stderr",
     "output_type": "stream",
     "text": [
      "Z-scoring data for MELD_H23_15T_FCD_0025\n"
     ]
    },
    {
     "name": "stdout",
     "output_type": "stream",
     "text": [
      "MELD_H23_15T_FCD_0027\n"
     ]
    },
    {
     "name": "stderr",
     "output_type": "stream",
     "text": [
      "Z-scoring data for MELD_H23_15T_FCD_0027\n"
     ]
    },
    {
     "name": "stdout",
     "output_type": "stream",
     "text": [
      "MELD_H23_15T_FCD_0030\n"
     ]
    },
    {
     "name": "stderr",
     "output_type": "stream",
     "text": [
      "Z-scoring data for MELD_H23_15T_FCD_0030\n"
     ]
    },
    {
     "name": "stdout",
     "output_type": "stream",
     "text": [
      "MELD_H23_15T_FCD_0031\n"
     ]
    },
    {
     "name": "stderr",
     "output_type": "stream",
     "text": [
      "Z-scoring data for MELD_H23_15T_FCD_0031\n"
     ]
    },
    {
     "name": "stdout",
     "output_type": "stream",
     "text": [
      "MELD_H23_15T_FCD_0032\n"
     ]
    },
    {
     "name": "stderr",
     "output_type": "stream",
     "text": [
      "Z-scoring data for MELD_H23_15T_FCD_0032\n"
     ]
    },
    {
     "name": "stdout",
     "output_type": "stream",
     "text": [
      "MELD_H24_3T_FCD_0003\n"
     ]
    },
    {
     "name": "stderr",
     "output_type": "stream",
     "text": [
      "Z-scoring data for MELD_H24_3T_FCD_0003\n"
     ]
    },
    {
     "name": "stdout",
     "output_type": "stream",
     "text": [
      "MELD_H24_3T_FCD_0005\n"
     ]
    },
    {
     "name": "stderr",
     "output_type": "stream",
     "text": [
      "Z-scoring data for MELD_H24_3T_FCD_0005\n"
     ]
    },
    {
     "name": "stdout",
     "output_type": "stream",
     "text": [
      "MELD_H24_3T_FCD_0006\n"
     ]
    },
    {
     "name": "stderr",
     "output_type": "stream",
     "text": [
      "Z-scoring data for MELD_H24_3T_FCD_0006\n"
     ]
    },
    {
     "name": "stdout",
     "output_type": "stream",
     "text": [
      "MELD_H24_3T_FCD_0007\n"
     ]
    },
    {
     "name": "stderr",
     "output_type": "stream",
     "text": [
      "Z-scoring data for MELD_H24_3T_FCD_0007\n"
     ]
    },
    {
     "name": "stdout",
     "output_type": "stream",
     "text": [
      "MELD_H24_3T_FCD_0011\n"
     ]
    },
    {
     "name": "stderr",
     "output_type": "stream",
     "text": [
      "Z-scoring data for MELD_H24_3T_FCD_0011\n"
     ]
    },
    {
     "name": "stdout",
     "output_type": "stream",
     "text": [
      "MELD_H24_3T_FCD_0012\n"
     ]
    },
    {
     "name": "stderr",
     "output_type": "stream",
     "text": [
      "Z-scoring data for MELD_H24_3T_FCD_0012\n"
     ]
    },
    {
     "name": "stdout",
     "output_type": "stream",
     "text": [
      "MELD_H24_3T_FCD_0013\n"
     ]
    },
    {
     "name": "stderr",
     "output_type": "stream",
     "text": [
      "Z-scoring data for MELD_H24_3T_FCD_0013\n"
     ]
    },
    {
     "name": "stdout",
     "output_type": "stream",
     "text": [
      "MELD_H24_3T_FCD_0015\n"
     ]
    },
    {
     "name": "stderr",
     "output_type": "stream",
     "text": [
      "Z-scoring data for MELD_H24_3T_FCD_0015\n"
     ]
    },
    {
     "name": "stdout",
     "output_type": "stream",
     "text": [
      "MELD_H24_3T_FCD_0025\n"
     ]
    },
    {
     "name": "stderr",
     "output_type": "stream",
     "text": [
      "Z-scoring data for MELD_H24_3T_FCD_0025\n"
     ]
    },
    {
     "name": "stdout",
     "output_type": "stream",
     "text": [
      "MELD_H24_3T_FCD_0026\n"
     ]
    },
    {
     "name": "stderr",
     "output_type": "stream",
     "text": [
      "Z-scoring data for MELD_H24_3T_FCD_0026\n"
     ]
    },
    {
     "name": "stdout",
     "output_type": "stream",
     "text": [
      "MELD_H24_3T_FCD_0029\n"
     ]
    },
    {
     "name": "stderr",
     "output_type": "stream",
     "text": [
      "Z-scoring data for MELD_H24_3T_FCD_0029\n"
     ]
    },
    {
     "name": "stdout",
     "output_type": "stream",
     "text": [
      "MELD_H24_3T_FCD_0030\n"
     ]
    },
    {
     "name": "stderr",
     "output_type": "stream",
     "text": [
      "Z-scoring data for MELD_H24_3T_FCD_0030\n"
     ]
    },
    {
     "name": "stdout",
     "output_type": "stream",
     "text": [
      "MELD_H24_3T_FCD_0036\n"
     ]
    },
    {
     "name": "stderr",
     "output_type": "stream",
     "text": [
      "Z-scoring data for MELD_H24_3T_FCD_0036\n"
     ]
    },
    {
     "name": "stdout",
     "output_type": "stream",
     "text": [
      "MELD_H24_3T_FCD_0037\n"
     ]
    },
    {
     "name": "stderr",
     "output_type": "stream",
     "text": [
      "Z-scoring data for MELD_H24_3T_FCD_0037\n"
     ]
    },
    {
     "name": "stdout",
     "output_type": "stream",
     "text": [
      "MELD_H24_3T_FCD_0040\n"
     ]
    },
    {
     "name": "stderr",
     "output_type": "stream",
     "text": [
      "Z-scoring data for MELD_H24_3T_FCD_0040\n"
     ]
    },
    {
     "name": "stdout",
     "output_type": "stream",
     "text": [
      "MELD_H24_3T_FCD_0041\n"
     ]
    },
    {
     "name": "stderr",
     "output_type": "stream",
     "text": [
      "Z-scoring data for MELD_H24_3T_FCD_0041\n"
     ]
    },
    {
     "name": "stdout",
     "output_type": "stream",
     "text": [
      "MELD_H26_15T_FCD_0001\n"
     ]
    },
    {
     "name": "stderr",
     "output_type": "stream",
     "text": [
      "Z-scoring data for MELD_H26_15T_FCD_0001\n"
     ]
    },
    {
     "name": "stdout",
     "output_type": "stream",
     "text": [
      "MELD_H26_15T_FCD_0005\n"
     ]
    },
    {
     "name": "stderr",
     "output_type": "stream",
     "text": [
      "Z-scoring data for MELD_H26_15T_FCD_0005\n"
     ]
    },
    {
     "name": "stdout",
     "output_type": "stream",
     "text": [
      "MELD_H26_15T_FCD_0009\n"
     ]
    },
    {
     "name": "stderr",
     "output_type": "stream",
     "text": [
      "Z-scoring data for MELD_H26_15T_FCD_0009\n"
     ]
    },
    {
     "name": "stdout",
     "output_type": "stream",
     "text": [
      "MELD_H26_15T_FCD_0010\n"
     ]
    },
    {
     "name": "stderr",
     "output_type": "stream",
     "text": [
      "Z-scoring data for MELD_H26_15T_FCD_0010\n"
     ]
    },
    {
     "name": "stdout",
     "output_type": "stream",
     "text": [
      "MELD_H26_3T_FCD_0002\n"
     ]
    },
    {
     "name": "stderr",
     "output_type": "stream",
     "text": [
      "Z-scoring data for MELD_H26_3T_FCD_0002\n"
     ]
    },
    {
     "name": "stdout",
     "output_type": "stream",
     "text": [
      "MELD_H26_3T_FCD_0004\n"
     ]
    },
    {
     "name": "stderr",
     "output_type": "stream",
     "text": [
      "Z-scoring data for MELD_H26_3T_FCD_0004\n"
     ]
    },
    {
     "name": "stdout",
     "output_type": "stream",
     "text": [
      "MELD_H26_3T_FCD_0007\n"
     ]
    },
    {
     "name": "stderr",
     "output_type": "stream",
     "text": [
      "Z-scoring data for MELD_H26_3T_FCD_0007\n"
     ]
    },
    {
     "name": "stdout",
     "output_type": "stream",
     "text": [
      "MELD_H2_15T_FCD_0001\n"
     ]
    },
    {
     "name": "stderr",
     "output_type": "stream",
     "text": [
      "Z-scoring data for MELD_H2_15T_FCD_0001\n",
      "Z-scoring data for MELD_H2_15T_FCD_0003\n"
     ]
    },
    {
     "name": "stdout",
     "output_type": "stream",
     "text": [
      "MELD_H2_15T_FCD_0003\n",
      "MELD_H2_15T_FCD_0005\n"
     ]
    },
    {
     "name": "stderr",
     "output_type": "stream",
     "text": [
      "Z-scoring data for MELD_H2_15T_FCD_0005\n"
     ]
    },
    {
     "name": "stdout",
     "output_type": "stream",
     "text": [
      "MELD_H2_15T_FCD_0007\n"
     ]
    },
    {
     "name": "stderr",
     "output_type": "stream",
     "text": [
      "Z-scoring data for MELD_H2_15T_FCD_0007\n",
      "Z-scoring data for MELD_H2_15T_FCD_0008\n"
     ]
    },
    {
     "name": "stdout",
     "output_type": "stream",
     "text": [
      "MELD_H2_15T_FCD_0008\n",
      "MELD_H2_15T_FCD_0009\n"
     ]
    },
    {
     "name": "stderr",
     "output_type": "stream",
     "text": [
      "Z-scoring data for MELD_H2_15T_FCD_0009\n",
      "Z-scoring data for MELD_H2_15T_FCD_0014\n"
     ]
    },
    {
     "name": "stdout",
     "output_type": "stream",
     "text": [
      "MELD_H2_15T_FCD_0014\n"
     ]
    },
    {
     "name": "stderr",
     "output_type": "stream",
     "text": [
      "Z-scoring data for MELD_H2_15T_FCD_0015\n"
     ]
    },
    {
     "name": "stdout",
     "output_type": "stream",
     "text": [
      "MELD_H2_15T_FCD_0015\n"
     ]
    },
    {
     "name": "stderr",
     "output_type": "stream",
     "text": [
      "Z-scoring data for MELD_H2_15T_FCD_0016\n"
     ]
    },
    {
     "name": "stdout",
     "output_type": "stream",
     "text": [
      "MELD_H2_15T_FCD_0016\n",
      "MELD_H2_15T_FCD_0020\n"
     ]
    },
    {
     "name": "stderr",
     "output_type": "stream",
     "text": [
      "Z-scoring data for MELD_H2_15T_FCD_0020\n"
     ]
    },
    {
     "name": "stdout",
     "output_type": "stream",
     "text": [
      "MELD_H2_15T_FCD_0023\n"
     ]
    },
    {
     "name": "stderr",
     "output_type": "stream",
     "text": [
      "Z-scoring data for MELD_H2_15T_FCD_0023\n"
     ]
    },
    {
     "name": "stdout",
     "output_type": "stream",
     "text": [
      "MELD_H2_15T_FCD_0028\n"
     ]
    },
    {
     "name": "stderr",
     "output_type": "stream",
     "text": [
      "Z-scoring data for MELD_H2_15T_FCD_0028\n",
      "Z-scoring data for MELD_H2_15T_FCD_0029\n"
     ]
    },
    {
     "name": "stdout",
     "output_type": "stream",
     "text": [
      "MELD_H2_15T_FCD_0029\n",
      "MELD_H2_15T_FCD_0030\n"
     ]
    },
    {
     "name": "stderr",
     "output_type": "stream",
     "text": [
      "Z-scoring data for MELD_H2_15T_FCD_0030\n"
     ]
    },
    {
     "name": "stdout",
     "output_type": "stream",
     "text": [
      "MELD_H2_3T_FCD_0003\n"
     ]
    },
    {
     "name": "stderr",
     "output_type": "stream",
     "text": [
      "Z-scoring data for MELD_H2_3T_FCD_0003\n"
     ]
    },
    {
     "name": "stdout",
     "output_type": "stream",
     "text": [
      "MELD_H2_3T_FCD_0004\n"
     ]
    },
    {
     "name": "stderr",
     "output_type": "stream",
     "text": [
      "Z-scoring data for MELD_H2_3T_FCD_0004\n"
     ]
    },
    {
     "name": "stdout",
     "output_type": "stream",
     "text": [
      "MELD_H2_3T_FCD_0005\n"
     ]
    },
    {
     "name": "stderr",
     "output_type": "stream",
     "text": [
      "Z-scoring data for MELD_H2_3T_FCD_0005\n",
      "Z-scoring data for MELD_H2_3T_FCD_0006\n"
     ]
    },
    {
     "name": "stdout",
     "output_type": "stream",
     "text": [
      "MELD_H2_3T_FCD_0006\n",
      "MELD_H2_3T_FCD_0008\n"
     ]
    },
    {
     "name": "stderr",
     "output_type": "stream",
     "text": [
      "Z-scoring data for MELD_H2_3T_FCD_0008\n"
     ]
    },
    {
     "name": "stdout",
     "output_type": "stream",
     "text": [
      "MELD_H2_3T_FCD_0014\n"
     ]
    },
    {
     "name": "stderr",
     "output_type": "stream",
     "text": [
      "Z-scoring data for MELD_H2_3T_FCD_0014\n"
     ]
    },
    {
     "name": "stdout",
     "output_type": "stream",
     "text": [
      "MELD_H2_3T_FCD_0016\n"
     ]
    },
    {
     "name": "stderr",
     "output_type": "stream",
     "text": [
      "Z-scoring data for MELD_H2_3T_FCD_0016\n"
     ]
    },
    {
     "name": "stdout",
     "output_type": "stream",
     "text": [
      "MELD_H2_3T_FCD_0017\n"
     ]
    },
    {
     "name": "stderr",
     "output_type": "stream",
     "text": [
      "Z-scoring data for MELD_H2_3T_FCD_0017\n",
      "Z-scoring data for MELD_H2_3T_FCD_0018\n"
     ]
    },
    {
     "name": "stdout",
     "output_type": "stream",
     "text": [
      "MELD_H2_3T_FCD_0018\n",
      "MELD_H3_3T_FCD_0002\n"
     ]
    },
    {
     "name": "stderr",
     "output_type": "stream",
     "text": [
      "Z-scoring data for MELD_H3_3T_FCD_0002\n",
      "Z-scoring data for MELD_H3_3T_FCD_0003\n"
     ]
    },
    {
     "name": "stdout",
     "output_type": "stream",
     "text": [
      "MELD_H3_3T_FCD_0003\n",
      "MELD_H3_3T_FCD_0004\n"
     ]
    },
    {
     "name": "stderr",
     "output_type": "stream",
     "text": [
      "Z-scoring data for MELD_H3_3T_FCD_0004\n"
     ]
    },
    {
     "name": "stdout",
     "output_type": "stream",
     "text": [
      "MELD_H3_3T_FCD_0005\n"
     ]
    },
    {
     "name": "stderr",
     "output_type": "stream",
     "text": [
      "Z-scoring data for MELD_H3_3T_FCD_0005\n"
     ]
    },
    {
     "name": "stdout",
     "output_type": "stream",
     "text": [
      "MELD_H3_3T_FCD_0007\n"
     ]
    },
    {
     "name": "stderr",
     "output_type": "stream",
     "text": [
      "Z-scoring data for MELD_H3_3T_FCD_0007\n",
      "Z-scoring data for MELD_H3_3T_FCD_0008\n"
     ]
    },
    {
     "name": "stdout",
     "output_type": "stream",
     "text": [
      "MELD_H3_3T_FCD_0008\n",
      "MELD_H3_3T_FCD_0009\n"
     ]
    },
    {
     "name": "stderr",
     "output_type": "stream",
     "text": [
      "Z-scoring data for MELD_H3_3T_FCD_0009\n"
     ]
    },
    {
     "name": "stdout",
     "output_type": "stream",
     "text": [
      "MELD_H3_3T_FCD_0010\n"
     ]
    },
    {
     "name": "stderr",
     "output_type": "stream",
     "text": [
      "Z-scoring data for MELD_H3_3T_FCD_0010\n"
     ]
    },
    {
     "name": "stdout",
     "output_type": "stream",
     "text": [
      "MELD_H3_3T_FCD_0012\n"
     ]
    },
    {
     "name": "stderr",
     "output_type": "stream",
     "text": [
      "Z-scoring data for MELD_H3_3T_FCD_0012\n"
     ]
    },
    {
     "name": "stdout",
     "output_type": "stream",
     "text": [
      "MELD_H3_3T_FCD_0014\n"
     ]
    },
    {
     "name": "stderr",
     "output_type": "stream",
     "text": [
      "Z-scoring data for MELD_H3_3T_FCD_0014\n"
     ]
    },
    {
     "name": "stdout",
     "output_type": "stream",
     "text": [
      "MELD_H3_3T_FCD_0015\n"
     ]
    },
    {
     "name": "stderr",
     "output_type": "stream",
     "text": [
      "Z-scoring data for MELD_H3_3T_FCD_0015\n"
     ]
    },
    {
     "name": "stdout",
     "output_type": "stream",
     "text": [
      "MELD_H3_3T_FCD_0016\n"
     ]
    },
    {
     "name": "stderr",
     "output_type": "stream",
     "text": [
      "Z-scoring data for MELD_H3_3T_FCD_0016\n"
     ]
    },
    {
     "name": "stdout",
     "output_type": "stream",
     "text": [
      "MELD_H3_3T_FCD_0018\n"
     ]
    },
    {
     "name": "stderr",
     "output_type": "stream",
     "text": [
      "Z-scoring data for MELD_H3_3T_FCD_0018\n"
     ]
    },
    {
     "name": "stdout",
     "output_type": "stream",
     "text": [
      "MELD_H3_3T_FCD_0020\n"
     ]
    },
    {
     "name": "stderr",
     "output_type": "stream",
     "text": [
      "Z-scoring data for MELD_H3_3T_FCD_0020\n"
     ]
    },
    {
     "name": "stdout",
     "output_type": "stream",
     "text": [
      "MELD_H3_3T_FCD_0022\n"
     ]
    },
    {
     "name": "stderr",
     "output_type": "stream",
     "text": [
      "Z-scoring data for MELD_H3_3T_FCD_0022\n"
     ]
    },
    {
     "name": "stdout",
     "output_type": "stream",
     "text": [
      "MELD_H3_3T_FCD_0023\n"
     ]
    },
    {
     "name": "stderr",
     "output_type": "stream",
     "text": [
      "Z-scoring data for MELD_H3_3T_FCD_0023\n"
     ]
    },
    {
     "name": "stdout",
     "output_type": "stream",
     "text": [
      "MELD_H4_15T_FCD_0002\n"
     ]
    },
    {
     "name": "stderr",
     "output_type": "stream",
     "text": [
      "Z-scoring data for MELD_H4_15T_FCD_0002\n"
     ]
    },
    {
     "name": "stdout",
     "output_type": "stream",
     "text": [
      "MELD_H4_15T_FCD_0003\n"
     ]
    },
    {
     "name": "stderr",
     "output_type": "stream",
     "text": [
      "Z-scoring data for MELD_H4_15T_FCD_0003\n"
     ]
    },
    {
     "name": "stdout",
     "output_type": "stream",
     "text": [
      "MELD_H4_15T_FCD_0009\n"
     ]
    },
    {
     "name": "stderr",
     "output_type": "stream",
     "text": [
      "Z-scoring data for MELD_H4_15T_FCD_0009\n"
     ]
    },
    {
     "name": "stdout",
     "output_type": "stream",
     "text": [
      "MELD_H4_15T_FCD_0016\n"
     ]
    },
    {
     "name": "stderr",
     "output_type": "stream",
     "text": [
      "Z-scoring data for MELD_H4_15T_FCD_0016\n"
     ]
    },
    {
     "name": "stdout",
     "output_type": "stream",
     "text": [
      "MELD_H4_15T_FCD_0017\n"
     ]
    },
    {
     "name": "stderr",
     "output_type": "stream",
     "text": [
      "Z-scoring data for MELD_H4_15T_FCD_0017\n"
     ]
    },
    {
     "name": "stdout",
     "output_type": "stream",
     "text": [
      "MELD_H4_15T_FCD_0018\n"
     ]
    },
    {
     "name": "stderr",
     "output_type": "stream",
     "text": [
      "Z-scoring data for MELD_H4_15T_FCD_0018\n"
     ]
    },
    {
     "name": "stdout",
     "output_type": "stream",
     "text": [
      "MELD_H4_15T_FCD_0019\n"
     ]
    },
    {
     "name": "stderr",
     "output_type": "stream",
     "text": [
      "Z-scoring data for MELD_H4_15T_FCD_0019\n",
      "Z-scoring data for MELD_H4_15T_FCD_0020\n"
     ]
    },
    {
     "name": "stdout",
     "output_type": "stream",
     "text": [
      "MELD_H4_15T_FCD_0020\n",
      "MELD_H4_15T_FCD_0021\n"
     ]
    },
    {
     "name": "stderr",
     "output_type": "stream",
     "text": [
      "Z-scoring data for MELD_H4_15T_FCD_0021\n"
     ]
    },
    {
     "name": "stdout",
     "output_type": "stream",
     "text": [
      "MELD_H4_3T_FCD_0002\n"
     ]
    },
    {
     "name": "stderr",
     "output_type": "stream",
     "text": [
      "Z-scoring data for MELD_H4_3T_FCD_0002\n"
     ]
    },
    {
     "name": "stdout",
     "output_type": "stream",
     "text": [
      "MELD_H4_3T_FCD_0005\n"
     ]
    },
    {
     "name": "stderr",
     "output_type": "stream",
     "text": [
      "Z-scoring data for MELD_H4_3T_FCD_0005\n"
     ]
    },
    {
     "name": "stdout",
     "output_type": "stream",
     "text": [
      "MELD_H4_3T_FCD_0007\n"
     ]
    },
    {
     "name": "stderr",
     "output_type": "stream",
     "text": [
      "Z-scoring data for MELD_H4_3T_FCD_0007\n"
     ]
    },
    {
     "name": "stdout",
     "output_type": "stream",
     "text": [
      "MELD_H4_3T_FCD_0009\n"
     ]
    },
    {
     "name": "stderr",
     "output_type": "stream",
     "text": [
      "Z-scoring data for MELD_H4_3T_FCD_0009\n"
     ]
    },
    {
     "name": "stdout",
     "output_type": "stream",
     "text": [
      "MELD_H4_3T_FCD_0010\n"
     ]
    },
    {
     "name": "stderr",
     "output_type": "stream",
     "text": [
      "Z-scoring data for MELD_H4_3T_FCD_0010\n"
     ]
    },
    {
     "name": "stdout",
     "output_type": "stream",
     "text": [
      "MELD_H4_3T_FCD_0015\n"
     ]
    },
    {
     "name": "stderr",
     "output_type": "stream",
     "text": [
      "Z-scoring data for MELD_H4_3T_FCD_0015\n",
      "Z-scoring data for MELD_H4_3T_FCD_0016\n"
     ]
    },
    {
     "name": "stdout",
     "output_type": "stream",
     "text": [
      "MELD_H4_3T_FCD_0016\n",
      "MELD_H4_3T_FCD_0031\n"
     ]
    },
    {
     "name": "stderr",
     "output_type": "stream",
     "text": [
      "Z-scoring data for MELD_H4_3T_FCD_0031\n"
     ]
    },
    {
     "name": "stdout",
     "output_type": "stream",
     "text": [
      "MELD_H4_3T_FCD_0038\n"
     ]
    },
    {
     "name": "stderr",
     "output_type": "stream",
     "text": [
      "Z-scoring data for MELD_H4_3T_FCD_0038\n"
     ]
    },
    {
     "name": "stdout",
     "output_type": "stream",
     "text": [
      "MELD_H4_3T_FCD_0040\n"
     ]
    },
    {
     "name": "stderr",
     "output_type": "stream",
     "text": [
      "Z-scoring data for MELD_H4_3T_FCD_0040\n"
     ]
    },
    {
     "name": "stdout",
     "output_type": "stream",
     "text": [
      "MELD_H5_3T_FCD_0001\n"
     ]
    },
    {
     "name": "stderr",
     "output_type": "stream",
     "text": [
      "Z-scoring data for MELD_H5_3T_FCD_0001\n",
      "Z-scoring data for MELD_H5_3T_FCD_0004\n"
     ]
    },
    {
     "name": "stdout",
     "output_type": "stream",
     "text": [
      "MELD_H5_3T_FCD_0004\n"
     ]
    },
    {
     "name": "stderr",
     "output_type": "stream",
     "text": [
      "Z-scoring data for MELD_H5_3T_FCD_0005\n"
     ]
    },
    {
     "name": "stdout",
     "output_type": "stream",
     "text": [
      "MELD_H5_3T_FCD_0005\n"
     ]
    },
    {
     "name": "stderr",
     "output_type": "stream",
     "text": [
      "Z-scoring data for MELD_H5_3T_FCD_0007\n"
     ]
    },
    {
     "name": "stdout",
     "output_type": "stream",
     "text": [
      "MELD_H5_3T_FCD_0007\n",
      "MELD_H5_3T_FCD_0011\n"
     ]
    },
    {
     "name": "stderr",
     "output_type": "stream",
     "text": [
      "Z-scoring data for MELD_H5_3T_FCD_0011\n"
     ]
    },
    {
     "name": "stdout",
     "output_type": "stream",
     "text": [
      "MELD_H5_3T_FCD_0014\n"
     ]
    },
    {
     "name": "stderr",
     "output_type": "stream",
     "text": [
      "Z-scoring data for MELD_H5_3T_FCD_0014\n",
      "Z-scoring data for MELD_H5_3T_FCD_0015\n"
     ]
    },
    {
     "name": "stdout",
     "output_type": "stream",
     "text": [
      "MELD_H5_3T_FCD_0015\n",
      "MELD_H5_3T_FCD_0017\n"
     ]
    },
    {
     "name": "stderr",
     "output_type": "stream",
     "text": [
      "Z-scoring data for MELD_H5_3T_FCD_0017\n"
     ]
    },
    {
     "name": "stdout",
     "output_type": "stream",
     "text": [
      "MELD_H5_3T_FCD_0020\n"
     ]
    },
    {
     "name": "stderr",
     "output_type": "stream",
     "text": [
      "Z-scoring data for MELD_H5_3T_FCD_0020\n",
      "Z-scoring data for MELD_H5_3T_FCD_0021\n"
     ]
    },
    {
     "name": "stdout",
     "output_type": "stream",
     "text": [
      "MELD_H5_3T_FCD_0021\n"
     ]
    },
    {
     "name": "stderr",
     "output_type": "stream",
     "text": [
      "Z-scoring data for MELD_H5_3T_FCD_0022\n"
     ]
    },
    {
     "name": "stdout",
     "output_type": "stream",
     "text": [
      "MELD_H5_3T_FCD_0022\n",
      "MELD_H5_3T_FCD_0024\n"
     ]
    },
    {
     "name": "stderr",
     "output_type": "stream",
     "text": [
      "Z-scoring data for MELD_H5_3T_FCD_0024\n",
      "Z-scoring data for MELD_H5_3T_FCD_0026\n"
     ]
    },
    {
     "name": "stdout",
     "output_type": "stream",
     "text": [
      "MELD_H5_3T_FCD_0026\n"
     ]
    },
    {
     "name": "stderr",
     "output_type": "stream",
     "text": [
      "Z-scoring data for MELD_H5_3T_FCD_0029\n"
     ]
    },
    {
     "name": "stdout",
     "output_type": "stream",
     "text": [
      "MELD_H5_3T_FCD_0029\n",
      "MELD_H6_3T_FCD_0004\n"
     ]
    },
    {
     "name": "stderr",
     "output_type": "stream",
     "text": [
      "Z-scoring data for MELD_H6_3T_FCD_0004\n",
      "Z-scoring data for MELD_H6_3T_FCD_0005\n"
     ]
    },
    {
     "name": "stdout",
     "output_type": "stream",
     "text": [
      "MELD_H6_3T_FCD_0005\n"
     ]
    },
    {
     "name": "stderr",
     "output_type": "stream",
     "text": [
      "Z-scoring data for MELD_H6_3T_FCD_0006\n"
     ]
    },
    {
     "name": "stdout",
     "output_type": "stream",
     "text": [
      "MELD_H6_3T_FCD_0006\n",
      "MELD_H6_3T_FCD_0009\n"
     ]
    },
    {
     "name": "stderr",
     "output_type": "stream",
     "text": [
      "Z-scoring data for MELD_H6_3T_FCD_0009\n",
      "Z-scoring data for MELD_H6_3T_FCD_0011\n"
     ]
    },
    {
     "name": "stdout",
     "output_type": "stream",
     "text": [
      "MELD_H6_3T_FCD_0011\n",
      "MELD_H6_3T_FCD_0013\n"
     ]
    },
    {
     "name": "stderr",
     "output_type": "stream",
     "text": [
      "Z-scoring data for MELD_H6_3T_FCD_0013\n",
      "Z-scoring data for MELD_H6_3T_FCD_0017\n"
     ]
    },
    {
     "name": "stdout",
     "output_type": "stream",
     "text": [
      "MELD_H6_3T_FCD_0017\n",
      "MELD_H9_3T_FCD_0003\n"
     ]
    },
    {
     "name": "stderr",
     "output_type": "stream",
     "text": [
      "Z-scoring data for MELD_H9_3T_FCD_0003\n"
     ]
    },
    {
     "name": "stdout",
     "output_type": "stream",
     "text": [
      "MELD_H9_3T_FCD_0004\n"
     ]
    },
    {
     "name": "stderr",
     "output_type": "stream",
     "text": [
      "Z-scoring data for MELD_H9_3T_FCD_0004\n"
     ]
    },
    {
     "name": "stdout",
     "output_type": "stream",
     "text": [
      "MELD_H9_3T_FCD_0005\n"
     ]
    },
    {
     "name": "stderr",
     "output_type": "stream",
     "text": [
      "Z-scoring data for MELD_H9_3T_FCD_0005\n"
     ]
    },
    {
     "name": "stdout",
     "output_type": "stream",
     "text": [
      "MELD_H9_3T_FCD_0010\n"
     ]
    },
    {
     "name": "stderr",
     "output_type": "stream",
     "text": [
      "Z-scoring data for MELD_H9_3T_FCD_0010\n",
      "Evaluation test, min area threshold=100, threshold two_threshold(ymin=0.01, ymax=0.5)\n",
      "Creating model\n",
      "Creating ensemble model\n",
      "Loading ensemble model weights from checkpoint /rds/project/kw350/rds-kw350-meld/experiments_graph/kw350/23-10-30_LVHZ_dcp/s_0/fold_all/best_model.pt\n",
      "Predicting model without dropout\n"
     ]
    },
    {
     "name": "stdout",
     "output_type": "stream",
     "text": [
      "using dataset\n"
     ]
    }
   ],
   "source": [
    "# load experiment\n",
    "model_graph = '/rds/project/kw350/rds-kw350-meld/experiments_graph/kw350/23-10-30_LVHZ_dcp/s_0/fold_all'\n",
    "exp = meld_graph.experiment.Experiment.from_folder(model_graph)\n",
    "exp.data_parameters[\"augment_data\"] = {}\n",
    "\n",
    "#load trainval dataset\n",
    "split = \"test\"\n",
    "\n",
    "cohort = MeldCohort(\n",
    "        hdf5_file_root=exp.data_parameters[\"hdf5_file_root\"],\n",
    "        dataset=exp.data_parameters[\"dataset\"],\n",
    "    )\n",
    "\n",
    "features = exp.data_parameters[\"features\"]\n",
    "\n",
    "# get only test patients\n",
    "with h5py.File(os.path.join(model_graph, 'results_best_model', 'predictions.hdf5'), \"r\") as f:\n",
    "    subjects = list(f.keys())\n",
    "\n",
    "subjects = [subject for subject in subjects if '_FCD_' in subject]\n",
    "print(len(subjects))\n",
    "# subjects = subjects[0:20]\n",
    "dataset = GraphDataset(subjects, cohort, exp.data_parameters, mode=\"test\")\n",
    "save_prediction_suffix=\"\"\n",
    "\n",
    "# create evaluator\n",
    "eva = Evaluator(\n",
    "    experiment=exp,\n",
    "    checkpoint_path=model_graph,\n",
    "    make_images=False,\n",
    "    dataset=dataset,\n",
    "    save_dir=None,\n",
    "    cohort=cohort,\n",
    "    subject_ids=subjects,\n",
    "    mode=\"test\",\n",
    "    thresh_and_clust=True,\n",
    ")\n",
    "\n",
    "eva.dropout_suffix = \"\""
   ]
  },
  {
   "cell_type": "code",
   "execution_count": 20,
   "metadata": {},
   "outputs": [
    {
     "data": {
      "text/html": [
       "<div>\n",
       "<style scoped>\n",
       "    .dataframe tbody tr th:only-of-type {\n",
       "        vertical-align: middle;\n",
       "    }\n",
       "\n",
       "    .dataframe tbody tr th {\n",
       "        vertical-align: top;\n",
       "    }\n",
       "\n",
       "    .dataframe thead th {\n",
       "        text-align: right;\n",
       "    }\n",
       "</style>\n",
       "<table border=\"1\" class=\"dataframe\">\n",
       "  <thead>\n",
       "    <tr style=\"text-align: right;\">\n",
       "      <th></th>\n",
       "      <th>ID</th>\n",
       "      <th>cluster</th>\n",
       "      <th>detected</th>\n",
       "      <th>confidence</th>\n",
       "      <th>IOU</th>\n",
       "      <th>IOU_plus</th>\n",
       "    </tr>\n",
       "  </thead>\n",
       "  <tbody>\n",
       "    <tr>\n",
       "      <th>0</th>\n",
       "      <td>MELD2_H7_3T_FCD_001</td>\n",
       "      <td>1.0</td>\n",
       "      <td>False</td>\n",
       "      <td>0.108008</td>\n",
       "      <td>0.000000</td>\n",
       "      <td>0.000000</td>\n",
       "    </tr>\n",
       "    <tr>\n",
       "      <th>0</th>\n",
       "      <td>MELD2_H7_3T_FCD_001</td>\n",
       "      <td>2.0</td>\n",
       "      <td>True</td>\n",
       "      <td>0.085052</td>\n",
       "      <td>0.150898</td>\n",
       "      <td>0.241496</td>\n",
       "    </tr>\n",
       "    <tr>\n",
       "      <th>0</th>\n",
       "      <td>MELD2_H7_3T_FCD_004</td>\n",
       "      <td>1.0</td>\n",
       "      <td>True</td>\n",
       "      <td>0.247082</td>\n",
       "      <td>0.164893</td>\n",
       "      <td>0.405648</td>\n",
       "    </tr>\n",
       "    <tr>\n",
       "      <th>0</th>\n",
       "      <td>MELD2_H7_3T_FCD_004</td>\n",
       "      <td>2.0</td>\n",
       "      <td>False</td>\n",
       "      <td>0.081344</td>\n",
       "      <td>0.000000</td>\n",
       "      <td>0.000000</td>\n",
       "    </tr>\n",
       "    <tr>\n",
       "      <th>0</th>\n",
       "      <td>MELD2_H7_3T_FCD_005</td>\n",
       "      <td>1.0</td>\n",
       "      <td>False</td>\n",
       "      <td>0.931053</td>\n",
       "      <td>0.000000</td>\n",
       "      <td>0.000000</td>\n",
       "    </tr>\n",
       "  </tbody>\n",
       "</table>\n",
       "</div>"
      ],
      "text/plain": [
       "                    ID  cluster  detected  confidence       IOU  IOU_plus\n",
       "0  MELD2_H7_3T_FCD_001      1.0     False    0.108008  0.000000  0.000000\n",
       "0  MELD2_H7_3T_FCD_001      2.0      True    0.085052  0.150898  0.241496\n",
       "0  MELD2_H7_3T_FCD_004      1.0      True    0.247082  0.164893  0.405648\n",
       "0  MELD2_H7_3T_FCD_004      2.0     False    0.081344  0.000000  0.000000\n",
       "0  MELD2_H7_3T_FCD_005      1.0     False    0.931053  0.000000  0.000000"
      ]
     },
     "execution_count": 20,
     "metadata": {},
     "output_type": "execute_result"
    }
   ],
   "source": [
    "import pandas as pd \n",
    "\n",
    "df = pd.DataFrame()\n",
    "\n",
    "for subject_id in subjects:\n",
    "    values={}\n",
    "    subject = MeldSubject(subject_id, cohort=cohort)\n",
    "    values['ID'] = subject_id\n",
    "    # load predictions and data subject\n",
    "    data_dictionary = eva.load_data_from_file(subject_id, keys=['result','cluster_thresholded'], \n",
    "                                          split_hemis=True, )\n",
    "    predictions = data_dictionary['cluster_thresholded']\n",
    "    results = data_dictionary['result']\n",
    "    \n",
    "    labels_hemis={}\n",
    "    dists={}\n",
    "    list_clust={}\n",
    "     # Loop over hemi\n",
    "    for i, hemi in enumerate([\"left\", \"right\"]):\n",
    "        # get list of clusters\n",
    "        list_clust[hemi] = set(predictions[hemi])\n",
    "        list_clust[hemi].remove(0.0)\n",
    "        # get borderzone\n",
    "        hemi_bis = 'lh' if hemi=='left' else 'rh'\n",
    "        dists[hemi], labels_hemis[hemi] = subject.load_feature_lesion_data(\n",
    "                    features=['.on_lh.boundary_zone.mgh'], hemi=hemi_bis, features_to_ignore=[])\n",
    "        if np.sum(dists[hemi])==0:\n",
    "            dists[hemi] +=200\n",
    "        borderzones = np.zeros(len(dists[hemi]))\n",
    "        borderzones[cohort.cortex_mask] = dists[hemi].ravel()[cohort.cortex_mask]<20\n",
    "        # get salient masks \n",
    "        keys = [f'mask_salient_{cl}' for cl in list_clust[hemi]]\n",
    "        mask_salient = eva.load_data_from_file(subject_id, keys=keys, split_hemis=True)\n",
    "        # loop over clusters\n",
    "        for cluster in list_clust[hemi]:\n",
    "            values['cluster'] = cluster\n",
    "            # get mask cluster\n",
    "            mask = (predictions[hemi]==cluster).astype(bool)\n",
    "            # define if cluster detected (overlap with borderzone)\n",
    "            if (mask & borderzones.astype(bool)).any():\n",
    "                values['detected'] = True\n",
    "            else:\n",
    "                values['detected'] = False\n",
    "            # get salient mask and confidence in the salient vertices of the cluster\n",
    "            mask_salient_cl = mask_salient[f'mask_salient_{cluster}'][hemi].astype(bool)\n",
    "            confidence_cl_salient = np.max(data_dictionary['result'][hemi][mask_salient_cl])\n",
    "            values[f'confidence'] =  confidence_cl_salient\n",
    "            # get intersection of union for cluster and lesion mask / borderzone\n",
    "            values[f'IOU'] = (np.logical_and(mask, labels_hemis[hemi])).sum() / (np.logical_or(mask, labels_hemis[hemi])).sum() \n",
    "            values['IOU_plus'] = (np.logical_and(mask, borderzones)).sum() / (np.logical_or(mask, borderzones)).sum() \n",
    "            \n",
    "            # update dataframe\n",
    "            df = pd.concat([df, pd.DataFrame([values])]) \n",
    "df.head()"
   ]
  },
  {
   "cell_type": "code",
   "execution_count": 22,
   "metadata": {},
   "outputs": [
    {
     "data": {
      "text/html": [
       "<div>\n",
       "<style scoped>\n",
       "    .dataframe tbody tr th:only-of-type {\n",
       "        vertical-align: middle;\n",
       "    }\n",
       "\n",
       "    .dataframe tbody tr th {\n",
       "        vertical-align: top;\n",
       "    }\n",
       "\n",
       "    .dataframe thead th {\n",
       "        text-align: right;\n",
       "    }\n",
       "</style>\n",
       "<table border=\"1\" class=\"dataframe\">\n",
       "  <thead>\n",
       "    <tr style=\"text-align: right;\">\n",
       "      <th></th>\n",
       "      <th>ID</th>\n",
       "      <th>cluster</th>\n",
       "      <th>detected</th>\n",
       "      <th>confidence</th>\n",
       "      <th>IOU</th>\n",
       "      <th>IOU_plus</th>\n",
       "    </tr>\n",
       "  </thead>\n",
       "  <tbody>\n",
       "    <tr>\n",
       "      <th>0</th>\n",
       "      <td>MELD2_H7_3T_FCD_001</td>\n",
       "      <td>1.0</td>\n",
       "      <td>False</td>\n",
       "      <td>0.108008</td>\n",
       "      <td>0.000000</td>\n",
       "      <td>0.000000</td>\n",
       "    </tr>\n",
       "    <tr>\n",
       "      <th>0</th>\n",
       "      <td>MELD2_H7_3T_FCD_001</td>\n",
       "      <td>2.0</td>\n",
       "      <td>True</td>\n",
       "      <td>0.085052</td>\n",
       "      <td>0.150898</td>\n",
       "      <td>0.241496</td>\n",
       "    </tr>\n",
       "    <tr>\n",
       "      <th>0</th>\n",
       "      <td>MELD2_H7_3T_FCD_004</td>\n",
       "      <td>1.0</td>\n",
       "      <td>True</td>\n",
       "      <td>0.247082</td>\n",
       "      <td>0.164893</td>\n",
       "      <td>0.405648</td>\n",
       "    </tr>\n",
       "    <tr>\n",
       "      <th>0</th>\n",
       "      <td>MELD2_H7_3T_FCD_004</td>\n",
       "      <td>2.0</td>\n",
       "      <td>False</td>\n",
       "      <td>0.081344</td>\n",
       "      <td>0.000000</td>\n",
       "      <td>0.000000</td>\n",
       "    </tr>\n",
       "    <tr>\n",
       "      <th>0</th>\n",
       "      <td>MELD2_H7_3T_FCD_005</td>\n",
       "      <td>1.0</td>\n",
       "      <td>False</td>\n",
       "      <td>0.931053</td>\n",
       "      <td>0.000000</td>\n",
       "      <td>0.000000</td>\n",
       "    </tr>\n",
       "    <tr>\n",
       "      <th>...</th>\n",
       "      <td>...</td>\n",
       "      <td>...</td>\n",
       "      <td>...</td>\n",
       "      <td>...</td>\n",
       "      <td>...</td>\n",
       "      <td>...</td>\n",
       "    </tr>\n",
       "    <tr>\n",
       "      <th>0</th>\n",
       "      <td>MELD_H9_3T_FCD_0003</td>\n",
       "      <td>1.0</td>\n",
       "      <td>True</td>\n",
       "      <td>0.123673</td>\n",
       "      <td>0.000657</td>\n",
       "      <td>0.202467</td>\n",
       "    </tr>\n",
       "    <tr>\n",
       "      <th>0</th>\n",
       "      <td>MELD_H9_3T_FCD_0003</td>\n",
       "      <td>2.0</td>\n",
       "      <td>False</td>\n",
       "      <td>0.134619</td>\n",
       "      <td>0.000000</td>\n",
       "      <td>0.000000</td>\n",
       "    </tr>\n",
       "    <tr>\n",
       "      <th>0</th>\n",
       "      <td>MELD_H9_3T_FCD_0004</td>\n",
       "      <td>1.0</td>\n",
       "      <td>True</td>\n",
       "      <td>0.970454</td>\n",
       "      <td>0.346552</td>\n",
       "      <td>0.403115</td>\n",
       "    </tr>\n",
       "    <tr>\n",
       "      <th>0</th>\n",
       "      <td>MELD_H9_3T_FCD_0005</td>\n",
       "      <td>1.0</td>\n",
       "      <td>True</td>\n",
       "      <td>0.994637</td>\n",
       "      <td>0.142008</td>\n",
       "      <td>0.439396</td>\n",
       "    </tr>\n",
       "    <tr>\n",
       "      <th>0</th>\n",
       "      <td>MELD_H9_3T_FCD_0010</td>\n",
       "      <td>1.0</td>\n",
       "      <td>False</td>\n",
       "      <td>0.986181</td>\n",
       "      <td>0.000000</td>\n",
       "      <td>0.000000</td>\n",
       "    </tr>\n",
       "  </tbody>\n",
       "</table>\n",
       "<p>275 rows × 6 columns</p>\n",
       "</div>"
      ],
      "text/plain": [
       "                     ID  cluster  detected  confidence       IOU  IOU_plus\n",
       "0   MELD2_H7_3T_FCD_001      1.0     False    0.108008  0.000000  0.000000\n",
       "0   MELD2_H7_3T_FCD_001      2.0      True    0.085052  0.150898  0.241496\n",
       "0   MELD2_H7_3T_FCD_004      1.0      True    0.247082  0.164893  0.405648\n",
       "0   MELD2_H7_3T_FCD_004      2.0     False    0.081344  0.000000  0.000000\n",
       "0   MELD2_H7_3T_FCD_005      1.0     False    0.931053  0.000000  0.000000\n",
       "..                  ...      ...       ...         ...       ...       ...\n",
       "0   MELD_H9_3T_FCD_0003      1.0      True    0.123673  0.000657  0.202467\n",
       "0   MELD_H9_3T_FCD_0003      2.0     False    0.134619  0.000000  0.000000\n",
       "0   MELD_H9_3T_FCD_0004      1.0      True    0.970454  0.346552  0.403115\n",
       "0   MELD_H9_3T_FCD_0005      1.0      True    0.994637  0.142008  0.439396\n",
       "0   MELD_H9_3T_FCD_0010      1.0     False    0.986181  0.000000  0.000000\n",
       "\n",
       "[275 rows x 6 columns]"
      ]
     },
     "execution_count": 22,
     "metadata": {},
     "output_type": "execute_result"
    }
   ],
   "source": [
    "df"
   ]
  },
  {
   "cell_type": "code",
   "execution_count": 21,
   "metadata": {},
   "outputs": [],
   "source": [
    "# save and load df\n",
    "\n",
    "file = '/home/co-ripa1/rds/hpc-work/tmp/df_iou_confidence_240806.csv'\n",
    "df.to_csv(file)\n",
    "\n",
    "# df = pd.read_csv(file)\n",
    "\n"
   ]
  },
  {
   "cell_type": "code",
   "execution_count": 38,
   "metadata": {},
   "outputs": [
    {
     "name": "stdout",
     "output_type": "stream",
     "text": [
      "iou iou+\n",
      "0.26 0.23\n"
     ]
    }
   ],
   "source": [
    "# IOU average\n",
    "\n",
    "subdf = df[df['detected']].copy()\n",
    "\n",
    "iou = np.mean(subdf[f'IOU'])\n",
    "iou_plus = np.mean(subdf[f'IOU_plus'])\n",
    "\n",
    "print('iou iou+')\n",
    "print(round(iou,2), round(iou_plus,2))"
   ]
  },
  {
   "cell_type": "code",
   "execution_count": 51,
   "metadata": {},
   "outputs": [
    {
     "name": "stdout",
     "output_type": "stream",
     "text": [
      "SignificanceResult(statistic=0.5459272540511406, pvalue=5.388037240879e-16)\n"
     ]
    },
    {
     "data": {
      "image/png": "[encoded data removed]",
      "text/plain": [
       "<Figure size 360x360 with 1 Axes>"
      ]
     },
     "metadata": {
      "needs_background": "light"
     },
     "output_type": "display_data"
    }
   ],
   "source": [
    "## plot IOU in function of confidence\n",
    "import scipy.stats as stats\n",
    "\n",
    "subdf = df[df['detected']].copy()\n",
    "\n",
    "fig, axs = plt.subplots(1,1, figsize=(5,5))\n",
    "\n",
    "plt.scatter(subdf['confidence'].values, subdf['IOU'].values, s=10)\n",
    "plt.ylabel('cluster IOU', fontsize=15)\n",
    "plt.xlabel('cluster confidence', fontsize=15)\n",
    "plt.xlim([-0.05,1.05])\n",
    "plt.ylim([-0.05,1.05])\n",
    "\n",
    "cor = stats.spearmanr(subdf['confidence'].values, subdf['IOU'].values)\n",
    "if cor[1]<0.01:\n",
    "    plt.title(f'R={round(cor[0],2)} , p<0.01', fontsize = 15)\n",
    "else:\n",
    "    plt.title(f'R={round(cor[0],2)} , p={round(cor[1],2)}', fontsize = 15)\n",
    "print(cor)\n",
    "\n",
    "\n",
    "\n",
    "\n"
   ]
  }
 ],
 "metadata": {
  "kernelspec": {
   "display_name": "Python 3.9.10 ('meld_graph')",
   "language": "python",
   "name": "python3"
  },
  "language_info": {
   "codemirror_mode": {
    "name": "ipython",
    "version": 3
   },
   "file_extension": ".py",
   "mimetype": "text/x-python",
   "name": "python",
   "nbconvert_exporter": "python",
   "pygments_lexer": "ipython3",
   "version": "3.9.10"
  },
  "vscode": {
   "interpreter": {
    "hash": "c0176ae289e59992559f0c449061dac3c0e6a1074598f8b14680b865216cf195"
   }
  }
 },
 "nbformat": 4,
 "nbformat_minor": 2
}
