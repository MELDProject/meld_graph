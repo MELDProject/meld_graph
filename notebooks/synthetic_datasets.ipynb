{
 "cells": [
  {
   "cell_type": "code",
   "execution_count": 1,
   "id": "80b0fe21",
   "metadata": {},
   "outputs": [
    {
     "name": "stderr",
     "output_type": "stream",
     "text": [
      "/home/kw350/.conda/envs/meld_graph/lib/python3.9/site-packages/tqdm/auto.py:22: TqdmWarning: IProgress not found. Please update jupyter and ipywidgets. See https://ipywidgets.readthedocs.io/en/stable/user_install.html\n",
      "  from .autonotebook import tqdm as notebook_tqdm\n"
     ]
    },
    {
     "name": "stdout",
     "output_type": "stream",
     "text": [
      "Setting MELD_DATA_PATH to /rds/user/kw350/rds-kw350-meld/meld_data/Data/\n",
      "Setting BASE_PATH to /rds/user/kw350/rds-kw350-meld/meld_data/Data/\n",
      "Setting EXPERIMENT_PATH to /rds/user/kw350/rds-kw350-meld/experiments/kw350/\n",
      "No fs_subjects_path defined in /home/kw350/software/gdl/meld_classifier/meld_config.ini!\n",
      "Setting EXPERIMENT_PATH to /rds/project/kw350/rds-kw350-meld/experiments_graph/kw350\n"
     ]
    }
   ],
   "source": [
    "from meld_graph.dataset import GraphDataset\n",
    "from meld_graph import experiment"
   ]
  },
  {
   "cell_type": "code",
   "execution_count": 2,
   "id": "abeb7d02",
   "metadata": {},
   "outputs": [],
   "source": [
    "\n",
    "def load_config(config_file):\n",
    "    \"\"\"load config.py file and return config object\"\"\"\n",
    "    import importlib.machinery, importlib.util\n",
    "    loader = importlib.machinery.SourceFileLoader(\"config\", config_file)\n",
    "    spec = importlib.util.spec_from_loader(loader.name, loader)\n",
    "    config = importlib.util.module_from_spec(spec)\n",
    "    loader.exec_module(config)\n",
    "    return config"
   ]
  },
  {
   "cell_type": "code",
   "execution_count": 3,
   "id": "2bddcc5c",
   "metadata": {},
   "outputs": [],
   "source": [
    "config = load_config('../scripts/config_files/experiment_config_konrad_synth.py')\n",
    "\n",
    "cur_data_parameters = config.data_parameters\n",
    "cur_network_parameters = config.network_parameters\n"
   ]
  },
  {
   "cell_type": "code",
   "execution_count": 4,
   "id": "282a9f28",
   "metadata": {},
   "outputs": [
    {
     "name": "stderr",
     "output_type": "stream",
     "text": [
      "saving parameter files to /rds/project/kw350/rds-kw350-meld/experiments_graph/kw350/22-09-30_synth_unet_gamma_2/fold_00\n",
      "Initialised Experiment 22-09-30_synth_unet_gamma_2\n"
     ]
    }
   ],
   "source": [
    "exp = experiment.Experiment(cur_network_parameters, cur_data_parameters)"
   ]
  },
  {
   "cell_type": "code",
   "execution_count": 5,
   "id": "ac463c84",
   "metadata": {},
   "outputs": [
    {
     "name": "stderr",
     "output_type": "stream",
     "text": [
      "getting train val test split\n",
      "total number of subjects: 46\n",
      "total number of subjects after restricting to subjects from MELD_dataset_V6.csv: 46\n",
      "total number of subjects: 950\n",
      "total number of subjects after restricting to subjects from MELD_dataset_V6.csv: 942\n",
      "total number after filtering by scanner ['3T', '15T'], features, lesional_only True: 911\n",
      "full_feature_list: ['.combat.on_lh.curv.sm5.mgh', '.combat.on_lh.gm_FLAIR_0.25.sm10.mgh', '.combat.on_lh.gm_FLAIR_0.5.sm10.mgh', '.combat.on_lh.gm_FLAIR_0.75.sm10.mgh', '.combat.on_lh.gm_FLAIR_0.sm10.mgh', '.combat.on_lh.pial.K_filtered.sm20.mgh', '.combat.on_lh.sulc.sm5.mgh', '.combat.on_lh.thickness.sm10.mgh', '.combat.on_lh.w-g.pct.sm10.mgh', '.combat.on_lh.wm_FLAIR_0.5.sm10.mgh', '.combat.on_lh.wm_FLAIR_1.sm10.mgh', '.inter_z.asym.intra_z.combat.on_lh.curv.sm5.mgh', '.inter_z.asym.intra_z.combat.on_lh.gm_FLAIR_0.25.sm10.mgh', '.inter_z.asym.intra_z.combat.on_lh.gm_FLAIR_0.5.sm10.mgh', '.inter_z.asym.intra_z.combat.on_lh.gm_FLAIR_0.75.sm10.mgh', '.inter_z.asym.intra_z.combat.on_lh.gm_FLAIR_0.sm10.mgh', '.inter_z.asym.intra_z.combat.on_lh.pial.K_filtered.sm20.mgh', '.inter_z.asym.intra_z.combat.on_lh.sulc.sm5.mgh', '.inter_z.asym.intra_z.combat.on_lh.thickness.sm10.mgh', '.inter_z.asym.intra_z.combat.on_lh.w-g.pct.sm10.mgh', '.inter_z.asym.intra_z.combat.on_lh.wm_FLAIR_0.5.sm10.mgh', '.inter_z.asym.intra_z.combat.on_lh.wm_FLAIR_1.sm10.mgh', '.inter_z.intra_z.combat.on_lh.curv.sm5.mgh', '.inter_z.intra_z.combat.on_lh.gm_FLAIR_0.25.sm10.mgh', '.inter_z.intra_z.combat.on_lh.gm_FLAIR_0.5.sm10.mgh', '.inter_z.intra_z.combat.on_lh.gm_FLAIR_0.75.sm10.mgh', '.inter_z.intra_z.combat.on_lh.gm_FLAIR_0.sm10.mgh', '.inter_z.intra_z.combat.on_lh.pial.K_filtered.sm20.mgh', '.inter_z.intra_z.combat.on_lh.sulc.sm5.mgh', '.inter_z.intra_z.combat.on_lh.thickness.sm10.mgh', '.inter_z.intra_z.combat.on_lh.w-g.pct.sm10.mgh', '.inter_z.intra_z.combat.on_lh.wm_FLAIR_0.5.sm10.mgh', '.inter_z.intra_z.combat.on_lh.wm_FLAIR_1.sm10.mgh']\n",
      "total number after filtering by scanner ['3T'], features, lesional_only True: 18\n",
      "saving parameter files to /rds/project/kw350/rds-kw350-meld/experiments_graph/kw350/22-09-30_synth_unet_gamma_2/fold_00\n",
      "Loading and preprocessing data\n",
      "Combine hemis None\n",
      "Using coord type pseudo\n"
     ]
    },
    {
     "name": "stdout",
     "output_type": "stream",
     "text": [
      "1.4212837219238281\n",
      "0.4480268955230713\n",
      "0.4214143753051758\n",
      "0.4263911247253418\n",
      "0.23658037185668945\n",
      "0.2410736083984375\n",
      "0.4376709461212158\n",
      "0.4613070487976074\n",
      "0.4452681541442871\n",
      "0.415877103805542\n",
      "0.40931153297424316\n",
      "0.40631699562072754\n",
      "0.044443368911743164\n",
      "0.22591662406921387\n",
      "0.4149751663208008\n",
      "0.4079315662384033\n",
      "0.40058040618896484\n",
      "0.2231287956237793\n",
      "0.411557674407959\n",
      "0.4093782901763916\n",
      "0.41036462783813477\n",
      "0.40147924423217773\n",
      "0.044092416763305664\n",
      "0.4275815486907959\n",
      "0.40260767936706543\n",
      "0.40509557723999023\n",
      "0.22223234176635742\n",
      "0.22312402725219727\n",
      "0.4222099781036377\n",
      "0.22489166259765625\n",
      "0.4107022285461426\n",
      "0.4146602153778076\n",
      "0.2275083065032959\n",
      "0.4168109893798828\n",
      "0.4111011028289795\n",
      "0.411998987197876\n",
      "0.41710710525512695\n",
      "0.40520238876342773\n",
      "0.4270286560058594\n",
      "0.425933837890625\n",
      "27.360939025878906\n"
     ]
    }
   ],
   "source": [
    "import time\n",
    "t1=time.time()\n",
    "train_dset = GraphDataset.from_experiment(exp, mode='train')\n",
    "t2=time.time()\n",
    "print(t2-t1)"
   ]
  },
  {
   "cell_type": "code",
   "execution_count": 20,
   "id": "33236533",
   "metadata": {},
   "outputs": [],
   "source": [
    "import time\n",
    "def create_lesion_mask(self,radius,cartesian_coords,return_smoothed=True):\n",
    "        \"\"\"create irregular polygon lesion mask\"\"\"\n",
    "        import matplotlib.path as mpltPath\n",
    "        #from sklearn.metrics import pairwise_distances\n",
    "        from scipy import interpolate,ndimage\n",
    "        import copy\n",
    "        from meld_graph.resampling_meshes import spinning_coords\n",
    "        from meld_classifier import mesh_tools as mt\n",
    "        t1=time.time()\n",
    "        spun_coords = spinning_coords(cartesian_coords)\n",
    "        spherical_coords = mt.spherical_np(spun_coords)[:,1:]\n",
    "        spherical_coords[:,0] = spherical_coords[:,0]-np.pi/2\n",
    "        spherical_coords = self.clip_spherical_coords(spherical_coords)\n",
    "\n",
    "        #select a radius\n",
    "        f_radius = np.clip(np.random.normal(radius,radius/2),0.05,2)\n",
    "        \n",
    "        t2=time.time()\n",
    "        n_points = np.random.choice(6)+4\n",
    "        subset = self.grid_coords[self.distances<f_radius]\n",
    "        #establish mask and mask coordinates\n",
    "        x_mask = np.logical_and(self.grid_coords_grid[0]>-f_radius,self.grid_coords_grid[0]<f_radius)\n",
    "        y_mask = np.logical_and(self.grid_coords_grid[1]>-f_radius,self.grid_coords_grid[1]<f_radius)\n",
    "        grid_mask = np.logical_and(x_mask\n",
    "            ,y_mask\n",
    "            )\n",
    "        mask_shape=(x_mask.any(axis=1).sum(),y_mask.any(axis=0).sum())\n",
    "        masked_grid_coords = np.vstack([self.grid_coords_grid[0][grid_mask],\n",
    "                      self.grid_coords_grid[1][grid_mask]]).T\n",
    "        t3=time.time()\n",
    "        poly_i = np.random.choice(len(subset),n_points)\n",
    "        polygon = subset[poly_i]\n",
    "        polygon = np.array(sorted(polygon, key=lambda point: self.clockwiseangle_and_distance(point,self.origin)))\n",
    "        path = mpltPath.Path(polygon)\n",
    "        lesion = path.contains_points(masked_grid_coords)\n",
    "        #lesion = path.contains_points(self.grid_coords)\n",
    "        arr_lesion = lesion.reshape(mask_shape,order='f').astype(float)\n",
    "        #arr_lesion = lesion.reshape(self.gridshape,order='f').astype(float)\n",
    "        #interpolate to coordinates\n",
    "        t4=time.time()\n",
    "        full_lesion = np.zeros(self.gridshape,dtype=float)\n",
    "        full_lesion[grid_mask.T] = arr_lesion.ravel()\n",
    "        f_near=interpolate.RegularGridInterpolator((self.xnew,self.ynew),\n",
    "                                                   full_lesion.T,\n",
    "                                                  method='nearest')\n",
    "        interpolated_lesion=f_near(spherical_coords)\n",
    "        t5=time.time()\n",
    "        #smoothed mask\n",
    "        if return_smoothed:\n",
    "            smoothed = ndimage.gaussian_filter(arr_lesion,10)\n",
    "            full_lesion[grid_mask.T] = smoothed.ravel()\n",
    "            f_lin=interpolate.RegularGridInterpolator((self.xnew,self.ynew),\n",
    "                                                   full_lesion.T,\n",
    "                                                  method='linear')\n",
    "            #return grid_coords,smoothed\n",
    "            interpolated_smoothed = f_lin(spherical_coords)\n",
    "            t6=time.time()\n",
    "            print(t6-t1,t2-t1,t3-t2,t4-t3,t5-t4,t6-t5)\n",
    "            return interpolated_lesion, interpolated_smoothed \n",
    "        else:\n",
    "            return interpolated_lesion\n",
    "    "
   ]
  },
  {
   "cell_type": "code",
   "execution_count": 7,
   "id": "1138af42",
   "metadata": {},
   "outputs": [
    {
     "name": "stderr",
     "output_type": "stream",
     "text": [
      "Using coord type pseudo\n"
     ]
    },
    {
     "name": "stdout",
     "output_type": "stream",
     "text": [
      "0.0723874568939209 0.015595436096191406 0.003774404525756836 0.0004115104675292969 0.022048473358154297 0.030557632446289062\n"
     ]
    }
   ],
   "source": [
    "self = train_dset.prep\n",
    "from meld_graph.icospheres import IcoSpheres\n",
    "import numpy as np\n",
    "icos= IcoSpheres(conv_type='SpiralConv')\n",
    "\n",
    "i,i2=create_lesion_mask(self,0.5,icos.icospheres[7]['coords'] )"
   ]
  },
  {
   "cell_type": "code",
   "execution_count": 8,
   "id": "01c218c5",
   "metadata": {},
   "outputs": [
    {
     "data": {
      "text/plain": [
       "(500, 1000)"
      ]
     },
     "execution_count": 8,
     "metadata": {},
     "output_type": "execute_result"
    }
   ],
   "source": [
    "self.grid_coords_grid[0].shape\n",
    "self.grid_coords_grid[1].shape\n"
   ]
  },
  {
   "cell_type": "code",
   "execution_count": 9,
   "id": "e3c9ecda",
   "metadata": {},
   "outputs": [],
   "source": [
    "import numpy as np\n",
    "import matplotlib.pyplot as plt\n",
    "radius = 0.5\n",
    "f_radius = np.clip(np.random.normal(radius,radius/2),0.05,2)\n",
    "n_points = np.random.choice(6)+4\n",
    "mask = (self.distances<f_radius).reshape(self.gridshape,order='f').T"
   ]
  },
  {
   "cell_type": "code",
   "execution_count": 10,
   "id": "cad844aa",
   "metadata": {},
   "outputs": [],
   "source": [
    "#establish mask and parameters\n",
    "x_mask = np.logical_and(self.grid_coords_grid[0]>-f_radius,self.grid_coords_grid[0]<f_radius)\n",
    "y_mask = np.logical_and(self.grid_coords_grid[1]>-f_radius,self.grid_coords_grid[1]<f_radius)\n",
    "grid_mask = np.logical_and(x_mask\n",
    "    ,y_mask\n",
    "    )\n",
    "mask_shape=(x_mask.any(axis=1).sum(),y_mask.any(axis=0).sum())\n",
    "masked_grid_coords = np.vstack([self.grid_coords_grid[0][grid_mask],\n",
    "                      self.grid_coords_grid[1][grid_mask]]).T"
   ]
  },
  {
   "cell_type": "code",
   "execution_count": 11,
   "id": "03a01a95",
   "metadata": {},
   "outputs": [],
   "source": [
    "import matplotlib.path as mpltPath\n",
    "subset = self.grid_coords[self.distances<f_radius]\n",
    "poly_i = np.random.choice(len(subset),n_points)\n",
    "polygon = subset[poly_i]\n",
    "polygon = np.array(sorted(polygon, key=lambda point: self.clockwiseangle_and_distance(point,self.origin)))\n",
    "path = mpltPath.Path(polygon)\n",
    "lesion = path.contains_points(masked_grid_coords)"
   ]
  },
  {
   "cell_type": "code",
   "execution_count": 12,
   "id": "0fbb0bcd",
   "metadata": {},
   "outputs": [
    {
     "data": {
      "text/plain": [
       "(94, 94)"
      ]
     },
     "execution_count": 12,
     "metadata": {},
     "output_type": "execute_result"
    }
   ],
   "source": [
    "mask_shape"
   ]
  },
  {
   "cell_type": "code",
   "execution_count": 13,
   "id": "20cb3a93",
   "metadata": {},
   "outputs": [],
   "source": [
    "\n",
    "arr_lesion = lesion.reshape(mask_shape,order='f').astype(float)"
   ]
  },
  {
   "cell_type": "code",
   "execution_count": 14,
   "id": "d63d94ff",
   "metadata": {},
   "outputs": [
    {
     "data": {
      "text/plain": [
       "<matplotlib.image.AxesImage at 0x2b6c369161f0>"
      ]
     },
     "execution_count": 14,
     "metadata": {},
     "output_type": "execute_result"
    },
    {
     "data": {
      "image/png": "[encoded data removed]",
      "text/plain": [
       "<Figure size 432x288 with 1 Axes>"
      ]
     },
     "metadata": {
      "needs_background": "light"
     },
     "output_type": "display_data"
    }
   ],
   "source": [
    "plt.imshow(arr_lesion)"
   ]
  },
  {
   "cell_type": "code",
   "execution_count": 15,
   "id": "3b07d3ea",
   "metadata": {},
   "outputs": [],
   "source": [
    "from scipy import interpolate,ndimage\n",
    "import copy\n",
    "from meld_graph.resampling_meshes import spinning_coords\n",
    "from meld_classifier import mesh_tools as mt\n",
    "spun_coords = spinning_coords(icos.icospheres[7]['coords'])\n",
    "spherical_coords = mt.spherical_np(spun_coords)[:,1:]\n",
    "spherical_coords[:,0] = spherical_coords[:,0]-np.pi/2\n",
    "spherical_coords = self.clip_spherical_coords(spherical_coords)\n",
    "full_lesion = np.zeros(self.gridshape,dtype=float)\n",
    "full_lesion[grid_mask.T] = arr_lesion.ravel()\n",
    "f_near=interpolate.RegularGridInterpolator((self.xnew,self.ynew),\n",
    "                                                   full_lesion.T,\n",
    "                                                  method='nearest')\n",
    "interpolated_lesion=f_near(spherical_coords)\n",
    "smoothed = ndimage.gaussian_filter(arr_lesion,10)\n",
    "full_lesion[grid_mask.T] = smoothed.ravel()\n",
    "f_lin=interpolate.RegularGridInterpolator((self.xnew,self.ynew),\n",
    "                                       full_lesion.T,\n",
    "                                      method='linear')\n",
    "#return grid_coords,smoothed\n",
    "interpolated_smoothed = f_lin(spherical_coords)"
   ]
  },
  {
   "cell_type": "code",
   "execution_count": 32,
   "id": "dc22f77b",
   "metadata": {},
   "outputs": [
    {
     "name": "stdout",
     "output_type": "stream",
     "text": [
      "0.05344676971435547 0.0164642333984375 0.0005757808685302734 0.00015211105346679688 0.01540374755859375 0.02085089683532715\n"
     ]
    },
    {
     "data": {
      "image/png": "[encoded data removed]",
      "text/plain": [
       "<Figure size 864x360 with 3 Axes>"
      ]
     },
     "metadata": {
      "needs_background": "light"
     },
     "output_type": "display_data"
    }
   ],
   "source": [
    "import matplotlib_surface_plotting as msp\n",
    "self = train_dset.prep\n",
    "self.initialise_distances(res=200)\n",
    "i,i2=create_lesion_mask(self,0.5,icos.icospheres[7]['coords'] )\n",
    "msp.plot_surf(icos.icospheres[7]['coords'],\n",
    "                 icos.icospheres[7]['faces'],\n",
    "                  i,\n",
    "                  colorbar=False\n",
    "                 )"
   ]
  },
  {
   "cell_type": "code",
   "execution_count": 17,
   "id": "65d9f6b6",
   "metadata": {},
   "outputs": [
    {
     "data": {
      "image/png": "[encoded data removed]",
      "text/plain": [
       "<Figure size 864x360 with 3 Axes>"
      ]
     },
     "metadata": {
      "needs_background": "light"
     },
     "output_type": "display_data"
    }
   ],
   "source": [
    "msp.plot_surf(icos.icospheres[7]['coords'],\n",
    "                 icos.icospheres[7]['faces'],\n",
    "                  interpolated_smoothed,\n",
    "                  colorbar=False\n",
    "                 )"
   ]
  },
  {
   "cell_type": "code",
   "execution_count": 18,
   "id": "dca818ad",
   "metadata": {},
   "outputs": [
    {
     "data": {
      "text/plain": [
       "<matplotlib.collections.PathCollection at 0x2b6cf7327610>"
      ]
     },
     "execution_count": 18,
     "metadata": {},
     "output_type": "execute_result"
    },
    {
     "data": {
      "image/png": "[encoded data removed]",
      "text/plain": [
       "<Figure size 432x288 with 1 Axes>"
      ]
     },
     "metadata": {
      "needs_background": "light"
     },
     "output_type": "display_data"
    }
   ],
   "source": [
    "masked_subset = np.vstack([self.grid_coords_grid[0][mask],\n",
    "self.grid_coords_grid[1][mask]]).T\n",
    "plt.scatter(subset[:,0],subset[:,1])\n",
    "plt.scatter(masked_subset[:,0],masked_subset[:,1])\n"
   ]
  },
  {
   "cell_type": "code",
   "execution_count": 19,
   "id": "ec2405da",
   "metadata": {},
   "outputs": [
    {
     "ename": "SyntaxError",
     "evalue": "invalid syntax (1534622066.py, line 1)",
     "output_type": "error",
     "traceback": [
      "\u001b[0;36m  Input \u001b[0;32mIn [19]\u001b[0;36m\u001b[0m\n\u001b[0;31m    self.grid_coords.\u001b[0m\n\u001b[0m                     ^\u001b[0m\n\u001b[0;31mSyntaxError\u001b[0m\u001b[0;31m:\u001b[0m invalid syntax\n"
     ]
    }
   ],
   "source": [
    "self.grid_coords."
   ]
  },
  {
   "cell_type": "code",
   "execution_count": null,
   "id": "70ae777a",
   "metadata": {},
   "outputs": [],
   "source": [
    "plt.scatter(subset[:,0],subset[:,1])\n"
   ]
  },
  {
   "cell_type": "code",
   "execution_count": null,
   "id": "c0614ced",
   "metadata": {},
   "outputs": [],
   "source": [
    "## 40 synthetic subjects - initialisasion ~ 8 seconds then synthesis\n",
    "## original = 56.9 seconds\n",
    "## precalculating distances = 35.7 s\n",
    "## after masking for smoothing = 28 seconds\n"
   ]
  },
  {
   "cell_type": "code",
   "execution_count": null,
   "id": "3fe819d5",
   "metadata": {},
   "outputs": [],
   "source": [
    "len(train_dset)"
   ]
  },
  {
   "cell_type": "code",
   "execution_count": null,
   "id": "cfba75fa",
   "metadata": {},
   "outputs": [],
   "source": [
    "lesions=[]\n",
    "for d in train_dset:\n",
    "    lesions.append(int(d['y'].sum()))"
   ]
  },
  {
   "cell_type": "code",
   "execution_count": null,
   "id": "53bbd220",
   "metadata": {},
   "outputs": [],
   "source": [
    "import matplotlib.pyplot as plt\n",
    "%matplotlib inline\n",
    "plt.hist(lesions,100)"
   ]
  },
  {
   "cell_type": "code",
   "execution_count": null,
   "id": "afdd2383",
   "metadata": {},
   "outputs": [],
   "source": []
  },
  {
   "cell_type": "code",
   "execution_count": null,
   "id": "144e5ddb",
   "metadata": {},
   "outputs": [],
   "source": [
    "import numpy as np\n",
    "l_f_means=np.zeros((len(lesions),33))\n",
    "p_f_means=np.zeros((len(lesions),33))\n",
    "for si,s in enumerate(train_dset):\n",
    "    if s['y'].sum()>0:\n",
    "        l_f_means[si] = s['x'][s['y']==1].mean(axis=0)\n",
    "    rand_i = np.random.choice(len(lesions))\n",
    "    p_f_means[si] = train_dset[rand_i]['x'][s['y']==1].mean(axis=0)"
   ]
  },
  {
   "cell_type": "code",
   "execution_count": null,
   "id": "27dff10a",
   "metadata": {},
   "outputs": [],
   "source": [
    "import seaborn as sns"
   ]
  },
  {
   "cell_type": "code",
   "execution_count": null,
   "id": "5a071050",
   "metadata": {},
   "outputs": [],
   "source": [
    "fig,axes = plt.subplots(3,3,figsize=(8,8))\n",
    "axes=axes.ravel()\n",
    "for r in np.arange(9):\n",
    "    sns.kdeplot(l_f_means[:,r],ax=axes[r])\n",
    "    sns.kdeplot(p_f_means[:,r],ax=axes[r])\n",
    "    axes[r].set_xlim([-3,3])\n",
    "fig.text(0.5, 0.89,'Synthetic')"
   ]
  },
  {
   "cell_type": "code",
   "execution_count": null,
   "id": "f38b0a73",
   "metadata": {},
   "outputs": [],
   "source": [
    "import matplotlib_surface_plotting as msp\n",
    "from meld_graph.icospheres import IcoSpheres\n"
   ]
  },
  {
   "cell_type": "code",
   "execution_count": null,
   "id": "f21dc7e3",
   "metadata": {},
   "outputs": [],
   "source": []
  },
  {
   "cell_type": "code",
   "execution_count": null,
   "id": "f90d55f7",
   "metadata": {},
   "outputs": [],
   "source": []
  },
  {
   "cell_type": "code",
   "execution_count": null,
   "id": "366d6e3b",
   "metadata": {},
   "outputs": [],
   "source": [
    "s=train_dset[10]\n",
    "c=np.array(s['x'][:,0])\n",
    "msp.plot_surf(icos.icospheres[7]['coords'],\n",
    "                 icos.icospheres[7]['faces'],\n",
    "                  c,\n",
    "                  colorbar=False\n",
    "                 )\n",
    "lesion=np.array(s['y']).astype(bool)\n",
    "msp.plot_surf(icos.icospheres[7]['coords'],\n",
    "                 icos.icospheres[7]['faces'],\n",
    "                  lesion,\n",
    "                  colorbar=False\n",
    "                 )"
   ]
  },
  {
   "cell_type": "code",
   "execution_count": null,
   "id": "78d73d09",
   "metadata": {},
   "outputs": [],
   "source": [
    "coords = icos.icospheres[7]['spherical_coords']\n",
    "from sklearn.metrics import pairwise_distances\n",
    "pairwise_distances(coords[~lesion],coords[lesion], metric='haversine')[0]"
   ]
  },
  {
   "cell_type": "code",
   "execution_count": null,
   "id": "46e44ad6",
   "metadata": {},
   "outputs": [],
   "source": []
  },
  {
   "cell_type": "code",
   "execution_count": null,
   "id": "79b555ef",
   "metadata": {},
   "outputs": [],
   "source": [
    "def clockwiseangle_and_distance(point,origin):\n",
    "        import math\n",
    "\n",
    "        refvec = [0, 1]\n",
    "        # Vector between point and the origin: v = p - o\n",
    "        vector = [point[0]-origin[0], point[1]-origin[1]]\n",
    "        # Length of vector: ||v||\n",
    "        lenvector = math.hypot(vector[0], vector[1])\n",
    "        # If length is zero there is no angle\n",
    "        if lenvector == 0:\n",
    "            return -math.pi, 0\n",
    "        # Normalize vector: v/||v||\n",
    "        normalized = [vector[0]/lenvector, vector[1]/lenvector]\n",
    "        dotprod  = normalized[0]*refvec[0] + normalized[1]*refvec[1]     # x1*x2 + y1*y2\n",
    "        diffprod = refvec[1]*normalized[0] - refvec[0]*normalized[1]     # x1*y2 - y1*x2\n",
    "        angle = math.atan2(diffprod, dotprod)\n",
    "        # Negative angles represent counter-clockwise angles so we need to subtract them \n",
    "        # from 2*pi (360 degrees)\n",
    "        if angle < 0:\n",
    "            return 2*math.pi+angle, lenvector\n",
    "        # I return first the angle because that's the primary sorting criterium\n",
    "        # but if two vectors have the same angle then the shorter distance should come first.\n",
    "        return angle, lenvector"
   ]
  },
  {
   "cell_type": "code",
   "execution_count": null,
   "id": "053ee95e",
   "metadata": {},
   "outputs": [],
   "source": [
    "import matplotlib.path as mpltPath\n",
    "\n",
    "radius=0.2\n",
    "f_radius = np.clip(np.random.normal(radius,radius/2),0.05,2)\n",
    "\n",
    "com_i = np.random.choice(len(coords))\n",
    "origin = coords[com_i]\n",
    "distances = pairwise_distances(origin.reshape(-1,1).T,coords, metric='haversine')[0]\n",
    "n_points = np.random.choice(6)+4\n",
    "subset = coords[distances<f_radius]\n",
    "poly_i = np.random.choice(len(subset),n_points)\n",
    "polygon = subset[poly_i]\n",
    "polygon = np.array(sorted(polygon, key=lambda point: clockwiseangle_and_distance(point,origin)))\n",
    "path = mpltPath.Path(polygon)\n",
    "lesion = path.contains_points(coords)"
   ]
  },
  {
   "cell_type": "code",
   "execution_count": null,
   "id": "55dea397",
   "metadata": {},
   "outputs": [],
   "source": [
    "np.logical_and(distances<f_radius,~lesion).shape"
   ]
  },
  {
   "cell_type": "code",
   "execution_count": null,
   "id": "a6579b38",
   "metadata": {},
   "outputs": [],
   "source": []
  },
  {
   "cell_type": "code",
   "execution_count": null,
   "id": "75bf2f84",
   "metadata": {},
   "outputs": [],
   "source": [
    "ds=pairwise_distances(coords[np.logical_and(distances<f_radius,~lesion)],coords[lesion], metric='haversine')\n"
   ]
  },
  {
   "cell_type": "code",
   "execution_count": null,
   "id": "432648ca",
   "metadata": {},
   "outputs": [],
   "source": [
    "in_dists = np.min(ds,axis=0)\n",
    "in_dists = in_dists/np.max(in_dists)\n",
    "#in_dists=np.clip(in_dists,0,0.02)\n",
    "out_dists = np.min(ds,axis=1)\n",
    "out_dists = out_dists/np.max(out_dists)\n",
    "#out_dists = np.clip(out_dists,0,0.02)"
   ]
  },
  {
   "cell_type": "code",
   "execution_count": null,
   "id": "6025d26e",
   "metadata": {},
   "outputs": [],
   "source": [
    "dist_m = np.zeros(len(lesion))\n",
    "dist_m[lesion]=in_dists\n",
    "dist_m[np.logical_and(distances<f_radius,~lesion)] = -out_dists\n"
   ]
  },
  {
   "cell_type": "code",
   "execution_count": null,
   "id": "d7adc5a4",
   "metadata": {},
   "outputs": [],
   "source": []
  },
  {
   "cell_type": "code",
   "execution_count": null,
   "id": "bfe9fc33",
   "metadata": {},
   "outputs": [],
   "source": [
    "msp.plot_surf(icos.icospheres[7]['coords'],\n",
    "                 icos.icospheres[7]['faces'],\n",
    "                  dist_m,\n",
    "                  colorbar=False,\n",
    "              rotate=180\n",
    "                 )"
   ]
  },
  {
   "cell_type": "code",
   "execution_count": null,
   "id": "d19837ce",
   "metadata": {},
   "outputs": [],
   "source": [
    "from scipy import interpolate\n",
    "subset = np.arange(10242)\n",
    "f = interpolate.interp2d(coords[subset,0],coords[subset,1],\n",
    "                         lesion[subset].astype(int), kind='quintic')\n",
    "\n",
    "xnew = np.linspace(-np.pi/2,np.pi/2,100)\n",
    "ynew = np.linspace(-np.pi,np.pi,200)\n",
    "znew = f(xnew, ynew)"
   ]
  },
  {
   "cell_type": "code",
   "execution_count": null,
   "id": "f489bbbf",
   "metadata": {},
   "outputs": [],
   "source": [
    "lesion"
   ]
  },
  {
   "cell_type": "code",
   "execution_count": null,
   "id": "95fc964d",
   "metadata": {},
   "outputs": [],
   "source": [
    "plt.imshow(znew)"
   ]
  },
  {
   "cell_type": "code",
   "execution_count": null,
   "id": "31601365",
   "metadata": {},
   "outputs": [],
   "source": [
    "z = 1/(1 + np.exp(-dist_m[m]*10))"
   ]
  },
  {
   "cell_type": "code",
   "execution_count": null,
   "id": "8091304f",
   "metadata": {},
   "outputs": [],
   "source": [
    "def sigmoid_dists(dists):\n",
    "    m = dists==0\n",
    "    z = 1/(1 + np.exp(-dists*10))\n",
    "    z[m]=0\n",
    "    return z"
   ]
  },
  {
   "cell_type": "code",
   "execution_count": null,
   "id": "14bc5a8e",
   "metadata": {},
   "outputs": [],
   "source": [
    "plt.scatter(dist_m[m],z)"
   ]
  },
  {
   "cell_type": "code",
   "execution_count": null,
   "id": "0a1c37e7",
   "metadata": {},
   "outputs": [],
   "source": [
    "smoothed_mask = sigmoid_dists(dist_m)"
   ]
  },
  {
   "cell_type": "code",
   "execution_count": null,
   "id": "688358b4",
   "metadata": {},
   "outputs": [],
   "source": [
    "msp.plot_surf(icos.icospheres[7]['coords'],\n",
    "                 icos.icospheres[7]['faces'],\n",
    "                  smoothed_mask,\n",
    "                  colorbar=False,\n",
    "              rotate=180\n",
    "                 )"
   ]
  },
  {
   "cell_type": "code",
   "execution_count": null,
   "id": "0ba31527",
   "metadata": {},
   "outputs": [],
   "source": [
    "plt.hist(smoothed_mask,100)"
   ]
  },
  {
   "cell_type": "code",
   "execution_count": null,
   "id": "2727d72d",
   "metadata": {},
   "outputs": [],
   "source": []
  }
 ],
 "metadata": {
  "kernelspec": {
   "display_name": "meld_graph",
   "language": "python",
   "name": "meld_graph"
  },
  "language_info": {
   "codemirror_mode": {
    "name": "ipython",
    "version": 3
   },
   "file_extension": ".py",
   "mimetype": "text/x-python",
   "name": "python",
   "nbconvert_exporter": "python",
   "pygments_lexer": "ipython3",
   "version": "3.9.13"
  }
 },
 "nbformat": 4,
 "nbformat_minor": 5
}
